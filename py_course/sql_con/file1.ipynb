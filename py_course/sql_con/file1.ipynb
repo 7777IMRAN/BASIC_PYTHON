{
 "cells": [
  {
   "cell_type": "code",
   "execution_count": 1,
   "metadata": {},
   "outputs": [
    {
     "name": "stdout",
     "output_type": "stream",
     "text": [
      "<sqlite3.Connection object at 0x000001A4D5FA2340>\n",
      "<sqlite3.Cursor object at 0x000001A4D61DBDC0>\n"
     ]
    }
   ],
   "source": [
    "import sqlite3 as sq        #import the sqlite3 module\n",
    "db=sq.connect('employee.db')    #create the connection in between sqlite3 to python\n",
    "print(db)\n",
    "cus=db.cursor() #create the sqlite3 cursor inside the python\n",
    "print(cus)\n",
    "\n",
    "# cus.execute('create table employee(id int,name varchar(20))') #to execute the query\n",
    "\n",
    "# cus.executemany('create table employee(id int,name varchar(20))')   #to execute the multiple query\n",
    "\n",
    "cus.fetchall()  #it convert sql data to python data and it will fetch all the record\n",
    "\n",
    "cus.fetchone()  #it convert sql data to python data and it will fetch one record\n",
    "\n",
    "cus.fetchmany() #it convert sql data to python data , it will fetch the records based on size\n",
    "\n",
    "db.commit() #to save all the transactions\n",
    "\n",
    "# db.close()  #to close the db connection\n"
   ]
  },
  {
   "cell_type": "code",
   "execution_count": 4,
   "metadata": {},
   "outputs": [],
   "source": [
    "#configuration\n",
    "import sqlite3 as sq        #import the sqlite3 module\n",
    "db=sq.connect('student.sqlite3')\n",
    "cur=db.cursor()"
   ]
  },
  {
   "cell_type": "code",
   "execution_count": 7,
   "metadata": {},
   "outputs": [
    {
     "name": "stdout",
     "output_type": "stream",
     "text": [
      "-1 row affected\n"
     ]
    }
   ],
   "source": [
    "# query='''create table student(\n",
    "# sid int primary key,\n",
    "# name varchar(50),\n",
    "# age int,\n",
    "# email varchar(50) unique,\n",
    "# phone bigint unique,\n",
    "# address varchar(100),\n",
    "# marks int)'''\n",
    "\n",
    "# cur.execute(query)\n",
    "# print(cur.rowcount,'row affected')"
   ]
  },
  {
   "cell_type": "code",
   "execution_count": 8,
   "metadata": {},
   "outputs": [],
   "source": [
    "db.commit()"
   ]
  },
  {
   "cell_type": "code",
   "execution_count": 16,
   "metadata": {},
   "outputs": [
    {
     "name": "stdout",
     "output_type": "stream",
     "text": [
      "1 row created\n"
     ]
    }
   ],
   "source": [
    "query='''insert into student(sid,name,age,email,phone,address,marks)\n",
    "values(2,'gopi',26,'gopi@gmail.com',878781235,'hyd',98)'''\n",
    "cur.execute(query)\n",
    "print(cur.rowcount,'row created')\n",
    "db.commit()"
   ]
  },
  {
   "cell_type": "code",
   "execution_count": 29,
   "metadata": {},
   "outputs": [
    {
     "name": "stdout",
     "output_type": "stream",
     "text": [
      "[(1, 'imran', 21, 'imran@gmail.com', 878789252, 'hyd', 77), (2, 'gopi', 26, 'kumar@gmail.com', 878781235, 'hyd', 98)]\n",
      "(1, 'imran', 21, 'imran@gmail.com', 878789252, 'hyd', 77)\n",
      "(2, 'gopi', 26, 'kumar@gmail.com', 878781235, 'hyd', 98)\n"
     ]
    }
   ],
   "source": [
    "query='''select * from student'''\n",
    "cur.execute(query)\n",
    "res=cur.fetchall() \n",
    "print(res) \n",
    "for i in res:\n",
    "    print(i)"
   ]
  },
  {
   "cell_type": "code",
   "execution_count": 31,
   "metadata": {},
   "outputs": [
    {
     "name": "stdout",
     "output_type": "stream",
     "text": [
      "1 row updated\n"
     ]
    }
   ],
   "source": [
    "query='''update student set email='kumar@gmail.com' where sid=2'''\n",
    "cur.execute(query)\n",
    "print(cur.rowcount,'row updated')\n",
    "db.commit()\n"
   ]
  },
  {
   "cell_type": "code",
   "execution_count": 13,
   "metadata": {},
   "outputs": [
    {
     "name": "stdout",
     "output_type": "stream",
     "text": [
      "1 row updated\n"
     ]
    }
   ],
   "source": [
    "query='''delete from student where sid=2'''\n",
    "cur.execute(query)\n",
    "print(cur.rowcount,'row updated')\n",
    "\n"
   ]
  },
  {
   "cell_type": "code",
   "execution_count": 23,
   "metadata": {},
   "outputs": [],
   "source": [
    "def insert_record(sid,name,age,email,phone,address,marks):\n",
    "    query='''insert into student(sid,name,age,email,phone,address,marks)\n",
    "values(?,?,?,?,?,?,?)'''\n",
    "    val=[sid,name,age,email,phone,address,marks]\n",
    "    cur.execute(query,val)\n",
    "    print(cur.rowcount,'row created')\n",
    "    db.commit()\n",
    "\n",
    "# insert_record(3,'khan',23,'khan@gmail.com',934543432,'hyd',67)\n"
   ]
  },
  {
   "cell_type": "code",
   "execution_count": 2,
   "metadata": {},
   "outputs": [],
   "source": [
    "def fetch_record():\n",
    "    query='''select * from student'''\n",
    "    cur.execute(query)\n",
    "    for i in cur.fetchall():\n",
    "        print(i)\n",
    "# fetch_record()"
   ]
  },
  {
   "cell_type": "code",
   "execution_count": 8,
   "metadata": {},
   "outputs": [],
   "source": [
    "def update_record(sid,phone,marks):\n",
    "    query='''update student set phone=? , marks=? where sid=?'''\n",
    "    val=[phone,marks,sid]\n",
    "    cur.execute(query,val)\n",
    "    print(cur.rowcount,'row created')\n",
    "    db.commit()\n",
    "# update_record(3,6542635,54)"
   ]
  },
  {
   "cell_type": "code",
   "execution_count": 19,
   "metadata": {},
   "outputs": [
    {
     "name": "stdout",
     "output_type": "stream",
     "text": [
      "1 row created\n"
     ]
    }
   ],
   "source": [
    "def delete_record(sid):\n",
    "\n",
    "    query='''delete from student where sid=?'''\n",
    "    val=[sid]\n",
    "    cur.execute(query,val)\n",
    "    print(cur.rowcount,'row created')\n",
    "    db.commit()\n",
    "# delete_record(3)"
   ]
  },
  {
   "cell_type": "code",
   "execution_count": 9,
   "metadata": {},
   "outputs": [
    {
     "name": "stdout",
     "output_type": "stream",
     "text": [
      "1 row created\n"
     ]
    }
   ],
   "source": [
    "def main():\n",
    "    m=int(input('choose the option:\\n1:insert\\n2:fetch\\n3:update\\n:delete\\n5:exit'))\n",
    "    match m:\n",
    "        case 1:\n",
    "            insert_record(int(input('enter the sid')),\n",
    "                          input('enter the name'),\n",
    "                          int(input('enter the age')),\n",
    "                          input('enter the mail'),\n",
    "                          int(input('enter the phone')),\n",
    "                          input('enter the address'),\n",
    "                          int(input('enter the marks')))\n",
    "        case 2:\n",
    "            fetch_record()\n",
    "        \n",
    "        case 3:\n",
    "            update_record(int(input('enter the sid')),int(input('enter the phone')),int(input('enter the marks')))\n",
    "        \n",
    "        case 4:\n",
    "            delete_record(int(input('enter the sid')))\n",
    "        \n",
    "        case __:\n",
    "            return\n",
    "    \n",
    "    # main()\n",
    "main()\n"
   ]
  }
 ],
 "metadata": {
  "kernelspec": {
   "display_name": "Python 3",
   "language": "python",
   "name": "python3"
  },
  "language_info": {
   "codemirror_mode": {
    "name": "ipython",
    "version": 3
   },
   "file_extension": ".py",
   "mimetype": "text/x-python",
   "name": "python",
   "nbconvert_exporter": "python",
   "pygments_lexer": "ipython3",
   "version": "3.10.7"
  }
 },
 "nbformat": 4,
 "nbformat_minor": 2
}
