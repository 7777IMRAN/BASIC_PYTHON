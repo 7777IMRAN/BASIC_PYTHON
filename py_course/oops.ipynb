{
 "cells": [
  {
   "cell_type": "code",
   "execution_count": 1,
   "metadata": {},
   "outputs": [],
   "source": [
    "class mobile:\n",
    "    cname='iphone'\n",
    "    nodel=None\n",
    "    price=None\n",
    "    ram=None\n",
    "    rom=None"
   ]
  },
  {
   "cell_type": "code",
   "execution_count": 13,
   "metadata": {},
   "outputs": [],
   "source": [
    "obj=mobile()\n",
    "obj2=mobile()\n",
    "obj3=mobile()"
   ]
  },
  {
   "cell_type": "code",
   "execution_count": 4,
   "metadata": {},
   "outputs": [
    {
     "data": {
      "text/plain": [
       "mappingproxy({'__module__': '__main__',\n",
       "              'cname': 'iphone',\n",
       "              'nodel': None,\n",
       "              'price': None,\n",
       "              'ram': None,\n",
       "              'rom': None,\n",
       "              '__dict__': <attribute '__dict__' of 'mobile' objects>,\n",
       "              '__weakref__': <attribute '__weakref__' of 'mobile' objects>,\n",
       "              '__doc__': None})"
      ]
     },
     "execution_count": 4,
     "metadata": {},
     "output_type": "execute_result"
    }
   ],
   "source": [
    "mobile.__dict__"
   ]
  },
  {
   "cell_type": "code",
   "execution_count": 14,
   "metadata": {},
   "outputs": [
    {
     "data": {
      "text/plain": [
       "{}"
      ]
     },
     "execution_count": 14,
     "metadata": {},
     "output_type": "execute_result"
    }
   ],
   "source": [
    "obj.__dict__\n",
    "obj2.__dict__\n",
    "obj3.__dict__"
   ]
  },
  {
   "cell_type": "code",
   "execution_count": 12,
   "metadata": {},
   "outputs": [
    {
     "name": "stdout",
     "output_type": "stream",
     "text": [
      "iphone None\n",
      "iphone None\n"
     ]
    }
   ],
   "source": [
    "print(mobile.cname,mobile.price)\n",
    "print(obj.cname,obj.price)"
   ]
  },
  {
   "cell_type": "code",
   "execution_count": null,
   "metadata": {},
   "outputs": [],
   "source": [
    "print(mobile.cname,mobile.price)\n",
    "print(obj.cname,obj.price)"
   ]
  },
  {
   "cell_type": "markdown",
   "metadata": {},
   "source": [
    "02/11/23"
   ]
  },
  {
   "cell_type": "code",
   "execution_count": 4,
   "metadata": {},
   "outputs": [
    {
     "name": "stdout",
     "output_type": "stream",
     "text": [
      "ONEPLUS 28000 {'cname': 'ONEPLUS', 'model': 'oneplus 13', 'price': 28000, 'ram': '8gb', 'rom': '128gb'}\n"
     ]
    }
   ],
   "source": [
    "class mobile:  #type-1\n",
    "    cname='iphone'\n",
    "    model=None\n",
    "    price=None\n",
    "    ram=None\n",
    "    rom=None\n",
    "\n",
    "obj1=mobile()\n",
    "obj1.cname='ONEPLUS'\n",
    "obj1.model='oneplus 13'\n",
    "obj1.price=28000\n",
    "obj1.ram='8gb'\n",
    "obj1.rom='128gb'\n",
    "\n",
    "print(obj1.cname,obj1.price,obj1.__dict__)"
   ]
  },
  {
   "cell_type": "code",
   "execution_count": 7,
   "metadata": {},
   "outputs": [
    {
     "name": "stdout",
     "output_type": "stream",
     "text": [
      "{}\n",
      "oneplus 11 {'cname': 'oneplus 11', 'model': '+11', 'price': 39000, 'ram': '8gb', 'rom': '256gb'}\n",
      "39000\n"
     ]
    }
   ],
   "source": [
    "class mobile:  #type-2\n",
    "    cname='iphone'\n",
    "    model=None\n",
    "    price=None\n",
    "    ram=None\n",
    "    rom=None\n",
    "# print(mobile.price)\n",
    "obj2=mobile()\n",
    "# print(obj2)\n",
    "def create(self,m_cname,m_model,m_price,m_ram,m_rom):\n",
    "    print(self.__dict__)\n",
    "    self.cname=m_cname\n",
    "    self.model=m_model\n",
    "    self.price=m_price\n",
    "    self.ram=m_ram\n",
    "    self.rom=m_rom\n",
    "    print(self.cname,self.__dict__)\n",
    "create(obj2,'oneplus 11','+11',39000,'8gb','256gb')\n",
    "print(obj2.price)\n",
    "\n"
   ]
  },
  {
   "cell_type": "code",
   "execution_count": 12,
   "metadata": {},
   "outputs": [
    {
     "name": "stdout",
     "output_type": "stream",
     "text": [
      "{'cname': 'oneplus ', 'model': '+13', 'price': 50000, 'ram': '16gb', 'rom': '512gb'}\n",
      "oneplus  {'cname': 'oneplus ', 'model': '+13', 'price': 50000, 'ram': '16gb', 'rom': '512gb'}\n",
      "<__main__.mobile object at 0x00000120CB047A60>\n"
     ]
    }
   ],
   "source": [
    "#type-3\n",
    "class mobile:\n",
    "    def create(self,m_cname,m_model,m_price,m_ram,m_rom):\n",
    "        print(self.__dict__)\n",
    "        self.cname=m_cname\n",
    "        self.model=m_model\n",
    "        self.price=m_price\n",
    "        self.ram=m_ram\n",
    "        self.rom=m_rom\n",
    "        print(self.cname,self.__dict__)\n",
    "obj3=mobile()\n",
    "create(obj2,'oneplus ','+13',50000,'16gb','512gb')\n",
    "# print(mobile())"
   ]
  },
  {
   "cell_type": "code",
   "execution_count": 11,
   "metadata": {},
   "outputs": [
    {
     "name": "stdout",
     "output_type": "stream",
     "text": [
      "{}\n",
      "oneplus  {'cname': 'oneplus ', 'model': '+13', 'price': 50000, 'ram': '16gb', 'rom': '512gb'}\n"
     ]
    }
   ],
   "source": [
    "#constructor  #type-4  \n",
    "class mobile:\n",
    "    def __init__(self,m_cname,m_model,m_price,m_ram,m_rom):\n",
    "        print(self.__dict__)\n",
    "        self.cname=m_cname\n",
    "        self.model=m_model\n",
    "        self.price=m_price\n",
    "        self.ram=m_ram\n",
    "        self.rom=m_rom\n",
    "        print(self.cname,self.__dict__)\n",
    "obj4=mobile('oneplus ','+13',50000,'16gb','512gb')\n",
    "# print(mobile())"
   ]
  },
  {
   "cell_type": "code",
   "execution_count": 6,
   "metadata": {},
   "outputs": [
    {
     "name": "stdout",
     "output_type": "stream",
     "text": [
      "JSP ['JAVA', 'WEB', 'SQL', 'FRAMWORK']\n",
      "jspiders ['JAVA', 'WEB', 'SQL', 'FRAMWORK']\n",
      "jspiders ['JAVA', 'WEB', 'SQL', 'FRAMWORK'] 35000\n"
     ]
    },
    {
     "ename": "AttributeError",
     "evalue": "type object 'collage' has no attribute 'subjects'",
     "output_type": "error",
     "traceback": [
      "\u001b[1;31m---------------------------------------------------------------------------\u001b[0m",
      "\u001b[1;31mAttributeError\u001b[0m                            Traceback (most recent call last)",
      "\u001b[1;32mc:\\Users\\Shaik Imran\\OneDrive\\Documents\\GitHub\\BASIC_PYTHON\\py_course\\oops.ipynb Cell 12\u001b[0m line \u001b[0;36m1\n\u001b[0;32m     <a href='vscode-notebook-cell:/c%3A/Users/Shaik%20Imran/OneDrive/Documents/GitHub/BASIC_PYTHON/py_course/oops.ipynb#X14sZmlsZQ%3D%3D?line=9'>10</a>\u001b[0m \u001b[39mprint\u001b[39m(collage\u001b[39m.\u001b[39mcname,collage\u001b[39m.\u001b[39msubjects,collage\u001b[39m.\u001b[39mfee)\n\u001b[0;32m     <a href='vscode-notebook-cell:/c%3A/Users/Shaik%20Imran/OneDrive/Documents/GitHub/BASIC_PYTHON/py_course/oops.ipynb#X14sZmlsZQ%3D%3D?line=10'>11</a>\u001b[0m \u001b[39mdel\u001b[39;00m collage\u001b[39m.\u001b[39msubjects\n\u001b[1;32m---> <a href='vscode-notebook-cell:/c%3A/Users/Shaik%20Imran/OneDrive/Documents/GitHub/BASIC_PYTHON/py_course/oops.ipynb#X14sZmlsZQ%3D%3D?line=11'>12</a>\u001b[0m \u001b[39mprint\u001b[39m(collage\u001b[39m.\u001b[39;49msubjects)\n",
      "\u001b[1;31mAttributeError\u001b[0m: type object 'collage' has no attribute 'subjects'"
     ]
    }
   ],
   "source": [
    "#static states\n",
    "class collage:\n",
    "    cname='JSP'\n",
    "    subjects=['JAVA','WEB','SQL','FRAMWORK']\n",
    "\n",
    "print(collage.cname,collage.subjects)  #fetching attributes \n",
    "collage.cname='jspiders'               #modification\n",
    "print(collage.cname,collage.subjects)\n",
    "collage.fee=35000                      #adding new state (attribute) \n",
    "print(collage.cname,collage.subjects,collage.fee)\n",
    "del collage.subjects                   #deleting attribute\n",
    "print(collage.subjects)"
   ]
  },
  {
   "cell_type": "code",
   "execution_count": 15,
   "metadata": {},
   "outputs": [
    {
     "name": "stdout",
     "output_type": "stream",
     "text": [
      "imran 7777 1\n",
      "IMRAN KHAN 7777 1\n",
      "IMRAN KHAN 7777 1 9929583938\n",
      "IMRAN KHAN 7777 9929583938\n"
     ]
    },
    {
     "ename": "AttributeError",
     "evalue": "'collage' object has no attribute 'class_no'",
     "output_type": "error",
     "traceback": [
      "\u001b[1;31m---------------------------------------------------------------------------\u001b[0m",
      "\u001b[1;31mAttributeError\u001b[0m                            Traceback (most recent call last)",
      "\u001b[1;32mc:\\Users\\Shaik Imran\\OneDrive\\Documents\\GitHub\\BASIC_PYTHON\\py_course\\oops.ipynb Cell 13\u001b[0m line \u001b[0;36m1\n\u001b[0;32m     <a href='vscode-notebook-cell:/c%3A/Users/Shaik%20Imran/OneDrive/Documents/GitHub/BASIC_PYTHON/py_course/oops.ipynb#X15sZmlsZQ%3D%3D?line=13'>14</a>\u001b[0m \u001b[39mdel\u001b[39;00m stu\u001b[39m.\u001b[39mclass_no\n\u001b[0;32m     <a href='vscode-notebook-cell:/c%3A/Users/Shaik%20Imran/OneDrive/Documents/GitHub/BASIC_PYTHON/py_course/oops.ipynb#X15sZmlsZQ%3D%3D?line=14'>15</a>\u001b[0m \u001b[39mprint\u001b[39m(stu\u001b[39m.\u001b[39mname,stu\u001b[39m.\u001b[39mid,stu\u001b[39m.\u001b[39mphone)\n\u001b[1;32m---> <a href='vscode-notebook-cell:/c%3A/Users/Shaik%20Imran/OneDrive/Documents/GitHub/BASIC_PYTHON/py_course/oops.ipynb#X15sZmlsZQ%3D%3D?line=15'>16</a>\u001b[0m \u001b[39mprint\u001b[39m(stu\u001b[39m.\u001b[39;49mclass_no)\n",
      "\u001b[1;31mAttributeError\u001b[0m: 'collage' object has no attribute 'class_no'"
     ]
    }
   ],
   "source": [
    "#non-static states\n",
    "class collage:\n",
    "    def __init__(self,name,id,class_no):\n",
    "        self.name=name\n",
    "        self.id=id\n",
    "        self.class_no=class_no\n",
    "\n",
    "stu=collage('imran',7777,1)\n",
    "print(stu.name,stu.id,stu.class_no)\n",
    "stu.name='IMRAN KHAN'\n",
    "print(stu.name,stu.id,stu.class_no)\n",
    "stu.phone=9929583938\n",
    "print(stu.name,stu.id,stu.class_no,stu.phone)\n",
    "del stu.class_no\n",
    "print(stu.name,stu.id,stu.phone)\n",
    "print(stu.class_no)"
   ]
  },
  {
   "cell_type": "markdown",
   "metadata": {},
   "source": [
    "@classmethod:\n",
    "it will assign the class address inside the function"
   ]
  },
  {
   "cell_type": "markdown",
   "metadata": {},
   "source": [
    "Behaviours or functionalities:\n",
    ". Thee are the methods that are used to perform some operation/functionalities,\n",
    "  store or manipulate the states (create/access/modify/delete) inside the class object.\n",
    ". These are the features that are given to the class or an object to perform some behaviours are written in the form of mithods(functions).\n",
    ". There are 3 different types of mithods.\n",
    "        A. classmethod.\n",
    "        B. objectmethod.\n",
    "        C. staticmethod"
   ]
  },
  {
   "cell_type": "markdown",
   "metadata": {},
   "source": [
    "Class methods:\n",
    ". This is one type of method that performs the operation on static states (class states)\n",
    ". It is a method type in which you can create,access,modify,delete the states of class attributes.\n",
    ". Here we have to define the functon with arguments.\n",
    ". Function contains minimum one argument. (the first argument name shuld be cls)\n",
    ". cls is user define argument, will holds the class address of the current class.\n",
    ". As an industrial rule we have to use argument name class cls.\n",
    ". To make a classmethod, we need to use a decorator called @classmethod.\n",
    ". @classmethod will inject class address inside the first argument of the function definition.\n",
    "\n",
    "SYNTAX: (TO write the class method)\n",
    "\n",
    "    @classmethod\n",
    "    def method_name(cls,arguments):\n",
    "            any type of operation\n",
    "    \n",
    "NOTE:\n",
    "    1. CLS argument will holds the class address by the help of @classmethod decorator.\n",
    "    2. classmethod we should define inside the class only.\n",
    "    3. First arguments should be mandatory and remaining arguments are not mandatory.\n",
    "\n",
    "SYNTAX:( to calling the class method)\n",
    "        classname.method_name(arguments)\n",
    "        or\n",
    "        objectname.method_name(arguments)"
   ]
  },
  {
   "cell_type": "code",
   "execution_count": 16,
   "metadata": {},
   "outputs": [
    {
     "name": "stdout",
     "output_type": "stream",
     "text": [
      "JSP ['JAVA', 'WEB', 'SQL', 'FRAMWORK']\n",
      "JSP ['JAVA', 'WEB', 'SQL', 'FRAMWORK']\n"
     ]
    }
   ],
   "source": [
    "#static states\n",
    "class collage:\n",
    "    cname='JSP'\n",
    "    subjects=['JAVA','WEB','SQL','FRAMWORK']\n",
    "\n",
    "print(collage.cname,collage.subjects)  #display the value\n",
    "\n"
   ]
  },
  {
   "cell_type": "code",
   "execution_count": null,
   "metadata": {},
   "outputs": [],
   "source": [
    "#static states with function outside the class\n",
    "class collage:\n",
    "    cname='JSP'\n",
    "    subjects=['JAVA','WEB','SQL','FRAMWORK']\n",
    "\n",
    "def display(cls):\n",
    "    print(cls.cname,cls.subjects)\n",
    "display(collage)"
   ]
  },
  {
   "cell_type": "code",
   "execution_count": 17,
   "metadata": {},
   "outputs": [
    {
     "name": "stdout",
     "output_type": "stream",
     "text": [
      "JSP ['JAVA', 'WEB', 'SQL', 'FRAMWORK']\n"
     ]
    }
   ],
   "source": [
    "#static states with function inside the class\n",
    "class collage:\n",
    "    cname='JSP'\n",
    "    subjects=['JAVA','WEB','SQL','FRAMWORK']\n",
    "\n",
    "    def display(cls):\n",
    "        print(cls.cname,cls.subjects)\n",
    "collage.display(collage)"
   ]
  },
  {
   "cell_type": "code",
   "execution_count": 22,
   "metadata": {},
   "outputs": [
    {
     "name": "stdout",
     "output_type": "stream",
     "text": [
      "JSP ['JAVA', 'WEB', 'SQL', 'FRAMWORK']\n"
     ]
    }
   ],
   "source": [
    "class collage:\n",
    "    cname='JSP'\n",
    "    subjects=['JAVA','WEB','SQL','FRAMWORK']\n",
    "\n",
    "    @classmethod                              #using class method (decorator)\n",
    "    def display(cls):\n",
    "        print(cls.cname,cls.subjects)\n",
    "collage.display()\n",
    "# display(collage)  -----/\n"
   ]
  },
  {
   "cell_type": "code",
   "execution_count": 24,
   "metadata": {},
   "outputs": [],
   "source": [
    "#static states -- functionalities (display,modify,concate,delete)\n",
    "class collage:\n",
    "    cname='JSP'\n",
    "    subjects=['JAVA','WEB','SQL','FRAMWORK']\n",
    "\n",
    "    @classmethod                              #using class method (decorator)\n",
    "    def display(cls):\n",
    "        print(cls.cname,cls.subjects)\n",
    "    @classmethod\n",
    "    def modify(cls):\n",
    "        n=int(input('choose the option:\\n1.cname\\n2.subjects\\n3.exit'))\n",
    "        match n:\n",
    "            case 1:\n",
    "                cls.cname=input('enter the new cname:')\n",
    "            case 2:\n",
    "                cls.subjects=eval('enter the subjects:')\n",
    "            case 3:\n",
    "                return\n",
    "        return\n",
    "    @classmethod\n",
    "    def delete(cls):\n",
    "        n=int(input('choose the option:\\n1.cname\\n2.subjects\\n3.exit'))\n",
    "        match n:\n",
    "            case 1:\n",
    "                del cls.cname\n",
    "            case 2:\n",
    "               del cls.subjects\n",
    "            case 3:\n",
    "                return\n",
    "        return\n",
    "\n",
    "    @classmethod\n",
    "    def concate(cls):\n",
    "        cls.email=input('enter the value')\n",
    "        return\n",
    "\n",
    "collage.display()\n",
    "collage.modify()\n",
    "collage.delete()\n",
    "collage.concate()"
   ]
  },
  {
   "cell_type": "markdown",
   "metadata": {},
   "source": [
    "Object methods:\n"
   ]
  },
  {
   "cell_type": "markdown",
   "metadata": {},
   "source": [
    "06-11-23"
   ]
  },
  {
   "cell_type": "code",
   "execution_count": 8,
   "metadata": {},
   "outputs": [
    {
     "name": "stdout",
     "output_type": "stream",
     "text": [
      "{'name': 'imran', 'age': 100, 'phone': 88239829, 'email': 'jkl74jkl@gmail.com'}\n",
      "imran 100 88239829 jkl74jkl@gmail.com\n",
      "imran 100 88239829 khan_sab@gmail.com\n",
      "{'name': 'imran', 'age': 100, 'phone': 88239829, 'email': 'khan_sab@gmail.com', 'passport': True}\n",
      "{'name': 'imran', 'age': 100, 'phone': 88239829, 'passport': True}\n"
     ]
    },
    {
     "ename": "AttributeError",
     "evalue": "'collage' object has no attribute 'email'",
     "output_type": "error",
     "traceback": [
      "\u001b[1;31m---------------------------------------------------------------------------\u001b[0m",
      "\u001b[1;31mAttributeError\u001b[0m                            Traceback (most recent call last)",
      "\u001b[1;32mc:\\Users\\Shaik Imran\\OneDrive\\Documents\\GitHub\\BASIC_PYTHON\\py_course\\oops.ipynb Cell 24\u001b[0m line \u001b[0;36m1\n\u001b[0;32m     <a href='vscode-notebook-cell:/c%3A/Users/Shaik%20Imran/OneDrive/Documents/GitHub/BASIC_PYTHON/py_course/oops.ipynb#X31sZmlsZQ%3D%3D?line=14'>15</a>\u001b[0m \u001b[39mdel\u001b[39;00m imran\u001b[39m.\u001b[39memail\n\u001b[0;32m     <a href='vscode-notebook-cell:/c%3A/Users/Shaik%20Imran/OneDrive/Documents/GitHub/BASIC_PYTHON/py_course/oops.ipynb#X31sZmlsZQ%3D%3D?line=15'>16</a>\u001b[0m \u001b[39mprint\u001b[39m(imran\u001b[39m.\u001b[39m\u001b[39m__dict__\u001b[39m)\n\u001b[1;32m---> <a href='vscode-notebook-cell:/c%3A/Users/Shaik%20Imran/OneDrive/Documents/GitHub/BASIC_PYTHON/py_course/oops.ipynb#X31sZmlsZQ%3D%3D?line=16'>17</a>\u001b[0m \u001b[39mprint\u001b[39m(imran\u001b[39m.\u001b[39mname,imran\u001b[39m.\u001b[39mage,imran\u001b[39m.\u001b[39mphone,imran\u001b[39m.\u001b[39;49memail)\n",
      "\u001b[1;31mAttributeError\u001b[0m: 'collage' object has no attribute 'email'"
     ]
    }
   ],
   "source": [
    "class collage:\n",
    "    def __init__(self,s_name,s_age,s_phone,s_email):\n",
    "        self.name=s_name\n",
    "        self.age=s_age\n",
    "        self.phone=s_phone\n",
    "        self.email=s_email\n",
    "imran=collage('imran',100,88239829,'jkl74jkl@gmail.com')\n",
    "print(imran.__dict__)\n",
    "print(imran.name,imran.age,imran.phone,imran.email)\n",
    "imran.email='khan_sab@gmail.com'\n",
    "print(imran.name,imran.age,imran.phone,imran.email)\n",
    "imran.passport=True\n",
    "print(imran.__dict__)\n",
    "\n",
    "del imran.email\n",
    "print(imran.__dict__)\n",
    "print(imran.name,imran.age,imran.phone,imran.email)\n"
   ]
  },
  {
   "cell_type": "code",
   "execution_count": 17,
   "metadata": {},
   "outputs": [
    {
     "name": "stdout",
     "output_type": "stream",
     "text": [
      "imran 100 88239829 jkl74jkl@gmail.com\n",
      "{'name': 'imran', 'age': 100, 'phone': 88239829, 'email': 'jkl74jkl@gmail.com'}\n"
     ]
    }
   ],
   "source": [
    "class collage:\n",
    "    def __init__(self,s_name,s_age,s_phone,s_email):\n",
    "        self.name=s_name\n",
    "        self.age=s_age\n",
    "        self.phone=s_phone\n",
    "        self.email=s_email\n",
    "imran=collage('imran',100,88239829,'jkl74jkl@gmail.com')\n",
    "\n",
    "def display(self):\n",
    "    print(imran.name,imran.age,imran.phone,imran.email)\n",
    "display(imran)\n",
    "\n",
    "\n",
    "# def modify(self):\n",
    "#     n=int(input('choose 1.name\\n2.age\\n3.phone\\n4.email\\n5.exit'))\n",
    "#     match n:\n",
    "#         case 1:\n",
    "#             self.name=input('enter the name')\n",
    "#         case 2:\n",
    "#             self.age=input('enter the age')\n",
    "#         case 3:\n",
    "#             self.phone=input('enter the new phone NO')\n",
    "#         case 4:\n",
    "#             self.email=input('enter the new email')\n",
    "#         case _:\n",
    "#             return\n",
    "#     return\n",
    "# modify(imran)\n",
    "# display(imran)\n",
    "\n",
    "# def concate(self):\n",
    "#     self.passport=eval(input('passport is there or not:'))\n",
    "# concate(imran)\n",
    "\n",
    "def delete(self):\n",
    "    n=int(input('choose 1.name\\n2.age\\n3.phone\\n4.email\\n5.exit'))\n",
    "    match n:\n",
    "        case 1:\n",
    "            del self.name\n",
    "        case 2:\n",
    "            del self.age\n",
    "        case 3:\n",
    "            del self.phone\n",
    "        case 4:\n",
    "            del self.email\n",
    "        case _:\n",
    "            return\n",
    "    return\n",
    "delete(imran)\n",
    "# display(imran)\n",
    "print(imran.__dict__)"
   ]
  },
  {
   "cell_type": "code",
   "execution_count": 20,
   "metadata": {},
   "outputs": [
    {
     "name": "stdout",
     "output_type": "stream",
     "text": [
      "imran 100 88239829 jkl74jkl@gmail.com\n",
      "imran 100 88239829 jkl74jkl@gmail.com\n",
      "{'name': 'imran', 'age': 100, 'phone': 88239829, 'email': 'jkl74jkl@gmail.com'}\n"
     ]
    }
   ],
   "source": [
    "class collage:\n",
    "    def __init__(self,s_name,s_age,s_phone,s_email):\n",
    "        self.name=s_name\n",
    "        self.age=s_age\n",
    "        self.phone=s_phone\n",
    "        self.email=s_email\n",
    "    def display(self):\n",
    "        print(imran.name,imran.age,imran.phone,imran.email)\n",
    "    display(imran)\n",
    "    def modify(self):\n",
    "        n=int(input('choose 1.name\\n2.age\\n3.phone\\n4.email\\n5.exit'))\n",
    "        match n:\n",
    "            case 1:\n",
    "                self.name=input('enter the name')\n",
    "            case 2:\n",
    "                self.age=input('enter the age')\n",
    "            case 3:\n",
    "                self.phone=input('enter the new phone NO')\n",
    "            case 4:\n",
    "                self.email=input('enter the new email')\n",
    "            case _:\n",
    "                return\n",
    "        return\n",
    "    modify(imran)\n",
    "    display(imran)\n",
    "\n",
    "    def concate(self):\n",
    "        self.passport=eval(input('passport is there or not:'))\n",
    "    concate(imran)\n",
    "def delete(self):\n",
    "    n=int(input('choose 1.name\\n2.age\\n3.phone\\n4.email\\n5.exit'))\n",
    "    match n:\n",
    "        case 1:\n",
    "            del self.name\n",
    "        case 2:\n",
    "            del self.age\n",
    "        case 3:\n",
    "            del self.phone\n",
    "        case 4:\n",
    "            del self.email\n",
    "        case _:\n",
    "            return\n",
    "    return\n",
    "# delete(imran)\n",
    "# display(imran)\n",
    "# print(imran.__dict__)\n",
    "imran=collage('imran',100,88239829,'jkl74jkl@gmail.com')\n",
    "# imran.display()\n",
    "# imran.modify()\n",
    "# imran.display()\n",
    "# imran.concate()\n",
    "# imran.delete()\n",
    "print(imran.__dict__)"
   ]
  }
 ],
 "metadata": {
  "kernelspec": {
   "display_name": "Python 3",
   "language": "python",
   "name": "python3"
  },
  "language_info": {
   "codemirror_mode": {
    "name": "ipython",
    "version": 3
   },
   "file_extension": ".py",
   "mimetype": "text/x-python",
   "name": "python",
   "nbconvert_exporter": "python",
   "pygments_lexer": "ipython3",
   "version": "3.10.7"
  }
 },
 "nbformat": 4,
 "nbformat_minor": 2
}
