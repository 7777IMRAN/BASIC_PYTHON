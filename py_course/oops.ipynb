{
 "cells": [
  {
   "cell_type": "markdown",
   "metadata": {},
   "source": [
    "OBJECT ORIENTED PROGRAMMING:\n",
    ". The phenemenon of working with real word entities or real time objects will leads us to work with the concept called object oriented programming language.\n",
    ". It is used for solving the real-time entity problems.\n",
    ". It is used for storing and manipulating the real-time entity data.\n",
    ". As we are working with real world entities, the built in data-types are not sufficient, enough to store the details of real world entities and\n",
    "  because real world entities will have various types, various properties, various structure, various functionality are present, this all are not suitable to store or retrieve the information by using built-in data-types.\n",
    ". So that we are going to use the user-defined data-types called class and object\n",
    ". through class and object, we are creating our own status(properties) and behaviour (functionalities) related to real world entities.\n",
    "\n",
    "why OOPS?\n",
    " . Organize code and classify data and functions providing a clear structure.\n",
    " . Easy maintenance and modification.\n",
    " . Reduce code, reduce code difficulty, by enabling code reusability.\n",
    " . Inheritance which helps us to inherit data from one class to another class.\n",
    " . Encapsulation, where secure data by implementing private"
   ]
  },
  {
   "cell_type": "code",
   "execution_count": 40,
   "metadata": {},
   "outputs": [],
   "source": [
    "class mobile:\n",
    "    cname='iphone'\n",
    "    nodel=None\n",
    "    price=None\n",
    "    ram=None\n",
    "    rom=None"
   ]
  },
  {
   "cell_type": "code",
   "execution_count": 41,
   "metadata": {},
   "outputs": [],
   "source": [
    "obj=mobile()\n",
    "obj2=mobile()\n",
    "obj3=mobile()"
   ]
  },
  {
   "cell_type": "code",
   "execution_count": 42,
   "metadata": {},
   "outputs": [
    {
     "data": {
      "text/plain": [
       "mappingproxy({'__module__': '__main__',\n",
       "              'cname': 'iphone',\n",
       "              'nodel': None,\n",
       "              'price': None,\n",
       "              'ram': None,\n",
       "              'rom': None,\n",
       "              '__dict__': <attribute '__dict__' of 'mobile' objects>,\n",
       "              '__weakref__': <attribute '__weakref__' of 'mobile' objects>,\n",
       "              '__doc__': None})"
      ]
     },
     "execution_count": 42,
     "metadata": {},
     "output_type": "execute_result"
    }
   ],
   "source": [
    "mobile.__dict__"
   ]
  },
  {
   "cell_type": "code",
   "execution_count": 43,
   "metadata": {},
   "outputs": [
    {
     "data": {
      "text/plain": [
       "{}"
      ]
     },
     "execution_count": 43,
     "metadata": {},
     "output_type": "execute_result"
    }
   ],
   "source": [
    "obj.__dict__\n",
    "obj2.__dict__\n",
    "obj3.__dict__"
   ]
  },
  {
   "cell_type": "code",
   "execution_count": 44,
   "metadata": {},
   "outputs": [
    {
     "name": "stdout",
     "output_type": "stream",
     "text": [
      "iphone None\n",
      "iphone None\n"
     ]
    }
   ],
   "source": [
    "print(mobile.cname,mobile.price)\n",
    "print(obj.cname,obj.price)"
   ]
  },
  {
   "cell_type": "code",
   "execution_count": 45,
   "metadata": {},
   "outputs": [
    {
     "name": "stdout",
     "output_type": "stream",
     "text": [
      "iphone None\n",
      "iphone None\n"
     ]
    }
   ],
   "source": [
    "print(mobile.cname,mobile.price)\n",
    "print(obj.cname,obj.price)"
   ]
  },
  {
   "cell_type": "markdown",
   "metadata": {},
   "source": [
    "02/11/23"
   ]
  },
  {
   "cell_type": "code",
   "execution_count": 46,
   "metadata": {},
   "outputs": [
    {
     "name": "stdout",
     "output_type": "stream",
     "text": [
      "ONEPLUS\n",
      "28000\n"
     ]
    },
    {
     "data": {
      "text/plain": [
       "{'cname': 'ONEPLUS',\n",
       " 'model': 'oneplus 13',\n",
       " 'price': 28000,\n",
       " 'ram': '8gb',\n",
       " 'rom': '128gb'}"
      ]
     },
     "execution_count": 46,
     "metadata": {},
     "output_type": "execute_result"
    }
   ],
   "source": [
    "class mobile:  #type-1\n",
    "    cname='iphone'\n",
    "    model=None\n",
    "    price=None\n",
    "    ram=None\n",
    "    rom=None\n",
    "\n",
    "obj1=mobile()\n",
    "obj1.cname='ONEPLUS'\n",
    "obj1.model='oneplus 13'\n",
    "obj1.price=28000\n",
    "obj1.ram='8gb'\n",
    "obj1.rom='128gb'\n",
    "# obj1.fdf=mobile.rom\n",
    "\n",
    "# print(obj1.cname,obj1.price,obj1.__dict__)\n",
    "print(obj1.cname)\n",
    "print(obj1.price)\n",
    "obj1.__dict__"
   ]
  },
  {
   "cell_type": "code",
   "execution_count": 47,
   "metadata": {},
   "outputs": [
    {
     "name": "stdout",
     "output_type": "stream",
     "text": [
      "{}\n",
      "oneplus 11 {'cname': 'oneplus 11', 'model': '+11', 'price': 39000, 'ram': '8gb', 'rom': '256gb'}\n",
      "39000\n"
     ]
    }
   ],
   "source": [
    "class mobile:  #type-2\n",
    "    cname='iphone'\n",
    "    model=None\n",
    "    price=None\n",
    "    ram=None\n",
    "    rom=None\n",
    "# print(mobile.price)\n",
    "obj2=mobile()\n",
    "# print(obj2)\n",
    "def create(self,m_cname,m_model,m_price,m_ram,m_rom):\n",
    "    print(self.__dict__)\n",
    "    self.cname=m_cname\n",
    "    self.model=m_model\n",
    "    self.price=m_price\n",
    "    self.ram=m_ram\n",
    "    self.rom=m_rom\n",
    "    print(self.cname,self.__dict__)\n",
    "create(obj2,'oneplus 11','+11',39000,'8gb','256gb')\n",
    "print(obj2.price)\n",
    "\n"
   ]
  },
  {
   "cell_type": "code",
   "execution_count": 48,
   "metadata": {},
   "outputs": [
    {
     "name": "stdout",
     "output_type": "stream",
     "text": [
      "{'cname': 'oneplus 11', 'model': '+11', 'price': 39000, 'ram': '8gb', 'rom': '256gb'}\n",
      "oneplus  {'cname': 'oneplus ', 'model': '+13', 'price': 50000, 'ram': '16gb', 'rom': '512gb'}\n"
     ]
    }
   ],
   "source": [
    "#type-3\n",
    "class mobile:\n",
    "    def create(self,m_cname,m_model,m_price,m_ram,m_rom):\n",
    "        print(self.__dict__)\n",
    "        self.cname=m_cname\n",
    "        self.model=m_model\n",
    "        self.price=m_price\n",
    "        self.ram=m_ram\n",
    "        self.rom=m_rom\n",
    "        print(self.cname,self.__dict__)\n",
    "obj3=mobile()\n",
    "create(obj2,'oneplus ','+13',50000,'16gb','512gb')\n",
    "# print(mobile())"
   ]
  },
  {
   "cell_type": "code",
   "execution_count": 49,
   "metadata": {},
   "outputs": [
    {
     "name": "stdout",
     "output_type": "stream",
     "text": [
      "{}\n",
      "oneplus  {'cname': 'oneplus ', 'model': '+13', 'price': 50000, 'ram': '16gb', 'rom': '512gb'}\n"
     ]
    }
   ],
   "source": [
    "#constructor  #type-4  \n",
    "class mobile:\n",
    "    def __init__(self,m_cname,m_model,m_price,m_ram,m_rom):\n",
    "        print(self.__dict__)\n",
    "        self.cname=m_cname\n",
    "        self.model=m_model\n",
    "        self.price=m_price\n",
    "        self.ram=m_ram\n",
    "        self.rom=m_rom\n",
    "        print(self.cname,self.__dict__)\n",
    "obj4=mobile('oneplus ','+13',50000,'16gb','512gb')\n",
    "# print(mobile())"
   ]
  },
  {
   "cell_type": "code",
   "execution_count": 50,
   "metadata": {},
   "outputs": [
    {
     "name": "stdout",
     "output_type": "stream",
     "text": [
      "JSP ['JAVA', 'WEB', 'SQL', 'FRAMWORK']\n",
      "jspiders ['JAVA', 'WEB', 'SQL', 'FRAMWORK']\n",
      "jspiders ['JAVA', 'WEB', 'SQL', 'FRAMWORK'] 35000\n"
     ]
    },
    {
     "ename": "AttributeError",
     "evalue": "type object 'collage' has no attribute 'subjects'",
     "output_type": "error",
     "traceback": [
      "\u001b[1;31m---------------------------------------------------------------------------\u001b[0m",
      "\u001b[1;31mAttributeError\u001b[0m                            Traceback (most recent call last)",
      "\u001b[1;32mc:\\Users\\Shaik Imran\\OneDrive\\Documents\\GitHub\\BASIC_PYTHON\\py_course\\oops.ipynb Cell 13\u001b[0m line \u001b[0;36m1\n\u001b[0;32m     <a href='vscode-notebook-cell:/c%3A/Users/Shaik%20Imran/OneDrive/Documents/GitHub/BASIC_PYTHON/py_course/oops.ipynb#X14sZmlsZQ%3D%3D?line=9'>10</a>\u001b[0m \u001b[39mprint\u001b[39m(collage\u001b[39m.\u001b[39mcname,collage\u001b[39m.\u001b[39msubjects,collage\u001b[39m.\u001b[39mfee)\n\u001b[0;32m     <a href='vscode-notebook-cell:/c%3A/Users/Shaik%20Imran/OneDrive/Documents/GitHub/BASIC_PYTHON/py_course/oops.ipynb#X14sZmlsZQ%3D%3D?line=10'>11</a>\u001b[0m \u001b[39mdel\u001b[39;00m collage\u001b[39m.\u001b[39msubjects                   \u001b[39m#deleting attribute\u001b[39;00m\n\u001b[1;32m---> <a href='vscode-notebook-cell:/c%3A/Users/Shaik%20Imran/OneDrive/Documents/GitHub/BASIC_PYTHON/py_course/oops.ipynb#X14sZmlsZQ%3D%3D?line=11'>12</a>\u001b[0m \u001b[39mprint\u001b[39m(collage\u001b[39m.\u001b[39;49msubjects)\n",
      "\u001b[1;31mAttributeError\u001b[0m: type object 'collage' has no attribute 'subjects'"
     ]
    }
   ],
   "source": [
    "#static states\n",
    "class collage:\n",
    "    cname='JSP'\n",
    "    subjects=['JAVA','WEB','SQL','FRAMWORK']\n",
    "\n",
    "print(collage.cname,collage.subjects)  #fetching attributes \n",
    "collage.cname='jspiders'               #modification\n",
    "print(collage.cname,collage.subjects)\n",
    "collage.fee=35000                      #adding new state (attribute) \n",
    "print(collage.cname,collage.subjects,collage.fee)\n",
    "del collage.subjects                   #deleting attribute\n",
    "print(collage.subjects)"
   ]
  },
  {
   "cell_type": "code",
   "execution_count": null,
   "metadata": {},
   "outputs": [
    {
     "name": "stdout",
     "output_type": "stream",
     "text": [
      "imran 7777 1\n",
      "IMRAN KHAN 7777 1\n",
      "IMRAN KHAN 7777 1 9929583938\n",
      "IMRAN KHAN 7777 9929583938\n"
     ]
    },
    {
     "ename": "AttributeError",
     "evalue": "'collage' object has no attribute 'class_no'",
     "output_type": "error",
     "traceback": [
      "\u001b[1;31m---------------------------------------------------------------------------\u001b[0m",
      "\u001b[1;31mAttributeError\u001b[0m                            Traceback (most recent call last)",
      "\u001b[1;32mc:\\Users\\Shaik Imran\\OneDrive\\Documents\\GitHub\\BASIC_PYTHON\\py_course\\oops.ipynb Cell 13\u001b[0m line \u001b[0;36m1\n\u001b[0;32m     <a href='vscode-notebook-cell:/c%3A/Users/Shaik%20Imran/OneDrive/Documents/GitHub/BASIC_PYTHON/py_course/oops.ipynb#X15sZmlsZQ%3D%3D?line=13'>14</a>\u001b[0m \u001b[39mdel\u001b[39;00m stu\u001b[39m.\u001b[39mclass_no\n\u001b[0;32m     <a href='vscode-notebook-cell:/c%3A/Users/Shaik%20Imran/OneDrive/Documents/GitHub/BASIC_PYTHON/py_course/oops.ipynb#X15sZmlsZQ%3D%3D?line=14'>15</a>\u001b[0m \u001b[39mprint\u001b[39m(stu\u001b[39m.\u001b[39mname,stu\u001b[39m.\u001b[39mid,stu\u001b[39m.\u001b[39mphone)\n\u001b[1;32m---> <a href='vscode-notebook-cell:/c%3A/Users/Shaik%20Imran/OneDrive/Documents/GitHub/BASIC_PYTHON/py_course/oops.ipynb#X15sZmlsZQ%3D%3D?line=15'>16</a>\u001b[0m \u001b[39mprint\u001b[39m(stu\u001b[39m.\u001b[39;49mclass_no)\n",
      "\u001b[1;31mAttributeError\u001b[0m: 'collage' object has no attribute 'class_no'"
     ]
    }
   ],
   "source": [
    "#non-static states\n",
    "class collage:\n",
    "    def __init__(self,name,id,class_no):\n",
    "        self.name=name\n",
    "        self.id=id\n",
    "        self.class_no=class_no\n",
    "\n",
    "stu=collage('imran',7777,1)\n",
    "print(stu.name,stu.id,stu.class_no)\n",
    "stu.name='IMRAN KHAN'\n",
    "print(stu.name,stu.id,stu.class_no)\n",
    "stu.phone=9929583938\n",
    "print(stu.name,stu.id,stu.class_no,stu.phone)\n",
    "del stu.class_no\n",
    "print(stu.name,stu.id,stu.phone)\n",
    "print(stu.class_no)"
   ]
  },
  {
   "cell_type": "markdown",
   "metadata": {},
   "source": [
    "@classmethod:\n",
    "it will assign the class address inside the function"
   ]
  },
  {
   "cell_type": "markdown",
   "metadata": {},
   "source": [
    "Behaviours or functionalities:\n",
    ". Thee are the methods that are used to perform some operation/functionalities,\n",
    "  store or manipulate the states (create/access/modify/delete) inside the class object.\n",
    ". These are the features that are given to the class or an object to perform some behaviours are written in the form of methods(functions).\n",
    ". There are 3 different types of methods.\n",
    "        A. classmethod.\n",
    "        B. objectmethod.\n",
    "        C. staticmethod"
   ]
  },
  {
   "cell_type": "markdown",
   "metadata": {},
   "source": [
    "Class methods:\n",
    ". This is one type of method that performs the operation on static states (class states)\n",
    ". It is a method type in which you can create,access,modify,delete the states of class attributes.\n",
    ". Here we have to define the functon with arguments.\n",
    ". Function contains minimum one argument. (the first argument name shuld be cls)\n",
    ". cls is user define argument, will holds the class address of the current class.\n",
    ". As an industrial rule we have to use argument name class cls.\n",
    ". To make a classmethod, we need to use a decorator called @classmethod.\n",
    ". @classmethod will inject class address inside the first argument of the function definition.\n",
    "\n",
    "SYNTAX: (TO write the class method)\n",
    "\n",
    "    @classmethod\n",
    "    def method_name(cls,arguments):\n",
    "            any type of operation\n",
    "    \n",
    "NOTE:\n",
    "    1. CLS argument will holds the class address by the help of @classmethod decorator.\n",
    "    2. classmethod we should define inside the class only.\n",
    "    3. First arguments should be mandatory and remaining arguments are not mandatory.\n",
    "\n",
    "SYNTAX:( to calling the class method)\n",
    "        classname.method_name(arguments)\n",
    "        or\n",
    "        objectname.method_name(arguments)"
   ]
  },
  {
   "cell_type": "code",
   "execution_count": null,
   "metadata": {},
   "outputs": [
    {
     "name": "stdout",
     "output_type": "stream",
     "text": [
      "JSP ['JAVA', 'WEB', 'SQL', 'FRAMWORK']\n",
      "JSP ['JAVA', 'WEB', 'SQL', 'FRAMWORK']\n"
     ]
    }
   ],
   "source": [
    "#static states\n",
    "class collage:\n",
    "    cname='JSP'\n",
    "    subjects=['JAVA','WEB','SQL','FRAMWORK']\n",
    "\n",
    "print(collage.cname,collage.subjects)  #display the value\n",
    "\n"
   ]
  },
  {
   "cell_type": "code",
   "execution_count": null,
   "metadata": {},
   "outputs": [],
   "source": [
    "#static states with function outside the class\n",
    "class collage:\n",
    "    cname='JSP'\n",
    "    subjects=['JAVA','WEB','SQL','FRAMWORK']\n",
    "\n",
    "def display(cls):\n",
    "    print(cls.cname,cls.subjects)\n",
    "display(collage)"
   ]
  },
  {
   "cell_type": "code",
   "execution_count": null,
   "metadata": {},
   "outputs": [
    {
     "name": "stdout",
     "output_type": "stream",
     "text": [
      "JSP ['JAVA', 'WEB', 'SQL', 'FRAMWORK']\n"
     ]
    }
   ],
   "source": [
    "#static states with function inside the class\n",
    "class collage:\n",
    "    cname='JSP'\n",
    "    subjects=['JAVA','WEB','SQL','FRAMWORK']\n",
    "\n",
    "    def display(cls):\n",
    "        print(cls.cname,cls.subjects)\n",
    "collage.display(collage)"
   ]
  },
  {
   "cell_type": "code",
   "execution_count": null,
   "metadata": {},
   "outputs": [
    {
     "name": "stdout",
     "output_type": "stream",
     "text": [
      "JSP ['JAVA', 'WEB', 'SQL', 'FRAMWORK']\n"
     ]
    }
   ],
   "source": [
    "class collage:\n",
    "    cname='JSP'\n",
    "    subjects=['JAVA','WEB','SQL','FRAMWORK']\n",
    "\n",
    "    @classmethod                              #using class method (decorator)\n",
    "    def display(cls):\n",
    "        print(cls.cname,cls.subjects)\n",
    "collage.display()\n",
    "# display(collage)  -----/\n"
   ]
  },
  {
   "cell_type": "code",
   "execution_count": null,
   "metadata": {},
   "outputs": [
    {
     "name": "stdout",
     "output_type": "stream",
     "text": [
      "JSP ['JAVA', 'WEB', 'SQL', 'FRAMWORK']\n"
     ]
    },
    {
     "data": {
      "text/plain": [
       "mappingproxy({'__module__': '__main__',\n",
       "              'cname': 'JSP',\n",
       "              'subjects': ['JAVA', 'WEB', 'SQL', 'FRAMWORK'],\n",
       "              'display': <classmethod(<function collage.display at 0x000001F69F23CE50>)>,\n",
       "              'modify': <classmethod(<function collage.modify at 0x000001F69F23DE10>)>,\n",
       "              'delete': <classmethod(<function collage.delete at 0x000001F69F23DCF0>)>,\n",
       "              'concate': <classmethod(<function collage.concate at 0x000001F69F23E050>)>,\n",
       "              '__dict__': <attribute '__dict__' of 'collage' objects>,\n",
       "              '__weakref__': <attribute '__weakref__' of 'collage' objects>,\n",
       "              '__doc__': None,\n",
       "              'email': 'dfsd545df'})"
      ]
     },
     "execution_count": 39,
     "metadata": {},
     "output_type": "execute_result"
    }
   ],
   "source": [
    "#static states -- functionalities (display,modify,concate,delete)\n",
    "class collage:\n",
    "    cname='JSP'\n",
    "    subjects=['JAVA','WEB','SQL','FRAMWORK']\n",
    "\n",
    "    @classmethod                              #using class method (decorator)\n",
    "    def display(cls):\n",
    "        print(cls.cname,cls.subjects)\n",
    "    @classmethod\n",
    "    def modify(cls):\n",
    "        n=int(input('choose the option:\\n1.cname\\n2.subjects\\n3.exit'))\n",
    "        match n:\n",
    "            case 1:\n",
    "                cls.cname=input('enter the new cname:')\n",
    "            case 2:\n",
    "                cls.subjects=eval('enter the subjects:')\n",
    "            case 3:\n",
    "                return\n",
    "        return\n",
    "    @classmethod\n",
    "    def delete(cls):\n",
    "        n=int(input('choose the option:\\n1.cname\\n2.subjects\\n3.exit'))\n",
    "        match n:\n",
    "            case 1:\n",
    "                del cls.cname\n",
    "            case 2:\n",
    "               del cls.subjects\n",
    "            case 3:\n",
    "                return\n",
    "        return\n",
    "\n",
    "    @classmethod\n",
    "    def concate(cls):\n",
    "        cls.email=input('enter the value')\n",
    "        return\n",
    "\n",
    "collage.display()\n",
    "collage.modify()\n",
    "collage.delete()\n",
    "collage.concate()\n",
    "collage.__dict__"
   ]
  },
  {
   "cell_type": "markdown",
   "metadata": {},
   "source": [
    "Object methods:\n",
    "    . This is one type of method that perfoms the operation on non-static states (object states)\n",
    "    . It is method type in which to perform create,access,modify,delete the members of non-static states (object states inside the specific object memory)\n",
    "    . This method utilizes the data of an object for all its operations.\n",
    "    . Here we have to define the function with arguments.\n",
    "    . Function contains minimum one argument.(the first argument name should be self)\n",
    "    . Self is user define argument, will holds the object address of the current object.\n",
    "    . As an industrial rule we have to use argument name class self.\n",
    "    . To make a objectmethod, we no need to use any decorator.\n",
    "\n",
    "SYNTAX: (define the object method)\n",
    "\n",
    "    def method_name(self,arguments....):\n",
    "        |\n",
    "        |any type operations\n",
    "        |\n",
    "    \n",
    "    Note: we have to write inside the class only.\n",
    "\n",
    "SYNTAX: (calling the onject method)\n",
    "\n",
    "    object_name.method_name(arguments...)\n",
    "    class_name.method_name(object_name,arguments...)"
   ]
  },
  {
   "cell_type": "markdown",
   "metadata": {},
   "source": [
    "06-11-23"
   ]
  },
  {
   "cell_type": "code",
   "execution_count": null,
   "metadata": {},
   "outputs": [
    {
     "name": "stdout",
     "output_type": "stream",
     "text": [
      "{'name': 'imran', 'age': 100, 'phone': 88239829, 'email': 'jkl74jkl@gmail.com'}\n",
      "imran 100 88239829 jkl74jkl@gmail.com\n",
      "imran 100 88239829 khan_sab@gmail.com\n",
      "{'name': 'imran', 'age': 100, 'phone': 88239829, 'email': 'khan_sab@gmail.com', 'passport': True}\n",
      "{'name': 'imran', 'age': 100, 'phone': 88239829, 'passport': True}\n"
     ]
    },
    {
     "ename": "AttributeError",
     "evalue": "'collage' object has no attribute 'email'",
     "output_type": "error",
     "traceback": [
      "\u001b[1;31m---------------------------------------------------------------------------\u001b[0m",
      "\u001b[1;31mAttributeError\u001b[0m                            Traceback (most recent call last)",
      "\u001b[1;32mc:\\Users\\Shaik Imran\\OneDrive\\Documents\\GitHub\\BASIC_PYTHON\\py_course\\oops.ipynb Cell 24\u001b[0m line \u001b[0;36m1\n\u001b[0;32m     <a href='vscode-notebook-cell:/c%3A/Users/Shaik%20Imran/OneDrive/Documents/GitHub/BASIC_PYTHON/py_course/oops.ipynb#X32sZmlsZQ%3D%3D?line=15'>16</a>\u001b[0m \u001b[39mdel\u001b[39;00m imran\u001b[39m.\u001b[39memail\n\u001b[0;32m     <a href='vscode-notebook-cell:/c%3A/Users/Shaik%20Imran/OneDrive/Documents/GitHub/BASIC_PYTHON/py_course/oops.ipynb#X32sZmlsZQ%3D%3D?line=16'>17</a>\u001b[0m \u001b[39mprint\u001b[39m(imran\u001b[39m.\u001b[39m\u001b[39m__dict__\u001b[39m)\n\u001b[1;32m---> <a href='vscode-notebook-cell:/c%3A/Users/Shaik%20Imran/OneDrive/Documents/GitHub/BASIC_PYTHON/py_course/oops.ipynb#X32sZmlsZQ%3D%3D?line=17'>18</a>\u001b[0m \u001b[39mprint\u001b[39m(imran\u001b[39m.\u001b[39mname,imran\u001b[39m.\u001b[39mage,imran\u001b[39m.\u001b[39mphone,imran\u001b[39m.\u001b[39;49memail)\n",
      "\u001b[1;31mAttributeError\u001b[0m: 'collage' object has no attribute 'email'"
     ]
    }
   ],
   "source": [
    "class collage:\n",
    "    clg_name='IMR govt college'\n",
    "    def __init__(self,s_name,s_age,s_phone,s_email):\n",
    "        self.name=s_name\n",
    "        self.age=s_age\n",
    "        self.phone=s_phone\n",
    "        self.email=s_email\n",
    "imran=collage('imran',100,88239829,'jkl74jkl@gmail.com')\n",
    "print(imran.__dict__)\n",
    "print(imran.name,imran.age,imran.phone,imran.email)\n",
    "imran.email='khan_sab@gmail.com'\n",
    "print(imran.name,imran.age,imran.phone,imran.email)\n",
    "imran.passport=True\n",
    "print(imran.__dict__)\n",
    "\n",
    "del imran.email\n",
    "print(imran.__dict__)\n",
    "print(imran.name,imran.age,imran.phone,imran.email)\n"
   ]
  },
  {
   "cell_type": "code",
   "execution_count": 64,
   "metadata": {},
   "outputs": [
    {
     "name": "stdout",
     "output_type": "stream",
     "text": [
      "imran 100 88239829 jkl74jkl@gmail.com\n",
      "{'age': 100, 'phone': 88239829, 'email': 'jkl74jkl@gmail.com'}\n"
     ]
    }
   ],
   "source": [
    "class collage:\n",
    "    def __init__(self,s_name,s_age,s_phone,s_email):\n",
    "        self.name=s_name\n",
    "        self.age=s_age\n",
    "        self.phone=s_phone\n",
    "        self.email=s_email\n",
    "imran=collage('imran',100,88239829,'jkl74jkl@gmail.com')\n",
    "\n",
    "def display(self):\n",
    "    print(self.name,self.age,self.phone,self.email)\n",
    "display(imran)\n",
    "\n",
    "\n",
    "# def modify(self):\n",
    "#     n=int(input('choose 1.name\\n2.age\\n3.phone\\n4.email\\n5.exit'))\n",
    "#     match n:\n",
    "#         case 1:\n",
    "#             self.name=input('enter the name')\n",
    "#         case 2:\n",
    "#             self.age=input('enter the age')\n",
    "#         case 3:\n",
    "#             self.phone=input('enter the new phone NO')\n",
    "#         case 4:\n",
    "#             self.email=input('enter the new email')\n",
    "#         case _:\n",
    "#             return\n",
    "#     return\n",
    "# modify(imran)\n",
    "# display(imran)\n",
    "\n",
    "# def concate(self):\n",
    "#     self.passport=eval(input('passport is there or not:'))\n",
    "# concate(imran)\n",
    "\n",
    "def delete(self):\n",
    "    n=int(input('choose 1.name\\n2.age\\n3.phone\\n4.email\\n5.exit'))\n",
    "    match n:\n",
    "        case 1:\n",
    "            del self.name\n",
    "        case 2:\n",
    "            del self.age\n",
    "        case 3:\n",
    "            del self.phone\n",
    "        case 4:\n",
    "            del self.email\n",
    "        case _:\n",
    "            return\n",
    "    return\n",
    "delete(imran)\n",
    "# display(imran)\n",
    "print(imran.__dict__)"
   ]
  },
  {
   "cell_type": "code",
   "execution_count": 80,
   "metadata": {},
   "outputs": [
    {
     "name": "stdout",
     "output_type": "stream",
     "text": [
      "jald 100 88239829 jkl74jkl@gmail.com\n",
      "kjl 100 88239829 jkl74jkl@gmail.com\n",
      "{'name': 'imran', 'age': 100, 'phone': 88239829, 'email': 'jkl74jkl@gmail.com'}\n"
     ]
    }
   ],
   "source": [
    "class collage:\n",
    "    def __init__(self,s_name,s_age,s_phone,s_email):\n",
    "        self.name=s_name\n",
    "        self.age=s_age\n",
    "        self.phone=s_phone\n",
    "        self.email=s_email\n",
    "        # self.display()\n",
    "    def display(self):\n",
    "        print(imran.name,imran.age,imran.phone,imran.email)\n",
    "    collage.display(imran)\n",
    "    def modify(self):\n",
    "        n=int(input('choose 1.name\\n2.age\\n3.phone\\n4.email\\n5.exit'))\n",
    "        match n:\n",
    "            case 1:\n",
    "                self.name=input('enter the name')\n",
    "            case 2:\n",
    "                self.age=input('enter the age')\n",
    "            case 3:\n",
    "                self.phone=input('enter the new phone NO')\n",
    "            case 4:\n",
    "                self.email=input('enter the new email')\n",
    "            case _:\n",
    "                return\n",
    "        return\n",
    "    modify(imran)\n",
    "    display(imran)\n",
    "\n",
    "    def concate(self):\n",
    "        self.passport=eval(input('passport is there or not:'))\n",
    "    concate(imran)\n",
    "def delete(self):\n",
    "    n=int(input('choose 1.name\\n2.age\\n3.phone\\n4.email\\n5.exit'))\n",
    "    match n:\n",
    "        case 1:\n",
    "            del self.name\n",
    "        case 2:\n",
    "            del self.age\n",
    "        case 3:\n",
    "            del self.phone\n",
    "        case 4:\n",
    "            del self.email\n",
    "        case _:\n",
    "            return\n",
    "    return\n",
    "# delete(imran)\n",
    "# display(imran)\n",
    "# print(imran.__dict__)\n",
    "imran=collage('imran',100,88239829,'jkl74jkl@gmail.com')\n",
    "# imran.display()\n",
    "# imran.modify()\n",
    "# imran.display()\n",
    "# imran.concate()\n",
    "# imran.delete()\n",
    "print(imran.__dict__)"
   ]
  },
  {
   "cell_type": "code",
   "execution_count": null,
   "metadata": {},
   "outputs": [
    {
     "name": "stdout",
     "output_type": "stream",
     "text": [
      "<__main__.arr object at 0x000001C59C3901F0>\n",
      "<__main__.arr object at 0x000001C59C390820>\n",
      "False\n",
      "<__main__.arr object at 0x000001C59C390820>\n",
      "False\n",
      "False\n"
     ]
    }
   ],
   "source": [
    "class arr:\n",
    "    generic='dfjlj'\n",
    "obj=arr()\n",
    "print(obj)\n",
    "print(arr())\n",
    "print(obj==arr())\n",
    "abj2=arr()\n",
    "print(abj2)\n",
    "print(id(abj2)==id(arr()))\n",
    "print(abj2==arr())\n",
    "# print(arr()==abj2)\n",
    "# obj3=arr()\n",
    "# print(arr())\n",
    "# print(obj3)\n",
    "# print(id(obj))\n",
    "# print(arr)\n",
    "# print(id(arr))\n",
    "# obj.generic='imaran'\n",
    "# print(obj.__dict__)\n",
    "# print(arr.__dict__)\n",
    "# for i in arr.__dict__:\n",
    "#     print(i)\n",
    "# a=499\n",
    "# b=499\n",
    "# print(id(a)==id(b))\n",
    "# print(arr.generic)\n",
    "# print(obj.generic)\n"
   ]
  },
  {
   "cell_type": "code",
   "execution_count": null,
   "metadata": {},
   "outputs": [
    {
     "name": "stdout",
     "output_type": "stream",
     "text": [
      "<__main__.creat object at 0x000001C59C1FD600>\n",
      "False\n",
      "<__main__.creat object at 0x000001C59D504070>\n"
     ]
    }
   ],
   "source": [
    "class creat:\n",
    "    generic='odfj'\n",
    "obj1=creat()\n",
    "print(obj1)\n",
    "print(obj1==creat)\n",
    "print(creat())\n",
    "# for i in creat.__dict__:\n",
    "#     print(i)"
   ]
  },
  {
   "cell_type": "code",
   "execution_count": 14,
   "metadata": {},
   "outputs": [
    {
     "name": "stdout",
     "output_type": "stream",
     "text": [
      "******************************************************************************************************************************************************\n",
      "Account no: 501\n",
      "NAME: imran\n",
      "AGE: 24\n",
      "EMAIL: jkl74jkl@gmail.com\n",
      "PHONE: 9948711089\n",
      "BALANCE: 500\n",
      "IFSC CODE: 1234SBI23\n",
      "PAN: sdf4578r4\n",
      "AADHAR: 355232637942\n",
      "ADDRESS: HYD\n",
      "******************************************************************************************************************************************************\n",
      "|---------------------|\n",
      "|Transaction is succes|\n",
      "|---------------------|\n",
      "501 {'date': datetime.datetime(2023, 11, 9, 22, 4, 18, 302943), 'type': 'deposit', 'ammount': 5000, 'bal': 5500}\n",
      "******************************************************************************************************************************************************\n",
      "|---------------------|\n",
      "|Transaction is succes|\n",
      "|---------------------|\n",
      "501 {'date': datetime.datetime(2023, 11, 9, 22, 4, 23, 279494), 'type': 'deposit', 'ammount': 4000, 'bal': 9500}\n",
      "******************************************************************************************************************************************************\n",
      "|---------------------|\n",
      "|Transaction is succes|\n",
      "|---------------------|\n",
      "501 {'date': datetime.datetime(2023, 11, 9, 22, 4, 29, 4862), 'type': 'withdraw', 'ammount': 8000, 'bal': 1500}\n",
      "******************************************************************************************************************************************************\n",
      "           DATE          |      Type     |     AMOUNT    |    Balance    \n",
      "--------------------------------------------------------------------------------\n",
      "2023-11-09 22:04:18.302943|    deposit    |      5000     |      5500     \n",
      "--------------------------------------------------------------------------------\n",
      "2023-11-09 22:04:23.279494|    deposit    |      4000     |      9500     \n",
      "--------------------------------------------------------------------------------\n",
      "2023-11-09 22:04:29.004862|    withdraw   |      8000     |      1500     \n",
      "--------------------------------------------------------------------------------\n",
      "******************************************************************************************************************************************************\n",
      "           DATE          |      Type     |     AMOUNT    |    Balance    \n",
      "--------------------------------------------------------------------------------\n",
      "2023-11-09 22:04:18.302943|    deposit    |      5000     |      5500     \n",
      "--------------------------------------------------------------------------------\n",
      "2023-11-09 22:04:23.279494|    deposit    |      4000     |      9500     \n",
      "--------------------------------------------------------------------------------\n",
      "2023-11-09 22:04:29.004862|    withdraw   |      8000     |      1500     \n",
      "--------------------------------------------------------------------------------\n",
      "******************************************************************************************************************************************************\n"
     ]
    }
   ],
   "source": [
    "import datetime\n",
    "class bank:\n",
    "    bname='sbi'\n",
    "    branch='202'\n",
    "    ifsc='1234SBI23'\n",
    "    no_cust=0\n",
    "    cust_details={}\n",
    "    ROI=4\n",
    "    TL=9765434778\n",
    "    transaction={}\n",
    "    def __init__(self,name,age,email,phone,address,aadhar,pancard,dob,gender,pin,bal=0) :\n",
    "        self.name=name\n",
    "        self.age=age\n",
    "        self.email=email\n",
    "        self.phone=phone\n",
    "        self.aadhar=aadhar\n",
    "        self.pancard=pancard\n",
    "        self.dob=dob\n",
    "        self.gender=gender\n",
    "        self.address=address\n",
    "        self.pin=pin\n",
    "        self.bal=bal\n",
    "        self.no_cust1()\n",
    "        self.acc_no=500+self.no_cust\n",
    "        bank.concat_cust_details(self.acc_no,self)\n",
    "    @classmethod\n",
    "    def no_cust1(cls):\n",
    "        cls.no_cust+=1\n",
    "    @classmethod\n",
    "    def concat_cust_details(cls,acc_no,obj):\n",
    "        cls.cust_details[acc_no]=obj\n",
    "    @classmethod\n",
    "    def change_ROI(cls):\n",
    "        cls.ROI=int(input(\"Enter ROI\"))\n",
    "        print(\"ROI is changed\")\n",
    "    @classmethod\n",
    "    def check_BAL(cls):\n",
    "        acc1_no=int(input(\"Enter the Acc num\"))\n",
    "        pin=int(input(\"Enter pin no\"))\n",
    "        for i in cls.cust_details:\n",
    "            x=cls.cust_details[i]\n",
    "            if x.acc_no==acc1_no and x.pin==pin:\n",
    "                print(x.acc_no,'BALANCE IS',x.bal)\n",
    "                return\n",
    "        else:\n",
    "            print('INVALID ACC NO OR PIN')\n",
    "    @classmethod\n",
    "    def concat_transaction(cls,acc1_no,data):\n",
    "        if acc1_no in cls.transaction:\n",
    "            cls.transaction[acc1_no]+=[data]\n",
    "            print(acc1_no,data)\n",
    "        else:\n",
    "            cls.transaction[acc1_no]=[data]\n",
    "            print(acc1_no,data)\n",
    "    def deposit(self,count=0):\n",
    "        if count==3:\n",
    "            return\n",
    "        amount=int(input(\"Enter deposit account\"))\n",
    "        if amount>100:\n",
    "            self.bal+=amount\n",
    "            self.success()\n",
    "            self.concat_transaction(self.acc_no,{'date':datetime.datetime.now(), 'type': 'deposit', 'ammount':amount,'bal':self.bal})\n",
    "            return\n",
    "        else:\n",
    "            print(\"AMOUNT SHOULD BE MIN 100\")\n",
    "            self.failed()\n",
    "            return self.deposit(count+1)\n",
    "    def withdraw(self,count=0):\n",
    "        if count==3:\n",
    "            return\n",
    "        amount3=int(input('ENTER THE WITHDRAW AMOUNT:'))\n",
    "        if amount3>=200 and self.bal>=amount3:\n",
    "            self.bal-=amount3\n",
    "            self.success()\n",
    "            self.concat_transaction(self.acc_no,{'date':datetime.datetime.now(), 'type':'withdraw','ammount':amount3,'bal':self.bal})\n",
    "            # self.success()\n",
    "            return\n",
    "        else:\n",
    "            print(\"Amount should be min 100 Rupees\")\n",
    "            self.failed()\n",
    "            return self.withdraw(count+1)\n",
    "    def MINI_Statement(self):\n",
    "        print('DATE'.center(25),'Type'.center(15),'AMOUNT'.center(15),'Balance'.center(15),sep='|')\n",
    "        print(80*'-')\n",
    "        for i in bank.transaction[self.acc_no]:\n",
    "            # print(i)\n",
    "            print(str(i['date']).center(25),str(i['type']).center(15),str(i['ammount']).center(15),str(i['bal']).center(15),sep='|')\n",
    "            print(80*'-')\n",
    "    def CHECK_BAL(self):\n",
    "        print('YOUR CURRENT BALANCE ',self.bal)\n",
    "    def PIN_CHANGE(self):\n",
    "        old=int(input('ENTER THE OD PIN :'))\n",
    "        if self.pin==old:\n",
    "            self.pin=int(input('ENTER THE NEW PIN:'))\n",
    "            print('PIN CHANGED')\n",
    "            self.success()\n",
    "        else:\n",
    "            self.failed()\n",
    "    def Cus_update(self):\n",
    "        k=int(input('CHOOSE THE OPTION: 1. name\\n2. phone\\n3. email\\n4. address\\n5. exit' ))\n",
    "        match k:\n",
    "            case 1:\n",
    "                self.cname=input('ENTER THE NAME')\n",
    "            case 2:\n",
    "                self.phone=int(input('ENTER THE PHONE'))\n",
    "            case 3:\n",
    "                self.email=eval(input('ENTER THE EMAIL'))\n",
    "            case 4:\n",
    "                self.address=eval(input('ENTER THE ADDRESS'))\n",
    "            case _:\n",
    "                return\n",
    "        return self.Cus_update()\n",
    "    def Account_details(self):\n",
    "        print('Account no:',self.acc_no)\n",
    "        print('NAME:',self.name)\n",
    "        print('AGE:',self.age)\n",
    "        print('EMAIL:',self.email)\n",
    "        print('PHONE:',self.phone)\n",
    "        print('BALANCE:',self.bal)\n",
    "        print('IFSC CODE:',self.ifsc)\n",
    "        print('PAN:',self.pancard)\n",
    "        print('AADHAR:',self.aadhar)\n",
    "        print('ADDRESS:',self.address)\n",
    "    def transfer(self):\n",
    "        print('YOUR CURRENT BALANCE:',self.bal)\n",
    "        account_no=int(input('Enter the Benificiary accno'))\n",
    "        ifsc_code=input('Enter the Benificiary IFSC')\n",
    "        if account_no in self.cust_details and ifsc_code==self.cust_details[account_no].ifsc:\n",
    "            amt=int(input('Enter the transfer amount:'))\n",
    "            if self.bal>=amt:\n",
    "                other=self.cust_details[account_no]\n",
    "                other.bal+=amt\n",
    "                self.bal_=amt\n",
    "                self.concat_transaction(self.acc_no,{'date':datetime.datetime.now(),'type':'Transfer(w)','amount':amt,'bal':self.bal})\n",
    "                self.concat_transaction(other.acc_no,{'date':datetime.datetime.now(),'type':'Transfer(d)','amount':amt,'bal':other.bal})\n",
    "                self.success()\n",
    "                print('After transfer current balanca',self.bal)\n",
    "                return\n",
    "            else:\n",
    "                self.failed()\n",
    "                print('Insuffient balance')\n",
    "        else:\n",
    "            print('Invalid acccount number or IFSC Code')\n",
    "            return\n",
    "    @classmethod\n",
    "    def Home(cls,self):\n",
    "        y=int(input('Choose the option:\\n0.AccountDetails\\n1.Check Bal\\n2.withdraw\\n3.Mini Statement\\n4.update\\n5.pin change\\n6.deposite\\n7.check ROI\\n8.transfer\\n9.Exit'))\n",
    "        print('*'*150)\n",
    "        match y:\n",
    "            case 0:\n",
    "                self.Account_details()\n",
    "            case 1:\n",
    "                self.CHECK_BAL()\n",
    "            case 2:\n",
    "                self.withdraw()\n",
    "            case 3:\n",
    "                self.MINI_Statement()\n",
    "            case 4:\n",
    "                self.Cus_update()\n",
    "            case 5:\n",
    "                self.PIN_CHANGE()\n",
    "            case 6:\n",
    "                self.deposit()\n",
    "            case 7:\n",
    "                print('Today RATE OF INTREST',self.ROI)\n",
    "            case 8:\n",
    "                self.transfer()\n",
    "            case _:\n",
    "                return\n",
    "        return cls.Home(self)\n",
    "    @staticmethod\n",
    "    def success():\n",
    "        print('|---------------------|')\n",
    "        print('|Transaction is succes|')\n",
    "        print('|---------------------|')\n",
    "    @staticmethod\n",
    "    def failed():\n",
    "        print('|---------------------|')\n",
    "        print('|Transaction is Failed|')\n",
    "        print('|---------------------|')\n",
    "\n",
    "    \n",
    "obj=bank('imran',24,'jkl74jkl@gmail.com',9948711089,'HYD',355232637942,'sdf4578r4','05/01/48','male',7777,500)\n",
    "obj1=bank('veni',22,'veni@gmail.com',92132765656,'HYD',132233657,'DCV457VF34','17-11-2003','F',5678)\n",
    "def main(cls):\n",
    "    # print(cls.cust_details[501].__dict__)\n",
    "    acc_no=int(input(\"enter the Account_no:\"))\n",
    "    pin=int(input(\"enter the Pin_no:\"))\n",
    "    if acc_no in cls.cust_details and cls.cust_details[acc_no].pin == pin:\n",
    "        self = cls.cust_details[acc_no]\n",
    "        cls.Home(self)\n",
    "    else:\n",
    "        print(\"invalid account no or pin \")\n",
    "main(bank)\n",
    "\n"
   ]
  },
  {
   "cell_type": "code",
   "execution_count": null,
   "metadata": {},
   "outputs": [
    {
     "name": "stdout",
     "output_type": "stream",
     "text": [
      "32\n",
      "89\n"
     ]
    },
    {
     "data": {
      "text/plain": [
       "mappingproxy({'__module__': '__main__',\n",
       "              'p': 89,\n",
       "              '__dict__': <attribute '__dict__' of 'n' objects>,\n",
       "              '__weakref__': <attribute '__weakref__' of 'n' objects>,\n",
       "              '__doc__': None})"
      ]
     },
     "execution_count": 32,
     "metadata": {},
     "output_type": "execute_result"
    }
   ],
   "source": [
    "class n:\n",
    "    p=32\n",
    "print(n.p)\n",
    "class n:\n",
    "    p=89\n",
    "print(n.p)\n",
    "n.__dict__"
   ]
  },
  {
   "cell_type": "code",
   "execution_count": 1,
   "metadata": {},
   "outputs": [
    {
     "data": {
      "text/plain": [
       "{'name': 'imran',\n",
       " 'age': 24,\n",
       " 'email': 'jkl74jkl@gmail.com',\n",
       " 'phone': 9948711089,\n",
       " 'aadhar': 355232637942,\n",
       " 'pancard': 'sdf4578r4',\n",
       " 'dob': '05/01/48',\n",
       " 'gender': 'male',\n",
       " 'address': 'HYD',\n",
       " 'pin': 7777,\n",
       " 'bal': 500}"
      ]
     },
     "execution_count": 1,
     "metadata": {},
     "output_type": "execute_result"
    }
   ],
   "source": [
    "class bank:\n",
    "    bname='sbi'\n",
    "    branch='202'\n",
    "    ifsc='1234SBI23'\n",
    "    no_cust=0\n",
    "    cust_details={}\n",
    "    ROI=4\n",
    "    TL=9765434778\n",
    "    transaction={}\n",
    "    def __init__(self,name,age,email,phone,address,aadhar,pancard,dob,gender,pin,bal=0) :\n",
    "        self.name=name\n",
    "        self.age=age\n",
    "        self.email=email\n",
    "        self.phone=phone\n",
    "        self.aadhar=aadhar\n",
    "        self.pancard=pancard\n",
    "        self.dob=dob\n",
    "        self.gender=gender\n",
    "        self.address=address\n",
    "        self.pin=pin\n",
    "        self.bal=bal\n",
    "        # self.no_cust1()\n",
    "        # self.acc_no=500+self.no_cust\n",
    "obj=bank('imran',24,'jkl74jkl@gmail.com',9948711089,'HYD',355232637942,'sdf4578r4','05/01/48','male',7777,500)\n",
    "obj.__dict__"
   ]
  },
  {
   "cell_type": "markdown",
   "metadata": {},
   "source": [
    "09/11/2023"
   ]
  },
  {
   "cell_type": "code",
   "execution_count": 4,
   "metadata": {},
   "outputs": [
    {
     "name": "stdout",
     "output_type": "stream",
     "text": [
      "{'__module__': '__main__', 'a': 10, 'b': 20, '__dict__': <attribute '__dict__' of 'sample' objects>, '__weakref__': <attribute '__weakref__' of 'sample' objects>, '__doc__': None}\n",
      "10 20\n",
      "{'__module__': '__main__', '__doc__': None}\n",
      "10 20\n"
     ]
    }
   ],
   "source": [
    "#13-11-23\n",
    "#single inheritanse\n",
    "class sample:\n",
    "    a=10\n",
    "    b=20\n",
    "print(sample.__dict__)\n",
    "print(sample.a,sample.b)\n",
    "\n",
    "class demo(sample):\n",
    "    pass\n",
    "print(demo.__dict__)\n",
    "print(demo.a,demo.b)\n"
   ]
  },
  {
   "cell_type": "code",
   "execution_count": 19,
   "metadata": {},
   "outputs": [
    {
     "name": "stdout",
     "output_type": "stream",
     "text": [
      "{'__module__': '__main__', 'a': 10, 'b': 20, '__dict__': <attribute '__dict__' of 'sample' objects>, '__weakref__': <attribute '__weakref__' of 'sample' objects>, '__doc__': None}\n",
      "10 20\n",
      "{'__module__': '__main__', 'a': 200, '__doc__': None}\n",
      "200 20\n"
     ]
    }
   ],
   "source": [
    "class sample:\n",
    "    a=10\n",
    "    b=20\n",
    "print(sample.__dict__)\n",
    "print(sample.a,sample.b)\n",
    "\n",
    "class demo(sample):\n",
    "    a=200            #variable overriding(re-initializing)\n",
    "print(demo.__dict__)\n",
    "print(demo.a,demo.b)\n"
   ]
  },
  {
   "cell_type": "code",
   "execution_count": 18,
   "metadata": {},
   "outputs": [
    {
     "name": "stdout",
     "output_type": "stream",
     "text": [
      "{'__module__': '__main__', 'a': 10, 'b': 20, '__init__': <function sample.__init__ at 0x000001ED5BF5DB40>, '__dict__': <attribute '__dict__' of 'sample' objects>, '__weakref__': <attribute '__weakref__' of 'sample' objects>, '__doc__': None}\n",
      "10 20\n",
      "{'__module__': '__main__', '__doc__': None}\n",
      "10 20\n",
      "10 20\n",
      "100 200\n"
     ]
    }
   ],
   "source": [
    "class sample:\n",
    "    a=10\n",
    "    b=20\n",
    "    def __init__(self,para):\n",
    "        self.x=100\n",
    "        self.y=200\n",
    "print(sample.__dict__)\n",
    "print(sample.a,sample.b)\n",
    "\n",
    "class demo(sample):\n",
    "    pass\n",
    "obj=demo('value')\n",
    "print(demo.__dict__)\n",
    "print(demo.a,demo.b)\n",
    "# print(demo.x,demo.y)\n",
    "print(obj.a,obj.b)\n",
    "print(obj.x,obj.y)\n"
   ]
  },
  {
   "cell_type": "code",
   "execution_count": 21,
   "metadata": {},
   "outputs": [
    {
     "name": "stdout",
     "output_type": "stream",
     "text": [
      "{'__module__': '__main__', 'a': 10, 'b': 20, '__init__': <function sample.__init__ at 0x000001ED5BF5F5B0>, '__dict__': <attribute '__dict__' of 'sample' objects>, '__weakref__': <attribute '__weakref__' of 'sample' objects>, '__doc__': None}\n",
      "10 20\n"
     ]
    },
    {
     "ename": "NameError",
     "evalue": "name 'a' is not defined",
     "output_type": "error",
     "traceback": [
      "\u001b[1;31m---------------------------------------------------------------------------\u001b[0m",
      "\u001b[1;31mNameError\u001b[0m                                 Traceback (most recent call last)",
      "\u001b[1;32mc:\\Users\\Shaik Imran\\OneDrive\\Documents\\GitHub\\BASIC_PYTHON\\py_course\\oops.ipynb Cell 37\u001b[0m line \u001b[0;36m1\n\u001b[0;32m      <a href='vscode-notebook-cell:/c%3A/Users/Shaik%20Imran/OneDrive/Documents/GitHub/BASIC_PYTHON/py_course/oops.ipynb#X51sZmlsZQ%3D%3D?line=6'>7</a>\u001b[0m \u001b[39mprint\u001b[39m(sample\u001b[39m.\u001b[39m\u001b[39m__dict__\u001b[39m)\n\u001b[0;32m      <a href='vscode-notebook-cell:/c%3A/Users/Shaik%20Imran/OneDrive/Documents/GitHub/BASIC_PYTHON/py_course/oops.ipynb#X51sZmlsZQ%3D%3D?line=7'>8</a>\u001b[0m \u001b[39mprint\u001b[39m(sample\u001b[39m.\u001b[39ma,sample\u001b[39m.\u001b[39mb)\n\u001b[1;32m---> <a href='vscode-notebook-cell:/c%3A/Users/Shaik%20Imran/OneDrive/Documents/GitHub/BASIC_PYTHON/py_course/oops.ipynb#X51sZmlsZQ%3D%3D?line=9'>10</a>\u001b[0m \u001b[39mclass\u001b[39;00m \u001b[39mdemo\u001b[39;00m(sample):\n\u001b[0;32m     <a href='vscode-notebook-cell:/c%3A/Users/Shaik%20Imran/OneDrive/Documents/GitHub/BASIC_PYTHON/py_course/oops.ipynb#X51sZmlsZQ%3D%3D?line=10'>11</a>\u001b[0m     \u001b[39mdel\u001b[39;00m a\n\u001b[0;32m     <a href='vscode-notebook-cell:/c%3A/Users/Shaik%20Imran/OneDrive/Documents/GitHub/BASIC_PYTHON/py_course/oops.ipynb#X51sZmlsZQ%3D%3D?line=11'>12</a>\u001b[0m obj\u001b[39m=\u001b[39mdemo(\u001b[39m'\u001b[39m\u001b[39mvalue\u001b[39m\u001b[39m'\u001b[39m)\n",
      "\u001b[1;32mc:\\Users\\Shaik Imran\\OneDrive\\Documents\\GitHub\\BASIC_PYTHON\\py_course\\oops.ipynb Cell 37\u001b[0m line \u001b[0;36m1\n\u001b[0;32m     <a href='vscode-notebook-cell:/c%3A/Users/Shaik%20Imran/OneDrive/Documents/GitHub/BASIC_PYTHON/py_course/oops.ipynb#X51sZmlsZQ%3D%3D?line=9'>10</a>\u001b[0m \u001b[39mclass\u001b[39;00m \u001b[39mdemo\u001b[39;00m(sample):\n\u001b[1;32m---> <a href='vscode-notebook-cell:/c%3A/Users/Shaik%20Imran/OneDrive/Documents/GitHub/BASIC_PYTHON/py_course/oops.ipynb#X51sZmlsZQ%3D%3D?line=10'>11</a>\u001b[0m     \u001b[39mdel\u001b[39;00m a\n",
      "\u001b[1;31mNameError\u001b[0m: name 'a' is not defined"
     ]
    }
   ],
   "source": [
    "class sample:\n",
    "    a=10\n",
    "    b=20\n",
    "    def __init__(self,para):\n",
    "        self.x=100\n",
    "        self.y=200\n",
    "print(sample.__dict__)\n",
    "print(sample.a,sample.b)\n",
    "\n",
    "class demo(sample):\n",
    "    del a\n",
    "obj=demo('value')\n",
    "print(demo.__dict__)\n",
    "print(demo.a,demo.b)\n",
    "# print(demo.x,demo.y)\n",
    "print(obj.a,obj.b)\n",
    "print(obj.x,obj.y)\n"
   ]
  },
  {
   "cell_type": "code",
   "execution_count": 23,
   "metadata": {},
   "outputs": [],
   "source": [
    "class parent:\n",
    "    a=100\n",
    "    def __init__(self,x):\n",
    "        self.x=x\n",
    "class child(parent):\n",
    "    b=2000\n",
    "    def __init__(self, m):  #function overriding \n",
    "        self.m=m\n",
    "sai=parent('sai')\n",
    "imran=child('imrankhan')\n"
   ]
  },
  {
   "cell_type": "code",
   "execution_count": 24,
   "metadata": {},
   "outputs": [
    {
     "name": "stdout",
     "output_type": "stream",
     "text": [
      "{'__module__': '__main__', 'a': 100, '__init__': <function parent.__init__ at 0x000001ED5BF5DB40>, '__dict__': <attribute '__dict__' of 'parent' objects>, '__weakref__': <attribute '__weakref__' of 'parent' objects>, '__doc__': None}\n"
     ]
    }
   ],
   "source": [
    "print(parent.__dict__)"
   ]
  },
  {
   "cell_type": "code",
   "execution_count": 25,
   "metadata": {},
   "outputs": [
    {
     "name": "stdout",
     "output_type": "stream",
     "text": [
      "{'__module__': '__main__', 'b': 2000, '__init__': <function child.__init__ at 0x000001ED5C04CB80>, '__doc__': None}\n"
     ]
    }
   ],
   "source": [
    "print(child.__dict__)"
   ]
  },
  {
   "cell_type": "code",
   "execution_count": 29,
   "metadata": {},
   "outputs": [
    {
     "name": "stdout",
     "output_type": "stream",
     "text": [
      "{'m': 'sai'} 100 sai\n",
      "{'m': 'imrankhan'} 100 2000 imrankhan\n"
     ]
    }
   ],
   "source": [
    "print(sai.__dict__,sai.a,sai.m)\n",
    "print(imran.__dict__,imran.a,imran.b,imran.m)"
   ]
  },
  {
   "cell_type": "code",
   "execution_count": 30,
   "metadata": {},
   "outputs": [],
   "source": [
    "class student:\n",
    "    def __init__(self,name,rollno,phno):\n",
    "        self.name=name\n",
    "        self.rollno=rollno\n",
    "        self.phno=phno\n",
    "\n",
    "rahul=student('rahul','101',464665465)\n",
    "raju=student('raju','102',79724665)\n",
    "\n",
    "class student2(student):\n",
    "    def __init__(self,name,rollno,phno,email,marks):\n",
    "        self.name=name\n",
    "        self.rollno=rollno\n",
    "        self.phno=phno\n",
    "        self.email=email\n",
    "        self.marks=marks\n",
    "dinga=student2('dinga','122',446464,'dsfkjl@gmail.com',78)\n",
    "\n",
    "        "
   ]
  },
  {
   "cell_type": "code",
   "execution_count": 32,
   "metadata": {},
   "outputs": [
    {
     "name": "stdout",
     "output_type": "stream",
     "text": [
      "{'name': 'rahul', 'rollno': '101', 'phno': 464665465}\n",
      "{'name': 'raju', 'rollno': '102', 'phno': 79724665}\n",
      "{'name': 'dinga', 'rollno': '122', 'phno': 446464, 'email': 'dsfkjl@gmail.com', 'marks': 78}\n"
     ]
    }
   ],
   "source": [
    "print(rahul.__dict__)\n",
    "print(raju.__dict__)\n",
    "print(dinga.__dict__)"
   ]
  },
  {
   "cell_type": "markdown",
   "metadata": {},
   "source": [
    "CONSTRUCTOR CHAINING:\n",
    "    . It is a phenomenon invoking the constructor from parent class to the constructor of child class is called constructor chaining.\n",
    "    . Invoking from one constructor to another constructor is known as constructor chaining.\n",
    "    . by through constructor chaining to reduce code redundancy and eliminate repetitive task.\n",
    "    . There are 3 ways to call to achive the constructor chaining.\n",
    "    \n",
    "    1.Calling by using the super statement.\n",
    "        SYNTAX:\n",
    "            super().__init__(arguments)\n",
    "                NOte:super() refers to parent class address\n",
    "\n",
    "    2.Calling by using super containing arguments.\n",
    "        SYNTAX:\n",
    "            super(childClassName,self).__init__(arguments)\n",
    "        \n",
    "    3.Calling by using parent class name.\n",
    "        SYNTAX:\n",
    "            parent.__init__(self,arguments)\n",
    "\n",
    "\n",
    "super():\n",
    "1.It is a predefine function.\n",
    "2.It will point/refer the parent class address."
   ]
  },
  {
   "cell_type": "code",
   "execution_count": 4,
   "metadata": {},
   "outputs": [
    {
     "name": "stdout",
     "output_type": "stream",
     "text": [
      "{'name': 'dinga', 'rollno': '122', 'phno': 446464, 'email': 'dsfkjl@gmail.com', 'marks': 78}\n"
     ]
    }
   ],
   "source": [
    "#constructor chaining\n",
    "class student:\n",
    "    def __init__(self,name,rollno,phno):\n",
    "        self.name=name\n",
    "        self.rollno=rollno\n",
    "        self.phno=phno\n",
    "\n",
    "rahul=student('rahul','101',464665465)\n",
    "raju=student('raju','102',79724665)\n",
    "\n",
    "class student2(student):\n",
    "    def __init__(self,name,rollno,phno,email,marks):\n",
    "        # student.__init__(self,name,rollno,phno)       #way-1: contructor chaining\n",
    "        # super(student2,self).__init__(name,rollno,phno) #way-2:\n",
    "        super().__init__(name,rollno,phno)                  #way-3:\n",
    "        self.email=email\n",
    "        self.marks=marks\n",
    "dinga=student2('dinga','122',446464,'dsfkjl@gmail.com',78)\n",
    "print(dinga.__dict__)\n",
    "        "
   ]
  },
  {
   "cell_type": "markdown",
   "metadata": {},
   "source": [
    "multi-level inheritance:\n",
    "    1. its phenomenon of deriving  the properties parent class to child class and child class properties are derived to grand child class."
   ]
  },
  {
   "cell_type": "code",
   "execution_count": 7,
   "metadata": {},
   "outputs": [
    {
     "name": "stdout",
     "output_type": "stream",
     "text": [
      "{'__module__': '__main__', 'a': 10, '__init__': <function parent.__init__ at 0x0000025B7B0EF490>, '__dict__': <attribute '__dict__' of 'parent' objects>, '__weakref__': <attribute '__weakref__' of 'parent' objects>, '__doc__': None}\n",
      "{'x': 150}\n",
      "{'__module__': '__main__', 'b': 20, '__doc__': None}\n",
      "{'x': 256}\n",
      "{'__module__': '__main__', 'c': 30, '__doc__': None}\n",
      "10 20 30\n",
      "{'x': 490}\n"
     ]
    }
   ],
   "source": [
    "class parent:\n",
    "    a=10\n",
    "    def __init__(self,x):\n",
    "        self.x=x\n",
    "xyz=parent(150)\n",
    "\n",
    "print(parent.__dict__)\n",
    "print(xyz.__dict__)\n",
    "\n",
    "class child(parent):\n",
    "    b=20\n",
    "\n",
    "abc=child(256)\n",
    "print(child.__dict__)\n",
    "print(abc.__dict__)\n",
    "\n",
    "class grandchild(child):\n",
    "    c=30\n",
    "mno=grandchild(490)\n",
    "\n",
    "print(grandchild.__dict__)\n",
    "# print(grandchild.a,grandchild.b,grandchild.c)\n",
    "print(mno.__dict__)"
   ]
  },
  {
   "cell_type": "code",
   "execution_count": 8,
   "metadata": {},
   "outputs": [
    {
     "name": "stdout",
     "output_type": "stream",
     "text": [
      "10\n",
      "10 20\n",
      "10 20 30\n"
     ]
    }
   ],
   "source": [
    "print(parent.a)\n",
    "print(child.a,child.b)\n",
    "print(grandchild.a,grandchild.b,grandchild.c)"
   ]
  },
  {
   "cell_type": "code",
   "execution_count": 9,
   "metadata": {},
   "outputs": [
    {
     "name": "stdout",
     "output_type": "stream",
     "text": [
      "420\n",
      "420 20\n",
      "420 20 30\n"
     ]
    }
   ],
   "source": [
    "parent.a=420\n",
    "print(parent.a)\n",
    "print(child.a,child.b)\n",
    "print(grandchild.a,grandchild.b,grandchild.c)"
   ]
  },
  {
   "cell_type": "code",
   "execution_count": 10,
   "metadata": {},
   "outputs": [
    {
     "name": "stdout",
     "output_type": "stream",
     "text": [
      "40\n",
      "420 20\n",
      "420 20 30\n"
     ]
    }
   ],
   "source": [
    "parent.a=40\n",
    "child.a=420\n",
    "print(parent.a)\n",
    "print(child.a,child.b)\n",
    "print(grandchild.a,grandchild.b,grandchild.c)"
   ]
  },
  {
   "cell_type": "code",
   "execution_count": 12,
   "metadata": {},
   "outputs": [
    {
     "name": "stdout",
     "output_type": "stream",
     "text": [
      "40\n",
      "420 20\n",
      "89 20 30\n"
     ]
    }
   ],
   "source": [
    "grandchild.a=89\n",
    "print(parent.a)\n",
    "print(child.a,child.b)\n",
    "print(grandchild.a,grandchild.b,grandchild.c)"
   ]
  },
  {
   "cell_type": "markdown",
   "metadata": {},
   "source": [
    "3.hierarchichal inheritance:\n",
    "    1.Deriving the properties one parent class to two are more child classes known as hierarchical inheritance"
   ]
  },
  {
   "cell_type": "code",
   "execution_count": 4,
   "metadata": {},
   "outputs": [],
   "source": [
    "class college:\n",
    "    cname='vikas'\n",
    "    address='hyd'\n",
    "    def __init__(self,name,age,phone,type_of_p,doj):\n",
    "        self.name=name\n",
    "        self.age=age\n",
    "        self.phone=phone\n",
    "        self.type_of_p=type_of_p\n",
    "        self.doj=doj\n",
    "\n",
    "    def display(self):\n",
    "        print('collage name:',self.cname)\n",
    "        print('collage address:',self.address)\n",
    "        print('person name:',self.name)\n",
    "        print('person phone:',self.phone)\n",
    "        print('person age:',self.age)\n",
    "        print('person type_of_p:',self.type_of_p)\n",
    "        print('person doj:',self.doj)\n",
    "        \n",
    "krishna=college('krishna',25,349809832,'student','01/3/2020')\n",
    "krishna_raj=college('krishna_raj',37,98909832488,'teacher','25/2/1999')\n",
    "\n",
    "\n",
    "class college1(college):\n",
    "    address='vijayavada'\n",
    "\n",
    "ram=college1('ram',24,77944356,'student','30/4/2021')\n",
    "seetha=college1('seetha',28,77947979,'trainer','30/8/2022')\n",
    "\n",
    "class college2(college):\n",
    "    address='mysure'\n",
    "\n",
    "stu1=college2('ramdsf',243,779443567898,'student','30/4/2024')\n",
    "\n",
    "\n",
    "\n",
    "\n",
    "class college3(college):\n",
    "    address='mysure'\n",
    "    def __init__(self,name,age,phone,type_of_p,doj,email,marks):\n",
    "        super().__init__(name,age,phone,type_of_p,doj)\n",
    "        self.email=email\n",
    "        self.marks=marks\n",
    "    def display(self):\n",
    "        super().display()\n",
    "        print('person email:',self.email)\n",
    "        print('person marks:',self.marks)\n",
    "\n",
    "raj=college3('raj',22,7987131,'student','23/5/2020','raj@gmail.com',98)\n",
    "rani=college3('rani',20,7987131779,'tariner','23/5/2015','rani@gmail.com',77)"
   ]
  },
  {
   "cell_type": "code",
   "execution_count": 10,
   "metadata": {},
   "outputs": [
    {
     "name": "stdout",
     "output_type": "stream",
     "text": [
      "collage name: vikas\n",
      "collage address: mysure\n",
      "person name: rani\n",
      "person phone: 7987131779\n",
      "person age: 20\n",
      "person type_of_p: tariner\n",
      "person doj: 23/5/2015\n",
      "person email: rani@gmail.com\n",
      "person marks: 77\n"
     ]
    }
   ],
   "source": [
    "# ram.display()\n",
    "# stu1.display()\n",
    "# raj.display()\n",
    "rani.display()"
   ]
  },
  {
   "cell_type": "code",
   "execution_count": 11,
   "metadata": {},
   "outputs": [
    {
     "name": "stdout",
     "output_type": "stream",
     "text": [
      "100 20 60\n"
     ]
    }
   ],
   "source": [
    "#MULTIPLE inheritance\n",
    "class p1:\n",
    "    a=100\n",
    "    b=20\n",
    "\n",
    "class p2:\n",
    "    a=400\n",
    "    d=60\n",
    "\n",
    "class c(p1,p2):\n",
    "    pass\n",
    "\n",
    "print(c.a,c.b,c.d)"
   ]
  },
  {
   "cell_type": "code",
   "execution_count": 12,
   "metadata": {},
   "outputs": [
    {
     "name": "stdout",
     "output_type": "stream",
     "text": [
      "400 20 60\n"
     ]
    }
   ],
   "source": [
    "#MULTIPLE inheritance\n",
    "class p1:\n",
    "    a=100\n",
    "    b=20\n",
    "\n",
    "class p2:\n",
    "    a=400\n",
    "    d=60\n",
    "\n",
    "class c(p2,p1):\n",
    "    pass\n",
    "\n",
    "print(c.a,c.b,c.d)"
   ]
  },
  {
   "cell_type": "code",
   "execution_count": 15,
   "metadata": {},
   "outputs": [
    {
     "name": "stdout",
     "output_type": "stream",
     "text": [
      "100 20 60\n"
     ]
    }
   ],
   "source": [
    "class p1:\n",
    "    a=100\n",
    "    b=20\n",
    "    def display(self):\n",
    "        print(self.a,self.b)\n",
    "\n",
    "class p2:\n",
    "    a=400\n",
    "    d=60\n",
    "    def display(self):\n",
    "        print(self.a,self.b)\n",
    "\n",
    "class c(p1,p2):\n",
    "    def display(self):\n",
    "        print(c.a,c.b,c.d)\n",
    "\n",
    "obj=c()\n",
    "obj.display()"
   ]
  },
  {
   "cell_type": "code",
   "execution_count": 17,
   "metadata": {},
   "outputs": [
    {
     "name": "stdout",
     "output_type": "stream",
     "text": [
      "parent1: 100 20\n",
      "parent2: 100 20\n"
     ]
    }
   ],
   "source": [
    "class p1:\n",
    "    a=100\n",
    "    b=20\n",
    "    def display1(self):\n",
    "        print('parent1:',self.a,self.b)\n",
    "\n",
    "class p2:\n",
    "    a=400\n",
    "    d=60\n",
    "    def display2(self):\n",
    "        print('parent2:',self.a,self.b)\n",
    "\n",
    "class c(p1,p2):\n",
    "    def display(self):\n",
    "        super().display1()\n",
    "        super().display2()\n",
    "\n",
    "obj=c()\n",
    "obj.display()"
   ]
  },
  {
   "cell_type": "code",
   "execution_count": 20,
   "metadata": {},
   "outputs": [
    {
     "name": "stdout",
     "output_type": "stream",
     "text": [
      "parent1: 100 20\n",
      "parent1: 100 20\n",
      "parent2: 100 20\n"
     ]
    }
   ],
   "source": [
    "class p1:\n",
    "    a=100\n",
    "    b=20\n",
    "    def display(self):\n",
    "        print('parent1:',self.a,self.b)\n",
    "\n",
    "class p2:\n",
    "    a=400\n",
    "    d=60\n",
    "    def display(self):\n",
    "        print('parent2:',self.a,self.b)\n",
    "\n",
    "class c(p1,p2):\n",
    "    def display(self):\n",
    "        super().display()\n",
    "        super().display()   # super():it will point to first priority class functions only . if the names(variables/methods/contructors) are same in both the classess\n",
    "        p2.display(self)\n",
    "\n",
    "obj=c()\n",
    "obj.display()"
   ]
  },
  {
   "cell_type": "markdown",
   "metadata": {},
   "source": [
    "17/11/23.."
   ]
  },
  {
   "cell_type": "code",
   "execution_count": 6,
   "metadata": {},
   "outputs": [
    {
     "data": {
      "text/plain": [
       "<__main__.customer at 0x19dd571b400>"
      ]
     },
     "execution_count": 6,
     "metadata": {},
     "output_type": "execute_result"
    }
   ],
   "source": [
    "class customer:\n",
    "    cust_count=0\n",
    "    cust_details={}\n",
    "    def __init__(self,name,age,email,phone,address,adhaar):\n",
    "        # print(self)\n",
    "        self.c_name=name\n",
    "        self.c_age=age\n",
    "        self.c_email=email\n",
    "        self.c_phone=phone\n",
    "        self.c_address=address\n",
    "        self.c_adhaar=adhaar\n",
    "        self.inc_cust_count()\n",
    "        self.cust_id=1560+self.cust_count\n",
    "        self.concat_cust(self.cust_id,self)\n",
    "\n",
    "    @classmethod\n",
    "    def inc_cust_count(cls):\n",
    "        cls.cust_count+=1\n",
    "\n",
    "    @classmethod\n",
    "    def concat_cust(cls,id,self):\n",
    "        cls.cust_details[id]=self\n",
    "\n",
    "customer('rahul',23,'rahul@gmail.com',7394875304,'viz',293847593847)"
   ]
  },
  {
   "cell_type": "code",
   "execution_count": 56,
   "metadata": {},
   "outputs": [
    {
     "name": "stdout",
     "output_type": "stream",
     "text": [
      "['MOBILE', 'LAPTOP', 'SMARTWATCH', 'SMART TV\"S']\n",
      "NO PRODUCT FOUND\n"
     ]
    }
   ],
   "source": [
    "class product:\n",
    "    prod_count=0\n",
    "    prod_details={}\n",
    "    def __init__(self,type_of_prod,name,desc,price,discount,quantity,dom,doe):\n",
    "        self.type_of_prod=type_of_prod\n",
    "        self.p_name=name\n",
    "        self.p_desc=desc\n",
    "        self.p_price=price\n",
    "        self.p_discount=discount\n",
    "        self.p_quantity=quantity\n",
    "        self.p_dom=dom\n",
    "        self.p_doe=doe\n",
    "        self.inc_prod_count()\n",
    "        self.prod_id=7560+self.prod_count\n",
    "        self.concat_prod(self.prod_id,self)\n",
    "        # self.display_prod_details()\n",
    "\n",
    "    @classmethod\n",
    "    def inc_prod_count(cls):\n",
    "        cls.prod_count+=1\n",
    "\n",
    "    @classmethod\n",
    "    def concat_prod(cls,id,self):\n",
    "        cls.prod_details[id]=self\n",
    "\n",
    "    def change_discount(self):\n",
    "        self.p_discount+= int(input('enter the new discount values:'))\n",
    "\n",
    "    def change_inc_quantity(self):\n",
    "        self.p_quantity+=int(input('enter the new quantity value:'))\n",
    "\n",
    "    def change_dec_quantity(self):\n",
    "        self.p_quantity -=int(input('enter the buying quantity value:'))\n",
    "\n",
    "    @classmethod\n",
    "    def display_prod_details(cls):\n",
    "        p_list=cls.prod_details\n",
    "        print('product_id','type_of_prod','name','desc','price','discount','quantity','dom','doe',sep=' | ')\n",
    "        for i in p_list:\n",
    "            print(p_list[i].prod_id,p_list[i].type_of_prod,p_list[i].p_name,\n",
    "                  p_list[i].p_desc,\n",
    "                  p_list[i].p_price,\n",
    "                  p_list[i].p_discount,\n",
    "                  p_list[i].p_quantity,\n",
    "                  p_list[i].p_dom,\n",
    "                  p_list[i].p_doe,sep=' | ')\n",
    "    @classmethod\n",
    "    def search(cls):\n",
    "        find=input('Search')\n",
    "        for i in cls.prod_details:\n",
    "            var=0\n",
    "            if find.upper()==cls.prod_details[i].type_of_prod.upper():\n",
    "                print(cls.prod_details[i].__dict__)\n",
    "                var+=1\n",
    "        if var==0:\n",
    "            print('NO PRODUCT FOUND')\n",
    "\n",
    "    @classmethod\n",
    "    def unique_type_prods(cls):\n",
    "        uni=[]\n",
    "        for i in cls.prod_details:\n",
    "            if cls.prod_details[i].type_of_prod.upper() not in uni:\n",
    "                uni+=[cls.prod_details[i].type_of_prod.upper()]\n",
    "        print(uni)\n",
    "        product.search()\n",
    "        # for i in cls.prod_details:\n",
    "        #     if uni[1]==cls.prod_details[i].type_of_prod.upper():\n",
    "        #         print(cls.prod_details[i].__dict__)\n",
    "        #         for j in cls.prod_details[i].__dict__:\n",
    "        #             print(j,cls.prod_details[i].__dict__[j],sep='---------->')\n",
    "    \n",
    "p1=product('mobile','iphone14','iphone14 pro',145000,10,15,'2023-05-06',None)\n",
    "p2=product('laptop','hp','iphone14 pro',145000,10,15,'2023-05-06',None)\n",
    "p3=product('Laptop','dell','iphone14 pro',145000,10,15,'2023-05-06',None)\n",
    "p4=product('smartwatch','noise','noise pro',145000,10,15,'2023-05-06',None)\n",
    "p5=product('smart tv\"s','oneplus','oneplus 14',145000,10,15,'2023-05-06',None)\n",
    "\n",
    "product.unique_type_prods()\n",
    "# print(product.prod_details[7561].type_of_prod.upper())\n",
    "# for i in product.prod_details[7561].__dict__:\n",
    "    # print(i)\n",
    "# for i in p3.__dict__:\n",
    "#     print(i,p3.__dict__[i],sep='          ')\n",
    "# print(product.prod_details)"
   ]
  },
  {
   "cell_type": "code",
   "execution_count": 14,
   "metadata": {},
   "outputs": [
    {
     "data": {
      "text/plain": [
       "{'type_of_prod': 'mobile',\n",
       " 'p_name': 'iphone14',\n",
       " 'p_desc': 'iphone14 pro',\n",
       " 'p_price': 145000,\n",
       " 'p_discount': 10,\n",
       " 'p_quantity': 15,\n",
       " 'p_dom': '2023-05-06',\n",
       " 'p_doe': None,\n",
       " 'prod_id': 7561}"
      ]
     },
     "execution_count": 14,
     "metadata": {},
     "output_type": "execute_result"
    }
   ],
   "source": [
    "product.prod_details[7561].__dict__"
   ]
  },
  {
   "cell_type": "code",
   "execution_count": 9,
   "metadata": {},
   "outputs": [
    {
     "data": {
      "text/plain": [
       "<__main__.seller at 0x19dd58b1ab0>"
      ]
     },
     "execution_count": 9,
     "metadata": {},
     "output_type": "execute_result"
    }
   ],
   "source": [
    "class seller:\n",
    "    seller_count=0\n",
    "    seller_details={}\n",
    "    def __init__(self,name,age,email,phone,address,adhaar,type_of_seller,type_of_prod,pname,desc,price,discount,quantity,dom,doe):\n",
    "        self.type_of_seller=type_of_seller\n",
    "        cust=customer(name,age,email,phone,address,adhaar)\n",
    "        prod=product(type_of_prod,pname,desc,price,discount,quantity,dom,doe)\n",
    "        self.cust_id=cust.cust_id\n",
    "        self.prod_id=prod.prod_id\n",
    "        self.inc_seller_count()\n",
    "        self.seller_id=9950+self.seller_count\n",
    "        self.concate_seller(self.seller_id,self)\n",
    "\n",
    "    @classmethod\n",
    "    def inc_seller_count(cls):\n",
    "        cls.seller_count+=1\n",
    "\n",
    "    @classmethod\n",
    "    def concate_seller(cls,id,self):\n",
    "        cls.seller_details[id]=self\n",
    "\n",
    "\n",
    "seller('mohan',39,'mohan@gmail.com',9875412123,'hyd',1356789741,'whole-sale','laptop','hp','hp-15s',50000,10,15,'15-11-2023','15-11-2028')"
   ]
  }
 ],
 "metadata": {
  "kernelspec": {
   "display_name": "Python 3",
   "language": "python",
   "name": "python3"
  },
  "language_info": {
   "codemirror_mode": {
    "name": "ipython",
    "version": 3
   },
   "file_extension": ".py",
   "mimetype": "text/x-python",
   "name": "python",
   "nbconvert_exporter": "python",
   "pygments_lexer": "ipython3",
   "version": "3.10.7"
  }
 },
 "nbformat": 4,
 "nbformat_minor": 2
}
