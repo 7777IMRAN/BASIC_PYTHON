{
 "cells": [
  {
   "cell_type": "code",
   "execution_count": null,
   "metadata": {},
   "outputs": [],
   "source": []
  },
  {
   "cell_type": "markdown",
   "metadata": {},
   "source": [
    "package:\n",
    "1. package is a directory (folder) \n",
    "2. it containes one  __init__.py file and set of python modules \n",
    "3. each package represent specific mechanism\n",
    "\n",
    "__init__.py:\n",
    "1. it is a object file or constructor file or initialization file\n",
    "2. this file will take the permissions from operating system\n",
    "    permissions:(read/write/append/delete)\n",
    "\n",
    "python module:\n",
    "1. it is a python extension file \n",
    "2. it contains functions and class and objects \n",
    "    basic building blocks(tockens)\n",
    "3. each module will perform specefic functionality\n",
    "\n",
    "packages are classified into two types:\n",
    "1. predifined \n",
    "2. user defined package\n",
    "\n",
    "1. predefined package:\n",
    "    1. this are desighned by python developers based on real time senarious\n",
    "    examples:\n",
    "        1.django\n",
    "        2.flask\n",
    "        3.pandas\n",
    "        4.nampy\n",
    "        5.matplotlib\n",
    "        6.scipy\n",
    "        7.tkinter\n",
    "        8.pytest\n",
    "        ...\n",
    "    predefined modules:\n",
    "        1.the predefined modules are present in predefined packages \n",
    "        2. it contains predefined fuctions and classes\n",
    "        examples:\n",
    "            1.keyword\n",
    "            2.time\n",
    "            3.datetime\n",
    "            4.ittertools\n",
    "            5.math\n",
    "            6.json\n",
    "            7.pickle\n",
    "            8.abc (abstraction)\n",
    "            9.random\n",
    "            10.re (regular expression module)\n",
    "\n",
    "2. user defined packages:(custom packages)\n",
    "steps:\n",
    "    1. create the directory in perticular location\n",
    "    2. create constructor file inside the directory\n",
    "    3. the contructor file name is __init__.py\n",
    "    4. create python files with .py extension.\n",
    "    5. (this directory now  called a user defined package)"
   ]
  },
  {
   "cell_type": "markdown",
   "metadata": {},
   "source": [
    "pach1  =>Package\n",
    "1.__init__.py\n",
    "2.files.py => module\n",
    "    a=10\n",
    "    def sample(x,y):\n",
    "        return x,y\n",
    "    class demo:\n",
    "        def __init__(self,name,age):\n",
    "        self.name=name"
   ]
  },
  {
   "cell_type": "markdown",
   "metadata": {},
   "source": [
    "import:\n",
    "1. it is a keyword , it is used to extract the addresses from package or file\n",
    "2. it will extract the file address from the corrent package\n",
    "method1-syntax: import name\n",
    "\n",
    "            1.( it consider refference address)\n",
    "            2. names should be either (variable,class,function,file name,*(it will extract all the ref addreses from the file/package))\n",
    "\n",
    "method2-syntax: from file_name import functions/variables\n",
    "            Note: \n",
    "            1.here the imported functions/variables are only utilized(extracted) and \n",
    "            2.remaining functions/variables it will not extract\n",
    "from:\n",
    "1.it is keyword , it is used to point the location of the package/module\n",
    "2. from that location extract the reference address\n",
    "\n",
    "method3-syntax: from file_name import *\n",
    "            1. this statement will import all the (functions/variables) reference addresses from the file\n",
    "\n",
    "\n"
   ]
  },
  {
   "cell_type": "markdown",
   "metadata": {},
   "source": [
    "as: (aliase)\n",
    "1. it is a key word it is used to change the name of the identifier \n"
   ]
  }
 ],
 "metadata": {
  "language_info": {
   "name": "python"
  }
 },
 "nbformat": 4,
 "nbformat_minor": 2
}
