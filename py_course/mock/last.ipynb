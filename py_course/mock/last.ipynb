{
 "cells": [
  {
   "cell_type": "code",
   "execution_count": 25,
   "metadata": {},
   "outputs": [
    {
     "ename": "AttributeError",
     "evalue": "'company' object has no attribute 'add_details'",
     "output_type": "error",
     "traceback": [
      "\u001b[1;31m---------------------------------------------------------------------------\u001b[0m",
      "\u001b[1;31mAttributeError\u001b[0m                            Traceback (most recent call last)",
      "Cell \u001b[1;32mIn[25], line 35\u001b[0m\n\u001b[0;32m     31\u001b[0m         \u001b[38;5;129m@staticmethod\u001b[39m\n\u001b[0;32m     32\u001b[0m         \u001b[38;5;28;01mdef\u001b[39;00m \u001b[38;5;21mnotice\u001b[39m():\n\u001b[0;32m     33\u001b[0m             \u001b[38;5;28mprint\u001b[39m(\u001b[38;5;124m'\u001b[39m\u001b[38;5;124mwell come\u001b[39m\u001b[38;5;124m'\u001b[39m)\n\u001b[1;32m---> 35\u001b[0m obj1\u001b[38;5;241m=\u001b[39m\u001b[43mcompany\u001b[49m\u001b[43m(\u001b[49m\u001b[38;5;124;43m'\u001b[39;49m\u001b[38;5;124;43mname1\u001b[39;49m\u001b[38;5;124;43m'\u001b[39;49m\u001b[43m,\u001b[49m\u001b[38;5;124;43m'\u001b[39;49m\u001b[38;5;124;43m340209\u001b[39;49m\u001b[38;5;124;43m'\u001b[39;49m\u001b[43m,\u001b[49m\u001b[38;5;241;43m34000\u001b[39;49m\u001b[43m,\u001b[49m\u001b[38;5;124;43m'\u001b[39;49m\u001b[38;5;124;43m3.24/b village\u001b[39;49m\u001b[38;5;124;43m'\u001b[39;49m\u001b[43m,\u001b[49m\u001b[38;5;124;43m'\u001b[39;49m\u001b[38;5;124;43mmanager\u001b[39;49m\u001b[38;5;124;43m'\u001b[39;49m\u001b[43m,\u001b[49m\u001b[38;5;124;43m'\u001b[39;49m\u001b[38;5;124;43mmanager@gmail.com\u001b[39;49m\u001b[38;5;124;43m'\u001b[39;49m\u001b[43m)\u001b[49m\n\u001b[0;32m     36\u001b[0m obj2\u001b[38;5;241m=\u001b[39mcompany(\u001b[38;5;124m'\u001b[39m\u001b[38;5;124mname2\u001b[39m\u001b[38;5;124m'\u001b[39m,\u001b[38;5;124m'\u001b[39m\u001b[38;5;124m340469\u001b[39m\u001b[38;5;124m'\u001b[39m,\u001b[38;5;241m34055\u001b[39m,\u001b[38;5;124m'\u001b[39m\u001b[38;5;124m1.24/b village\u001b[39m\u001b[38;5;124m'\u001b[39m,\u001b[38;5;124m'\u001b[39m\u001b[38;5;124mdeveloper\u001b[39m\u001b[38;5;124m'\u001b[39m,\u001b[38;5;124m'\u001b[39m\u001b[38;5;124mdeveloper@gmail.com\u001b[39m\u001b[38;5;124m'\u001b[39m)\n\u001b[0;32m     38\u001b[0m \u001b[38;5;66;03m# def run():\u001b[39;00m\n\u001b[0;32m     39\u001b[0m \u001b[38;5;66;03m#     a=input('1.details\\n 2.salary hike\\n 3.notice')\u001b[39;00m\n\u001b[0;32m     40\u001b[0m \u001b[38;5;66;03m#     match a:\u001b[39;00m\n\u001b[1;32m   (...)\u001b[0m\n\u001b[0;32m     54\u001b[0m \u001b[38;5;66;03m#             print('select anything')\u001b[39;00m\n\u001b[0;32m     55\u001b[0m \u001b[38;5;66;03m# run()\u001b[39;00m\n",
      "Cell \u001b[1;32mIn[25], line 16\u001b[0m, in \u001b[0;36mcompany.__init__\u001b[1;34m(self, e_name, e_phone, e_salary, e_address, e_domain, e_email)\u001b[0m\n\u001b[0;32m     14\u001b[0m company\u001b[38;5;241m.\u001b[39mno_of_employes\u001b[38;5;241m+\u001b[39m\u001b[38;5;241m=\u001b[39m\u001b[38;5;241m1\u001b[39m\n\u001b[0;32m     15\u001b[0m \u001b[38;5;28mself\u001b[39m\u001b[38;5;241m.\u001b[39mid\u001b[38;5;241m=\u001b[39mcompany\u001b[38;5;241m.\u001b[39mno_of_employes\n\u001b[1;32m---> 16\u001b[0m \u001b[38;5;28;43mself\u001b[39;49m\u001b[38;5;241;43m.\u001b[39;49m\u001b[43madd_details\u001b[49m(\u001b[38;5;28mself\u001b[39m,\u001b[38;5;28mself\u001b[39m\u001b[38;5;241m.\u001b[39mid)\n\u001b[0;32m     18\u001b[0m \u001b[38;5;129m@classmethod\u001b[39m\n\u001b[0;32m     19\u001b[0m \u001b[38;5;28;01mdef\u001b[39;00m \u001b[38;5;21madd_details\u001b[39m(\u001b[38;5;28mcls\u001b[39m,\u001b[38;5;28mself\u001b[39m,\u001b[38;5;28mid\u001b[39m):\n\u001b[0;32m     20\u001b[0m     \u001b[38;5;28mcls\u001b[39m\u001b[38;5;241m.\u001b[39mdetails[\u001b[38;5;28mid\u001b[39m]\u001b[38;5;241m=\u001b[39m\u001b[38;5;28mself\u001b[39m\n",
      "\u001b[1;31mAttributeError\u001b[0m: 'company' object has no attribute 'add_details'"
     ]
    }
   ],
   "source": [
    "class company:\n",
    "    c_name='dsff'\n",
    "    c_address='lkj;l'\n",
    "    c_phone=78964546\n",
    "    details={}\n",
    "    no_of_employes=0\n",
    "    def __init__(self,e_name,e_phone,e_salary,e_address,e_domain,e_email):\n",
    "        self.e_name=e_name\n",
    "        self.e_phone=e_phone\n",
    "        self.e_salary=e_salary\n",
    "        self.e_address=e_address\n",
    "        self.e_domain=e_domain\n",
    "        self.e_email=e_email\n",
    "        company.no_of_employes+=1\n",
    "        self.id=company.no_of_employes\n",
    "        self.add_details(self,self.id)\n",
    "\n",
    "        @classmethod\n",
    "        def add_details(cls,self,id):\n",
    "            cls.details[id]=self\n",
    "\n",
    "        @classmethod\n",
    "        def details(self):\n",
    "            b=int(input('enter your id'))\n",
    "            if b in company.details:\n",
    "                for i in company.details[b]:\n",
    "                    print(i,' ',company.details[b][i])\n",
    "\n",
    "        def salary_hike(self):\n",
    "            pass\n",
    "        @staticmethod\n",
    "        def notice():\n",
    "            print('well come')\n",
    "\n",
    "obj1=company('name1','340209',34000,'3.24/b village','manager','manager@gmail.com')\n",
    "obj2=company('name2','340469',34055,'1.24/b village','developer','developer@gmail.com')\n",
    "\n",
    "# def run():\n",
    "#     a=input('1.details\\n 2.salary hike\\n 3.notice')\n",
    "#     match a:\n",
    "#         case '1':\n",
    "#             company.details()\n",
    "        \n",
    "#         case '2':\n",
    "#             b=input('enter your id')\n",
    "#             if b in company.details:\n",
    "#                 company.salary_hike(company.details[b])\n",
    "#             else:\n",
    "#                 print('id not present')\n",
    "\n",
    "#         case '3':\n",
    "#             company.notice()\n",
    "#         case __:\n",
    "#             print('select anything')\n",
    "# run()\n",
    "\n"
   ]
  }
 ],
 "metadata": {
  "kernelspec": {
   "display_name": "Python 3",
   "language": "python",
   "name": "python3"
  },
  "language_info": {
   "codemirror_mode": {
    "name": "ipython",
    "version": 3
   },
   "file_extension": ".py",
   "mimetype": "text/x-python",
   "name": "python",
   "nbconvert_exporter": "python",
   "pygments_lexer": "ipython3",
   "version": "3.10.7"
  }
 },
 "nbformat": 4,
 "nbformat_minor": 2
}
