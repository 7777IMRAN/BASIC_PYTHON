{
 "cells": [
  {
   "cell_type": "code",
   "execution_count": 1,
   "metadata": {},
   "outputs": [
    {
     "name": "stdout",
     "output_type": "stream",
     "text": [
      "((7369, 'SMITH', 'CLERK', 7902, datetime.date(1980, 12, 17), 800, None, 20), (7499, 'ALLEN', 'SALESMAN', 7698, datetime.date(1981, 2, 20), 1600, 300, 30), (7521, 'WARD', 'SALESMAN', 7698, datetime.date(1981, 2, 22), 1250, 500, 30), (7566, 'JONES', 'MANAGER', 7839, datetime.date(1981, 4, 2), 2975, None, 20), (7654, 'MARTIN', 'SALESMAN', 7698, datetime.date(1981, 9, 28), 1250, 1400, 30), (7698, 'BLAKE', 'MANAGER', 7839, datetime.date(1981, 5, 1), 2850, None, 30), (7782, 'CLARK', 'MANAGER', 7839, datetime.date(1981, 6, 9), 2450, None, 10), (7788, 'SCOTT', 'ANALYST', 7566, datetime.date(1987, 4, 19), 3000, None, 20), (7839, 'KING', 'PRESIDENT', None, datetime.date(1981, 11, 17), 5000, None, 10), (7844, 'TURNER', 'SALESMAN', 7698, datetime.date(1981, 9, 8), 1500, 0, 30), (7876, 'ADAMS', 'CLERK', 7788, datetime.date(1987, 5, 23), 1100, None, 20), (7900, 'JAMES', 'CLERK', 7698, datetime.date(1981, 12, 3), 950, None, 30), (7902, 'FORD', 'ANALYST', 7566, datetime.date(1981, 12, 3), 3000, None, 20), (7934, 'MILLER', 'CLERK', 7782, datetime.date(1982, 1, 23), 1300, None, 10))\n",
      "[datetime.date(1980, 12, 17), datetime.date(1981, 2, 20), datetime.date(1981, 2, 22), datetime.date(1981, 4, 2), datetime.date(1981, 9, 28), datetime.date(1981, 5, 1), datetime.date(1981, 6, 9), datetime.date(1987, 4, 19), datetime.date(1981, 11, 17), datetime.date(1981, 9, 8), datetime.date(1987, 5, 23), datetime.date(1981, 12, 3), datetime.date(1981, 12, 3), datetime.date(1982, 1, 23)]\n",
      "['1980-12-17', '1981-02-20', '1981-02-22', '1981-04-02', '1981-09-28', '1981-05-01', '1981-06-09', '1987-04-19', '1981-11-17', '1981-09-08', '1987-05-23', '1981-12-03', '1981-12-03', '1982-01-23']\n"
     ]
    }
   ],
   "source": [
    "import pymysql\n",
    "con=pymysql.connect(host='localhost',user='root',passwd='imran',database='scott')\n",
    "cur1=con.cursor()\n",
    "cur2=con.cursor()\n",
    "cur1.execute('select* from emp')\n",
    "res=cur1.fetchall()\n",
    "print(res)\n",
    "\n",
    "# cur2.execute('create table dellemp as select* from emp where 1=0')\n",
    "# cur2.execute('COMMIT')\n",
    "date=list()\n",
    "for i in res:\n",
    "    # print(i)\n",
    "    date.append(i[4])\n",
    "    # cur2.execute(f'insert into dellemp values{i[::]}')\n",
    "print(date)\n",
    "li=[]\n",
    "for i in date:\n",
    "    # print(i)\n",
    "    li.append(str(i))\n",
    "print(li)\n",
    "\n"
   ]
  },
  {
   "cell_type": "code",
   "execution_count": 2,
   "metadata": {},
   "outputs": [
    {
     "name": "stdout",
     "output_type": "stream",
     "text": [
      "((7369, 'SMITH', 'CLERK', 7902, datetime.date(1980, 12, 17), 800, None, 20), (7499, 'ALLEN', 'SALESMAN', 7698, datetime.date(1981, 2, 20), 1600, 300, 30), (7521, 'WARD', 'SALESMAN', 7698, datetime.date(1981, 2, 22), 1250, 500, 30), (7566, 'JONES', 'MANAGER', 7839, datetime.date(1981, 4, 2), 2975, None, 20), (7654, 'MARTIN', 'SALESMAN', 7698, datetime.date(1981, 9, 28), 1250, 1400, 30), (7698, 'BLAKE', 'MANAGER', 7839, datetime.date(1981, 5, 1), 2850, None, 30), (7782, 'CLARK', 'MANAGER', 7839, datetime.date(1981, 6, 9), 2450, None, 10), (7788, 'SCOTT', 'ANALYST', 7566, datetime.date(1987, 4, 19), 3000, None, 20), (7839, 'KING', 'PRESIDENT', None, datetime.date(1981, 11, 17), 5000, None, 10), (7844, 'TURNER', 'SALESMAN', 7698, datetime.date(1981, 9, 8), 1500, 0, 30), (7876, 'ADAMS', 'CLERK', 7788, datetime.date(1987, 5, 23), 1100, None, 20), (7900, 'JAMES', 'CLERK', 7698, datetime.date(1981, 12, 3), 950, None, 30), (7902, 'FORD', 'ANALYST', 7566, datetime.date(1981, 12, 3), 3000, None, 20), (7934, 'MILLER', 'CLERK', 7782, datetime.date(1982, 1, 23), 1300, None, 10))\n",
      "[[7369, 'SMITH', 'CLERK', 7902, '1980-12-17', datetime.date(1980, 12, 17), 800, None, 20], [7499, 'ALLEN', 'SALESMAN', 7698, '1981-02-20', datetime.date(1981, 2, 20), 1600, 300, 30], [7521, 'WARD', 'SALESMAN', 7698, '1981-02-22', datetime.date(1981, 2, 22), 1250, 500, 30], [7566, 'JONES', 'MANAGER', 7839, '1981-04-02', datetime.date(1981, 4, 2), 2975, None, 20], [7654, 'MARTIN', 'SALESMAN', 7698, '1981-09-28', datetime.date(1981, 9, 28), 1250, 1400, 30], [7698, 'BLAKE', 'MANAGER', 7839, '1981-05-01', datetime.date(1981, 5, 1), 2850, None, 30], [7782, 'CLARK', 'MANAGER', 7839, '1981-06-09', datetime.date(1981, 6, 9), 2450, None, 10], [7788, 'SCOTT', 'ANALYST', 7566, '1987-04-19', datetime.date(1987, 4, 19), 3000, None, 20], [7839, 'KING', 'PRESIDENT', None, '1981-11-17', datetime.date(1981, 11, 17), 5000, None, 10], [7844, 'TURNER', 'SALESMAN', 7698, '1981-09-08', datetime.date(1981, 9, 8), 1500, 0, 30], [7876, 'ADAMS', 'CLERK', 7788, '1987-05-23', datetime.date(1987, 5, 23), 1100, None, 20], [7900, 'JAMES', 'CLERK', 7698, '1981-12-03', datetime.date(1981, 12, 3), 950, None, 30], [7902, 'FORD', 'ANALYST', 7566, '1981-12-03', datetime.date(1981, 12, 3), 3000, None, 20], [7934, 'MILLER', 'CLERK', 7782, '1982-01-23', datetime.date(1982, 1, 23), 1300, None, 10]]\n"
     ]
    }
   ],
   "source": [
    "print(res)\n",
    "res2=[]\n",
    "for i in range(0,len(res)):\n",
    "    res2.append(list(res[i]))\n",
    "    res2[i].insert(4,li[i])\n",
    "print(res2)\n"
   ]
  },
  {
   "cell_type": "code",
   "execution_count": 3,
   "metadata": {},
   "outputs": [
    {
     "name": "stdout",
     "output_type": "stream",
     "text": [
      "[[7369, 'SMITH', 'CLERK', 7902, '1980-12-17', datetime.date(1980, 12, 17), 800, None, 20], [7499, 'ALLEN', 'SALESMAN', 7698, '1981-02-20', datetime.date(1981, 2, 20), 1600, 300, 30], [7521, 'WARD', 'SALESMAN', 7698, '1981-02-22', datetime.date(1981, 2, 22), 1250, 500, 30], [7566, 'JONES', 'MANAGER', 7839, '1981-04-02', datetime.date(1981, 4, 2), 2975, None, 20], [7654, 'MARTIN', 'SALESMAN', 7698, '1981-09-28', datetime.date(1981, 9, 28), 1250, 1400, 30], [7698, 'BLAKE', 'MANAGER', 7839, '1981-05-01', datetime.date(1981, 5, 1), 2850, None, 30], [7782, 'CLARK', 'MANAGER', 7839, '1981-06-09', datetime.date(1981, 6, 9), 2450, None, 10], [7788, 'SCOTT', 'ANALYST', 7566, '1987-04-19', datetime.date(1987, 4, 19), 3000, None, 20], [7839, 'KING', 'PRESIDENT', None, '1981-11-17', datetime.date(1981, 11, 17), 5000, None, 10], [7844, 'TURNER', 'SALESMAN', 7698, '1981-09-08', datetime.date(1981, 9, 8), 1500, 0, 30], [7876, 'ADAMS', 'CLERK', 7788, '1987-05-23', datetime.date(1987, 5, 23), 1100, None, 20], [7900, 'JAMES', 'CLERK', 7698, '1981-12-03', datetime.date(1981, 12, 3), 950, None, 30], [7902, 'FORD', 'ANALYST', 7566, '1981-12-03', datetime.date(1981, 12, 3), 3000, None, 20], [7934, 'MILLER', 'CLERK', 7782, '1982-01-23', datetime.date(1982, 1, 23), 1300, None, 10]]\n",
      "[[7369, 'SMITH', 'CLERK', 7902, '1980-12-17', 800, None, 20], [7499, 'ALLEN', 'SALESMAN', 7698, '1981-02-20', 1600, 300, 30], [7521, 'WARD', 'SALESMAN', 7698, '1981-02-22', 1250, 500, 30], [7566, 'JONES', 'MANAGER', 7839, '1981-04-02', 2975, None, 20], [7654, 'MARTIN', 'SALESMAN', 7698, '1981-09-28', 1250, 1400, 30], [7698, 'BLAKE', 'MANAGER', 7839, '1981-05-01', 2850, None, 30], [7782, 'CLARK', 'MANAGER', 7839, '1981-06-09', 2450, None, 10], [7788, 'SCOTT', 'ANALYST', 7566, '1987-04-19', 3000, None, 20], [7839, 'KING', 'PRESIDENT', None, '1981-11-17', 5000, None, 10], [7844, 'TURNER', 'SALESMAN', 7698, '1981-09-08', 1500, 0, 30], [7876, 'ADAMS', 'CLERK', 7788, '1987-05-23', 1100, None, 20], [7900, 'JAMES', 'CLERK', 7698, '1981-12-03', 950, None, 30], [7902, 'FORD', 'ANALYST', 7566, '1981-12-03', 3000, None, 20], [7934, 'MILLER', 'CLERK', 7782, '1982-01-23', 1300, None, 10]]\n",
      "[[7369, 'SMITH', 'CLERK', 7902, '1980-12-17', 800, 0, 20], [7499, 'ALLEN', 'SALESMAN', 7698, '1981-02-20', 1600, 300, 30], [7521, 'WARD', 'SALESMAN', 7698, '1981-02-22', 1250, 500, 30], [7566, 'JONES', 'MANAGER', 7839, '1981-04-02', 2975, 0, 20], [7654, 'MARTIN', 'SALESMAN', 7698, '1981-09-28', 1250, 1400, 30], [7698, 'BLAKE', 'MANAGER', 7839, '1981-05-01', 2850, 0, 30], [7782, 'CLARK', 'MANAGER', 7839, '1981-06-09', 2450, 0, 10], [7788, 'SCOTT', 'ANALYST', 7566, '1987-04-19', 3000, 0, 20], [7839, 'KING', 'PRESIDENT', 0, '1981-11-17', 5000, 0, 10], [7844, 'TURNER', 'SALESMAN', 7698, '1981-09-08', 1500, 0, 30], [7876, 'ADAMS', 'CLERK', 7788, '1987-05-23', 1100, 0, 20], [7900, 'JAMES', 'CLERK', 7698, '1981-12-03', 950, 0, 30], [7902, 'FORD', 'ANALYST', 7566, '1981-12-03', 3000, 0, 20], [7934, 'MILLER', 'CLERK', 7782, '1982-01-23', 1300, 0, 10]]\n"
     ]
    }
   ],
   "source": [
    "print(res2)\n",
    "for i in res2:\n",
    "    for j in range(len(i)):\n",
    "        if j==5:\n",
    "            del i[j]\n",
    "print(res2)\n",
    "for i in range(len(res2)):\n",
    "    for j in range(len(res2[i])):\n",
    "        if res2[i][j]==None:\n",
    "            res2[i][j]=0\n",
    "print(res2)"
   ]
  },
  {
   "cell_type": "code",
   "execution_count": 4,
   "metadata": {},
   "outputs": [
    {
     "name": "stdout",
     "output_type": "stream",
     "text": [
      "((7369, 'SMITH', 'CLERK', 7902, '1980-12-17', 800, 0, 20), (7499, 'ALLEN', 'SALESMAN', 7698, '1981-02-20', 1600, 300, 30), (7521, 'WARD', 'SALESMAN', 7698, '1981-02-22', 1250, 500, 30), (7566, 'JONES', 'MANAGER', 7839, '1981-04-02', 2975, 0, 20), (7654, 'MARTIN', 'SALESMAN', 7698, '1981-09-28', 1250, 1400, 30), (7698, 'BLAKE', 'MANAGER', 7839, '1981-05-01', 2850, 0, 30), (7782, 'CLARK', 'MANAGER', 7839, '1981-06-09', 2450, 0, 10), (7788, 'SCOTT', 'ANALYST', 7566, '1987-04-19', 3000, 0, 20), (7839, 'KING', 'PRESIDENT', 0, '1981-11-17', 5000, 0, 10), (7844, 'TURNER', 'SALESMAN', 7698, '1981-09-08', 1500, 0, 30), (7876, 'ADAMS', 'CLERK', 7788, '1987-05-23', 1100, 0, 20), (7900, 'JAMES', 'CLERK', 7698, '1981-12-03', 950, 0, 30), (7902, 'FORD', 'ANALYST', 7566, '1981-12-03', 3000, 0, 20), (7934, 'MILLER', 'CLERK', 7782, '1982-01-23', 1300, 0, 10))\n"
     ]
    }
   ],
   "source": [
    "res3=[]\n",
    "for i in res2:\n",
    "    res3.append(tuple(i))\n",
    "res3=tuple(res3)\n",
    "print(res3)\n"
   ]
  },
  {
   "cell_type": "code",
   "execution_count": 5,
   "metadata": {},
   "outputs": [
    {
     "name": "stdout",
     "output_type": "stream",
     "text": [
      "insert into dellemp values(7369, 'SMITH', 'CLERK', 7902, '1980-12-17', 800, 0, 20)\n",
      "insert into dellemp values(7499, 'ALLEN', 'SALESMAN', 7698, '1981-02-20', 1600, 300, 30)\n",
      "insert into dellemp values(7521, 'WARD', 'SALESMAN', 7698, '1981-02-22', 1250, 500, 30)\n",
      "insert into dellemp values(7566, 'JONES', 'MANAGER', 7839, '1981-04-02', 2975, 0, 20)\n",
      "insert into dellemp values(7654, 'MARTIN', 'SALESMAN', 7698, '1981-09-28', 1250, 1400, 30)\n",
      "insert into dellemp values(7698, 'BLAKE', 'MANAGER', 7839, '1981-05-01', 2850, 0, 30)\n",
      "insert into dellemp values(7782, 'CLARK', 'MANAGER', 7839, '1981-06-09', 2450, 0, 10)\n",
      "insert into dellemp values(7788, 'SCOTT', 'ANALYST', 7566, '1987-04-19', 3000, 0, 20)\n",
      "insert into dellemp values(7839, 'KING', 'PRESIDENT', 0, '1981-11-17', 5000, 0, 10)\n",
      "insert into dellemp values(7844, 'TURNER', 'SALESMAN', 7698, '1981-09-08', 1500, 0, 30)\n",
      "insert into dellemp values(7876, 'ADAMS', 'CLERK', 7788, '1987-05-23', 1100, 0, 20)\n",
      "insert into dellemp values(7900, 'JAMES', 'CLERK', 7698, '1981-12-03', 950, 0, 30)\n",
      "insert into dellemp values(7902, 'FORD', 'ANALYST', 7566, '1981-12-03', 3000, 0, 20)\n",
      "insert into dellemp values(7934, 'MILLER', 'CLERK', 7782, '1982-01-23', 1300, 0, 10)\n"
     ]
    }
   ],
   "source": [
    "import pymysql\n",
    "con=pymysql.connect(host='localhost',user='root',passwd='imran',database='scott')\n",
    "cur1=con.cursor()\n",
    "for i in range(0,len(res3)):\n",
    "    a='insert into dellemp values'+f'{res3[i]}'\n",
    "    print(a)\n",
    "    cur1.execute(f'{a}')"
   ]
  },
  {
   "cell_type": "code",
   "execution_count": 6,
   "metadata": {},
   "outputs": [],
   "source": [
    "con.commit()"
   ]
  },
  {
   "cell_type": "code",
   "execution_count": 7,
   "metadata": {},
   "outputs": [
    {
     "name": "stdout",
     "output_type": "stream",
     "text": [
      "((7369, 'SMITH', 'CLERK', 7902, datetime.date(1980, 12, 17), 800, 0, 20), (7499, 'ALLEN', 'SALESMAN', 7698, datetime.date(1981, 2, 20), 1600, 300, 30), (7521, 'WARD', 'SALESMAN', 7698, datetime.date(1981, 2, 22), 1250, 500, 30), (7566, 'JONES', 'MANAGER', 7839, datetime.date(1981, 4, 2), 2975, 0, 20), (7654, 'MARTIN', 'SALESMAN', 7698, datetime.date(1981, 9, 28), 1250, 1400, 30), (7698, 'BLAKE', 'MANAGER', 7839, datetime.date(1981, 5, 1), 2850, 0, 30), (7782, 'CLARK', 'MANAGER', 7839, datetime.date(1981, 6, 9), 2450, 0, 10), (7788, 'SCOTT', 'ANALYST', 7566, datetime.date(1987, 4, 19), 3000, 0, 20), (7839, 'KING', 'PRESIDENT', 0, datetime.date(1981, 11, 17), 5000, 0, 10), (7844, 'TURNER', 'SALESMAN', 7698, datetime.date(1981, 9, 8), 1500, 0, 30), (7876, 'ADAMS', 'CLERK', 7788, datetime.date(1987, 5, 23), 1100, 0, 20), (7900, 'JAMES', 'CLERK', 7698, datetime.date(1981, 12, 3), 950, 0, 30), (7902, 'FORD', 'ANALYST', 7566, datetime.date(1981, 12, 3), 3000, 0, 20), (7934, 'MILLER', 'CLERK', 7782, datetime.date(1982, 1, 23), 1300, 0, 10), (7369, 'SMITH', 'CLERK', 7902, datetime.date(1980, 12, 17), 800, 0, 20), (7499, 'ALLEN', 'SALESMAN', 7698, datetime.date(1981, 2, 20), 1600, 300, 30), (7521, 'WARD', 'SALESMAN', 7698, datetime.date(1981, 2, 22), 1250, 500, 30), (7566, 'JONES', 'MANAGER', 7839, datetime.date(1981, 4, 2), 2975, 0, 20), (7654, 'MARTIN', 'SALESMAN', 7698, datetime.date(1981, 9, 28), 1250, 1400, 30), (7698, 'BLAKE', 'MANAGER', 7839, datetime.date(1981, 5, 1), 2850, 0, 30), (7782, 'CLARK', 'MANAGER', 7839, datetime.date(1981, 6, 9), 2450, 0, 10), (7788, 'SCOTT', 'ANALYST', 7566, datetime.date(1987, 4, 19), 3000, 0, 20), (7839, 'KING', 'PRESIDENT', 0, datetime.date(1981, 11, 17), 5000, 0, 10), (7844, 'TURNER', 'SALESMAN', 7698, datetime.date(1981, 9, 8), 1500, 0, 30), (7876, 'ADAMS', 'CLERK', 7788, datetime.date(1987, 5, 23), 1100, 0, 20), (7900, 'JAMES', 'CLERK', 7698, datetime.date(1981, 12, 3), 950, 0, 30), (7902, 'FORD', 'ANALYST', 7566, datetime.date(1981, 12, 3), 3000, 0, 20), (7934, 'MILLER', 'CLERK', 7782, datetime.date(1982, 1, 23), 1300, 0, 10))\n"
     ]
    }
   ],
   "source": [
    "cur1.execute('select* from dellemp')\n",
    "res=cur1.fetchall()\n",
    "print(res)"
   ]
  }
 ],
 "metadata": {
  "kernelspec": {
   "display_name": "Python 3",
   "language": "python",
   "name": "python3"
  },
  "language_info": {
   "codemirror_mode": {
    "name": "ipython",
    "version": 3
   },
   "file_extension": ".py",
   "mimetype": "text/x-python",
   "name": "python",
   "nbconvert_exporter": "python",
   "pygments_lexer": "ipython3",
   "version": "3.10.7"
  }
 },
 "nbformat": 4,
 "nbformat_minor": 2
}
