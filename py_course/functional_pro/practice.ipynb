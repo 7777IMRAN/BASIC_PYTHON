{
 "cells": [
  {
   "cell_type": "code",
   "execution_count": 4,
   "metadata": {},
   "outputs": [
    {
     "name": "stdout",
     "output_type": "stream",
     "text": [
      "0 {}\n"
     ]
    }
   ],
   "source": [
    "class bank:\n",
    "    b_name='SBI'\n",
    "    IFSC='SBI1234'\n",
    "    banch='hyd'\n",
    "    num=0\n",
    "    def __init__(self):\n",
    "        name='khann'\n",
    "        print(bank.num,self.__dict__)\n",
    "obj=bank()\n"
   ]
  },
  {
   "cell_type": "code",
   "execution_count": 9,
   "metadata": {},
   "outputs": [
    {
     "name": "stdout",
     "output_type": "stream",
     "text": [
      "['5', '5']\n"
     ]
    }
   ],
   "source": [
    "s=(input('enter'))\n",
    "b=s.split()\n",
    "print(b)"
   ]
  },
  {
   "cell_type": "code",
   "execution_count": 8,
   "metadata": {},
   "outputs": [
    {
     "name": "stdout",
     "output_type": "stream",
     "text": [
      "(('IMRAN', 100, 1111),)\n",
      "already registered pleaze login\n",
      "exited\n"
     ]
    }
   ],
   "source": [
    "import pymysql\n",
    "con=pymysql.connect(host='localhost',user='root',passwd='imran',database='mahfil')\n",
    "cur1=con.cursor()\n",
    "cur2=con.cursor()\n",
    "\n",
    "\n",
    "# class hotel:\n",
    "#     users={}\n",
    "#     address='hyd'\n",
    "#     def __init__(self,id,pin):\n",
    "#         self.id=id\n",
    "#         self.pin=pin\n",
    "#         print(self.__dict__)\n",
    "#         for i in hotel.__dict__:\n",
    "#             print(i,hotel.__dict__[i],sep='             ')\n",
    "\n",
    "\n",
    "def home(u_name,id,pin):\n",
    "    \n",
    "    pass\n",
    "\n",
    "def login():\n",
    "    # cur1.execute(f'select* from users where name=\"{u_name}\"')\n",
    "    # VAL=cur1._rows\n",
    "    # print(VAL)\n",
    "    # # u_name=hotel(id,pin)\n",
    "    # class food_menu:\n",
    "    #      pass\n",
    "    u_name=input('enter your name')\n",
    "    id=int(input('inter ID:'))\n",
    "    pin=int(input('enter PIN:'))\n",
    "    cur1.execute(f'select* from users where name=\"{u_name}\"')\n",
    "    value=cur1._rows\n",
    "    # print(value)\n",
    "    if len(value)!=0 and id==value[0][1] and pin==value[0][2]:\n",
    "        home(u_name,id,pin)\n",
    "        # pass\n",
    "    else:\n",
    "        print('enter login details currectly')\n",
    "\n",
    "def register():\n",
    "    u_name=input('enter your name')\n",
    "    id=int(input('inter ID:'))\n",
    "    pin=int(input('enter PIN:'))\n",
    "    cur1.execute(f'select * from users where name=\"{u_name}\" ')\n",
    "    value=cur1._rows\n",
    "    print(value)\n",
    "    if len(value)!=0:\n",
    "        if u_name==value[0][0]:\n",
    "            print('already registered','pleaze login')\n",
    "            run()\n",
    "    else:\n",
    "            print('this line')\n",
    "            cur1.execute(f\"insert into users values ('{u_name}', {id}, {pin})\")\n",
    "            # con.commit()\n",
    "            login(u_name,id,pin)\n",
    "\n",
    "def run():\n",
    "    choice=int(input('select:\\n1.Register\\n2.Login\\n3.exit'))\n",
    "    match choice:\n",
    "        case 1:\n",
    "            register()\n",
    "        case 2:\n",
    "            login()\n",
    "        case _:\n",
    "            print('exited')\n",
    "            return\n",
    "# user1=hotel(100,1111)\n",
    "\n",
    "run()\n",
    "# print(hotel.users)\n",
    "cur1.close()\n",
    "cur2.close()\n",
    "con.close()\n"
   ]
  },
  {
   "cell_type": "code",
   "execution_count": 72,
   "metadata": {},
   "outputs": [],
   "source": [
    "# import pymysql\n",
    "# con=pymysql.connect(host='localhost',user='root',passwd='imran')\n",
    "# cur1=con.cursor()\n",
    "# cur1.execute('create database Mahfil')\n",
    "# print('success...')\n",
    "# cur1.close()\n",
    "# con.close()"
   ]
  },
  {
   "cell_type": "code",
   "execution_count": 15,
   "metadata": {},
   "outputs": [
    {
     "name": "stdout",
     "output_type": "stream",
     "text": [
      "(('IMRANk', 100, 1111),) <class 'tuple'>\n",
      "(('MILLER', 501, 94), ('BLACK', 502, 98), ('IMRAN', 503, 77), ('HARI', 504, 83), ('IMRANj', 100, 1111), ('IMRANk', 100, 1111))\n"
     ]
    }
   ],
   "source": [
    "import pymysql\n",
    "con=pymysql.connect(host='localhost',user='root',passwd='imran',database='mydb15')\n",
    "cur1=con.cursor()\n",
    "name='IMRANk'\n",
    "id=100\n",
    "pin=1111\n",
    "# cur1.execute(f'select name from student ')\n",
    "# va=cur1._rows\n",
    "# print(va,type(va))\n",
    "cur1.execute(f'select rollno,marks from student where name=\"IMRAN\" ')\n",
    "cur1.execute(f'insert into student values (\"{name}\",{id},{pin})')\n",
    "cur1.execute(f'select * from student where name=\"{name}\"')\n",
    "h=cur1._rows\n",
    "print(h,type(h))\n",
    "cur1.execute(f'select* from student')\n",
    "\n",
    "# print(cur1._rows)\n",
    "# cur1.execute('update users set id=100 where name=\"IMRAN\"')\n",
    "# cur1.execute('select* from users')\n",
    "value=cur1._rows\n",
    "print(value)\n",
    "# con.commit()\n",
    "# print(cur1)\n",
    "# for i in cur1:\n",
    "    # print(i)\n",
    "cur1.close()\n",
    "con.close()\n",
    "# print(value)\n",
    "\n"
   ]
  }
 ],
 "metadata": {
  "kernelspec": {
   "display_name": "Python 3",
   "language": "python",
   "name": "python3"
  },
  "language_info": {
   "codemirror_mode": {
    "name": "ipython",
    "version": 3
   },
   "file_extension": ".py",
   "mimetype": "text/x-python",
   "name": "python",
   "nbconvert_exporter": "python",
   "pygments_lexer": "ipython3",
   "version": "3.10.7"
  }
 },
 "nbformat": 4,
 "nbformat_minor": 2
}
