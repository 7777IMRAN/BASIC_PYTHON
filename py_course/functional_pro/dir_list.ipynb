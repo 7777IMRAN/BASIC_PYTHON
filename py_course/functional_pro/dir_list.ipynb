{
 "cells": [
  {
   "cell_type": "code",
   "execution_count": 2,
   "metadata": {},
   "outputs": [
    {
     "name": "stdout",
     "output_type": "stream",
     "text": [
      "['__add__', '__class__', '__class_getitem__', '__contains__', '__delattr__', '__delitem__', '__dir__', '__doc__', '__eq__', '__format__', '__ge__', '__getattribute__', '__getitem__', '__gt__', '__hash__', '__iadd__', '__imul__', '__init__', '__init_subclass__', '__iter__', '__le__', '__len__', '__lt__', '__mul__', '__ne__', '__new__', '__reduce__', '__reduce_ex__', '__repr__', '__reversed__', '__rmul__', '__setattr__', '__setitem__', '__sizeof__', '__str__', '__subclasshook__', 'append', 'clear', 'copy', 'count', 'extend', 'index', 'insert', 'pop', 'remove', 'reverse', 'sort']\n"
     ]
    }
   ],
   "source": [
    "['append', 'clear', 'copy', 'count', 'extend', 'index', 'insert', 'pop', 'remove', 'reverse', 'sort']\n",
    "print(dir(list))\n"
   ]
  },
  {
   "cell_type": "code",
   "execution_count": 150,
   "metadata": {},
   "outputs": [
    {
     "name": "stdout",
     "output_type": "stream",
     "text": [
      "2636557246976 [10, 20, 30]\n",
      "2636557246976 [10, 20, 30, {'a': 10}]\n"
     ]
    }
   ],
   "source": [
    "#append()\n",
    "l=[10,20,30]\n",
    "print(id(l),l)\n",
    "# l.append((1,2,3))\n",
    "# print(l)\n",
    "l.append({'a':10})\n",
    "print(id(l),l)"
   ]
  },
  {
   "cell_type": "code",
   "execution_count": 13,
   "metadata": {},
   "outputs": [
    {
     "name": "stdout",
     "output_type": "stream",
     "text": [
      "1881829240960 [10, 20, 30]\n",
      "1881829240960 [10, 20, 30, {'a': 20}]\n"
     ]
    }
   ],
   "source": [
    "l=[10,20,30]\n",
    "print(id(l),l)\n",
    "def u_append(coll,ele):\n",
    "    if type(coll)!=list:\n",
    "        return -1\n",
    "    coll+=[ele]\n",
    "u_append(l,{'a':20})\n",
    "print(id(l),l)"
   ]
  },
  {
   "cell_type": "code",
   "execution_count": 21,
   "metadata": {},
   "outputs": [
    {
     "name": "stdout",
     "output_type": "stream",
     "text": [
      "1881829278528 [10, 20, 30]\n",
      "[10, 20, 30, b'324jl']\n",
      "1881829278528 [10, 20, 30, b'324jl']\n"
     ]
    }
   ],
   "source": [
    "#extend()\n",
    "#id accepts only 1 value and value should be a collection\n",
    "l=[10,20,30]\n",
    "print(id(l),l)\n",
    "# l.extend(('a',10))\n",
    "# print(id(l),l)\n",
    "def u_extend(coll,ele):\n",
    "    if type(coll)!=list:\n",
    "        return 'main object should be list'\n",
    "    if type(ele) not in [str,list,tuple,set,dict,bytes]:\n",
    "        return 'ele value should be in collection object'\n",
    "    if type(ele)==bytes:\n",
    "        coll+=[ele]\n",
    "        return coll\n",
    "    for i in ele:\n",
    "        coll+=[i]\n",
    "print(u_extend(l,b'324jl'))\n",
    "print(id(l),l)\n"
   ]
  },
  {
   "cell_type": "code",
   "execution_count": 49,
   "metadata": {},
   "outputs": [
    {
     "name": "stdout",
     "output_type": "stream",
     "text": [
      "2636551123392 ['a', 'b', 'c', 'd']\n",
      "2636551123392 [(100, 200), 'a', 'b', 'c', 'd']\n"
     ]
    }
   ],
   "source": [
    "#insert()\n",
    "t=['a','b','c','d']\n",
    "print(id(t),t)\n",
    "# t.insert(1,(100,200))\n",
    "# t.insert(-1,(100,200))\n",
    "t.insert(-90,(100,200))\n",
    "print(id(t),t)"
   ]
  },
  {
   "cell_type": "code",
   "execution_count": 50,
   "metadata": {},
   "outputs": [
    {
     "name": "stdout",
     "output_type": "stream",
     "text": [
      "2636578627648 ['a', 'b', 'c', 'd']\n",
      "2636578627648 ['hello', 'a', 'b', 'c', 'd']\n"
     ]
    }
   ],
   "source": [
    "t=['a','b','c','d']\n",
    "print(id(t),t)\n",
    "def u_insert(coll,index,ele):\n",
    "    if type(coll)!= list and type(index)!=int:\n",
    "        return -1\n",
    "    coll[index:index]=[ele]\n",
    "u_insert(t,-90,'hello')\n",
    "print(id(t),t)"
   ]
  },
  {
   "cell_type": "code",
   "execution_count": 29,
   "metadata": {},
   "outputs": [
    {
     "name": "stdout",
     "output_type": "stream",
     "text": [
      "0\n",
      "1\n",
      "2\n",
      "3\n",
      "3\n",
      "4\n"
     ]
    }
   ],
   "source": [
    "#without using slicing and with same address\n",
    "i=0\n",
    "while i<5:\n",
    "    count=0\n",
    "    if i==3 and count!=1:\n",
    "        print (i)\n",
    "        i-1\n",
    "        count+=1\n",
    "    print(i)\n",
    "    i+=1\n"
   ]
  },
  {
   "cell_type": "code",
   "execution_count": 54,
   "metadata": {},
   "outputs": [
    {
     "name": "stdout",
     "output_type": "stream",
     "text": [
      "2636557412544 ['a', 'b', 'c', 'd']\n",
      "2636557412544 ['z', 'a', 'b', 'c', 'd']\n"
     ]
    }
   ],
   "source": [
    "t=['a','b','c','d']\n",
    "print(id(t),t)\n",
    "for i in range(len(t)+1):\n",
    "    if i!=0:\n",
    "        t.append(t[0])\n",
    "        del(t[0])\n",
    "    else:\n",
    "        t.append('z')\n",
    "print(id(t),t)"
   ]
  },
  {
   "cell_type": "code",
   "execution_count": 158,
   "metadata": {},
   "outputs": [
    {
     "name": "stdout",
     "output_type": "stream",
     "text": [
      "2636557245952 ['a', 'b', 'c', 'd']\n",
      "2636557245952 ['a', 'b', 'c', 'd', 'hello']\n"
     ]
    }
   ],
   "source": [
    "##without using slicing and with same address\n",
    "# Type 1: using compound assignment += operater\n",
    "t=['a','b','c','d']\n",
    "print(id(t),t)\n",
    "def u_insert(coll,index,ele):\n",
    "    if index<0:\n",
    "        if -len(coll)>index:\n",
    "            index=0\n",
    "        else:\n",
    "            index=index+len(coll)\n",
    "    if index>=len(coll):\n",
    "        index=len(coll)  \n",
    "    for i in range(len(coll)+1):\n",
    "        if i!=index:\n",
    "            coll+=coll[0]\n",
    "            del(coll[0])\n",
    "        else:\n",
    "            coll+=[ele]\n",
    "    return coll\n",
    "u_insert(t,5,'hello')\n",
    "print(id(t),t)"
   ]
  },
  {
   "cell_type": "code",
   "execution_count": 157,
   "metadata": {},
   "outputs": [
    {
     "name": "stdout",
     "output_type": "stream",
     "text": [
      "2636579617664 ['a', 'b', 'c', 'd']\n",
      "2636579617664 ['a', 'b', 'c', 'd', 'hello']\n"
     ]
    }
   ],
   "source": [
    "t=['a','b','c','d']\n",
    "print(id(t),t)\n",
    "t.insert(5,'hello')\n",
    "print(id(t),t)"
   ]
  },
  {
   "cell_type": "code",
   "execution_count": 149,
   "metadata": {},
   "outputs": [
    {
     "name": "stdout",
     "output_type": "stream",
     "text": [
      "2636579782208 ['a', 'b', 'c', 'd']\n",
      "2636579782208 ['a', 'b', 'c', 'd', 'hello']\n"
     ]
    }
   ],
   "source": [
    "##without using slicing and with same address\n",
    "# Type 2: using append() function\n",
    "t=['a','b','c','d']\n",
    "print(id(t),t)\n",
    "def u_insert(coll,index,ele):\n",
    "    if index<0:\n",
    "        if -len(coll)>index:\n",
    "            index=0\n",
    "        else:\n",
    "            index=index+len(coll)\n",
    "    if index>=len(coll):\n",
    "        index=len(coll)  \n",
    "    for i in range(len(coll)+1):\n",
    "        if i!=index:\n",
    "            coll.append(coll[0])\n",
    "            del(coll[0])\n",
    "        else:\n",
    "            coll.append(ele)\n",
    "    return coll\n",
    "u_insert(t,5,'hello')\n",
    "print(id(t),t)"
   ]
  },
  {
   "cell_type": "code",
   "execution_count": 148,
   "metadata": {},
   "outputs": [
    {
     "name": "stdout",
     "output_type": "stream",
     "text": [
      "2636557412160 ['a', 'b', 'c', 'd']\n",
      "2636557412160 ['a', 'b', 'c', 'd', 'hello']\n"
     ]
    }
   ],
   "source": [
    "t=['a','b','c','d']\n",
    "print(id(t),t)\n",
    "t.insert(5,'hello')\n",
    "print(id(t),t)"
   ]
  },
  {
   "cell_type": "markdown",
   "metadata": {},
   "source": [
    "APPEND: it is a predefined list function , it is used to append the any type of value ending of the existing list without change the list refference address, it will append as it is value inside the list, and it will not return any value, and it will accept only one argument and that value can be any type\n",
    "\n",
    "EXTEND: it is a predefined list function, it is used to append the list of values of ending of the existing list without change the refference address, it will append only data items inside the collection,it will not return any value , it will accept only iterable value (collection datatype) \n",
    "INSERT: IT Is a predefined function , it is used to insert the new value in specific position from existing list, and without changing the refference address, it will insert any type of value in specific position by the help of index value, it will accept one index value and one actual value, and it will not return any type of value"
   ]
  },
  {
   "cell_type": "code",
   "execution_count": 153,
   "metadata": {},
   "outputs": [
    {
     "name": "stdout",
     "output_type": "stream",
     "text": [
      "2\n",
      "2\n"
     ]
    }
   ],
   "source": [
    "x=['a', 'b', 'c', 'hello', 'd','a','hello',10,20,10]\n",
    "print(x.count('hello'))\n",
    "# print(x.count(100))\n",
    "def u_count(coll,ele):\n",
    "    if type(coll)!=list:\n",
    "        return -1\n",
    "    count=0\n",
    "    for i in coll:\n",
    "        if i==ele:\n",
    "            count+=1\n",
    "    return count\n",
    "print(u_count(x,'hello'))\n"
   ]
  },
  {
   "cell_type": "code",
   "execution_count": 155,
   "metadata": {},
   "outputs": [
    {
     "name": "stdout",
     "output_type": "stream",
     "text": [
      "1\n",
      "1\n"
     ]
    }
   ],
   "source": [
    "#index()\n",
    "x=['a', 'b', 'c', 'hello', 'd','a','hello','hello',10,20,10]\n",
    "def u_index(coll,ele,start=0,end=None):\n",
    "    if type(coll)!=list:\n",
    "        return -1\n",
    "    if start<0:\n",
    "        start=start+len(coll)\n",
    "    if end==None:\n",
    "        end=len(coll)\n",
    "    if end<0:\n",
    "        end=end+len(coll)\n",
    "    for i in range(0,len(coll)):\n",
    "        if coll[i]==ele:\n",
    "            return i\n",
    "    return -1\n",
    "print(x.index('b'))\n",
    "print(u_index(x,'b'))"
   ]
  },
  {
   "cell_type": "code",
   "execution_count": 20,
   "metadata": {},
   "outputs": [
    {
     "data": {
      "text/plain": [
       "ValueError"
      ]
     },
     "execution_count": 20,
     "metadata": {},
     "output_type": "execute_result"
    }
   ],
   "source": [
    "x=['a', 'b', 'c', 'hello', 'd','a','hello','hello',10,20,10]\n",
    "# print(x.index('a'))\n",
    "def u_iindex(coll,ele,start=0,end=None):\n",
    "    if type(coll)!=list: return -1\n",
    "    if start<0:start=start+len(coll)\n",
    "    if end==None: end=len(coll)\n",
    "    if end<0:\n",
    "        end=end+len(coll)\n",
    "    for i in range(start,end):\n",
    "        if coll[i]==ele:\n",
    "            return i\n",
    "    return ValueError\n",
    "u_iindex(x,10,-90,-110)\n"
   ]
  },
  {
   "cell_type": "code",
   "execution_count": 25,
   "metadata": {},
   "outputs": [
    {
     "name": "stdout",
     "output_type": "stream",
     "text": [
      "2181880428096 ['a', 'b', 'c', 'hello', 10, 20, 10]\n",
      "2181880428096 [10, 20, 10, 'hello', 'c', 'b', 'a']\n"
     ]
    }
   ],
   "source": [
    "#reverse()\n",
    "x=['a', 'b', 'c', 'hello',10,20,10]\n",
    "print(id(x),x)\n",
    "# x.reverse()\n",
    "# print(id(x),x)\n",
    "def u_reverse(coll):\n",
    "    j=-1\n",
    "    for i in range(0,len(coll)//2):\n",
    "        coll[i],coll[j]=coll[j],coll[i]\n",
    "        j-=1\n",
    "u_reverse(x)\n",
    "print(id(x),x)"
   ]
  },
  {
   "cell_type": "code",
   "execution_count": 1,
   "metadata": {},
   "outputs": [
    {
     "name": "stdout",
     "output_type": "stream",
     "text": [
      "[10, 20, 30, 'abc', [10, 20, 30]]\n",
      "[10, 20, 30, 'abc', [10, 20, 30]]\n"
     ]
    }
   ],
   "source": [
    "#copy()\n",
    "l=[10,20,30,'abc',[10,20,30]]\n",
    "x=l.copy()\n",
    "print(l)\n",
    "print(x)\n"
   ]
  },
  {
   "cell_type": "code",
   "execution_count": 4,
   "metadata": {},
   "outputs": [
    {
     "name": "stdout",
     "output_type": "stream",
     "text": [
      "2675295926336 [10, 20, 30, 'abc', [10, 20, 30]]\n",
      "2675295925888 [10, 20, 30, 'abc', [10, 20, 30]]\n",
      "[10, 20, 30, 'abc', [10, 20, 30], 150, 160]\n",
      "[10, 20, 30, 'abc', [10, 20, 30]]\n",
      "[10, 20, 30, 'abc', [10, 20, 30, 'a', 'b', 'c'], 150, 160]\n",
      "[10, 20, 30, 'abc', [10, 20, 30, 'a', 'b', 'c']]\n"
     ]
    }
   ],
   "source": [
    "l=[10,20,30,'abc',[10,20,30]]\n",
    "print(id(l),l)\n",
    "def u_copy(coll):\n",
    "    if type(coll)!=list:\n",
    "        return -1\n",
    "    res=[]\n",
    "    for i in coll:\n",
    "        res+=[i]\n",
    "    return res\n",
    "temp=u_copy(l)\n",
    "print(id(temp),temp)\n",
    "l+=[150,160]\n",
    "print(l)\n",
    "print(temp)\n",
    "temp[-1]+=['a','b','c']\n",
    "print(l)\n",
    "print(temp)"
   ]
  },
  {
   "cell_type": "code",
   "execution_count": 6,
   "metadata": {},
   "outputs": [
    {
     "name": "stdout",
     "output_type": "stream",
     "text": [
      "[10, 20, 30, 'abc', [10, 20, 30, 'a', 'b', 'c'], 'rani']\n",
      "[20, 30, 'abc', [10, 20, 30, 'a', 'b', 'c'], 'rani']\n"
     ]
    }
   ],
   "source": [
    "#pop()\n",
    "d=[10,20,30,'abc',[10,20,30,'a','b','c'],'rani']\n",
    "print(d)\n",
    "d.pop(-6)\n",
    "print(d)"
   ]
  },
  {
   "cell_type": "code",
   "execution_count": 8,
   "metadata": {},
   "outputs": [
    {
     "name": "stdout",
     "output_type": "stream",
     "text": [
      "2675295747968 [10, 20, 30, 'abc', [10, 20, 30, 'a', 'b', 'c'], 'rani']\n",
      "2675295747968 [10, 30, 'abc', [10, 20, 30, 'a', 'b', 'c'], 'rani']\n"
     ]
    }
   ],
   "source": [
    "d=[10,20,30,'abc',[10,20,30,'a','b','c'],'rani']\n",
    "print(id(d),d)\n",
    "def u_pop(coll,index):\n",
    "    if type(coll)!=list:\n",
    "        return -1\n",
    "    del coll[index]\n",
    "u_pop(d,-5)\n",
    "print(id(d),d)"
   ]
  },
  {
   "cell_type": "code",
   "execution_count": 11,
   "metadata": {},
   "outputs": [
    {
     "name": "stdout",
     "output_type": "stream",
     "text": [
      "2675296017472 [10, 10, 20, 30, 'abc', [10, 20, 30, 'a', 'b', 'c'], 'rani']\n",
      "2675296017472 [10, 20, 30, 'abc', [10, 20, 30, 'a', 'b', 'c'], 'rani']\n"
     ]
    }
   ],
   "source": [
    "#remove()\n",
    "d=[10,10,20,30,'abc',[10,20,30,'a','b','c'],'rani']\n",
    "print(id(d),d)\n",
    "d.remove(10)\n",
    "print(id(d),d)"
   ]
  },
  {
   "cell_type": "code",
   "execution_count": 15,
   "metadata": {},
   "outputs": [
    {
     "name": "stdout",
     "output_type": "stream",
     "text": [
      "2675289900928 [10, 20, 30, 'abc', [10, 20, 30, 'a', 'b', 'c'], 'rani']\n",
      "2675289900928 [10, 30, 'abc', [10, 20, 30, 'a', 'b', 'c'], 'rani']\n"
     ]
    }
   ],
   "source": [
    "d=[10,20,30,'abc',[10,20,30,'a','b','c'],'rani']\n",
    "print(id(d),d)\n",
    "def u_remove(coll,ele):\n",
    "    if type(coll)!=list or ele not in coll:\n",
    "        return -1\n",
    "    for i in range(0,len(coll)):\n",
    "        if ele==coll[i]:\n",
    "            del coll[i]\n",
    "            break\n",
    "u_remove(d,20)\n",
    "# print(u_remove(d,100))\n",
    "print(id(d),d)"
   ]
  },
  {
   "cell_type": "code",
   "execution_count": 17,
   "metadata": {},
   "outputs": [
    {
     "name": "stdout",
     "output_type": "stream",
     "text": [
      "2675289910144 [10, 20, 30, 'abc', [10, 20, 30, 'a', 'b', 'c'], 'rani']\n",
      "2675289910144 []\n"
     ]
    }
   ],
   "source": [
    "d=[10,20,30,'abc',[10,20,30,'a','b','c'],'rani']\n",
    "print(id(d),d)\n",
    "# d.clear()\n",
    "# print(id(d),d)\n",
    "def u_clear(coll):\n",
    "    if type(coll)!=list:\n",
    "        return -1\n",
    "    coll[::]=[]\n",
    "u_clear(d)\n",
    "print(id(d),d)"
   ]
  },
  {
   "cell_type": "code",
   "execution_count": 22,
   "metadata": {},
   "outputs": [
    {
     "name": "stdout",
     "output_type": "stream",
     "text": [
      "2675317371776 [10, 20, 30, 'abc', [10, 20, 30, 'a', 'b', 'c'], 'rani']\n",
      "2675317371776 []\n"
     ]
    }
   ],
   "source": [
    "d=[10,20,30,'abc',[10,20,30,'a','b','c'],'rani']\n",
    "print(id(d),d)\n",
    "# d.clear()\n",
    "# print(id(d),d)\n",
    "def u_clear(coll):\n",
    "    if type(coll)!=list:\n",
    "        return -1\n",
    "    for i in range(len(coll)):\n",
    "        del coll[0]\n",
    "        # del coll[-1]\n",
    "u_clear(d)\n",
    "print(id(d),d)"
   ]
  },
  {
   "cell_type": "code",
   "execution_count": 27,
   "metadata": {},
   "outputs": [
    {
     "name": "stdout",
     "output_type": "stream",
     "text": [
      "[10, 10, 30, 40, 43, 50, 89]\n",
      "[10, 10, 30, 40, 43, 50, 89]\n"
     ]
    }
   ],
   "source": [
    "#sort()            #buble sort\n",
    "a=[10,30,40,50,10,89,43]\n",
    "b=sorted(a)\n",
    "print(b)\n",
    "def u_sort(coll):\n",
    "    for i in range(len(coll)):\n",
    "        for j in range(len(coll)-1):\n",
    "            if coll[j]>coll[j+1]:\n",
    "                coll[j],coll[j+1]=coll[j+1],coll[j]\n",
    "u_sort(a)\n",
    "print(a)"
   ]
  }
 ],
 "metadata": {
  "kernelspec": {
   "display_name": "Python 3",
   "language": "python",
   "name": "python3"
  },
  "language_info": {
   "codemirror_mode": {
    "name": "ipython",
    "version": 3
   },
   "file_extension": ".py",
   "mimetype": "text/x-python",
   "name": "python",
   "nbconvert_exporter": "python",
   "pygments_lexer": "ipython3",
   "version": "3.10.7"
  },
  "orig_nbformat": 4
 },
 "nbformat": 4,
 "nbformat_minor": 2
}
