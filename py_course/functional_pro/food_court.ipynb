{
 "cells": [
  {
   "cell_type": "code",
   "execution_count": 1,
   "metadata": {},
   "outputs": [],
   "source": [
    "class hotel:\n",
    "    h_name='MAHFIL'\n",
    "    h_area='dilshuknager'\n",
    "    users={}\n",
    "    def __init__(self):\n",
    "        enter=input('enter:1.register\\n2.login')\n",
    "        match enter:\n",
    "            case 1:\n",
    "                hotel.register()\n",
    "            case 2:\n",
    "                hotel.login()\n",
    "    def register():\n",
    "            name=input('enter your name')\n",
    "            id=input('enter ID')\n",
    "    def login():\n",
    "            name1=input('enter your name')\n",
    "            u_id=input('enter your id')\n",
    "\n",
    "obj1=hotel()\n",
    "def apply():\n",
    "     pass\n",
    "     hotel.__init__()\n"
   ]
  },
  {
   "cell_type": "code",
   "execution_count": 6,
   "metadata": {},
   "outputs": [
    {
     "name": "stdout",
     "output_type": "stream",
     "text": [
      "{'name': 'imran', 'address': 'hyd', 'pin': 7777, 'c_idd': 101}\n",
      "{101: <__main__.hotel object at 0x000001DFB43BCFA0>, 102: <__main__.hotel object at 0x000001DFB43BC880>}\n"
     ]
    }
   ],
   "source": [
    "class hotel:\n",
    "    h_name='mahfil'\n",
    "    h_address='dilshuknagar'\n",
    "    h_phone_no=9948711089\n",
    "    c_details={}\n",
    "    c_id=0\n",
    "    def __init__(self,c_name,c_address,pin):\n",
    "        self.name=c_name\n",
    "        self.address=c_address\n",
    "        self.pin=pin\n",
    "        self.c_iid()\n",
    "        self.c_idd=100+hotel.c_id\n",
    "        self.c_detailss(self.c_idd,self)\n",
    "    @classmethod\n",
    "    def c_iid(cls):\n",
    "        cls.c_id+=1  \n",
    "    @classmethod\n",
    "    def c_detailss(cls,id,obj):\n",
    "        cls.c_details[id]=obj\n",
    "    def veg_items():\n",
    "        print('1.handi paneer.....110','2.shahi paneer.......149','3.green salad...........50','4.veg pakoda......100' ,sep='  ')\n",
    "        var=input(\"select :\\n'1.handi paneer.....110'\\n'2.shahi paneer.......149'\\n'3.green salad...........50'\\n'4.veg pakoda......100'\")\n",
    "        print(var)\n",
    "    def non_veg_items():\n",
    "        print('1.chichen Biryani.......199','2.Mutton biryani....400','3.Fish biryani....180',sep=' ')\n",
    "    def menu():\n",
    "        value=int(input('select your choise: 1.VEG \\n 2.NON-VEG'))\n",
    "        print(value)\n",
    "        if value==1:\n",
    "            hotel.veg_items()\n",
    "            pass\n",
    "            # veg(id)\n",
    "        elif value==2:\n",
    "            hotel.non_veg_items()\n",
    "            pass\n",
    "            # non-veg(id)\n",
    "        else:\n",
    "            return\n",
    "        return\n",
    "c1=hotel('imran','hyd',7777)\n",
    "c2=hotel('khan','hyd',1111)\n",
    "print(hotel.c_details[101].__dict__)\n",
    "print(hotel.c_details)\n",
    "#     @classmethod\n",
    "#     def login(cls):\n",
    "#         u_id=input('enter your id')\n",
    "#         pin=input('enter your pin')\n",
    "#         print(u_id,pin)\n",
    "# def enter(cls):\n",
    "#     inputt=int(input('select your choise: 1.Register\\n2.Login'))\n",
    "#     match inputt:\n",
    "#         case 1:\n",
    "#             print('create new user object')\n",
    "#         case 2:\n",
    "#             cls.login()\n",
    "#         case _:\n",
    "#             return  \n",
    "#     return  \n",
    "# enter(hotel)\n",
    "# hotel.__dict__"
   ]
  },
  {
   "cell_type": "code",
   "execution_count": 4,
   "metadata": {},
   "outputs": [
    {
     "name": "stdout",
     "output_type": "stream",
     "text": [
      "1\n",
      "1.handi paneer.....110  2.shahi paneer.......149  3.green salad...........50  4.veg pakoda......100\n",
      "2\n"
     ]
    }
   ],
   "source": [
    "def Register():\n",
    "    id=int(input('enter your id:'))\n",
    "    pin=int(input('enter your pin:'))\n",
    "    if id in hotel.c_details and hotel.c_details[id].pin==pin:\n",
    "        input('already registered Pleaze LOGIN')\n",
    "        first()\n",
    "    else:\n",
    "        print('create object manually')\n",
    "def login():\n",
    "    id=int(input('enter your id:'))\n",
    "    pin=int(input('enter your pin:'))\n",
    "    if id in hotel.c_details and hotel.c_details[id].pin==pin:\n",
    "        hotel.menu()\n",
    "    else:\n",
    "        print('not a valid info: pleaze enter currectly')\n",
    "def first():\n",
    "    value=int(input('1.Register\\n2.Login'))\n",
    "    match value:\n",
    "        case 1:\n",
    "            Register()\n",
    "        case 2:\n",
    "            login()\n",
    "first()"
   ]
  }
 ],
 "metadata": {
  "kernelspec": {
   "display_name": "Python 3",
   "language": "python",
   "name": "python3"
  },
  "language_info": {
   "codemirror_mode": {
    "name": "ipython",
    "version": 3
   },
   "file_extension": ".py",
   "mimetype": "text/x-python",
   "name": "python",
   "nbconvert_exporter": "python",
   "pygments_lexer": "ipython3",
   "version": "3.10.7"
  }
 },
 "nbformat": 4,
 "nbformat_minor": 2
}
