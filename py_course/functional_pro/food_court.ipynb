{
 "cells": [
  {
   "cell_type": "code",
   "execution_count": 1,
   "metadata": {},
   "outputs": [],
   "source": [
    "class hotel:\n",
    "    h_name='MAHFIL'\n",
    "    h_area='dilshuknager'\n",
    "    users={}\n",
    "    def __init__(self):\n",
    "        enter=input('enter:1.register\\n2.login')\n",
    "        match enter:\n",
    "            case 1:\n",
    "                hotel.register()\n",
    "            case 2:\n",
    "                hotel.login()\n",
    "    def register():\n",
    "            name=input('enter your name')\n",
    "            id=input('enter ID')\n",
    "    def login():\n",
    "            name1=input('enter your name')\n",
    "            u_id=input('enter your id')\n",
    "\n",
    "obj1=hotel()\n",
    "def apply():\n",
    "     pass\n",
    "     hotel.__init__()\n"
   ]
  },
  {
   "cell_type": "code",
   "execution_count": 2,
   "metadata": {},
   "outputs": [
    {
     "name": "stdout",
     "output_type": "stream",
     "text": [
      "{'name': 'imran', 'address': 'hyd', 'pin': 7777, 'c_idd': 101}\n",
      "{101: <__main__.hotel object at 0x0000026D58A20C40>, 102: <__main__.hotel object at 0x0000026D58A20FA0>}\n"
     ]
    }
   ],
   "source": [
    "class hotel:\n",
    "    h_name='mahfil'\n",
    "    h_address='dilshuknagar'\n",
    "    h_phone_no=9948711089\n",
    "    c_details={}\n",
    "    c_id=0\n",
    "    def __init__(self,c_name,c_address,pin):\n",
    "        self.name=c_name\n",
    "        self.address=c_address\n",
    "        self.pin=pin\n",
    "        self.c_iid()\n",
    "        self.c_idd=100+hotel.c_id\n",
    "        self.c_detailss(self.c_idd,self)\n",
    "    @classmethod\n",
    "    def c_iid(cls):\n",
    "        cls.c_id+=1  \n",
    "    @classmethod\n",
    "    def c_detailss(cls,id,obj):\n",
    "        cls.c_details[id]=obj\n",
    "    def veg_items(id):\n",
    "        print('1.handi paneer.....110','2.shahi paneer.......149','3.green salad...........50','4.veg pakoda......100' ,sep='  ')\n",
    "        id.var=input(\"select :\\n'1.handi paneer.....110'\\n'2.shahi paneer.......149'\\n'3.green salad...........50'\\n'4.veg pakoda......100'\")\n",
    "        print(id.var)\n",
    "    def non_veg_items():\n",
    "        print('1.chichen Biryani.......199','2.Mutton biryani....400','3.Fish biryani....180',sep=' ')\n",
    "    def menu(id):\n",
    "        value=int(input('select your choise: 1.VEG \\n 2.NON-VEG'))\n",
    "        print(value)\n",
    "        if value==1:\n",
    "            hotel.veg_items(id)\n",
    "            pass\n",
    "            # veg(id)\n",
    "        elif value==2:\n",
    "            hotel.non_veg_items()\n",
    "            pass\n",
    "            # non-veg(id)\n",
    "        else:\n",
    "            return\n",
    "        return\n",
    "c1=hotel('imran','hyd',7777)\n",
    "c2=hotel('khan','hyd',1111)\n",
    "print(hotel.c_details[101].__dict__)\n",
    "print(hotel.c_details)\n",
    "\n",
    "#     @classmethod\n",
    "#     def login(cls):\n",
    "#         u_id=input('enter your id')\n",
    "#         pin=input('enter your pin')\n",
    "#         print(u_id,pin)\n",
    "# def enter(cls):\n",
    "#     inputt=int(input('select your choise: 1.Register\\n2.Login'))\n",
    "#     match inputt:\n",
    "#         case 1:\n",
    "#             print('create new user object')\n",
    "#         case 2:\n",
    "#             cls.login()\n",
    "#         case _:\n",
    "#             return  \n",
    "#     return  \n",
    "# enter(hotel)\n",
    "# hotel.__dict__"
   ]
  },
  {
   "cell_type": "code",
   "execution_count": 5,
   "metadata": {},
   "outputs": [
    {
     "name": "stdout",
     "output_type": "stream",
     "text": [
      "1\n",
      "1.handi paneer.....110  2.shahi paneer.......149  3.green salad...........50  4.veg pakoda......100\n"
     ]
    },
    {
     "ename": "AttributeError",
     "evalue": "'int' object has no attribute 'var'",
     "output_type": "error",
     "traceback": [
      "\u001b[1;31m---------------------------------------------------------------------------\u001b[0m",
      "\u001b[1;31mAttributeError\u001b[0m                            Traceback (most recent call last)",
      "\u001b[1;32mc:\\Users\\Shaik Imran\\OneDrive\\Documents\\GitHub\\BASIC_PYTHON\\py_course\\functional_pro\\food_court.ipynb Cell 3\u001b[0m line \u001b[0;36m2\n\u001b[0;32m     <a href='vscode-notebook-cell:/c%3A/Users/Shaik%20Imran/OneDrive/Documents/GitHub/BASIC_PYTHON/py_course/functional_pro/food_court.ipynb#W2sZmlsZQ%3D%3D?line=20'>21</a>\u001b[0m         \u001b[39mcase\u001b[39;00m \u001b[39m2\u001b[39m:\n\u001b[0;32m     <a href='vscode-notebook-cell:/c%3A/Users/Shaik%20Imran/OneDrive/Documents/GitHub/BASIC_PYTHON/py_course/functional_pro/food_court.ipynb#W2sZmlsZQ%3D%3D?line=21'>22</a>\u001b[0m             login()\n\u001b[1;32m---> <a href='vscode-notebook-cell:/c%3A/Users/Shaik%20Imran/OneDrive/Documents/GitHub/BASIC_PYTHON/py_course/functional_pro/food_court.ipynb#W2sZmlsZQ%3D%3D?line=22'>23</a>\u001b[0m first()\n",
      "\u001b[1;32mc:\\Users\\Shaik Imran\\OneDrive\\Documents\\GitHub\\BASIC_PYTHON\\py_course\\functional_pro\\food_court.ipynb Cell 3\u001b[0m line \u001b[0;36m2\n\u001b[0;32m     <a href='vscode-notebook-cell:/c%3A/Users/Shaik%20Imran/OneDrive/Documents/GitHub/BASIC_PYTHON/py_course/functional_pro/food_court.ipynb#W2sZmlsZQ%3D%3D?line=17'>18</a>\u001b[0m \u001b[39mmatch\u001b[39;00m value:\n\u001b[0;32m     <a href='vscode-notebook-cell:/c%3A/Users/Shaik%20Imran/OneDrive/Documents/GitHub/BASIC_PYTHON/py_course/functional_pro/food_court.ipynb#W2sZmlsZQ%3D%3D?line=18'>19</a>\u001b[0m     \u001b[39mcase\u001b[39;00m \u001b[39m1\u001b[39m:\n\u001b[1;32m---> <a href='vscode-notebook-cell:/c%3A/Users/Shaik%20Imran/OneDrive/Documents/GitHub/BASIC_PYTHON/py_course/functional_pro/food_court.ipynb#W2sZmlsZQ%3D%3D?line=19'>20</a>\u001b[0m         Register()\n\u001b[0;32m     <a href='vscode-notebook-cell:/c%3A/Users/Shaik%20Imran/OneDrive/Documents/GitHub/BASIC_PYTHON/py_course/functional_pro/food_court.ipynb#W2sZmlsZQ%3D%3D?line=20'>21</a>\u001b[0m     \u001b[39mcase\u001b[39;00m \u001b[39m2\u001b[39m:\n\u001b[0;32m     <a href='vscode-notebook-cell:/c%3A/Users/Shaik%20Imran/OneDrive/Documents/GitHub/BASIC_PYTHON/py_course/functional_pro/food_court.ipynb#W2sZmlsZQ%3D%3D?line=21'>22</a>\u001b[0m         login()\n",
      "\u001b[1;32mc:\\Users\\Shaik Imran\\OneDrive\\Documents\\GitHub\\BASIC_PYTHON\\py_course\\functional_pro\\food_court.ipynb Cell 3\u001b[0m line \u001b[0;36m6\n\u001b[0;32m      <a href='vscode-notebook-cell:/c%3A/Users/Shaik%20Imran/OneDrive/Documents/GitHub/BASIC_PYTHON/py_course/functional_pro/food_court.ipynb#W2sZmlsZQ%3D%3D?line=3'>4</a>\u001b[0m \u001b[39mif\u001b[39;00m \u001b[39mid\u001b[39m \u001b[39min\u001b[39;00m hotel\u001b[39m.\u001b[39mc_details \u001b[39mand\u001b[39;00m hotel\u001b[39m.\u001b[39mc_details[\u001b[39mid\u001b[39m]\u001b[39m.\u001b[39mpin\u001b[39m==\u001b[39mpin:\n\u001b[0;32m      <a href='vscode-notebook-cell:/c%3A/Users/Shaik%20Imran/OneDrive/Documents/GitHub/BASIC_PYTHON/py_course/functional_pro/food_court.ipynb#W2sZmlsZQ%3D%3D?line=4'>5</a>\u001b[0m     \u001b[39minput\u001b[39m(\u001b[39m'\u001b[39m\u001b[39malready registered Pleaze LOGIN\u001b[39m\u001b[39m'\u001b[39m)\n\u001b[1;32m----> <a href='vscode-notebook-cell:/c%3A/Users/Shaik%20Imran/OneDrive/Documents/GitHub/BASIC_PYTHON/py_course/functional_pro/food_court.ipynb#W2sZmlsZQ%3D%3D?line=5'>6</a>\u001b[0m     first()\n\u001b[0;32m      <a href='vscode-notebook-cell:/c%3A/Users/Shaik%20Imran/OneDrive/Documents/GitHub/BASIC_PYTHON/py_course/functional_pro/food_court.ipynb#W2sZmlsZQ%3D%3D?line=6'>7</a>\u001b[0m \u001b[39melse\u001b[39;00m:\n\u001b[0;32m      <a href='vscode-notebook-cell:/c%3A/Users/Shaik%20Imran/OneDrive/Documents/GitHub/BASIC_PYTHON/py_course/functional_pro/food_court.ipynb#W2sZmlsZQ%3D%3D?line=7'>8</a>\u001b[0m     \u001b[39mprint\u001b[39m(\u001b[39m'\u001b[39m\u001b[39mcreate object manually\u001b[39m\u001b[39m'\u001b[39m)\n",
      "\u001b[1;32mc:\\Users\\Shaik Imran\\OneDrive\\Documents\\GitHub\\BASIC_PYTHON\\py_course\\functional_pro\\food_court.ipynb Cell 3\u001b[0m line \u001b[0;36m2\n\u001b[0;32m     <a href='vscode-notebook-cell:/c%3A/Users/Shaik%20Imran/OneDrive/Documents/GitHub/BASIC_PYTHON/py_course/functional_pro/food_court.ipynb#W2sZmlsZQ%3D%3D?line=19'>20</a>\u001b[0m     Register()\n\u001b[0;32m     <a href='vscode-notebook-cell:/c%3A/Users/Shaik%20Imran/OneDrive/Documents/GitHub/BASIC_PYTHON/py_course/functional_pro/food_court.ipynb#W2sZmlsZQ%3D%3D?line=20'>21</a>\u001b[0m \u001b[39mcase\u001b[39;00m \u001b[39m2\u001b[39m:\n\u001b[1;32m---> <a href='vscode-notebook-cell:/c%3A/Users/Shaik%20Imran/OneDrive/Documents/GitHub/BASIC_PYTHON/py_course/functional_pro/food_court.ipynb#W2sZmlsZQ%3D%3D?line=21'>22</a>\u001b[0m     login()\n",
      "\u001b[1;32mc:\\Users\\Shaik Imran\\OneDrive\\Documents\\GitHub\\BASIC_PYTHON\\py_course\\functional_pro\\food_court.ipynb Cell 3\u001b[0m line \u001b[0;36m1\n\u001b[0;32m     <a href='vscode-notebook-cell:/c%3A/Users/Shaik%20Imran/OneDrive/Documents/GitHub/BASIC_PYTHON/py_course/functional_pro/food_court.ipynb#W2sZmlsZQ%3D%3D?line=10'>11</a>\u001b[0m pin\u001b[39m=\u001b[39m\u001b[39mint\u001b[39m(\u001b[39minput\u001b[39m(\u001b[39m'\u001b[39m\u001b[39menter your pin:\u001b[39m\u001b[39m'\u001b[39m))\n\u001b[0;32m     <a href='vscode-notebook-cell:/c%3A/Users/Shaik%20Imran/OneDrive/Documents/GitHub/BASIC_PYTHON/py_course/functional_pro/food_court.ipynb#W2sZmlsZQ%3D%3D?line=11'>12</a>\u001b[0m \u001b[39mif\u001b[39;00m \u001b[39mid\u001b[39m \u001b[39min\u001b[39;00m hotel\u001b[39m.\u001b[39mc_details \u001b[39mand\u001b[39;00m hotel\u001b[39m.\u001b[39mc_details[\u001b[39mid\u001b[39m]\u001b[39m.\u001b[39mpin\u001b[39m==\u001b[39mpin:\n\u001b[1;32m---> <a href='vscode-notebook-cell:/c%3A/Users/Shaik%20Imran/OneDrive/Documents/GitHub/BASIC_PYTHON/py_course/functional_pro/food_court.ipynb#W2sZmlsZQ%3D%3D?line=12'>13</a>\u001b[0m     hotel\u001b[39m.\u001b[39;49mmenu(\u001b[39mid\u001b[39;49m)\n\u001b[0;32m     <a href='vscode-notebook-cell:/c%3A/Users/Shaik%20Imran/OneDrive/Documents/GitHub/BASIC_PYTHON/py_course/functional_pro/food_court.ipynb#W2sZmlsZQ%3D%3D?line=13'>14</a>\u001b[0m \u001b[39melse\u001b[39;00m:\n\u001b[0;32m     <a href='vscode-notebook-cell:/c%3A/Users/Shaik%20Imran/OneDrive/Documents/GitHub/BASIC_PYTHON/py_course/functional_pro/food_court.ipynb#W2sZmlsZQ%3D%3D?line=14'>15</a>\u001b[0m     \u001b[39mprint\u001b[39m(\u001b[39m'\u001b[39m\u001b[39mnot a valid info: pleaze enter currectly\u001b[39m\u001b[39m'\u001b[39m)\n",
      "\u001b[1;32mc:\\Users\\Shaik Imran\\OneDrive\\Documents\\GitHub\\BASIC_PYTHON\\py_course\\functional_pro\\food_court.ipynb Cell 3\u001b[0m line \u001b[0;36m3\n\u001b[0;32m     <a href='vscode-notebook-cell:/c%3A/Users/Shaik%20Imran/OneDrive/Documents/GitHub/BASIC_PYTHON/py_course/functional_pro/food_court.ipynb#W2sZmlsZQ%3D%3D?line=27'>28</a>\u001b[0m \u001b[39mprint\u001b[39m(value)\n\u001b[0;32m     <a href='vscode-notebook-cell:/c%3A/Users/Shaik%20Imran/OneDrive/Documents/GitHub/BASIC_PYTHON/py_course/functional_pro/food_court.ipynb#W2sZmlsZQ%3D%3D?line=28'>29</a>\u001b[0m \u001b[39mif\u001b[39;00m value\u001b[39m==\u001b[39m\u001b[39m1\u001b[39m:\n\u001b[1;32m---> <a href='vscode-notebook-cell:/c%3A/Users/Shaik%20Imran/OneDrive/Documents/GitHub/BASIC_PYTHON/py_course/functional_pro/food_court.ipynb#W2sZmlsZQ%3D%3D?line=29'>30</a>\u001b[0m     hotel\u001b[39m.\u001b[39;49mveg_items(\u001b[39mid\u001b[39;49m)\n\u001b[0;32m     <a href='vscode-notebook-cell:/c%3A/Users/Shaik%20Imran/OneDrive/Documents/GitHub/BASIC_PYTHON/py_course/functional_pro/food_court.ipynb#W2sZmlsZQ%3D%3D?line=30'>31</a>\u001b[0m     \u001b[39mpass\u001b[39;00m\n\u001b[0;32m     <a href='vscode-notebook-cell:/c%3A/Users/Shaik%20Imran/OneDrive/Documents/GitHub/BASIC_PYTHON/py_course/functional_pro/food_court.ipynb#W2sZmlsZQ%3D%3D?line=31'>32</a>\u001b[0m     \u001b[39m# veg(id)\u001b[39;00m\n",
      "\u001b[1;32mc:\\Users\\Shaik Imran\\OneDrive\\Documents\\GitHub\\BASIC_PYTHON\\py_course\\functional_pro\\food_court.ipynb Cell 3\u001b[0m line \u001b[0;36m2\n\u001b[0;32m     <a href='vscode-notebook-cell:/c%3A/Users/Shaik%20Imran/OneDrive/Documents/GitHub/BASIC_PYTHON/py_course/functional_pro/food_court.ipynb#W2sZmlsZQ%3D%3D?line=19'>20</a>\u001b[0m \u001b[39mdef\u001b[39;00m \u001b[39mveg_items\u001b[39m(\u001b[39mid\u001b[39m):\n\u001b[0;32m     <a href='vscode-notebook-cell:/c%3A/Users/Shaik%20Imran/OneDrive/Documents/GitHub/BASIC_PYTHON/py_course/functional_pro/food_court.ipynb#W2sZmlsZQ%3D%3D?line=20'>21</a>\u001b[0m     \u001b[39mprint\u001b[39m(\u001b[39m'\u001b[39m\u001b[39m1.handi paneer.....110\u001b[39m\u001b[39m'\u001b[39m,\u001b[39m'\u001b[39m\u001b[39m2.shahi paneer.......149\u001b[39m\u001b[39m'\u001b[39m,\u001b[39m'\u001b[39m\u001b[39m3.green salad...........50\u001b[39m\u001b[39m'\u001b[39m,\u001b[39m'\u001b[39m\u001b[39m4.veg pakoda......100\u001b[39m\u001b[39m'\u001b[39m ,sep\u001b[39m=\u001b[39m\u001b[39m'\u001b[39m\u001b[39m  \u001b[39m\u001b[39m'\u001b[39m)\n\u001b[1;32m---> <a href='vscode-notebook-cell:/c%3A/Users/Shaik%20Imran/OneDrive/Documents/GitHub/BASIC_PYTHON/py_course/functional_pro/food_court.ipynb#W2sZmlsZQ%3D%3D?line=21'>22</a>\u001b[0m     \u001b[39mid\u001b[39;49m\u001b[39m.\u001b[39;49mvar\u001b[39m=\u001b[39m\u001b[39minput\u001b[39m(\u001b[39m\"\u001b[39m\u001b[39mselect :\u001b[39m\u001b[39m\\n\u001b[39;00m\u001b[39m'\u001b[39m\u001b[39m1.handi paneer.....110\u001b[39m\u001b[39m'\u001b[39m\u001b[39m\\n\u001b[39;00m\u001b[39m'\u001b[39m\u001b[39m2.shahi paneer.......149\u001b[39m\u001b[39m'\u001b[39m\u001b[39m\\n\u001b[39;00m\u001b[39m'\u001b[39m\u001b[39m3.green salad...........50\u001b[39m\u001b[39m'\u001b[39m\u001b[39m\\n\u001b[39;00m\u001b[39m'\u001b[39m\u001b[39m4.veg pakoda......100\u001b[39m\u001b[39m'\u001b[39m\u001b[39m\"\u001b[39m)\n\u001b[0;32m     <a href='vscode-notebook-cell:/c%3A/Users/Shaik%20Imran/OneDrive/Documents/GitHub/BASIC_PYTHON/py_course/functional_pro/food_court.ipynb#W2sZmlsZQ%3D%3D?line=22'>23</a>\u001b[0m     \u001b[39mprint\u001b[39m(\u001b[39mid\u001b[39m\u001b[39m.\u001b[39mvar)\n",
      "\u001b[1;31mAttributeError\u001b[0m: 'int' object has no attribute 'var'"
     ]
    }
   ],
   "source": [
    "def Register():\n",
    "    id=int(input('enter your id:'))\n",
    "    pin=int(input('enter your pin:'))\n",
    "    if id in hotel.c_details and hotel.c_details[id].pin==pin:\n",
    "        input('already registered Pleaze LOGIN')\n",
    "        first()\n",
    "    else:\n",
    "        print('create object manually')\n",
    "def login():\n",
    "    id=int(input('enter your id:'))\n",
    "    pin=int(input('enter your pin:'))\n",
    "    if id in hotel.c_details and hotel.c_details[id].pin==pin:\n",
    "        hotel.menu(id)\n",
    "    else:\n",
    "        print('not a valid info: pleaze enter currectly')\n",
    "def first():\n",
    "    value=int(input('1.Register\\n2.Login'))\n",
    "    match value:\n",
    "        case 1:\n",
    "            Register()\n",
    "        case 2:\n",
    "            login()\n",
    "first()"
   ]
  }
 ],
 "metadata": {
  "kernelspec": {
   "display_name": "Python 3",
   "language": "python",
   "name": "python3"
  },
  "language_info": {
   "codemirror_mode": {
    "name": "ipython",
    "version": 3
   },
   "file_extension": ".py",
   "mimetype": "text/x-python",
   "name": "python",
   "nbconvert_exporter": "python",
   "pygments_lexer": "ipython3",
   "version": "3.10.7"
  }
 },
 "nbformat": 4,
 "nbformat_minor": 2
}
