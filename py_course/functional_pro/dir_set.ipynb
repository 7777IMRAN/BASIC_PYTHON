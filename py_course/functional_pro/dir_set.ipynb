{
 "cells": [
  {
   "cell_type": "code",
   "execution_count": null,
   "metadata": {},
   "outputs": [],
   "source": []
  },
  {
   "cell_type": "markdown",
   "metadata": {},
   "source": [
    "add,clear ,copy,difference,differnce update,discord,intersection , intersection update, is disjoint,is superset,pop,remove, sementric defference,sementric defference update,union, update"
   ]
  },
  {
   "cell_type": "code",
   "execution_count": 2,
   "metadata": {},
   "outputs": [
    {
     "name": "stdout",
     "output_type": "stream",
     "text": [
      "2153493732416 {'b', 'a', 'c'}\n",
      "2153493732416 {'xyz', 'b', 'a', 'c'}\n"
     ]
    }
   ],
   "source": [
    "#add()\n",
    "s={'a','b','c'}\n",
    "print(id(s),s)\n",
    "s.add('xyz')\n",
    "print(id(s),s)"
   ]
  },
  {
   "cell_type": "code",
   "execution_count": 9,
   "metadata": {},
   "outputs": [
    {
     "name": "stdout",
     "output_type": "stream",
     "text": [
      "2153494785920 {'b', 'a', 'c'}\n",
      "-1\n",
      "2153494785920 {'b', 'a', 20, 'c'}\n"
     ]
    }
   ],
   "source": [
    "s={'a','b','c'}\n",
    "print(id(s),s)\n",
    "def u_add(coll,ele):\n",
    "    if type(coll)!=set:\n",
    "        return -1\n",
    "    if type(ele) in [list,set,dict]:\n",
    "        return -1\n",
    "    coll|={ele}\n",
    "# print(u_add(s,[44,33]))\n",
    "u_add(s,20)\n",
    "print(id(s),s)"
   ]
  },
  {
   "cell_type": "code",
   "execution_count": 10,
   "metadata": {},
   "outputs": [
    {
     "name": "stdout",
     "output_type": "stream",
     "text": [
      "2153494787936 {'b', 'a', 'c'}\n",
      "2153494787936 set()\n"
     ]
    }
   ],
   "source": [
    "#clear()\n",
    "s={'a','b','c'}\n",
    "print(id(s),s)\n",
    "s.clear()\n",
    "print(id(s),s)"
   ]
  },
  {
   "cell_type": "code",
   "execution_count": 13,
   "metadata": {},
   "outputs": [
    {
     "name": "stdout",
     "output_type": "stream",
     "text": [
      "2153494789280 {'b', 'a', 'c'}\n",
      "2153494789280 set()\n"
     ]
    }
   ],
   "source": [
    "s={'a','b','c'}\n",
    "print(id(s),s)\n",
    "def u_clear(coll):\n",
    "    if type(coll)!=set:\n",
    "        return -1\n",
    "    coll-=coll\n",
    "u_clear(s)\n",
    "print(id(s),s)"
   ]
  },
  {
   "cell_type": "code",
   "execution_count": 2,
   "metadata": {},
   "outputs": [
    {
     "name": "stdout",
     "output_type": "stream",
     "text": [
      "1576362744224 {'a', 'b', 'c'}\n",
      "1576362744224 {'b', 'c'}\n"
     ]
    }
   ],
   "source": [
    "#pop()\n",
    "s={'a','b','c'}\n",
    "print(id(s),s)\n",
    "s.pop()\n",
    "print(id(s),s)"
   ]
  },
  {
   "cell_type": "code",
   "execution_count": 6,
   "metadata": {},
   "outputs": [
    {
     "name": "stdout",
     "output_type": "stream",
     "text": [
      "1576363801088 {'a', 'b', 'c'}\n",
      "1576363801088 {'b', 'c'}\n"
     ]
    }
   ],
   "source": [
    "s={'a','b','c'}\n",
    "print(id(s),s)\n",
    "def u_pop(coll):\n",
    "    if type(coll)!=set:\n",
    "        return -1\n",
    "    res=list(coll)[0]\n",
    "    coll-={res}\n",
    "u_pop(s)\n",
    "print(id(s),s)"
   ]
  },
  {
   "cell_type": "code",
   "execution_count": 9,
   "metadata": {},
   "outputs": [
    {
     "name": "stdout",
     "output_type": "stream",
     "text": [
      "1576363800864 {'a', 'b', 'c'}\n"
     ]
    },
    {
     "ename": "KeyError",
     "evalue": "'r'",
     "output_type": "error",
     "traceback": [
      "\u001b[1;31m---------------------------------------------------------------------------\u001b[0m",
      "\u001b[1;31mKeyError\u001b[0m                                  Traceback (most recent call last)",
      "\u001b[1;32mc:\\Users\\Shaik Imran\\Documents\\GitHub\\BASIC_PYTHON\\py_course\\functional_pro\\dir_set.ipynb Cell 9\u001b[0m line \u001b[0;36m5\n\u001b[0;32m      <a href='vscode-notebook-cell:/c%3A/Users/Shaik%20Imran/Documents/GitHub/BASIC_PYTHON/py_course/functional_pro/dir_set.ipynb#X11sZmlsZQ%3D%3D?line=2'>3</a>\u001b[0m \u001b[39mprint\u001b[39m(\u001b[39mid\u001b[39m(s),s)\n\u001b[0;32m      <a href='vscode-notebook-cell:/c%3A/Users/Shaik%20Imran/Documents/GitHub/BASIC_PYTHON/py_course/functional_pro/dir_set.ipynb#X11sZmlsZQ%3D%3D?line=3'>4</a>\u001b[0m \u001b[39m# s.remove('c')\u001b[39;00m\n\u001b[1;32m----> <a href='vscode-notebook-cell:/c%3A/Users/Shaik%20Imran/Documents/GitHub/BASIC_PYTHON/py_course/functional_pro/dir_set.ipynb#X11sZmlsZQ%3D%3D?line=4'>5</a>\u001b[0m s\u001b[39m.\u001b[39;49mremove(\u001b[39m'\u001b[39;49m\u001b[39mr\u001b[39;49m\u001b[39m'\u001b[39;49m)\n\u001b[0;32m      <a href='vscode-notebook-cell:/c%3A/Users/Shaik%20Imran/Documents/GitHub/BASIC_PYTHON/py_course/functional_pro/dir_set.ipynb#X11sZmlsZQ%3D%3D?line=5'>6</a>\u001b[0m \u001b[39m# def u_remove(coll,ele):\u001b[39;00m\n\u001b[0;32m      <a href='vscode-notebook-cell:/c%3A/Users/Shaik%20Imran/Documents/GitHub/BASIC_PYTHON/py_course/functional_pro/dir_set.ipynb#X11sZmlsZQ%3D%3D?line=6'>7</a>\u001b[0m \u001b[39mprint\u001b[39m(\u001b[39mid\u001b[39m(s),s)\n",
      "\u001b[1;31mKeyError\u001b[0m: 'r'"
     ]
    }
   ],
   "source": [
    "#remove()\n",
    "s={'a','b','c'}\n",
    "print(id(s),s)\n",
    "# s.remove('c')\n",
    "s.remove('r')\n",
    "# def u_remove(coll,ele):\n",
    "print(id(s),s)\n"
   ]
  },
  {
   "cell_type": "code",
   "execution_count": 13,
   "metadata": {},
   "outputs": [
    {
     "name": "stdout",
     "output_type": "stream",
     "text": [
      "1576385186720 {'a', 'b', 'c'}\n",
      "1576385186720 {'a', 'b'}\n"
     ]
    }
   ],
   "source": [
    "s={'a','b','c'}\n",
    "print(id(s),s)\n",
    "# s.remove('r')\n",
    "def u_remove(coll,ele):\n",
    "    if type(s)!=set or ele not in coll:\n",
    "        raise KeyError(f'{ele} is not found')\n",
    "    coll-={ele}\n",
    "u_remove(s,'c')\n",
    "print(id(s),s)"
   ]
  },
  {
   "cell_type": "code",
   "execution_count": 16,
   "metadata": {},
   "outputs": [
    {
     "name": "stdout",
     "output_type": "stream",
     "text": [
      "1576385184704 {'a', 'b', 'c'}\n",
      "1576385184704 {'a', 'b'}\n"
     ]
    }
   ],
   "source": [
    "#discord()\n",
    "s={'a','b','c'}\n",
    "print(id(s),s)\n",
    "s.discard('r')\n",
    "# s.discard('c')\n",
    "print(id(s),s)\n"
   ]
  },
  {
   "cell_type": "code",
   "execution_count": 24,
   "metadata": {},
   "outputs": [
    {
     "name": "stdout",
     "output_type": "stream",
     "text": [
      "1576385189408 {'a', 'b', 'c'}\n",
      "1576385189408 {'a', 'b'}\n"
     ]
    }
   ],
   "source": [
    "s={'a','b','c'}\n",
    "print(id(s),s)\n",
    "def u_discord(coll,ele):\n",
    "    if type(s)!=set:\n",
    "        raise TypeError('collection should be set')\n",
    "    coll-={ele}\n",
    "u_discord(s,'c')\n",
    "# u_discord(s,'r')\n",
    "print(id(s),s)"
   ]
  },
  {
   "cell_type": "code",
   "execution_count": 33,
   "metadata": {},
   "outputs": [
    {
     "data": {
      "text/plain": [
       "True"
      ]
     },
     "execution_count": 33,
     "metadata": {},
     "output_type": "execute_result"
    }
   ],
   "source": [
    "#issuperset()\n",
    "# s={'a','b','c'}\n",
    "# s={'a','b'}\n",
    "s={'a','b','c','d'}\n",
    "t={'a','b','c'}\n",
    "s.issuperset(t)"
   ]
  },
  {
   "cell_type": "code",
   "execution_count": 41,
   "metadata": {},
   "outputs": [
    {
     "name": "stdout",
     "output_type": "stream",
     "text": [
      "True\n",
      "True\n"
     ]
    }
   ],
   "source": [
    "s={'a','b','c','d'} \n",
    "t={'a','b','c'}\n",
    "def u_issuperset(coll1,coll2):\n",
    "    if type(coll1)!=set and type(coll2)!=set:\n",
    "        return -1\n",
    "    for i in coll2:\n",
    "        if i not in coll1:\n",
    "            return False\n",
    "    return True\n",
    "print(u_issuperset(s,t))\n",
    "print(s.issuperset(t))"
   ]
  },
  {
   "cell_type": "code",
   "execution_count": null,
   "metadata": {},
   "outputs": [],
   "source": [
    "#issubset()"
   ]
  },
  {
   "cell_type": "code",
   "execution_count": 43,
   "metadata": {},
   "outputs": [
    {
     "name": "stdout",
     "output_type": "stream",
     "text": [
      "False\n",
      "False\n"
     ]
    }
   ],
   "source": [
    "s={'a','b','c','d'} \n",
    "t={'a','b','c'}\n",
    "def u_issubset(coll1,coll2):\n",
    "    if type(coll1)!=set and type(coll2)!=set:\n",
    "        return -1\n",
    "    for i in coll1:\n",
    "        if i not in coll2:\n",
    "            return False\n",
    "    return True\n",
    "print(u_issubset(s,t))\n",
    "print(s.issubset(t))"
   ]
  },
  {
   "cell_type": "code",
   "execution_count": null,
   "metadata": {},
   "outputs": [],
   "source": [
    "#subset()\n"
   ]
  },
  {
   "cell_type": "code",
   "execution_count": 45,
   "metadata": {},
   "outputs": [
    {
     "data": {
      "text/plain": [
       "False"
      ]
     },
     "execution_count": 45,
     "metadata": {},
     "output_type": "execute_result"
    }
   ],
   "source": [
    "#isdisjoint()\n",
    "s={'a','b','c','d'} \n",
    "# t={'r'}\n",
    "t={'a'}\n",
    "s.isdisjoint(t)"
   ]
  },
  {
   "cell_type": "code",
   "execution_count": 46,
   "metadata": {},
   "outputs": [
    {
     "name": "stdout",
     "output_type": "stream",
     "text": [
      "True\n",
      "True\n"
     ]
    }
   ],
   "source": [
    "s={'a','b','d'} \n",
    "t={'c','e','f','g'}\n",
    "def u_isdisjoint(coll1,coll2):\n",
    "    if type(coll1)!=set and type(coll2)!=set:\n",
    "        return -1\n",
    "    for i in coll2:\n",
    "        if i in coll1:\n",
    "            return False\n",
    "    return True\n",
    "print(u_isdisjoint(s,t))\n",
    "print(s.isdisjoint(t))"
   ]
  },
  {
   "cell_type": "code",
   "execution_count": null,
   "metadata": {},
   "outputs": [],
   "source": [
    "#union,unionupdate,intersection,intersection update"
   ]
  }
 ],
 "metadata": {
  "kernelspec": {
   "display_name": "Python 3",
   "language": "python",
   "name": "python3"
  },
  "language_info": {
   "codemirror_mode": {
    "name": "ipython",
    "version": 3
   },
   "file_extension": ".py",
   "mimetype": "text/x-python",
   "name": "python",
   "nbconvert_exporter": "python",
   "pygments_lexer": "ipython3",
   "version": "3.10.7"
  },
  "orig_nbformat": 4
 },
 "nbformat": 4,
 "nbformat_minor": 2
}
