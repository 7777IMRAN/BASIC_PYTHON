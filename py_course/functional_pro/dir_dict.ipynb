{
 "cells": [
  {
   "cell_type": "markdown",
   "metadata": {},
   "source": [
    "clear,copy,fromkeys,get,items,keys,pop,popitem,set,defoult,update,values"
   ]
  },
  {
   "cell_type": "code",
   "execution_count": 1,
   "metadata": {},
   "outputs": [
    {
     "name": "stdout",
     "output_type": "stream",
     "text": [
      "2527070589184 {'a': 10, 'b': 20, 'c': 30, 'd': 40}\n",
      "2527070589184 {}\n"
     ]
    }
   ],
   "source": [
    "#clear()\n",
    "s={'a':10,'b':20,'c':30,'d':40} \n",
    "print(id(s),s)\n",
    "s.clear()\n",
    "print(id(s),s)"
   ]
  },
  {
   "cell_type": "code",
   "execution_count": 12,
   "metadata": {},
   "outputs": [
    {
     "name": "stdout",
     "output_type": "stream",
     "text": [
      "2527092089472 {'a': 10, 'b': 20, 'c': 30, 'd': 40}\n",
      "2527092089472 {}\n"
     ]
    }
   ],
   "source": [
    "s={'a':10,'b':20,'c':30,'d':40} \n",
    "print(id(s),s)\n",
    "def u_clear(coll):\n",
    "    if type(coll)!=dict:\n",
    "        return -1\n",
    "    for i in list(coll):\n",
    "        del coll[i]\n",
    "u_clear(s)\n",
    "print(id(s),s)"
   ]
  },
  {
   "cell_type": "code",
   "execution_count": 14,
   "metadata": {},
   "outputs": [
    {
     "name": "stdout",
     "output_type": "stream",
     "text": [
      "2527092560960 {'a': 10, 'b': 20, 'c': 30, 'd': 40}\n",
      "2527092558336 {'a': 10, 'b': 20, 'c': 30, 'd': 40}\n"
     ]
    }
   ],
   "source": [
    "#copy()\n",
    "# s={'a':10,'b':20,'c':30,'d':40} \n",
    "# print(id(s),s)\n",
    "# res=s.copy()\n",
    "# print(res)\n",
    "# print(id(res),res)\n",
    "\n",
    "\n",
    "s={'a':10,'b':20,'c':30,'d':40} \n",
    "print(id(s),s)\n",
    "def u_copy(coll):\n",
    "    if type(coll)!=dict:\n",
    "        return -1\n",
    "    temp={}\n",
    "    for i in coll:\n",
    "        temp[i]=coll[i]\n",
    "    return temp\n",
    "res=u_copy(s)\n",
    "print(id(res),res)"
   ]
  },
  {
   "cell_type": "code",
   "execution_count": 25,
   "metadata": {},
   "outputs": [
    {
     "name": "stdout",
     "output_type": "stream",
     "text": [
      "None\n",
      "40\n"
     ]
    }
   ],
   "source": [
    "#get()\n",
    "s={'a':10,'b':20,'c':30,'d':40} \n",
    "# print(s.get('a'))\n",
    "print(s.get('e'))\n",
    "print(s['d'])"
   ]
  },
  {
   "cell_type": "code",
   "execution_count": 26,
   "metadata": {},
   "outputs": [
    {
     "name": "stdout",
     "output_type": "stream",
     "text": [
      "2527092753344 {'a': 10, 'b': 20, 'c': 30, 'd': 40}\n",
      "10\n",
      "2527092753344 {'b': 20, 'c': 30, 'd': 40}\n"
     ]
    }
   ],
   "source": [
    "#pop()\n",
    "s={'a':10,'b':20,'c':30,'d':40} \n",
    "print(id(s),s)\n",
    "print(s.pop('a'))\n",
    "print(id(s),s)"
   ]
  },
  {
   "cell_type": "code",
   "execution_count": 35,
   "metadata": {},
   "outputs": [
    {
     "name": "stdout",
     "output_type": "stream",
     "text": [
      "2527091651712 {'a': 10, 'b': 20, 'c': 30, 'd': 40}\n",
      "10\n",
      "2527091651712 {'b': 20, 'c': 30, 'd': 40}\n"
     ]
    }
   ],
   "source": [
    "s={'a':10,'b':20,'c':30,'d':40} \n",
    "print(id(s),s)\n",
    "def u_pop(coll,key):\n",
    "    if type(coll)!=dict  or type(key) in [list,set,dict]:\n",
    "        return -1\n",
    "    res=coll[key]\n",
    "    del coll[key]\n",
    "    return res\n",
    "# r=u_pop(s,'e')\n",
    "r=u_pop(s,'a')\n",
    "print(r)\n",
    "print(id(s),s)"
   ]
  },
  {
   "cell_type": "code",
   "execution_count": 37,
   "metadata": {},
   "outputs": [
    {
     "name": "stdout",
     "output_type": "stream",
     "text": [
      "2527092754432 {'a': 10, 'd': 20, 'c': 30, 'b': 40}\n",
      "('b', 40)\n",
      "2527092754432 {'a': 10, 'd': 20, 'c': 30}\n"
     ]
    }
   ],
   "source": [
    "#popitem()\n",
    "#it will delete the ending key-value pair  and return deleted key-value pair tuple\n",
    "s={'a':10,'d':20,'c':30,'b':40} \n",
    "print(id(s),s)\n",
    "print(s.popitem())\n",
    "print(id(s),s)"
   ]
  },
  {
   "cell_type": "code",
   "execution_count": 40,
   "metadata": {},
   "outputs": [
    {
     "name": "stdout",
     "output_type": "stream",
     "text": [
      "2527092275072 {'a': 10, 'd': 20, 'c': 30, 'b': 40}\n",
      "('b', 40)\n",
      "2527092275072 {'a': 10, 'd': 20, 'c': 30}\n"
     ]
    }
   ],
   "source": [
    "s={'a':10,'d':20,'c':30,'b':40} \n",
    "print(id(s),s)\n",
    "def u_popitem(coll):\n",
    "    if type(coll)!=dict:\n",
    "      return -1\n",
    "    key=list(coll)[-1]\n",
    "    val=coll[key]\n",
    "    del coll[key]\n",
    "    return (key,val)\n",
    "print(u_popitem(s))\n",
    "print(id(s),s)"
   ]
  },
  {
   "cell_type": "code",
   "execution_count": 50,
   "metadata": {},
   "outputs": [
    {
     "name": "stdout",
     "output_type": "stream",
     "text": [
      "2527092335488 {'a': 10, 'd': 20, 'c': 30, 'b': 40}\n",
      "2527092335488 {'a': 10, 'd': 20, 'c': 30, 'b': 40, 'f': 60}\n"
     ]
    }
   ],
   "source": [
    "#update()\n",
    "#add new value to dict\n",
    "# s={'a':10,'d':20,'c':30,'b':40} \n",
    "# print(id(s),s)\n",
    "# print(s.update({'e':50}))\n",
    "# print(id(s),s)\n",
    "\n",
    "s={'a':10,'d':20,'c':30,'b':40} \n",
    "print(id(s),s)\n",
    "def u_update(coll,ele):\n",
    "    if type(coll)!=dict and type(ele)!=dict:\n",
    "      return -1\n",
    "    coll|=ele\n",
    "u_update(s,{'f':60})\n",
    "print(id(s),s)"
   ]
  }
 ],
 "metadata": {
  "kernelspec": {
   "display_name": "Python 3",
   "language": "python",
   "name": "python3"
  },
  "language_info": {
   "codemirror_mode": {
    "name": "ipython",
    "version": 3
   },
   "file_extension": ".py",
   "mimetype": "text/x-python",
   "name": "python",
   "nbconvert_exporter": "python",
   "pygments_lexer": "ipython3",
   "version": "3.10.7"
  }
 },
 "nbformat": 4,
 "nbformat_minor": 2
}
