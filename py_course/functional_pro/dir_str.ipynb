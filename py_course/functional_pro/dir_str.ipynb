{
 "cells": [
  {
   "cell_type": "code",
   "execution_count": 14,
   "metadata": {},
   "outputs": [
    {
     "data": {
      "text/plain": [
       "'Adam 123'"
      ]
     },
     "execution_count": 14,
     "metadata": {},
     "output_type": "execute_result"
    }
   ],
   "source": [
    "#capitalize()\n",
    "a='adam 123'\n",
    "# print(a.capitalize())\n",
    "# print(a)\n",
    "if type(a)==str:\n",
    "    if len(a)>0:\n",
    "        def Capitalize(coll):\n",
    "            captl=''\n",
    "            for i in coll:\n",
    "                if 'A'<=i<='Z':\n",
    "                    captl+=chr(ord(i)-32)\n",
    "                else:\n",
    "                    captl+=i\n",
    "            if 'a'<=captl[0]<='z':\n",
    "                captl=chr(ord(captl[0])-32)+captl[1:]\n",
    "            return captl\n",
    "    else:\n",
    "        print()\n",
    "else:\n",
    "    print('enter string only')\n",
    "Capitalize(a)"
   ]
  },
  {
   "cell_type": "code",
   "execution_count": 2,
   "metadata": {},
   "outputs": [
    {
     "data": {
      "text/plain": [
       "'Adam 234'"
      ]
     },
     "execution_count": 2,
     "metadata": {},
     "output_type": "execute_result"
    }
   ],
   "source": [
    "st='adam 234' #sir\n",
    "def u_capitalize(coll):\n",
    "    res=''\n",
    "    if 'a'<=coll[0]<='z':\n",
    "        res+=chr(ord(coll[0])-32)\n",
    "    else:\n",
    "        res+=coll[0]\n",
    "    for i in range(1,len(coll)):\n",
    "        if 'A'<=coll[i]<='Z':\n",
    "            res+=chr(ord(coll[i])+32)\n",
    "        else:\n",
    "            res+=coll[i]\n",
    "    return res\n",
    "u_capitalize(st)"
   ]
  },
  {
   "cell_type": "code",
   "execution_count": 23,
   "metadata": {},
   "outputs": [
    {
     "data": {
      "text/plain": [
       "'hello world234$ #$%'"
      ]
     },
     "execution_count": 23,
     "metadata": {},
     "output_type": "execute_result"
    }
   ],
   "source": [
    "# casefold()\n",
    "st='hello WORLD234$ #$%'\n",
    "# print(st.casefold())\n",
    "def u_casefold(coll):\n",
    "    res=''\n",
    "    for i in coll:\n",
    "        if 'A'<=i<='Z':\n",
    "            res+=chr(ord(i)+32)\n",
    "        else:\n",
    "            res+=i\n",
    "    return res\n",
    "u_casefold(st)"
   ]
  },
  {
   "cell_type": "code",
   "execution_count": 31,
   "metadata": {},
   "outputs": [
    {
     "name": "stdout",
     "output_type": "stream",
     "text": [
      "IMRAN KHAN\n",
      "IMRAN KHAN\n"
     ]
    }
   ],
   "source": [
    "#upper()\n",
    "st='imran khan'\n",
    "print(st.upper())\n",
    "def u_upper(coll):\n",
    "    res=''\n",
    "    for i in coll:\n",
    "        if 'a'<=i<='z':\n",
    "            res+=chr(ord(i)-32)\n",
    "        else:\n",
    "            res+=i\n",
    "    return res\n",
    "print(u_upper(st))"
   ]
  },
  {
   "cell_type": "code",
   "execution_count": 34,
   "metadata": {},
   "outputs": [
    {
     "name": "stdout",
     "output_type": "stream",
     "text": [
      "imran khan\n",
      "imran khan\n"
     ]
    }
   ],
   "source": [
    "#lower()\n",
    "st='IMRAN KHAN'\n",
    "print(st.lower())\n",
    "def u_lower(coll):\n",
    "    res=''\n",
    "    for i in coll:\n",
    "        if 'A'<=i<='Z':\n",
    "            res+=chr(ord(i)+32)\n",
    "        else:\n",
    "            res+=i\n",
    "    return res\n",
    "print(u_lower(st))"
   ]
  },
  {
   "cell_type": "code",
   "execution_count": 37,
   "metadata": {},
   "outputs": [
    {
     "name": "stdout",
     "output_type": "stream",
     "text": [
      "IMRAN khan\n",
      "IMRAN khan\n"
     ]
    }
   ],
   "source": [
    "#swapcase()\n",
    "st='imran KHAN'\n",
    "# st.swapcase()\n",
    "print(st.swapcase())\n",
    "def u_swapcase(coll):\n",
    "    res=''\n",
    "    for i in coll:\n",
    "        if 'A'<=i<='Z':\n",
    "            res+=chr(ord(i)+32)\n",
    "        elif 'a'<=i<='z':\n",
    "            res+=chr(ord(i)-32)\n",
    "        else:\n",
    "            res+=i\n",
    "    return res\n",
    "print(u_swapcase(st))"
   ]
  },
  {
   "cell_type": "code",
   "execution_count": 94,
   "metadata": {},
   "outputs": [
    {
     "name": "stdout",
     "output_type": "stream",
     "text": [
      "@Imran Khan 7777Janab5\n"
     ]
    }
   ],
   "source": [
    "#title()\n",
    "st='@imran khan 7777janab5' #sir\n",
    "st.title()\n",
    "def u_title(coll):\n",
    "    temp=0\n",
    "    res=''\n",
    "    if 'a'<=coll[0]<='z':\n",
    "        res+=chr(ord(coll[0])-32)\n",
    "        temp=1\n",
    "    elif 'A'<=coll[0]<='Z':\n",
    "        res+=coll[0]\n",
    "        temp=1\n",
    "    while temp<len(coll):\n",
    "        if not('A'<=coll[temp]<='Z' or 'a'<=coll[temp]<='z'):\n",
    "            res+=coll[temp]\n",
    "            if temp+1<len(coll) and 'a'<=coll[temp+1]<='z':\n",
    "                res+=chr(ord(coll[temp+1])-32)\n",
    "            else:\n",
    "                if temp+1<len(coll):\n",
    "                    res+=coll[temp+1]\n",
    "            temp+=1\n",
    "        elif 'A'<=coll[temp]<='Z':\n",
    "            res+=chr(ord(coll[temp])+32)\n",
    "        else:\n",
    "            res+=coll[temp]\n",
    "        temp+=1\n",
    "    return res\n",
    "res=u_title(st)\n",
    "print(res)"
   ]
  },
  {
   "cell_type": "code",
   "execution_count": 96,
   "metadata": {},
   "outputs": [
    {
     "name": "stdout",
     "output_type": "stream",
     "text": [
      "@Imran Khan 7777Janab$A\n",
      "@Imran Khan 7777Janab$A\n"
     ]
    }
   ],
   "source": [
    "n='@imran khan 7777jAnab$a'\n",
    "print(n.title())\n",
    "def u_title(n):\n",
    "    s=''\n",
    "    i=0\n",
    "    while i<len(n):\n",
    "        if not ('a'<=n[i]<='z' or 'A'<=n[i]<='Z' ):\n",
    "            s+=n[i]\n",
    "        elif 'a'<=n[i]<='z' and i==0:\n",
    "                s+=chr(ord(n[i])-32)\n",
    "        else:\n",
    "            if  not ('a'<=n[i-1]<='z' or 'A'<=n[i-1]<='Z') and 'a'<=n[i]<='z':\n",
    "                s+=chr(ord(n[i])-32)\n",
    "            elif 'A'<=n[i-1]<='Z' and 'A'<=n[i]<='Z' :\n",
    "                s+=chr(ord(n[i])+32)\n",
    "            elif 'a'<=n[i-1]<='z' and 'A'<=n[i]<='Z' :\n",
    "                s+=chr(ord(n[i])+32)\n",
    "            else:\n",
    "                s+=n[i]\n",
    "        i+=1\n",
    "    return s\n",
    "print(u_title(n))    "
   ]
  },
  {
   "cell_type": "code",
   "execution_count": 99,
   "metadata": {},
   "outputs": [
    {
     "data": {
      "text/plain": [
       "True"
      ]
     },
     "execution_count": 99,
     "metadata": {},
     "output_type": "execute_result"
    }
   ],
   "source": [
    "#istitle()\n",
    "# print(res)\n",
    "# res.istitle()\n",
    "st='@Imran Khan 7777Janab2' #sir\n",
    "def u_istitle(coll):\n",
    "    if 'a'<=coll[0]<='z':\n",
    "        return False\n",
    "    i=0\n",
    "    while i<len(coll):\n",
    "        if not('A'<=coll[i]<='Z' or 'a'<=coll[i]<='z'):\n",
    "            if i+1<len(coll) and 'a'<=coll[i+1]<='z':\n",
    "                return False\n",
    "        i+=1\n",
    "    return True\n",
    "u_istitle(st)\n"
   ]
  },
  {
   "cell_type": "code",
   "execution_count": 4,
   "metadata": {},
   "outputs": [
    {
     "name": "stdout",
     "output_type": "stream",
     "text": [
      "---abc----\n"
     ]
    }
   ],
   "source": [
    "#center()\n",
    "st='abc'\n",
    "# print(st.center(10,'-'))\n",
    "# def u_center(coll,width,fillchar=' ')\n",
    "def u_center(coll,width,fillchar=''):\n",
    "    res=width-len(coll)\n",
    "    l=res//2\n",
    "    r=res-l\n",
    "    res=fillchar*l+coll+fillchar*r\n",
    "    return res\n",
    "print(u_center(st,10,'-'))"
   ]
  },
  {
   "cell_type": "code",
   "execution_count": 46,
   "metadata": {},
   "outputs": [
    {
     "name": "stdout",
     "output_type": "stream",
     "text": [
      "TypeError: The fill character must be exactly one character long\n"
     ]
    }
   ],
   "source": [
    "#center()\n",
    "st='abc'\n",
    "# print(st.center(10,'-'))\n",
    "# def u_center(coll,width,fillchar=' ')\n",
    "def u_center(coll,width,fillchar=' '):\n",
    "    if len(fillchar)>1:\n",
    "        return 'TypeError: The fill character must be exactly one character long'\n",
    "    res=width-len(coll)\n",
    "    l=res//2\n",
    "    r=res-l\n",
    "    res=fillchar*l+coll+fillchar*r\n",
    "    return res\n",
    "print(u_center(st,10,'--'))"
   ]
  },
  {
   "cell_type": "code",
   "execution_count": 100,
   "metadata": {},
   "outputs": [
    {
     "name": "stdout",
     "output_type": "stream",
     "text": [
      "---abc----\n"
     ]
    }
   ],
   "source": [
    "#center() \n",
    "st='abc'\n",
    "# print(st.center(10,'-'))\n",
    "# def u_center(coll,width,fillchar=' ')\n",
    "def u_center(coll,width,fillchar=' '):\n",
    "    if len(fillchar)>1:\n",
    "        raise TypeError ('The fill character must be exactly one character long') #used in real_time_project\n",
    "    res=width-len(coll)\n",
    "    l=res//2\n",
    "    r=res-l\n",
    "    res=fillchar*l+coll+fillchar*r\n",
    "    return res\n",
    "print(u_center(st,10,'-'))"
   ]
  },
  {
   "cell_type": "code",
   "execution_count": 51,
   "metadata": {},
   "outputs": [
    {
     "name": "stdout",
     "output_type": "stream",
     "text": [
      "-1\n"
     ]
    }
   ],
   "source": [
    "#center()\n",
    "st='abc'\n",
    "# print(st.center(10,'-'))\n",
    "# def u_center(coll,width,fillchar=' ')\n",
    "def u_center(coll,width,fillchar=' '):\n",
    "    if len(fillchar)>1:\n",
    "        return -1\n",
    "    res=width-len(coll)\n",
    "    l=res//2\n",
    "    r=res-l\n",
    "    res=fillchar*l+coll+fillchar*r\n",
    "    return res\n",
    "print(u_center(st,10,'--'))"
   ]
  },
  {
   "cell_type": "code",
   "execution_count": 101,
   "metadata": {},
   "outputs": [
    {
     "data": {
      "text/plain": [
       "True"
      ]
     },
     "execution_count": 101,
     "metadata": {},
     "output_type": "execute_result"
    }
   ],
   "source": [
    "#isupper()\n",
    "st='IMRAN KHAN'\n",
    "def u_isupper(coll):\n",
    "    for i in coll:\n",
    "        if 'a'<=i<='z':\n",
    "            return False\n",
    "    return True\n",
    "u_isupper(st)"
   ]
  },
  {
   "cell_type": "code",
   "execution_count": 6,
   "metadata": {},
   "outputs": [
    {
     "name": "stdout",
     "output_type": "stream",
     "text": [
      "True\n"
     ]
    }
   ],
   "source": [
    "ab='I 457'\n",
    "print(ab.isupper())"
   ]
  },
  {
   "cell_type": "code",
   "execution_count": 73,
   "metadata": {},
   "outputs": [
    {
     "data": {
      "text/plain": [
       "True"
      ]
     },
     "execution_count": 73,
     "metadata": {},
     "output_type": "execute_result"
    }
   ],
   "source": [
    "#islower()\n",
    "st='imran khan'\n",
    "def u_islower(coll):\n",
    "    i=0\n",
    "    while i<len(coll):\n",
    "        if 'A'<=coll[i]<='Z':\n",
    "            return False\n",
    "        i+=1\n",
    "    return True    \n",
    "u_islower(st)"
   ]
  },
  {
   "cell_type": "code",
   "execution_count": 8,
   "metadata": {},
   "outputs": [
    {
     "name": "stdout",
     "output_type": "stream",
     "text": [
      "True\n"
     ]
    },
    {
     "data": {
      "text/plain": [
       "True"
      ]
     },
     "execution_count": 8,
     "metadata": {},
     "output_type": "execute_result"
    }
   ],
   "source": [
    "#isalpha()\n",
    "st='imrankhan'\n",
    "print(st.isalpha())\n",
    "def u_isalpha(coll):\n",
    "    for i in coll:\n",
    "        if not('a'<=i<='z' or 'A'<=i<='Z'):\n",
    "            return False\n",
    "    return True\n",
    "u_isalpha(st)"
   ]
  },
  {
   "cell_type": "code",
   "execution_count": 4,
   "metadata": {},
   "outputs": [
    {
     "name": "stdout",
     "output_type": "stream",
     "text": [
      "True\n",
      "True\n"
     ]
    }
   ],
   "source": [
    "st='123abc'\n",
    "print(st.isalnum())\n",
    "def u_isalnum(coll):\n",
    "    for i in coll:\n",
    "        if not('0'<=i<='9' or 'a'<=i<='z' or 'A'<=i<='Z'):\n",
    "            return False\n",
    "    return True\n",
    "print(u_isalnum(st))"
   ]
  },
  {
   "cell_type": "code",
   "execution_count": 130,
   "metadata": {},
   "outputs": [
    {
     "name": "stdout",
     "output_type": "stream",
     "text": [
      "True\n",
      "True\n"
     ]
    }
   ],
   "source": [
    "#isdigit() or isnumeric() or isdecimal() #all same\n",
    "# st='124'\n",
    "# print(st.isdecimal())\n",
    "# st='234'\n",
    "# print(st.isdigit())\n",
    "st='234'\n",
    "print(st.isnumeric())\n",
    "#----------\n",
    "def u_isnumeric(coll):\n",
    "    for i in coll:\n",
    "        if not('0'<=i<='9'):\n",
    "            return False\n",
    "    return True\n",
    "print(u_isnumeric(st))"
   ]
  },
  {
   "cell_type": "code",
   "execution_count": 7,
   "metadata": {},
   "outputs": [
    {
     "name": "stdout",
     "output_type": "stream",
     "text": [
      "0\n",
      "1\n",
      "2\n",
      "3\n",
      "4\n",
      "6\n",
      "7\n",
      "8\n",
      "9\n",
      "10\n"
     ]
    }
   ],
   "source": [
    "i=0\n",
    "while i<=10:\n",
    "    if i==5:\n",
    "        i+=1\n",
    "        continue\n",
    "    print(i)\n",
    "    i+=1"
   ]
  },
  {
   "cell_type": "code",
   "execution_count": 16,
   "metadata": {},
   "outputs": [
    {
     "name": "stdout",
     "output_type": "stream",
     "text": [
      "True\n",
      "True\n"
     ]
    }
   ],
   "source": [
    "#isspace()\n",
    "# st='sdfsv ds    dsf'\n",
    "# st=''\n",
    "st=' '\n",
    "print(st.isspace())\n",
    "def u_isspace(coll):\n",
    "    if len(coll)==0:\n",
    "        return False\n",
    "    for i in coll:\n",
    "        if  i!=' ':\n",
    "            return False\n",
    "    return True\n",
    "print(u_isspace(st))"
   ]
  },
  {
   "cell_type": "code",
   "execution_count": 18,
   "metadata": {},
   "outputs": [
    {
     "name": "stdout",
     "output_type": "stream",
     "text": [
      "True\n",
      "True\n"
     ]
    }
   ],
   "source": [
    "#isidentifier()\n",
    "# st='2sdfj'\n",
    "st='_jklj'\n",
    "print(st.isidentifier())\n",
    "def u_isidentifier(coll):\n",
    "    if '0'<=coll[0]<='9':\n",
    "        return False\n",
    "    for i in coll:\n",
    "        if not('A'<=i<='Z' or 'a'<=i<='z' or '0'<=i<='9' or i=='_'):\n",
    "            return False\n",
    "    return True\n",
    "print(u_isidentifier(st))"
   ]
  },
  {
   "cell_type": "code",
   "execution_count": 2,
   "metadata": {},
   "outputs": [
    {
     "name": "stdout",
     "output_type": "stream",
     "text": [
      "abcds\n",
      "a-b-c-d-s\n"
     ]
    }
   ],
   "source": [
    "#join()\n",
    "# st=['a','b','c','d','s',10]\n",
    "# st=['abc','bcd','cdef','defg','stuv']\n",
    "st=['a','b','c','d','s']\n",
    "\n",
    "print(''.join(st))\n",
    "# print('*'.join(st))\n",
    "# print('-*'.join(st))\n",
    "def join(coll,sep=''):\n",
    "    for i in coll:\n",
    "        if type(i)!=str:\n",
    "            return False\n",
    "    res=''\n",
    "    for i in coll:\n",
    "        res=res+i+sep\n",
    "    if sep=='':\n",
    "        return res\n",
    "    else:\n",
    "        return res[:-(len(sep))]\n",
    "print(join(st,'-'))"
   ]
  }
 ],
 "metadata": {
  "kernelspec": {
   "display_name": "Python 3",
   "language": "python",
   "name": "python3"
  },
  "language_info": {
   "codemirror_mode": {
    "name": "ipython",
    "version": 3
   },
   "file_extension": ".py",
   "mimetype": "text/x-python",
   "name": "python",
   "nbconvert_exporter": "python",
   "pygments_lexer": "ipython3",
   "version": "3.10.7"
  },
  "orig_nbformat": 4
 },
 "nbformat": 4,
 "nbformat_minor": 2
}
