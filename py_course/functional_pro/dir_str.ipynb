{
 "cells": [
  {
   "cell_type": "code",
   "execution_count": 14,
   "metadata": {},
   "outputs": [
    {
     "data": {
      "text/plain": [
       "'Adam 123'"
      ]
     },
     "execution_count": 14,
     "metadata": {},
     "output_type": "execute_result"
    }
   ],
   "source": [
    "#capitalize()\n",
    "a='adam 123'\n",
    "# print(a.capitalize())\n",
    "# print(a)\n",
    "if type(a)==str:\n",
    "    if len(a)>0:\n",
    "        def Capitalize(coll):\n",
    "            captl=''\n",
    "            for i in coll:\n",
    "                if 'A'<=i<='Z':\n",
    "                    captl+=chr(ord(i)-32)\n",
    "                else:\n",
    "                    captl+=i\n",
    "            if 'a'<=captl[0]<='z':\n",
    "                captl=chr(ord(captl[0])-32)+captl[1:]\n",
    "            return captl\n",
    "    else:\n",
    "        print()\n",
    "else:\n",
    "    print('enter string only')\n",
    "Capitalize(a)"
   ]
  },
  {
   "cell_type": "code",
   "execution_count": 2,
   "metadata": {},
   "outputs": [
    {
     "data": {
      "text/plain": [
       "'Adam 234'"
      ]
     },
     "execution_count": 2,
     "metadata": {},
     "output_type": "execute_result"
    }
   ],
   "source": [
    "st='adam 234' #sir\n",
    "def u_capitalize(coll):\n",
    "    res=''\n",
    "    if 'a'<=coll[0]<='z':\n",
    "        res+=chr(ord(coll[0])-32)\n",
    "    else:\n",
    "        res+=coll[0]\n",
    "    for i in range(1,len(coll)):\n",
    "        if 'A'<=coll[i]<='Z':\n",
    "            res+=chr(ord(coll[i])+32)\n",
    "        else:\n",
    "            res+=coll[i]\n",
    "    return res\n",
    "u_capitalize(st)"
   ]
  },
  {
   "cell_type": "code",
   "execution_count": 23,
   "metadata": {},
   "outputs": [
    {
     "data": {
      "text/plain": [
       "'hello world234$ #$%'"
      ]
     },
     "execution_count": 23,
     "metadata": {},
     "output_type": "execute_result"
    }
   ],
   "source": [
    "# casefold()\n",
    "st='hello WORLD234$ #$%'\n",
    "# print(st.casefold())\n",
    "def u_casefold(coll):\n",
    "    res=''\n",
    "    for i in coll:\n",
    "        if 'A'<=i<='Z':\n",
    "            res+=chr(ord(i)+32)\n",
    "        else:\n",
    "            res+=i\n",
    "    return res\n",
    "u_casefold(st)"
   ]
  },
  {
   "cell_type": "code",
   "execution_count": 31,
   "metadata": {},
   "outputs": [
    {
     "name": "stdout",
     "output_type": "stream",
     "text": [
      "IMRAN KHAN\n",
      "IMRAN KHAN\n"
     ]
    }
   ],
   "source": [
    "#upper()\n",
    "st='imran khan'\n",
    "print(st.upper())\n",
    "def u_upper(coll):\n",
    "    res=''\n",
    "    for i in coll:\n",
    "        if 'a'<=i<='z':\n",
    "            res+=chr(ord(i)-32)\n",
    "        else:\n",
    "            res+=i\n",
    "    return res\n",
    "print(u_upper(st))"
   ]
  },
  {
   "cell_type": "code",
   "execution_count": 34,
   "metadata": {},
   "outputs": [
    {
     "name": "stdout",
     "output_type": "stream",
     "text": [
      "imran khan\n",
      "imran khan\n"
     ]
    }
   ],
   "source": [
    "#lower()\n",
    "st='IMRAN KHAN'\n",
    "print(st.lower())\n",
    "def u_lower(coll):\n",
    "    res=''\n",
    "    for i in coll:\n",
    "        if 'A'<=i<='Z':\n",
    "            res+=chr(ord(i)+32)\n",
    "        else:\n",
    "            res+=i\n",
    "    return res\n",
    "print(u_lower(st))"
   ]
  },
  {
   "cell_type": "code",
   "execution_count": 37,
   "metadata": {},
   "outputs": [
    {
     "name": "stdout",
     "output_type": "stream",
     "text": [
      "IMRAN khan\n",
      "IMRAN khan\n"
     ]
    }
   ],
   "source": [
    "#swapcase()\n",
    "st='imran KHAN'\n",
    "# st.swapcase()\n",
    "print(st.swapcase())\n",
    "def u_swapcase(coll):\n",
    "    res=''\n",
    "    for i in coll:\n",
    "        if 'A'<=i<='Z':\n",
    "            res+=chr(ord(i)+32)\n",
    "        elif 'a'<=i<='z':\n",
    "            res+=chr(ord(i)-32)\n",
    "        else:\n",
    "            res+=i\n",
    "    return res\n",
    "print(u_swapcase(st))"
   ]
  },
  {
   "cell_type": "code",
   "execution_count": 72,
   "metadata": {},
   "outputs": [
    {
     "name": "stdout",
     "output_type": "stream",
     "text": [
      "@*Imran Khan 7777Janab$*H\n",
      "@*imran Khan 7777Janab$*h\n"
     ]
    }
   ],
   "source": [
    "#title()\n",
    "st='@imran khan 7777janab5' #sir:wrong output check\n",
    "st='@*imran khan 7777jAnab$*h'\n",
    "print(st.title())\n",
    "def u_title_sir(coll):\n",
    "    temp=0\n",
    "    res=''\n",
    "    if 'a'<=coll[0]<='z':\n",
    "        res+=chr(ord(coll[0])-32)\n",
    "        # temp=1\n",
    "    elif 'A'<=coll[0]<='Z':\n",
    "        res+=coll[0]\n",
    "        temp=1\n",
    "    while temp<len(coll):\n",
    "        if not('A'<=coll[temp]<='Z' or 'a'<=coll[temp]<='z'):\n",
    "            res+=coll[temp]\n",
    "            if temp+1<len(coll) and 'a'<=coll[temp+1]<='z':\n",
    "                res+=chr(ord(coll[temp+1])-32)\n",
    "            else:\n",
    "                if temp+1<len(coll):\n",
    "                    res+=coll[temp+1]\n",
    "            temp+=1\n",
    "        elif 'A'<=coll[temp]<='Z':\n",
    "            res+=chr(ord(coll[temp])+32)\n",
    "        else:\n",
    "            res+=coll[temp]\n",
    "        temp+=1\n",
    "    return res\n",
    "res=u_title_sir(st)\n",
    "print(res)"
   ]
  },
  {
   "cell_type": "code",
   "execution_count": 41,
   "metadata": {},
   "outputs": [
    {
     "data": {
      "text/plain": [
       "'Ll'"
      ]
     },
     "execution_count": 41,
     "metadata": {},
     "output_type": "execute_result"
    }
   ],
   "source": [
    "st='LL'\n",
    "def u_title(n):\n",
    "    s=''\n",
    "    i=0\n",
    "    while i<len(n):\n",
    "        if 'A'<=n[i]<='Z' and i==0:\n",
    "            s+=n[i]\n",
    "        elif 'a'<=n[i]<='z' and i==0:\n",
    "                s+=chr(ord(n[i])-32)\n",
    "        else:\n",
    "            if  not ('a'<=n[i-1]<='z' or 'A'<=n[i-1]<='Z') and 'a'<=n[i]<='z':\n",
    "                s+=chr(ord(n[i])-32)\n",
    "            elif 'A'<=n[i-1]<='Z' and 'A'<=n[i]<='Z' :\n",
    "                s+=chr(ord(n[i])+32)\n",
    "            elif 'a'<=n[i-1]<='z' and 'A'<=n[i]<='Z' :\n",
    "                s+=chr(ord(n[i])+32)\n",
    "            else:\n",
    "                s+=n[i]\n",
    "        i+=1\n",
    "    return s\n",
    "u_title(st) \n"
   ]
  },
  {
   "cell_type": "code",
   "execution_count": 43,
   "metadata": {},
   "outputs": [
    {
     "name": "stdout",
     "output_type": "stream",
     "text": [
      "@*Imran Khan 7777Janab$*H\n",
      "@*Imran Khan 7777Janab$*H\n"
     ]
    }
   ],
   "source": [
    "#OR\n",
    "st='@*imran khan 7777jAnab$*h'\n",
    "# st='LL'\n",
    "# st='LLl'\n",
    "print(st.title())\n",
    "def u_title_2(n):\n",
    "    s=''\n",
    "    i=0\n",
    "    while i<len(n):\n",
    "        if not ('a'<=n[i]<='z' or 'A'<=n[i]<='Z' ):\n",
    "            s+=n[i]\n",
    "        elif 'a'<=n[i]<='z' and i==0:\n",
    "                s+=chr(ord(n[i])-32)\n",
    "        else:\n",
    "            if  not ('a'<=n[i-1]<='z' or 'A'<=n[i-1]<='Z') and 'a'<=n[i]<='z':\n",
    "                s+=chr(ord(n[i])-32)\n",
    "            elif 'A'<=n[i-1]<='Z' and 'A'<=n[i]<='Z' and i!=0:\n",
    "                s+=chr(ord(n[i])+32)\n",
    "            elif 'a'<=n[i-1]<='z' and 'A'<=n[i]<='Z' and i!=0:\n",
    "                s+=chr(ord(n[i])+32)\n",
    "            else:\n",
    "                s+=n[i]\n",
    "        i+=1\n",
    "    return s\n",
    "print(u_title_2(st))    "
   ]
  },
  {
   "cell_type": "code",
   "execution_count": 39,
   "metadata": {},
   "outputs": [
    {
     "data": {
      "text/plain": [
       "'Lllll'"
      ]
     },
     "execution_count": 39,
     "metadata": {},
     "output_type": "execute_result"
    }
   ],
   "source": [
    "n='LLlll'\n",
    "n.title()\n",
    "u_title(n)"
   ]
  },
  {
   "cell_type": "code",
   "execution_count": 44,
   "metadata": {},
   "outputs": [
    {
     "name": "stdout",
     "output_type": "stream",
     "text": [
      "False\n"
     ]
    },
    {
     "data": {
      "text/plain": [
       "True"
      ]
     },
     "execution_count": 44,
     "metadata": {},
     "output_type": "execute_result"
    }
   ],
   "source": [
    "#istitle()\n",
    "# print(res)\n",
    "# res.istitle()\n",
    "st='@Imran KJhan 7777Janab2' #sir:wrong output check\n",
    "print(st.istitle())\n",
    "def u_istitle_sir(coll):\n",
    "    if 'a'<=coll[0]<='z':\n",
    "        return False\n",
    "    i=0\n",
    "    while i<len(coll):\n",
    "        if not('A'<=coll[i]<='Z' or 'a'<=coll[i]<='z'):\n",
    "            if i+1<len(coll) and 'a'<=coll[i+1]<='z':\n",
    "                return False\n",
    "        i+=1\n",
    "    return True\n",
    "u_istitle_sir(st)\n"
   ]
  },
  {
   "cell_type": "code",
   "execution_count": 93,
   "metadata": {},
   "outputs": [
    {
     "name": "stdout",
     "output_type": "stream",
     "text": [
      "False\n",
      "False\n"
     ]
    }
   ],
   "source": [
    "# st='@Imran KKhan 7777Janab2' \n",
    "# st='A'\n",
    "st='#5'\n",
    "# st='#'\n",
    "# st='@Imran Khan 7777Janab$*H'\n",
    "print(st.istitle())\n",
    "def u_istitle(coll):\n",
    "    if 'a'<=coll[0]<='z':\n",
    "        return False\n",
    "    i=0\n",
    "    while i<len(coll):\n",
    "        if not('a'<=coll[i-1]<='z' or 'A'<=coll[i-1]<='Z') and 'a'<=coll[i]<='z':\n",
    "            return False\n",
    "        elif 'A'<=coll[i-1]<='Z' and 'A'<=coll[i]<='Z' and i!=0:\n",
    "            return False\n",
    "        elif 'a'<=coll[i-1]<='z' and 'A'<=coll[i]<='Z':\n",
    "            return False\n",
    "        else:\n",
    "            j=0\n",
    "            while j<len(coll):\n",
    "                if not('a'<=coll[j]<='z' or 'A'<=coll[j]<='Z'):\n",
    "                    pass\n",
    "                else:\n",
    "                    break\n",
    "                j+=1\n",
    "            if j==len(coll):# and j!=0:\n",
    "                return False\n",
    "        i+=1\n",
    "    return True\n",
    "print(u_istitle(st))\n"
   ]
  },
  {
   "cell_type": "code",
   "execution_count": 85,
   "metadata": {},
   "outputs": [
    {
     "name": "stdout",
     "output_type": "stream",
     "text": [
      "False\n"
     ]
    },
    {
     "data": {
      "text/plain": [
       "True"
      ]
     },
     "execution_count": 85,
     "metadata": {},
     "output_type": "execute_result"
    }
   ],
   "source": [
    "# st='H1Elo World 2Hii '\n",
    "#st='1Elo Wor1Ld'\n",
    "st='4562'\n",
    "print(st.istitle())\n",
    "def u_istitle_bhanu(coll):\n",
    "    if 'a'<=coll[0]<='z':\n",
    "        return False\n",
    "    i=1\n",
    "    while i<len(coll):\n",
    "        if not('A'<=coll[i-1]<='Z' or 'a'<=coll[i-1]<='z') and 'a'<=coll[i]<='Z':\n",
    "           return False\n",
    "        elif 'A'<=coll[i-1]<='Z' and 'A'<=coll[i]<='Z':\n",
    "            return False\n",
    "        elif 'a'<=coll[i-1]<='z' and 'A'<=coll[i]<='Z':\n",
    "            return False\n",
    "        \n",
    "        i+=1\n",
    "    return True\n",
    "u_istitle_bhanu(st)"
   ]
  },
  {
   "cell_type": "code",
   "execution_count": 4,
   "metadata": {},
   "outputs": [
    {
     "name": "stdout",
     "output_type": "stream",
     "text": [
      "---abc----\n"
     ]
    }
   ],
   "source": [
    "#center()\n",
    "st='abc'\n",
    "# print(st.center(10,'-'))\n",
    "# def u_center(coll,width,fillchar=' ')\n",
    "def u_center(coll,width,fillchar=''):\n",
    "    res=width-len(coll)\n",
    "    l=res//2\n",
    "    r=res-l\n",
    "    res=fillchar*l+coll+fillchar*r\n",
    "    return res\n",
    "print(u_center(st,10,'-'))"
   ]
  },
  {
   "cell_type": "code",
   "execution_count": 46,
   "metadata": {},
   "outputs": [
    {
     "name": "stdout",
     "output_type": "stream",
     "text": [
      "TypeError: The fill character must be exactly one character long\n"
     ]
    }
   ],
   "source": [
    "#center()\n",
    "st='abc'\n",
    "# print(st.center(10,'-'))\n",
    "# def u_center(coll,width,fillchar=' ')\n",
    "def u_center(coll,width,fillchar=' '):\n",
    "    if len(fillchar)>1:\n",
    "        return 'TypeError: The fill character must be exactly one character long'\n",
    "    res=width-len(coll)\n",
    "    l=res//2\n",
    "    r=res-l\n",
    "    res=fillchar*l+coll+fillchar*r\n",
    "    return res\n",
    "print(u_center(st,10,'--'))"
   ]
  },
  {
   "cell_type": "code",
   "execution_count": 100,
   "metadata": {},
   "outputs": [
    {
     "name": "stdout",
     "output_type": "stream",
     "text": [
      "---abc----\n"
     ]
    }
   ],
   "source": [
    "#center() \n",
    "st='abc'\n",
    "# print(st.center(10,'-'))\n",
    "# def u_center(coll,width,fillchar=' ')\n",
    "def u_center(coll,width,fillchar=' '):\n",
    "    if len(fillchar)>1:\n",
    "        raise TypeError ('The fill character must be exactly one character long') #used in real_time_project\n",
    "    res=width-len(coll)\n",
    "    l=res//2\n",
    "    r=res-l\n",
    "    res=fillchar*l+coll+fillchar*r\n",
    "    return res\n",
    "print(u_center(st,10,'-'))"
   ]
  },
  {
   "cell_type": "code",
   "execution_count": 51,
   "metadata": {},
   "outputs": [
    {
     "name": "stdout",
     "output_type": "stream",
     "text": [
      "-1\n"
     ]
    }
   ],
   "source": [
    "#center()\n",
    "st='abc'\n",
    "# print(st.center(10,'-'))\n",
    "# def u_center(coll,width,fillchar=' ')\n",
    "def u_center(coll,width,fillchar=' '):\n",
    "    if len(fillchar)>1:\n",
    "        return -1\n",
    "    res=width-len(coll)\n",
    "    l=res//2\n",
    "    r=res-l\n",
    "    res=fillchar*l+coll+fillchar*r\n",
    "    return res\n",
    "print(u_center(st,10,'--'))"
   ]
  },
  {
   "cell_type": "code",
   "execution_count": 43,
   "metadata": {},
   "outputs": [
    {
     "data": {
      "text/plain": [
       "'hello               '"
      ]
     },
     "execution_count": 43,
     "metadata": {},
     "output_type": "execute_result"
    }
   ],
   "source": [
    "#just()\n",
    "#rjust()\n",
    "#ljust()\n",
    "st='hello'\n",
    "st.center(20,'*')\n",
    "def u_ljust(coll,width,fillchar=' '):\n",
    "    res=''\n",
    "    res+=coll+fillchar*(width-len(coll))\n",
    "    return res\n",
    "u_ljust(st,20)"
   ]
  },
  {
   "cell_type": "code",
   "execution_count": 44,
   "metadata": {},
   "outputs": [
    {
     "data": {
      "text/plain": [
       "'               hello'"
      ]
     },
     "execution_count": 44,
     "metadata": {},
     "output_type": "execute_result"
    }
   ],
   "source": [
    "def u_rjust(coll,width,fillchar=' '):\n",
    "    res=''\n",
    "    res+=fillchar*(width-len(coll))+coll\n",
    "    return res\n",
    "u_rjust(st,20)"
   ]
  },
  {
   "cell_type": "code",
   "execution_count": 101,
   "metadata": {},
   "outputs": [
    {
     "data": {
      "text/plain": [
       "True"
      ]
     },
     "execution_count": 101,
     "metadata": {},
     "output_type": "execute_result"
    }
   ],
   "source": [
    "#isupper()\n",
    "st='IMRAN KHAN'\n",
    "def u_isupper(coll):\n",
    "    for i in coll:\n",
    "        if 'a'<=i<='z':\n",
    "            return False\n",
    "    return True\n",
    "u_isupper(st)"
   ]
  },
  {
   "cell_type": "code",
   "execution_count": 6,
   "metadata": {},
   "outputs": [
    {
     "name": "stdout",
     "output_type": "stream",
     "text": [
      "True\n"
     ]
    }
   ],
   "source": [
    "ab='I 457'\n",
    "print(ab.isupper())"
   ]
  },
  {
   "cell_type": "code",
   "execution_count": 73,
   "metadata": {},
   "outputs": [
    {
     "data": {
      "text/plain": [
       "True"
      ]
     },
     "execution_count": 73,
     "metadata": {},
     "output_type": "execute_result"
    }
   ],
   "source": [
    "#islower()\n",
    "st='imran khan'\n",
    "def u_islower(coll):\n",
    "    i=0\n",
    "    while i<len(coll):\n",
    "        if 'A'<=coll[i]<='Z':\n",
    "            return False\n",
    "        i+=1\n",
    "    return True    \n",
    "u_islower(st)"
   ]
  },
  {
   "cell_type": "code",
   "execution_count": 8,
   "metadata": {},
   "outputs": [
    {
     "name": "stdout",
     "output_type": "stream",
     "text": [
      "True\n"
     ]
    },
    {
     "data": {
      "text/plain": [
       "True"
      ]
     },
     "execution_count": 8,
     "metadata": {},
     "output_type": "execute_result"
    }
   ],
   "source": [
    "#isalpha()\n",
    "st='imrankhan'\n",
    "print(st.isalpha())\n",
    "def u_isalpha(coll):\n",
    "    for i in coll:\n",
    "        if not('a'<=i<='z' or 'A'<=i<='Z'):\n",
    "            return False\n",
    "    return True\n",
    "u_isalpha(st)"
   ]
  },
  {
   "cell_type": "code",
   "execution_count": 4,
   "metadata": {},
   "outputs": [
    {
     "name": "stdout",
     "output_type": "stream",
     "text": [
      "True\n",
      "True\n"
     ]
    }
   ],
   "source": [
    "st='123abc'\n",
    "print(st.isalnum())\n",
    "def u_isalnum(coll):\n",
    "    for i in coll:\n",
    "        if not('0'<=i<='9' or 'a'<=i<='z' or 'A'<=i<='Z'):\n",
    "            return False\n",
    "    return True\n",
    "print(u_isalnum(st))"
   ]
  },
  {
   "cell_type": "code",
   "execution_count": 130,
   "metadata": {},
   "outputs": [
    {
     "name": "stdout",
     "output_type": "stream",
     "text": [
      "True\n",
      "True\n"
     ]
    }
   ],
   "source": [
    "#isdigit() or isnumeric() or isdecimal() #all same\n",
    "# st='124'\n",
    "# print(st.isdecimal())\n",
    "# st='234'\n",
    "# print(st.isdigit())\n",
    "st='234'\n",
    "print(st.isnumeric())\n",
    "#----------\n",
    "def u_isnumeric(coll):\n",
    "    for i in coll:\n",
    "        if not('0'<=i<='9'):\n",
    "            return False\n",
    "    return True\n",
    "print(u_isnumeric(st))"
   ]
  },
  {
   "cell_type": "code",
   "execution_count": 7,
   "metadata": {},
   "outputs": [
    {
     "name": "stdout",
     "output_type": "stream",
     "text": [
      "0\n",
      "1\n",
      "2\n",
      "3\n",
      "4\n",
      "6\n",
      "7\n",
      "8\n",
      "9\n",
      "10\n"
     ]
    }
   ],
   "source": [
    "i=0\n",
    "while i<=10:\n",
    "    if i==5:\n",
    "        i+=1\n",
    "        continue\n",
    "    print(i)\n",
    "    i+=1"
   ]
  },
  {
   "cell_type": "code",
   "execution_count": 16,
   "metadata": {},
   "outputs": [
    {
     "name": "stdout",
     "output_type": "stream",
     "text": [
      "True\n",
      "True\n"
     ]
    }
   ],
   "source": [
    "#isspace()\n",
    "# st='sdfsv ds    dsf'\n",
    "# st=''\n",
    "st=' '\n",
    "print(st.isspace())\n",
    "def u_isspace(coll):\n",
    "    if len(coll)==0:\n",
    "        return False\n",
    "    for i in coll:\n",
    "        if  i!=' ':\n",
    "            return False\n",
    "    return True\n",
    "print(u_isspace(st))"
   ]
  },
  {
   "cell_type": "code",
   "execution_count": 95,
   "metadata": {},
   "outputs": [
    {
     "name": "stdout",
     "output_type": "stream",
     "text": [
      "True\n",
      "True\n"
     ]
    }
   ],
   "source": [
    "#isidentifier()\n",
    "# st='2sdfj'\n",
    "st='_jklj'\n",
    "print(st.isidentifier())\n",
    "def u_isidentifier(coll):\n",
    "    if '0'<=coll[0]<='9':\n",
    "        return False\n",
    "    for i in coll:\n",
    "        if not('A'<=i<='Z' or 'a'<=i<='z' or '0'<=i<='9' or i=='_'):\n",
    "            return False\n",
    "    return True\n",
    "print(u_isidentifier(st))"
   ]
  },
  {
   "cell_type": "code",
   "execution_count": 2,
   "metadata": {},
   "outputs": [
    {
     "name": "stdout",
     "output_type": "stream",
     "text": [
      "abcds\n",
      "a-b-c-d-s\n"
     ]
    }
   ],
   "source": [
    "#join()\n",
    "# st=['a','b','c','d','s',10]\n",
    "# st=['abc','bcd','cdef','defg','stuv']\n",
    "st=['a','b','c','d','s']\n",
    "\n",
    "print(''.join(st))\n",
    "# print('*'.join(st))\n",
    "# print('-*'.join(st))\n",
    "def join(coll,sep=''):\n",
    "    for i in coll:\n",
    "        if type(i)!=str:\n",
    "            return False\n",
    "    res=''\n",
    "    for i in coll:\n",
    "        res=res+i+sep\n",
    "    if sep=='':\n",
    "        return res\n",
    "    else:\n",
    "        return res[:-(len(sep))]\n",
    "print(join(st,'-'))"
   ]
  },
  {
   "cell_type": "code",
   "execution_count": 53,
   "metadata": {},
   "outputs": [
    {
     "data": {
      "text/plain": [
       "1"
      ]
     },
     "execution_count": 53,
     "metadata": {},
     "output_type": "execute_result"
    }
   ],
   "source": [
    "#count()\n",
    "st='helloworld'\n",
    "# st.count('l')\n",
    "# st.count('l',5,9)\n",
    "def u_count(coll,ele,start=0,end=None):\n",
    "    if end==None:\n",
    "        end=len(coll)\n",
    "    coun=0\n",
    "    for i in range(start,end):\n",
    "        if coll[i]==ele:\n",
    "            coun+=1\n",
    "    return coun\n",
    "u_count(st,'l',5)"
   ]
  },
  {
   "cell_type": "code",
   "execution_count": 1,
   "metadata": {},
   "outputs": [
    {
     "name": "stdout",
     "output_type": "stream",
     "text": [
      "7\n"
     ]
    },
    {
     "data": {
      "text/plain": [
       "7"
      ]
     },
     "execution_count": 1,
     "metadata": {},
     "output_type": "execute_result"
    }
   ],
   "source": [
    "#find()\n",
    "st='helloworld'\n",
    "print(st.index('rld'))\n",
    "def u_index(coll,ele=''):\n",
    "    for i in range(len(coll)):\n",
    "        if coll[i]==ele[0]:\n",
    "            if ele in coll:\n",
    "                return i\n",
    "    return -1\n",
    "u_index(st,'rld')\n"
   ]
  },
  {
   "cell_type": "code",
   "execution_count": null,
   "metadata": {},
   "outputs": [],
   "source": [
    "#wap to find first occurense value position\n"
   ]
  },
  {
   "cell_type": "code",
   "execution_count": 12,
   "metadata": {},
   "outputs": [
    {
     "name": "stdout",
     "output_type": "stream",
     "text": [
      "3\n",
      "3\n"
     ]
    }
   ],
   "source": [
    "#index()\n",
    "st='hell3oworld'\n",
    "# st='hello'\n",
    "print(st.index('l3'))\n",
    "def u_index(coll,ele=''):\n",
    "    for i in range(len(coll)):\n",
    "        if coll[i:len(ele)+i]==ele:\n",
    "                return i\n",
    "    return  'substring not present'\n",
    "print(u_index(st,'l3'))\n"
   ]
  },
  {
   "cell_type": "code",
   "execution_count": 52,
   "metadata": {},
   "outputs": [
    {
     "name": "stdout",
     "output_type": "stream",
     "text": [
      "3\n"
     ]
    },
    {
     "data": {
      "text/plain": [
       "-1"
      ]
     },
     "execution_count": 52,
     "metadata": {},
     "output_type": "execute_result"
    }
   ],
   "source": [
    "st=\"helloworld\"\n",
    "print(st.index('lo'))\n",
    "def u_index_sir(coll,ele,start=0,end=None): #sir:wrong output check\n",
    "    if end==None:\n",
    "        end=len(coll)\n",
    "    if ele not in coll:\n",
    "        return -1\n",
    "    while start<end:\n",
    "        if ele==coll[start]:\n",
    "            return start\n",
    "        start+=1\n",
    "    return -1\n",
    "u_index_sir(st,'lo')"
   ]
  },
  {
   "cell_type": "markdown",
   "metadata": {},
   "source": [
    "what is difference between FIND and INDEX\n",
    "FIND: 1.if element is not present it return -1\n",
    "INDEX: 1. if element is not present it returns value error\n",
    "2.IF ELEMENT IS PRESENT IT RETURN FIRST OCCURENCE VALUE"
   ]
  },
  {
   "cell_type": "code",
   "execution_count": 97,
   "metadata": {},
   "outputs": [
    {
     "name": "stdout",
     "output_type": "stream",
     "text": [
      "2\n",
      "None\n"
     ]
    }
   ],
   "source": [
    "#rfind()\n",
    "st='helloworld'\n",
    "# st.rfind('l',1,5)\n",
    "# st.rfind('l',5,7)\n",
    "print(st.rfind('ll')) # sir: wrong output check-code\n",
    "def u_rfind(coll,ele,start=0,end=None):\n",
    "    if end==None:\n",
    "        end=len(coll)-1\n",
    "    if ele not in coll[start:end]:\n",
    "        return -1\n",
    "    while end>start:\n",
    "        if coll[end]==ele:\n",
    "            return end\n",
    "        end-=1\n",
    "print(u_rfind(st,'ll'))"
   ]
  },
  {
   "cell_type": "code",
   "execution_count": 18,
   "metadata": {},
   "outputs": [
    {
     "name": "stdout",
     "output_type": "stream",
     "text": [
      "['', '', 'hello', 'world', 'wecome', 'to', 'pys', '', '']\n",
      "['hello', 'world', 'wecome', 'to', 'pys']\n"
     ]
    }
   ],
   "source": [
    "#split()\n",
    "st='  hello world wecome to pys  '\n",
    "# st.split()\n",
    "# st.split('l') #split with respect to element instead of space' '\n",
    "# st.split(maxsplit=2) #no.of times split and remaining is considered as 1 word\n",
    "print(st.split(' '))\n",
    "def u_split(coll,ele=' ',maxsplit=0):\n",
    "    if ele==' ':\n",
    "        l=[]\n",
    "        r=''\n",
    "        index=0\n",
    "        count=0\n",
    "        for i in coll:\n",
    "            if i!=ele:\n",
    "                r+=i\n",
    "            else:\n",
    "                if r!='':\n",
    "                    l+=[r]\n",
    "                    count+=1\n",
    "                    if count==maxsplit:\n",
    "                        return l+[coll[index:]]\n",
    "                index+=1   \n",
    "                r=''\n",
    "        if r!='':\n",
    "            l+=[r]\n",
    "        return l\n",
    "    else:\n",
    "        l=[]\n",
    "        r=''\n",
    "        for i in coll:\n",
    "            if i!=ele:\n",
    "                r+=i\n",
    "            else:\n",
    "                # if r!=ele:\n",
    "                l+=[r]\n",
    "                r=''\n",
    "        if r!=ele:\n",
    "            l+=[r]\n",
    "        return l\n",
    "\n",
    "\n",
    "# u_split(st,'l',maxsplit=2)\n",
    "print(u_split(st,' '))"
   ]
  },
  {
   "cell_type": "code",
   "execution_count": 16,
   "metadata": {},
   "outputs": [
    {
     "name": "stdout",
     "output_type": "stream",
     "text": [
      "['hell', ' w', 'rld pyth', 'n prgrm']\n",
      "['hell', ' w', 'rld pyth', 'n prgrm']\n"
     ]
    }
   ],
   "source": [
    "# st='  hello world wecome to pys  '\n",
    "st='hello world python prgrm'\n",
    "def u_rsplit(coll,ele=' ',maxsplit=None):\n",
    "    l=[]\n",
    "    s=''\n",
    "    start=0\n",
    "    end=len(coll)-1\n",
    "    while end>=start:\n",
    "        if ele!=coll[end]:\n",
    "            s=coll[end]+s\n",
    "        elif len(s)!=0:\n",
    "            l=[s]+l\n",
    "            s=''\n",
    "            if len(l)==maxsplit:\n",
    "                return [coll[:end]]+l\n",
    "        end-=1\n",
    "    if len(s)!=0:\n",
    "        l=[s]+l\n",
    "    return l\n",
    "print(st.rsplit('o',maxsplit=5))\n",
    "print(u_rsplit(st,'o',maxsplit=5))"
   ]
  },
  {
   "cell_type": "code",
   "execution_count": 33,
   "metadata": {},
   "outputs": [
    {
     "name": "stdout",
     "output_type": "stream",
     "text": [
      "False\n",
      "False\n"
     ]
    }
   ],
   "source": [
    "#startswith()\n",
    "st='i love india i like love'\n",
    "def u_startswith(coll,sub,start=0,end=None):\n",
    "    if end==None:\n",
    "        end=len(sub)\n",
    "    if end<=start:\n",
    "        end=start+len(sub)\n",
    "        return False\n",
    "    i=0\n",
    "    while start<end:\n",
    "        if coll[start]!=sub[i]:\n",
    "            return False\n",
    "        start+=1\n",
    "        i+=1\n",
    "    return True\n",
    "print(st.startswith('i like',13,5))\n",
    "print(u_startswith(st,'i like',13,5))"
   ]
  },
  {
   "cell_type": "code",
   "execution_count": 3,
   "metadata": {},
   "outputs": [
    {
     "name": "stdout",
     "output_type": "stream",
     "text": [
      "True\n",
      "True\n"
     ]
    }
   ],
   "source": [
    "#endswith()\n",
    "st='i love india i like love'\n",
    "def u_endswith(coll,sub,start=0,end=None):\n",
    "    if end==None:\n",
    "        end=len(coll)\n",
    "    st=''\n",
    "    while start<end:\n",
    "        st+=coll[start]\n",
    "        start+=1\n",
    "    # print(st)\n",
    "    i=len(st)-len(sub)\n",
    "    res=''\n",
    "    while i<len(st):\n",
    "        res+=st[i]\n",
    "        i+=1\n",
    "    return (res==sub)\n",
    "print(st.endswith('like love'))\n",
    "print(u_endswith(st,'love',0))\n"
   ]
  },
  {
   "cell_type": "code",
   "execution_count": 9,
   "metadata": {},
   "outputs": [
    {
     "name": "stdout",
     "output_type": "stream",
     "text": [
      "monday is mass day\n"
     ]
    }
   ],
   "source": [
    "#replace()\n",
    "st='sunday is mass day'\n",
    "# print(st.replace('s','S',2))\n",
    "print(st.replace('sun','mon'))"
   ]
  },
  {
   "cell_type": "code",
   "execution_count": 10,
   "metadata": {},
   "outputs": [
    {
     "name": "stdout",
     "output_type": "stream",
     "text": [
      "Sunday iS maSS day\n"
     ]
    }
   ],
   "source": [
    "st='sunday is mass day'\n",
    "def u_replace_(coll,old,new):\n",
    "    res=''\n",
    "    for i in coll:\n",
    "        if i==old:\n",
    "            res+=new\n",
    "        else:\n",
    "            res+=i\n",
    "    return res\n",
    "print(u_replace_(st,'s','S'))"
   ]
  },
  {
   "cell_type": "code",
   "execution_count": 15,
   "metadata": {},
   "outputs": [
    {
     "name": "stdout",
     "output_type": "stream",
     "text": [
      "sundAy is mAss day\n"
     ]
    }
   ],
   "source": [
    "#wap to replace the specific character for n number of times (or specific occurence)\n",
    "st='sunday is mass day'\n",
    "def u_replace(coll,old,new,count=None):\n",
    "    if count==None:\n",
    "        count=len(coll)\n",
    "    co=1\n",
    "    res=''\n",
    "    for i in coll:\n",
    "        if i==old and co<=count:\n",
    "            res+=new\n",
    "            co+=1\n",
    "        else:\n",
    "            res+=i\n",
    "    return res\n",
    "print(u_replace(st,'a','A',2))"
   ]
  },
  {
   "cell_type": "code",
   "execution_count": 24,
   "metadata": {},
   "outputs": [
    {
     "data": {
      "text/plain": [
       "'Munday is a mass day Munday is a holiday Mun'"
      ]
     },
     "execution_count": 24,
     "metadata": {},
     "output_type": "execute_result"
    }
   ],
   "source": [
    "#wap to replace the sequence of  characters \n",
    "st='sunday is a mass day sunday is a holiday sun'\n",
    "def u_seq_replace(coll,old,new,count=None):\n",
    "    start=0\n",
    "    while start<len(coll):\n",
    "        if coll[start]==old[0]:\n",
    "            if old==coll[start:start+len(old)]:\n",
    "                coll=coll[0:start]+new+coll[start+len(old):]\n",
    "        start+=1\n",
    "    return coll\n",
    "u_seq_replace(st,'sun','Mun')    "
   ]
  },
  {
   "cell_type": "code",
   "execution_count": 22,
   "metadata": {},
   "outputs": [
    {
     "data": {
      "text/plain": [
       "'Munday is a mass day Munday is a holiday Mun'"
      ]
     },
     "execution_count": 22,
     "metadata": {},
     "output_type": "execute_result"
    }
   ],
   "source": [
    "#wap to replace the sequenceof  characters n no of times\n",
    "st='sunday is a mass day sunday is a holiday sun'\n",
    "def u_seq_occur_replace(coll,old,new,count=None):\n",
    "    if count==None:\n",
    "        count=len(coll)\n",
    "    co=1\n",
    "    start=0\n",
    "    while start<len(coll):\n",
    "        if coll[start]==old[0]:\n",
    "            if old==coll[start:start+len(old)] and co<=count:\n",
    "                coll=coll[0:start]+new+coll[start+len(old):]\n",
    "                co+=1\n",
    "        start+=1\n",
    "    return coll\n",
    "# u_seq_occur_replace(st,'sun','Mun',2)    \n",
    "u_seq_occur_replace(st,'sun','Mun')    "
   ]
  },
  {
   "cell_type": "code",
   "execution_count": 25,
   "metadata": {},
   "outputs": [
    {
     "data": {
      "text/plain": [
       "'sunday is a mass day sunday is a holiday mon'"
      ]
     },
     "execution_count": 25,
     "metadata": {},
     "output_type": "execute_result"
    }
   ],
   "source": [
    "#wap to replace the substring in specific occurense\n",
    "st='sunday is a mass day sunday is a holiday sun'\n",
    "def u_occur_replace(coll,old,new,occu):\n",
    "    count=0\n",
    "    start=0\n",
    "    while start<len(coll):\n",
    "        if old==coll[start:start+len(old)]:\n",
    "            count+=1\n",
    "            if count==occu:\n",
    "                coll=coll[0:start]+new+coll[start+len(old):]\n",
    "        start+=1\n",
    "    return coll\n",
    "u_occur_replace(st,'sun','mon',3)"
   ]
  },
  {
   "cell_type": "code",
   "execution_count": 29,
   "metadata": {},
   "outputs": [
    {
     "name": "stdout",
     "output_type": "stream",
     "text": [
      "sun 0 3\n",
      "sun 21 24\n",
      "sun 41 44\n"
     ]
    }
   ],
   "source": [
    "st='sunday is a mass day sunday is a holiday sun'\n",
    "def u_occur_ofsubstring(coll,old):\n",
    "    start=0\n",
    "    while start<len(coll):\n",
    "        if old==coll[start:start+len(old)]:\n",
    "            print(coll[start:start+len(old)],start,start+len(old))\n",
    "        start+=1\n",
    "u_occur_ofsubstring(st,'sun')"
   ]
  },
  {
   "cell_type": "code",
   "execution_count": 38,
   "metadata": {},
   "outputs": [
    {
     "name": "stdout",
     "output_type": "stream",
     "text": [
      "monday is a mass day sunday is a holiday sun\n"
     ]
    }
   ],
   "source": [
    "st='sunday is a mass day sunday is a holiday sun' #without slicing\n",
    "new='mon'\n",
    "res=''\n",
    "start=0\n",
    "sp1=0\n",
    "sp2=3\n",
    "while start<len(st):\n",
    "    if start<sp1:\n",
    "        res+=st[start]\n",
    "    elif sp1==start:\n",
    "        res+=new\n",
    "        start=sp2-1#len(new)-1\n",
    "    else:\n",
    "        res+=st[start]\n",
    "    start+=1\n",
    "print(res)"
   ]
  },
  {
   "cell_type": "code",
   "execution_count": 8,
   "metadata": {},
   "outputs": [
    {
     "name": "stdout",
     "output_type": "stream",
     "text": [
      ".fb.com\n"
     ]
    }
   ],
   "source": [
    "#removeprefix()\n",
    "# st='hello world haii'\n",
    "st='www.fb.com'\n",
    "# print(st.removeprefix('www'))\n",
    "def u_removeprefix(coll,ele):\n",
    "    if ele not in coll[0:len(ele)]:\n",
    "        return coll\n",
    "    return coll[len(ele):]\n",
    "print(u_removeprefix(st,'www'))"
   ]
  },
  {
   "cell_type": "code",
   "execution_count": 14,
   "metadata": {},
   "outputs": [
    {
     "name": "stdout",
     "output_type": "stream",
     "text": [
      ".fb.com\n"
     ]
    }
   ],
   "source": [
    "#removeprefix() without slicing\n",
    "st='www.fb.com'\n",
    "def u_removeprefix_(coll,ele):\n",
    "    if ele not in coll[0:len(ele)]:\n",
    "        return coll\n",
    "    i=len(ele)\n",
    "    res=''\n",
    "    while i<len(coll):\n",
    "        res+=coll[i]\n",
    "        i+=1\n",
    "    return res\n",
    "print(u_removeprefix_(st,'www'))"
   ]
  },
  {
   "cell_type": "code",
   "execution_count": 19,
   "metadata": {},
   "outputs": [
    {
     "name": "stdout",
     "output_type": "stream",
     "text": [
      "www.fb.com\n"
     ]
    }
   ],
   "source": [
    "#removesufix()\n",
    "st='www.fb.com'\n",
    "def u_removesufix(coll,ele):\n",
    "    if ele not in coll[len(coll)-len(ele):]:\n",
    "        return coll\n",
    "    i=0 #len(coll)-len(ele)\n",
    "    res=''\n",
    "    while i<(len(coll)-len(ele)):\n",
    "        res+=coll[i]\n",
    "        i+=1\n",
    "    return res\n",
    "print(u_removesufix(st,'com'))\n"
   ]
  },
  {
   "cell_type": "code",
   "execution_count": null,
   "metadata": {},
   "outputs": [],
   "source": [
    "#removesufix() using slicing\n"
   ]
  },
  {
   "cell_type": "code",
   "execution_count": 23,
   "metadata": {},
   "outputs": [
    {
     "name": "stdout",
     "output_type": "stream",
     "text": [
      "hello  haii\n"
     ]
    }
   ],
   "source": [
    "#strip() \n",
    "#white space [' ','\\n','\\t','\\r','\\f']\n",
    "st='hello  haii'\n",
    "print(st.strip())\n",
    "# def u_strip(coll,ele=[' ','\\n','\\t','\\r','\\f']):\n",
    "#     temp=u_lstrip(coll,ele)\n",
    "#     res=u_rstrip(temp,ele)\n",
    "#     return res\n",
    "# u_strip(st,' ')"
   ]
  },
  {
   "cell_type": "code",
   "execution_count": 16,
   "metadata": {},
   "outputs": [
    {
     "name": "stdout",
     "output_type": "stream",
     "text": [
      "hello \t \n",
      "haii\n"
     ]
    },
    {
     "data": {
      "text/plain": [
       "'     hello \\t \\n \\rhaii'"
      ]
     },
     "execution_count": 16,
     "metadata": {},
     "output_type": "execute_result"
    }
   ],
   "source": [
    "#lstrip()\n",
    "# st='      hello  haii    '\n",
    "st='\\t\\n     hello \\t \\n \\rhaii'\n",
    "# st='\\n     hello \\t \\n \\rhaii'\n",
    "\n",
    "# print(st.lstrip())\n",
    "def u_lstrip(coll,ele=[' ','\\n','\\t','\\r','\\f']):\n",
    "    res=''\n",
    "    for i in range(0,len(coll)):\n",
    "        if coll[i] in ele:\n",
    "            res+=''\n",
    "        else:\n",
    "            res+=coll[i:]\n",
    "            break\n",
    "    return res\n",
    "u_lstrip(st,'\\n')\n",
    "# print(a)"
   ]
  },
  {
   "cell_type": "code",
   "execution_count": 38,
   "metadata": {},
   "outputs": [
    {
     "name": "stdout",
     "output_type": "stream",
     "text": [
      "[0, 1, 2, 3, 4, 5, 6, 7, 8, 9, 10, 11]\n"
     ]
    },
    {
     "data": {
      "text/plain": [
       "[11, 10, 9, 8, 7, 6, 5, 4, 3, 2, 1, 0]"
      ]
     },
     "execution_count": 38,
     "metadata": {},
     "output_type": "execute_result"
    }
   ],
   "source": [
    "st='dsfj kljdsfl'\n",
    "print(list(range(len(st))))\n",
    "list(range(len(st)-1,-1,-1))"
   ]
  },
  {
   "cell_type": "code",
   "execution_count": 21,
   "metadata": {},
   "outputs": [
    {
     "data": {
      "text/plain": [
       "'\\t\\n     hello \\t \\n \\rhaii'"
      ]
     },
     "execution_count": 21,
     "metadata": {},
     "output_type": "execute_result"
    }
   ],
   "source": [
    "#rstrip()\n",
    "# st='      hello  haii    '\n",
    "st='\\t\\n     hello \\t \\n \\rhaii'\n",
    "st.rstrip()\n",
    "def u_rstrip(coll,ele=[' ','\\n','\\t','\\r','\\f']):\n",
    "    res=''\n",
    "    for i in range (len(coll)-1,-1,-1):\n",
    "        if coll[i] in ele:\n",
    "            res+=''\n",
    "        else:\n",
    "            res+=coll[:i+1]\n",
    "            break\n",
    "    return res\n",
    "u_rstrip(st,'\\n')"
   ]
  },
  {
   "cell_type": "code",
   "execution_count": 19,
   "metadata": {},
   "outputs": [
    {
     "name": "stdout",
     "output_type": "stream",
     "text": [
      "9\n",
      "8\n",
      "7\n",
      "6\n",
      "5\n",
      "4\n",
      "3\n",
      "2\n",
      "1\n",
      "0\n"
     ]
    }
   ],
   "source": [
    "for i in range (10-1,-1,-1):\n",
    "    print(i)"
   ]
  },
  {
   "cell_type": "code",
   "execution_count": 40,
   "metadata": {},
   "outputs": [
    {
     "name": "stdout",
     "output_type": "stream",
     "text": [
      "hello  haii\n",
      "hello  haii\n"
     ]
    }
   ],
   "source": [
    "#strip() \n",
    "#white space [' ','\\n','\\t','\\r','\\f']\n",
    "st='hello  haii'\n",
    "print(st.strip())\n",
    "def u_strip(coll,ele=[' ','\\n','\\t','\\r','\\f']):\n",
    "    temp=u_lstrip(coll,ele)\n",
    "    res=u_rstrip(temp,ele)\n",
    "    return res\n",
    "print(u_strip(st,' '))"
   ]
  }
 ],
 "metadata": {
  "kernelspec": {
   "display_name": "Python 3",
   "language": "python",
   "name": "python3"
  },
  "language_info": {
   "codemirror_mode": {
    "name": "ipython",
    "version": 3
   },
   "file_extension": ".py",
   "mimetype": "text/x-python",
   "name": "python",
   "nbconvert_exporter": "python",
   "pygments_lexer": "ipython3",
   "version": "3.10.7"
  },
  "orig_nbformat": 4
 },
 "nbformat": 4,
 "nbformat_minor": 2
}
