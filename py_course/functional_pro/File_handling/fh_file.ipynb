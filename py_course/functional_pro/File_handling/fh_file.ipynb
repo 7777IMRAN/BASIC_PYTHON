{
 "cells": [
  {
   "cell_type": "code",
   "execution_count": 11,
   "metadata": {},
   "outputs": [
    {
     "name": "stdout",
     "output_type": "stream",
     "text": [
      "<_io.TextIOWrapper name='file1.txt' mode='w' encoding='cp1252'>\n"
     ]
    }
   ],
   "source": [
    "#open the new file or existing file\n",
    "#it will accept the file path address with extension.\n",
    "#it provide the mode(it will take permission from the operating system)\n",
    "#it will return the file pointer address(file wrapper)\n",
    "fp=open('file1.txt','w')\n",
    "print(fp)\n",
    "\n",
    "#it will close the file pointer connection.\n",
    "fp.close()"
   ]
  },
  {
   "cell_type": "code",
   "execution_count": 1,
   "metadata": {},
   "outputs": [],
   "source": [
    "fp=open('file1.txt','w')\n",
    "fp.write('hello everyone good morning')\n",
    "fp.close()"
   ]
  },
  {
   "cell_type": "code",
   "execution_count": null,
   "metadata": {},
   "outputs": [],
   "source": [
    "fp.open('file1.txt','r')\n",
    "res=fp.read()"
   ]
  },
  {
   "cell_type": "code",
   "execution_count": 5,
   "metadata": {},
   "outputs": [
    {
     "name": "stdout",
     "output_type": "stream",
     "text": [
      "hello everyone good morning\n"
     ]
    }
   ],
   "source": [
    "fp=open('file1.txt','r')\n",
    "res=fp.read()\n",
    "print(res)\n",
    "fp.close()"
   ]
  },
  {
   "cell_type": "code",
   "execution_count": 3,
   "metadata": {},
   "outputs": [],
   "source": [
    "fp=open('file1.txt','a')\n",
    "fp.write('today file handling concept')\n",
    "fp.close()"
   ]
  },
  {
   "cell_type": "code",
   "execution_count": 6,
   "metadata": {},
   "outputs": [
    {
     "name": "stdout",
     "output_type": "stream",
     "text": [
      "0\n"
     ]
    }
   ],
   "source": [
    "fp=open('file1.txt','r')\n",
    "print(fp.tell())\n",
    "fp.close()"
   ]
  },
  {
   "cell_type": "code",
   "execution_count": 9,
   "metadata": {},
   "outputs": [
    {
     "name": "stdout",
     "output_type": "stream",
     "text": [
      "0\n",
      "30\n"
     ]
    }
   ],
   "source": [
    "fp=open('file1.txt','w')\n",
    "print(fp.tell())\n",
    "fp.write('now this file is overrited....')\n",
    "print(fp.tell())\n",
    "fp.close()"
   ]
  },
  {
   "cell_type": "code",
   "execution_count": 10,
   "metadata": {},
   "outputs": [
    {
     "name": "stdout",
     "output_type": "stream",
     "text": [
      "30\n",
      "58\n"
     ]
    }
   ],
   "source": [
    "fp=open('file1.txt','a')\n",
    "print(fp.tell())\n",
    "fp.write('pyhton is scripting language')\n",
    "print(fp.tell())\n",
    "fp.close()"
   ]
  },
  {
   "cell_type": "code",
   "execution_count": 14,
   "metadata": {},
   "outputs": [
    {
     "name": "stdout",
     "output_type": "stream",
     "text": [
      "0\n",
      "\n",
      "0\n"
     ]
    }
   ],
   "source": [
    "fp=open('file2.txt','r')\n",
    "print(fp.tell())\n",
    "res=fp.read()\n",
    "print(res)\n",
    "# fp.write('pyhton is scripting language')\n",
    "print(fp.tell())\n",
    "fp.close()"
   ]
  },
  {
   "cell_type": "code",
   "execution_count": 16,
   "metadata": {},
   "outputs": [
    {
     "name": "stdout",
     "output_type": "stream",
     "text": [
      "0\n",
      "28\n"
     ]
    }
   ],
   "source": [
    "fp=open('file2.txt','a')\n",
    "print(fp.tell())\n",
    "# res=fp.read()\n",
    "# print(res)\n",
    "fp.write('pyhton is scripting language')\n",
    "print(fp.tell())\n",
    "fp.close()"
   ]
  },
  {
   "cell_type": "markdown",
   "metadata": {},
   "source": [
    "-------------------"
   ]
  },
  {
   "cell_type": "code",
   "execution_count": 20,
   "metadata": {},
   "outputs": [
    {
     "name": "stdout",
     "output_type": "stream",
     "text": [
      "0\n",
      "40\n",
      "python is scripting programming language\n",
      "40\n"
     ]
    }
   ],
   "source": [
    "fp=open('file4.txt','w+')\n",
    "print(fp.tell())\n",
    "fp.write('python is scripting programming language')\n",
    "print(fp.tell())\n",
    "# fp.seek(0)   #changing the cursor pointer to zero \n",
    "res=fp.read()\n",
    "print(res)\n",
    "print(fp.tell())\n",
    "fp.close()"
   ]
  },
  {
   "cell_type": "code",
   "execution_count": 21,
   "metadata": {},
   "outputs": [
    {
     "name": "stdout",
     "output_type": "stream",
     "text": [
      "0\n",
      "python is scripting programming language\n",
      "40\n",
      "51\n",
      "python is scripting programming languagehello world\n",
      "51\n"
     ]
    }
   ],
   "source": [
    "fp=open('file4.txt','r+')\n",
    "print(fp.tell())\n",
    "res=fp.read()\n",
    "print(res)\n",
    "print(fp.tell())\n",
    "fp.write('hello world')\n",
    "print(fp.tell())\n",
    "fp.seek(0)\n",
    "res=fp.read()\n",
    "print(res)\n",
    "print(fp.tell())\n",
    "fp.close()"
   ]
  },
  {
   "cell_type": "code",
   "execution_count": 3,
   "metadata": {},
   "outputs": [
    {
     "name": "stdout",
     "output_type": "stream",
     "text": [
      "53\n",
      "91\n",
      "0\n",
      "python is scripting programming languagehello world\n",
      "\n",
      "java is a static programing language\n",
      "91\n"
     ]
    }
   ],
   "source": [
    "fp=open('file4.txt','a+')\n",
    "print(fp.tell())\n",
    "fp.write('\\njava is a static programing language')\n",
    "print(fp.tell())\n",
    "fp.seek(0)\n",
    "print(fp.tell())\n",
    "res=fp.read()\n",
    "print(res)\n",
    "print(fp.tell())\n",
    "fp.close()"
   ]
  },
  {
   "cell_type": "markdown",
   "metadata": {},
   "source": [
    "1.read()\n",
    "2.readline()\n",
    "3.readlines() ........."
   ]
  },
  {
   "cell_type": "code",
   "execution_count": 7,
   "metadata": {},
   "outputs": [
    {
     "name": "stdout",
     "output_type": "stream",
     "text": [
      "python is scripting programming languagehello world\n",
      "\n",
      "c is a progaming language\n"
     ]
    }
   ],
   "source": [
    "fp=open('file4.txt','a+')\n",
    "fp.write('\\nc is a progaming language')\n",
    "fp.seek(0)\n",
    "res=fp.read()       #it returns all the lines in string formate\n",
    "print(res)\n",
    "fp.close()"
   ]
  },
  {
   "cell_type": "code",
   "execution_count": 6,
   "metadata": {},
   "outputs": [
    {
     "name": "stdout",
     "output_type": "stream",
     "text": [
      "python is scripting programming languagehello world\n",
      "\n"
     ]
    }
   ],
   "source": [
    "fp=open('file4.txt','a+')\n",
    "fp.write('\\nc is a progaming language')\n",
    "fp.seek(0)\n",
    "res=fp.readline()       #it returns first line\n",
    "print(res)\n",
    "fp.close()"
   ]
  },
  {
   "cell_type": "code",
   "execution_count": 11,
   "metadata": {},
   "outputs": [
    {
     "name": "stdout",
     "output_type": "stream",
     "text": [
      "['python is scripting programming languagehello world\\n', '\\n', 'c is a progaming language']\n"
     ]
    }
   ],
   "source": [
    "fp=open('file4.txt','a+')\n",
    "fp.write('\\nc is a progaming language')\n",
    "fp.seek(0)\n",
    "res=fp.readlines()       #it returns list of all the lines in list formate\n",
    "print(res)\n",
    "fp.close()"
   ]
  },
  {
   "cell_type": "code",
   "execution_count": 14,
   "metadata": {},
   "outputs": [
    {
     "name": "stdout",
     "output_type": "stream",
     "text": [
      "python is scrip\n"
     ]
    }
   ],
   "source": [
    "fp=open('file4.txt','a+')\n",
    "fp.write('\\nc is a progaming language')\n",
    "fp.seek(0)\n",
    "res=fp.read(15)       #it returns characters based on size\n",
    "print(res)\n",
    "fp.close()"
   ]
  },
  {
   "cell_type": "markdown",
   "metadata": {},
   "source": [
    "1.write()\n",
    "2.writeline()\n",
    "3.writelines()"
   ]
  },
  {
   "cell_type": "code",
   "execution_count": 17,
   "metadata": {},
   "outputs": [],
   "source": [
    "fp=open('file5.txt','w')\n",
    "fp.write('c is a programing language')\n",
    "fp.close()\n",
    "#write( will accept only string format date)"
   ]
  },
  {
   "cell_type": "code",
   "execution_count": null,
   "metadata": {},
   "outputs": [],
   "source": [
    "fp=open('file5.txt','w')\n",
    "fp.writelines(['\\njava is a gdfslkjk','\\njkdjflkjdflkjdlf'])\n",
    "fp.close()\n",
    "#write line will accept string data or list data"
   ]
  }
 ],
 "metadata": {
  "kernelspec": {
   "display_name": "Python 3",
   "language": "python",
   "name": "python3"
  },
  "language_info": {
   "codemirror_mode": {
    "name": "ipython",
    "version": 3
   },
   "file_extension": ".py",
   "mimetype": "text/x-python",
   "name": "python",
   "nbconvert_exporter": "python",
   "pygments_lexer": "ipython3",
   "version": "3.10.7"
  }
 },
 "nbformat": 4,
 "nbformat_minor": 2
}
