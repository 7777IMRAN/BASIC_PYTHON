{
 "cells": [
  {
   "cell_type": "code",
   "execution_count": 2,
   "metadata": {},
   "outputs": [],
   "source": [
    "import csv\n",
    "fp=open('student.csv','w',newline='\\n')\n",
    "filewrite=csv.writer(fp)        #it accept file pointer address and returns writer object\n",
    "filewrite.writerow(['sid','name','phone','marks']) #it insert only one record\n",
    "fp.close()"
   ]
  },
  {
   "cell_type": "code",
   "execution_count": 3,
   "metadata": {},
   "outputs": [],
   "source": [
    "import csv\n",
    "fp=open('student.csv','a',newline='\\n')\n",
    "#it accept file pointeraddress and return writer object\n",
    "filewrite=csv.writer(fp) #fp is path of the csv file\n",
    "filewrite.writerow([1,'imran',9879,98])\n",
    "#writerow() will insert only one record\n",
    "fp.close()"
   ]
  },
  {
   "cell_type": "code",
   "execution_count": 6,
   "metadata": {},
   "outputs": [],
   "source": [
    "import csv\n",
    "fp=open('student.csv','a',newline='\\n')\n",
    "#it accept file pointeraddress and return writer object\n",
    "filewrite=csv.writer(fp) #fp is path of the csv file\n",
    "filewrite.writerows([[2,'isdf',9859,98],\n",
    "                    [3,'khan',4563,77]])\n",
    "#writerow() will insert more than one record\n",
    "fp.close()"
   ]
  },
  {
   "cell_type": "code",
   "execution_count": 8,
   "metadata": {},
   "outputs": [
    {
     "name": "stdout",
     "output_type": "stream",
     "text": [
      "['sid', 'name', 'phone', 'marks']\n",
      "['1', 'imran', '9879', '98']\n",
      "['2', 'isdf', '9859', '98']\n",
      "['3', 'khan', '4563', '77']\n"
     ]
    }
   ],
   "source": [
    "fp=open('student.csv','r')\n",
    "filread=csv.reader(fp)\n",
    "# print(next(filread))\n",
    "for i in filread:\n",
    "    print(i)\n",
    "fp.close()\n",
    "#reader will accept file pointer address and it returns reader object(with all the records)\n",
    "#if you want to manipulate the data. we have to do the list typecast"
   ]
  },
  {
   "cell_type": "code",
   "execution_count": 11,
   "metadata": {},
   "outputs": [
    {
     "name": "stdout",
     "output_type": "stream",
     "text": [
      "['sid', 'name', 'phone', 'marks']\n",
      "['1', 'imran', '9879', '98']\n",
      "['2', 'isdf', '9859', '98']\n",
      "['3', 'khan', '4563', '77']\n"
     ]
    }
   ],
   "source": [
    "fp=open('student.csv','r')\n",
    "filread=csv.reader(fp)\n",
    "# print(next(filread))\n",
    "for i in filread:\n",
    "    print(i)\n",
    "res=list(filread)\n",
    "fp.close()\n",
    "#reader object we can utilize only one time"
   ]
  },
  {
   "cell_type": "code",
   "execution_count": 13,
   "metadata": {},
   "outputs": [
    {
     "name": "stdout",
     "output_type": "stream",
     "text": [
      "[['sid', 'name', 'phone', 'marks'], ['1', 'imran', '9879', '98'], ['2', 'isdf', '9859', '98'], ['3', 'khan', '4563', '77']]\n"
     ]
    }
   ],
   "source": [
    "#modification\n",
    "fp=open('student.csv','r')\n",
    "filread=csv.reader(fp)\n",
    "res=list(filread)\n",
    "fp.close()\n",
    "print(res)"
   ]
  },
  {
   "cell_type": "code",
   "execution_count": 14,
   "metadata": {},
   "outputs": [],
   "source": [
    "res[1][-2]=349090\n"
   ]
  },
  {
   "cell_type": "code",
   "execution_count": 15,
   "metadata": {},
   "outputs": [],
   "source": [
    "fp=open('student.csv','w',newline='\\n')\n",
    "fpwrite=csv.writer(fp)\n",
    "fpwrite.writerows(res)\n",
    "fp.close()"
   ]
  },
  {
   "cell_type": "markdown",
   "metadata": {},
   "source": [
    "----------dict----formate----"
   ]
  },
  {
   "cell_type": "code",
   "execution_count": 16,
   "metadata": {},
   "outputs": [],
   "source": [
    "fp=open('employee.csv','w')\n",
    "fpwrite=csv.DictWriter(fp,['eid','name','phone','salary','dob'])\n",
    "#Dictwriter() will accept file pointer, field name's and it return's weiter object\n",
    "fpwrite.writeheader()   #create the header inside the file based on field names\n",
    "fp.close()"
   ]
  },
  {
   "cell_type": "code",
   "execution_count": 18,
   "metadata": {},
   "outputs": [],
   "source": [
    "fp=open('employee.csv','a',newline='\\n')\n",
    "fpwrite=csv.DictWriter(fp,['eid','name','phone','salary','dob'])\n",
    "fpwrite.writerow({'eid':1,'name':'babu','phone':32408908,'salary':2500,'dob':'12-03-2020'})\n",
    "fp.close()"
   ]
  },
  {
   "cell_type": "code",
   "execution_count": 20,
   "metadata": {},
   "outputs": [],
   "source": [
    "fp=open('employee.csv','a',newline='\\n')\n",
    "fpwrite=csv.DictWriter(fp,['eid','name','phone','salary','dob'])\n",
    "fpwrite.writerows([{'eid':2,'name':'babu','phone':32408908,'salary':2500,'dob':'12-03-2020'},\n",
    "                  {'eid':3,'name':'babu','phone':32408908,'salary':2500,'dob':'12-03-2020'}])\n",
    "fp.close()"
   ]
  },
  {
   "cell_type": "code",
   "execution_count": 23,
   "metadata": {},
   "outputs": [
    {
     "name": "stdout",
     "output_type": "stream",
     "text": [
      "<csv.DictReader object at 0x0000020DD0C01BA0>\n",
      "{'eid': 'eid', 'name': 'name', 'phone': 'phone', 'salary': 'salary', 'dob': 'dob'}\n",
      "{'eid': '1', 'name': 'babu', 'phone': '32408908', 'salary': '2500', 'dob': '12-03-2020'}\n",
      "{'eid': '2', 'name': 'babu', 'phone': '32408908', 'salary': '2500', 'dob': '12-03-2020'}\n",
      "{'eid': '3', 'name': 'babu', 'phone': '32408908', 'salary': '2500', 'dob': '12-03-2020'}\n"
     ]
    }
   ],
   "source": [
    "fp=open('employee.csv','r',newline='\\n')\n",
    "fpread=csv.DictReader(fp,['eid','name','phone','salary','dob'])\n",
    "print(fpread)\n",
    "for i in fpread:\n",
    "    print(i)\n",
    "fp.close()"
   ]
  },
  {
   "cell_type": "code",
   "execution_count": 35,
   "metadata": {},
   "outputs": [
    {
     "name": "stdout",
     "output_type": "stream",
     "text": [
      "[{'eid': 'eid', 'name': 'name', 'phone': 'phone', 'salary': 'salary', 'dob': 'dob'}, {'eid': '1', 'name': 'babu', 'phone': '32408908', 'salary': '2500', 'dob': '12-03-2020'}, {'eid': '2', 'name': 'babu', 'phone': '32408908', 'salary': '2500', 'dob': '12-03-2020'}, {'eid': '3', 'name': 'babu', 'phone': '32408908', 'salary': '2500', 'dob': '12-03-2020'}]\n"
     ]
    }
   ],
   "source": [
    "fp=open('employee.csv','r',newline='\\n')\n",
    "fpread=csv.DictReader(fp,['eid','name','phone','salary','dob'])\n",
    "res=list(fpread)\n",
    "print(res)\n",
    "fp.close()"
   ]
  },
  {
   "cell_type": "code",
   "execution_count": 33,
   "metadata": {},
   "outputs": [],
   "source": [
    "#manupulate\n",
    "res[1]['salary']=95000"
   ]
  },
  {
   "cell_type": "code",
   "execution_count": 34,
   "metadata": {},
   "outputs": [
    {
     "data": {
      "text/plain": [
       "{'eid': '1',\n",
       " 'name': 'babu',\n",
       " 'phone': '32408908',\n",
       " 'salary': 95000,\n",
       " 'dob': '12-03-2020'}"
      ]
     },
     "execution_count": 34,
     "metadata": {},
     "output_type": "execute_result"
    }
   ],
   "source": [
    "res[1]"
   ]
  }
 ],
 "metadata": {
  "kernelspec": {
   "display_name": "Python 3",
   "language": "python",
   "name": "python3"
  },
  "language_info": {
   "codemirror_mode": {
    "name": "ipython",
    "version": 3
   },
   "file_extension": ".py",
   "mimetype": "text/x-python",
   "name": "python",
   "nbconvert_exporter": "python",
   "pygments_lexer": "ipython3",
   "version": "3.10.7"
  }
 },
 "nbformat": 4,
 "nbformat_minor": 2
}
