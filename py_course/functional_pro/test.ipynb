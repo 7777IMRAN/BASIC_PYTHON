{
 "cells": [
  {
   "cell_type": "code",
   "execution_count": 40,
   "metadata": {},
   "outputs": [
    {
     "name": "stdout",
     "output_type": "stream",
     "text": [
      "{'e_name': 'name2', 'e_phone': '340469', 'e_salary': 110, 'e_address': '1.24/b village', 'e_domain': 'developer', 'e_email': 'developer@gmail.com', 'id': 2}\n"
     ]
    }
   ],
   "source": [
    "class company:\n",
    "    c_name='dsff'\n",
    "    c_address='lkj;l'\n",
    "    c_phone=78964546\n",
    "    details={}\n",
    "    no_of_employes=0\n",
    "    def __init__(self,e_name,e_phone,e_salary,e_address,e_domain,e_email):\n",
    "        self.e_name=e_name\n",
    "        self.e_phone=e_phone\n",
    "        self.e_salary=e_salary\n",
    "        self.e_address=e_address\n",
    "        self.e_domain=e_domain\n",
    "        self.e_email=e_email\n",
    "        company.no_of_employes+=1\n",
    "        self.id=company.no_of_employes\n",
    "        company.add_detail(self)\n",
    "\n",
    "    @classmethod\n",
    "    def add_detail(cls,self):\n",
    "        cls.details[self.id]=self\n",
    "\n",
    "    @classmethod\n",
    "    def detailss(cls):\n",
    "        for i in cls.details:\n",
    "            print(cls.details[i].__dict__)\n",
    "    \n",
    "    def salary_hike(self):\n",
    "        self.e_salary=(self.e_salary+((10*100)//self.e_salary))\n",
    "        self.add_detail(self)\n",
    "        print(self.__dict__)\n",
    "    @staticmethod\n",
    "    def notice():\n",
    "        print('well come')\n",
    "\n",
    "obj1=company('name1','340209',100,'3.24/b village','manager','manager@gmail.com')\n",
    "obj2=company('name2','340469',100,'1.24/b village','developer','developer@gmail.com')\n",
    "\n",
    "def run():\n",
    "    a=input('1.details\\n 2.salary hike\\n 3.notice')\n",
    "    match a:\n",
    "        case '1':\n",
    "            company.detailss()\n",
    "        \n",
    "        case '2':\n",
    "            s=int(input('enter id'))\n",
    "            if s in company.details:\n",
    "                \n",
    "                company.salary_hike(company.details[s])\n",
    "        case '3':\n",
    "            company.notice()\n",
    "        case __:\n",
    "            print('select anything')\n",
    "run()\n",
    "\n"
   ]
  },
  {
   "cell_type": "code",
   "execution_count": 46,
   "metadata": {},
   "outputs": [
    {
     "name": "stdout",
     "output_type": "stream",
     "text": [
      "1\n",
      "1\n",
      "2\n",
      "3\n",
      "5\n",
      "8\n",
      "13\n",
      "21\n",
      "34\n"
     ]
    }
   ],
   "source": [
    "#2.febonaci\n",
    "f=0\n",
    "s=1\n",
    "for i in range(1,10):\n",
    "    if i<=1:\n",
    "        res=i\n",
    "    else:\n",
    "        res=f+s\n",
    "        f,s=s,res\n",
    "    print(res)\n"
   ]
  }
 ],
 "metadata": {
  "kernelspec": {
   "display_name": "Python 3",
   "language": "python",
   "name": "python3"
  },
  "language_info": {
   "codemirror_mode": {
    "name": "ipython",
    "version": 3
   },
   "file_extension": ".py",
   "mimetype": "text/x-python",
   "name": "python",
   "nbconvert_exporter": "python",
   "pygments_lexer": "ipython3",
   "version": "3.10.7"
  }
 },
 "nbformat": 4,
 "nbformat_minor": 2
}
