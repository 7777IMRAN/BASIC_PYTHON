{
 "cells": [
  {
   "cell_type": "code",
   "execution_count": 1,
   "metadata": {},
   "outputs": [
    {
     "name": "stdout",
     "output_type": "stream",
     "text": [
      "start\n",
      "52\n",
      "stop\n"
     ]
    }
   ],
   "source": [
    "print('start')\n",
    "def add(x,y):\n",
    "    z=x+y\n",
    "    return z\n",
    "print(add(30,22))\n",
    "print('stop')"
   ]
  },
  {
   "cell_type": "code",
   "execution_count": 57,
   "metadata": {},
   "outputs": [
    {
     "name": "stdout",
     "output_type": "stream",
     "text": [
      "pyTHOn\n",
      "pyTHOn\n",
      "None\n"
     ]
    }
   ],
   "source": [
    "def imran():\n",
    "    st='PYthoN'\n",
    "    res=''\n",
    "    for i in st:\n",
    "        if 'A'<=i<='Z':\n",
    "            res+=chr(ord(i)+32)\n",
    "        elif 'a'<=i<='z':\n",
    "            res+=chr(ord(i)-32)\n",
    "        else:\n",
    "            res+=i\n",
    "    print(res)\n",
    "imran()\n",
    "print(imran())\n"
   ]
  },
  {
   "cell_type": "code",
   "execution_count": 8,
   "metadata": {},
   "outputs": [
    {
     "name": "stdout",
     "output_type": "stream",
     "text": [
      "start\n",
      "<function sample at 0x000001D52DC36C20>\n",
      "stop\n"
     ]
    }
   ],
   "source": [
    "print('start')\n",
    "def sample():\n",
    "    print('hai')\n",
    "print(sample)  # without paranthesis it will return identifier address only\n",
    "print('stop')\n"
   ]
  },
  {
   "cell_type": "code",
   "execution_count": 3,
   "metadata": {},
   "outputs": [
    {
     "name": "stdout",
     "output_type": "stream",
     "text": [
      "start\n",
      "hai\n",
      "None\n",
      "stop\n"
     ]
    }
   ],
   "source": [
    "print('start')\n",
    "def sample():\n",
    "    print('hai')\n",
    "print(sample())\n",
    "print('stop')"
   ]
  },
  {
   "cell_type": "code",
   "execution_count": 10,
   "metadata": {},
   "outputs": [
    {
     "name": "stdout",
     "output_type": "stream",
     "text": [
      "start\n",
      "200\n",
      "stop\n"
     ]
    }
   ],
   "source": [
    "print('start')\n",
    "def sample():\n",
    "    a=10\n",
    "    b=20\n",
    "    c=a*b\n",
    "    print(c)\n",
    "sample()\n",
    "print('stop')"
   ]
  },
  {
   "cell_type": "code",
   "execution_count": 9,
   "metadata": {},
   "outputs": [
    {
     "name": "stdout",
     "output_type": "stream",
     "text": [
      "True\n"
     ]
    }
   ],
   "source": [
    "a=None\n",
    "print(id(a)==id(None))"
   ]
  },
  {
   "cell_type": "code",
   "execution_count": 17,
   "metadata": {},
   "outputs": [
    {
     "name": "stdout",
     "output_type": "stream",
     "text": [
      "30\n"
     ]
    }
   ],
   "source": [
    "def mul(a,b):\n",
    "    c=a+b\n",
    "    print(c)\n",
    "a=10\n",
    "b=20\n",
    "mul(a,b)\n"
   ]
  },
  {
   "cell_type": "code",
   "execution_count": 26,
   "metadata": {},
   "outputs": [
    {
     "name": "stdout",
     "output_type": "stream",
     "text": [
      "8\n"
     ]
    }
   ],
   "source": [
    "def mul(a=10,b=20):\n",
    "    c=a*b\n",
    "    print(c)\n",
    "mul(a=2,b=4)"
   ]
  },
  {
   "cell_type": "code",
   "execution_count": 2,
   "metadata": {},
   "outputs": [
    {
     "ename": "TypeError",
     "evalue": "mul() missing 2 required positional arguments: 'a' and 'b'",
     "output_type": "error",
     "traceback": [
      "\u001b[1;31m---------------------------------------------------------------------------\u001b[0m",
      "\u001b[1;31mTypeError\u001b[0m                                 Traceback (most recent call last)",
      "\u001b[1;32mc:\\Users\\Shaik Imran\\Documents\\GitHub\\BASIC_PYTHON\\py_course\\functional_pro\\functions.ipynb Cell 9\u001b[0m line \u001b[0;36m4\n\u001b[0;32m      <a href='vscode-notebook-cell:/c%3A/Users/Shaik%20Imran/Documents/GitHub/BASIC_PYTHON/py_course/functional_pro/functions.ipynb#X11sZmlsZQ%3D%3D?line=1'>2</a>\u001b[0m     c\u001b[39m=\u001b[39ma\u001b[39m*\u001b[39mb\n\u001b[0;32m      <a href='vscode-notebook-cell:/c%3A/Users/Shaik%20Imran/Documents/GitHub/BASIC_PYTHON/py_course/functional_pro/functions.ipynb#X11sZmlsZQ%3D%3D?line=2'>3</a>\u001b[0m     \u001b[39mprint\u001b[39m(c)\n\u001b[1;32m----> <a href='vscode-notebook-cell:/c%3A/Users/Shaik%20Imran/Documents/GitHub/BASIC_PYTHON/py_course/functional_pro/functions.ipynb#X11sZmlsZQ%3D%3D?line=3'>4</a>\u001b[0m mul()\n",
      "\u001b[1;31mTypeError\u001b[0m: mul() missing 2 required positional arguments: 'a' and 'b'"
     ]
    }
   ],
   "source": [
    "def mul(a,b): #missing positional arg's a,b\n",
    "    c=a*b\n",
    "    print(c)\n",
    "mul()"
   ]
  },
  {
   "cell_type": "code",
   "execution_count": 65,
   "metadata": {},
   "outputs": [
    {
     "name": "stdout",
     "output_type": "stream",
     "text": [
      "50\n",
      "16\n",
      "True\n",
      "16\n",
      "True\n"
     ]
    }
   ],
   "source": [
    "def mul(a=4,b=4):\n",
    "    c=a*b\n",
    "    print(c)\n",
    "mul(a,5)\n",
    "# print(mul())\n",
    "print(id(mul())==id(None))\n",
    "print(mul()==None)"
   ]
  },
  {
   "cell_type": "code",
   "execution_count": 63,
   "metadata": {},
   "outputs": [
    {
     "data": {
      "text/plain": [
       "0"
      ]
     },
     "execution_count": 63,
     "metadata": {},
     "output_type": "execute_result"
    }
   ],
   "source": [
    "def mod():\n",
    "    a=2\n",
    "    b=10\n",
    "    c=b%a\n",
    "    return c\n",
    "    print(a,b,c)\n",
    "mod()"
   ]
  },
  {
   "cell_type": "code",
   "execution_count": 1,
   "metadata": {},
   "outputs": [
    {
     "name": "stdout",
     "output_type": "stream",
     "text": [
      "HELLO HAII !@3\n"
     ]
    }
   ],
   "source": [
    "st='hello HAII !@3'\n",
    "res=''\n",
    "for i in st:\n",
    "    if 'a'<=i<='z':\n",
    "        res+=chr(ord(i)-32)\n",
    "    else:\n",
    "        res+=i\n",
    "print(res)"
   ]
  },
  {
   "cell_type": "code",
   "execution_count": 4,
   "metadata": {},
   "outputs": [
    {
     "data": {
      "text/plain": [
       "'HELLO HAII @#$!3'"
      ]
     },
     "execution_count": 4,
     "metadata": {},
     "output_type": "execute_result"
    }
   ],
   "source": [
    "#whtout org's with return stmnt\n",
    "def Upper():\n",
    "    st='hello HAII @#$!3'\n",
    "    res=''\n",
    "    for i in st:\n",
    "        if 'a'<=i<='z':\n",
    "            res+=chr(ord(i)-32)\n",
    "        else:\n",
    "            res+=i\n",
    "    return res\n",
    "Upper()"
   ]
  },
  {
   "cell_type": "code",
   "execution_count": 5,
   "metadata": {},
   "outputs": [
    {
     "name": "stdout",
     "output_type": "stream",
     "text": [
      "HELLO HAI @#3\n"
     ]
    }
   ],
   "source": [
    "#without org's whithout return stmnt\n",
    "def no():\n",
    "    st='hello HAI @#3'\n",
    "    res=''\n",
    "    for i in st:\n",
    "        if 'a'<=i<='z':\n",
    "            res+=chr(ord(i)-32)\n",
    "        else:\n",
    "            res+=i\n",
    "    print(res)\n",
    "no()"
   ]
  },
  {
   "cell_type": "code",
   "execution_count": 6,
   "metadata": {},
   "outputs": [
    {
     "name": "stdout",
     "output_type": "stream",
     "text": [
      "HELLO HAII @#$\n"
     ]
    }
   ],
   "source": [
    "#with org's whithout return stmnt\n",
    "st='hello HAII @#$'\n",
    "def no(st):\n",
    "    res=''\n",
    "    for i in st:\n",
    "        if 'a'<=i<='z':\n",
    "            res+=chr(ord(i)-32)\n",
    "        else:\n",
    "            res+=i\n",
    "    print(res)\n",
    "no(st)"
   ]
  },
  {
   "cell_type": "code",
   "execution_count": 8,
   "metadata": {},
   "outputs": [
    {
     "name": "stdout",
     "output_type": "stream",
     "text": [
      "HELLO HAII @#$\n"
     ]
    }
   ],
   "source": [
    "#with org's with return stmnt\n",
    "st='hello HAII @#$'\n",
    "def no(st):\n",
    "    res=''\n",
    "    for i in st:\n",
    "        if 'a'<=i<='z':\n",
    "            res+=chr(ord(i)-32)\n",
    "        else:\n",
    "            res+=i\n",
    "    return res\n",
    "print(no(st))"
   ]
  },
  {
   "cell_type": "code",
   "execution_count": 2,
   "metadata": {},
   "outputs": [
    {
     "name": "stdout",
     "output_type": "stream",
     "text": [
      "8\n"
     ]
    }
   ],
   "source": [
    "l=[10,20,30,40,50,60,10,50,10]\n",
    "def sample(coll,ele,occur=1,start=0,end=0):\n",
    "    if start<0:\n",
    "        start=len(coll)+start\n",
    "    if end<0:\n",
    "        end=len(coll)+end\n",
    "    if end==0:\n",
    "        end=len(coll)\n",
    "    count=0\n",
    "    for i in range(start,end):\n",
    "        if coll[i]==ele:\n",
    "            count+=1\n",
    "            if count==occur:\n",
    "                return i\n",
    "    return -1\n",
    "print(sample(l,10,3,0,10))"
   ]
  },
  {
   "cell_type": "code",
   "execution_count": 43,
   "metadata": {},
   "outputs": [
    {
     "name": "stdout",
     "output_type": "stream",
     "text": [
      "1 1\n",
      "2 2\n",
      "3 6\n",
      "4 24\n",
      "5 120\n",
      "6 720\n",
      "7 5040\n",
      "8 40320\n",
      "9 362880\n"
     ]
    }
   ],
   "source": [
    "for j in range(1,10):\n",
    "    a=j\n",
    "    i=1\n",
    "    fact=1\n",
    "    while a:\n",
    "        # print(a)\n",
    "        fact*=a\n",
    "        a-=1   \n",
    "    print(j,fact) \n",
    "    fact=1    "
   ]
  },
  {
   "cell_type": "code",
   "execution_count": 49,
   "metadata": {},
   "outputs": [
    {
     "name": "stdout",
     "output_type": "stream",
     "text": [
      "1 1\n",
      "2 2\n",
      "3 6\n",
      "4 24\n",
      "5 120\n"
     ]
    }
   ],
   "source": [
    "#test\n",
    "#Qno:1 wap tp print a series of factorial numbers given range using nested functions.\n",
    "def fact1(ran):\n",
    "    for i in range(1,ran+1):\n",
    "        a=i\n",
    "        def fact(num):\n",
    "            sum=1\n",
    "\n",
    "            while num:  \n",
    "                sum*=num\n",
    "                num-=1\n",
    "            print(i,sum)\n",
    "            sum=1\n",
    "        fact(a)\n",
    "fact1(5)"
   ]
  },
  {
   "cell_type": "code",
   "execution_count": 69,
   "metadata": {},
   "outputs": [
    {
     "name": "stdout",
     "output_type": "stream",
     "text": [
      "19*1 => 19\n",
      "19*2 => 38\n",
      "19*3 => 57\n",
      "19*4 => 76\n",
      "19*5 => 95\n",
      "19*6 => 114\n",
      "19*7 => 133\n",
      "19*8 => 152\n",
      "19*9 => 171\n",
      "19*10 => 190\n"
     ]
    }
   ],
   "source": [
    "#2 wap to print 19 table within the given range using functions\n",
    "#formate: 19*2=38\n",
    "prange=10\n",
    "table=19\n",
    "def mull(tabe,num):\n",
    "    for i in range(1,num+1):\n",
    "        print(f'{tabe}*{i} =>',tabe*i)\n",
    "mull(table,prange)\n"
   ]
  },
  {
   "cell_type": "code",
   "execution_count": 73,
   "metadata": {},
   "outputs": [
    {
     "data": {
      "text/plain": [
       "'SrEdIpSyP'"
      ]
     },
     "execution_count": 73,
     "metadata": {},
     "output_type": "execute_result"
    }
   ],
   "source": [
    "#3 i/p: 'PYSPIDERS'  using functions\n",
    "#  O/P: 'SrEdIpSyP'\n",
    "a='PYSPIDERS'\n",
    "def rev(coll):\n",
    "    i=0\n",
    "    res=''\n",
    "    while i<len(coll):\n",
    "        if i%2==0:\n",
    "            res+=coll[i]\n",
    "        else:\n",
    "            res+=chr(ord(coll[i])+32)\n",
    "        i+=1\n",
    "    return res[::-1]\n",
    "rev(a)"
   ]
  }
 ],
 "metadata": {
  "kernelspec": {
   "display_name": "Python 3",
   "language": "python",
   "name": "python3"
  },
  "language_info": {
   "codemirror_mode": {
    "name": "ipython",
    "version": 3
   },
   "file_extension": ".py",
   "mimetype": "text/x-python",
   "name": "python",
   "nbconvert_exporter": "python",
   "pygments_lexer": "ipython3",
   "version": "3.10.7"
  },
  "orig_nbformat": 4
 },
 "nbformat": 4,
 "nbformat_minor": 2
}
