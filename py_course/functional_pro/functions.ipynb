{
 "cells": [
  {
   "cell_type": "code",
   "execution_count": 44,
   "metadata": {},
   "outputs": [
    {
     "name": "stdout",
     "output_type": "stream",
     "text": [
      "start\n",
      "52\n",
      "stop\n"
     ]
    }
   ],
   "source": [
    "print('start')\n",
    "def add(x,y):\n",
    "    z=x+y\n",
    "    return z\n",
    "print(add(30,22))\n",
    "print('stop')"
   ]
  },
  {
   "cell_type": "code",
   "execution_count": 45,
   "metadata": {},
   "outputs": [
    {
     "name": "stdout",
     "output_type": "stream",
     "text": [
      "pyTHOn\n",
      "pyTHOn\n",
      "None\n"
     ]
    }
   ],
   "source": [
    "def imran():\n",
    "    st='PYthoN'\n",
    "    res=''\n",
    "    for i in st:\n",
    "        if 'A'<=i<='Z':\n",
    "            res+=chr(ord(i)+32)\n",
    "        elif 'a'<=i<='z':\n",
    "            res+=chr(ord(i)-32)\n",
    "        else:\n",
    "            res+=i\n",
    "    print(res)\n",
    "imran()\n",
    "print(imran())\n"
   ]
  },
  {
   "cell_type": "code",
   "execution_count": 46,
   "metadata": {},
   "outputs": [
    {
     "name": "stdout",
     "output_type": "stream",
     "text": [
      "start\n",
      "<function sample at 0x0000026EB33C2710>\n",
      "stop\n"
     ]
    }
   ],
   "source": [
    "print('start')\n",
    "def sample():\n",
    "    print('hai')\n",
    "print(sample)  # without paranthesis it will return identifier address only\n",
    "print('stop')\n"
   ]
  },
  {
   "cell_type": "code",
   "execution_count": 47,
   "metadata": {},
   "outputs": [
    {
     "name": "stdout",
     "output_type": "stream",
     "text": [
      "start\n",
      "hai\n",
      "None\n",
      "stop\n"
     ]
    }
   ],
   "source": [
    "print('start')\n",
    "def sample():\n",
    "    print('hai')\n",
    "print(sample())\n",
    "print('stop')"
   ]
  },
  {
   "cell_type": "code",
   "execution_count": 48,
   "metadata": {},
   "outputs": [
    {
     "name": "stdout",
     "output_type": "stream",
     "text": [
      "start\n",
      "200\n",
      "stop\n"
     ]
    }
   ],
   "source": [
    "print('start')\n",
    "def sample():\n",
    "    a=10\n",
    "    b=20\n",
    "    c=a*b\n",
    "    print(c)\n",
    "sample()\n",
    "print('stop')"
   ]
  },
  {
   "cell_type": "code",
   "execution_count": 49,
   "metadata": {},
   "outputs": [
    {
     "name": "stdout",
     "output_type": "stream",
     "text": [
      "True\n"
     ]
    }
   ],
   "source": [
    "a=None\n",
    "print(id(a)==id(None))"
   ]
  },
  {
   "cell_type": "code",
   "execution_count": 50,
   "metadata": {},
   "outputs": [
    {
     "name": "stdout",
     "output_type": "stream",
     "text": [
      "30\n"
     ]
    }
   ],
   "source": [
    "def mul(a,b):\n",
    "    c=a+b\n",
    "    print(c)\n",
    "a=10\n",
    "b=20\n",
    "mul(a,b)\n"
   ]
  },
  {
   "cell_type": "code",
   "execution_count": 51,
   "metadata": {},
   "outputs": [
    {
     "name": "stdout",
     "output_type": "stream",
     "text": [
      "8\n"
     ]
    }
   ],
   "source": [
    "def mul(a=10,b=20):\n",
    "    c=a*b\n",
    "    print(c)\n",
    "mul(a=2,b=4)"
   ]
  },
  {
   "cell_type": "code",
   "execution_count": 52,
   "metadata": {},
   "outputs": [
    {
     "ename": "TypeError",
     "evalue": "mul() missing 2 required positional arguments: 'a' and 'b'",
     "output_type": "error",
     "traceback": [
      "\u001b[1;31m---------------------------------------------------------------------------\u001b[0m",
      "\u001b[1;31mTypeError\u001b[0m                                 Traceback (most recent call last)",
      "\u001b[1;32mc:\\Users\\Shaik Imran\\Documents\\GitHub\\BASIC_PYTHON\\py_course\\functional_pro\\functions.ipynb Cell 9\u001b[0m line \u001b[0;36m4\n\u001b[0;32m      <a href='vscode-notebook-cell:/c%3A/Users/Shaik%20Imran/Documents/GitHub/BASIC_PYTHON/py_course/functional_pro/functions.ipynb#X11sZmlsZQ%3D%3D?line=1'>2</a>\u001b[0m     c\u001b[39m=\u001b[39ma\u001b[39m*\u001b[39mb\n\u001b[0;32m      <a href='vscode-notebook-cell:/c%3A/Users/Shaik%20Imran/Documents/GitHub/BASIC_PYTHON/py_course/functional_pro/functions.ipynb#X11sZmlsZQ%3D%3D?line=2'>3</a>\u001b[0m     \u001b[39mprint\u001b[39m(c)\n\u001b[1;32m----> <a href='vscode-notebook-cell:/c%3A/Users/Shaik%20Imran/Documents/GitHub/BASIC_PYTHON/py_course/functional_pro/functions.ipynb#X11sZmlsZQ%3D%3D?line=3'>4</a>\u001b[0m mul()\n",
      "\u001b[1;31mTypeError\u001b[0m: mul() missing 2 required positional arguments: 'a' and 'b'"
     ]
    }
   ],
   "source": [
    "def mul(a,b): #missing positional arg's a,b\n",
    "    c=a*b\n",
    "    print(c)\n",
    "mul()"
   ]
  },
  {
   "cell_type": "code",
   "execution_count": null,
   "metadata": {},
   "outputs": [
    {
     "name": "stdout",
     "output_type": "stream",
     "text": [
      "50\n",
      "16\n",
      "True\n",
      "16\n",
      "True\n"
     ]
    }
   ],
   "source": [
    "def mul(a=4,b=4):\n",
    "    c=a*b\n",
    "    print(c)\n",
    "mul(a,5)\n",
    "# print(mul())\n",
    "print(id(mul())==id(None))\n",
    "print(mul()==None)"
   ]
  },
  {
   "cell_type": "code",
   "execution_count": null,
   "metadata": {},
   "outputs": [
    {
     "data": {
      "text/plain": [
       "0"
      ]
     },
     "execution_count": 63,
     "metadata": {},
     "output_type": "execute_result"
    }
   ],
   "source": [
    "def mod():\n",
    "    a=2\n",
    "    b=10\n",
    "    c=b%a\n",
    "    return c\n",
    "    print(a,b,c)\n",
    "mod()"
   ]
  },
  {
   "cell_type": "code",
   "execution_count": null,
   "metadata": {},
   "outputs": [
    {
     "name": "stdout",
     "output_type": "stream",
     "text": [
      "HELLO HAII !@3\n"
     ]
    }
   ],
   "source": [
    "st='hello HAII !@3'\n",
    "res=''\n",
    "for i in st:\n",
    "    if 'a'<=i<='z':\n",
    "        res+=chr(ord(i)-32)\n",
    "    else:\n",
    "        res+=i\n",
    "print(res)"
   ]
  },
  {
   "cell_type": "code",
   "execution_count": null,
   "metadata": {},
   "outputs": [
    {
     "data": {
      "text/plain": [
       "'HELLO HAII @#$!3'"
      ]
     },
     "execution_count": 4,
     "metadata": {},
     "output_type": "execute_result"
    }
   ],
   "source": [
    "#whtout org's with return stmnt\n",
    "def Upper():\n",
    "    st='hello HAII @#$!3'\n",
    "    res=''\n",
    "    for i in st:\n",
    "        if 'a'<=i<='z':\n",
    "            res+=chr(ord(i)-32)\n",
    "        else:\n",
    "            res+=i\n",
    "    return res\n",
    "Upper()"
   ]
  },
  {
   "cell_type": "code",
   "execution_count": null,
   "metadata": {},
   "outputs": [
    {
     "name": "stdout",
     "output_type": "stream",
     "text": [
      "HELLO HAI @#3\n"
     ]
    }
   ],
   "source": [
    "#without org's whithout return stmnt\n",
    "def no():\n",
    "    st='hello HAI @#3'\n",
    "    res=''\n",
    "    for i in st:\n",
    "        if 'a'<=i<='z':\n",
    "            res+=chr(ord(i)-32)\n",
    "        else:\n",
    "            res+=i\n",
    "    print(res)\n",
    "no()"
   ]
  },
  {
   "cell_type": "code",
   "execution_count": null,
   "metadata": {},
   "outputs": [
    {
     "name": "stdout",
     "output_type": "stream",
     "text": [
      "HELLO HAII @#$\n"
     ]
    }
   ],
   "source": [
    "#with org's whithout return stmnt\n",
    "st='hello HAII @#$'\n",
    "def no(st):\n",
    "    res=''\n",
    "    for i in st:\n",
    "        if 'a'<=i<='z':\n",
    "            res+=chr(ord(i)-32)\n",
    "        else:\n",
    "            res+=i\n",
    "    print(res)\n",
    "no(st)"
   ]
  },
  {
   "cell_type": "code",
   "execution_count": null,
   "metadata": {},
   "outputs": [
    {
     "name": "stdout",
     "output_type": "stream",
     "text": [
      "HELLO HAII @#$\n"
     ]
    }
   ],
   "source": [
    "#with org's with return stmnt\n",
    "st='hello HAII @#$'\n",
    "def no(st):\n",
    "    res=''\n",
    "    for i in st:\n",
    "        if 'a'<=i<='z':\n",
    "            res+=chr(ord(i)-32)\n",
    "        else:\n",
    "            res+=i\n",
    "    return res\n",
    "print(no(st))"
   ]
  },
  {
   "cell_type": "code",
   "execution_count": null,
   "metadata": {},
   "outputs": [
    {
     "name": "stdout",
     "output_type": "stream",
     "text": [
      "8\n"
     ]
    }
   ],
   "source": [
    "l=[10,20,30,40,50,60,10,50,10]\n",
    "def sample(coll,ele,occur=1,start=0,end=0):\n",
    "    if start<0:\n",
    "        start=len(coll)+start\n",
    "    if end<0:\n",
    "        end=len(coll)+end\n",
    "    if end==0:\n",
    "        end=len(coll)\n",
    "    count=0\n",
    "    for i in range(start,end):\n",
    "        if coll[i]==ele:\n",
    "            count+=1\n",
    "            if count==occur:\n",
    "                return i\n",
    "    return -1\n",
    "print(sample(l,10,3,0,10))"
   ]
  },
  {
   "cell_type": "code",
   "execution_count": 1,
   "metadata": {},
   "outputs": [
    {
     "name": "stdout",
     "output_type": "stream",
     "text": [
      "1 1\n",
      "2 2\n",
      "3 6\n",
      "4 24\n",
      "5 120\n",
      "6 720\n",
      "7 5040\n",
      "8 40320\n",
      "9 362880\n"
     ]
    }
   ],
   "source": [
    "for j in range(1,10):\n",
    "    a=j\n",
    "    i=1\n",
    "    fact=1\n",
    "    while a:\n",
    "        # print(a)\n",
    "        fact*=a\n",
    "        a-=1   \n",
    "    print(j,fact) \n",
    "    # fact=1    "
   ]
  },
  {
   "cell_type": "code",
   "execution_count": null,
   "metadata": {},
   "outputs": [
    {
     "name": "stdout",
     "output_type": "stream",
     "text": [
      "1 1\n",
      "2 2\n",
      "3 6\n",
      "4 24\n",
      "5 120\n"
     ]
    }
   ],
   "source": [
    "#test\n",
    "#Qno:1 wap tp print a series of factorial numbers given range using nested functions.\n",
    "def fact1(ran):\n",
    "    for i in range(1,ran+1):\n",
    "        a=i\n",
    "        def fact(num):\n",
    "            sum=1\n",
    "\n",
    "            while num:  \n",
    "                sum*=num\n",
    "                num-=1\n",
    "            print(i,sum)\n",
    "            sum=1\n",
    "        fact(a)\n",
    "fact1(5)"
   ]
  },
  {
   "cell_type": "code",
   "execution_count": null,
   "metadata": {},
   "outputs": [
    {
     "name": "stdout",
     "output_type": "stream",
     "text": [
      "19*1 => 19\n",
      "19*2 => 38\n",
      "19*3 => 57\n",
      "19*4 => 76\n",
      "19*5 => 95\n",
      "19*6 => 114\n",
      "19*7 => 133\n",
      "19*8 => 152\n",
      "19*9 => 171\n",
      "19*10 => 190\n"
     ]
    }
   ],
   "source": [
    "#2 wap to print 19 table within the given range using functions\n",
    "#formate: 19*2=38\n",
    "prange=10\n",
    "table=19\n",
    "def mull(tabe,num):\n",
    "    for i in range(1,num+1):\n",
    "        print(f'{tabe}*{i} =>',tabe*i)\n",
    "mull(table,prange)\n"
   ]
  },
  {
   "cell_type": "code",
   "execution_count": null,
   "metadata": {},
   "outputs": [
    {
     "data": {
      "text/plain": [
       "'SrEdIpSyP'"
      ]
     },
     "execution_count": 73,
     "metadata": {},
     "output_type": "execute_result"
    }
   ],
   "source": [
    "#3 i/p: 'PYSPIDERS'  using functions\n",
    "#  O/P: 'SrEdIpSyP'\n",
    "a='PYSPIDERS'\n",
    "def rev(coll):\n",
    "    i=0\n",
    "    res=''\n",
    "    while i<len(coll):\n",
    "        if i%2==0:\n",
    "            res+=coll[i]\n",
    "        else:\n",
    "            res+=chr(ord(coll[i])+32)\n",
    "        i+=1\n",
    "    return res[::-1]\n",
    "rev(a)"
   ]
  },
  {
   "cell_type": "code",
   "execution_count": null,
   "metadata": {},
   "outputs": [],
   "source": [
    "#4,5,6,7,8"
   ]
  },
  {
   "cell_type": "markdown",
   "metadata": {},
   "source": [
    "arguments:\n",
    "arguments are 2 types\n",
    "1.formaal arguments\n",
    "2.actual arguments\n",
    "FORMAL Args: \n",
    "   1.we have to define inside the funtion deffination\n",
    "   2. this args we can represent in 3 ways\n",
    "      1.positional or non defoult args\n",
    "      2.defoult args or mandatory args\n",
    "      3.variable length args\n",
    "\n",
    "1.POSITIONAL args:they are difined inside the funtion deffination in the form of variable names\n",
    "\n"
   ]
  },
  {
   "cell_type": "code",
   "execution_count": null,
   "metadata": {},
   "outputs": [
    {
     "ename": "TypeError",
     "evalue": "demo() takes 3 positional arguments but 4 were given",
     "output_type": "error",
     "traceback": [
      "\u001b[1;31m---------------------------------------------------------------------------\u001b[0m",
      "\u001b[1;31mTypeError\u001b[0m                                 Traceback (most recent call last)",
      "\u001b[1;32mc:\\Users\\Shaik Imran\\Documents\\GitHub\\BASIC_PYTHON\\py_course\\functional_pro\\functions.ipynb Cell 24\u001b[0m line \u001b[0;36m5\n\u001b[0;32m      <a href='vscode-notebook-cell:/c%3A/Users/Shaik%20Imran/Documents/GitHub/BASIC_PYTHON/py_course/functional_pro/functions.ipynb#X32sZmlsZQ%3D%3D?line=1'>2</a>\u001b[0m     \u001b[39mprint\u001b[39m(a,b,c)\n\u001b[0;32m      <a href='vscode-notebook-cell:/c%3A/Users/Shaik%20Imran/Documents/GitHub/BASIC_PYTHON/py_course/functional_pro/functions.ipynb#X32sZmlsZQ%3D%3D?line=2'>3</a>\u001b[0m \u001b[39m# demo(10,30,40)\u001b[39;00m\n\u001b[0;32m      <a href='vscode-notebook-cell:/c%3A/Users/Shaik%20Imran/Documents/GitHub/BASIC_PYTHON/py_course/functional_pro/functions.ipynb#X32sZmlsZQ%3D%3D?line=3'>4</a>\u001b[0m \u001b[39m# demo(20,30) #TypeError\u001b[39;00m\n\u001b[1;32m----> <a href='vscode-notebook-cell:/c%3A/Users/Shaik%20Imran/Documents/GitHub/BASIC_PYTHON/py_course/functional_pro/functions.ipynb#X32sZmlsZQ%3D%3D?line=4'>5</a>\u001b[0m demo(\u001b[39m10\u001b[39;49m,\u001b[39m20\u001b[39;49m,\u001b[39m40\u001b[39;49m,\u001b[39m50\u001b[39;49m)\n",
      "\u001b[1;31mTypeError\u001b[0m: demo() takes 3 positional arguments but 4 were given"
     ]
    }
   ],
   "source": [
    "#positional args                               #   07-10-2023\n",
    "def demo(a,b,c):\n",
    "    print(a,b,c)\n",
    "# demo(10,30,40)\n",
    "# demo(20,30) #TypeError\n",
    "demo(10,20,40,50) #TypeError"
   ]
  },
  {
   "cell_type": "code",
   "execution_count": null,
   "metadata": {},
   "outputs": [
    {
     "ename": "SyntaxError",
     "evalue": "non-default argument follows default argument (332880915.py, line 1)",
     "output_type": "error",
     "traceback": [
      "\u001b[1;36m  Cell \u001b[1;32mIn[7], line 1\u001b[1;36m\u001b[0m\n\u001b[1;33m    def demo(a,b=30,c,d=90):  #SyntaxError: non-default argument follows default argument, note: follow- value taking args followed by defoult value args\u001b[0m\n\u001b[1;37m                    ^\u001b[0m\n\u001b[1;31mSyntaxError\u001b[0m\u001b[1;31m:\u001b[0m non-default argument follows default argument\n"
     ]
    }
   ],
   "source": [
    "def demo(a,b=30,c,d=90):  #SyntaxError: non-default argument follows default argument, note: follow- value taking args followed by defoult value args\n",
    "    print(a,b,c,d)\n",
    "demo()"
   ]
  },
  {
   "cell_type": "markdown",
   "metadata": {},
   "source": [
    "2.actual args: \n",
    "  1.we have to define the actual args inside the function calling\n",
    "  2.actual args can represent in 3 ways\n",
    "    1. positional args\n",
    "    2.key word args\n",
    "    3.variable length args"
   ]
  },
  {
   "cell_type": "code",
   "execution_count": null,
   "metadata": {},
   "outputs": [
    {
     "name": "stdout",
     "output_type": "stream",
     "text": [
      "60 70 80\n"
     ]
    }
   ],
   "source": [
    "#actual args\n",
    "#1.positional args\n",
    "def demo(a,b,c):\n",
    "    print(a,b,c)\n",
    "# demo(a=10,b=20,c=30)\n",
    "# demo(10,20,30)\n",
    "# demo(10,b=40,50) #SyntaxError: positional argument follows keyword argument\n",
    "demo(c=80,a=60,b=70) #this type. perfect position not requered"
   ]
  },
  {
   "cell_type": "code",
   "execution_count": null,
   "metadata": {},
   "outputs": [],
   "source": [
    "#2."
   ]
  },
  {
   "cell_type": "code",
   "execution_count": null,
   "metadata": {},
   "outputs": [
    {
     "name": "stdout",
     "output_type": "stream",
     "text": [
      "(10, 20, 30, 40)\n"
     ]
    }
   ],
   "source": [
    "#2.key word args\n",
    "a=10,20,30,40 #predifined packing #tuple variable length\n",
    "print(a)"
   ]
  },
  {
   "cell_type": "code",
   "execution_count": null,
   "metadata": {},
   "outputs": [
    {
     "name": "stdout",
     "output_type": "stream",
     "text": [
      "10 20 30 40\n"
     ]
    }
   ],
   "source": [
    "x,y,m,n=(10,20,30,40)\n",
    "print(x,y,m,n)  #predifined unpacking"
   ]
  },
  {
   "cell_type": "markdown",
   "metadata": {},
   "source": [
    "3.variable length args:\n",
    "   1.we can define inside the function deffination or function call\n",
    "   2.it will accept 0 args or more than 0 args (values)\n",
    "   3. it classified into 2 types\n",
    "      1.tuple variable args\n",
    "      2.dictionary variable args\n",
    "\n",
    "1.Tuple variable args:\n",
    "   1. we have to define single *followed by variable name\n",
    "   2.it will accept only positional args from the fuction call\n",
    "   3.all the args will store inside the tuple collection\n",
    "   4.as industrial standard we have to define full variable args (*args)\n",
    "   4.as industrial standard we have to define full tuple variable args (**kwargs)   (key_word_args)\n"
   ]
  },
  {
   "cell_type": "code",
   "execution_count": null,
   "metadata": {},
   "outputs": [
    {
     "name": "stdout",
     "output_type": "stream",
     "text": [
      "()\n"
     ]
    }
   ],
   "source": [
    "#3.variable length args\n",
    "def demo(*a):           #use * for variable length args\n",
    "    print(a)\n",
    "# demo(10)\n",
    "# demo(10,20)\n",
    "# demo(10,20,40)\n",
    "# demo()"
   ]
  },
  {
   "cell_type": "markdown",
   "metadata": {},
   "source": [
    "2.dictionary variable length args\n",
    "    1. we have to define single **followed by key_word_args\n",
    "    2.it will accept only key_word_args\n",
    "    3.all args will store in the form of dict formate\n",
    "    4.as industrial standard we are represent the args name called **args"
   ]
  },
  {
   "cell_type": "code",
   "execution_count": null,
   "metadata": {},
   "outputs": [],
   "source": [
    "def sample(**kwargs):   #dict variable lenth args\n",
    "    print(kwargs)\n",
    "# sample(a=10)\n",
    "# sample(a=10,b=30)\n",
    "# sample(a=10,b=30,c=50)\n"
   ]
  },
  {
   "cell_type": "markdown",
   "metadata": {},
   "source": [
    "Packing and unpacking:\n",
    "Packing:\n",
    "• Packing is a phenomenon of grouping the collection of data items into a single collection.\n",
    "• Packing can be done between the pair of single quotes (''), double quotes (\"\"), square brace[], parentheses(), flower brace {}\n",
    ".Packing will help us to keep the data to store, secured, save, and easy to maintain.\n",
    ".Whenever the data transition happens there should not be data loss. The data packing should happen only in the form of immutable type.\n",
    "• If we do packing in the form of different packing techniques and storing, then the data separation and data utilization will be a difficult task for us. That is the reason we are packing in the form of tuples data type with help of variable length arguments.\n",
    ".Default, the python application will be packed in the form of tuple and sometime dictionary.\n",
    "\n",
    "• Packing the data items are in two ways: (variable length argument)\n",
    "1. Tuple packing (*args)\n",
    "2. Dictionary packing (Key and value pair).(**kwargs)\n",
    "Tuple variable length packing:\n",
    "• If we wanted to pack the data while doing the data transition from function call to"
   ]
  },
  {
   "cell_type": "markdown",
   "metadata": {},
   "source": [
    "Syntax:\n",
    "def Func name(*args):    -> tuple packing\n",
    "    statement/instruction\n",
    "Func name(vall, val2, val3,val4..)\n",
    "    note: we should pass only positional args \n",
    "    \n",
    "def Func name(**kwargs): -> dict packing\n",
    "    statement/instruction\n",
    "Func_ name(key=vall, key=val2,key-val3 ,key=val4...)\n",
    "    note: we should pass only keyword args\n",
    "def Func_name(*args,**kwargs):   ->tuple and dict packing\n",
    "    statement/instruction\n",
    "Func_name(vall,val2,key=val1,key=val2,...)\n",
    "note: we should pass first positional followed by keyword args"
   ]
  },
  {
   "cell_type": "markdown",
   "metadata": {},
   "source": [
    "Unpacking:\n",
    "•Unpacking is a phenomenan way of extracting the data from the collection and storing it in the different memories (different arguments).\n",
    ".In the sender side (function calling) will be a *args or **kwargs at the same time receiver side (function definition) will be the number of arguments created based on length of the packed collection.\n",
    "Syntax:\n",
    "#Tuple packed collection \n",
    "def Func name (arg1,arg2,arg3,arg4...):\n",
    "        statement/instruction\n",
    "    Func_name(*args)\n",
    "\n",
    "#dictionary packed collection\n",
    "def Func_name(arg1,arg2,arg3,arg4..):\n",
    "        statement/instruction\n",
    "    Func_name(**args)\n",
    "\n",
    "note: dict packed collection key names and formal arguments name should be the same\n",
    " \n",
    "#combination or tuple and dict packed collection\n",
    "def Func_name(arg1,arg2,arg3,arg4,...)\n",
    "        statement/instruction\n",
    "    Func_name(*args,**args)\n",
    "note: we should pass *args followed by **kwargs arguments.\n"
   ]
  },
  {
   "cell_type": "code",
   "execution_count": 2,
   "metadata": {},
   "outputs": [
    {
     "name": "stdout",
     "output_type": "stream",
     "text": [
      "(10, 20, 30, 40)\n",
      "{'a': 10, 'b': 20, 'c': 30, 'd': 40}\n"
     ]
    }
   ],
   "source": [
    "#ex:packing\n",
    "def sample(*args):   #userdefine tuple packing\n",
    "    print(args)\n",
    "\n",
    "sample(10,20,30,40)\n",
    "def  demo(**kwargs): #userdefine dict packing\n",
    "    print(kwargs)\n",
    "demo(a=10,b=20,c=30,d=40)"
   ]
  },
  {
   "cell_type": "code",
   "execution_count": 10,
   "metadata": {},
   "outputs": [
    {
     "name": "stdout",
     "output_type": "stream",
     "text": [
      "(10, 39, 49)\n",
      "{'f': 20, 'e': 489}\n"
     ]
    }
   ],
   "source": [
    "def sample(*args,**kwargs):  #userdefine tuple/dict packing\n",
    "    print(args)\n",
    "    print(kwargs)\n",
    "# sample(10,20,30,40)\n",
    "# sample(a=10,b=30,c=49)\n",
    "sample(10,39,49,f=20,e=489)\n"
   ]
  },
  {
   "cell_type": "code",
   "execution_count": 13,
   "metadata": {},
   "outputs": [
    {
     "name": "stdout",
     "output_type": "stream",
     "text": [
      "10 30 20 80\n",
      "m n o p\n",
      "10 20 30 40\n"
     ]
    }
   ],
   "source": [
    "#EX:unpacking\n",
    "t=(10,30,20,80) #tuple variable length unpacking\n",
    "def sample(m,n,o,p):\n",
    "    print(m,n,o,p)\n",
    "sample(*t)\n",
    "t={'m':10,'n':20,'o':30,'p':40} #dict variable length unpacking\n",
    "def sample(m,n,o,p):\n",
    "    print(m,n,o,p)\n",
    "sample(*t)  # '*' for keys\n",
    "\n",
    "\n",
    "t={'m':10,'n':20,'o':30,'p':40} #dict variable length unpacking\n",
    "def sample(m,n,o,p):\n",
    "    print(m,n,o,p)\n",
    "sample(**t) # '**' for values\n"
   ]
  },
  {
   "cell_type": "code",
   "execution_count": 104,
   "metadata": {},
   "outputs": [
    {
     "ename": "TypeError",
     "evalue": "sample() missing 1 required positional argument: 'q'",
     "output_type": "error",
     "traceback": [
      "\u001b[1;31m---------------------------------------------------------------------------\u001b[0m",
      "\u001b[1;31mTypeError\u001b[0m                                 Traceback (most recent call last)",
      "\u001b[1;32mc:\\Users\\Shaik Imran\\Documents\\GitHub\\BASIC_PYTHON\\py_course\\functional_pro\\functions.ipynb Cell 41\u001b[0m line \u001b[0;36m4\n\u001b[0;32m      <a href='vscode-notebook-cell:/c%3A/Users/Shaik%20Imran/Documents/GitHub/BASIC_PYTHON/py_course/functional_pro/functions.ipynb#X55sZmlsZQ%3D%3D?line=1'>2</a>\u001b[0m \u001b[39mdef\u001b[39;00m \u001b[39msample\u001b[39m(m,n,o,p,q):  \u001b[39m#problem 1 solution down\u001b[39;00m\n\u001b[0;32m      <a href='vscode-notebook-cell:/c%3A/Users/Shaik%20Imran/Documents/GitHub/BASIC_PYTHON/py_course/functional_pro/functions.ipynb#X55sZmlsZQ%3D%3D?line=2'>3</a>\u001b[0m     \u001b[39mprint\u001b[39m(m,n,o,p,q)\n\u001b[1;32m----> <a href='vscode-notebook-cell:/c%3A/Users/Shaik%20Imran/Documents/GitHub/BASIC_PYTHON/py_course/functional_pro/functions.ipynb#X55sZmlsZQ%3D%3D?line=3'>4</a>\u001b[0m sample(\u001b[39m*\u001b[39;49mt)\n",
      "\u001b[1;31mTypeError\u001b[0m: sample() missing 1 required positional argument: 'q'"
     ]
    }
   ],
   "source": [
    "t=(10,30,20,80) \n",
    "def sample(m,n,o,p,q):  #problem 1 solution down\n",
    "    print(m,n,o,p,q)\n",
    "sample(*t)\n"
   ]
  },
  {
   "cell_type": "code",
   "execution_count": 105,
   "metadata": {},
   "outputs": [
    {
     "name": "stdout",
     "output_type": "stream",
     "text": [
      "10 30 20 80 None\n"
     ]
    }
   ],
   "source": [
    "t=(10,30,20,80) \n",
    "def sample(m,n,o,p,q=None):   #1.solution\n",
    "    print(m,n,o,p,q)\n",
    "sample(*t)\n"
   ]
  },
  {
   "cell_type": "code",
   "execution_count": 18,
   "metadata": {},
   "outputs": [
    {
     "ename": "TypeError",
     "evalue": "sample() takes 4 positional arguments but 8 were given",
     "output_type": "error",
     "traceback": [
      "\u001b[1;31m---------------------------------------------------------------------------\u001b[0m",
      "\u001b[1;31mTypeError\u001b[0m                                 Traceback (most recent call last)",
      "\u001b[1;32mc:\\Users\\Shaik Imran\\Documents\\GitHub\\BASIC_PYTHON\\py_course\\functional_pro\\functions.ipynb Cell 43\u001b[0m line \u001b[0;36m4\n\u001b[0;32m      <a href='vscode-notebook-cell:/c%3A/Users/Shaik%20Imran/Documents/GitHub/BASIC_PYTHON/py_course/functional_pro/functions.ipynb#X60sZmlsZQ%3D%3D?line=1'>2</a>\u001b[0m \u001b[39mdef\u001b[39;00m \u001b[39msample\u001b[39m(m,n,o,p):\n\u001b[0;32m      <a href='vscode-notebook-cell:/c%3A/Users/Shaik%20Imran/Documents/GitHub/BASIC_PYTHON/py_course/functional_pro/functions.ipynb#X60sZmlsZQ%3D%3D?line=2'>3</a>\u001b[0m     \u001b[39mprint\u001b[39m(m,n,o,p)\n\u001b[1;32m----> <a href='vscode-notebook-cell:/c%3A/Users/Shaik%20Imran/Documents/GitHub/BASIC_PYTHON/py_course/functional_pro/functions.ipynb#X60sZmlsZQ%3D%3D?line=3'>4</a>\u001b[0m sample(\u001b[39m*\u001b[39;49mt)\n",
      "\u001b[1;31mTypeError\u001b[0m: sample() takes 4 positional arguments but 8 were given"
     ]
    }
   ],
   "source": [
    "t=(10,30,20,80,30,20,20,4034)  #problem 2 solution down\n",
    "def sample(m,n,o,p):\n",
    "    print(m,n,o,p)\n",
    "sample(*t)\n"
   ]
  },
  {
   "cell_type": "code",
   "execution_count": 21,
   "metadata": {},
   "outputs": [
    {
     "name": "stdout",
     "output_type": "stream",
     "text": [
      "10 30 20 80 (30, 20, 20, 4034)\n"
     ]
    }
   ],
   "source": [
    "t=(10,30,20,80,30,20,20,4034)  # 2.solution\n",
    "def sample(m,n,o,p,*args):\n",
    "    print(m,n,o,p,args)\n",
    "sample(*t)\n"
   ]
  },
  {
   "cell_type": "code",
   "execution_count": 25,
   "metadata": {},
   "outputs": [
    {
     "name": "stdout",
     "output_type": "stream",
     "text": [
      "10 20 30 40\n"
     ]
    }
   ],
   "source": [
    "t={'m':10,'n':20,'o':30,'p':40}\n",
    "def sample(m,n,o,p):\n",
    "    print(m,n,o,p)\n",
    "sample(**t)\n"
   ]
  },
  {
   "cell_type": "code",
   "execution_count": 26,
   "metadata": {},
   "outputs": [
    {
     "ename": "TypeError",
     "evalue": "sample() got an unexpected keyword argument 'm'",
     "output_type": "error",
     "traceback": [
      "\u001b[1;31m---------------------------------------------------------------------------\u001b[0m",
      "\u001b[1;31mTypeError\u001b[0m                                 Traceback (most recent call last)",
      "\u001b[1;32mc:\\Users\\Shaik Imran\\Documents\\GitHub\\BASIC_PYTHON\\py_course\\functional_pro\\functions.ipynb Cell 46\u001b[0m line \u001b[0;36m4\n\u001b[0;32m      <a href='vscode-notebook-cell:/c%3A/Users/Shaik%20Imran/Documents/GitHub/BASIC_PYTHON/py_course/functional_pro/functions.ipynb#X63sZmlsZQ%3D%3D?line=1'>2</a>\u001b[0m \u001b[39mdef\u001b[39;00m \u001b[39msample\u001b[39m(M,N,o,p):\n\u001b[0;32m      <a href='vscode-notebook-cell:/c%3A/Users/Shaik%20Imran/Documents/GitHub/BASIC_PYTHON/py_course/functional_pro/functions.ipynb#X63sZmlsZQ%3D%3D?line=2'>3</a>\u001b[0m     \u001b[39mprint\u001b[39m(M,N,o,p)\n\u001b[1;32m----> <a href='vscode-notebook-cell:/c%3A/Users/Shaik%20Imran/Documents/GitHub/BASIC_PYTHON/py_course/functional_pro/functions.ipynb#X63sZmlsZQ%3D%3D?line=3'>4</a>\u001b[0m sample(\u001b[39m*\u001b[39m\u001b[39m*\u001b[39mt)\n",
      "\u001b[1;31mTypeError\u001b[0m: sample() got an unexpected keyword argument 'm'"
     ]
    }
   ],
   "source": [
    "t={'m':10,'n':20,'o':30,'p':40}\n",
    "def sample(M,N,o,p):  #python case-sencitive\n",
    "    print(M,N,o,p)\n",
    "sample(**t)\n"
   ]
  },
  {
   "cell_type": "code",
   "execution_count": 27,
   "metadata": {},
   "outputs": [
    {
     "ename": "TypeError",
     "evalue": "sample() got an unexpected keyword argument 'p'",
     "output_type": "error",
     "traceback": [
      "\u001b[1;31m---------------------------------------------------------------------------\u001b[0m",
      "\u001b[1;31mTypeError\u001b[0m                                 Traceback (most recent call last)",
      "\u001b[1;32mc:\\Users\\Shaik Imran\\Documents\\GitHub\\BASIC_PYTHON\\py_course\\functional_pro\\functions.ipynb Cell 47\u001b[0m line \u001b[0;36m4\n\u001b[0;32m      <a href='vscode-notebook-cell:/c%3A/Users/Shaik%20Imran/Documents/GitHub/BASIC_PYTHON/py_course/functional_pro/functions.ipynb#X64sZmlsZQ%3D%3D?line=1'>2</a>\u001b[0m \u001b[39mdef\u001b[39;00m \u001b[39msample\u001b[39m(m,n,o):\n\u001b[0;32m      <a href='vscode-notebook-cell:/c%3A/Users/Shaik%20Imran/Documents/GitHub/BASIC_PYTHON/py_course/functional_pro/functions.ipynb#X64sZmlsZQ%3D%3D?line=2'>3</a>\u001b[0m     \u001b[39mprint\u001b[39m(m,n,o)\n\u001b[1;32m----> <a href='vscode-notebook-cell:/c%3A/Users/Shaik%20Imran/Documents/GitHub/BASIC_PYTHON/py_course/functional_pro/functions.ipynb#X64sZmlsZQ%3D%3D?line=3'>4</a>\u001b[0m sample(\u001b[39m*\u001b[39m\u001b[39m*\u001b[39mt)\n",
      "\u001b[1;31mTypeError\u001b[0m: sample() got an unexpected keyword argument 'p'"
     ]
    }
   ],
   "source": [
    "t={'m':10,'n':20,'o':30,'p':40} #prblm \n",
    "def sample(m,n,o):\n",
    "    print(m,n,o)\n",
    "sample(**t)\n"
   ]
  },
  {
   "cell_type": "code",
   "execution_count": 5,
   "metadata": {},
   "outputs": [
    {
     "name": "stdout",
     "output_type": "stream",
     "text": [
      "10 20 30 {'p': 40}\n"
     ]
    }
   ],
   "source": [
    "t={'m':10,'n':20,'o':30,'p':40}\n",
    "def sample(m,n,o,**args):\n",
    "    print(m,n,o,args)\n",
    "sample(**t)\n"
   ]
  },
  {
   "cell_type": "code",
   "execution_count": 38,
   "metadata": {},
   "outputs": [
    {
     "ename": "TypeError",
     "evalue": "sample() missing 1 required positional argument: 't'",
     "output_type": "error",
     "traceback": [
      "\u001b[1;31m---------------------------------------------------------------------------\u001b[0m",
      "\u001b[1;31mTypeError\u001b[0m                                 Traceback (most recent call last)",
      "\u001b[1;32mc:\\Users\\Shaik Imran\\Documents\\GitHub\\BASIC_PYTHON\\py_course\\functional_pro\\functions.ipynb Cell 49\u001b[0m line \u001b[0;36m4\n\u001b[0;32m      <a href='vscode-notebook-cell:/c%3A/Users/Shaik%20Imran/Documents/GitHub/BASIC_PYTHON/py_course/functional_pro/functions.ipynb#X66sZmlsZQ%3D%3D?line=1'>2</a>\u001b[0m \u001b[39mdef\u001b[39;00m \u001b[39msample\u001b[39m(m,n,o,p,t):\n\u001b[0;32m      <a href='vscode-notebook-cell:/c%3A/Users/Shaik%20Imran/Documents/GitHub/BASIC_PYTHON/py_course/functional_pro/functions.ipynb#X66sZmlsZQ%3D%3D?line=2'>3</a>\u001b[0m     \u001b[39mprint\u001b[39m(m,n,o,p,t)\n\u001b[1;32m----> <a href='vscode-notebook-cell:/c%3A/Users/Shaik%20Imran/Documents/GitHub/BASIC_PYTHON/py_course/functional_pro/functions.ipynb#X66sZmlsZQ%3D%3D?line=3'>4</a>\u001b[0m sample(\u001b[39m*\u001b[39m\u001b[39m*\u001b[39mt)\n",
      "\u001b[1;31mTypeError\u001b[0m: sample() missing 1 required positional argument: 't'"
     ]
    }
   ],
   "source": [
    "t={'m':10,'n':20,'o':30,'p':40}\n",
    "def sample(m,n,o,p,t):\n",
    "    print(m,n,o,p,t)\n",
    "sample(**t)\n"
   ]
  },
  {
   "cell_type": "code",
   "execution_count": 39,
   "metadata": {},
   "outputs": [
    {
     "name": "stdout",
     "output_type": "stream",
     "text": [
      "10 20 30 40 None\n"
     ]
    }
   ],
   "source": [
    "t={'m':10,'n':20,'o':30,'p':40}\n",
    "def sample(m,n,o,p,t=None):\n",
    "    print(m,n,o,p,t)\n",
    "sample(**t)\n"
   ]
  },
  {
   "cell_type": "markdown",
   "metadata": {},
   "source": [
    "NESTED FUNTION:\n",
    "1.a function  written inside another funtion is called as nested function\n",
    "\n",
    "syntax:\n",
    "\n",
    "def outer_fuc(args----):\n",
    "        set of statements\n",
    "        set of statements\n",
    "        inner_fuc(args----):\n",
    "                set of statements\n",
    "                set of statements\n",
    "                return/print\n",
    "        inner_fuc(args---)         #function call\n",
    "        return/print\n",
    "outer_fuc(args---)                 #function call"
   ]
  },
  {
   "cell_type": "code",
   "execution_count": 103,
   "metadata": {},
   "outputs": [
    {
     "name": "stdout",
     "output_type": "stream",
     "text": [
      "10 20\n",
      "100 200\n"
     ]
    },
    {
     "data": {
      "text/plain": [
       "<function __main__.outer.<locals>.inner(m, n)>"
      ]
     },
     "execution_count": 103,
     "metadata": {},
     "output_type": "execute_result"
    }
   ],
   "source": [
    "def outer(x,y):\n",
    "    print(x,y)\n",
    "    def inner(m,n):\n",
    "        print(m,n)\n",
    "    inner(100,200)\n",
    "    return inner\n",
    "outer(10,20)"
   ]
  },
  {
   "cell_type": "code",
   "execution_count": 46,
   "metadata": {},
   "outputs": [
    {
     "name": "stdout",
     "output_type": "stream",
     "text": [
      "10 20\n",
      "12 34\n",
      "89 48\n"
     ]
    }
   ],
   "source": [
    "def outer(x,y):\n",
    "    print(x,y)\n",
    "    def inner(m,n):\n",
    "        print(m,n)\n",
    "    return inner   #returns inner address\n",
    "res=outer(10,20)   #res stores inner_fuc address\n",
    "res=outer(12,34)(89,48)  #outer(12,34) returns address and (89,48) is address with paranthesis is function call...\n",
    "# print(res)\n",
    "# res(200,49)  #calling inner function outside the main function "
   ]
  },
  {
   "cell_type": "markdown",
   "metadata": {},
   "source": [
    "DECORATOR:\n",
    "1. the phenomenon of adding the new functionality to the existing function\n",
    "or \n",
    "adding the new task to the existing function. either before/after the execution or both\n",
    "2.decorator is function used to give the addition set of properties or features or functionalities to the other function/class\n",
    "3.decorator is a function which can takes function names as a arguments and extends its functionality and return a modified function whith extended functionalities\n",
    "4.the main object of decorator functon are, it can extend the fucntionality of existing function/class without modifying the main functionalities for functions/classes\n",
    "5.it is classified into 2 types\n",
    "  1.predifined decorator\n",
    "  2.user defined decorator\n",
    "6.the decorator we represent as @ of followed by decorator_function_name\n",
    "\n",
    "syntax: # decorator without return statement\n",
    "\n",
    "def outer(func/class):\n",
    "        def inner(*args,**kwargs):\n",
    "            before task\n",
    "            inner(*args,**kwargs)\n",
    "            after task\n",
    "        return inner\n",
    "def outer(func/class):\n",
    "    def inner(*args,**kwargs):\n",
    "        before task\n",
    "        result=func/class(*args,**kwargs)\n",
    "        after task\n",
    "        return result\n",
    "    return inner"
   ]
  },
  {
   "cell_type": "code",
   "execution_count": 8,
   "metadata": {},
   "outputs": [],
   "source": [
    "def outer(fucn):\n",
    "    def inner(*args,**kwargs):\n",
    "        print('haii')\n",
    "        fucn(*args,**kwargs)\n",
    "        print('bye')\n",
    "    return inner\n",
    "#next cell-relation"
   ]
  },
  {
   "cell_type": "code",
   "execution_count": 9,
   "metadata": {},
   "outputs": [
    {
     "name": "stdout",
     "output_type": "stream",
     "text": [
      "haii\n",
      "70 good morning\n",
      "bye\n"
     ]
    }
   ],
   "source": [
    "# @outer\n",
    "# def a(b):\n",
    "#     print('result')\n",
    "# a(2)\n",
    "# @outer\n",
    "def sample(a,b):\n",
    "    print(a+b,'good morning')\n",
    "# print(sample)\n",
    "sample=outer(sample)\n",
    "sample(20,50)"
   ]
  },
  {
   "cell_type": "code",
   "execution_count": 11,
   "metadata": {},
   "outputs": [],
   "source": [
    "def outer(fucn):\n",
    "    def inner(*args,**kwargs):\n",
    "        print('haii')\n",
    "        res=fucn(*args,**kwargs)\n",
    "        print('bye')\n",
    "        return res\n",
    "    return inner\n",
    "#next cell-relation"
   ]
  },
  {
   "cell_type": "code",
   "execution_count": 12,
   "metadata": {},
   "outputs": [
    {
     "name": "stdout",
     "output_type": "stream",
     "text": [
      "haii\n",
      "bye\n"
     ]
    },
    {
     "data": {
      "text/plain": [
       "(60, 'good afternon')"
      ]
     },
     "execution_count": 12,
     "metadata": {},
     "output_type": "execute_result"
    }
   ],
   "source": [
    "@outer\n",
    "def sample(a,b):\n",
    "    return a+b,'good afternon'\n",
    "sample(20,40)"
   ]
  },
  {
   "cell_type": "code",
   "execution_count": 1,
   "metadata": {},
   "outputs": [],
   "source": [
    "#decorator:ex\n",
    "def check_prime(func):\n",
    "    def inner(*args,**kwargs):\n",
    "        # print(args,kwargs)\n",
    "        d={2:True,3:True,11:True,17:True,97:True,6:False,8:False,10:False,123:False}\n",
    "        count=1\n",
    "        rating=0\n",
    "        for i in d:\n",
    "            if func(i)==d[i]:\n",
    "                res=f'Testcase{count} ==> input is {i} output is passed'\n",
    "                print(res)\n",
    "                count+=1\n",
    "                rating+=1\n",
    "            else:\n",
    "                res=f'Testcase{count} ==> input is {i} output is failed'\n",
    "                print(res)\n",
    "                count+=1\n",
    "        return rating\n",
    "    return inner"
   ]
  },
  {
   "cell_type": "code",
   "execution_count": 6,
   "metadata": {},
   "outputs": [
    {
     "name": "stdout",
     "output_type": "stream",
     "text": [
      "Testcase1 ==> input is 2 output is passed\n",
      "Testcase2 ==> input is 3 output is passed\n",
      "Testcase3 ==> input is 11 output is passed\n",
      "Testcase4 ==> input is 17 output is passed\n",
      "Testcase5 ==> input is 97 output is passed\n",
      "Testcase6 ==> input is 6 output is passed\n",
      "Testcase7 ==> input is 8 output is passed\n",
      "Testcase8 ==> input is 10 output is passed\n",
      "Testcase9 ==> input is 123 output is passed\n"
     ]
    },
    {
     "data": {
      "text/plain": [
       "9"
      ]
     },
     "execution_count": 6,
     "metadata": {},
     "output_type": "execute_result"
    }
   ],
   "source": [
    "@check_prime\n",
    "def prime(n):\n",
    "    for i in range(2,n):\n",
    "        # print(i)\n",
    "        if n%i==0:\n",
    "            # print('if')\n",
    "            return False\n",
    "    return True\n",
    "prime(3)"
   ]
  },
  {
   "cell_type": "code",
   "execution_count": 7,
   "metadata": {},
   "outputs": [
    {
     "name": "stdout",
     "output_type": "stream",
     "text": [
      "Testcase1 ==> input is 2 output is passed\n",
      "Testcase2 ==> input is 3 output is passed\n",
      "Testcase3 ==> input is 11 output is passed\n",
      "Testcase4 ==> input is 17 output is passed\n",
      "Testcase5 ==> input is 97 output is passed\n",
      "Testcase6 ==> input is 6 output is passed\n",
      "Testcase7 ==> input is 8 output is passed\n",
      "Testcase8 ==> input is 10 output is passed\n",
      "Testcase9 ==> input is 123 output is passed\n",
      "time 0.0010170936584472656\n"
     ]
    },
    {
     "data": {
      "text/plain": [
       "9"
      ]
     },
     "execution_count": 7,
     "metadata": {},
     "output_type": "execute_result"
    }
   ],
   "source": [
    "#example for time findig execution time\n",
    "import time\n",
    "def timer(func):\n",
    "    def inner(*args,**kwargs):\n",
    "        start=time.time()\n",
    "        res=func(*args,**kwargs)\n",
    "        # time.sleep(5)\n",
    "        end=time.time()\n",
    "        print('time',end-start)\n",
    "        return res\n",
    "    return inner\n",
    "\n",
    "def check_prime(func):\n",
    "    def inner(*args,**kwargs):\n",
    "        # print(args,kwargs)\n",
    "        d={2:True,3:True,11:True,17:True,97:True,6:False,8:False,10:False,123:False}\n",
    "        count=1\n",
    "        rating=0\n",
    "        for i in d:\n",
    "            if func(i)==d[i]:\n",
    "                res=f'Testcase{count} ==> input is {i} output is passed'\n",
    "                print(res)\n",
    "                rating+=1\n",
    "            else:\n",
    "                res=f'Testcase{count} ==> input is {i} output is failed'\n",
    "                print(res)\n",
    "            count+=1\n",
    "        return rating\n",
    "    return inner\n",
    "@timer\n",
    "@check_prime\n",
    "def prime(n):\n",
    "    for i in range(2,n):\n",
    "        # print(i)\n",
    "        if n%i==0:\n",
    "            # print('if')\n",
    "            return False\n",
    "    return True\n",
    "prime()"
   ]
  },
  {
   "cell_type": "markdown",
   "metadata": {},
   "source": [
    "Generator:\n",
    "1.it is a phenomenon of generating the values from method area to where all function is happend\n",
    "2.it will generate the sequence of values when we call or use the generator object\n",
    "3.generator it return generator object it contains set of values\n",
    "4.it will used the one time\n",
    "5.generator we can define functions with yield keyword \n",
    "\n",
    "yield: yield keyword it will carry the data from method area to generator object"
   ]
  },
  {
   "cell_type": "code",
   "execution_count": 14,
   "metadata": {},
   "outputs": [
    {
     "data": {
      "text/plain": [
       "<generator object sample at 0x0000015BDFC86730>"
      ]
     },
     "execution_count": 14,
     "metadata": {},
     "output_type": "execute_result"
    }
   ],
   "source": [
    "def sample(a):\n",
    "    l=[]\n",
    "    for i in range(0,a):\n",
    "        l+=[i]\n",
    "    print(l)\n",
    "    return l         #check ur doubt\n",
    "    for i in range(0,a):\n",
    "        yield i\n",
    "    print('dfjdlj')\n",
    "sample(5)\n",
    "# print(res)\n"
   ]
  },
  {
   "cell_type": "markdown",
   "metadata": {},
   "source": [
    "copied....18/10/23"
   ]
  },
  {
   "cell_type": "code",
   "execution_count": 13,
   "metadata": {},
   "outputs": [
    {
     "data": {
      "text/plain": [
       "<generator object sample at 0x000001A664A58BA0>"
      ]
     },
     "execution_count": 13,
     "metadata": {},
     "output_type": "execute_result"
    }
   ],
   "source": [
    "def sample():\n",
    "    a=10\n",
    "    print('a:',a)\n",
    "    yield a\n",
    "    b=20\n",
    "    print('b:',b)\n",
    "    yield b\n",
    "    c=30\n",
    "    print('c:',c)\n",
    "    yield c\n",
    "sample()"
   ]
  },
  {
   "cell_type": "code",
   "execution_count": 6,
   "metadata": {},
   "outputs": [
    {
     "name": "stdout",
     "output_type": "stream",
     "text": [
      "a: 10\n",
      "b: 20\n",
      "c: 30\n",
      "(10, 20, 30)\n",
      "set()\n"
     ]
    }
   ],
   "source": [
    "def sample():\n",
    "    a=10\n",
    "    print('a:',a)\n",
    "    yield a\n",
    "    b=20\n",
    "    print('b:',b)\n",
    "    yield b\n",
    "    c=30\n",
    "    print('c:',c)\n",
    "    yield c\n",
    "temp=sample()\n",
    "# print(temp)\n",
    "# print(list[temp])    \n",
    "print(tuple(temp))\n",
    "# print(set(temp)) #only 1 time we can use the Generator object\n",
    "\n",
    "#by using typecasting."
   ]
  },
  {
   "cell_type": "code",
   "execution_count": 8,
   "metadata": {},
   "outputs": [
    {
     "name": "stdout",
     "output_type": "stream",
     "text": [
      "a: 10\n",
      "10\n",
      "b: 20\n",
      "20\n",
      "c: 30\n",
      "30\n"
     ]
    }
   ],
   "source": [
    "#by using dyamic .\n",
    "\n",
    "def sample():\n",
    "    a=10\n",
    "    print('a:',a)\n",
    "    yield a\n",
    "    b=20\n",
    "    print('b:',b)\n",
    "    yield b\n",
    "    c=30\n",
    "    print('c:',c)\n",
    "    yield c\n",
    "temp=sample()\n",
    "for i in temp:\n",
    "    print(i)"
   ]
  },
  {
   "cell_type": "code",
   "execution_count": 29,
   "metadata": {},
   "outputs": [
    {
     "name": "stdout",
     "output_type": "stream",
     "text": [
      "[10, 20, 30, 50, 60, 40, 50, 16, 16, 14, 2, 10, 10, 10, 16, 14]\n",
      "res [10, 20, 30, 50, 60, 40, 50, 16, 16, 14, 2, 10, 10, 10, 16, 14]\n",
      "[]\n"
     ]
    }
   ],
   "source": [
    "a=[10,20,30,50,60,40,50]\n",
    "b=[15,3,16,19,1,21,16,14,17,2]\n",
    "c=[10,10,10,15,16,14,17,13]\n",
    "def  fun(*args):\n",
    "    l=[]\n",
    "    for j in args:\n",
    "        for i in j:\n",
    "            if type(i)in [int,float]and i%2==0:\n",
    "                l+=[i]\n",
    "    print(l)\n",
    "    return l   \n",
    "res=fun(a,b,c)\n",
    "print(\"res\",res)\n",
    "res.clear()\n",
    "print(res)        \n"
   ]
  },
  {
   "cell_type": "code",
   "execution_count": 30,
   "metadata": {},
   "outputs": [
    {
     "ename": "KeyboardInterrupt",
     "evalue": "",
     "output_type": "error",
     "traceback": [
      "\u001b[1;31m---------------------------------------------------------------------------\u001b[0m",
      "\u001b[1;31mKeyboardInterrupt\u001b[0m                         Traceback (most recent call last)",
      "\u001b[1;32mc:\\Users\\Shaik Imran\\Documents\\GitHub\\BASIC_PYTHON\\py_course\\functional_pro\\functions.ipynb Cell 69\u001b[0m line \u001b[0;36m1\n\u001b[0;32m     <a href='vscode-notebook-cell:/c%3A/Users/Shaik%20Imran/Documents/GitHub/BASIC_PYTHON/py_course/functional_pro/functions.ipynb#Y125sZmlsZQ%3D%3D?line=10'>11</a>\u001b[0m         time\u001b[39m.\u001b[39msleep(\u001b[39m10\u001b[39m)\n\u001b[0;32m     <a href='vscode-notebook-cell:/c%3A/Users/Shaik%20Imran/Documents/GitHub/BASIC_PYTHON/py_course/functional_pro/functions.ipynb#Y125sZmlsZQ%3D%3D?line=11'>12</a>\u001b[0m r\u001b[39m=\u001b[39mdemo(a,b,c)\n\u001b[1;32m---> <a href='vscode-notebook-cell:/c%3A/Users/Shaik%20Imran/Documents/GitHub/BASIC_PYTHON/py_course/functional_pro/functions.ipynb#Y125sZmlsZQ%3D%3D?line=12'>13</a>\u001b[0m \u001b[39mprint\u001b[39m(\u001b[39mlist\u001b[39;49m(r))        \n",
      "\u001b[1;32mc:\\Users\\Shaik Imran\\Documents\\GitHub\\BASIC_PYTHON\\py_course\\functional_pro\\functions.ipynb Cell 69\u001b[0m line \u001b[0;36m1\n\u001b[0;32m      <a href='vscode-notebook-cell:/c%3A/Users/Shaik%20Imran/Documents/GitHub/BASIC_PYTHON/py_course/functional_pro/functions.ipynb#Y125sZmlsZQ%3D%3D?line=8'>9</a>\u001b[0m     \u001b[39mif\u001b[39;00m \u001b[39mtype\u001b[39m(j)\u001b[39m==\u001b[39m \u001b[39mint\u001b[39m \u001b[39mand\u001b[39;00m j\u001b[39m%\u001b[39m\u001b[39m2\u001b[39m\u001b[39m==\u001b[39m\u001b[39m0\u001b[39m:\n\u001b[0;32m     <a href='vscode-notebook-cell:/c%3A/Users/Shaik%20Imran/Documents/GitHub/BASIC_PYTHON/py_course/functional_pro/functions.ipynb#Y125sZmlsZQ%3D%3D?line=9'>10</a>\u001b[0m         \u001b[39myield\u001b[39;00m j\n\u001b[1;32m---> <a href='vscode-notebook-cell:/c%3A/Users/Shaik%20Imran/Documents/GitHub/BASIC_PYTHON/py_course/functional_pro/functions.ipynb#Y125sZmlsZQ%3D%3D?line=10'>11</a>\u001b[0m time\u001b[39m.\u001b[39;49msleep(\u001b[39m10\u001b[39;49m)\n",
      "\u001b[1;31mKeyboardInterrupt\u001b[0m: "
     ]
    }
   ],
   "source": [
    "a=[10,20,30,50,60,40,50]\n",
    "b=[15,3,16,19,1,21,16,14,17,2]\n",
    "c=[10,10,10,15,16,14,17,13]\n",
    "import time\n",
    "def  demo(*args):\n",
    "    \n",
    "    for i in args:\n",
    "        for j in i:\n",
    "            if type(j)== int and j%2==0:\n",
    "                yield j\n",
    "        time.sleep(10)\n",
    "r=demo(a,b,c)\n",
    "print(list(r))        \n"
   ]
  },
  {
   "cell_type": "code",
   "execution_count": 3,
   "metadata": {},
   "outputs": [
    {
     "name": "stdout",
     "output_type": "stream",
     "text": [
      "<function <lambda> at 0x0000019DB4AE75B0>\n",
      "10\n"
     ]
    }
   ],
   "source": [
    "print(lambda:10)\n",
    "res=lambda:10\n",
    "# print(res)\n",
    "print(res())"
   ]
  },
  {
   "cell_type": "code",
   "execution_count": 14,
   "metadata": {},
   "outputs": [
    {
     "name": "stdout",
     "output_type": "stream",
     "text": [
      "10\n"
     ]
    }
   ],
   "source": [
    "res=lambda a:10\n",
    "# print(res)\n",
    "print(res(20))"
   ]
  },
  {
   "cell_type": "code",
   "execution_count": 9,
   "metadata": {},
   "outputs": [
    {
     "name": "stdout",
     "output_type": "stream",
     "text": [
      "<function <lambda> at 0x0000019DB4AE7640>\n",
      "50\n"
     ]
    }
   ],
   "source": [
    "res=lambda a:30+a\n",
    "print(res)\n",
    "print(res(20))"
   ]
  },
  {
   "cell_type": "code",
   "execution_count": 16,
   "metadata": {},
   "outputs": [
    {
     "name": "stdout",
     "output_type": "stream",
     "text": [
      "<function <lambda> at 0x0000019DB4C9B370>\n",
      "30\n"
     ]
    }
   ],
   "source": [
    "res=lambda a,b:a+b\n",
    "print(res)\n",
    "print(res(10,20))"
   ]
  },
  {
   "cell_type": "code",
   "execution_count": 17,
   "metadata": {},
   "outputs": [
    {
     "name": "stdout",
     "output_type": "stream",
     "text": [
      "<function <lambda> at 0x0000019DB4C9BE20>\n",
      "None\n"
     ]
    }
   ],
   "source": [
    "res=lambda a:None\n",
    "print(res)\n",
    "print(res(10))"
   ]
  },
  {
   "cell_type": "code",
   "execution_count": 18,
   "metadata": {},
   "outputs": [
    {
     "data": {
      "text/plain": [
       "'a'"
      ]
     },
     "execution_count": 18,
     "metadata": {},
     "output_type": "execute_result"
    }
   ],
   "source": [
    "#wap to check the given chr is uppercase or not. if it uppercase\n",
    "#convert to lowercase. if lowercase return ascii value of given chr using functions\n",
    "ch='A'\n",
    "def sample(ch):\n",
    "    if len(ch)==1 and 'A'<=ch<='Z':\n",
    "        return chr(ord(ch)+32)\n",
    "    else:\n",
    "        return ord(ch)\n",
    "sample(ch)"
   ]
  },
  {
   "cell_type": "code",
   "execution_count": 23,
   "metadata": {},
   "outputs": [
    {
     "data": {
      "text/plain": [
       "'a'"
      ]
     },
     "execution_count": 23,
     "metadata": {},
     "output_type": "execute_result"
    }
   ],
   "source": [
    "ch='A'\n",
    "def isupper(ch):\n",
    "    return chr(ord(ch)+32) if len(ch)==1 and 'A'<=ch<='Z' else ord(ch)\n",
    "isupper(ch)"
   ]
  },
  {
   "cell_type": "code",
   "execution_count": 27,
   "metadata": {},
   "outputs": [
    {
     "data": {
      "text/plain": [
       "'a'"
      ]
     },
     "execution_count": 27,
     "metadata": {},
     "output_type": "execute_result"
    }
   ],
   "source": [
    "ch='A'\n",
    "def isupper(ch): return[ord(ch),chr(ord(ch)+32)][len(ch)==1 and 'A'<=ch<='Z']\n",
    "isupper(ch)"
   ]
  },
  {
   "cell_type": "code",
   "execution_count": 29,
   "metadata": {},
   "outputs": [
    {
     "name": "stdout",
     "output_type": "stream",
     "text": [
      "106\n"
     ]
    }
   ],
   "source": [
    "print((lambda ch:[ord(ch),chr(ord(ch)+32)][len(ch)==1 and 'A'<=ch<='Z'])(input(\"enter the value\")))"
   ]
  },
  {
   "cell_type": "code",
   "execution_count": 31,
   "metadata": {},
   "outputs": [
    {
     "name": "stdout",
     "output_type": "stream",
     "text": [
      "97\n"
     ]
    }
   ],
   "source": [
    "print((lambda ch:[ord(ch),chr(ord(ch)+32)][len(ch)==1 and 'A'<=ch<='Z'])(input('enter value')))"
   ]
  },
  {
   "cell_type": "code",
   "execution_count": 34,
   "metadata": {},
   "outputs": [
    {
     "name": "stdout",
     "output_type": "stream",
     "text": [
      "8\n",
      "343000\n",
      "38\n"
     ]
    }
   ],
   "source": [
    "#wap to check the given num is div by 5 and 7.\n",
    "#if it is div return cube of the given value\n",
    "#else to return half of the given value by using functions\n",
    "\n",
    "def check_number(num):\n",
    "    if num%5==0 and num%7==0:\n",
    "        return num**3\n",
    "    else:\n",
    "        return num//2\n",
    "print(check_number(16))\n",
    "print(check_number(70))\n",
    "print(check_number(77))"
   ]
  },
  {
   "cell_type": "code",
   "execution_count": 4,
   "metadata": {},
   "outputs": [
    {
     "data": {
      "text/plain": [
       "18"
      ]
     },
     "execution_count": 4,
     "metadata": {},
     "output_type": "execute_result"
    }
   ],
   "source": [
    "res=lambda num:num**3 if num%5==0 and num%7==0 else num//2\n",
    "res(36)"
   ]
  },
  {
   "cell_type": "code",
   "execution_count": 44,
   "metadata": {},
   "outputs": [
    {
     "name": "stdout",
     "output_type": "stream",
     "text": [
      "[1, 2, 3, 4, 5]\n"
     ]
    }
   ],
   "source": [
    "#wap to store sequence of values from 1 to nth.\n",
    "start=1\n",
    "end=eval(input('enter the value:'))\n",
    "l=[]\n",
    "while start<=end:\n",
    "    l+=[start]\n",
    "    start+=1\n",
    "print(l)"
   ]
  },
  {
   "cell_type": "code",
   "execution_count": 45,
   "metadata": {},
   "outputs": [
    {
     "data": {
      "text/plain": [
       "[1, 2, 3, 4, 5, 6, 7, 8, 9, 10, 11, 12, 13, 14, 15]"
      ]
     },
     "execution_count": 45,
     "metadata": {},
     "output_type": "execute_result"
    }
   ],
   "source": [
    "def seq(end=10):\n",
    "    l=[]\n",
    "    start=1\n",
    "    while start<=end:\n",
    "        l+=[start]\n",
    "        start+=1\n",
    "    return l\n",
    "seq(15)"
   ]
  },
  {
   "cell_type": "code",
   "execution_count": 46,
   "metadata": {},
   "outputs": [
    {
     "data": {
      "text/plain": [
       "[1, 2, 3, 4, 5, 6, 7, 8, 9, 10, 11, 12, 13, 14]"
      ]
     },
     "execution_count": 46,
     "metadata": {},
     "output_type": "execute_result"
    }
   ],
   "source": [
    "def seq1(end=10):\n",
    "    l=[]\n",
    "    for i in range(1,end+1):\n",
    "        l+=[i]\n",
    "    return l\n",
    "seq1(14)"
   ]
  },
  {
   "cell_type": "code",
   "execution_count": 48,
   "metadata": {},
   "outputs": [
    {
     "name": "stdout",
     "output_type": "stream",
     "text": [
      "[1, 2, 3, 4, 5]\n"
     ]
    }
   ],
   "source": [
    "var=[i for i in range(1,eval(input('enter value:'))+1)]\n",
    "print(var)"
   ]
  },
  {
   "cell_type": "code",
   "execution_count": 49,
   "metadata": {},
   "outputs": [
    {
     "data": {
      "text/plain": [
       "[1, 2, 3, 4, 5]"
      ]
     },
     "execution_count": 49,
     "metadata": {},
     "output_type": "execute_result"
    }
   ],
   "source": [
    "def sample(end=10):\n",
    "    return [i for i in range(1,end+1)]\n",
    "sample(eval(input('enter integer value')))"
   ]
  },
  {
   "cell_type": "code",
   "execution_count": 50,
   "metadata": {},
   "outputs": [
    {
     "data": {
      "text/plain": [
       "[1, 2, 3, 4, 5]"
      ]
     },
     "execution_count": 50,
     "metadata": {},
     "output_type": "execute_result"
    }
   ],
   "source": [
    "var=lambda:[i for i in range(1,eval(input('enter number'))+1)]\n",
    "var()"
   ]
  },
  {
   "cell_type": "code",
   "execution_count": 53,
   "metadata": {},
   "outputs": [
    {
     "name": "stdout",
     "output_type": "stream",
     "text": [
      "[12, 13, 14, 15, 16, 17]\n",
      "[12, 13, 14, 15, 16, 17]\n"
     ]
    }
   ],
   "source": [
    "st='12 13 14 15 16 17'\n",
    "l=[]\n",
    "for i in st.split():\n",
    "    l+=[int(i)]\n",
    "print(l)\n",
    "\n",
    "st='12 13 14 15 16 17'\n",
    "var=lambda:[int(i) for i in st.split()]\n",
    "print(var())"
   ]
  },
  {
   "cell_type": "code",
   "execution_count": 59,
   "metadata": {},
   "outputs": [
    {
     "name": "stdout",
     "output_type": "stream",
     "text": [
      "6\n",
      "6\n",
      "6\n"
     ]
    }
   ],
   "source": [
    "#wap to count the num of vowels in given string.\n",
    "#wap to count the num of vowels in given string.without count.\n",
    "\n",
    "st='aizensosuke'\n",
    "def count1(coll):\n",
    "    c=0\n",
    "    for i in coll:\n",
    "        if i in 'AEIOUaeiou':\n",
    "            c+=1\n",
    "    return c\n",
    "print(count1(st))\n",
    "#---------\n",
    "st='aizensosuke'\n",
    "\n",
    "def count1(coll):\n",
    "    c=[]\n",
    "    for i in coll:\n",
    "        if i in 'aeiouAEIOU':\n",
    "            c+=[i]\n",
    "    return len(c)\n",
    "print(count1(st))\n",
    "\n",
    "#----------------\n",
    "var=lambda:len([i for i in st if i in 'AEIOUaeiou'])\n",
    "print(var())"
   ]
  },
  {
   "cell_type": "code",
   "execution_count": 66,
   "metadata": {},
   "outputs": [
    {
     "name": "stdout",
     "output_type": "stream",
     "text": [
      "[12, 14, 16, 18]\n"
     ]
    }
   ],
   "source": [
    "st='12 13 14 15 16 17 18 19'\n",
    "# l=[12,5,16,18]\n",
    "\n",
    "var=lambda:[int(i) for i in st.split() if int(i)%2==0]\n",
    "print(var())"
   ]
  },
  {
   "cell_type": "markdown",
   "metadata": {},
   "source": [
    "live----"
   ]
  },
  {
   "cell_type": "code",
   "execution_count": null,
   "metadata": {},
   "outputs": [],
   "source": [
    "#recursion\n",
    "#a function with calls by itself"
   ]
  },
  {
   "cell_type": "code",
   "execution_count": 1,
   "metadata": {},
   "outputs": [
    {
     "data": {
      "text/plain": [
       "55"
      ]
     },
     "execution_count": 1,
     "metadata": {},
     "output_type": "execute_result"
    }
   ],
   "source": [
    "#wap to print sum of digits using functions\n",
    "def sum1(num,sum=0):\n",
    "    if num==0:\n",
    "        return sum\n",
    "    sum+=num\n",
    "    return sum1(num-1,sum)\n",
    "sum1(10)"
   ]
  },
  {
   "cell_type": "code",
   "execution_count": 2,
   "metadata": {},
   "outputs": [
    {
     "data": {
      "text/plain": [
       "'prime'"
      ]
     },
     "execution_count": 2,
     "metadata": {},
     "output_type": "execute_result"
    }
   ],
   "source": [
    "#wap to check the given number is prime number or not\n",
    "# def prime(num,i=1,count=0):\n",
    "#     while i<=num:\n",
    "#         if num%i==0:\n",
    "#             count+=1 \n",
    "#         i+=1\n",
    "#     return ['not prime','prime'][count==2]  \n",
    "# prime(6)      \n",
    "#---\n",
    "def prime1(num,i=1,count=0):\n",
    "    if num==i:\n",
    "        return ['not prime','prime'][count==1]\n",
    "    if num%i==0:\n",
    "        count+=1\n",
    "    return prime1(num,i+1,count)\n",
    "prime1(2)\n",
    "#---\n",
    "def prime1(num,i=2,count=0):\n",
    "    if num==i:\n",
    "        return ['not prime','prime'][count==0]\n",
    "    if num%i==0:\n",
    "        count+=1\n",
    "    return prime1(num,i+1,count)\n",
    "prime1(7)"
   ]
  },
  {
   "cell_type": "markdown",
   "metadata": {},
   "source": [
    "GLOBAL VARIABLE     GLOBAL SPACE    LOCAL SPACE                       NON LOCAL SPACE\n",
    "\n",
    "Initialization      possible        possible(Global keyword)          possible(Global keyword)   \n",
    "Fetch               possible        possible                          possible\n",
    "Reinitialization    possible        possible(Global keyword)          possible(Global keyword)\n",
    "Delete              possible        possible(Global keyword)          possible(Global keyword)"
   ]
  },
  {
   "cell_type": "code",
   "execution_count": 18,
   "metadata": {},
   "outputs": [
    {
     "data": {
      "text/plain": [
       "120"
      ]
     },
     "execution_count": 18,
     "metadata": {},
     "output_type": "execute_result"
    }
   ],
   "source": [
    "def fact(n,factt=1):\n",
    "    if n==0:\n",
    "        return factt\n",
    "    factt*=n\n",
    "    # print(factt)\n",
    "    return fact(n-1,factt)\n",
    "fact(5)"
   ]
  }
 ],
 "metadata": {
  "kernelspec": {
   "display_name": "Python 3",
   "language": "python",
   "name": "python3"
  },
  "language_info": {
   "codemirror_mode": {
    "name": "ipython",
    "version": 3
   },
   "file_extension": ".py",
   "mimetype": "text/x-python",
   "name": "python",
   "nbconvert_exporter": "python",
   "pygments_lexer": "ipython3",
   "version": "3.10.7"
  },
  "orig_nbformat": 4
 },
 "nbformat": 4,
 "nbformat_minor": 2
}
