{
 "cells": [
  {
   "cell_type": "code",
   "execution_count": 4,
   "metadata": {},
   "outputs": [
    {
     "name": "stdout",
     "output_type": "stream",
     "text": [
      "<re.Match object; span=(6, 9), match='hai'>\n",
      "<re.Match object; span=(10, 13), match='bye'>\n",
      "None\n",
      "<re.Match object; span=(6, 9), match='hai'>\n"
     ]
    }
   ],
   "source": [
    "#04/12/23\n",
    "import re\n",
    "s='hello hai bye'\n",
    "res=re.search('hai',s)\n",
    "print(res)\n",
    "\n",
    "res=re.search('bye',s)\n",
    "print(res)\n",
    "\n",
    "res=re.search('Bye',s)\n",
    "print(res)\n",
    "\n",
    "s='hello hai bye hai'\n",
    "res=re.search('hai',s) #search() stops at first matching\n",
    "print(res)"
   ]
  },
  {
   "cell_type": "code",
   "execution_count": 5,
   "metadata": {},
   "outputs": [
    {
     "name": "stdout",
     "output_type": "stream",
     "text": [
      "['hello', 'hai', 'bye', 'hai']\n"
     ]
    }
   ],
   "source": [
    "#split()\n",
    "s='hello hai bye hai'\n",
    "res=re.split(' ',s)\n",
    "print(res)"
   ]
  },
  {
   "cell_type": "code",
   "execution_count": 9,
   "metadata": {},
   "outputs": [
    {
     "name": "stdout",
     "output_type": "stream",
     "text": [
      "girls say something\n"
     ]
    }
   ],
   "source": [
    "#sub() # is used to replace \n",
    "s='boys say something'\n",
    "res=re.sub('boys','girls',s)\n",
    "print(res)"
   ]
  },
  {
   "cell_type": "code",
   "execution_count": 7,
   "metadata": {},
   "outputs": [
    {
     "name": "stdout",
     "output_type": "stream",
     "text": [
      "['hai', 'hai']\n"
     ]
    }
   ],
   "source": [
    "#findall()\n",
    "s='hello hai bye hai'\n",
    "res=re.findall('hai',s)\n",
    "print(res)"
   ]
  },
  {
   "cell_type": "code",
   "execution_count": 11,
   "metadata": {},
   "outputs": [
    {
     "name": "stdout",
     "output_type": "stream",
     "text": [
      "['nagi']\n",
      "[]\n"
     ]
    }
   ],
   "source": [
    "#^\n",
    "s='nagi reddy have Ipone 13'\n",
    "res=re.findall('^nagi',s)\n",
    "print(res)\n",
    "res=re.findall('^13',s)\n",
    "print(res)"
   ]
  },
  {
   "cell_type": "code",
   "execution_count": 13,
   "metadata": {},
   "outputs": [
    {
     "name": "stdout",
     "output_type": "stream",
     "text": [
      "['a']\n",
      "[]\n"
     ]
    }
   ],
   "source": [
    "#$\n",
    "s='dhanush girlfriend name is priyanka'\n",
    "res=re.findall('a$',s)\n",
    "print(res)\n",
    "res=re.findall('Priyanka$',s) #case \n",
    "print(res)"
   ]
  },
  {
   "cell_type": "code",
   "execution_count": 18,
   "metadata": {},
   "outputs": [
    {
     "name": "stdout",
     "output_type": "stream",
     "text": [
      "['ashish']\n"
     ]
    }
   ],
   "source": [
    "#.\n",
    "s='ashish idol is his own father'\n",
    "res=re.findall('a...sh',s)\n",
    "print(res)"
   ]
  },
  {
   "cell_type": "code",
   "execution_count": 15,
   "metadata": {},
   "outputs": [
    {
     "name": "stdout",
     "output_type": "stream",
     "text": [
      "['121', '141']\n"
     ]
    }
   ],
   "source": [
    "s='121 141 122 422'\n",
    "res=re.findall('1.1',s)\n",
    "print(res)"
   ]
  },
  {
   "cell_type": "code",
   "execution_count": 29,
   "metadata": {},
   "outputs": [
    {
     "name": "stdout",
     "output_type": "stream",
     "text": [
      "['d', 'e', 'r', 'a', 'b', 'a', 'd', 'i', 'y', 'a', 'n', 'i', 'l', 'a', 't']\n",
      "['H', 'Y', 'B', 'R', 'P', 'E']\n",
      "['5']\n",
      "['e', 'a', 'a', 'i', 'a', 'i', 'a', 'E']\n",
      "['H', 'Y', 'd', 'r', 'b', 'd', ' ', 'B', 'R', 'y', 'n', ' ', '5', ' ', 'P', 'l', 't']\n"
     ]
    }
   ],
   "source": [
    "s='HYderabad BiRyani 5 PlatE'\n",
    "res=re.findall('[a-z]',s)\n",
    "print(res)\n",
    "\n",
    "res=re.findall('[A-Z]',s)\n",
    "print(res)\n",
    "\n",
    "res=re.findall('[0-9]',s)\n",
    "print(res)\n",
    "\n",
    "\n",
    "res=re.findall('[aeiouAEIOU]',s)\n",
    "print(res)\n",
    "\n",
    "res=re.findall('[^aeiouAEIOU]',s)   #returns the characters apart from specified\n",
    "print(res)\n",
    "\n"
   ]
  }
 ],
 "metadata": {
  "kernelspec": {
   "display_name": "Python 3",
   "language": "python",
   "name": "python3"
  },
  "language_info": {
   "codemirror_mode": {
    "name": "ipython",
    "version": 3
   },
   "file_extension": ".py",
   "mimetype": "text/x-python",
   "name": "python",
   "nbconvert_exporter": "python",
   "pygments_lexer": "ipython3",
   "version": "3.10.7"
  }
 },
 "nbformat": 4,
 "nbformat_minor": 2
}
