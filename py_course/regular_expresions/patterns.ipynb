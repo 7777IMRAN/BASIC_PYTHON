{
 "cells": [
  {
   "cell_type": "markdown",
   "metadata": {},
   "source": [
    "05/12/23"
   ]
  },
  {
   "cell_type": "code",
   "execution_count": 2,
   "metadata": {},
   "outputs": [
    {
     "name": "stdout",
     "output_type": "stream",
     "text": [
      "['8', '0', '1', '0', '0']\n",
      "['v', 'i', 'r', 'a', 't', ' ', ' ', 'c', 'e', 'n', 't', 'u', 'r', 'i', 'e', 's', ' ', 'a', 'n', 'd', ' ', 's', 'a', 'c', 'h', 'i', 'n', ' ', 'g', 'o', 't', ' ', ' ', 'c', 'e', 'n', 't', 'u', 'r', 'i', 'e', 's']\n"
     ]
    }
   ],
   "source": [
    "import re\n",
    "#\\d\n",
    "s='virat 80 centuries and sachin got 100 centuries'\n",
    "res=re.findall('\\d',s)  #for numbers\n",
    "print(res)\n",
    "\n",
    "#\\D\n",
    "res=re.findall('\\D',s)  #except numbers remaining\n",
    "print(res)"
   ]
  },
  {
   "cell_type": "code",
   "execution_count": 4,
   "metadata": {},
   "outputs": [
    {
     "name": "stdout",
     "output_type": "stream",
     "text": [
      "['W', 'e', 'u', 's', 'e', 's', 'm', 'a', 'k', 'e', '_', 'c', 'a', 's', 'e', 'i', 'n', 'p', 'y', 't', 'h', 'o', 'n', '3', '1', '1']\n",
      "['@', ' ', '.', ' ', ' ', '*']\n"
     ]
    }
   ],
   "source": [
    "import re\n",
    "# \\w:only numbers , alphabets\n",
    "s='We use smake_case in python 3.11'\n",
    "res=re.findall('\\w',s)\n",
    "print(res)\n",
    "\n",
    "# \\W: except numbers ans alphabets remaining\n",
    "s='@python 3.11 in *'\n",
    "res=re.findall('\\W',s)\n",
    "print(res)"
   ]
  },
  {
   "cell_type": "code",
   "execution_count": 9,
   "metadata": {},
   "outputs": [
    {
     "name": "stdout",
     "output_type": "stream",
     "text": [
      "[' ', ' ', '\\t', ' ', '\\n', ' ', ' ', '\\t']\n",
      "['@', 'c', 'l', 'i', 'm', 'a', 't', 'e', 'i', 's', 'g', 'r', 'e', 'a', 't', 'T', 'O', 'D', 'A', 'Y', '1', '2', '3']\n"
     ]
    }
   ],
   "source": [
    "import re\n",
    "# \\s\n",
    "s='@ climate is\\tgreat \\nTODAY 123 \\t'\n",
    "res=re.findall('\\s',s)\n",
    "print(res)\n",
    "\n",
    "#\\S \n",
    "#except \\s remaining\n",
    "s='@ climate is great TODAY 123 \\t'\n",
    "res=re.findall('\\S',s)\n",
    "print(res)"
   ]
  },
  {
   "cell_type": "code",
   "execution_count": 11,
   "metadata": {},
   "outputs": [
    {
     "name": "stdout",
     "output_type": "stream",
     "text": [
      "['climate']\n",
      "[]\n"
     ]
    }
   ],
   "source": [
    "import re\n",
    "#\\b\n",
    "# similar to starts with\n",
    "s='climate is great TODAY'\n",
    "res=re.findall(r'climate\\b',s)\n",
    "print(res)\n",
    "\n",
    "res=re.findall(r'Climate\\b',s)\n",
    "print(res)"
   ]
  },
  {
   "cell_type": "code",
   "execution_count": 14,
   "metadata": {},
   "outputs": [
    {
     "name": "stdout",
     "output_type": "stream",
     "text": [
      "['e', 'e', 'e', 'e', 'e', 'e', 'e']\n",
      "['ee', 'ee']\n",
      "['eee']\n"
     ]
    }
   ],
   "source": [
    "# {}\n",
    "s='a friend in need is a friend in deeed'\n",
    "res=re.findall('e{1}',s)\n",
    "print(res)\n",
    "\n",
    "s='a friend in need is a friend in deeed'\n",
    "res=re.findall('e{2}',s)\n",
    "print(res)\n",
    "\n",
    "s='a friend in need is a friend in deeed'\n",
    "res=re.findall('e{3}',s)\n",
    "print(res)"
   ]
  },
  {
   "cell_type": "code",
   "execution_count": 16,
   "metadata": {},
   "outputs": [
    {
     "name": "stdout",
     "output_type": "stream",
     "text": [
      "['eed', 'ed', 'eed', 'eed', 'eed', 'ed', 'eed']\n"
     ]
    }
   ],
   "source": [
    "# ?\n",
    "# in regular expressions, the ? is a special character known as the \n",
    "# \"question mark\" or \"zero or one quantifier\"\n",
    "# it indicates that the preceding character or group in the \n",
    "# pattern is optional, meaning it can occur either zero times or exactly once.\n",
    "\n",
    "s='deed bed speed bleed bleed beared feed'\n",
    "res=re.findall('e?ed',s)\n",
    "print(res)"
   ]
  },
  {
   "cell_type": "code",
   "execution_count": 19,
   "metadata": {},
   "outputs": [
    {
     "name": "stdout",
     "output_type": "stream",
     "text": [
      "[('1', ' '), ('2', ' '), ('3', ' ')]\n",
      "[('h', '1'), ('n', '2'), ('e', '3'), ('a', '4')]\n"
     ]
    }
   ],
   "source": [
    "# ()\n",
    "s='dhanush1 nithin2 sahithe3 surya4'\n",
    "res=re.findall('(\\d)(\\s)',s)\n",
    "print(res)\n",
    "\n",
    "s='dhanush1 nithin2 sahithe3 surya4'\n",
    "res=re.findall('(\\w)(\\d)',s)\n",
    "print(res)"
   ]
  },
  {
   "cell_type": "code",
   "execution_count": 20,
   "metadata": {},
   "outputs": [
    {
     "name": "stdout",
     "output_type": "stream",
     "text": [
      "['', '', '', '', '', 'e', '', '', '', '', '', '', '', 'ee', '', '', '', '', '', '', '', '', '', '', 'e', '', '', '', '', '', '', '', 'ee', '', '']\n"
     ]
    }
   ],
   "source": [
    "# *\n",
    "s='a friend in need is a friend in deed'\n",
    "res=re.findall('e*',s)\n",
    "print(res)"
   ]
  },
  {
   "cell_type": "code",
   "execution_count": 21,
   "metadata": {},
   "outputs": [
    {
     "name": "stdout",
     "output_type": "stream",
     "text": [
      "['e', 'ee', 'e', 'ee']\n"
     ]
    }
   ],
   "source": [
    "# +\n",
    "s='a friend in need is a friend in deed'\n",
    "res=re.findall('e+',s)\n",
    "print(res)"
   ]
  }
 ],
 "metadata": {
  "kernelspec": {
   "display_name": "Python 3",
   "language": "python",
   "name": "python3"
  },
  "language_info": {
   "codemirror_mode": {
    "name": "ipython",
    "version": 3
   },
   "file_extension": ".py",
   "mimetype": "text/x-python",
   "name": "python",
   "nbconvert_exporter": "python",
   "pygments_lexer": "ipython3",
   "version": "3.10.7"
  }
 },
 "nbformat": 4,
 "nbformat_minor": 2
}
