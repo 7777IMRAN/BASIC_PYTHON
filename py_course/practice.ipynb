{
 "cells": [
  {
   "cell_type": "code",
   "execution_count": 1,
   "metadata": {},
   "outputs": [
    {
     "name": "stdout",
     "output_type": "stream",
     "text": [
      "['aaabc', 'aabc', 'abc', 'astuv', 'def']\n"
     ]
    }
   ],
   "source": [
    "#03/04/2024\n",
    "lis=['abc','aabc','aaabc','def','astuv']\n",
    "print(sorted(lis))"
   ]
  },
  {
   "cell_type": "code",
   "execution_count": 3,
   "metadata": {},
   "outputs": [
    {
     "name": "stdout",
     "output_type": "stream",
     "text": [
      "['1', '2']\n",
      "(1, 2)\n",
      "-3550055125485641917\n"
     ]
    }
   ],
   "source": [
    "# i, c = input().split()\n",
    "# print(i,c)\n",
    "integers = input().split()\n",
    "print(integers)\n",
    "t = tuple(map(int, integers))\n",
    "print(t)\n",
    "print(hash(t))"
   ]
  },
  {
   "cell_type": "code",
   "execution_count": 6,
   "metadata": {},
   "outputs": [
    {
     "name": "stdout",
     "output_type": "stream",
     "text": [
      "enter reversing number:2012\n",
      "2102\n"
     ]
    }
   ],
   "source": [
    "#reverse given number\n",
    "def reverse(num):\n",
    "    print(f'enter reversing number:{num}')\n",
    "    rev=0\n",
    "    ld=0\n",
    "    while num:\n",
    "        ld=num%10\n",
    "        rev=rev*10+ld\n",
    "        num=num//10\n",
    "    return rev\n",
    "num=int(input('enter reversing number:'))\n",
    "output=reverse(num)\n",
    "print(output)"
   ]
  },
  {
   "cell_type": "code",
   "execution_count": 5,
   "metadata": {},
   "outputs": [
    {
     "name": "stdout",
     "output_type": "stream",
     "text": [
      "True\n"
     ]
    }
   ],
   "source": [
    "#leap year\n",
    "\n",
    "def leap(num):\n",
    "    if num%4==0:\n",
    "        if num%100==0:\n",
    "            if num%400==0:\n",
    "                return True\n",
    "            else:\n",
    "                return False\n",
    "        else:\n",
    "            return True\n",
    "num=int(input('enter year number:'))\n",
    "output=leap(num)\n",
    "print(output)"
   ]
  },
  {
   "cell_type": "code",
   "execution_count": 1,
   "metadata": {},
   "outputs": [
    {
     "name": "stdout",
     "output_type": "stream",
     "text": [
      "20\n"
     ]
    }
   ],
   "source": [
    "#find nth greatest number in the collection\n",
    "collection=eval(input('enter the list collection'))\n",
    "nth_num=int(input('enter the finding gt_number'))\n",
    "\n",
    "def find_gt(cll):\n",
    "    large=cll[0]\n",
    "    for i in cll:\n",
    "        if i>large:\n",
    "            large=i\n",
    "    collection.remove(large)\n",
    "    return large\n",
    "\n",
    "if 1<=nth_num<=len(collection):\n",
    "    for i in range(nth_num):\n",
    "        final=find_gt(collection)\n",
    "    print(final)\n",
    "\n",
    "elif nth_num>len(collection):\n",
    "    final=find_gt(collection)\n",
    "    print(final)\n",
    "else:\n",
    "    for i in range(len(collection)):\n",
    "        final=find_gt(collection)\n",
    "    print(final)\n"
   ]
  },
  {
   "cell_type": "code",
   "execution_count": 13,
   "metadata": {},
   "outputs": [
    {
     "name": "stdout",
     "output_type": "stream",
     "text": [
      "56\n",
      "56\n"
     ]
    }
   ],
   "source": [
    "#IBM: Hacker Rank\n",
    "print(5+6+7+8+9+7+8+6)\n",
    "def sum(i,j,k):\n",
    "    add=0\n",
    "    for a in range(i,j+1):\n",
    "        add+=a\n",
    "    for b in range(k,j):\n",
    "        add+=b\n",
    "    return add\n",
    "result=sum(5,9,6)\n",
    "print(result)\n"
   ]
  },
  {
   "cell_type": "code",
   "execution_count": 13,
   "metadata": {},
   "outputs": [
    {
     "name": "stdout",
     "output_type": "stream",
     "text": [
      "{'a': 1, 'b': 2, 'c': 3, 'd': 4, 'x': 5, 'y': 6, 'z': 7, 'ab': 8, 'bc': 9, 'cd': 10, 'xy': 11, 'yz': 12, 'abc': 13, 'bcd': 14, 'xyz': 15, 'abcd': 16}\n",
      "16\n"
     ]
    }
   ],
   "source": [
    "#Accenture: \n",
    "# In a mobile game, your character has two keys K1 and K2 represented by strings. The character has to navigate through a maze\n",
    "# field and upon reaching the end he has to open a gate to finish the game. The gate is locked and can only be opened when \n",
    "# the character inputs a passcode. The passcode is the count of substrings common between the two keys. You task is to find and\n",
    "# return an integer value representing the count of common substrings.\n",
    "# NOTE: A single substring for both the keys can only be counted once.\n",
    "\n",
    "#input specification:\n",
    "''' input1: A string value k1, representing the first key.\n",
    "    input2: A string value k2, representing the second key.'''\n",
    "#output specification:\n",
    "''' Return an integer value representing the count of common substrings. '''\n",
    "\n",
    "#Example 1:\n",
    "''' \n",
    "    input1: abcdxyz \n",
    "    input2: xyzabcd\n",
    "'''\n",
    "#Output: 16\n",
    "\n",
    "k1='abcdxyz'\n",
    "k2='xyzabcd'\n",
    "count=0\n",
    "note={}\n",
    "for i in range(1,len(k1)+1):\n",
    "    # print(i)\n",
    "    for ii in range(len(k1)):\n",
    "        if k1[ii:ii+i] in k2 and len(k1[ii:ii+i])==i and k1[ii:ii+i] not in note:\n",
    "            count+=1\n",
    "            note[k1[ii:ii+i]]=count\n",
    "        # print(k1[ii:ii+i],count) \n",
    "        # print(count)\n",
    "print(note)\n",
    "print(count)\n"
   ]
  },
  {
   "cell_type": "markdown",
   "metadata": {},
   "source": [
    "pattern:\n",
    "7 8 9\n",
    "6 1 2\n",
    "5 4 3"
   ]
  }
 ],
 "metadata": {
  "kernelspec": {
   "display_name": "Python 3",
   "language": "python",
   "name": "python3"
  },
  "language_info": {
   "codemirror_mode": {
    "name": "ipython",
    "version": 3
   },
   "file_extension": ".py",
   "mimetype": "text/x-python",
   "name": "python",
   "nbconvert_exporter": "python",
   "pygments_lexer": "ipython3",
   "version": "3.10.7"
  }
 },
 "nbformat": 4,
 "nbformat_minor": 2
}
