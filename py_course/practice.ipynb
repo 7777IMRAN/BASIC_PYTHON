{
 "cells": [
  {
   "cell_type": "code",
   "execution_count": 1,
   "metadata": {},
   "outputs": [
    {
     "name": "stdout",
     "output_type": "stream",
     "text": [
      "['aaabc', 'aabc', 'abc', 'astuv', 'def']\n"
     ]
    }
   ],
   "source": [
    "#03/04/2024\n",
    "lis=['abc','aabc','aaabc','def','astuv']\n",
    "print(sorted(lis))"
   ]
  },
  {
   "cell_type": "code",
   "execution_count": 2,
   "metadata": {},
   "outputs": [
    {
     "name": "stdout",
     "output_type": "stream",
     "text": [
      "1 2\n"
     ]
    }
   ],
   "source": [
    "i, c = input().split()\n",
    "print(i,c)"
   ]
  },
  {
   "cell_type": "code",
   "execution_count": 6,
   "metadata": {},
   "outputs": [
    {
     "name": "stdout",
     "output_type": "stream",
     "text": [
      "enter reversing number:2012\n",
      "2102\n"
     ]
    }
   ],
   "source": [
    "#reverse given number\n",
    "def reverse(num):\n",
    "    print(f'enter reversing number:{num}')\n",
    "    rev=0\n",
    "    ld=0\n",
    "    while num:\n",
    "        ld=num%10\n",
    "        rev=rev*10+ld\n",
    "        num=num//10\n",
    "    return rev\n",
    "num=int(input('enter reversing number:'))\n",
    "output=reverse(num)\n",
    "print(output)"
   ]
  },
  {
   "cell_type": "code",
   "execution_count": 5,
   "metadata": {},
   "outputs": [
    {
     "name": "stdout",
     "output_type": "stream",
     "text": [
      "True\n"
     ]
    }
   ],
   "source": [
    "#leap year\n",
    "\n",
    "def leap(num):\n",
    "    if num%4==0:\n",
    "        if num%100==0:\n",
    "            if num%400==0:\n",
    "                return True\n",
    "            else:\n",
    "                return False\n",
    "        else:\n",
    "            return True\n",
    "num=int(input('enter year number:'))\n",
    "output=leap(num)\n",
    "print(output)"
   ]
  }
 ],
 "metadata": {
  "kernelspec": {
   "display_name": "Python 3",
   "language": "python",
   "name": "python3"
  },
  "language_info": {
   "codemirror_mode": {
    "name": "ipython",
    "version": 3
   },
   "file_extension": ".py",
   "mimetype": "text/x-python",
   "name": "python",
   "nbconvert_exporter": "python",
   "pygments_lexer": "ipython3",
   "version": "3.10.7"
  }
 },
 "nbformat": 4,
 "nbformat_minor": 2
}
