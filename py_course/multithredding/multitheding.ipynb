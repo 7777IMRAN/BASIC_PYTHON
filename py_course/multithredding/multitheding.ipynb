{
 "cells": [
  {
   "cell_type": "code",
   "execution_count": null,
   "metadata": {},
   "outputs": [],
   "source": []
  },
  {
   "cell_type": "markdown",
   "metadata": {},
   "source": [
    "MULTI-THREDING\n",
    "1. To do multi threading import threading.\n",
    "2. thread: thread means task done by processor.\n",
    "3. single threading: when proccessor is able to do only one task at a time then it is single threading.\n",
    "4. multi threading: when proccessor is able to to do multiple task at a time then it is multi threading.\n",
    "5. NOTE: executing several tasks at a time is called multi tasking.\n",
    "\n",
    "types of multi tasking:\n",
    "there are 2 types:\n",
    "1. process based:\n",
    "    . executing sevaral tasks simultaneously where each task is separate and imdependent process.\n",
    "    ex: running chrome, MSword,MXPlaye;r at a time.\n",
    "2. thread based:\n",
    "    . executing sevaral tasks simultaneously where each task is separate independent but belonging of one single program is called thread based multi tasking\n",
    "\n",
    "ADVANTAGES:\n",
    "1. main advantage is it will utilize process time.\n",
    "2. improves performance by reducing response time.\n",
    "3. process management can be achieved more effectively.\n",
    "\n",
    "APPLICATIONS:\n",
    "1. TO implement multimedia graphics\n",
    "2. to develop animations\n",
    "3. to develop video games\n",
    "4. to develop web and application servers\n",
    "5. to develop robotic or AI based applications"
   ]
  },
  {
   "cell_type": "markdown",
   "metadata": {},
   "source": [
    "WAYS TO CREATE THREAD\n",
    "1. without using any class\n",
    "2. by extending or inheriting thread class\n",
    "NOTE: \n",
    ". python provides inbuilt module \"threading\" to provide support for developing and managing threads.\n",
    ". every puthon program is one thread implicitly -- main() by default main thread will execute automatically.\n",
    "\n",
    "MAIN THREAD:\n",
    "1. WHAT IS THE Thread:\n",
    "   Thread is a predefined class which is available in \"threading module\"\n",
    "\n",
    "2.HOW THE MAIN THREAD WORKS INTERNALLY:\n",
    "STEPS:\n",
    "    1. first we have to click RUN button\n",
    "    2. python interpreter send the request to OS for creating one thread called as main thread.\n",
    "\n",
    "3. main thread is created by PVM(python vertual machine) interpreter"
   ]
  },
  {
   "cell_type": "code",
   "execution_count": 1,
   "metadata": {},
   "outputs": [],
   "source": [
    "#syntax\n",
    "# from threading import Thread #or \n",
    "# from threading import *\n",
    "\n",
    "# obj=Thread(target= ,args=)\n",
    "# target => function Name\n",
    "# args   => arguments of those function\n"
   ]
  },
  {
   "cell_type": "markdown",
   "metadata": {},
   "source": [
    "to know current thread---\n",
    "print('the current working thread is :',threading.currentThread())"
   ]
  },
  {
   "cell_type": "code",
   "execution_count": 23,
   "metadata": {},
   "outputs": [
    {
     "name": "stdout",
     "output_type": "stream",
     "text": [
      "the current working thread is: <_MainThread(MainThread, started 15236)>\n",
      "--------------------------------------------------\n",
      "the name is: MainThread\n",
      "--------------------------------------------------\n",
      "the name is: MainThread\n",
      "------------------------------\n",
      "the name is: imran\n"
     ]
    },
    {
     "name": "stderr",
     "output_type": "stream",
     "text": [
      "C:\\Users\\Shaik Imran\\AppData\\Local\\Temp\\ipykernel_780\\1183362939.py:3: DeprecationWarning: currentThread() is deprecated, use current_thread() instead\n",
      "  print('the current working thread is:',threading.currentThread() )\n",
      "C:\\Users\\Shaik Imran\\AppData\\Local\\Temp\\ipykernel_780\\1183362939.py:6: DeprecationWarning: currentThread() is deprecated, use current_thread() instead\n",
      "  print('the name is:',threading.currentThread().getName())\n",
      "C:\\Users\\Shaik Imran\\AppData\\Local\\Temp\\ipykernel_780\\1183362939.py:6: DeprecationWarning: getName() is deprecated, get the name attribute instead\n",
      "  print('the name is:',threading.currentThread().getName())\n",
      "C:\\Users\\Shaik Imran\\AppData\\Local\\Temp\\ipykernel_780\\1183362939.py:10: DeprecationWarning: currentThread() is deprecated, use current_thread() instead\n",
      "  print('the name is:',threading.currentThread().getName())\n",
      "C:\\Users\\Shaik Imran\\AppData\\Local\\Temp\\ipykernel_780\\1183362939.py:10: DeprecationWarning: getName() is deprecated, get the name attribute instead\n",
      "  print('the name is:',threading.currentThread().getName())\n",
      "C:\\Users\\Shaik Imran\\AppData\\Local\\Temp\\ipykernel_780\\1183362939.py:13: DeprecationWarning: setName() is deprecated, set the name attribute instead\n",
      "  threading.current_thread().setName('imran')\n",
      "C:\\Users\\Shaik Imran\\AppData\\Local\\Temp\\ipykernel_780\\1183362939.py:14: DeprecationWarning: currentThread() is deprecated, use current_thread() instead\n",
      "  print('the name is:',threading.currentThread().getName())\n",
      "C:\\Users\\Shaik Imran\\AppData\\Local\\Temp\\ipykernel_780\\1183362939.py:14: DeprecationWarning: getName() is deprecated, get the name attribute instead\n",
      "  print('the name is:',threading.currentThread().getName())\n"
     ]
    }
   ],
   "source": [
    "#1. wap to print the current executing thread\n",
    "import threading\n",
    "print('the current working thread is:',threading.currentThread() )\n",
    "print('-'*50)\n",
    "#2. wap to print name of the current executing thread\n",
    "print('the name is:',threading.currentThread().getName())\n",
    "\n",
    "print('-'*50)\n",
    "#3. wap to set the user defined name to the thread\n",
    "print('the name is:',threading.currentThread().getName())\n",
    "print('-'*30)\n",
    "\n",
    "threading.current_thread().setName('imran')\n",
    "print('the name is:',threading.currentThread().getName())\n"
   ]
  },
  {
   "cell_type": "markdown",
   "metadata": {},
   "source": [
    "02/12/23\n",
    "ACTIVE COUNT\n",
    "1. This function returns the number of active threads currently working\n",
    "NOTE:\n",
    "    1. main thread will be executed by default so default thread count will be one\n",
    "    2. to check the active count you should privide wait(time.sleep) in the main function.\n",
    "    3. if you don't start the thread, it will not consider the count\n",
    "syntax: active_count()"
   ]
  },
  {
   "cell_type": "code",
   "execution_count": 12,
   "metadata": {},
   "outputs": [
    {
     "name": "stdout",
     "output_type": "stream",
     "text": [
      "6\n",
      "the number of threads executing 9\n"
     ]
    },
    {
     "name": "stdout",
     "output_type": "stream",
     "text": [
      "70\n",
      "30\n",
      "50\n"
     ]
    }
   ],
   "source": [
    "import time\n",
    "from threading import *\n",
    "a=active_count()\n",
    "print(a)\n",
    "def add(a,b):\n",
    "    time.sleep(2)\n",
    "    print(a+b)\n",
    "t1=Thread(target=add,args=(10,),kwargs=({'b':20}))\n",
    "t2=Thread(target=add,args=(20,),kwargs=({'b':30}))\n",
    "t3=Thread(target=add,args=(30,),kwargs=({'b':40}))\n",
    "t1.start()\n",
    "t2.start()\n",
    "t3.start()\n",
    "print('the number of threads executing',active_count())"
   ]
  },
  {
   "cell_type": "markdown",
   "metadata": {},
   "source": [
    "JOIN()\n",
    "1. If a thread wants TO WAIT UNTIL COMPLETING SOME OTHER THREAD than we should go for join method\n",
    "2. We can call join method with TIME PERIOD also\n",
    "syntax:\n",
    "    1. var.join()  :-> without seconds\n",
    "    1. var.join(sec)  :-> with seconds"
   ]
  },
  {
   "cell_type": "code",
   "execution_count": 2,
   "metadata": {},
   "outputs": [
    {
     "name": "stdout",
     "output_type": "stream",
     "text": [
      "document is downloading\n",
      "document is downloaded\n",
      "open with\n"
     ]
    }
   ],
   "source": [
    "import time\n",
    "from threading import *\n",
    "def download():\n",
    "    print('document is downloading')\n",
    "    # time.sleep(5)\n",
    "    print('document is downloaded')\n",
    "\n",
    "def notification():\n",
    "    print('open with')\n",
    "\n",
    "t1=Thread(target=download)\n",
    "t2=Thread(target=notification)\n",
    "t1.start()\n",
    "t2.start()"
   ]
  },
  {
   "cell_type": "markdown",
   "metadata": {},
   "source": [
    "run()\n",
    "1. run() method is an inbuilt method of the Thread class of the threading module, it is used to represent a thread's activity.\n",
    "2. when a new thread is crated, the run() method is not called automatically. We must call the thread's start() method to start the thread's work.\n",
    "\n",
    "syntax: def run(self)"
   ]
  },
  {
   "cell_type": "markdown",
   "metadata": {},
   "source": [
    "CREATING A THREAD BY EXTENDING(inheriting) THREAD CLASS:\n",
    "1. We have to create child class for thread class, in that child class class we have to override 'run()'\n",
    "2. Whenever we call start() method then automatically run() method will be execute and performs\n",
    "* inherit the thread class to the child class\n",
    "3. if we are inheritting the thread class to child class we have to use run() method,\n",
    "--> we should not give any other name for methods, that block will not execute."
   ]
  },
  {
   "cell_type": "code",
   "execution_count": 19,
   "metadata": {},
   "outputs": [
    {
     "name": "stdout",
     "output_type": "stream",
     "text": [
      "77\n",
      "1\n",
      "78\n",
      "79\n",
      "2\n",
      "80\n",
      "81\n"
     ]
    },
    {
     "name": "stdout",
     "output_type": "stream",
     "text": [
      "3\n",
      "4\n"
     ]
    }
   ],
   "source": [
    "#Q1\n",
    "import time\n",
    "from threading import *\n",
    "class MyThread(Thread):\n",
    "    def run(self):\n",
    "        for i in range(1,5):\n",
    "            time.sleep(2)\n",
    "            print(i)\n",
    "t=MyThread()\n",
    "t.start()\n",
    "\n",
    "for i in range(77,82):\n",
    "    time.sleep(1)\n",
    "    print(i)"
   ]
  },
  {
   "cell_type": "code",
   "execution_count": 13,
   "metadata": {},
   "outputs": [
    {
     "name": "stdout",
     "output_type": "stream",
     "text": [
      "sq 64\n",
      "sq 36\n",
      "sq 4\n",
      "cube 512\n",
      "cube 216\n",
      "cube 8\n"
     ]
    }
   ],
   "source": [
    "#Q2\n",
    "import time\n",
    "from threading import *\n",
    "l=[1,8,5,6,2]\n",
    "class sq(Thread):\n",
    "    def run(self):\n",
    "        for i in l:\n",
    "            if i%2==0:\n",
    "                print('sq',i**2)\n",
    "\n",
    "class cube(Thread):\n",
    "    def run(self):\n",
    "        for i in l:\n",
    "            if i%2==0:\n",
    "                print('cube',i**3)\n",
    "\n",
    "t1=sq()\n",
    "t2=cube()\n",
    "t1.start()\n",
    "t2.start()"
   ]
  }
 ],
 "metadata": {
  "kernelspec": {
   "display_name": "Python 3",
   "language": "python",
   "name": "python3"
  },
  "language_info": {
   "codemirror_mode": {
    "name": "ipython",
    "version": 3
   },
   "file_extension": ".py",
   "mimetype": "text/x-python",
   "name": "python",
   "nbconvert_exporter": "python",
   "pygments_lexer": "ipython3",
   "version": "3.10.7"
  }
 },
 "nbformat": 4,
 "nbformat_minor": 2
}
