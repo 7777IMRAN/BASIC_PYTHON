{
 "cells": [
  {
   "cell_type": "code",
   "execution_count": null,
   "metadata": {},
   "outputs": [],
   "source": [
    "#1"
   ]
  },
  {
   "cell_type": "code",
   "execution_count": 5,
   "metadata": {},
   "outputs": [
    {
     "name": "stdout",
     "output_type": "stream",
     "text": [
      "t\n",
      "r\n",
      "i\n"
     ]
    }
   ],
   "source": [
    "#2.WAP to print all the items present in the string\n",
    "# between the range from m to n.\n",
    "m=4\n",
    "n=1\n",
    "st='string between given range'\n",
    "if m<len(st) and n<len(st):\n",
    "    if m>n:\n",
    "        m,n=n,m\n",
    "    for i in range(m,n):\n",
    "        print(st[i])\n",
    "else:\n",
    "    print('m,n not in string length')"
   ]
  },
  {
   "cell_type": "code",
   "execution_count": 6,
   "metadata": {},
   "outputs": [
    {
     "name": "stdout",
     "output_type": "stream",
     "text": [
      "U\n",
      "P\n",
      "P\n",
      "E\n",
      "R\n"
     ]
    }
   ],
   "source": [
    "#3. WAP to print the uppercase characters in a given string.\n",
    "st='UPPERcase characters'\n",
    "for i in st:\n",
    "    if 'A'<=i<='Z':\n",
    "        print(i)"
   ]
  },
  {
   "cell_type": "code",
   "execution_count": 8,
   "metadata": {},
   "outputs": [
    {
     "name": "stdout",
     "output_type": "stream",
     "text": [
      "c\n",
      "a\n",
      "s\n",
      "e\n"
     ]
    }
   ],
   "source": [
    "#4. WAP to print the lowercase characters in a given string.\n",
    "st='UPPERcase'\n",
    "for i in st:\n",
    "    if 'a'<=i<='z':\n",
    "        print(i)"
   ]
  },
  {
   "cell_type": "code",
   "execution_count": 9,
   "metadata": {},
   "outputs": [
    {
     "name": "stdout",
     "output_type": "stream",
     "text": [
      "2\n",
      "3\n",
      "4\n",
      "4\n",
      "5\n"
     ]
    }
   ],
   "source": [
    "#5. WAP to print the ascii numbers(Digits) characters in a given string.\n",
    "st='numbers23445'\n",
    "for i in st:\n",
    "    if '0'<=i<='9':\n",
    "        print(i)"
   ]
  },
  {
   "cell_type": "code",
   "execution_count": 11,
   "metadata": {},
   "outputs": [
    {
     "name": "stdout",
     "output_type": "stream",
     "text": [
      "#\n",
      "@\n",
      "$\n"
     ]
    }
   ],
   "source": [
    "#6. WAP to print the special characters in a given string.\n",
    "st='UPPERcase234#@$'\n",
    "for i in st:\n",
    "    if not('a'<=i<='z' or 'A'<=i<='Z' or '0'<=i<='9'):\n",
    "        print(i)"
   ]
  },
  {
   "cell_type": "code",
   "execution_count": 12,
   "metadata": {},
   "outputs": [
    {
     "name": "stdout",
     "output_type": "stream",
     "text": [
      "U\n",
      "E\n",
      "a\n",
      "e\n"
     ]
    }
   ],
   "source": [
    "#7. WAP to print the vowels in a given string.\n",
    "st='UPPERcase'\n",
    "for i in st:\n",
    "    if i in 'aeiouAEIOU':\n",
    "        print(i)"
   ]
  },
  {
   "cell_type": "code",
   "execution_count": 13,
   "metadata": {},
   "outputs": [
    {
     "name": "stdout",
     "output_type": "stream",
     "text": [
      "P\n",
      "P\n",
      "R\n",
      "c\n",
      "s\n"
     ]
    }
   ],
   "source": [
    "#8. WAP to print the consonents in a given string.\n",
    "st='UPPERcase'\n",
    "for i in st:\n",
    "    if i not in 'aeiouAEIOU':\n",
    "        print(i)"
   ]
  },
  {
   "cell_type": "code",
   "execution_count": 14,
   "metadata": {},
   "outputs": [
    {
     "name": "stdout",
     "output_type": "stream",
     "text": [
      "desrever\n"
     ]
    }
   ],
   "source": [
    "#9. WAP to print the reverse of the characters in a given string.\n",
    "st='reversed'\n",
    "rev=''\n",
    "for i in st:\n",
    "    rev=i+rev\n",
    "print(rev)"
   ]
  },
  {
   "cell_type": "code",
   "execution_count": 16,
   "metadata": {},
   "outputs": [
    {
     "name": "stdout",
     "output_type": "stream",
     "text": [
      "d\n",
      "e\n",
      "s\n",
      "r\n",
      "e\n",
      "v\n",
      "e\n"
     ]
    }
   ],
   "source": [
    "st='reversed'\n",
    "for i in range(1,len(st)):\n",
    "    print(st[-i])\n"
   ]
  },
  {
   "cell_type": "code",
   "execution_count": 17,
   "metadata": {},
   "outputs": [
    {
     "name": "stdout",
     "output_type": "stream",
     "text": [
      "s\n",
      "t\n",
      "i\n",
      "g\n"
     ]
    }
   ],
   "source": [
    "#10. WAP to print the even position values a given string.\n",
    "st='sstring'\n",
    "for i in range(0,len(st),2):\n",
    "    print(st[i])\n",
    "    "
   ]
  },
  {
   "cell_type": "code",
   "execution_count": 18,
   "metadata": {},
   "outputs": [
    {
     "name": "stdout",
     "output_type": "stream",
     "text": [
      "s\n",
      "r\n",
      "n\n"
     ]
    }
   ],
   "source": [
    "#11. WAP to print the odd position values characters in a given string.\n",
    "st='sstring'\n",
    "for i in range(1,len(st),2):\n",
    "    print(st[i])\n"
   ]
  },
  {
   "cell_type": "code",
   "execution_count": 19,
   "metadata": {},
   "outputs": [
    {
     "name": "stdout",
     "output_type": "stream",
     "text": [
      "6\n"
     ]
    }
   ],
   "source": [
    "#12. WAP to count the total Number of characters in a given string.(with length function)\n",
    "st='length'\n",
    "print(len(st))"
   ]
  },
  {
   "cell_type": "code",
   "execution_count": 20,
   "metadata": {},
   "outputs": [
    {
     "name": "stdout",
     "output_type": "stream",
     "text": [
      "6\n"
     ]
    }
   ],
   "source": [
    "#13. WAP to count the total Number of characters in a given string.(without length function)\n",
    "st='length'\n",
    "count=0\n",
    "for i in st:\n",
    "    count+=1\n",
    "print(count)"
   ]
  },
  {
   "cell_type": "code",
   "execution_count": 21,
   "metadata": {},
   "outputs": [
    {
     "name": "stdout",
     "output_type": "stream",
     "text": [
      "9\n"
     ]
    }
   ],
   "source": [
    "#14. WAP to count alphabets in a given string.\n",
    "st='234alphabets#$@'\n",
    "count=0\n",
    "for i in st:\n",
    "    if 'a'<=i<='z' or 'A'<=i<='Z':\n",
    "        count+=1\n",
    "print(count)"
   ]
  },
  {
   "cell_type": "code",
   "execution_count": 22,
   "metadata": {},
   "outputs": [
    {
     "name": "stdout",
     "output_type": "stream",
     "text": [
      "5\n"
     ]
    }
   ],
   "source": [
    "#15. WAP to count number of uppercase char's in a given string.\n",
    "st='234ALPHAbets#$@'\n",
    "count=0\n",
    "for i in st:\n",
    "    if  'A'<=i<='Z':\n",
    "        count+=1\n",
    "print(count)"
   ]
  },
  {
   "cell_type": "code",
   "execution_count": 24,
   "metadata": {},
   "outputs": [
    {
     "name": "stdout",
     "output_type": "stream",
     "text": [
      "4\n"
     ]
    }
   ],
   "source": [
    "#16. WAP to count number of lowercase char's in a given string.\n",
    "st='234ALPHAbets#$@'\n",
    "count=0\n",
    "for i in st:\n",
    "    if 'a'<=i<='z':\n",
    "        count+=1\n",
    "print(count)"
   ]
  },
  {
   "cell_type": "code",
   "execution_count": 25,
   "metadata": {},
   "outputs": [
    {
     "name": "stdout",
     "output_type": "stream",
     "text": [
      "3\n"
     ]
    }
   ],
   "source": [
    "#17. WAP to count number of special symbols in a given string.\n",
    "st='234alphabets#$@'\n",
    "count=0\n",
    "for i in st:\n",
    "    if not('a'<=i<='z' or 'A'<=i<='Z' or '0'<=i<='9'):\n",
    "        count+=1\n",
    "print(count)"
   ]
  },
  {
   "cell_type": "code",
   "execution_count": 26,
   "metadata": {},
   "outputs": [
    {
     "name": "stdout",
     "output_type": "stream",
     "text": [
      "9\n"
     ]
    }
   ],
   "source": [
    "#18. WAP to count upper&lower case char's in a given string.\n",
    "st='234ALPHabets#$@'\n",
    "count=0\n",
    "for i in st:\n",
    "    if 'a'<=i<='z' or 'A'<=i<='Z':\n",
    "        count+=1\n",
    "print(count)"
   ]
  },
  {
   "cell_type": "code",
   "execution_count": 27,
   "metadata": {},
   "outputs": [
    {
     "name": "stdout",
     "output_type": "stream",
     "text": [
      "3\n"
     ]
    }
   ],
   "source": [
    "#19. WAP to count number of ASCII numbers in a given string.\n",
    "st='234ALPHAbets#$@'\n",
    "count=0\n",
    "for i in st:\n",
    "    if  '0'<=i<='9':\n",
    "        count+=1\n",
    "print(count)"
   ]
  },
  {
   "cell_type": "code",
   "execution_count": 32,
   "metadata": {},
   "outputs": [
    {
     "name": "stdout",
     "output_type": "stream",
     "text": [
      "3\n"
     ]
    }
   ],
   "source": [
    "#20. wap to count number of words in a string\n",
    "st='  number of  words  '\n",
    "word=''\n",
    "count=0\n",
    "for i in st:\n",
    "    if i!=' ':\n",
    "        word+=i\n",
    "    else:\n",
    "        if len(word)>0:\n",
    "            count+=1\n",
    "            word=''\n",
    "if len(word)>0:\n",
    "    count+=1\n",
    "print(count)"
   ]
  },
  {
   "cell_type": "code",
   "execution_count": 33,
   "metadata": {},
   "outputs": [
    {
     "name": "stdout",
     "output_type": "stream",
     "text": [
      "2\n"
     ]
    }
   ],
   "source": [
    "#21. WAP to Count Total Number of spaces in a String.\n",
    "st='number of spaces'\n",
    "count=0\n",
    "for i in st:\n",
    "    if i==' ':\n",
    "        count+=1\n",
    "print(count)\n",
    "#22,23,24 repeated"
   ]
  },
  {
   "cell_type": "code",
   "execution_count": 35,
   "metadata": {},
   "outputs": [
    {
     "name": "stdout",
     "output_type": "stream",
     "text": [
      "2\n"
     ]
    }
   ],
   "source": [
    "#25.wap to count number of new lines in a string\n",
    "st='first\\n second\\n third\\n'\n",
    "count=0\n",
    "for i in st:\n",
    "    if i=='\\n':\n",
    "        count+=1\n",
    "print(count-1)"
   ]
  },
  {
   "cell_type": "code",
   "execution_count": 39,
   "metadata": {},
   "outputs": [
    {
     "name": "stdout",
     "output_type": "stream",
     "text": [
      "3\n"
     ]
    }
   ],
   "source": [
    "#26.wap to count number of new lines in a string\n",
    "st='first\\n second\\n third\\n'\n",
    "count=0\n",
    "for i in st:\n",
    "    if i=='\\n':\n",
    "        count+=1\n",
    "print(count)"
   ]
  },
  {
   "cell_type": "code",
   "execution_count": 37,
   "metadata": {},
   "outputs": [
    {
     "name": "stdout",
     "output_type": "stream",
     "text": [
      "3 9 3\n"
     ]
    }
   ],
   "source": [
    "#27. WAP to count no of alphabets, numbers, and special characters in a given string.\n",
    "st='123ALPHAbets#$@'\n",
    "num=0\n",
    "alpha=0\n",
    "spe=0\n",
    "for i in st:\n",
    "    if '0'<=i<='9':\n",
    "        num+=1\n",
    "    elif 'a'<=i<='z' or 'A'<=i<='Z':\n",
    "        alpha+=1\n",
    "    else:\n",
    "        spe+=1\n",
    "print(num,alpha,spe)"
   ]
  },
  {
   "cell_type": "code",
   "execution_count": 43,
   "metadata": {},
   "outputs": [
    {
     "name": "stdout",
     "output_type": "stream",
     "text": [
      "3\n"
     ]
    }
   ],
   "source": [
    "#28.WAP to Count Total no of words in a first line of the Doc String.\n",
    "st='''number of words\n",
    "second line\n",
    "third line'''\n",
    "count=0\n",
    "word=''\n",
    "for i in st:\n",
    "    if i=='\\n':\n",
    "        break\n",
    "    elif i!=' ':\n",
    "        word+=i\n",
    "    else:\n",
    "        if len(word)>0:\n",
    "            count+=1\n",
    "            word=''\n",
    "if len(st)>0:\n",
    "    count+=1\n",
    "print(count)"
   ]
  },
  {
   "cell_type": "code",
   "execution_count": 51,
   "metadata": {},
   "outputs": [
    {
     "name": "stdout",
     "output_type": "stream",
     "text": [
      "15\n"
     ]
    }
   ],
   "source": [
    "#29.wap to sum of digits in a given string\n",
    "st='12345sum'\n",
    "sum=0\n",
    "for i in st:\n",
    "    if '0'<=i<='9':\n",
    "        sum+=int(i)\n",
    "print(sum)"
   ]
  },
  {
   "cell_type": "code",
   "execution_count": 21,
   "metadata": {},
   "outputs": [
    {
     "name": "stdout",
     "output_type": "stream",
     "text": [
      "a\n"
     ]
    }
   ],
   "source": [
    "#30.wap to print first occurense of a character in a string\n",
    "st='imran khan'\n",
    "uni={}\n",
    "for i in st:\n",
    "    if i not in uni:\n",
    "        uni[i]=1\n",
    "    else:\n",
    "        print(i)\n",
    "        break\n",
    "# print(uni)\n"
   ]
  },
  {
   "cell_type": "code",
   "execution_count": 48,
   "metadata": {},
   "outputs": [
    {
     "name": "stdout",
     "output_type": "stream",
     "text": [
      "n 2\n"
     ]
    }
   ],
   "source": [
    "#31.wap to print last occurense of a character in a string\n",
    "st='imran khan'\n",
    "# st='abababcccddd'\n",
    "uni={}\n",
    "u_list=''\n",
    "for i in st:\n",
    "    if i not in uni :\n",
    "        uni[i]=1\n",
    "        u_list=i+u_list\n",
    "    else:\n",
    "        uni[i]+=1\n",
    "# print(uni)\n",
    "# print(u_list)\n",
    "num=0\n",
    "res=''\n",
    "for i in u_list:\n",
    "    if uni[i]>num:\n",
    "        num=uni[i]\n",
    "        res=i\n",
    "print(res,num)\n"
   ]
  },
  {
   "cell_type": "code",
   "execution_count": null,
   "metadata": {},
   "outputs": [],
   "source": [
    "#32.wap to print first not occurense of a character in a string"
   ]
  },
  {
   "cell_type": "code",
   "execution_count": null,
   "metadata": {},
   "outputs": [],
   "source": [
    "#33.wap to print last not occurense of a character in a string"
   ]
  },
  {
   "cell_type": "code",
   "execution_count": null,
   "metadata": {},
   "outputs": [],
   "source": [
    "#34.wap to remove first occurense of a character in a string"
   ]
  },
  {
   "cell_type": "code",
   "execution_count": null,
   "metadata": {},
   "outputs": [],
   "source": [
    "#35.wap to remove last occurense of a character in a string"
   ]
  },
  {
   "cell_type": "code",
   "execution_count": 7,
   "metadata": {},
   "outputs": [
    {
     "name": "stdout",
     "output_type": "stream",
     "text": [
      "{'l': 5, 'a': 2, 'i': 1, 't': 1, 'h': 1, 'k': 1, 'u': 1, 'm': 1, 'r': 1}\n",
      "['r', 'm', 'u', 'k', 'h', 't', 'i', 'a', 'l']\n",
      "a\n"
     ]
    }
   ],
   "source": [
    "#30. WAP to Print Last Occurrence of a Character in a String.\n",
    "l=\"lalithkumar\"\n",
    "d={}\n",
    "for i in l:\n",
    "    if i not in d:\n",
    "        d[i]=1\n",
    "    else:\n",
    "        d[i]+=1\n",
    "print(d)\n",
    "s=list(d)\n",
    "print(s[::-1])\n",
    "for j in s[::-1]:\n",
    "    if d[j]>1:\n",
    "        print(j)\n",
    "        break"
   ]
  },
  {
   "cell_type": "code",
   "execution_count": 12,
   "metadata": {},
   "outputs": [
    {
     "name": "stdout",
     "output_type": "stream",
     "text": [
      "l\n",
      "l\n",
      "l\n",
      "l\n",
      "l\n",
      "l\n",
      "l\n"
     ]
    }
   ],
   "source": [
    "l=\"lalithkumarllllllll\"\n",
    "for i in range(len(l)):\n",
    "    for j in range(i+1,len(l)):\n",
    "        if l[i]==l[j]:\n",
    "            print(l[i])\n",
    "        break\n",
    "    # break"
   ]
  },
  {
   "cell_type": "code",
   "execution_count": 21,
   "metadata": {},
   "outputs": [
    {
     "name": "stdout",
     "output_type": "stream",
     "text": [
      "not lowercase\n"
     ]
    }
   ],
   "source": [
    "#62 wap to check given string is lowercase or not\n",
    "st='imran '\n",
    "i=0 \n",
    "while i<len(st):\n",
    "    if 'a'<=st[i]<='z':\n",
    "        if i==len(st)-1:\n",
    "            print('lowercase')\n",
    "        pass\n",
    "    else:\n",
    "        print('not lowercase')\n",
    "        break\n",
    "    i+=1\n"
   ]
  }
 ],
 "metadata": {
  "kernelspec": {
   "display_name": "Python 3",
   "language": "python",
   "name": "python3"
  },
  "language_info": {
   "codemirror_mode": {
    "name": "ipython",
    "version": 3
   },
   "file_extension": ".py",
   "mimetype": "text/x-python",
   "name": "python",
   "nbconvert_exporter": "python",
   "pygments_lexer": "ipython3",
   "version": "3.10.7"
  },
  "orig_nbformat": 4
 },
 "nbformat": 4,
 "nbformat_minor": 2
}
