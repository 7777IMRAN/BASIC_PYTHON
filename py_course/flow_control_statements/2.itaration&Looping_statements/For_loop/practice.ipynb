{
 "cells": [
  {
   "cell_type": "code",
   "execution_count": 1,
   "metadata": {},
   "outputs": [
    {
     "name": "stdout",
     "output_type": "stream",
     "text": [
      "5\n"
     ]
    }
   ],
   "source": [
    "#wap to convert binary  to decimal value\n",
    "# a=bytes(input('enter value'),'utf-8')\n",
    "a=b'101'\n",
    "b=0\n",
    "e=0\n",
    "c=0\n",
    "for i in range(1,len(a)+1):\n",
    "   a=str(a)\n",
    "   b+=int(a[-i-1])*2**c\n",
    "   c+=1\n",
    "print(b)\n",
    "#---------------------------------------------------------------------------\n",
    "# d=0b101\n",
    "# print(d)"
   ]
  }
 ],
 "metadata": {
  "kernelspec": {
   "display_name": "Python 3",
   "language": "python",
   "name": "python3"
  },
  "language_info": {
   "codemirror_mode": {
    "name": "ipython",
    "version": 3
   },
   "file_extension": ".py",
   "mimetype": "text/x-python",
   "name": "python",
   "nbconvert_exporter": "python",
   "pygments_lexer": "ipython3",
   "version": "3.10.7"
  },
  "orig_nbformat": 4
 },
 "nbformat": 4,
 "nbformat_minor": 2
}
