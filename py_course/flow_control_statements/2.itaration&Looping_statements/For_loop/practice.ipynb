{
 "cells": [
  {
   "cell_type": "code",
   "execution_count": 116,
   "metadata": {},
   "outputs": [
    {
     "name": "stdout",
     "output_type": "stream",
     "text": [
      "11\n"
     ]
    }
   ],
   "source": [
    "#wap to convert binary  to decimal value\n",
    "# a=bytes(input('enter value'),'utf-8')\n",
    "a=b'1011'\n",
    "b=0\n",
    "# c=0\n",
    "d=str(a)\n",
    "for i in range(1,len(a)+1):\n",
    "   b+=int(d[-i-1])*2**(i-1)\n",
    "   # c+=1\n",
    "print(b)\n",
    "#---------------------------------------------------------------------------\n",
    "# d=0b101\n",
    "# print(d)\n",
    "#---------------------------------------------------------------------------\n"
   ]
  },
  {
   "cell_type": "code",
   "execution_count": 118,
   "metadata": {},
   "outputs": [
    {
     "name": "stdout",
     "output_type": "stream",
     "text": [
      "7\n"
     ]
    }
   ],
   "source": [
    "a=b'111'\n",
    "b=0\n",
    "n=len(a)\n",
    "for i in range(0,len(a)):\n",
    "    if a[i]==49:\n",
    "        f=1\n",
    "    else:\n",
    "        f=0\n",
    "    b+=f*2**((len(a)-1)-i)\n",
    "print(b)\n",
    "\n"
   ]
  },
  {
   "cell_type": "code",
   "execution_count": 124,
   "metadata": {},
   "outputs": [
    {
     "name": "stdout",
     "output_type": "stream",
     "text": [
      "0\n",
      "1\n",
      "2\n",
      "4\n",
      "stop\n"
     ]
    }
   ],
   "source": [
    "# a='string'\n",
    "a=5\n",
    "# for i in range(0,len(a)):\n",
    "for i in range(0,a):\n",
    "    if i==3:\n",
    "        # break\n",
    "        pass\n",
    "    else:\n",
    "        print(i)\n",
    "print('stop')"
   ]
  },
  {
   "cell_type": "code",
   "execution_count": 129,
   "metadata": {},
   "outputs": [
    {
     "name": "stdout",
     "output_type": "stream",
     "text": [
      "1\n",
      "3\n",
      "5\n",
      "7\n",
      "9\n"
     ]
    }
   ],
   "source": [
    "#wap to print odd numbers upto n using for loop\n",
    "a=10\n",
    "for i in range(0,a):\n",
    "    if i%2==0:\n",
    "        pass\n",
    "    else:\n",
    "        print(i)"
   ]
  },
  {
   "cell_type": "code",
   "execution_count": 131,
   "metadata": {},
   "outputs": [
    {
     "name": "stdout",
     "output_type": "stream",
     "text": [
      "2\n",
      "4\n",
      "6\n",
      "8\n"
     ]
    }
   ],
   "source": [
    "#wap to print even numbers upto n using for loop\n",
    "a=10\n",
    "for i in range(1,a):\n",
    "    if i%2!=0:\n",
    "        pass\n",
    "    else:\n",
    "        print(i)"
   ]
  }
 ],
 "metadata": {
  "kernelspec": {
   "display_name": "Python 3",
   "language": "python",
   "name": "python3"
  },
  "language_info": {
   "codemirror_mode": {
    "name": "ipython",
    "version": 3
   },
   "file_extension": ".py",
   "mimetype": "text/x-python",
   "name": "python",
   "nbconvert_exporter": "python",
   "pygments_lexer": "ipython3",
   "version": "3.10.7"
  },
  "orig_nbformat": 4
 },
 "nbformat": 4,
 "nbformat_minor": 2
}
