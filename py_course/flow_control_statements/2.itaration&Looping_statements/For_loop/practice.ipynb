{
 "cells": [
  {
   "cell_type": "code",
   "execution_count": 2,
   "metadata": {},
   "outputs": [
    {
     "name": "stdout",
     "output_type": "stream",
     "text": [
      "14\n"
     ]
    }
   ],
   "source": [
    "#wap to convert binary  to decimal value\n",
    "# a=bytes(input('enter value'),'utf-8')\n",
    "a=b'1110'\n",
    "b=0\n",
    "# c=0\n",
    "d=str(a)\n",
    "for i in range(1,len(a)+1):\n",
    "   b+=int(d[-i-1])*2**(i-1)\n",
    "   # c+=1\n",
    "print(b)\n",
    "#---------------------------------------------------------------------------\n",
    "# d=0b101\n",
    "# print(d)\n",
    "#---------------------------------------------------------------------------\n"
   ]
  },
  {
   "cell_type": "code",
   "execution_count": 1,
   "metadata": {},
   "outputs": [
    {
     "name": "stdout",
     "output_type": "stream",
     "text": [
      "4\n",
      "14\n",
      "14\n"
     ]
    }
   ],
   "source": [
    "a=b'1110'\n",
    "b=0\n",
    "n=len(a)\n",
    "for i in range(0,len(a)):\n",
    "    if a[i]==49:\n",
    "        f=1\n",
    "    else:\n",
    "        f=0\n",
    "    b+=f*2**((len(a)-1)-i)\n",
    "print(b)\n",
    "a=0b1110\n",
    "print(a)\n"
   ]
  },
  {
   "cell_type": "code",
   "execution_count": 124,
   "metadata": {},
   "outputs": [
    {
     "name": "stdout",
     "output_type": "stream",
     "text": [
      "0\n",
      "1\n",
      "2\n",
      "4\n",
      "stop\n"
     ]
    }
   ],
   "source": [
    "# a='string'\n",
    "a=5\n",
    "# for i in range(0,len(a)):\n",
    "for i in range(0,a):\n",
    "    if i==3:\n",
    "        # break\n",
    "        pass\n",
    "    else:\n",
    "        print(i)\n",
    "print('stop')"
   ]
  },
  {
   "cell_type": "code",
   "execution_count": 2,
   "metadata": {},
   "outputs": [
    {
     "name": "stdout",
     "output_type": "stream",
     "text": [
      "1\n",
      "3\n",
      "5\n",
      "7\n",
      "9\n"
     ]
    }
   ],
   "source": [
    "#wap to print odd numbers upto n using for loop\n",
    "a=10\n",
    "for i in range(0,a):\n",
    "    if i%2!=0:\n",
    "        print(i)\n",
    "    "
   ]
  },
  {
   "cell_type": "code",
   "execution_count": 4,
   "metadata": {},
   "outputs": [
    {
     "name": "stdout",
     "output_type": "stream",
     "text": [
      "2\n",
      "4\n",
      "6\n",
      "8\n"
     ]
    }
   ],
   "source": [
    "#wap to print even numbers upto n using for loop\n",
    "a=10\n",
    "for i in range(1,a):\n",
    "    if i%2==0:\n",
    "        print(i)"
   ]
  },
  {
   "cell_type": "code",
   "execution_count": 18,
   "metadata": {},
   "outputs": [
    {
     "name": "stdout",
     "output_type": "stream",
     "text": [
      "*\n",
      "* *\n",
      "* * *\n",
      "* * * *\n",
      "* * * * *\n",
      "* * * * * *\n",
      "* * * * * * *\n"
     ]
    }
   ],
   "source": [
    "for i in range(7):\n",
    "    for j in range(i):\n",
    "        print(\"*\",end=' ' )\n",
    "    print(\"*\")\n"
   ]
  },
  {
   "cell_type": "code",
   "execution_count": 1,
   "metadata": {},
   "outputs": [
    {
     "name": "stdout",
     "output_type": "stream",
     "text": [
      "h\n",
      "e\n",
      "l\n",
      "l\n",
      "o\n"
     ]
    }
   ],
   "source": [
    "#wap to extract each and every character from string using for loop\n",
    "st='hello'\n",
    "for i in st:\n",
    "    print(i)"
   ]
  },
  {
   "cell_type": "code",
   "execution_count": 5,
   "metadata": {},
   "outputs": [
    {
     "name": "stdout",
     "output_type": "stream",
     "text": [
      "10\n",
      "20\n",
      "30\n",
      "None\n",
      "(10, 20)\n",
      "True\n",
      "[10, 20]\n",
      "{10: 20}\n",
      "{2, 3, 4}\n"
     ]
    }
   ],
   "source": [
    "#wap to extract each data item  from the collection using for loop\n",
    "l=[10,20,30,None,(10,20,),True,[10,20],{10:20},{3,2,4}]\n",
    "for i in l:\n",
    "    print(i)"
   ]
  },
  {
   "cell_type": "code",
   "execution_count": 6,
   "metadata": {},
   "outputs": [
    {
     "name": "stdout",
     "output_type": "stream",
     "text": [
      "10\n",
      "20\n",
      "30\n",
      "None\n",
      "(10, 20)\n",
      "True\n",
      "[10, 20]\n",
      "{10: 20}\n",
      "{2, 3, 4}\n"
     ]
    }
   ],
   "source": [
    "l=(10,20,30,None,(10,20,),True,[10,20],{10:20},{3,2,4})\n",
    "for i in l:\n",
    "    print(i)"
   ]
  },
  {
   "cell_type": "code",
   "execution_count": 10,
   "metadata": {},
   "outputs": [
    {
     "name": "stdout",
     "output_type": "stream",
     "text": [
      "None\n",
      "True\n",
      "b'101'\n",
      "10\n",
      "(10, 20)\n"
     ]
    }
   ],
   "source": [
    "l={10,None,(10,20,),True,b'101'}\n",
    "for i in l:\n",
    "    print(i)"
   ]
  },
  {
   "cell_type": "code",
   "execution_count": 14,
   "metadata": {},
   "outputs": [
    {
     "name": "stdout",
     "output_type": "stream",
     "text": [
      "20\n",
      "(10, 39)\n",
      "['dsf', 'jkl']\n"
     ]
    }
   ],
   "source": [
    "l={10:20,30:(10,39),80:['dsf','jkl']}\n",
    "for i in l:\n",
    "    print(l[i])#values"
   ]
  },
  {
   "cell_type": "code",
   "execution_count": 15,
   "metadata": {},
   "outputs": [
    {
     "name": "stdout",
     "output_type": "stream",
     "text": [
      "10\n",
      "30\n",
      "80\n"
     ]
    }
   ],
   "source": [
    "l={10:20,30:(10,39),80:['dsf','jkl']}\n",
    "for i in l:\n",
    "    print(i)#keys"
   ]
  },
  {
   "cell_type": "code",
   "execution_count": 3,
   "metadata": {},
   "outputs": [
    {
     "name": "stdout",
     "output_type": "stream",
     "text": [
      "D\n",
      "S\n",
      "F\n",
      "J\n"
     ]
    }
   ],
   "source": [
    "#wap to extract uppercase character from string\n",
    "s='DSFJjljkljl;@#@'\n",
    "for i in s:\n",
    "    if 'A'<=i<='Z':\n",
    "        print(i)"
   ]
  },
  {
   "cell_type": "code",
   "execution_count": 6,
   "metadata": {},
   "outputs": [
    {
     "name": "stdout",
     "output_type": "stream",
     "text": [
      "jldfsds\n",
      "@#$%\n"
     ]
    }
   ],
   "source": [
    "#wap to extract and store the special characters and lowercase characters from given string\n",
    "s='DSFJJ@#$%jldfsds'\n",
    "low=''\n",
    "spe=''\n",
    "for i in s:\n",
    "    if 'a'<=i<='z':\n",
    "        low+=i\n",
    "    elif not('A'<=i<='Z' or '0'<=i<='9'):\n",
    "        spe+=i\n",
    "print(low)\n",
    "print(spe)"
   ]
  },
  {
   "cell_type": "code",
   "execution_count": 7,
   "metadata": {},
   "outputs": [
    {
     "name": "stdout",
     "output_type": "stream",
     "text": [
      "asdjl\n",
      "JLDFS\n",
      "124908\n",
      ";@#$%$\n"
     ]
    }
   ],
   "source": [
    "#wap to segrigate the characters from given string\n",
    "s='asdjlJL;DFS@#$%$124908'\n",
    "num=''\n",
    "upper=''\n",
    "lower=''\n",
    "spe=''\n",
    "for i in s:\n",
    "    if 'a'<=i<='z':\n",
    "        lower+=i\n",
    "    elif 'A'<=i<='Z':\n",
    "        upper+=i\n",
    "    elif '0'<=i<='9':\n",
    "        num+=i\n",
    "    else:\n",
    "        spe+=i\n",
    "print(lower)\n",
    "print(upper)\n",
    "print(num)\n",
    "print(spe)"
   ]
  },
  {
   "cell_type": "code",
   "execution_count": 26,
   "metadata": {},
   "outputs": [
    {
     "name": "stdout",
     "output_type": "stream",
     "text": [
      "valid password\n"
     ]
    }
   ],
   "source": [
    "#wap to check given password is valid or not\n",
    "#min 1 numeric char\n",
    "#min 2 special char except . (){}[] and space' '\n",
    "#starting and ending character should be uppercase \n",
    "#max 5 lowercase chares and min 1 lowercase char\n",
    "#given input is string and length of the string min 8 and max 20\n",
    "s='A2#$asSFADdfZ'\n",
    "if 8<=len(s)<=20  and type(s)==str and 'A'<=s[0]<='Z' and 'A'<=s[-1]<='Z':\n",
    "    lower=''\n",
    "    upper=''\n",
    "    num=''\n",
    "    spe=''\n",
    "    spl=''\n",
    "    for i in s:\n",
    "        if 'a'<=i<='z':\n",
    "            lower+=i\n",
    "        elif 'A'<=i<='Z':\n",
    "            upper+=i\n",
    "        elif '0'<=i<='9':\n",
    "            num+=i\n",
    "        elif i not in('.(){}[] '):\n",
    "                spe+=i\n",
    "        else:\n",
    "             spl+=i             \n",
    "    if len(num)>=1 and 1<=len(lower)<=5 and len(spe)==2  and len(spl)==0:\n",
    "        print('valid password')\n",
    "    else:\n",
    "         print('invalid ')\n",
    "else:  \n",
    "    print('invalid password')\n"
   ]
  },
  {
   "cell_type": "code",
   "execution_count": 28,
   "metadata": {},
   "outputs": [
    {
     "name": "stdout",
     "output_type": "stream",
     "text": [
      "invalid \n"
     ]
    }
   ],
   "source": [
    "#wap to check given password is valid or not. if invalid display the reasons\n",
    "#min 1 numeric char\n",
    "#min 2 special char except . (){}[] and space' '\n",
    "#starting and ending character should be uppercase \n",
    "#max 5 lowercase chares and min 1 lowercase char\n",
    "#given input is string and length of the string min 8 and max 20\n",
    "s='A2#$asSFA.DdfZ'\n",
    "if \n",
    "if 8<=len(s)<=20  and type(s)==str and 'A'<=s[0]<='Z' and 'A'<=s[-1]<='Z':\n",
    "    lower=''\n",
    "    upper=''\n",
    "    num=''\n",
    "    spe=''\n",
    "    spl=''\n",
    "    for i in s:\n",
    "        if 'a'<=i<='z':\n",
    "            lower+=i\n",
    "        elif 'A'<=i<='Z':\n",
    "            upper+=i\n",
    "        elif '0'<=i<='9':\n",
    "            num+=i\n",
    "        elif i not in('.(){}[] '):\n",
    "                spe+=i\n",
    "        else:\n",
    "             spl+=i \n",
    "    if not(len(num)>=1):\n",
    "         print('should contain min 1 number character')\n",
    "    if  not(1<=len(lower)<=5):\n",
    "         print(\"max 5 lowercase chare's and min 1 lowercase char\")\n",
    "    if not(len(spe)==2):\n",
    "         print('should contain 2 special chars only')       \n",
    "    if len(num)>=1 and 1<=len(lower)<=5 and len(spe)==2  and len(spl)==0:\n",
    "        print('valid password')\n",
    "    else:\n",
    "         print('invalid ')\n",
    "else:  \n",
    "    print('invalid password')\n"
   ]
  },
  {
   "cell_type": "code",
   "execution_count": 31,
   "metadata": {},
   "outputs": [
    {
     "name": "stdout",
     "output_type": "stream",
     "text": [
      "password should not be . space ()[] {}\n"
     ]
    }
   ],
   "source": [
    "#wap to check given password is valid or not. if invalid display the reasons\n",
    "#min 1 numeric char\n",
    "#min 2 special char except . (){}[] and space' '\n",
    "#starting and ending character should be uppercase \n",
    "#max 5 lowercase chares and min 1 lowercase char\n",
    "#given input is string and length of the string min 8 and max 20\n",
    "s='A2#$asSFA.DdfZ'\n",
    "if not(type(s)==str):\n",
    "    print('value should be string')\n",
    "elif not (8<=len(s)<=20):\n",
    "    print('password should contain min 8 and max 20 characters')\n",
    "elif not('A'<=s[0]<='Z' and 'A'<=s[-1]<='Z'):\n",
    "    print('password first and last characters should be uppercase')\n",
    "else:\n",
    "    lower=''\n",
    "    upper=''\n",
    "    num=''\n",
    "    spe=''\n",
    "    spl=''\n",
    "    for i in s:\n",
    "        if 'a'<=i<='z':\n",
    "            lower+=i\n",
    "        elif 'A'<=i<='Z':\n",
    "            upper+=i\n",
    "        elif '0'<=i<='9':\n",
    "            num+=i\n",
    "        elif i not in('.(){}[] '):\n",
    "                spe+=i\n",
    "        else:\n",
    "             spl+=i \n",
    "if not(len(num)>=1):\n",
    "         print('should contain min 1 number character')\n",
    "if  not(1<=len(lower)<=5):\n",
    "         print(\"max 5 lowercase chare's and min 1 lowercase char\")\n",
    "if not(len(spe)==2):\n",
    "         print('should contain 2 special chars only')\n",
    "if   not(len(spl)==0):\n",
    "      print('password should not be . space ()[] {}')     \n",
    "\n"
   ]
  },
  {
   "cell_type": "code",
   "execution_count": 36,
   "metadata": {},
   "outputs": [
    {
     "name": "stdout",
     "output_type": "stream",
     "text": [
      "4\n"
     ]
    }
   ],
   "source": [
    "#wap to count number of data items in given collection without length function\n",
    "s=eval(input('enter value'))\n",
    "count=0\n",
    "if type(s) in [str,list,tuple,set,dict,bytes]:\n",
    "    for i in s:\n",
    "     count+=1\n",
    "print(count)"
   ]
  },
  {
   "cell_type": "code",
   "execution_count": 39,
   "metadata": {},
   "outputs": [
    {
     "name": "stdout",
     "output_type": "stream",
     "text": [
      "2\n"
     ]
    }
   ],
   "source": [
    "#wap to count the specific data item in given collection\n",
    "s=eval(input('enter value'))\n",
    "spe=eval(input('enter value'))\n",
    "if type(s) in [str,list,tuple]:\n",
    "    count=0\n",
    "    for i in s:\n",
    "     if spe==i:\n",
    "        count+=1\n",
    "    print(count)"
   ]
  },
  {
   "cell_type": "code",
   "execution_count": 66,
   "metadata": {},
   "outputs": [
    {
     "name": "stdout",
     "output_type": "stream",
     "text": [
      "{'h': 1, 'e': 1, 'l': 2, 'o': 1}\n",
      "2\n"
     ]
    }
   ],
   "source": [
    "#wap to count frequency of each data item in given collention\n",
    "#1.wap to extract unique data items from the given collection\n",
    "st='hello'\n",
    "uni=''\n",
    "for i in st:\n",
    "    if i not in uni:\n",
    "        uni+=i\n",
    "# print(uni)\n",
    "l=[]\n",
    "for i in uni:\n",
    "    count=0\n",
    "    for j in st:\n",
    "        if i==j:\n",
    "            count+=1\n",
    "    # print(i,count)\n",
    "    l+=[[i,count]]\n",
    "    \n",
    "dic=dict(l)\n",
    "print(dic)\n",
    "print(dic['l'])\n"
   ]
  },
  {
   "cell_type": "code",
   "execution_count": 45,
   "metadata": {},
   "outputs": [
    {
     "name": "stdout",
     "output_type": "stream",
     "text": [
      "[12, 44, 53, 66]\n"
     ]
    }
   ],
   "source": [
    "st=[12,44,53,66]\n",
    "uni=[]\n",
    "for i in st:\n",
    "    if i not in uni:\n",
    "        uni+=[i]\n",
    "print(uni)"
   ]
  },
  {
   "cell_type": "code",
   "execution_count": 50,
   "metadata": {},
   "outputs": [
    {
     "name": "stdout",
     "output_type": "stream",
     "text": [
      "(212, 43, 23, 54)\n"
     ]
    }
   ],
   "source": [
    "st=(212,43,23,54)\n",
    "uni=()\n",
    "for i in st:\n",
    "    if i not in uni:\n",
    "        uni+=(i,)\n",
    "print(uni)"
   ]
  },
  {
   "cell_type": "code",
   "execution_count": 43,
   "metadata": {},
   "outputs": [
    {
     "name": "stdout",
     "output_type": "stream",
     "text": [
      "{'e', 'l', 'h', 'o'}\n"
     ]
    }
   ],
   "source": [
    "st='hello'\n",
    "uni=set(st)\n",
    "print(uni)"
   ]
  },
  {
   "cell_type": "code",
   "execution_count": 81,
   "metadata": {},
   "outputs": [
    {
     "name": "stdout",
     "output_type": "stream",
     "text": [
      "{'h': 1, 'e': 1, 'l': 2, 'o': 1}\n"
     ]
    }
   ],
   "source": [
    "st='hello'\n",
    "dic={}\n",
    "for i in st:\n",
    "    if i not in dic:\n",
    "        dic[i]=1\n",
    "    else:\n",
    "        dic[i]+=1\n",
    "print(dic)"
   ]
  },
  {
   "cell_type": "code",
   "execution_count": 87,
   "metadata": {},
   "outputs": [
    {
     "name": "stdout",
     "output_type": "stream",
     "text": [
      "{'h': 1, 'e': 1, 'l': 2, 'o': 1}\n",
      "{'l': 2}\n"
     ]
    }
   ],
   "source": [
    "#wap to find the maximum accurense char in given string\n",
    "st='hello'\n",
    "dic={}\n",
    "for i in st:\n",
    "    if i not in dic:\n",
    "        dic[i]=1\n",
    "    else:\n",
    "        dic[i]+=1\n",
    "print(dic)\n",
    "min=0\n",
    "for i in dic:\n",
    "    if min<dic[i]:\n",
    "        min=dic[i]\n",
    "        max={i:dic[i]}\n",
    "print(max)"
   ]
  },
  {
   "cell_type": "code",
   "execution_count": 90,
   "metadata": {},
   "outputs": [
    {
     "name": "stdout",
     "output_type": "stream",
     "text": [
      "{'h': 1, 'e': 1, 'l': 2, 'o': 1}\n",
      "{'h': 1}\n"
     ]
    }
   ],
   "source": [
    "#wap to find the minimum accurense char in given string\n",
    "st='hello'\n",
    "dic={}\n",
    "for i in st:\n",
    "    if i not in dic:\n",
    "        dic[i]=1\n",
    "    else:\n",
    "        dic[i]+=1\n",
    "print(dic)\n",
    "min=len(dic)\n",
    "for i in dic:\n",
    "    if min>dic[i]:\n",
    "        min=dic[i]\n",
    "        max={i:dic[i]}\n",
    "print(max)"
   ]
  },
  {
   "cell_type": "code",
   "execution_count": 1,
   "metadata": {},
   "outputs": [
    {
     "name": "stdout",
     "output_type": "stream",
     "text": [
      "{'h': 1}\n",
      "[['h', 1], ['e', 1], ['o', 1]]\n"
     ]
    }
   ],
   "source": [
    "#wap to find the minimum accurense char in given string\n",
    "st='hello'\n",
    "dic={}\n",
    "for i in st:\n",
    "    if i not in dic:\n",
    "        dic[i]=1\n",
    "    else:\n",
    "        dic[i]+=1\n",
    "# print(dic)\n",
    "min=len(st)\n",
    "l=[]\n",
    "for i in dic:\n",
    "    if min>dic[i]:\n",
    "        min=dic[i]\n",
    "        l+=[[i,dic[i]]]\n",
    "        max={i:dic[i]}\n",
    "    elif min==dic[i]:\n",
    "        l+=[[i,dic[i]]]\n",
    "print(max)\n",
    "print(l)"
   ]
  },
  {
   "cell_type": "code",
   "execution_count": 13,
   "metadata": {},
   "outputs": [
    {
     "name": "stdout",
     "output_type": "stream",
     "text": [
      "{'h': 1, 'e': 1, 'l': 3, 'o': 2, 'w': 1, 'r': 1, 'd': 1}\n",
      "{1: ['h', 'e', 'w', 'r', 'd'], 3: ['l'], 2: ['o']}\n",
      "5\n"
     ]
    }
   ],
   "source": [
    "st='helloworld'\n",
    "# o/p  d={1:['h','e',' ','w','r','d'],2:['o'],3:[['l']]}\n",
    "dic={}\n",
    "for i in st:\n",
    "    if i not in dic:\n",
    "        dic[i]=1  \n",
    "    else:\n",
    "        dic[i]+=1\n",
    "print(dic)\n",
    "valu={}\n",
    "for i in dic:\n",
    "    if dic[i] not in valu:\n",
    "        valu[dic[i]]=[i]\n",
    "    else:\n",
    "        valu[dic[i]]+=[i]\n",
    "print(valu)\n",
    "f=list(valu)\n",
    "# print(f)\n",
    "num=9\n",
    "for i in f:\n",
    "    if num>i:\n",
    "        num=i\n",
    "# print(num)\n",
    "print(len(valu[num]))\n"
   ]
  },
  {
   "cell_type": "code",
   "execution_count": 14,
   "metadata": {},
   "outputs": [
    {
     "name": "stdout",
     "output_type": "stream",
     "text": [
      "{'h': 1, 'e': 1, 'l': 3, 'o': 2, 'w': 1, 'r': 1, 'd': 1}\n",
      "{1: ['h', 'e', 'w', 'r', 'd'], 3: ['l'], 2: ['o']}\n",
      "5\n"
     ]
    }
   ],
   "source": [
    "#wap to count least accurense character from given string\n",
    "st='helloworld'\n",
    "# o/p  d={1:['h','e',' ','w','r','d'],2:['o'],3:[['l']]}\n",
    "dic={}\n",
    "for i in st:\n",
    "    if i not in dic:\n",
    "        dic[i]=1  \n",
    "    else:\n",
    "        dic[i]+=1\n",
    "print(dic)\n",
    "valu={}\n",
    "for i in dic:\n",
    "    if dic[i] not in valu:\n",
    "        valu[dic[i]]=[i]\n",
    "    else:\n",
    "        valu[dic[i]]+=[i]\n",
    "print(valu)\n",
    "f=list(valu)\n",
    "# print(f)\n",
    "num=9\n",
    "for i in f:\n",
    "    if num>i:\n",
    "        num=i\n",
    "# print(num)\n",
    "print(len(valu[num]))\n"
   ]
  },
  {
   "cell_type": "code",
   "execution_count": 6,
   "metadata": {},
   "outputs": [
    {
     "name": "stdout",
     "output_type": "stream",
     "text": [
      "ajar\n"
     ]
    }
   ],
   "source": [
    "#wap to reverse the string without using indexing and slicing\n",
    "st='raja'\n",
    "rev=''\n",
    "for i in st:\n",
    "    rev=i+rev\n",
    "print(rev)\n"
   ]
  },
  {
   "cell_type": "code",
   "execution_count": 7,
   "metadata": {},
   "outputs": [
    {
     "name": "stdout",
     "output_type": "stream",
     "text": [
      "polindrome\n"
     ]
    }
   ],
   "source": [
    "#wap to check the string is polindrom or not without using indexing and slicing\n",
    "st='level'\n",
    "rev=''\n",
    "for i in st:\n",
    "    rev=i+rev\n",
    "if st==rev:\n",
    "    print('polindrome')\n",
    "else:\n",
    "    print('not a polindrom')"
   ]
  },
  {
   "cell_type": "code",
   "execution_count": 26,
   "metadata": {},
   "outputs": [
    {
     "name": "stdout",
     "output_type": "stream",
     "text": [
      "m\n",
      "mo\n",
      "mob\n",
      "mobi\n",
      "mobil\n",
      "mobile\n"
     ]
    }
   ],
   "source": [
    "#\n",
    "st='mobile'\n",
    "pos=1\n",
    "for i in st:\n",
    "    print(st[0:pos])\n",
    "    pos+=1"
   ]
  },
  {
   "cell_type": "code",
   "execution_count": null,
   "metadata": {},
   "outputs": [],
   "source": []
  },
  {
   "cell_type": "code",
   "execution_count": 28,
   "metadata": {},
   "outputs": [
    {
     "name": "stdout",
     "output_type": "stream",
     "text": [
      "m\n",
      "mo\n",
      "mob\n",
      "mobi\n",
      "mobil\n",
      "mobile\n"
     ]
    }
   ],
   "source": [
    "st='mobile'\n",
    "pat=''\n",
    "for i in st:\n",
    "    pat+=i\n",
    "    print(pat)"
   ]
  },
  {
   "cell_type": "code",
   "execution_count": 43,
   "metadata": {},
   "outputs": [
    {
     "name": "stdout",
     "output_type": "stream",
     "text": [
      "m\n",
      "mo\n",
      "mob\n",
      "mobi\n",
      "mobil\n",
      "mobile\n"
     ]
    }
   ],
   "source": [
    "st='mobile'\n",
    "for i in range(len(st)):\n",
    "    for j in range(i):\n",
    "        print(st[j],end='')\n",
    "    print(st[i])"
   ]
  },
  {
   "cell_type": "code",
   "execution_count": 42,
   "metadata": {},
   "outputs": [
    {
     "name": "stdout",
     "output_type": "stream",
     "text": [
      "1\n",
      "* 1\n",
      "* * 1\n",
      "* * * 1\n",
      "* * * * 1\n",
      "* * * * * 1\n",
      "* * * * * * 1\n"
     ]
    }
   ],
   "source": [
    "for i in range(7):\n",
    "    for j in range(i):\n",
    "        print(\"*\",end=' ' )\n",
    "    print(\"1\")\n"
   ]
  },
  {
   "cell_type": "code",
   "execution_count": 50,
   "metadata": {},
   "outputs": [
    {
     "name": "stdout",
     "output_type": "stream",
     "text": [
      "m\n",
      "mo\n",
      "mob\n",
      "mobi\n",
      "mobil\n",
      "mobile\n",
      "o\n",
      "ob\n",
      "obi\n",
      "obil\n",
      "obile\n",
      "b\n",
      "bi\n",
      "bil\n",
      "bile\n",
      "i\n",
      "il\n",
      "ile\n",
      "l\n",
      "le\n",
      "e\n"
     ]
    }
   ],
   "source": [
    "#\n",
    "st='mobile'\n",
    "sos=0\n",
    "for j in st:\n",
    "    pos=1\n",
    "    for i in st:\n",
    "        if sos<pos:\n",
    "            print(st[sos:pos])\n",
    "        pos+=1\n",
    "    sos+=1"
   ]
  },
  {
   "cell_type": "code",
   "execution_count": 51,
   "metadata": {},
   "outputs": [
    {
     "data": {
      "text/plain": [
       "range(0, 10)"
      ]
     },
     "execution_count": 51,
     "metadata": {},
     "output_type": "execute_result"
    }
   ],
   "source": [
    "range(0,10)"
   ]
  },
  {
   "cell_type": "code",
   "execution_count": 53,
   "metadata": {},
   "outputs": [
    {
     "data": {
      "text/plain": [
       "[0, 1, 2, 3, 4, 5, 6, 7, 8, 9]"
      ]
     },
     "execution_count": 53,
     "metadata": {},
     "output_type": "execute_result"
    }
   ],
   "source": [
    "list(range(0,10))"
   ]
  },
  {
   "cell_type": "code",
   "execution_count": 64,
   "metadata": {},
   "outputs": [
    {
     "data": {
      "text/plain": [
       "[10, 9, 8, 7, 6, 5, 4, 3, 2, 1]"
      ]
     },
     "execution_count": 64,
     "metadata": {},
     "output_type": "execute_result"
    }
   ],
   "source": [
    "list(range(10,0,-1))"
   ]
  },
  {
   "cell_type": "code",
   "execution_count": 65,
   "metadata": {},
   "outputs": [
    {
     "data": {
      "text/plain": [
       "[]"
      ]
     },
     "execution_count": 65,
     "metadata": {},
     "output_type": "execute_result"
    }
   ],
   "source": [
    "list(range(-10,-1,-1))"
   ]
  },
  {
   "cell_type": "code",
   "execution_count": 56,
   "metadata": {},
   "outputs": [
    {
     "data": {
      "text/plain": [
       "[-1, -2, -3, -4, -5, -6, -7, -8, -9]"
      ]
     },
     "execution_count": 56,
     "metadata": {},
     "output_type": "execute_result"
    }
   ],
   "source": [
    "list(range(-1,-10,-1))"
   ]
  },
  {
   "cell_type": "code",
   "execution_count": 57,
   "metadata": {},
   "outputs": [
    {
     "data": {
      "text/plain": [
       "[-10, -8, -6, -4, -2]"
      ]
     },
     "execution_count": 57,
     "metadata": {},
     "output_type": "execute_result"
    }
   ],
   "source": [
    "list(range(-10,-1,2))"
   ]
  },
  {
   "cell_type": "code",
   "execution_count": 58,
   "metadata": {},
   "outputs": [
    {
     "data": {
      "text/plain": [
       "[0, 2, 4, 6, 8, 10]"
      ]
     },
     "execution_count": 58,
     "metadata": {},
     "output_type": "execute_result"
    }
   ],
   "source": [
    "list(range(0,11,2))"
   ]
  },
  {
   "cell_type": "code",
   "execution_count": 63,
   "metadata": {},
   "outputs": [
    {
     "data": {
      "text/plain": [
       "[0, 3, 6, 9]"
      ]
     },
     "execution_count": 63,
     "metadata": {},
     "output_type": "execute_result"
    }
   ],
   "source": [
    "list(range(0,10,3))"
   ]
  },
  {
   "cell_type": "code",
   "execution_count": 66,
   "metadata": {},
   "outputs": [
    {
     "data": {
      "text/plain": [
       "[0, 1, 2, 3, 4, 5, 6, 7, 8, 9]"
      ]
     },
     "execution_count": 66,
     "metadata": {},
     "output_type": "execute_result"
    }
   ],
   "source": [
    "list(range(10))"
   ]
  },
  {
   "cell_type": "code",
   "execution_count": 69,
   "metadata": {},
   "outputs": [
    {
     "name": "stdout",
     "output_type": "stream",
     "text": [
      "10\n",
      "9\n",
      "8\n",
      "7\n",
      "6\n",
      "5\n",
      "4\n",
      "3\n",
      "2\n",
      "1\n"
     ]
    }
   ],
   "source": [
    "for i in range(10,0,-1):\n",
    "    print(i)"
   ]
  },
  {
   "cell_type": "code",
   "execution_count": 82,
   "metadata": {},
   "outputs": [
    {
     "name": "stdout",
     "output_type": "stream",
     "text": [
      "l\n",
      "le\n",
      "lev\n",
      "leve\n",
      "level\n"
     ]
    }
   ],
   "source": [
    "st='level'\n",
    "for i in range(1,len(st)+1):\n",
    "    print(st[0:i])"
   ]
  },
  {
   "cell_type": "code",
   "execution_count": 97,
   "metadata": {},
   "outputs": [
    {
     "name": "stdout",
     "output_type": "stream",
     "text": [
      "l\n",
      "le\n",
      "lev\n",
      "leve\n",
      "level\n",
      "e\n",
      "ev\n",
      "eve\n",
      "evel\n",
      "v\n",
      "ve\n",
      "vel\n",
      "e\n",
      "el\n",
      "l\n"
     ]
    }
   ],
   "source": [
    "st='level'\n",
    "for j in range(len(st)+1):\n",
    "    for i in range(len(st)+1):\n",
    "        if j<i:\n",
    "            print(st[j:i])"
   ]
  },
  {
   "cell_type": "code",
   "execution_count": 103,
   "metadata": {},
   "outputs": [
    {
     "name": "stdout",
     "output_type": "stream",
     "text": [
      "hello\n",
      "hell\n",
      "hel\n",
      "he\n",
      "h\n",
      "ello\n",
      "ell\n",
      "el\n",
      "e\n",
      "llo\n",
      "ll\n",
      "l\n",
      "lo\n",
      "l\n",
      "o\n"
     ]
    }
   ],
   "source": [
    "st='hello'\n",
    "for i in range(len(st)):\n",
    "    for j in range(len(st),i,-1):\n",
    "            print(st[i:j])"
   ]
  },
  {
   "cell_type": "code",
   "execution_count": 2,
   "metadata": {},
   "outputs": [
    {
     "name": "stdout",
     "output_type": "stream",
     "text": [
      "square of 4 is: 25\n"
     ]
    }
   ],
   "source": [
    "s=lambda n:n*n\n",
    "print(\"square of 4 is:\",s(5))\n"
   ]
  },
  {
   "cell_type": "code",
   "execution_count": 3,
   "metadata": {},
   "outputs": [
    {
     "name": "stdout",
     "output_type": "stream",
     "text": [
      "even numbers: [0, 10, 20, 30, 52, 54]\n"
     ]
    }
   ],
   "source": [
    "l=[0,5,10,15,20,25,30,41,47,52,54]\n",
    "\n",
    "l1=list(filter(lambda x:x%2==0,l))\n",
    "\n",
    "print(\"even numbers:\",l1)\n"
   ]
  },
  {
   "cell_type": "code",
   "execution_count": 2,
   "metadata": {},
   "outputs": [
    {
     "name": "stdout",
     "output_type": "stream",
     "text": [
      "abcdcba\n",
      "bcdcb\n",
      "cdc\n",
      "xyzzyx\n",
      "yzzy\n",
      "zz\n",
      "5445\n",
      "44\n"
     ]
    }
   ],
   "source": [
    "#extract polindromes\n",
    "st='abcdcbalifhxyzzyx15445#$5' #abcdcba , bcdcb , cdc,xyzzyx, zz, 5445 , 44\n",
    "for start in range(0,len(st)):\n",
    "    for end in range(start+1,len(st)+1):\n",
    "        res=(st[start:end:1])\n",
    "        if len(res)>1 and res==res[::-1]:\n",
    "            print(res)"
   ]
  },
  {
   "cell_type": "code",
   "execution_count": 3,
   "metadata": {},
   "outputs": [
    {
     "name": "stdout",
     "output_type": "stream",
     "text": [
      "['abcdcba', 'bcdcb', 'cdc', 'xyzzyx', 'yzzy', 'zz', '5445', '44']\n",
      "8\n"
     ]
    }
   ],
   "source": [
    "#extract polindromes\n",
    "st='abcdcbalifhxyzzyx15445#$5' #abcdcba , bcdcb , cdc,xyzzyx, zz, 5445 , 44\n",
    "l=[]\n",
    "for start in range(0,len(st)):\n",
    "    for end in range(start+1,len(st)+1):\n",
    "        res=(st[start:end:1])\n",
    "        if len(res)>1 and res==res[::-1]:\n",
    "            l+=[res]\n",
    "print(l)\n",
    "print(len(l))"
   ]
  },
  {
   "cell_type": "markdown",
   "metadata": {},
   "source": [
    "coading bat"
   ]
  },
  {
   "cell_type": "code",
   "execution_count": 5,
   "metadata": {},
   "outputs": [
    {
     "name": "stdout",
     "output_type": "stream",
     "text": [
      "3 + 2 = 5\n",
      "2 + 3 = 5\n",
      "2 + 3 = 5\n",
      "2 + 3 = 5\n",
      "1 + 4 = 5\n",
      "1 + 4 = 5\n",
      "3 + 2 = 5\n",
      "0 + 5 = 5\n",
      "0 + 5 = 5\n",
      "4 + 1 = 5\n",
      "5 + 0 = 5\n",
      "5 + 0 = 5\n",
      "3 + 2 = 5\n",
      "4 + 1 = 5\n"
     ]
    }
   ],
   "source": [
    "#find the posibilities of  5\n",
    "st='321304576534'\n",
    "for i in st:\n",
    "    # print(type(i))\n",
    "    for j in st:\n",
    "\n",
    "        if int(i)+int(j)==5 :\n",
    "            print(i,'+',j,'=',int(i)+int(j) )\n",
    "    # print(i)"
   ]
  },
  {
   "cell_type": "code",
   "execution_count": 6,
   "metadata": {},
   "outputs": [
    {
     "name": "stdout",
     "output_type": "stream",
     "text": [
      "n 4\n",
      "n 5\n"
     ]
    }
   ],
   "source": [
    "#wap to display the index value for given chr in given string.\n",
    "n='aizennsosuke'\n",
    "m='n'\n",
    "j=0\n",
    "for i in range(0,len(n)):\n",
    "    if n[j]==m:\n",
    "        print(n[j],j)\n",
    "    j+=1"
   ]
  },
  {
   "cell_type": "code",
   "execution_count": 10,
   "metadata": {},
   "outputs": [
    {
     "name": "stdout",
     "output_type": "stream",
     "text": [
      "n 0\n",
      "n 5\n",
      "n 6\n",
      "n 13\n"
     ]
    }
   ],
   "source": [
    "n='naizennsosuken'\n",
    "m='n'\n",
    "for i in range(0,len(n)):\n",
    "    # print(i)\n",
    "    if n[i]==m:\n",
    "        print(m,i)"
   ]
  },
  {
   "cell_type": "code",
   "execution_count": 12,
   "metadata": {},
   "outputs": [
    {
     "name": "stdout",
     "output_type": "stream",
     "text": [
      "n 12\n"
     ]
    }
   ],
   "source": [
    "#wap to find n time repeated character index position\n",
    "st='aizennnnsosunke'\n",
    "ch='n'\n",
    "n=5\n",
    "count=0\n",
    "for i in range(0,len(st)):\n",
    "    if st[i]==ch:\n",
    "        count+=1\n",
    "        if n==count:\n",
    "            print(ch,i)"
   ]
  },
  {
   "cell_type": "code",
   "execution_count": 16,
   "metadata": {},
   "outputs": [
    {
     "name": "stdout",
     "output_type": "stream",
     "text": [
      "s 5\n",
      "k 9\n"
     ]
    }
   ],
   "source": [
    "#wap to display the index position for given substring for given string.\n",
    "st='aizensosuke'\n",
    "ch='sk'\n",
    "for i in range(0,len(ch)):\n",
    "    for j in range(0,len(st)):\n",
    "        if ch[i]==st[j]:\n",
    "            print(st[j],j)\n",
    "            break"
   ]
  },
  {
   "cell_type": "code",
   "execution_count": 14,
   "metadata": {},
   "outputs": [
    {
     "name": "stdout",
     "output_type": "stream",
     "text": [
      "s 5\n",
      "s 7\n",
      "k 9\n"
     ]
    }
   ],
   "source": [
    "st='aizensosuke'\n",
    "ch='sk'\n",
    "for i in range(0,len(st)):\n",
    "    for j in range(0,len(ch)):\n",
    "        if st[i]==ch[j]:\n",
    "            print(st[i],i)"
   ]
  },
  {
   "cell_type": "code",
   "execution_count": 21,
   "metadata": {},
   "outputs": [
    {
     "name": "stdout",
     "output_type": "stream",
     "text": [
      "1 4\n"
     ]
    }
   ],
   "source": [
    "#wap to check the given substring is present inside the given string \n",
    "#or not.if substring is present to display the starting index and ending index.\n",
    "st='python is a programming'\n",
    "s='yth'\n",
    "#o/p=1,4\n",
    "if s in st:\n",
    "    for i in range(0,len(st)):\n",
    "        if s[0]==st[i]:\n",
    "            if st[i:i+len(s)]==s:\n",
    "                print(i,i+len(s))\n",
    "else:\n",
    "    print(\"string is not available\")"
   ]
  }
 ],
 "metadata": {
  "kernelspec": {
   "display_name": "Python 3",
   "language": "python",
   "name": "python3"
  },
  "language_info": {
   "codemirror_mode": {
    "name": "ipython",
    "version": 3
   },
   "file_extension": ".py",
   "mimetype": "text/x-python",
   "name": "python",
   "nbconvert_exporter": "python",
   "pygments_lexer": "ipython3",
   "version": "3.10.7"
  },
  "orig_nbformat": 4
 },
 "nbformat": 4,
 "nbformat_minor": 2
}
