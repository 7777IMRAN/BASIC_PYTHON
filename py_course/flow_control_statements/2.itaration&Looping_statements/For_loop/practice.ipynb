{
 "cells": [
  {
   "cell_type": "code",
   "execution_count": 2,
   "metadata": {},
   "outputs": [
    {
     "name": "stdout",
     "output_type": "stream",
     "text": [
      "14\n"
     ]
    }
   ],
   "source": [
    "#wap to convert binary  to decimal value\n",
    "# a=bytes(input('enter value'),'utf-8')\n",
    "a=b'1110'\n",
    "b=0\n",
    "# c=0\n",
    "d=str(a)\n",
    "for i in range(1,len(a)+1):\n",
    "   b+=int(d[-i-1])*2**(i-1)\n",
    "   # c+=1\n",
    "print(b)\n",
    "#---------------------------------------------------------------------------\n",
    "# d=0b101\n",
    "# print(d)\n",
    "#---------------------------------------------------------------------------\n"
   ]
  },
  {
   "cell_type": "code",
   "execution_count": 1,
   "metadata": {},
   "outputs": [
    {
     "name": "stdout",
     "output_type": "stream",
     "text": [
      "4\n",
      "14\n",
      "14\n"
     ]
    }
   ],
   "source": [
    "a=b'1110'\n",
    "b=0\n",
    "n=len(a)\n",
    "for i in range(0,len(a)):\n",
    "    if a[i]==49:\n",
    "        f=1\n",
    "    else:\n",
    "        f=0\n",
    "    b+=f*2**((len(a)-1)-i)\n",
    "print(b)\n",
    "a=0b1110\n",
    "print(a)\n"
   ]
  },
  {
   "cell_type": "code",
   "execution_count": 124,
   "metadata": {},
   "outputs": [
    {
     "name": "stdout",
     "output_type": "stream",
     "text": [
      "0\n",
      "1\n",
      "2\n",
      "4\n",
      "stop\n"
     ]
    }
   ],
   "source": [
    "# a='string'\n",
    "a=5\n",
    "# for i in range(0,len(a)):\n",
    "for i in range(0,a):\n",
    "    if i==3:\n",
    "        # break\n",
    "        pass\n",
    "    else:\n",
    "        print(i)\n",
    "print('stop')"
   ]
  },
  {
   "cell_type": "code",
   "execution_count": 2,
   "metadata": {},
   "outputs": [
    {
     "name": "stdout",
     "output_type": "stream",
     "text": [
      "1\n",
      "3\n",
      "5\n",
      "7\n",
      "9\n"
     ]
    }
   ],
   "source": [
    "#wap to print odd numbers upto n using for loop\n",
    "a=10\n",
    "for i in range(0,a):\n",
    "    if i%2!=0:\n",
    "        print(i)\n",
    "    "
   ]
  },
  {
   "cell_type": "code",
   "execution_count": 4,
   "metadata": {},
   "outputs": [
    {
     "name": "stdout",
     "output_type": "stream",
     "text": [
      "2\n",
      "4\n",
      "6\n",
      "8\n"
     ]
    }
   ],
   "source": [
    "#wap to print even numbers upto n using for loop\n",
    "a=10\n",
    "for i in range(1,a):\n",
    "    if i%2==0:\n",
    "        print(i)"
   ]
  },
  {
   "cell_type": "code",
   "execution_count": 15,
   "metadata": {},
   "outputs": [
    {
     "name": "stdout",
     "output_type": "stream",
     "text": [
      "*\n",
      "* *\n",
      "* * *\n",
      "* * * *\n",
      "* * * * *\n",
      "* * * * * *\n",
      "* * * * * * *\n"
     ]
    }
   ],
   "source": [
    "for i in range(7):\n",
    "    for j in range(i):\n",
    "        print(\"*\",end=' ' )\n",
    "    print(\"*\")\n"
   ]
  },
  {
   "cell_type": "code",
   "execution_count": 1,
   "metadata": {},
   "outputs": [
    {
     "name": "stdout",
     "output_type": "stream",
     "text": [
      "h\n",
      "e\n",
      "l\n",
      "l\n",
      "o\n"
     ]
    }
   ],
   "source": [
    "#wap to extract each and every character from string using for loop\n",
    "st='hello'\n",
    "for i in st:\n",
    "    print(i)"
   ]
  },
  {
   "cell_type": "code",
   "execution_count": 5,
   "metadata": {},
   "outputs": [
    {
     "name": "stdout",
     "output_type": "stream",
     "text": [
      "10\n",
      "20\n",
      "30\n",
      "None\n",
      "(10, 20)\n",
      "True\n",
      "[10, 20]\n",
      "{10: 20}\n",
      "{2, 3, 4}\n"
     ]
    }
   ],
   "source": [
    "#wap to extract each data item  from the collection using for loop\n",
    "l=[10,20,30,None,(10,20,),True,[10,20],{10:20},{3,2,4}]\n",
    "for i in l:\n",
    "    print(i)"
   ]
  },
  {
   "cell_type": "code",
   "execution_count": 6,
   "metadata": {},
   "outputs": [
    {
     "name": "stdout",
     "output_type": "stream",
     "text": [
      "10\n",
      "20\n",
      "30\n",
      "None\n",
      "(10, 20)\n",
      "True\n",
      "[10, 20]\n",
      "{10: 20}\n",
      "{2, 3, 4}\n"
     ]
    }
   ],
   "source": [
    "l=(10,20,30,None,(10,20,),True,[10,20],{10:20},{3,2,4})\n",
    "for i in l:\n",
    "    print(i)"
   ]
  },
  {
   "cell_type": "code",
   "execution_count": 10,
   "metadata": {},
   "outputs": [
    {
     "name": "stdout",
     "output_type": "stream",
     "text": [
      "None\n",
      "True\n",
      "b'101'\n",
      "10\n",
      "(10, 20)\n"
     ]
    }
   ],
   "source": [
    "l={10,None,(10,20,),True,b'101'}\n",
    "for i in l:\n",
    "    print(i)"
   ]
  },
  {
   "cell_type": "code",
   "execution_count": 14,
   "metadata": {},
   "outputs": [
    {
     "name": "stdout",
     "output_type": "stream",
     "text": [
      "20\n",
      "(10, 39)\n",
      "['dsf', 'jkl']\n"
     ]
    }
   ],
   "source": [
    "l={10:20,30:(10,39),80:['dsf','jkl']}\n",
    "for i in l:\n",
    "    print(l[i])#values"
   ]
  },
  {
   "cell_type": "code",
   "execution_count": 15,
   "metadata": {},
   "outputs": [
    {
     "name": "stdout",
     "output_type": "stream",
     "text": [
      "10\n",
      "30\n",
      "80\n"
     ]
    }
   ],
   "source": [
    "l={10:20,30:(10,39),80:['dsf','jkl']}\n",
    "for i in l:\n",
    "    print(i)#keys"
   ]
  }
 ],
 "metadata": {
  "kernelspec": {
   "display_name": "Python 3",
   "language": "python",
   "name": "python3"
  },
  "language_info": {
   "codemirror_mode": {
    "name": "ipython",
    "version": 3
   },
   "file_extension": ".py",
   "mimetype": "text/x-python",
   "name": "python",
   "nbconvert_exporter": "python",
   "pygments_lexer": "ipython3",
   "version": "3.10.7"
  },
  "orig_nbformat": 4
 },
 "nbformat": 4,
 "nbformat_minor": 2
}
