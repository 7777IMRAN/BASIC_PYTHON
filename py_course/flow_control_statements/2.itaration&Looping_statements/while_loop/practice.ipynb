{
 "cells": [
  {
   "cell_type": "code",
   "execution_count": 67,
   "metadata": {},
   "outputs": [
    {
     "name": "stdout",
     "output_type": "stream",
     "text": [
      "1\n",
      "5\n",
      "4\n",
      "8\n",
      "9\n"
     ]
    }
   ],
   "source": [
    "n=15489\n",
    "n=str(n)\n",
    "i=0\n",
    "while i<len(n):\n",
    "    print(n[i])\n",
    "    i+=1"
   ]
  },
  {
   "cell_type": "code",
   "execution_count": null,
   "metadata": {},
   "outputs": [],
   "source": []
  },
  {
   "cell_type": "code",
   "execution_count": null,
   "metadata": {},
   "outputs": [],
   "source": []
  },
  {
   "cell_type": "code",
   "execution_count": 3,
   "metadata": {},
   "outputs": [
    {
     "name": "stdout",
     "output_type": "stream",
     "text": [
      "9\n"
     ]
    }
   ],
   "source": [
    "#wap to find largest  digit  from given number\n",
    "n=154819\n",
    "res=0\n",
    "while n:\n",
    "    ld=n%10\n",
    "    if res<ld:\n",
    "        res=ld\n",
    "    n=n//10\n",
    "print(res)"
   ]
  },
  {
   "cell_type": "code",
   "execution_count": 3,
   "metadata": {},
   "outputs": [
    {
     "name": "stdout",
     "output_type": "stream",
     "text": [
      "8\n"
     ]
    }
   ],
   "source": [
    "#wap to find largest  digit  from given number\n",
    "n=154085\n",
    "a=list(str(n))\n",
    "print(sorted(a)[-1])"
   ]
  },
  {
   "cell_type": "code",
   "execution_count": 12,
   "metadata": {},
   "outputs": [
    {
     "name": "stdout",
     "output_type": "stream",
     "text": [
      "1\n"
     ]
    }
   ],
   "source": [
    "#wap to find smallest  digit  from given number\n",
    "\n",
    "n=154819\n",
    "res=9\n",
    "while n:\n",
    "    ld=n%10\n",
    "    if res>ld:\n",
    "        res=ld\n",
    "    n=n//10\n",
    "print(res)"
   ]
  },
  {
   "cell_type": "code",
   "execution_count": 13,
   "metadata": {},
   "outputs": [
    {
     "name": "stdout",
     "output_type": "stream",
     "text": [
      "8\n"
     ]
    }
   ],
   "source": [
    "#wap to find even largest digit in given number\n",
    "n=15941228\n",
    "res=8\n",
    "while n:\n",
    "    ld=n%10\n",
    "    if res<ld and ld%2==0:\n",
    "        res=ld\n",
    "    n=n//10\n",
    "print(res)"
   ]
  },
  {
   "cell_type": "code",
   "execution_count": 14,
   "metadata": {},
   "outputs": [
    {
     "name": "stdout",
     "output_type": "stream",
     "text": [
      "6\n"
     ]
    }
   ],
   "source": [
    "#wap sum of all the digits of given number\n",
    "n=123\n",
    "res=0\n",
    "while n:\n",
    "    ld=n%10\n",
    "    res+=ld\n",
    "    n=n//10\n",
    "print(res)\n"
   ]
  },
  {
   "cell_type": "code",
   "execution_count": 16,
   "metadata": {},
   "outputs": [
    {
     "name": "stdout",
     "output_type": "stream",
     "text": [
      "6\n"
     ]
    }
   ],
   "source": [
    "#wap to perform product of all the digits in given number\n",
    "n=123\n",
    "res=1\n",
    "while n:\n",
    "    ld=n%10\n",
    "    res*=ld\n",
    "    n=n//10\n",
    "print(res)"
   ]
  },
  {
   "cell_type": "code",
   "execution_count": 64,
   "metadata": {},
   "outputs": [
    {
     "name": "stdout",
     "output_type": "stream",
     "text": [
      "-22\n"
     ]
    }
   ],
   "source": [
    "#wap to find out the diference value from given number\n",
    "n=1594128 #-12\n",
    "res=n%10\n",
    "while n:\n",
    "    ld=n%10\n",
    "    res-=ld\n",
    "    n=n//10\n",
    "print(res)"
   ]
  },
  {
   "cell_type": "code",
   "execution_count": 62,
   "metadata": {},
   "outputs": [
    {
     "name": "stdout",
     "output_type": "stream",
     "text": [
      "-28\n"
     ]
    }
   ],
   "source": [
    "n=1594128 #28\n",
    "temp=str(n)\n",
    "res=int(temp[0])\n",
    "i=1\n",
    "while i<len(temp):\n",
    "    res-=int(temp[i])\n",
    "    i+=1\n",
    "print(res)"
   ]
  },
  {
   "cell_type": "code",
   "execution_count": 32,
   "metadata": {},
   "outputs": [
    {
     "name": "stdout",
     "output_type": "stream",
     "text": [
      "[8, 2, 4]\n"
     ]
    }
   ],
   "source": [
    "#wap to extract even digits from given number\n",
    "n=1594128\n",
    "res=[]\n",
    "while n:\n",
    "    ld=n%10\n",
    "    if ld%2==0:\n",
    "        res+=[ld]\n",
    "    n=n//10\n",
    "print(res)\n",
    "    "
   ]
  },
  {
   "cell_type": "code",
   "execution_count": 34,
   "metadata": {},
   "outputs": [
    {
     "name": "stdout",
     "output_type": "stream",
     "text": [
      "8\n",
      "2\n",
      "4\n"
     ]
    }
   ],
   "source": [
    "n=1594128\n",
    "while n:\n",
    "    ld=n%10\n",
    "    if ld%2==0:\n",
    "        print(ld)\n",
    "    n=n//10"
   ]
  },
  {
   "cell_type": "code",
   "execution_count": 35,
   "metadata": {},
   "outputs": [
    {
     "name": "stdout",
     "output_type": "stream",
     "text": [
      "16\n"
     ]
    }
   ],
   "source": [
    "#wap to sum of odd digits from given number\n",
    "n=1594128\n",
    "res=0\n",
    "while n:\n",
    "    ld=n%10\n",
    "    if ld%2==1:\n",
    "        res+=ld\n",
    "    n=n//10\n",
    "print(res)"
   ]
  },
  {
   "cell_type": "code",
   "execution_count": 46,
   "metadata": {},
   "outputs": [
    {
     "name": "stdout",
     "output_type": "stream",
     "text": [
      "1\n",
      "2\n",
      "3\n",
      "4\n",
      "5\n",
      "6\n",
      "7\n",
      "8\n",
      "9\n",
      "10\n"
     ]
    }
   ],
   "source": [
    "#wap to generate the sequence values from m to n\n",
    "m=1\n",
    "n=10\n",
    "if m>n:\n",
    "    m,n=n,m\n",
    "while m<=n:\n",
    "    print(m)\n",
    "    m+=1\n"
   ]
  },
  {
   "cell_type": "code",
   "execution_count": 50,
   "metadata": {},
   "outputs": [
    {
     "name": "stdout",
     "output_type": "stream",
     "text": [
      "1\n",
      "2\n",
      "3\n",
      "4\n",
      "5\n",
      "6\n",
      "7\n",
      "8\n",
      "9\n",
      "10\n"
     ]
    }
   ],
   "source": [
    "#wap to generate sequence of values from 1 to n\n",
    "n=10\n",
    "m=1\n",
    "while m<=n:\n",
    "    print(m)\n",
    "    m+=1\n"
   ]
  },
  {
   "cell_type": "code",
   "execution_count": 45,
   "metadata": {},
   "outputs": [
    {
     "name": "stdout",
     "output_type": "stream",
     "text": [
      "10\n"
     ]
    }
   ],
   "source": [
    "#wap to sum of the digit from 1 to n\n",
    "m=0\n",
    "n=4\n",
    "sum=0\n",
    "while m<=n:\n",
    "    sum+=m\n",
    "    m+=1\n",
    "print(sum)\n"
   ]
  },
  {
   "cell_type": "code",
   "execution_count": 42,
   "metadata": {},
   "outputs": [
    {
     "name": "stdout",
     "output_type": "stream",
     "text": [
      "120\n"
     ]
    }
   ],
   "source": [
    "#wap to get product of all digits from 1 to n\n",
    "m=1\n",
    "n=5\n",
    "product=1\n",
    "while m<=n:\n",
    "    product*=m\n",
    "    m+=1\n",
    "print(product)"
   ]
  },
  {
   "cell_type": "code",
   "execution_count": 88,
   "metadata": {},
   "outputs": [
    {
     "name": "stdout",
     "output_type": "stream",
     "text": [
      "1\n",
      "5\n"
     ]
    }
   ],
   "source": [
    "#wap to find the factors of given numbers\n",
    "m=1\n",
    "n=5\n",
    "while m<=n:\n",
    "    if n%m==0:\n",
    "        print(m)\n",
    "    m+=1\n",
    "\n"
   ]
  },
  {
   "cell_type": "code",
   "execution_count": 87,
   "metadata": {},
   "outputs": [
    {
     "name": "stdout",
     "output_type": "stream",
     "text": [
      "2\n"
     ]
    }
   ],
   "source": [
    "#wap to count the number of factors in given number\n",
    "m=1\n",
    "n=5\n",
    "count=0\n",
    "while m<=n:\n",
    "    if n%m==0:\n",
    "        count+=1\n",
    "    m+=1\n",
    "print(count)\n",
    "\n"
   ]
  },
  {
   "cell_type": "code",
   "execution_count": 62,
   "metadata": {},
   "outputs": [
    {
     "name": "stdout",
     "output_type": "stream",
     "text": [
      "2\n",
      "prime\n"
     ]
    }
   ],
   "source": [
    "#wap to find given number is prime number or not\n",
    "m=1\n",
    "n=7\n",
    "count=0\n",
    "while m<=n:\n",
    "    if n%m==0:\n",
    "        count+=1\n",
    "    m+=1\n",
    "print(count)\n",
    "if count==2:\n",
    "    print('prime')\n",
    "else:\n",
    "    print('not a prime')\n"
   ]
  },
  {
   "cell_type": "code",
   "execution_count": 86,
   "metadata": {},
   "outputs": [
    {
     "name": "stdout",
     "output_type": "stream",
     "text": [
      "6\n"
     ]
    }
   ],
   "source": [
    "#wap sum of facters in given number\n",
    "m=1\n",
    "n=5\n",
    "sum=0\n",
    "while m<=n:\n",
    "    if n%m==0:\n",
    "        sum+=m\n",
    "    m+=1\n",
    "print(sum)"
   ]
  },
  {
   "cell_type": "code",
   "execution_count": 3,
   "metadata": {},
   "outputs": [
    {
     "name": "stdout",
     "output_type": "stream",
     "text": [
      "17\n",
      "17 is prime number\n"
     ]
    }
   ],
   "source": [
    "#wap to find sum of all the digits in given number, final result is prime number or not\n",
    "m=1259\n",
    "res=0\n",
    "while m:\n",
    "    n=m%10\n",
    "    res+=n\n",
    "    m=m//10\n",
    "print(res)\n",
    "m=1\n",
    "count=0\n",
    "while m<=res:\n",
    "    if res%m==0:\n",
    "        count+=1\n",
    "    m+=1\n",
    "if count==2:\n",
    "    print(f'{res} is prime number')\n",
    "else:\n",
    "    print(f'{res} is not prime number')\n",
    "\n",
    "\n"
   ]
  },
  {
   "cell_type": "code",
   "execution_count": 10,
   "metadata": {},
   "outputs": [
    {
     "name": "stdout",
     "output_type": "stream",
     "text": [
      "28\n",
      "28 is perfect number\n"
     ]
    }
   ],
   "source": [
    "#wap to find product of all the digits in given number, final result value is perfect number or not\n",
    "#m=270226003\n",
    "m=722\n",
    "res=1\n",
    "while m:\n",
    "    n=m%10\n",
    "    res*=n\n",
    "    m=m//10 \n",
    "print(res)\n",
    "b=1\n",
    "a=0\n",
    "while b<res:\n",
    "    if res%b==0 :\n",
    "        a+=b\n",
    "    b+=1\n",
    "if a==res and a!=0:\n",
    "    print(f'{res} is perfect number')\n",
    "else:\n",
    "    print(f'{res} is not perfect number')\n",
    "# perfect_number: In number theory, a perfect number is a positive integer that is equal to the sum of its positive divisors, \n",
    "# excluding the number itself.\n",
    "\n",
    "\n"
   ]
  },
  {
   "cell_type": "code",
   "execution_count": 9,
   "metadata": {},
   "outputs": [
    {
     "name": "stdout",
     "output_type": "stream",
     "text": [
      "25\n"
     ]
    }
   ],
   "source": [
    "m=550004 #270226003\n",
    "res=1\n",
    "while m:\n",
    "    n=m%10\n",
    "    if n!=0:\n",
    "        res*=n\n",
    "        m=m//10 \n",
    "    elif n==0:\n",
    "        m=m//10\n",
    "        res=1       \n",
    "print(res)"
   ]
  },
  {
   "cell_type": "code",
   "execution_count": 71,
   "metadata": {},
   "outputs": [
    {
     "name": "stdout",
     "output_type": "stream",
     "text": [
      "28 is perfect\n"
     ]
    }
   ],
   "source": [
    "n=28\n",
    "m=1\n",
    "s=0\n",
    "while m<n:\n",
    "    if n%m==0:\n",
    "        s=s+m\n",
    "    m+=1\n",
    "if s==n:\n",
    "    print(f'{n} is perfect')\n",
    "else:\n",
    "    print(f'{n} is not perfect')"
   ]
  },
  {
   "cell_type": "code",
   "execution_count": 6,
   "metadata": {},
   "outputs": [
    {
     "name": "stdout",
     "output_type": "stream",
     "text": [
      "0\n",
      "1\n",
      "1\n",
      "2\n",
      "3\n",
      "5\n",
      "8\n",
      "13\n",
      "21\n",
      "34\n"
     ]
    }
   ],
   "source": [
    "# print the first 10 febonacci series numbers\n",
    "n=10\n",
    "f=0\n",
    "s=1\n",
    "i=0\n",
    "while i<n:\n",
    "    if i<=1:\n",
    "        res=i\n",
    "    else:\n",
    "        res=f+s\n",
    "        f=s\n",
    "        s=res\n",
    "    print(res)\n",
    "    i+=1"
   ]
  },
  {
   "cell_type": "code",
   "execution_count": 25,
   "metadata": {},
   "outputs": [
    {
     "name": "stdout",
     "output_type": "stream",
     "text": [
      "0\n",
      "1\n",
      "1\n",
      "2\n",
      "3\n",
      "5\n",
      "8\n",
      "13\n"
     ]
    }
   ],
   "source": [
    "#wap to print febonacci series upto n\n",
    "n=20\n",
    "b=n\n",
    "f=0\n",
    "s=1\n",
    "print(f)\n",
    "print(s)\n",
    "while n:\n",
    "    res=f+s\n",
    "    if res<b:\n",
    "        print(res)\n",
    "    f,s=s,res\n",
    "    n-=1\n"
   ]
  },
  {
   "cell_type": "code",
   "execution_count": 72,
   "metadata": {},
   "outputs": [
    {
     "name": "stdout",
     "output_type": "stream",
     "text": [
      "28 is a perfect number\n"
     ]
    }
   ],
   "source": [
    "#wap to check given number is a perfect number or not\n",
    "n=28\n",
    "i=1\n",
    "sum=0\n",
    "while i<n:\n",
    "    if n%i==0:\n",
    "        sum+=i\n",
    "    i+=1\n",
    "if sum==n:\n",
    "    print(f'{n} is a perfect number')\n",
    "else:\n",
    "    print(f'{n} is not a perfect number')\n"
   ]
  },
  {
   "cell_type": "code",
   "execution_count": 81,
   "metadata": {},
   "outputs": [
    {
     "name": "stdout",
     "output_type": "stream",
     "text": [
      "321\n"
     ]
    }
   ],
   "source": [
    "#wap to reverse the given number\n",
    "n=123\n",
    "res=0\n",
    "while n:\n",
    "    ld=n%10\n",
    "    res=(res*10)+ld\n",
    "    n=n//10\n",
    "print(res)"
   ]
  },
  {
   "cell_type": "code",
   "execution_count": 85,
   "metadata": {},
   "outputs": [
    {
     "name": "stdout",
     "output_type": "stream",
     "text": [
      "2112 is polindrome\n"
     ]
    }
   ],
   "source": [
    "#wap to check given number is a polindrom or not without typecasting and collection\n",
    "n=2112\n",
    "temp=n\n",
    "res=0\n",
    "while n:\n",
    "    ld=n%10\n",
    "    res=(res*10)+ld\n",
    "    n=n//10\n",
    "if res==temp:\n",
    "    print(f'{temp} is polindrome')\n",
    "else:\n",
    "    print(f'{temp} is not polindrome')\n"
   ]
  },
  {
   "cell_type": "code",
   "execution_count": 10,
   "metadata": {},
   "outputs": [
    {
     "name": "stdout",
     "output_type": "stream",
     "text": [
      "120\n"
     ]
    }
   ],
   "source": [
    "#wap to find factorial of a given number\n",
    "n=5\n",
    "res=1\n",
    "while n:\n",
    "    res=res*n\n",
    "    n-=1\n",
    "print(res)"
   ]
  },
  {
   "cell_type": "code",
   "execution_count": 13,
   "metadata": {},
   "outputs": [
    {
     "name": "stdout",
     "output_type": "stream",
     "text": [
      "145 strong number\n"
     ]
    }
   ],
   "source": [
    "#wap the given number is strong number or not\n",
    "#sum of factorial of each digids in the given number,\n",
    "#if the sum is equal to the given number then it is strong number\n",
    "n=145\n",
    "temp=n\n",
    "sum=0\n",
    "while n:\n",
    "    ld=n%10\n",
    "    m=1\n",
    "    i=1\n",
    "    while ld:#m<=ld:\n",
    "        # i*=m\n",
    "        i*=ld\n",
    "        # m+=1\n",
    "        ld-=1\n",
    "        # print(i)\n",
    "    sum+=i\n",
    "    n=n//10\n",
    "# print(sum)\n",
    "if sum==temp:\n",
    "    print(f'{temp} strong number')\n",
    "else:\n",
    "    print('not strong number')\n"
   ]
  },
  {
   "cell_type": "code",
   "execution_count": 5,
   "metadata": {},
   "outputs": [
    {
     "name": "stdout",
     "output_type": "stream",
     "text": [
      "3\n"
     ]
    }
   ],
   "source": [
    "#wap to count the number of digits in given number\n",
    "n=153\n",
    "count=0\n",
    "while n:\n",
    "    # ld=n%10 no need\n",
    "    count+=1\n",
    "    n=n//10\n",
    "print(count)"
   ]
  },
  {
   "cell_type": "code",
   "execution_count": 4,
   "metadata": {},
   "outputs": [
    {
     "name": "stdout",
     "output_type": "stream",
     "text": [
      "amstrong number\n"
     ]
    }
   ],
   "source": [
    "#wap to find given number is amstrong or not\n",
    "#amstrong-sum of  each digit is muntiplied with the power of length of given number,\n",
    "#if the sum is equals to the given number then it is an amstrong number\n",
    "\n",
    "n=153\n",
    "a=n\n",
    "b=a\n",
    "count=0\n",
    "sum=0\n",
    "while n:\n",
    "    count+=1\n",
    "    n=n//10\n",
    "while a:\n",
    "    ld=a%10\n",
    "    sum+=ld**count\n",
    "    a=a//10\n",
    "if b==sum:\n",
    "    print('amstrong number')\n",
    "else:\n",
    "    print('not an amstrong number')"
   ]
  },
  {
   "cell_type": "code",
   "execution_count": 37,
   "metadata": {},
   "outputs": [
    {
     "name": "stdout",
     "output_type": "stream",
     "text": [
      "spy number\n"
     ]
    }
   ],
   "source": [
    "#wap to check the given value is spy number or not \n",
    "#the sum of all digits in given number is equals to sum of product of each digit in given number,\n",
    "#then it is a spy number \n",
    "n=1124\n",
    "a=0\n",
    "b=1\n",
    "while n:\n",
    "    ld=n%10\n",
    "    sld=ld\n",
    "    a+=ld\n",
    "    b*=sld\n",
    "    n=n//10\n",
    "if a==b:\n",
    "    print('spy number')\n",
    "else:\n",
    "    print('not a spy number')"
   ]
  },
  {
   "cell_type": "code",
   "execution_count": 11,
   "metadata": {},
   "outputs": [
    {
     "name": "stdout",
     "output_type": "stream",
     "text": [
      "3 => 6\n",
      "9 => 362880\n",
      "1 => 1\n",
      "0 => 0\n",
      "2 => 2\n",
      "3 => 6\n",
      "4 => 24\n",
      "0 => 0\n",
      "5 => 120\n",
      "6 => 720\n",
      "7 => 5040\n",
      "8 => 40320\n",
      "9 => 362880\n"
     ]
    }
   ],
   "source": [
    "#wap to print series of factorial of the numbers in given number\n",
    "n=9876504320193\n",
    "# n=123456789\n",
    "while n:\n",
    "    ld=n%10\n",
    "    b=1\n",
    "    c=ld\n",
    "    while ld:\n",
    "            a=0\n",
    "            b*=ld \n",
    "            a+=b\n",
    "            ld-=1\n",
    "    print(c,'=>',a)\n",
    "    a=0\n",
    "    n=n//10\n"
   ]
  },
  {
   "cell_type": "code",
   "execution_count": 19,
   "metadata": {},
   "outputs": [
    {
     "name": "stdout",
     "output_type": "stream",
     "text": [
      "1 => 1\n",
      "2 => 2\n",
      "3 => 6\n",
      "4 => 24\n",
      "5 => 120\n",
      "6 => 720\n",
      "7 => 5040\n",
      "8 => 40320\n",
      "9 => 362880\n",
      "10 => 3628800\n"
     ]
    }
   ],
   "source": [
    "#wap to print series of factorial of the numbers upto n\n",
    "\n",
    "b=10\n",
    "a=1\n",
    "while a<=b:\n",
    "    x=1\n",
    "    y=a\n",
    "    fact=1\n",
    "    while x<=y:\n",
    "        fact*=x\n",
    "        x+=1\n",
    "    print(a,'=>',fact)\n",
    "    a+=1\n"
   ]
  },
  {
   "cell_type": "code",
   "execution_count": 7,
   "metadata": {},
   "outputs": [
    {
     "name": "stdout",
     "output_type": "stream",
     "text": [
      "2\n",
      "3\n",
      "5\n",
      "7\n",
      "11\n",
      "13\n",
      "17\n",
      "19\n",
      "23\n",
      "29\n",
      "31\n",
      "37\n",
      "41\n",
      "43\n",
      "47\n",
      "53\n",
      "59\n",
      "61\n",
      "67\n",
      "71\n",
      "73\n",
      "79\n",
      "83\n",
      "89\n",
      "97\n"
     ]
    }
   ],
   "source": [
    "#wap to print series of prime numbers from 1 to 100\n",
    "a=100\n",
    "b=1\n",
    "while b<=a:\n",
    "    # print(b)\n",
    "    n=b\n",
    "    m=1\n",
    "    count=0\n",
    "    while m<=n:\n",
    "        if n%m==0:\n",
    "            count+=1\n",
    "        m+=1\n",
    "    if count==2:\n",
    "        print(n)\n",
    "\n",
    "    b+=1\n"
   ]
  },
  {
   "cell_type": "code",
   "execution_count": 21,
   "metadata": {},
   "outputs": [
    {
     "name": "stdout",
     "output_type": "stream",
     "text": [
      "0\n",
      "1\n",
      "2\n",
      "145\n",
      "40585\n"
     ]
    }
   ],
   "source": [
    "#wap to print the series of strong numbers from 1 to 2000\n",
    "start=0\n",
    "end=100000\n",
    "while start<=end:\n",
    "    n=start\n",
    "    temp=n\n",
    "    sum=0\n",
    "    while n:\n",
    "        ld=n%10\n",
    "        x=1\n",
    "        y=ld\n",
    "        prod=1\n",
    "        while x<=y:\n",
    "            prod*=x\n",
    "            x+=1\n",
    "        sum+=prod\n",
    "        n=n//10\n",
    "    if temp==sum:\n",
    "        print(sum)\n",
    "    \n",
    "    start+=1\n"
   ]
  },
  {
   "cell_type": "code",
   "execution_count": 27,
   "metadata": {},
   "outputs": [
    {
     "name": "stdout",
     "output_type": "stream",
     "text": [
      "0\n",
      "1\n",
      "2\n",
      "3\n",
      "4\n",
      "5\n",
      "6\n",
      "7\n",
      "8\n",
      "9\n",
      "153\n",
      "370\n",
      "371\n",
      "407\n",
      "1634\n",
      "8208\n",
      "9474\n",
      "54748\n",
      "92727\n",
      "93084\n"
     ]
    }
   ],
   "source": [
    "#wap to print amstrong numbers from 1 to 100000\n",
    "start=0\n",
    "end=100000\n",
    "while start<=end:\n",
    "    n=start\n",
    "    s=n\n",
    "    temp=n\n",
    "    count=0\n",
    "    sum=0\n",
    "    while s:\n",
    "        count+=1\n",
    "        s=s//10\n",
    "    while n:\n",
    "        ld=n%10\n",
    "        sum+=ld**count\n",
    "        n//=10\n",
    "    if temp==sum:\n",
    "        print(temp)\n",
    "    start+=1\n"
   ]
  },
  {
   "cell_type": "code",
   "execution_count": 39,
   "metadata": {},
   "outputs": [
    {
     "name": "stdout",
     "output_type": "stream",
     "text": [
      "1\n",
      "2\n",
      "3\n",
      "4\n",
      "5\n",
      "6\n",
      "7\n",
      "8\n",
      "9\n",
      "22\n",
      "123\n",
      "132\n",
      "213\n",
      "231\n",
      "312\n",
      "321\n"
     ]
    }
   ],
   "source": [
    "#wap to print series of spy numbers from 1 to 100000\n",
    "start=0\n",
    "end=1000\n",
    "while start<=end:\n",
    "    n=start\n",
    "    a=0\n",
    "    b=1\n",
    "    while n:\n",
    "        ld=n%10\n",
    "        sld=ld\n",
    "        a+=ld\n",
    "        b*=sld\n",
    "        n=n//10\n",
    "    if a==b:\n",
    "        print(f'{start}')\n",
    "\n",
    "\n",
    "    \n",
    "    start+=1"
   ]
  },
  {
   "cell_type": "code",
   "execution_count": 44,
   "metadata": {},
   "outputs": [
    {
     "name": "stdout",
     "output_type": "stream",
     "text": [
      "0 is polindrome\n",
      "1 is polindrome\n",
      "2 is polindrome\n",
      "3 is polindrome\n",
      "4 is polindrome\n",
      "5 is polindrome\n",
      "6 is polindrome\n",
      "7 is polindrome\n",
      "8 is polindrome\n",
      "9 is polindrome\n",
      "11 is polindrome\n",
      "22 is polindrome\n",
      "33 is polindrome\n",
      "44 is polindrome\n",
      "55 is polindrome\n",
      "66 is polindrome\n",
      "77 is polindrome\n",
      "88 is polindrome\n",
      "99 is polindrome\n",
      "101 is polindrome\n",
      "111 is polindrome\n",
      "121 is polindrome\n",
      "131 is polindrome\n",
      "141 is polindrome\n",
      "151 is polindrome\n",
      "161 is polindrome\n",
      "171 is polindrome\n",
      "181 is polindrome\n",
      "191 is polindrome\n",
      "202 is polindrome\n",
      "212 is polindrome\n",
      "222 is polindrome\n",
      "232 is polindrome\n",
      "242 is polindrome\n",
      "252 is polindrome\n",
      "262 is polindrome\n",
      "272 is polindrome\n",
      "282 is polindrome\n",
      "292 is polindrome\n",
      "303 is polindrome\n",
      "313 is polindrome\n",
      "323 is polindrome\n",
      "333 is polindrome\n",
      "343 is polindrome\n",
      "353 is polindrome\n",
      "363 is polindrome\n",
      "373 is polindrome\n",
      "383 is polindrome\n",
      "393 is polindrome\n",
      "404 is polindrome\n",
      "414 is polindrome\n",
      "424 is polindrome\n",
      "434 is polindrome\n",
      "444 is polindrome\n",
      "454 is polindrome\n",
      "464 is polindrome\n",
      "474 is polindrome\n",
      "484 is polindrome\n",
      "494 is polindrome\n",
      "505 is polindrome\n",
      "515 is polindrome\n",
      "525 is polindrome\n",
      "535 is polindrome\n",
      "545 is polindrome\n",
      "555 is polindrome\n",
      "565 is polindrome\n",
      "575 is polindrome\n",
      "585 is polindrome\n",
      "595 is polindrome\n",
      "606 is polindrome\n",
      "616 is polindrome\n",
      "626 is polindrome\n",
      "636 is polindrome\n",
      "646 is polindrome\n",
      "656 is polindrome\n",
      "666 is polindrome\n",
      "676 is polindrome\n",
      "686 is polindrome\n",
      "696 is polindrome\n",
      "707 is polindrome\n",
      "717 is polindrome\n",
      "727 is polindrome\n",
      "737 is polindrome\n",
      "747 is polindrome\n",
      "757 is polindrome\n",
      "767 is polindrome\n",
      "777 is polindrome\n",
      "787 is polindrome\n",
      "797 is polindrome\n",
      "808 is polindrome\n",
      "818 is polindrome\n",
      "828 is polindrome\n",
      "838 is polindrome\n",
      "848 is polindrome\n",
      "858 is polindrome\n",
      "868 is polindrome\n",
      "878 is polindrome\n",
      "888 is polindrome\n",
      "898 is polindrome\n",
      "909 is polindrome\n",
      "919 is polindrome\n",
      "929 is polindrome\n",
      "939 is polindrome\n",
      "949 is polindrome\n",
      "959 is polindrome\n",
      "969 is polindrome\n",
      "979 is polindrome\n",
      "989 is polindrome\n",
      "999 is polindrome\n",
      "1001 is polindrome\n",
      "1111 is polindrome\n",
      "1221 is polindrome\n",
      "1331 is polindrome\n",
      "1441 is polindrome\n",
      "1551 is polindrome\n",
      "1661 is polindrome\n",
      "1771 is polindrome\n",
      "1881 is polindrome\n",
      "1991 is polindrome\n",
      "2002 is polindrome\n",
      "2112 is polindrome\n",
      "2222 is polindrome\n",
      "2332 is polindrome\n",
      "2442 is polindrome\n",
      "2552 is polindrome\n",
      "2662 is polindrome\n",
      "2772 is polindrome\n",
      "2882 is polindrome\n",
      "2992 is polindrome\n",
      "3003 is polindrome\n",
      "3113 is polindrome\n",
      "3223 is polindrome\n",
      "3333 is polindrome\n",
      "3443 is polindrome\n",
      "3553 is polindrome\n",
      "3663 is polindrome\n",
      "3773 is polindrome\n",
      "3883 is polindrome\n",
      "3993 is polindrome\n",
      "4004 is polindrome\n",
      "4114 is polindrome\n",
      "4224 is polindrome\n",
      "4334 is polindrome\n",
      "4444 is polindrome\n",
      "4554 is polindrome\n",
      "4664 is polindrome\n",
      "4774 is polindrome\n",
      "4884 is polindrome\n",
      "4994 is polindrome\n",
      "5005 is polindrome\n",
      "5115 is polindrome\n",
      "5225 is polindrome\n",
      "5335 is polindrome\n",
      "5445 is polindrome\n",
      "5555 is polindrome\n",
      "5665 is polindrome\n",
      "5775 is polindrome\n",
      "5885 is polindrome\n",
      "5995 is polindrome\n",
      "6006 is polindrome\n",
      "6116 is polindrome\n",
      "6226 is polindrome\n",
      "6336 is polindrome\n",
      "6446 is polindrome\n",
      "6556 is polindrome\n",
      "6666 is polindrome\n",
      "6776 is polindrome\n",
      "6886 is polindrome\n",
      "6996 is polindrome\n",
      "7007 is polindrome\n",
      "7117 is polindrome\n",
      "7227 is polindrome\n",
      "7337 is polindrome\n",
      "7447 is polindrome\n",
      "7557 is polindrome\n",
      "7667 is polindrome\n",
      "7777 is polindrome\n",
      "7887 is polindrome\n",
      "7997 is polindrome\n",
      "8008 is polindrome\n",
      "8118 is polindrome\n",
      "8228 is polindrome\n",
      "8338 is polindrome\n",
      "8448 is polindrome\n",
      "8558 is polindrome\n",
      "8668 is polindrome\n",
      "8778 is polindrome\n",
      "8888 is polindrome\n",
      "8998 is polindrome\n",
      "9009 is polindrome\n",
      "9119 is polindrome\n",
      "9229 is polindrome\n",
      "9339 is polindrome\n",
      "9449 is polindrome\n",
      "9559 is polindrome\n",
      "9669 is polindrome\n",
      "9779 is polindrome\n",
      "9889 is polindrome\n",
      "9999 is polindrome\n"
     ]
    }
   ],
   "source": [
    "#wap to print the series of polindroms from 1 to 10000\n",
    "start=0\n",
    "end=10000\n",
    "while start<=end:\n",
    "    n=start\n",
    "    temp=n\n",
    "    res=0\n",
    "    while n:\n",
    "        ld=n%10\n",
    "        res=(res*10)+ld\n",
    "        n=n//10\n",
    "    if res==temp:\n",
    "        print(f'{start} is polindrome')\n",
    "\n",
    "    \n",
    "    start+=1"
   ]
  },
  {
   "cell_type": "code",
   "execution_count": 63,
   "metadata": {},
   "outputs": [
    {
     "name": "stdout",
     "output_type": "stream",
     "text": [
      "7\n"
     ]
    }
   ],
   "source": [
    "# num=19792138814591\n",
    "num=197921388145912\n",
    "while num>9:\n",
    "    sum=0\n",
    "    while num:\n",
    "        ld=num%10\n",
    "        sum+=ld\n",
    "        num=num//10\n",
    "    # print(sum)\n",
    "    num=sum\n",
    "print(sum)"
   ]
  },
  {
   "cell_type": "code",
   "execution_count": 80,
   "metadata": {},
   "outputs": [
    {
     "name": "stdout",
     "output_type": "stream",
     "text": [
      "1\n",
      "8\n"
     ]
    }
   ],
   "source": [
    "#wap to extract middle digit of the given number\n",
    "n=789\n",
    "temp=n\n",
    "count=0\n",
    "while n:\n",
    "    count+=1\n",
    "    n=n//10\n",
    "count=count//2\n",
    "print(count)\n",
    "while count:\n",
    "    temp=temp//10\n",
    "    count-=1\n",
    "print(temp%10)\n"
   ]
  },
  {
   "cell_type": "code",
   "execution_count": 6,
   "metadata": {},
   "outputs": [
    {
     "name": "stdout",
     "output_type": "stream",
     "text": [
      "9\n"
     ]
    }
   ],
   "source": [
    "#wap to extract middle digit of the given number\n",
    "n=78955\n",
    "temp=n\n",
    "count=0\n",
    "while n:\n",
    "    count+=1\n",
    "    n=n//10\n",
    "count=count//2\n",
    "# print(count)\n",
    "print(temp//10**count%10)"
   ]
  },
  {
   "cell_type": "code",
   "execution_count": null,
   "metadata": {},
   "outputs": [],
   "source": [
    "#"
   ]
  },
  {
   "cell_type": "code",
   "execution_count": 5,
   "metadata": {},
   "outputs": [
    {
     "name": "stdout",
     "output_type": "stream",
     "text": [
      "p 0 -8\n",
      "e 1 -7\n",
      "n 2 -6\n",
      "d 3 -5\n",
      "r 4 -4\n",
      "i 5 -3\n",
      "v 6 -2\n",
      "e 7 -1\n"
     ]
    }
   ],
   "source": [
    "n='pendrive'\n",
    "start=0\n",
    "end=-(len(n))\n",
    "\n",
    "while start<len(n):\n",
    "    print(n[start],start,end)\n",
    "    end+=1\n",
    "    start+=1"
   ]
  },
  {
   "cell_type": "code",
   "execution_count": 11,
   "metadata": {},
   "outputs": [
    {
     "name": "stdout",
     "output_type": "stream",
     "text": [
      "-8 p\n",
      "-7 e\n",
      "-6 n\n",
      "-5 d\n",
      "-4 r\n",
      "-3 i\n",
      "-2 v\n",
      "-1 e\n",
      "0 p\n",
      "1 e\n",
      "2 n\n",
      "3 d\n",
      "4 r\n",
      "5 i\n",
      "6 v\n",
      "7 e\n"
     ]
    }
   ],
   "source": [
    "a='pendrive'\n",
    "b=-len(a)\n",
    "while b<len(a):\n",
    "    print(b,a[b])\n",
    "    b+=1\n",
    "    # print(a)\n",
    "    "
   ]
  },
  {
   "cell_type": "code",
   "execution_count": 35,
   "metadata": {},
   "outputs": [
    {
     "name": "stdout",
     "output_type": "stream",
     "text": [
      "R\n",
      "A\n",
      "------------------------------\n",
      "s\n",
      "u\n",
      "y\n",
      "---------------------\n",
      "7\n",
      "7\n",
      "7\n",
      "7\n",
      "-----------------------\n",
      "$\n",
      "#\n",
      "@\n"
     ]
    }
   ],
   "source": [
    "#wap to extract uppuercase characters from given string\n",
    "a='suRyA7777$#@'\n",
    "b=0\n",
    "while b<len(a):\n",
    "    if 'A'<=a[b]<='Z':\n",
    "        print(a[b])        \n",
    "    b+=1\n",
    "print('------------------------------')\n",
    "b=0\n",
    "while b<len(a):\n",
    "    if 'a'<=a[b]<='z':\n",
    "        print(a[b])\n",
    "    b+=1\n",
    "b=0\n",
    "print('---------------------')\n",
    "while b<len(a):\n",
    "    if '0'<=a[b]<='9':\n",
    "        print(a[b])\n",
    "    b+=1\n",
    "b=0\n",
    "print('-----------------------')\n",
    "while b<len(a):\n",
    "    if not('a'<=a[b]<='z' or 'A'<=a[b]<='Z' or '0'<=a[b]<='9'):\n",
    "        print(a[b])\n",
    "    b+=1\n",
    "# check wovels, consonents\n",
    "\n",
    "\n",
    "\n"
   ]
  }
 ],
 "metadata": {
  "kernelspec": {
   "display_name": "Python 3",
   "language": "python",
   "name": "python3"
  },
  "language_info": {
   "codemirror_mode": {
    "name": "ipython",
    "version": 3
   },
   "file_extension": ".py",
   "mimetype": "text/x-python",
   "name": "python",
   "nbconvert_exporter": "python",
   "pygments_lexer": "ipython3",
   "version": "3.10.7"
  },
  "orig_nbformat": 4
 },
 "nbformat": 4,
 "nbformat_minor": 2
}
