{
 "cells": [
  {
   "cell_type": "code",
   "execution_count": 67,
   "metadata": {},
   "outputs": [
    {
     "name": "stdout",
     "output_type": "stream",
     "text": [
      "1\n",
      "5\n",
      "4\n",
      "8\n",
      "9\n"
     ]
    }
   ],
   "source": [
    "n=15489\n",
    "n=str(n)\n",
    "i=0\n",
    "while i<len(n):\n",
    "    print(n[i])\n",
    "    i+=1"
   ]
  },
  {
   "cell_type": "code",
   "execution_count": null,
   "metadata": {},
   "outputs": [],
   "source": []
  },
  {
   "cell_type": "code",
   "execution_count": null,
   "metadata": {},
   "outputs": [],
   "source": []
  },
  {
   "cell_type": "code",
   "execution_count": 3,
   "metadata": {},
   "outputs": [
    {
     "name": "stdout",
     "output_type": "stream",
     "text": [
      "9\n"
     ]
    }
   ],
   "source": [
    "#wap to find largest  digit  from given number\n",
    "n=154819\n",
    "res=0\n",
    "while n:\n",
    "    ld=n%10\n",
    "    if res<ld:\n",
    "        res=ld\n",
    "    n=n//10\n",
    "print(res)"
   ]
  },
  {
   "cell_type": "code",
   "execution_count": 3,
   "metadata": {},
   "outputs": [
    {
     "name": "stdout",
     "output_type": "stream",
     "text": [
      "8\n"
     ]
    }
   ],
   "source": [
    "#wap to find largest  digit  from given number\n",
    "n=154085\n",
    "a=list(str(n))\n",
    "print(sorted(a)[-1])"
   ]
  },
  {
   "cell_type": "code",
   "execution_count": 12,
   "metadata": {},
   "outputs": [
    {
     "name": "stdout",
     "output_type": "stream",
     "text": [
      "1\n"
     ]
    }
   ],
   "source": [
    "#wap to find smallest  digit  from given number\n",
    "\n",
    "n=154819\n",
    "res=9\n",
    "while n:\n",
    "    ld=n%10\n",
    "    if res>ld:\n",
    "        res=ld\n",
    "    n=n//10\n",
    "print(res)"
   ]
  },
  {
   "cell_type": "code",
   "execution_count": 13,
   "metadata": {},
   "outputs": [
    {
     "name": "stdout",
     "output_type": "stream",
     "text": [
      "8\n"
     ]
    }
   ],
   "source": [
    "#wap to find even largest digit in given number\n",
    "n=15941228\n",
    "res=8\n",
    "while n:\n",
    "    ld=n%10\n",
    "    if res<ld and ld%2==0:\n",
    "        res=ld\n",
    "    n=n//10\n",
    "print(res)"
   ]
  },
  {
   "cell_type": "code",
   "execution_count": 14,
   "metadata": {},
   "outputs": [
    {
     "name": "stdout",
     "output_type": "stream",
     "text": [
      "6\n"
     ]
    }
   ],
   "source": [
    "#wap sum of all the digits of given number\n",
    "n=123\n",
    "res=0\n",
    "while n:\n",
    "    ld=n%10\n",
    "    res+=ld\n",
    "    n=n//10\n",
    "print(res)\n"
   ]
  },
  {
   "cell_type": "code",
   "execution_count": 16,
   "metadata": {},
   "outputs": [
    {
     "name": "stdout",
     "output_type": "stream",
     "text": [
      "6\n"
     ]
    }
   ],
   "source": [
    "#wap to perform product of all the digits in given number\n",
    "n=123\n",
    "res=1\n",
    "while n:\n",
    "    ld=n%10\n",
    "    res*=ld\n",
    "    n=n//10\n",
    "print(res)"
   ]
  },
  {
   "cell_type": "code",
   "execution_count": 64,
   "metadata": {},
   "outputs": [
    {
     "name": "stdout",
     "output_type": "stream",
     "text": [
      "-22\n"
     ]
    }
   ],
   "source": [
    "#wap to find out the diference value from given number\n",
    "n=1594128 #-12\n",
    "res=n%10\n",
    "while n:\n",
    "    ld=n%10\n",
    "    res-=ld\n",
    "    n=n//10\n",
    "print(res)"
   ]
  },
  {
   "cell_type": "code",
   "execution_count": 62,
   "metadata": {},
   "outputs": [
    {
     "name": "stdout",
     "output_type": "stream",
     "text": [
      "-28\n"
     ]
    }
   ],
   "source": [
    "n=1594128 #28\n",
    "temp=str(n)\n",
    "res=int(temp[0])\n",
    "i=1\n",
    "while i<len(temp):\n",
    "    res-=int(temp[i])\n",
    "    i+=1\n",
    "print(res)"
   ]
  },
  {
   "cell_type": "code",
   "execution_count": 32,
   "metadata": {},
   "outputs": [
    {
     "name": "stdout",
     "output_type": "stream",
     "text": [
      "[8, 2, 4]\n"
     ]
    }
   ],
   "source": [
    "#wap to extract even digits from given number\n",
    "n=1594128\n",
    "res=[]\n",
    "while n:\n",
    "    ld=n%10\n",
    "    if ld%2==0:\n",
    "        res+=[ld]\n",
    "    n=n//10\n",
    "print(res)\n",
    "    "
   ]
  },
  {
   "cell_type": "code",
   "execution_count": 34,
   "metadata": {},
   "outputs": [
    {
     "name": "stdout",
     "output_type": "stream",
     "text": [
      "8\n",
      "2\n",
      "4\n"
     ]
    }
   ],
   "source": [
    "n=1594128\n",
    "while n:\n",
    "    ld=n%10\n",
    "    if ld%2==0:\n",
    "        print(ld)\n",
    "    n=n//10"
   ]
  },
  {
   "cell_type": "code",
   "execution_count": 35,
   "metadata": {},
   "outputs": [
    {
     "name": "stdout",
     "output_type": "stream",
     "text": [
      "16\n"
     ]
    }
   ],
   "source": [
    "#wap to sum of odd digits from given number\n",
    "n=1594128\n",
    "res=0\n",
    "while n:\n",
    "    ld=n%10\n",
    "    if ld%2==1:\n",
    "        res+=ld\n",
    "    n=n//10\n",
    "print(res)"
   ]
  },
  {
   "cell_type": "code",
   "execution_count": 46,
   "metadata": {},
   "outputs": [
    {
     "name": "stdout",
     "output_type": "stream",
     "text": [
      "1\n",
      "2\n",
      "3\n",
      "4\n",
      "5\n",
      "6\n",
      "7\n",
      "8\n",
      "9\n",
      "10\n"
     ]
    }
   ],
   "source": [
    "#wap to generate the sequence values from m to n\n",
    "m=1\n",
    "n=10\n",
    "if m>n:\n",
    "    m,n=n,m\n",
    "while m<=n:\n",
    "    print(m)\n",
    "    m+=1\n"
   ]
  },
  {
   "cell_type": "code",
   "execution_count": 50,
   "metadata": {},
   "outputs": [
    {
     "name": "stdout",
     "output_type": "stream",
     "text": [
      "1\n",
      "2\n",
      "3\n",
      "4\n",
      "5\n",
      "6\n",
      "7\n",
      "8\n",
      "9\n",
      "10\n"
     ]
    }
   ],
   "source": [
    "#wap to generate sequence of values from 1 to n\n",
    "n=10\n",
    "m=1\n",
    "while m<=n:\n",
    "    print(m)\n",
    "    m+=1\n"
   ]
  },
  {
   "cell_type": "code",
   "execution_count": 45,
   "metadata": {},
   "outputs": [
    {
     "name": "stdout",
     "output_type": "stream",
     "text": [
      "10\n"
     ]
    }
   ],
   "source": [
    "#wap to sum of the digit from 1 to n\n",
    "m=0\n",
    "n=4\n",
    "sum=0\n",
    "while m<=n:\n",
    "    sum+=m\n",
    "    m+=1\n",
    "print(sum)\n"
   ]
  },
  {
   "cell_type": "code",
   "execution_count": 42,
   "metadata": {},
   "outputs": [
    {
     "name": "stdout",
     "output_type": "stream",
     "text": [
      "120\n"
     ]
    }
   ],
   "source": [
    "#wap to get product of all digits from 1 to n\n",
    "m=1\n",
    "n=5\n",
    "product=1\n",
    "while m<=n:\n",
    "    product*=m\n",
    "    m+=1\n",
    "print(product)"
   ]
  },
  {
   "cell_type": "code",
   "execution_count": 88,
   "metadata": {},
   "outputs": [
    {
     "name": "stdout",
     "output_type": "stream",
     "text": [
      "1\n",
      "5\n"
     ]
    }
   ],
   "source": [
    "#wap to find the factors of given numbers\n",
    "m=1\n",
    "n=5\n",
    "while m<=n:\n",
    "    if n%m==0:\n",
    "        print(m)\n",
    "    m+=1\n",
    "\n"
   ]
  },
  {
   "cell_type": "code",
   "execution_count": 87,
   "metadata": {},
   "outputs": [
    {
     "name": "stdout",
     "output_type": "stream",
     "text": [
      "2\n"
     ]
    }
   ],
   "source": [
    "#wap to count the number of factors in given number\n",
    "m=1\n",
    "n=5\n",
    "count=0\n",
    "while m<=n:\n",
    "    if n%m==0:\n",
    "        count+=1\n",
    "    m+=1\n",
    "print(count)\n",
    "\n"
   ]
  },
  {
   "cell_type": "code",
   "execution_count": 62,
   "metadata": {},
   "outputs": [
    {
     "name": "stdout",
     "output_type": "stream",
     "text": [
      "2\n",
      "prime\n"
     ]
    }
   ],
   "source": [
    "#wap to find given number is prime number or not\n",
    "m=1\n",
    "n=7\n",
    "count=0\n",
    "while m<=n:\n",
    "    if n%m==0:\n",
    "        count+=1\n",
    "    m+=1\n",
    "print(count)\n",
    "if count==2:\n",
    "    print('prime')\n",
    "else:\n",
    "    print('not a prime')\n"
   ]
  },
  {
   "cell_type": "code",
   "execution_count": 86,
   "metadata": {},
   "outputs": [
    {
     "name": "stdout",
     "output_type": "stream",
     "text": [
      "6\n"
     ]
    }
   ],
   "source": [
    "#wap sum of facters in given number\n",
    "m=1\n",
    "n=5\n",
    "sum=0\n",
    "while m<=n:\n",
    "    if n%m==0:\n",
    "        sum+=m\n",
    "    m+=1\n",
    "print(sum)"
   ]
  },
  {
   "cell_type": "code",
   "execution_count": 3,
   "metadata": {},
   "outputs": [
    {
     "name": "stdout",
     "output_type": "stream",
     "text": [
      "17\n",
      "17 is prime number\n"
     ]
    }
   ],
   "source": [
    "#wap to find sum of all the digits in given number, final result is prime number or not\n",
    "m=1259\n",
    "res=0\n",
    "while m:\n",
    "    n=m%10\n",
    "    res+=n\n",
    "    m=m//10\n",
    "print(res)\n",
    "m=1\n",
    "count=0\n",
    "while m<=res:\n",
    "    if res%m==0:\n",
    "        count+=1\n",
    "    m+=1\n",
    "if count==2:\n",
    "    print(f'{res} is prime number')\n",
    "else:\n",
    "    print(f'{res} is not prime number')\n",
    "\n",
    "\n"
   ]
  },
  {
   "cell_type": "code",
   "execution_count": 10,
   "metadata": {},
   "outputs": [
    {
     "name": "stdout",
     "output_type": "stream",
     "text": [
      "28\n",
      "28 is perfect number\n"
     ]
    }
   ],
   "source": [
    "#wap to find product of all the digits in given number, final result value is perfect number or not\n",
    "#m=270226003\n",
    "m=722\n",
    "res=1\n",
    "while m:\n",
    "    n=m%10\n",
    "    res*=n\n",
    "    m=m//10 \n",
    "print(res)\n",
    "b=1\n",
    "a=0\n",
    "while b<res:\n",
    "    if res%b==0 :\n",
    "        a+=b\n",
    "    b+=1\n",
    "if a==res and a!=0:\n",
    "    print(f'{res} is perfect number')\n",
    "else:\n",
    "    print(f'{res} is not perfect number')\n",
    "# perfect_number: In number theory, a perfect number is a positive integer that is equal to the sum of its positive divisors, \n",
    "# excluding the number itself.\n",
    "\n",
    "\n"
   ]
  },
  {
   "cell_type": "code",
   "execution_count": 9,
   "metadata": {},
   "outputs": [
    {
     "name": "stdout",
     "output_type": "stream",
     "text": [
      "25\n"
     ]
    }
   ],
   "source": [
    "m=550004 #270226003\n",
    "res=1\n",
    "while m:\n",
    "    n=m%10\n",
    "    if n!=0:\n",
    "        res*=n\n",
    "        m=m//10 \n",
    "    elif n==0:\n",
    "        m=m//10\n",
    "        res=1       \n",
    "print(res)"
   ]
  },
  {
   "cell_type": "code",
   "execution_count": 71,
   "metadata": {},
   "outputs": [
    {
     "name": "stdout",
     "output_type": "stream",
     "text": [
      "28 is perfect\n"
     ]
    }
   ],
   "source": [
    "n=28\n",
    "m=1\n",
    "s=0\n",
    "while m<n:\n",
    "    if n%m==0:\n",
    "        s=s+m\n",
    "    m+=1\n",
    "if s==n:\n",
    "    print(f'{n} is perfect')\n",
    "else:\n",
    "    print(f'{n} is not perfect')"
   ]
  },
  {
   "cell_type": "code",
   "execution_count": 6,
   "metadata": {},
   "outputs": [
    {
     "name": "stdout",
     "output_type": "stream",
     "text": [
      "0\n",
      "1\n",
      "1\n",
      "2\n",
      "3\n",
      "5\n",
      "8\n",
      "13\n",
      "21\n",
      "34\n"
     ]
    }
   ],
   "source": [
    "# print the first 10 febonacci series numbers\n",
    "n=10\n",
    "f=0\n",
    "s=1\n",
    "i=0\n",
    "while i<n:\n",
    "    if i<=1:\n",
    "        res=i\n",
    "    else:\n",
    "        res=f+s\n",
    "        f=s\n",
    "        s=res\n",
    "    print(res)\n",
    "    i+=1"
   ]
  },
  {
   "cell_type": "code",
   "execution_count": 25,
   "metadata": {},
   "outputs": [
    {
     "name": "stdout",
     "output_type": "stream",
     "text": [
      "0\n",
      "1\n",
      "1\n",
      "2\n",
      "3\n",
      "5\n",
      "8\n",
      "13\n"
     ]
    }
   ],
   "source": [
    "#wap to print febonacci series upto n\n",
    "n=20\n",
    "b=n\n",
    "f=0\n",
    "s=1\n",
    "print(f)\n",
    "print(s)\n",
    "while n:\n",
    "    res=f+s\n",
    "    if res<b:\n",
    "        print(res)\n",
    "    f,s=s,res\n",
    "    n-=1\n"
   ]
  },
  {
   "cell_type": "code",
   "execution_count": 72,
   "metadata": {},
   "outputs": [
    {
     "name": "stdout",
     "output_type": "stream",
     "text": [
      "28 is a perfect number\n"
     ]
    }
   ],
   "source": [
    "#wap to check given number is a perfect number or not\n",
    "n=28\n",
    "i=1\n",
    "sum=0\n",
    "while i<n:\n",
    "    if n%i==0:\n",
    "        sum+=i\n",
    "    i+=1\n",
    "if sum==n:\n",
    "    print(f'{n} is a perfect number')\n",
    "else:\n",
    "    print(f'{n} is not a perfect number')\n"
   ]
  },
  {
   "cell_type": "code",
   "execution_count": 81,
   "metadata": {},
   "outputs": [
    {
     "name": "stdout",
     "output_type": "stream",
     "text": [
      "321\n"
     ]
    }
   ],
   "source": [
    "#wap to reverse the given number\n",
    "n=123\n",
    "res=0\n",
    "while n:\n",
    "    ld=n%10\n",
    "    res=(res*10)+ld\n",
    "    n=n//10\n",
    "print(res)"
   ]
  },
  {
   "cell_type": "code",
   "execution_count": 85,
   "metadata": {},
   "outputs": [
    {
     "name": "stdout",
     "output_type": "stream",
     "text": [
      "2112 is polindrome\n"
     ]
    }
   ],
   "source": [
    "#wap to check given number is a polindrom or not without typecasting and collection\n",
    "n=2112\n",
    "temp=n\n",
    "res=0\n",
    "while n:\n",
    "    ld=n%10\n",
    "    res=(res*10)+ld\n",
    "    n=n//10\n",
    "if res==temp:\n",
    "    print(f'{temp} is polindrome')\n",
    "else:\n",
    "    print(f'{temp} is not polindrome')\n"
   ]
  },
  {
   "cell_type": "code",
   "execution_count": 10,
   "metadata": {},
   "outputs": [
    {
     "name": "stdout",
     "output_type": "stream",
     "text": [
      "120\n"
     ]
    }
   ],
   "source": [
    "#wap to find factorial of a given number\n",
    "n=5\n",
    "res=1\n",
    "while n:\n",
    "    res=res*n\n",
    "    n-=1\n",
    "print(res)"
   ]
  },
  {
   "cell_type": "code",
   "execution_count": 2,
   "metadata": {},
   "outputs": [
    {
     "name": "stdout",
     "output_type": "stream",
     "text": [
      "5\n",
      "20\n",
      "60\n",
      "120\n",
      "120\n",
      "4\n",
      "12\n",
      "24\n",
      "24\n",
      "1\n",
      "145\n",
      "strong number\n"
     ]
    }
   ],
   "source": [
    "#wap the given number is strong number or not\n",
    "#sum of factorial of each digids in the given number, if the sum is equal to the given number then it is strong number\n",
    "n=145\n",
    "temp=n\n",
    "sum=0\n",
    "while n:\n",
    "    ld=n%10\n",
    "    m=1\n",
    "    i=1\n",
    "    while ld:#m<=ld:\n",
    "        # i*=m\n",
    "        i*=ld\n",
    "        # m+=1\n",
    "        ld-=1\n",
    "        print(i)\n",
    "    sum+=i\n",
    "    n=n//10\n",
    "print(sum)\n",
    "if sum==temp:\n",
    "    print('strong number')\n",
    "else:\n",
    "    print('not strong number')\n"
   ]
  }
 ],
 "metadata": {
  "kernelspec": {
   "display_name": "Python 3",
   "language": "python",
   "name": "python3"
  },
  "language_info": {
   "codemirror_mode": {
    "name": "ipython",
    "version": 3
   },
   "file_extension": ".py",
   "mimetype": "text/x-python",
   "name": "python",
   "nbconvert_exporter": "python",
   "pygments_lexer": "ipython3",
   "version": "3.10.7"
  },
  "orig_nbformat": 4
 },
 "nbformat": 4,
 "nbformat_minor": 2
}
