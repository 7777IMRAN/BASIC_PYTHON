{
 "cells": [
  {
   "cell_type": "code",
   "execution_count": null,
   "metadata": {},
   "outputs": [],
   "source": [
    "n=15489\n",
    "n=str(n)\n",
    "i=0\n",
    "while i<len(n):\n",
    "    print(n[i])\n",
    "    i+=1"
   ]
  },
  {
   "cell_type": "code",
   "execution_count": null,
   "metadata": {},
   "outputs": [],
   "source": []
  },
  {
   "cell_type": "code",
   "execution_count": null,
   "metadata": {},
   "outputs": [],
   "source": []
  },
  {
   "cell_type": "code",
   "execution_count": 3,
   "metadata": {},
   "outputs": [
    {
     "name": "stdout",
     "output_type": "stream",
     "text": [
      "9\n"
     ]
    }
   ],
   "source": [
    "#wap to find largest  digit  from given number\n",
    "n=154819\n",
    "res=0\n",
    "while n:\n",
    "    ld=n%10\n",
    "    if res<ld:\n",
    "        res=ld\n",
    "    n=n//10\n",
    "print(res)"
   ]
  },
  {
   "cell_type": "code",
   "execution_count": 3,
   "metadata": {},
   "outputs": [
    {
     "name": "stdout",
     "output_type": "stream",
     "text": [
      "8\n"
     ]
    }
   ],
   "source": [
    "#wap to find largest  digit  from given number\n",
    "n=154085\n",
    "a=list(str(n))\n",
    "print(sorted(a)[-1])"
   ]
  },
  {
   "cell_type": "code",
   "execution_count": 12,
   "metadata": {},
   "outputs": [
    {
     "name": "stdout",
     "output_type": "stream",
     "text": [
      "1\n"
     ]
    }
   ],
   "source": [
    "#wap to find smallest  digit  from given number\n",
    "\n",
    "n=154819\n",
    "res=9\n",
    "while n:\n",
    "    ld=n%10\n",
    "    if res>ld:\n",
    "        res=ld\n",
    "    n=n//10\n",
    "print(res)"
   ]
  },
  {
   "cell_type": "code",
   "execution_count": 13,
   "metadata": {},
   "outputs": [
    {
     "name": "stdout",
     "output_type": "stream",
     "text": [
      "8\n"
     ]
    }
   ],
   "source": [
    "#wap to find even largest digit in given number\n",
    "n=15941228\n",
    "res=8\n",
    "while n:\n",
    "    ld=n%10\n",
    "    if res<ld and ld%2==0:\n",
    "        res=ld\n",
    "    n=n//10\n",
    "print(res)"
   ]
  },
  {
   "cell_type": "code",
   "execution_count": 14,
   "metadata": {},
   "outputs": [
    {
     "name": "stdout",
     "output_type": "stream",
     "text": [
      "6\n"
     ]
    }
   ],
   "source": [
    "#wap sum of all the digits of given number\n",
    "n=123\n",
    "res=0\n",
    "while n:\n",
    "    ld=n%10\n",
    "    res+=ld\n",
    "    n=n//10\n",
    "print(res)\n"
   ]
  },
  {
   "cell_type": "code",
   "execution_count": 16,
   "metadata": {},
   "outputs": [
    {
     "name": "stdout",
     "output_type": "stream",
     "text": [
      "6\n"
     ]
    }
   ],
   "source": [
    "#wap to perform product of all the digits in given number\n",
    "n=123\n",
    "res=1\n",
    "while n:\n",
    "    ld=n%10\n",
    "    res*=ld\n",
    "    n=n//10\n",
    "print(res)"
   ]
  },
  {
   "cell_type": "code",
   "execution_count": 28,
   "metadata": {},
   "outputs": [
    {
     "name": "stdout",
     "output_type": "stream",
     "text": [
      "-22\n"
     ]
    }
   ],
   "source": [
    "#wap to find out the diference value from given number\n",
    "n=1594128 #-12\n",
    "res=n%10\n",
    "while n:\n",
    "    ld=n%10\n",
    "    res-=ld\n",
    "    n=n//10\n",
    "print(res)"
   ]
  },
  {
   "cell_type": "code",
   "execution_count": 29,
   "metadata": {},
   "outputs": [
    {
     "name": "stdout",
     "output_type": "stream",
     "text": [
      "-29\n"
     ]
    }
   ],
   "source": [
    "n=1594128 #28\n",
    "temp=str(n)\n",
    "res=int(temp[0])\n",
    "i=1\n",
    "while i<len(temp):\n",
    "    res-=int(temp[1])\n",
    "    i+=1\n",
    "print(res)"
   ]
  },
  {
   "cell_type": "code",
   "execution_count": 32,
   "metadata": {},
   "outputs": [
    {
     "name": "stdout",
     "output_type": "stream",
     "text": [
      "[8, 2, 4]\n"
     ]
    }
   ],
   "source": [
    "#wap to extract even digits from given number\n",
    "n=1594128\n",
    "res=[]\n",
    "while n:\n",
    "    ld=n%10\n",
    "    if ld%2==0:\n",
    "        res+=[ld]\n",
    "    n=n//10\n",
    "print(res)\n",
    "    "
   ]
  },
  {
   "cell_type": "code",
   "execution_count": 34,
   "metadata": {},
   "outputs": [
    {
     "name": "stdout",
     "output_type": "stream",
     "text": [
      "8\n",
      "2\n",
      "4\n"
     ]
    }
   ],
   "source": [
    "n=1594128\n",
    "while n:\n",
    "    ld=n%10\n",
    "    if ld%2==0:\n",
    "        print(ld)\n",
    "    n=n//10"
   ]
  },
  {
   "cell_type": "code",
   "execution_count": 35,
   "metadata": {},
   "outputs": [
    {
     "name": "stdout",
     "output_type": "stream",
     "text": [
      "16\n"
     ]
    }
   ],
   "source": [
    "#wap to sum of odd digits from given number\n",
    "n=1594128\n",
    "res=0\n",
    "while n:\n",
    "    ld=n%10\n",
    "    if ld%2==1:\n",
    "        res+=ld\n",
    "    n=n//10\n",
    "print(res)"
   ]
  },
  {
   "cell_type": "code",
   "execution_count": 46,
   "metadata": {},
   "outputs": [
    {
     "name": "stdout",
     "output_type": "stream",
     "text": [
      "1\n",
      "2\n",
      "3\n",
      "4\n",
      "5\n",
      "6\n",
      "7\n",
      "8\n",
      "9\n",
      "10\n"
     ]
    }
   ],
   "source": [
    "#wap to generate the sequence values from m to n\n",
    "m=1\n",
    "n=10\n",
    "if m>n:\n",
    "    m,n=n,m\n",
    "while m<=n:\n",
    "    print(m)\n",
    "    m+=1\n"
   ]
  },
  {
   "cell_type": "code",
   "execution_count": 50,
   "metadata": {},
   "outputs": [
    {
     "name": "stdout",
     "output_type": "stream",
     "text": [
      "1\n",
      "2\n",
      "3\n",
      "4\n",
      "5\n",
      "6\n",
      "7\n",
      "8\n",
      "9\n",
      "10\n"
     ]
    }
   ],
   "source": [
    "#wap to generate sequence of values from 1 to n\n",
    "n=10\n",
    "m=1\n",
    "while m<=n:\n",
    "    print(m)\n",
    "    m+=1\n"
   ]
  },
  {
   "cell_type": "code",
   "execution_count": 55,
   "metadata": {},
   "outputs": [
    {
     "name": "stdout",
     "output_type": "stream",
     "text": [
      "210\n"
     ]
    }
   ],
   "source": [
    "#wap to sum of the digit from 1 to n\n",
    "m=1\n",
    "n=20\n",
    "sum=0\n",
    "while m<=n:\n",
    "    sum+=m\n",
    "    m+=1\n",
    "print(sum)\n"
   ]
  },
  {
   "cell_type": "code",
   "execution_count": 57,
   "metadata": {},
   "outputs": [
    {
     "name": "stdout",
     "output_type": "stream",
     "text": [
      "6\n"
     ]
    }
   ],
   "source": [
    "#wap to get product of all digits from 1 to n\n",
    "#wap to find factorial of number\n",
    "m=1\n",
    "n=3\n",
    "product=1\n",
    "while m<=n:\n",
    "    product*=m\n",
    "    m+=1\n",
    "print(product)"
   ]
  },
  {
   "cell_type": "code",
   "execution_count": null,
   "metadata": {},
   "outputs": [],
   "source": [
    "#wap to find the factors of given numbers\n",
    "m=1\n",
    "n=6\n",
    "while m<=n:\n",
    "    if n%m==0:\n",
    "        print(m)\n",
    "    m+=1\n",
    "\n"
   ]
  },
  {
   "cell_type": "code",
   "execution_count": 59,
   "metadata": {},
   "outputs": [
    {
     "name": "stdout",
     "output_type": "stream",
     "text": [
      "1\n",
      "2\n",
      "3\n",
      "6\n"
     ]
    }
   ],
   "source": [
    "#wap to find given number is prime number or not\n",
    "m=1\n",
    "n=6\n",
    "while m<=n:\n",
    "    if n%m==0:\n",
    "        print(m)\n",
    "    m+=1\n",
    "\n"
   ]
  },
  {
   "cell_type": "code",
   "execution_count": 60,
   "metadata": {},
   "outputs": [
    {
     "name": "stdout",
     "output_type": "stream",
     "text": [
      "4\n"
     ]
    }
   ],
   "source": [
    "#wap to count the number of factors in given number\n",
    "m=1\n",
    "n=6\n",
    "count=0\n",
    "while m<=n:\n",
    "    if n%m==0:\n",
    "        count+=1\n",
    "    m+=1\n",
    "print(count)\n",
    "\n"
   ]
  },
  {
   "cell_type": "code",
   "execution_count": 62,
   "metadata": {},
   "outputs": [
    {
     "name": "stdout",
     "output_type": "stream",
     "text": [
      "2\n",
      "prime\n"
     ]
    }
   ],
   "source": [
    "#wap to find given number is prime number or not\n",
    "m=1\n",
    "n=7\n",
    "count=0\n",
    "while m<=n:\n",
    "    if n%m==0:\n",
    "        count+=1\n",
    "    m+=1\n",
    "print(count)\n",
    "if count==2:\n",
    "    print('prime')\n",
    "else:\n",
    "    print('not a prime')\n"
   ]
  },
  {
   "cell_type": "code",
   "execution_count": null,
   "metadata": {},
   "outputs": [],
   "source": [
    "#wap sum of facters in given number"
   ]
  },
  {
   "cell_type": "code",
   "execution_count": null,
   "metadata": {},
   "outputs": [],
   "source": [
    "#wap sum of all the digits in given number, final result is prime number or not"
   ]
  },
  {
   "cell_type": "code",
   "execution_count": null,
   "metadata": {},
   "outputs": [],
   "source": [
    "#wap to find product of all the digits in given number, final result value is perfect number or not"
   ]
  }
 ],
 "metadata": {
  "kernelspec": {
   "display_name": "Python 3",
   "language": "python",
   "name": "python3"
  },
  "language_info": {
   "codemirror_mode": {
    "name": "ipython",
    "version": 3
   },
   "file_extension": ".py",
   "mimetype": "text/x-python",
   "name": "python",
   "nbconvert_exporter": "python",
   "pygments_lexer": "ipython3",
   "version": "3.10.7"
  },
  "orig_nbformat": 4
 },
 "nbformat": 4,
 "nbformat_minor": 2
}
