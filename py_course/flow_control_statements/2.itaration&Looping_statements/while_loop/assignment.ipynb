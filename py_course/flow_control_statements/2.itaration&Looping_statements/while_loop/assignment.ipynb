{
 "cells": [
  {
   "cell_type": "markdown",
   "metadata": {},
   "source": [
    "While looping."
   ]
  },
  {
   "cell_type": "markdown",
   "metadata": {},
   "source": [
    "1.WAP to print the “hello world” for 5 times by using a while loop.\n"
   ]
  },
  {
   "cell_type": "code",
   "execution_count": 1,
   "metadata": {},
   "outputs": [
    {
     "name": "stdout",
     "output_type": "stream",
     "text": [
      "hellow world\n",
      "hellow world\n",
      "hellow world\n",
      "hellow world\n",
      "hellow world\n"
     ]
    }
   ],
   "source": [
    "a=5\n",
    "while a:\n",
    "    print('hellow world')\n",
    "    a-=1\n"
   ]
  },
  {
   "cell_type": "markdown",
   "metadata": {},
   "source": [
    "2.WAP to print the number from 1 to 10 by using a while loop.\n"
   ]
  },
  {
   "cell_type": "code",
   "execution_count": 3,
   "metadata": {},
   "outputs": [
    {
     "name": "stdout",
     "output_type": "stream",
     "text": [
      "1\n",
      "2\n",
      "3\n",
      "4\n",
      "5\n",
      "6\n",
      "7\n",
      "8\n",
      "9\n",
      "10\n"
     ]
    }
   ],
   "source": [
    "a=10\n",
    "b=1\n",
    "while b<=a:\n",
    "    print(b)\n",
    "    b+=1"
   ]
  },
  {
   "cell_type": "markdown",
   "metadata": {},
   "source": [
    "3.WAP to print the natural number until 1 to nth times by using a while loop.\n"
   ]
  },
  {
   "cell_type": "markdown",
   "metadata": {},
   "source": [
    "4.WAP to print the reverse of the natural number nth to 0 times by using a while loop.\n"
   ]
  },
  {
   "cell_type": "markdown",
   "metadata": {},
   "source": [
    "5.WAP to print the whole number until nth times by using a while loop.\n"
   ]
  },
  {
   "cell_type": "markdown",
   "metadata": {},
   "source": [
    "6.WAP to print the reverse of the whole number until nth times by using a while loop.\n"
   ]
  },
  {
   "cell_type": "markdown",
   "metadata": {},
   "source": [
    "7.WAP to print the even number until nth times by using a while loop.\n"
   ]
  },
  {
   "cell_type": "code",
   "execution_count": 6,
   "metadata": {},
   "outputs": [
    {
     "name": "stdout",
     "output_type": "stream",
     "text": [
      "2\n",
      "4\n",
      "6\n",
      "8\n",
      "10\n"
     ]
    }
   ],
   "source": [
    "n=10\n",
    "a=1\n",
    "while a<=n:\n",
    "    if a%2==0:\n",
    "        print(a)\n",
    "    a+=1"
   ]
  },
  {
   "cell_type": "markdown",
   "metadata": {},
   "source": [
    "8.WAP to print reserve the even number until nth times by using a while loop.\n"
   ]
  },
  {
   "cell_type": "code",
   "execution_count": 7,
   "metadata": {},
   "outputs": [
    {
     "name": "stdout",
     "output_type": "stream",
     "text": [
      "10\n",
      "8\n",
      "6\n",
      "4\n",
      "2\n"
     ]
    }
   ],
   "source": [
    "n=10\n",
    "while n:\n",
    "    if n%2==0:\n",
    "        print(n)\n",
    "    n-=1"
   ]
  },
  {
   "cell_type": "markdown",
   "metadata": {},
   "source": [
    "9.WAP to print the odd number until nth times by using a while loop.\n"
   ]
  },
  {
   "cell_type": "markdown",
   "metadata": {},
   "source": [
    "10.WAP to print reserve the odd number until nth times by using a while loop.\n"
   ]
  },
  {
   "cell_type": "markdown",
   "metadata": {},
   "source": [
    "11.WAP to print the nth table 1 to 20, format ==> 5 * 1 = 5 to 5 * 20 = 100\n"
   ]
  },
  {
   "cell_type": "code",
   "execution_count": 9,
   "metadata": {},
   "outputs": [
    {
     "name": "stdout",
     "output_type": "stream",
     "text": [
      "5 * 1 = 5\n",
      "5 * 2 = 10\n",
      "5 * 3 = 15\n",
      "5 * 4 = 20\n",
      "5 * 5 = 25\n",
      "5 * 6 = 30\n",
      "5 * 7 = 35\n",
      "5 * 8 = 40\n",
      "5 * 9 = 45\n",
      "5 * 10 = 50\n",
      "5 * 11 = 55\n",
      "5 * 12 = 60\n",
      "5 * 13 = 65\n",
      "5 * 14 = 70\n",
      "5 * 15 = 75\n",
      "5 * 16 = 80\n",
      "5 * 17 = 85\n",
      "5 * 18 = 90\n",
      "5 * 19 = 95\n",
      "5 * 20 = 100\n"
     ]
    }
   ],
   "source": [
    "n=5\n",
    "a=20\n",
    "b=1\n",
    "while b<=a:\n",
    "    print(f'{n} * {b} =',n*b)\n",
    "    b+=1\n"
   ]
  },
  {
   "cell_type": "markdown",
   "metadata": {},
   "source": [
    "12.WAP to print the nth table 20 to 1, format ==> 5 * 20 = 100 to 5 * 1 = 5\n"
   ]
  },
  {
   "cell_type": "code",
   "execution_count": 10,
   "metadata": {},
   "outputs": [
    {
     "name": "stdout",
     "output_type": "stream",
     "text": [
      "5 * 20 = 100\n",
      "5 * 19 = 95\n",
      "5 * 18 = 90\n",
      "5 * 17 = 85\n",
      "5 * 16 = 80\n",
      "5 * 15 = 75\n",
      "5 * 14 = 70\n",
      "5 * 13 = 65\n",
      "5 * 12 = 60\n",
      "5 * 11 = 55\n",
      "5 * 10 = 50\n",
      "5 * 9 = 45\n",
      "5 * 8 = 40\n",
      "5 * 7 = 35\n",
      "5 * 6 = 30\n",
      "5 * 5 = 25\n",
      "5 * 4 = 20\n",
      "5 * 3 = 15\n",
      "5 * 2 = 10\n",
      "5 * 1 = 5\n"
     ]
    }
   ],
   "source": [
    "n=5\n",
    "a=20\n",
    "while a:\n",
    "    print(f'{n} * {a} =',n*a)\n",
    "    a-=1"
   ]
  },
  {
   "cell_type": "markdown",
   "metadata": {},
   "source": [
    "13.WAP to print the numbers which are divisible by 3 from 25 to 66.\n"
   ]
  },
  {
   "cell_type": "code",
   "execution_count": 11,
   "metadata": {},
   "outputs": [
    {
     "name": "stdout",
     "output_type": "stream",
     "text": [
      "27\n",
      "30\n",
      "33\n",
      "36\n",
      "39\n",
      "42\n",
      "45\n",
      "48\n",
      "51\n",
      "54\n",
      "57\n",
      "60\n",
      "63\n",
      "66\n"
     ]
    }
   ],
   "source": [
    "n=25\n",
    "m=66\n",
    "while n<=m:\n",
    "    if n%3==0:\n",
    "        print(n)\n",
    "    n+=1"
   ]
  },
  {
   "cell_type": "markdown",
   "metadata": {},
   "source": [
    "14.WAP to print the numbers which are divisible by 3 and 5 from 15 to 76.\n"
   ]
  },
  {
   "cell_type": "code",
   "execution_count": 13,
   "metadata": {},
   "outputs": [
    {
     "name": "stdout",
     "output_type": "stream",
     "text": [
      "30\n",
      "45\n",
      "60\n",
      "75\n"
     ]
    }
   ],
   "source": [
    "n=25\n",
    "m=76\n",
    "while n<=m:\n",
    "    if n%3==0 and n%5==0:\n",
    "        print(n)\n",
    "    n+=1"
   ]
  },
  {
   "cell_type": "markdown",
   "metadata": {},
   "source": [
    "15.WAP to print the numbers which are divisible by 5 and 7 from 77 to 22.\n"
   ]
  },
  {
   "cell_type": "markdown",
   "metadata": {},
   "source": [
    "16.WAP to print the ”love you” if value is divisible by 3, or print “hate you” value is divisible by 5, to print “i like you” if divisible by 3 and 5, from 1 to 30.\n",
    " \n"
   ]
  },
  {
   "cell_type": "code",
   "execution_count": 15,
   "metadata": {},
   "outputs": [
    {
     "name": "stdout",
     "output_type": "stream",
     "text": [
      "25 hate you\n",
      "27 love you\n",
      "30 i like you\n",
      "33 love you\n",
      "35 hate you\n",
      "36 love you\n",
      "39 love you\n",
      "40 hate you\n",
      "42 love you\n",
      "45 i like you\n",
      "48 love you\n",
      "50 hate you\n",
      "51 love you\n",
      "54 love you\n",
      "55 hate you\n",
      "57 love you\n",
      "60 i like you\n",
      "63 love you\n",
      "65 hate you\n",
      "66 love you\n"
     ]
    }
   ],
   "source": [
    "n=25\n",
    "m=66\n",
    "while n<=m:\n",
    "    if n%3==0 and n%5==0:\n",
    "        print(f'{n} i like you')\n",
    "    elif n%3==0:\n",
    "        print(f'{n} love you')\n",
    "    elif n%5==0:\n",
    "        print(f'{n} hate you')\n",
    "    n+=1"
   ]
  },
  {
   "cell_type": "markdown",
   "metadata": {},
   "source": [
    "17.WAP to print sum of the 1 to nth natural numbers.\n"
   ]
  },
  {
   "cell_type": "markdown",
   "metadata": {},
   "source": [
    "18.WAP to print sum of the even numbers 1 to 20 numbers.\n"
   ]
  },
  {
   "cell_type": "markdown",
   "metadata": {},
   "source": [
    "19.WAP to print products of the 1 to 6 numbers.\n"
   ]
  },
  {
   "cell_type": "markdown",
   "metadata": {},
   "source": [
    "20.WAP to count the no of odd values from 1 to 30 numbers.\n"
   ]
  },
  {
   "cell_type": "markdown",
   "metadata": {},
   "source": [
    "21.WAP to print the factors of the given number.\n"
   ]
  },
  {
   "cell_type": "markdown",
   "metadata": {},
   "source": [
    "22.WAP to sum of the factors of the given number.\n"
   ]
  },
  {
   "cell_type": "markdown",
   "metadata": {},
   "source": [
    "23.WAP to prod of the factors of the given number.\n"
   ]
  },
  {
   "cell_type": "markdown",
   "metadata": {},
   "source": [
    "24.WAP to print Fibonacci series 0 to nth.\n"
   ]
  },
  {
   "cell_type": "markdown",
   "metadata": {},
   "source": [
    "25.WAP to find out the factorial number of a given number.\n"
   ]
  },
  {
   "cell_type": "markdown",
   "metadata": {},
   "source": [
    "26.WAP to print the factorial numbers in the given range m to n."
   ]
  },
  {
   "cell_type": "markdown",
   "metadata": {},
   "source": [
    "27.WAP to check whether a given number is a prime number or not.\n"
   ]
  },
  {
   "cell_type": "markdown",
   "metadata": {},
   "source": [
    "28.WAP to print the prime numbers in the given range m to n.\n"
   ]
  },
  {
   "cell_type": "markdown",
   "metadata": {},
   "source": [
    "29.WAP to check whether a given number is an armstrong number or not.\n"
   ]
  },
  {
   "cell_type": "markdown",
   "metadata": {},
   "source": [
    "30.WAP to print the armstrong numbers in the given range m to n.\n"
   ]
  },
  {
   "cell_type": "markdown",
   "metadata": {},
   "source": [
    "31.Write a program to print prime series 1 to nth.\n"
   ]
  },
  {
   "cell_type": "markdown",
   "metadata": {},
   "source": [
    "32.Write a program to print 1 to 100 prime numbers in fibonacci series\n"
   ]
  },
  {
   "cell_type": "markdown",
   "metadata": {},
   "source": [
    "33.Write a program Sum of prime numbers in a given collection\n"
   ]
  },
  {
   "cell_type": "markdown",
   "metadata": {},
   "source": [
    "34.WAP to the given number is palindrome or not.\n"
   ]
  },
  {
   "cell_type": "markdown",
   "metadata": {},
   "source": [
    "35.WAP to check whether the length of the string is even or odd. If it is even, print that string 10 times. If it is not printed 5 times.\n",
    " \n"
   ]
  },
  {
   "cell_type": "markdown",
   "metadata": {},
   "source": [
    "36.WAP to print the uppercase character from ‘A’ to ‘Z’ by using a while loop.\n"
   ]
  },
  {
   "cell_type": "markdown",
   "metadata": {},
   "source": [
    "37.WAP to print the lowercase character from ‘a’ to ‘z’ by using a while loop.\n"
   ]
  },
  {
   "cell_type": "markdown",
   "metadata": {},
   "source": [
    "38.WAP to print the ascii numbers character from ‘0’ to ‘9’ by using a while loop.\n"
   ]
  },
  {
   "cell_type": "markdown",
   "metadata": {},
   "source": [
    "39.WAP to print the uppercase character from ‘E’ to ‘U’ by using a while loop.\n"
   ]
  },
  {
   "cell_type": "markdown",
   "metadata": {},
   "source": [
    "40.WAP to print the uppercase character from ‘Z’ to ‘A’ by using a while loop.\n"
   ]
  },
  {
   "cell_type": "markdown",
   "metadata": {},
   "source": [
    "41.WAP to print the uppercase character from ‘U’ to ‘G’ by using a while loop.\n"
   ]
  },
  {
   "cell_type": "markdown",
   "metadata": {},
   "source": [
    "42.WAP to print the lowercase character from ‘i’ to ‘y’ by using a while loop.\n"
   ]
  },
  {
   "cell_type": "markdown",
   "metadata": {},
   "source": [
    "43.WAP to print the lowercase character from ‘z’ to ‘a’ by using a while loop.\n"
   ]
  },
  {
   "cell_type": "markdown",
   "metadata": {},
   "source": [
    "44.WAP to print the lowercase character from ‘p’ to ‘c’ by using a while loop.\n"
   ]
  },
  {
   "cell_type": "markdown",
   "metadata": {},
   "source": [
    "45.WAP to print the uppercase characters based on even ascii values.\n"
   ]
  },
  {
   "cell_type": "markdown",
   "metadata": {},
   "source": [
    "46.WAP to print the lowercase characters based on even ascii values.\n"
   ]
  },
  {
   "cell_type": "markdown",
   "metadata": {},
   "source": [
    "47.WAP to print the uppercase characters based on odd ascii values.\n"
   ]
  },
  {
   "cell_type": "markdown",
   "metadata": {},
   "source": [
    "48.WAP to print the lowercase characters based on odd ascii values.\n"
   ]
  },
  {
   "cell_type": "markdown",
   "metadata": {},
   "source": [
    "49.WAP to print all the even characters from ‘A’ to ‘Z’.\n"
   ]
  },
  {
   "cell_type": "markdown",
   "metadata": {},
   "source": [
    "50.WAP to print all the odd characters from ‘a’ to ‘z’.\n"
   ]
  },
  {
   "cell_type": "markdown",
   "metadata": {},
   "source": [
    "51.WAP to count the number of vowels present in D to V.\n"
   ]
  },
  {
   "cell_type": "markdown",
   "metadata": {},
   "source": [
    "52.WAP to count the number of vowels present in u to e."
   ]
  },
  {
   "cell_type": "markdown",
   "metadata": {},
   "source": [
    "53.WAP to print the square of the number in between the range from m to n which\n",
    "is multiple of 3. WAP to print a number from range m to m which is divisible by\n",
    "5."
   ]
  },
  {
   "cell_type": "markdown",
   "metadata": {},
   "source": [
    "54.Write a program which takes an integer number and find the sum of digits and\n",
    "repeat until the sum gets a single digit in the end.\n",
    "Example:\n",
    "Input 5643\n",
    "\n",
    "Example:\n",
    " 5+6+4+3 =>18\n",
    " 1+8=>9\n",
    "Output 9"
   ]
  },
  {
   "cell_type": "markdown",
   "metadata": {},
   "source": [
    "55.Write a program to count the numbers of 2’s between 0 and n\n",
    "Input n=35\n",
    " Example: 2,12,20,21,22,23,24,25,26,27,28,29,32\n",
    "Output 14"
   ]
  },
  {
   "cell_type": "markdown",
   "metadata": {},
   "source": [
    "56.wap to find max product of three numbers from the given integer array\n",
    "input arr()=6,3,2,0,10\n",
    " example:10*6*2\n",
    " output:180"
   ]
  }
 ],
 "metadata": {
  "kernelspec": {
   "display_name": "Python 3",
   "language": "python",
   "name": "python3"
  },
  "language_info": {
   "codemirror_mode": {
    "name": "ipython",
    "version": 3
   },
   "file_extension": ".py",
   "mimetype": "text/x-python",
   "name": "python",
   "nbconvert_exporter": "python",
   "pygments_lexer": "ipython3",
   "version": "3.10.7"
  },
  "orig_nbformat": 4
 },
 "nbformat": 4,
 "nbformat_minor": 2
}
