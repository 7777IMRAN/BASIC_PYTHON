{
 "cells": [
  {
   "cell_type": "markdown",
   "metadata": {},
   "source": [
    "While looping."
   ]
  },
  {
   "cell_type": "markdown",
   "metadata": {},
   "source": [
    "1.WAP to print the “hello world” for 5 times by using a while loop.\n"
   ]
  },
  {
   "cell_type": "code",
   "execution_count": 65,
   "metadata": {},
   "outputs": [
    {
     "name": "stdout",
     "output_type": "stream",
     "text": [
      "hellow world\n",
      "hellow world\n",
      "hellow world\n",
      "hellow world\n",
      "hellow world\n"
     ]
    }
   ],
   "source": [
    "a=5\n",
    "while a:\n",
    "    print('hellow world')\n",
    "    a-=1\n"
   ]
  },
  {
   "cell_type": "markdown",
   "metadata": {},
   "source": [
    "2.WAP to print the number from 1 to 10 by using a while loop.\n"
   ]
  },
  {
   "cell_type": "code",
   "execution_count": 66,
   "metadata": {},
   "outputs": [
    {
     "name": "stdout",
     "output_type": "stream",
     "text": [
      "1\n",
      "2\n",
      "3\n",
      "4\n",
      "5\n",
      "6\n",
      "7\n",
      "8\n",
      "9\n",
      "10\n"
     ]
    }
   ],
   "source": [
    "a=10\n",
    "b=1\n",
    "while b<=a:\n",
    "    print(b)\n",
    "    b+=1"
   ]
  },
  {
   "cell_type": "markdown",
   "metadata": {},
   "source": [
    "3.WAP to print the natural number until 1 to nth times by using a while loop."
   ]
  },
  {
   "cell_type": "code",
   "execution_count": 67,
   "metadata": {},
   "outputs": [
    {
     "name": "stdout",
     "output_type": "stream",
     "text": [
      "1\n",
      "2\n",
      "3\n",
      "4\n",
      "5\n",
      "6\n",
      "7\n",
      "8\n",
      "9\n",
      "10\n"
     ]
    }
   ],
   "source": [
    "a=10\n",
    "b=1\n",
    "while b<=a:\n",
    "    print(b)\n",
    "    b+=1\n"
   ]
  },
  {
   "cell_type": "markdown",
   "metadata": {},
   "source": [
    "4.WAP to print the reverse of the natural number nth to 0 times by using a while loop."
   ]
  },
  {
   "cell_type": "code",
   "execution_count": 68,
   "metadata": {},
   "outputs": [
    {
     "name": "stdout",
     "output_type": "stream",
     "text": [
      "10\n",
      "9\n",
      "8\n",
      "7\n",
      "6\n",
      "5\n",
      "4\n",
      "3\n",
      "2\n",
      "1\n"
     ]
    }
   ],
   "source": [
    "n=10\n",
    "while n:\n",
    "    print(n)\n",
    "    n-=1"
   ]
  },
  {
   "cell_type": "markdown",
   "metadata": {},
   "source": [
    "5.WAP to print the whole number until nth times by using a while loop."
   ]
  },
  {
   "cell_type": "code",
   "execution_count": 69,
   "metadata": {},
   "outputs": [
    {
     "name": "stdout",
     "output_type": "stream",
     "text": [
      "0\n",
      "1\n",
      "2\n",
      "3\n",
      "4\n",
      "5\n",
      "6\n",
      "7\n",
      "8\n",
      "9\n",
      "10\n"
     ]
    }
   ],
   "source": [
    "a=10\n",
    "b=0\n",
    "while b<=a:\n",
    "    print(b)\n",
    "    b+=1\n"
   ]
  },
  {
   "cell_type": "markdown",
   "metadata": {},
   "source": [
    "6.WAP to print the reverse of the whole number until nth times by using a while loop."
   ]
  },
  {
   "cell_type": "code",
   "execution_count": 70,
   "metadata": {},
   "outputs": [
    {
     "name": "stdout",
     "output_type": "stream",
     "text": [
      "10\n",
      "9\n",
      "8\n",
      "7\n",
      "6\n",
      "5\n",
      "4\n",
      "3\n",
      "2\n",
      "1\n",
      "0\n"
     ]
    }
   ],
   "source": [
    "a=10\n",
    "while a:\n",
    "    print(a)\n",
    "    a-=1\n",
    "    if a==0:\n",
    "        print(a)\n"
   ]
  },
  {
   "cell_type": "markdown",
   "metadata": {},
   "source": [
    "7.WAP to print the even number until nth times by using a while loop."
   ]
  },
  {
   "cell_type": "code",
   "execution_count": 71,
   "metadata": {},
   "outputs": [
    {
     "name": "stdout",
     "output_type": "stream",
     "text": [
      "2\n",
      "4\n",
      "6\n",
      "8\n",
      "10\n"
     ]
    }
   ],
   "source": [
    "n=10\n",
    "a=1\n",
    "while a<=n:\n",
    "    if a%2==0:\n",
    "        print(a)\n",
    "    a+=1"
   ]
  },
  {
   "cell_type": "markdown",
   "metadata": {},
   "source": [
    "8.WAP to print reserve the even number until nth times by using a while loop."
   ]
  },
  {
   "cell_type": "code",
   "execution_count": 72,
   "metadata": {},
   "outputs": [
    {
     "name": "stdout",
     "output_type": "stream",
     "text": [
      "10\n",
      "8\n",
      "6\n",
      "4\n",
      "2\n"
     ]
    }
   ],
   "source": [
    "n=10\n",
    "while n:\n",
    "    if n%2==0:\n",
    "        print(n)\n",
    "    n-=1"
   ]
  },
  {
   "cell_type": "markdown",
   "metadata": {},
   "source": [
    "9.WAP to print the odd number until nth times by using a while loop."
   ]
  },
  {
   "cell_type": "code",
   "execution_count": 73,
   "metadata": {},
   "outputs": [
    {
     "name": "stdout",
     "output_type": "stream",
     "text": [
      "1\n",
      "3\n",
      "5\n",
      "7\n",
      "9\n"
     ]
    }
   ],
   "source": [
    "n=10\n",
    "a=1\n",
    "while a<=n:\n",
    "    if a%2==1:\n",
    "        print(a)\n",
    "    a+=1"
   ]
  },
  {
   "cell_type": "markdown",
   "metadata": {},
   "source": [
    "10.WAP to print reserve the odd number until nth times by using a while loop."
   ]
  },
  {
   "cell_type": "code",
   "execution_count": 74,
   "metadata": {},
   "outputs": [
    {
     "name": "stdout",
     "output_type": "stream",
     "text": [
      "9\n",
      "7\n",
      "5\n",
      "3\n",
      "1\n"
     ]
    }
   ],
   "source": [
    "n=10\n",
    "while n:\n",
    "    if n%2==1:\n",
    "        print(n)\n",
    "    n-=1"
   ]
  },
  {
   "cell_type": "markdown",
   "metadata": {},
   "source": [
    "11.WAP to print the nth table 1 to 20, format ==> 5 * 1 = 5 to 5 * 20 = 100\n"
   ]
  },
  {
   "cell_type": "code",
   "execution_count": 75,
   "metadata": {},
   "outputs": [
    {
     "name": "stdout",
     "output_type": "stream",
     "text": [
      "5 * 1 = 5\n",
      "5 * 2 = 10\n",
      "5 * 3 = 15\n",
      "5 * 4 = 20\n",
      "5 * 5 = 25\n",
      "5 * 6 = 30\n",
      "5 * 7 = 35\n",
      "5 * 8 = 40\n",
      "5 * 9 = 45\n",
      "5 * 10 = 50\n",
      "5 * 11 = 55\n",
      "5 * 12 = 60\n",
      "5 * 13 = 65\n",
      "5 * 14 = 70\n",
      "5 * 15 = 75\n",
      "5 * 16 = 80\n",
      "5 * 17 = 85\n",
      "5 * 18 = 90\n",
      "5 * 19 = 95\n",
      "5 * 20 = 100\n"
     ]
    }
   ],
   "source": [
    "n=5\n",
    "a=20\n",
    "b=1\n",
    "while b<=a:\n",
    "    print(f'{n} * {b} =',n*b)\n",
    "    b+=1\n"
   ]
  },
  {
   "cell_type": "markdown",
   "metadata": {},
   "source": [
    "12.WAP to print the nth table 20 to 1, format ==> 5 * 20 = 100 to 5 * 1 = 5\n"
   ]
  },
  {
   "cell_type": "code",
   "execution_count": 76,
   "metadata": {},
   "outputs": [
    {
     "name": "stdout",
     "output_type": "stream",
     "text": [
      "5 * 20 = 100\n",
      "5 * 19 = 95\n",
      "5 * 18 = 90\n",
      "5 * 17 = 85\n",
      "5 * 16 = 80\n",
      "5 * 15 = 75\n",
      "5 * 14 = 70\n",
      "5 * 13 = 65\n",
      "5 * 12 = 60\n",
      "5 * 11 = 55\n",
      "5 * 10 = 50\n",
      "5 * 9 = 45\n",
      "5 * 8 = 40\n",
      "5 * 7 = 35\n",
      "5 * 6 = 30\n",
      "5 * 5 = 25\n",
      "5 * 4 = 20\n",
      "5 * 3 = 15\n",
      "5 * 2 = 10\n",
      "5 * 1 = 5\n"
     ]
    }
   ],
   "source": [
    "n=5\n",
    "a=20\n",
    "while a:\n",
    "    print(f'{n} * {a} =',n*a)\n",
    "    a-=1"
   ]
  },
  {
   "cell_type": "markdown",
   "metadata": {},
   "source": [
    "13.WAP to print the numbers which are divisible by 3 from 25 to 66.\n"
   ]
  },
  {
   "cell_type": "code",
   "execution_count": 77,
   "metadata": {},
   "outputs": [
    {
     "name": "stdout",
     "output_type": "stream",
     "text": [
      "27\n",
      "30\n",
      "33\n",
      "36\n",
      "39\n",
      "42\n",
      "45\n",
      "48\n",
      "51\n",
      "54\n",
      "57\n",
      "60\n",
      "63\n",
      "66\n"
     ]
    }
   ],
   "source": [
    "n=25\n",
    "m=66\n",
    "while n<=m:\n",
    "    if n%3==0:\n",
    "        print(n)\n",
    "    n+=1"
   ]
  },
  {
   "cell_type": "markdown",
   "metadata": {},
   "source": [
    "14.WAP to print the numbers which are divisible by 3 and 5 from 15 to 76.\n"
   ]
  },
  {
   "cell_type": "code",
   "execution_count": 78,
   "metadata": {},
   "outputs": [
    {
     "name": "stdout",
     "output_type": "stream",
     "text": [
      "30\n",
      "45\n",
      "60\n",
      "75\n"
     ]
    }
   ],
   "source": [
    "n=25\n",
    "m=76\n",
    "while n<=m:\n",
    "    if n%3==0 and n%5==0:\n",
    "        print(n)\n",
    "    n+=1"
   ]
  },
  {
   "cell_type": "markdown",
   "metadata": {},
   "source": [
    "15.WAP to print the numbers which are divisible by 5 and 7 from 77 to 22."
   ]
  },
  {
   "cell_type": "code",
   "execution_count": 79,
   "metadata": {},
   "outputs": [
    {
     "name": "stdout",
     "output_type": "stream",
     "text": [
      "35\n",
      "70\n"
     ]
    }
   ],
   "source": [
    "n=77\n",
    "a=22\n",
    "while a<=n:\n",
    "    if a%5==0 and a%7==0:\n",
    "        print(a)\n",
    "    a+=1"
   ]
  },
  {
   "cell_type": "markdown",
   "metadata": {},
   "source": [
    "16.WAP to print the ”love you” if value is divisible by 3, or print “hate you” value is divisible by 5, to print “i like you” if divisible by 3 and 5, from 1 to 30.\n",
    " \n"
   ]
  },
  {
   "cell_type": "code",
   "execution_count": 80,
   "metadata": {},
   "outputs": [
    {
     "name": "stdout",
     "output_type": "stream",
     "text": [
      "25 hate you\n",
      "27 love you\n",
      "30 i like you\n",
      "33 love you\n",
      "35 hate you\n",
      "36 love you\n",
      "39 love you\n",
      "40 hate you\n",
      "42 love you\n",
      "45 i like you\n",
      "48 love you\n",
      "50 hate you\n",
      "51 love you\n",
      "54 love you\n",
      "55 hate you\n",
      "57 love you\n",
      "60 i like you\n",
      "63 love you\n",
      "65 hate you\n",
      "66 love you\n"
     ]
    }
   ],
   "source": [
    "n=25\n",
    "m=66\n",
    "while n<=m:\n",
    "    if n%3==0 and n%5==0:\n",
    "        print(f'{n} i like you')\n",
    "    elif n%3==0:\n",
    "        print(f'{n} love you')\n",
    "    elif n%5==0:\n",
    "        print(f'{n} hate you')\n",
    "    n+=1"
   ]
  },
  {
   "cell_type": "markdown",
   "metadata": {},
   "source": [
    "17.WAP to print sum of the 1 to nth natural numbers."
   ]
  },
  {
   "cell_type": "code",
   "execution_count": 81,
   "metadata": {},
   "outputs": [
    {
     "name": "stdout",
     "output_type": "stream",
     "text": [
      "55\n"
     ]
    }
   ],
   "source": [
    "n=10\n",
    "a=0\n",
    "sum=0\n",
    "while a<=n:\n",
    "    sum+=a\n",
    "    a+=1\n",
    "print(sum)"
   ]
  },
  {
   "cell_type": "markdown",
   "metadata": {},
   "source": [
    "18.WAP to print sum of the even numbers 1 to 20 numbers."
   ]
  },
  {
   "cell_type": "code",
   "execution_count": 82,
   "metadata": {},
   "outputs": [
    {
     "name": "stdout",
     "output_type": "stream",
     "text": [
      "110\n"
     ]
    }
   ],
   "source": [
    "n=20\n",
    "a=0\n",
    "sum=0\n",
    "while a<=n:\n",
    "    if a%2==0:\n",
    "        sum+=a\n",
    "    a+=1\n",
    "print(sum)"
   ]
  },
  {
   "cell_type": "markdown",
   "metadata": {},
   "source": [
    "19.WAP to print products of the 1 to 6 numbers."
   ]
  },
  {
   "cell_type": "code",
   "execution_count": 83,
   "metadata": {},
   "outputs": [
    {
     "name": "stdout",
     "output_type": "stream",
     "text": [
      "720\n"
     ]
    }
   ],
   "source": [
    "a=1\n",
    "n=6\n",
    "b=1\n",
    "while a<=n:\n",
    "    b*=a\n",
    "    a+=1\n",
    "print(b)"
   ]
  },
  {
   "cell_type": "markdown",
   "metadata": {},
   "source": [
    "20.WAP to count the no of odd values from 1 to 30 numbers."
   ]
  },
  {
   "cell_type": "code",
   "execution_count": 84,
   "metadata": {},
   "outputs": [
    {
     "name": "stdout",
     "output_type": "stream",
     "text": [
      "15\n"
     ]
    }
   ],
   "source": [
    "a=1\n",
    "n=30\n",
    "count=0\n",
    "while a<=n:\n",
    "    if a%2!=0:\n",
    "        count+=1\n",
    "    a+=1\n",
    "print(count)"
   ]
  },
  {
   "cell_type": "markdown",
   "metadata": {},
   "source": [
    "21.WAP to print the factors of the given number."
   ]
  },
  {
   "cell_type": "code",
   "execution_count": 85,
   "metadata": {},
   "outputs": [
    {
     "name": "stdout",
     "output_type": "stream",
     "text": [
      "1\n",
      "2\n",
      "4\n",
      "8\n"
     ]
    }
   ],
   "source": [
    "n=8\n",
    "a=1\n",
    "while a<=n:\n",
    "    if n%a==0:\n",
    "        print(a)\n",
    "    a+=1"
   ]
  },
  {
   "cell_type": "markdown",
   "metadata": {},
   "source": [
    "22.WAP to sum of the factors of the given number."
   ]
  },
  {
   "cell_type": "code",
   "execution_count": 86,
   "metadata": {},
   "outputs": [
    {
     "name": "stdout",
     "output_type": "stream",
     "text": [
      "15\n"
     ]
    }
   ],
   "source": [
    "n=8\n",
    "a=1\n",
    "b=0\n",
    "while a<=n:\n",
    "    if n%a==0:\n",
    "        b+=a\n",
    "    a+=1\n",
    "print(b)"
   ]
  },
  {
   "cell_type": "markdown",
   "metadata": {},
   "source": [
    "23.WAP to prod of the factors of the given number."
   ]
  },
  {
   "cell_type": "code",
   "execution_count": 87,
   "metadata": {},
   "outputs": [
    {
     "name": "stdout",
     "output_type": "stream",
     "text": [
      "64\n"
     ]
    }
   ],
   "source": [
    "n=8\n",
    "a=1\n",
    "b=1\n",
    "while a<=n:\n",
    "    if n%a==0:\n",
    "        b*=a\n",
    "    a+=1\n",
    "print(b)"
   ]
  },
  {
   "cell_type": "markdown",
   "metadata": {},
   "source": [
    "24.WAP to print Fibonacci series 0 to nth."
   ]
  },
  {
   "cell_type": "code",
   "execution_count": 88,
   "metadata": {},
   "outputs": [
    {
     "name": "stdout",
     "output_type": "stream",
     "text": [
      "0\n",
      "1\n",
      "1\n",
      "2\n",
      "3\n",
      "5\n",
      "8\n",
      "13\n",
      "21\n",
      "34\n",
      "55\n",
      "89\n"
     ]
    }
   ],
   "source": [
    "n=10\n",
    "a=0\n",
    "b=1\n",
    "print(a)\n",
    "print(b)\n",
    "m=0\n",
    "while n:\n",
    "    m=a+b\n",
    "    print(m)\n",
    "    a,b=b,m\n",
    "    n-=1"
   ]
  },
  {
   "cell_type": "markdown",
   "metadata": {},
   "source": [
    "25.WAP to find out the factorial number of a given number."
   ]
  },
  {
   "cell_type": "code",
   "execution_count": 89,
   "metadata": {},
   "outputs": [
    {
     "name": "stdout",
     "output_type": "stream",
     "text": [
      "120\n"
     ]
    }
   ],
   "source": [
    "a=5\n",
    "b=1\n",
    "pro=1\n",
    "while b<=a:\n",
    "    pro*=b\n",
    "    b+=1\n",
    "print(pro)\n"
   ]
  },
  {
   "cell_type": "markdown",
   "metadata": {},
   "source": [
    "26.WAP to print the factorial numbers in the given range m to n."
   ]
  },
  {
   "cell_type": "code",
   "execution_count": 90,
   "metadata": {},
   "outputs": [
    {
     "name": "stdout",
     "output_type": "stream",
     "text": [
      "1 => 1\n",
      "2 => 2\n",
      "3 => 6\n",
      "4 => 24\n",
      "5 => 120\n",
      "6 => 720\n",
      "7 => 5040\n",
      "8 => 40320\n",
      "9 => 362880\n",
      "10 => 3628800\n"
     ]
    }
   ],
   "source": [
    "m=1\n",
    "n=10\n",
    "while m<=n:\n",
    "    ppro=1\n",
    "    a=m\n",
    "    b=1\n",
    "    while b<=a:\n",
    "        ppro*=b\n",
    "        b+=1\n",
    "    print(f'{m} => {ppro}')\n",
    "    m+=1\n",
    "\n"
   ]
  },
  {
   "cell_type": "markdown",
   "metadata": {},
   "source": [
    "27.WAP to check whether a given number is a prime number or not."
   ]
  },
  {
   "cell_type": "code",
   "execution_count": 91,
   "metadata": {},
   "outputs": [
    {
     "name": "stdout",
     "output_type": "stream",
     "text": [
      "7 is prime number\n"
     ]
    }
   ],
   "source": [
    "n=7\n",
    "a=1\n",
    "count=0\n",
    "while a<=n:\n",
    "    if n%a==0:\n",
    "        count+=1\n",
    "    a+=1\n",
    "if count==2:\n",
    "    print(f'{n} is prime number')\n",
    "else:\n",
    "    print(f'{n} not a prime number')"
   ]
  },
  {
   "cell_type": "markdown",
   "metadata": {},
   "source": [
    "28.WAP to print the prime numbers in the given range m to n."
   ]
  },
  {
   "cell_type": "code",
   "execution_count": 2,
   "metadata": {},
   "outputs": [
    {
     "name": "stdout",
     "output_type": "stream",
     "text": [
      "1 is prime number\n",
      "2 is prime number\n",
      "3 is prime number\n",
      "5 is prime number\n",
      "7 is prime number\n"
     ]
    }
   ],
   "source": [
    "n1=0\n",
    "n2=10\n",
    "while n1<=n2:\n",
    "    n=n1\n",
    "    a=1\n",
    "    count=0\n",
    "    while a<=n:\n",
    "        if n%a==0:\n",
    "            count+=1\n",
    "        a+=1\n",
    "    if 1<=count<=2:\n",
    "        print(f'{n} is prime number')\n",
    "    # else:\n",
    "        # print(f'{n} not a prime number')\n",
    "        \n",
    "    n1+=1"
   ]
  },
  {
   "cell_type": "markdown",
   "metadata": {},
   "source": [
    "29.WAP to check whether a given number is an armstrong number or not."
   ]
  },
  {
   "cell_type": "code",
   "execution_count": 93,
   "metadata": {},
   "outputs": [
    {
     "name": "stdout",
     "output_type": "stream",
     "text": [
      "153 amstrong number\n"
     ]
    }
   ],
   "source": [
    "n=153\n",
    "a=n\n",
    "b=a\n",
    "count=0\n",
    "sum=0\n",
    "while n:\n",
    "    count+=1\n",
    "    n=n//10\n",
    "while a:\n",
    "    ld=a%10\n",
    "    sum+=ld**count\n",
    "    a=a//10\n",
    "if b==sum:\n",
    "    print(f'{b} amstrong number')\n",
    "else:\n",
    "    print(f'{b} not an amstrong number')"
   ]
  },
  {
   "cell_type": "markdown",
   "metadata": {},
   "source": [
    "30.WAP to print the armstrong numbers in the given range m to n."
   ]
  },
  {
   "cell_type": "code",
   "execution_count": 94,
   "metadata": {},
   "outputs": [
    {
     "name": "stdout",
     "output_type": "stream",
     "text": [
      "0 amstrong number\n",
      "1 amstrong number\n",
      "2 amstrong number\n",
      "3 amstrong number\n",
      "4 amstrong number\n",
      "5 amstrong number\n",
      "6 amstrong number\n",
      "7 amstrong number\n",
      "8 amstrong number\n",
      "9 amstrong number\n",
      "153 amstrong number\n",
      "370 amstrong number\n",
      "371 amstrong number\n",
      "407 amstrong number\n",
      "1634 amstrong number\n"
     ]
    }
   ],
   "source": [
    "x=0\n",
    "y=2000\n",
    "while x<=y:\n",
    "    n=x\n",
    "    a=n\n",
    "    b=a\n",
    "    count=0\n",
    "    sum=0\n",
    "    while n:\n",
    "        count+=1\n",
    "        n=n//10\n",
    "    while a:\n",
    "        ld=a%10\n",
    "        sum+=ld**count\n",
    "        a=a//10\n",
    "    if b==sum:\n",
    "        print(f'{b} amstrong number')\n",
    "    else:\n",
    "        pass\n",
    "        # print(f'{b} not an amstrong number')\n",
    "    x+=1"
   ]
  },
  {
   "cell_type": "markdown",
   "metadata": {},
   "source": [
    "31.Write a program to print prime series 1 to nth."
   ]
  },
  {
   "cell_type": "code",
   "execution_count": 95,
   "metadata": {},
   "outputs": [
    {
     "name": "stdout",
     "output_type": "stream",
     "text": [
      "1 prime number\n",
      "2 prime number\n",
      "3 prime number\n",
      "5 prime number\n",
      "7 prime number\n"
     ]
    }
   ],
   "source": [
    "a=0\n",
    "n=10\n",
    "while a<=n:\n",
    "    b=a\n",
    "    c=1\n",
    "    count=0\n",
    "    while c<=b:\n",
    "        if b%c==0:\n",
    "            count+=1\n",
    "        c+=1\n",
    "    if 1<=count<=2:\n",
    "        print(f'{a} prime number')\n",
    "    a+=1"
   ]
  },
  {
   "cell_type": "markdown",
   "metadata": {},
   "source": [
    "32.Write a program to print 1 to 100 prime numbers in fibonacci series"
   ]
  },
  {
   "cell_type": "code",
   "execution_count": 96,
   "metadata": {},
   "outputs": [
    {
     "name": "stdout",
     "output_type": "stream",
     "text": [
      "0\n",
      "1\n",
      "2 prime number\n",
      "3 prime number\n",
      "5 prime number\n",
      "13 prime number\n",
      "89 prime number\n"
     ]
    }
   ],
   "source": [
    "n=10\n",
    "a=0\n",
    "b=1\n",
    "print(a)\n",
    "print(b)\n",
    "m=0\n",
    "while n:\n",
    "    m=a+b\n",
    "    # print(m)\n",
    "    x=1\n",
    "    count=0\n",
    "    while x<=m:\n",
    "        if m%x==0:\n",
    "            count+=1\n",
    "        x+=1\n",
    "    if count==2:\n",
    "        print(f'{m} prime number')\n",
    "    a,b=b,m\n",
    "    n-=1"
   ]
  },
  {
   "cell_type": "markdown",
   "metadata": {},
   "source": [
    "33.Write a program Sum of prime numbers in a given collection"
   ]
  },
  {
   "cell_type": "code",
   "execution_count": 97,
   "metadata": {},
   "outputs": [
    {
     "name": "stdout",
     "output_type": "stream",
     "text": [
      "17\n"
     ]
    }
   ],
   "source": [
    "a=[1,2,3,4,5,6,7,8,9,10]\n",
    "b=0\n",
    "sum=0\n",
    "while b<len(a):\n",
    "    c=a[b]\n",
    "    d=1\n",
    "    count=0\n",
    "    while d<=c:\n",
    "        if c%d==0:\n",
    "            count+=1\n",
    "        d+=1\n",
    "    if count==2:\n",
    "        sum+=a[b]   \n",
    "    b+=1\n",
    "print(sum)\n"
   ]
  },
  {
   "cell_type": "markdown",
   "metadata": {},
   "source": [
    "34.WAP to the given number is palindrome or not."
   ]
  },
  {
   "cell_type": "code",
   "execution_count": 98,
   "metadata": {},
   "outputs": [
    {
     "name": "stdout",
     "output_type": "stream",
     "text": [
      "2112 is polindrome\n"
     ]
    }
   ],
   "source": [
    "n=2112\n",
    "a=n\n",
    "reverse=0\n",
    "while n:\n",
    "    ld=n%10\n",
    "    reverse=(reverse*10)+ld\n",
    "    n=n//10\n",
    "if a==reverse:\n",
    "    print(f'{a} is polindrome')\n",
    "else:\n",
    "    print(f'{a} is not a polindrome')"
   ]
  },
  {
   "cell_type": "markdown",
   "metadata": {},
   "source": [
    "35.WAP to check whether the length of the string is even or odd. If it is even, print that string 10 times. If it is not printed 5 times."
   ]
  },
  {
   "cell_type": "code",
   "execution_count": 99,
   "metadata": {},
   "outputs": [
    {
     "name": "stdout",
     "output_type": "stream",
     "text": [
      "sstring\n",
      "sstring\n",
      "sstring\n",
      "sstring\n",
      "sstring\n"
     ]
    }
   ],
   "source": [
    "a='sstring'\n",
    "if len(a)%2==0:\n",
    "    b=10\n",
    "    while b:\n",
    "        print(a)\n",
    "        b-=1\n",
    "else:\n",
    "    b=5\n",
    "    while b:\n",
    "        print(a)\n",
    "        b-=1"
   ]
  },
  {
   "cell_type": "markdown",
   "metadata": {},
   "source": [
    "36.WAP to print the uppercase character from ‘A’ to ‘Z’ by using a while loop."
   ]
  },
  {
   "cell_type": "code",
   "execution_count": 100,
   "metadata": {},
   "outputs": [
    {
     "name": "stdout",
     "output_type": "stream",
     "text": [
      "A\n",
      "B\n",
      "C\n",
      "D\n",
      "E\n",
      "F\n",
      "G\n",
      "H\n",
      "I\n",
      "J\n",
      "K\n",
      "L\n",
      "M\n",
      "N\n",
      "O\n",
      "P\n",
      "Q\n",
      "R\n",
      "S\n",
      "T\n",
      "U\n",
      "V\n",
      "W\n",
      "X\n",
      "Y\n",
      "Z\n"
     ]
    }
   ],
   "source": [
    "a='A'\n",
    "b='Z'\n",
    "while a<=b:\n",
    "    print(a)\n",
    "    a=chr(ord(a)+1)\n"
   ]
  },
  {
   "cell_type": "markdown",
   "metadata": {},
   "source": [
    "37.WAP to print the lowercase character from ‘a’ to ‘z’ by using a while loop."
   ]
  },
  {
   "cell_type": "code",
   "execution_count": 101,
   "metadata": {},
   "outputs": [
    {
     "name": "stdout",
     "output_type": "stream",
     "text": [
      "a\n",
      "b\n",
      "c\n",
      "d\n",
      "e\n",
      "f\n",
      "g\n",
      "h\n",
      "i\n",
      "j\n",
      "k\n",
      "l\n",
      "m\n",
      "n\n",
      "o\n",
      "p\n",
      "q\n",
      "r\n",
      "s\n",
      "t\n",
      "u\n",
      "v\n",
      "w\n",
      "x\n",
      "y\n",
      "z\n"
     ]
    }
   ],
   "source": [
    "a='a'\n",
    "b='z'\n",
    "while a<=b:\n",
    "    print(a)\n",
    "    a=chr(ord(a)+1)\n"
   ]
  },
  {
   "cell_type": "markdown",
   "metadata": {},
   "source": [
    "38.WAP to print the ascii numbers character from ‘0’ to ‘9’ by using a while loop."
   ]
  },
  {
   "cell_type": "code",
   "execution_count": 102,
   "metadata": {},
   "outputs": [
    {
     "name": "stdout",
     "output_type": "stream",
     "text": [
      "0\n",
      "1\n",
      "2\n",
      "3\n",
      "4\n",
      "5\n",
      "6\n",
      "7\n",
      "8\n",
      "9\n"
     ]
    }
   ],
   "source": [
    "a='0'\n",
    "b='9'\n",
    "while a<=b:\n",
    "    print(a)\n",
    "    a=chr(ord(a)+1)\n"
   ]
  },
  {
   "cell_type": "markdown",
   "metadata": {},
   "source": [
    "39.WAP to print the uppercase character from ‘E’ to ‘U’ by using a while loop."
   ]
  },
  {
   "cell_type": "code",
   "execution_count": 103,
   "metadata": {},
   "outputs": [
    {
     "name": "stdout",
     "output_type": "stream",
     "text": [
      "E\n",
      "F\n",
      "G\n",
      "H\n",
      "I\n",
      "J\n",
      "K\n",
      "L\n",
      "M\n",
      "N\n",
      "O\n",
      "P\n",
      "Q\n",
      "R\n",
      "S\n",
      "T\n",
      "U\n"
     ]
    }
   ],
   "source": [
    "a='E'\n",
    "b='U'\n",
    "while a<=b:\n",
    "    print(a)\n",
    "    a=chr(ord(a)+1)\n"
   ]
  },
  {
   "cell_type": "markdown",
   "metadata": {},
   "source": [
    "40.WAP to print the uppercase character from ‘Z’ to ‘A’ by using a while loop."
   ]
  },
  {
   "cell_type": "code",
   "execution_count": 104,
   "metadata": {},
   "outputs": [
    {
     "name": "stdout",
     "output_type": "stream",
     "text": [
      "Z\n",
      "Y\n",
      "X\n",
      "W\n",
      "V\n",
      "U\n",
      "T\n",
      "S\n",
      "R\n",
      "Q\n",
      "P\n",
      "O\n",
      "N\n",
      "M\n",
      "L\n",
      "K\n",
      "J\n",
      "I\n",
      "H\n",
      "G\n",
      "F\n",
      "E\n",
      "D\n",
      "C\n",
      "B\n",
      "A\n"
     ]
    }
   ],
   "source": [
    "a='Z'\n",
    "b='A'\n",
    "while a>=b:\n",
    "    print(a)\n",
    "    a=chr(ord(a)-1)\n"
   ]
  },
  {
   "cell_type": "markdown",
   "metadata": {},
   "source": [
    "41.WAP to print the uppercase character from ‘U’ to ‘G’ by using a while loop."
   ]
  },
  {
   "cell_type": "code",
   "execution_count": 105,
   "metadata": {},
   "outputs": [
    {
     "name": "stdout",
     "output_type": "stream",
     "text": [
      "U\n",
      "T\n",
      "S\n",
      "R\n",
      "Q\n",
      "P\n",
      "O\n",
      "N\n",
      "M\n",
      "L\n",
      "K\n",
      "J\n",
      "I\n",
      "H\n",
      "G\n"
     ]
    }
   ],
   "source": [
    "a='U'\n",
    "b='G'\n",
    "while a>=b:\n",
    "    print(a)\n",
    "    a=chr(ord(a)-1)\n"
   ]
  },
  {
   "cell_type": "markdown",
   "metadata": {},
   "source": [
    "42.WAP to print the lowercase character from ‘i’ to ‘y’ by using a while loop."
   ]
  },
  {
   "cell_type": "code",
   "execution_count": 106,
   "metadata": {},
   "outputs": [
    {
     "name": "stdout",
     "output_type": "stream",
     "text": [
      "i\n",
      "j\n",
      "k\n",
      "l\n",
      "m\n",
      "n\n",
      "o\n",
      "p\n",
      "q\n",
      "r\n",
      "s\n",
      "t\n",
      "u\n",
      "v\n",
      "w\n",
      "x\n",
      "y\n"
     ]
    }
   ],
   "source": [
    "a='i'\n",
    "b='y'\n",
    "while a<=b:\n",
    "    print(a)\n",
    "    a=chr(ord(a)+1)\n"
   ]
  },
  {
   "cell_type": "markdown",
   "metadata": {},
   "source": [
    "43.WAP to print the lowercase character from ‘z’ to ‘a’ by using a while loop."
   ]
  },
  {
   "cell_type": "code",
   "execution_count": 107,
   "metadata": {},
   "outputs": [
    {
     "name": "stdout",
     "output_type": "stream",
     "text": [
      "z\n",
      "y\n",
      "x\n",
      "w\n",
      "v\n",
      "u\n",
      "t\n",
      "s\n",
      "r\n",
      "q\n",
      "p\n",
      "o\n",
      "n\n",
      "m\n",
      "l\n",
      "k\n",
      "j\n",
      "i\n",
      "h\n",
      "g\n",
      "f\n",
      "e\n",
      "d\n",
      "c\n",
      "b\n",
      "a\n"
     ]
    }
   ],
   "source": [
    "a='z'\n",
    "b='a'\n",
    "while a>=b:\n",
    "    print(a)\n",
    "    a=chr(ord(a)-1)\n"
   ]
  },
  {
   "cell_type": "markdown",
   "metadata": {},
   "source": [
    "44.WAP to print the lowercase character from ‘p’ to ‘c’ by using a while loop."
   ]
  },
  {
   "cell_type": "code",
   "execution_count": 108,
   "metadata": {},
   "outputs": [
    {
     "name": "stdout",
     "output_type": "stream",
     "text": [
      "p\n",
      "o\n",
      "n\n",
      "m\n",
      "l\n",
      "k\n",
      "j\n",
      "i\n",
      "h\n",
      "g\n",
      "f\n",
      "e\n",
      "d\n",
      "c\n"
     ]
    }
   ],
   "source": [
    "a='p'\n",
    "b='c'\n",
    "while a>=b:\n",
    "    print(a)\n",
    "    a=chr(ord(a)-1)\n"
   ]
  },
  {
   "cell_type": "markdown",
   "metadata": {},
   "source": [
    "45.WAP to print the uppercase characters based on even ascii values."
   ]
  },
  {
   "cell_type": "code",
   "execution_count": 109,
   "metadata": {},
   "outputs": [
    {
     "name": "stdout",
     "output_type": "stream",
     "text": [
      "B\n",
      "D\n",
      "F\n",
      "H\n",
      "J\n",
      "L\n",
      "N\n",
      "P\n",
      "R\n",
      "T\n",
      "V\n",
      "X\n",
      "Z\n"
     ]
    }
   ],
   "source": [
    "a='A'\n",
    "b='Z'\n",
    "while a<=b:\n",
    "    if ord(a)%2==0:\n",
    "        print(a)\n",
    "    a=chr(ord(a)+1)"
   ]
  },
  {
   "cell_type": "markdown",
   "metadata": {},
   "source": [
    "46.WAP to print the lowercase characters based on even ascii values."
   ]
  },
  {
   "cell_type": "code",
   "execution_count": 110,
   "metadata": {},
   "outputs": [
    {
     "name": "stdout",
     "output_type": "stream",
     "text": [
      "b\n",
      "d\n",
      "f\n",
      "h\n",
      "j\n",
      "l\n",
      "n\n",
      "p\n",
      "r\n",
      "t\n",
      "v\n",
      "x\n",
      "z\n"
     ]
    }
   ],
   "source": [
    "a='a'\n",
    "b='z'\n",
    "while a<=b:\n",
    "    if ord(a)%2==0:\n",
    "        print(a)\n",
    "    a=chr(ord(a)+1)"
   ]
  },
  {
   "cell_type": "markdown",
   "metadata": {},
   "source": [
    "47.WAP to print the uppercase characters based on odd ascii values."
   ]
  },
  {
   "cell_type": "code",
   "execution_count": 111,
   "metadata": {},
   "outputs": [
    {
     "name": "stdout",
     "output_type": "stream",
     "text": [
      "A\n",
      "C\n",
      "E\n",
      "G\n",
      "I\n",
      "K\n",
      "M\n",
      "O\n",
      "Q\n",
      "S\n",
      "U\n",
      "W\n",
      "Y\n"
     ]
    }
   ],
   "source": [
    "a='A'\n",
    "b='Z'\n",
    "while a<=b:\n",
    "    if ord(a)%2==1:\n",
    "        print(a)\n",
    "    a=chr(ord(a)+1)"
   ]
  },
  {
   "cell_type": "markdown",
   "metadata": {},
   "source": [
    "48.WAP to print the lowercase characters based on odd ascii values."
   ]
  },
  {
   "cell_type": "code",
   "execution_count": 112,
   "metadata": {},
   "outputs": [
    {
     "name": "stdout",
     "output_type": "stream",
     "text": [
      "a\n",
      "c\n",
      "e\n",
      "g\n",
      "i\n",
      "k\n",
      "m\n",
      "o\n",
      "q\n",
      "s\n",
      "u\n",
      "w\n",
      "y\n"
     ]
    }
   ],
   "source": [
    "a='a'\n",
    "b='z'\n",
    "while a<=b:\n",
    "    if ord(a)%2==1:\n",
    "        print(a)\n",
    "    a=chr(ord(a)+1)"
   ]
  },
  {
   "cell_type": "markdown",
   "metadata": {},
   "source": [
    "49.WAP to print all the even characters from ‘A’ to ‘Z’."
   ]
  },
  {
   "cell_type": "code",
   "execution_count": 113,
   "metadata": {},
   "outputs": [
    {
     "name": "stdout",
     "output_type": "stream",
     "text": [
      "B\n",
      "D\n",
      "F\n",
      "H\n",
      "J\n",
      "L\n",
      "N\n",
      "P\n",
      "R\n",
      "T\n",
      "V\n",
      "X\n",
      "Z\n"
     ]
    }
   ],
   "source": [
    "a='A'\n",
    "b='Z'\n",
    "while a<=b:\n",
    "    if ord(a)%2==0:\n",
    "        print(a)\n",
    "    a=chr(ord(a)+1)"
   ]
  },
  {
   "cell_type": "markdown",
   "metadata": {},
   "source": [
    "50.WAP to print all the odd characters from ‘a’ to ‘z’."
   ]
  },
  {
   "cell_type": "code",
   "execution_count": 114,
   "metadata": {},
   "outputs": [
    {
     "name": "stdout",
     "output_type": "stream",
     "text": [
      "a\n",
      "c\n",
      "e\n",
      "g\n",
      "i\n",
      "k\n",
      "m\n",
      "o\n",
      "q\n",
      "s\n",
      "u\n",
      "w\n",
      "y\n"
     ]
    }
   ],
   "source": [
    "a='a'\n",
    "b='z'\n",
    "while a<=b:\n",
    "    if ord(a)%2==1:\n",
    "        print(a)\n",
    "    a=chr(ord(a)+1)"
   ]
  },
  {
   "cell_type": "markdown",
   "metadata": {},
   "source": [
    "51.WAP to count the number of vowels present in D to V."
   ]
  },
  {
   "cell_type": "code",
   "execution_count": 115,
   "metadata": {},
   "outputs": [
    {
     "name": "stdout",
     "output_type": "stream",
     "text": [
      "4\n"
     ]
    }
   ],
   "source": [
    "a='D'\n",
    "b='V'\n",
    "count=0\n",
    "while a<=b:\n",
    "    if a in 'AEIOU':\n",
    "        count+=1\n",
    "    a=chr(ord(a)+1)\n",
    "print(count)"
   ]
  },
  {
   "cell_type": "markdown",
   "metadata": {},
   "source": [
    "52.WAP to count the number of vowels present in u to e."
   ]
  },
  {
   "cell_type": "code",
   "execution_count": 116,
   "metadata": {},
   "outputs": [
    {
     "name": "stdout",
     "output_type": "stream",
     "text": [
      "4\n"
     ]
    }
   ],
   "source": [
    "a='u'\n",
    "b='e'\n",
    "count=0\n",
    "while a>=b:\n",
    "    if a in 'aeiou':\n",
    "        count+=1\n",
    "    a=chr(ord(a)-1)\n",
    "print(count)"
   ]
  },
  {
   "cell_type": "markdown",
   "metadata": {},
   "source": [
    "53.WAP to print the square of the number in between the range from m to n which\n",
    "is multiple of 3.\n",
    "53.WAP to print a number from range m to m which is divisible by 5."
   ]
  },
  {
   "cell_type": "code",
   "execution_count": 117,
   "metadata": {},
   "outputs": [
    {
     "name": "stdout",
     "output_type": "stream",
     "text": [
      "0 0\n",
      "1 1\n",
      "2 4\n",
      "3 9\n",
      "4 16\n",
      "5 25\n"
     ]
    }
   ],
   "source": [
    "m=0\n",
    "n=5\n",
    "while m<=n:\n",
    "    a=m**2\n",
    "    print(m,a)\n",
    "    m+=1"
   ]
  },
  {
   "cell_type": "markdown",
   "metadata": {},
   "source": [
    "54.Write a program which takes an integer number and find the sum of digits and\n",
    "repeat until the sum gets a single digit in the end.\n",
    "Example:\n",
    "Input 5643\n",
    "\n",
    "Example:\n",
    " 5+6+4+3 =>18\n",
    " 1+8=>9\n",
    "Output 9"
   ]
  },
  {
   "cell_type": "code",
   "execution_count": 118,
   "metadata": {},
   "outputs": [
    {
     "name": "stdout",
     "output_type": "stream",
     "text": [
      "9\n"
     ]
    }
   ],
   "source": [
    "n=5643\n",
    "while n>9:\n",
    "    sum=0\n",
    "    while n:\n",
    "        ld=n%10\n",
    "        sum+=ld\n",
    "        n=n//10\n",
    "    # print(sum)\n",
    "    \n",
    "    n=sum\n",
    "print(sum)\n"
   ]
  },
  {
   "cell_type": "markdown",
   "metadata": {},
   "source": [
    "55.Write a program to count the numbers of 2’s between 0 and n\n",
    "Input n=35\n",
    " Example: 2,12,20,21,22,23,24,25,26,27,28,29,32\n",
    "Output 14"
   ]
  },
  {
   "cell_type": "code",
   "execution_count": 119,
   "metadata": {},
   "outputs": [
    {
     "name": "stdout",
     "output_type": "stream",
     "text": [
      "14\n"
     ]
    }
   ],
   "source": [
    "n=35\n",
    "a=0\n",
    "count=0\n",
    "while a<=n:\n",
    "    b=a\n",
    "    while b:\n",
    "        if b%10==2:\n",
    "            count+=1\n",
    "        b=b//10\n",
    "    a+=1\n",
    "print(count)"
   ]
  },
  {
   "cell_type": "markdown",
   "metadata": {},
   "source": [
    "56.wap to find max product of three numbers from the given integer array\n",
    "input arr()=6,3,2,0,10\n",
    " example:10*6*3\n",
    " output:180"
   ]
  },
  {
   "cell_type": "code",
   "execution_count": 122,
   "metadata": {},
   "outputs": [
    {
     "name": "stdout",
     "output_type": "stream",
     "text": [
      "1000\n"
     ]
    }
   ],
   "source": [
    "n=[0,6,3,1000,2,0,10,0,1]\n",
    "x=0\n",
    "l=n[x]\n",
    "while x<len(n):\n",
    "    if n[x]>l:\n",
    "        l=n[x]\n",
    "    x+=1\n",
    "print(l)\n",
    "\n"
   ]
  },
  {
   "cell_type": "code",
   "execution_count": 5,
   "metadata": {},
   "outputs": [
    {
     "name": "stdout",
     "output_type": "stream",
     "text": [
      "1000\n",
      "6\n"
     ]
    }
   ],
   "source": [
    "n=[0,6,3,100,2,0,1000,0,1]\n",
    "x=0\n",
    "l=n[x]\n",
    "while x<len(n):\n",
    "    if n[x]>l:\n",
    "        l=n[x]\n",
    "    x+=1\n",
    "print(l)\n",
    "a=0\n",
    "pos=0\n",
    "while a<len(n):\n",
    "    if n[a]!=1000:\n",
    "        pos+=1\n",
    "    else:\n",
    "        break\n",
    "    a+=1\n",
    "print(pos)\n",
    "del(n[6])\n",
    "# print(n)\n"
   ]
  },
  {
   "cell_type": "code",
   "execution_count": 8,
   "metadata": {},
   "outputs": [
    {
     "name": "stdout",
     "output_type": "stream",
     "text": [
      "180\n"
     ]
    }
   ],
   "source": [
    "n=[0,6,3,10,2,0,0]\n",
    "# print(sorted(n))\n",
    "# x=0\n",
    "# l=n[x]\n",
    "# sum=[]\n",
    "sum=1\n",
    "a=3\n",
    "while a:\n",
    "    x=0\n",
    "    l=n[x]\n",
    "    while x<len(n):\n",
    "        if n[x]>l:\n",
    "            l=n[x]\n",
    "        x+=1\n",
    "    # print(l)\n",
    "    # sum+=[l]\n",
    "    sum*=l\n",
    "    ab=0\n",
    "    pos=0\n",
    "    while ab<len(n):\n",
    "        if n[ab]!=l:\n",
    "            pos+=1\n",
    "        else:\n",
    "            # print(pos)\n",
    "            del n[pos]\n",
    "            break\n",
    "        ab+=1\n",
    "    # print(pos)\n",
    "    # print(n)\n",
    "    a-=1\n",
    "print(sum)\n"
   ]
  },
  {
   "cell_type": "code",
   "execution_count": 51,
   "metadata": {},
   "outputs": [
    {
     "name": "stdout",
     "output_type": "stream",
     "text": [
      "1800\n"
     ]
    }
   ],
   "source": [
    "a=[0,6,10,3,2,0,1]\n",
    "b=sorted(a)\n",
    "print(b[-1]*b[-2]*b[-3])\n"
   ]
  },
  {
   "cell_type": "code",
   "execution_count": 1,
   "metadata": {},
   "outputs": [
    {
     "name": "stdout",
     "output_type": "stream",
     "text": [
      "s\n",
      "s\n",
      "t\n",
      "r\n",
      "i\n",
      "n\n",
      "g\n"
     ]
    }
   ],
   "source": [
    "#59.wap to print all the items present in the string b/w the range from m to n\n",
    "st='sstring'\n",
    "m=0\n",
    "n=len(st)\n",
    "while m<n:\n",
    "    print(st[m])\n",
    "    m+=1"
   ]
  },
  {
   "cell_type": "code",
   "execution_count": 3,
   "metadata": {},
   "outputs": [
    {
     "name": "stdout",
     "output_type": "stream",
     "text": [
      "D\n",
      "S\n",
      "F\n",
      "G\n",
      "K\n"
     ]
    }
   ],
   "source": [
    "#60.wap to print the uppercase char's in given string\n",
    "st='DSFjdskGKdf'\n",
    "i=0\n",
    "while i<len(st):\n",
    "    if 'A'<=st[i]<='Z':\n",
    "        print(st[i])\n",
    "    i+=1"
   ]
  },
  {
   "cell_type": "code",
   "execution_count": 4,
   "metadata": {},
   "outputs": [
    {
     "name": "stdout",
     "output_type": "stream",
     "text": [
      "j\n",
      "d\n",
      "s\n",
      "k\n",
      "d\n",
      "f\n"
     ]
    }
   ],
   "source": [
    "#61.wap to print the lowercase char's in given string\n",
    "st='DSFjdskGKdf'\n",
    "i=0\n",
    "while i<len(st):\n",
    "    if 'a'<=st[i]<='z':\n",
    "        print(st[i])\n",
    "    i+=1"
   ]
  },
  {
   "cell_type": "code",
   "execution_count": 6,
   "metadata": {},
   "outputs": [
    {
     "name": "stdout",
     "output_type": "stream",
     "text": [
      "4\n",
      "5\n",
      "4\n",
      "3\n",
      "0\n"
     ]
    }
   ],
   "source": [
    "#62.wap to print the ascii num char's in given string\n",
    "st='45dskGK430df'\n",
    "i=0\n",
    "while i<len(st):\n",
    "    if '0'<=st[i]<='9':\n",
    "        print(st[i])\n",
    "    i+=1"
   ]
  },
  {
   "cell_type": "code",
   "execution_count": 7,
   "metadata": {},
   "outputs": [
    {
     "name": "stdout",
     "output_type": "stream",
     "text": [
      ".\n",
      "/\n",
      "$\n",
      "#\n"
     ]
    }
   ],
   "source": [
    "#63.wap to print special char's in given string\n",
    "st='./45d$#K'\n",
    "i=0\n",
    "while i<len(st):\n",
    "    if not('0'<=st[i]<='9' or 'a'<=st[i]<='z' or 'A'<=st[i]<='Z'):\n",
    "        print(st[i])\n",
    "    i+=1"
   ]
  },
  {
   "cell_type": "code",
   "execution_count": 8,
   "metadata": {},
   "outputs": [
    {
     "name": "stdout",
     "output_type": "stream",
     "text": [
      "i\n",
      "a\n",
      "a\n"
     ]
    }
   ],
   "source": [
    "#64.wap to print vowels in given string\n",
    "st='imran khan'\n",
    "i=0\n",
    "while i<len(st):\n",
    "    if st[i] in 'aeioouAEIOU':\n",
    "        print(st[i])\n",
    "    i+=1"
   ]
  },
  {
   "cell_type": "code",
   "execution_count": 11,
   "metadata": {},
   "outputs": [
    {
     "name": "stdout",
     "output_type": "stream",
     "text": [
      "m\n",
      "r\n",
      "n\n",
      " \n",
      "k\n",
      "h\n",
      "n\n"
     ]
    }
   ],
   "source": [
    "#65.wap to print CONSONENTS in given string\n",
    "st='imran khan'\n",
    "i=0\n",
    "while i<len(st):\n",
    "    if st[i] not in 'aeioouAEIOU':\n",
    "        print(st[i])\n",
    "    i+=1"
   ]
  },
  {
   "cell_type": "code",
   "execution_count": 28,
   "metadata": {},
   "outputs": [
    {
     "name": "stdout",
     "output_type": "stream",
     "text": [
      "654321\n",
      "654321\n"
     ]
    }
   ],
   "source": [
    "#66.wap to reverse the string\n",
    "st='123456'\n",
    "i=1\n",
    "rev=''\n",
    "# print(st[::-1])\n",
    "while i<=len(st):\n",
    "    rev+=st[-i]\n",
    "    i+=1\n",
    "print(rev)\n"
   ]
  },
  {
   "cell_type": "code",
   "execution_count": 30,
   "metadata": {},
   "outputs": [
    {
     "name": "stdout",
     "output_type": "stream",
     "text": [
      "f\n",
      "j\n",
      "j\n"
     ]
    }
   ],
   "source": [
    "#67.wap to print even position characters in given string\n",
    "st='dsfkjlj;'\n",
    "i=1\n",
    "while i<len(st):\n",
    "    if i%2==0:\n",
    "        print(st[i])\n",
    "    i+=1\n"
   ]
  },
  {
   "cell_type": "code",
   "execution_count": 33,
   "metadata": {},
   "outputs": [
    {
     "name": "stdout",
     "output_type": "stream",
     "text": [
      "s\n",
      "k\n",
      "l\n",
      ";\n"
     ]
    }
   ],
   "source": [
    "#68.wap to print odd position characters in given string\n",
    "st='dsfkjlj;'\n",
    "i=1\n",
    "while i<len(st):\n",
    "    if i%2==1:\n",
    "        print(st[i])\n",
    "    i+=1\n"
   ]
  },
  {
   "cell_type": "code",
   "execution_count": 35,
   "metadata": {},
   "outputs": [
    {
     "name": "stdout",
     "output_type": "stream",
     "text": [
      "7\n"
     ]
    }
   ],
   "source": [
    "#69. wap to find number of char's in string using length function\n",
    "st='sstring'\n",
    "i=0\n",
    "count=0\n",
    "while i<len(st):\n",
    "    count+=1\n",
    "    i+=1\n",
    "print(count)"
   ]
  },
  {
   "cell_type": "code",
   "execution_count": 36,
   "metadata": {},
   "outputs": [
    {
     "name": "stdout",
     "output_type": "stream",
     "text": [
      "7\n"
     ]
    }
   ],
   "source": [
    "#70. wap to find number of char's in string without using length function\n",
    "st='sstring'\n",
    "count=0\n",
    "while st:\n",
    "    count+=1\n",
    "    st=st[:-1]\n",
    "print(count)"
   ]
  },
  {
   "cell_type": "code",
   "execution_count": 38,
   "metadata": {},
   "outputs": [
    {
     "name": "stdout",
     "output_type": "stream",
     "text": [
      "6\n"
     ]
    }
   ],
   "source": [
    "#71.wap to count alphabets in given string\n",
    "a='34string$@#'\n",
    "count=0\n",
    "i=0\n",
    "while  i<len(a):\n",
    "    if 'a'<=a[i]<='z' or 'A'<=a[i]<='Z':\n",
    "        count+=1\n",
    "    i+=1\n",
    "print(count)"
   ]
  },
  {
   "cell_type": "code",
   "execution_count": 43,
   "metadata": {},
   "outputs": [
    {
     "name": "stdout",
     "output_type": "stream",
     "text": [
      "3\n"
     ]
    }
   ],
   "source": [
    "#72.wap to count uppercase char's in given string\n",
    "a='34sstrING$@#'\n",
    "count=0\n",
    "i=0\n",
    "while  i<len(a):\n",
    "    if  'A'<=a[i]<='Z':\n",
    "        count+=1\n",
    "    i+=1\n",
    "print(count)"
   ]
  },
  {
   "cell_type": "code",
   "execution_count": 42,
   "metadata": {},
   "outputs": [
    {
     "name": "stdout",
     "output_type": "stream",
     "text": [
      "4\n"
     ]
    }
   ],
   "source": [
    "#73.wap to count loweercase char's in given string\n",
    "a='34sstrING$@#'\n",
    "count=0\n",
    "i=0\n",
    "while  i<len(a):\n",
    "    if  'a'<=a[i]<='z':\n",
    "        count+=1\n",
    "    i+=1\n",
    "print(count)"
   ]
  },
  {
   "cell_type": "code",
   "execution_count": 45,
   "metadata": {},
   "outputs": [
    {
     "name": "stdout",
     "output_type": "stream",
     "text": [
      "3\n"
     ]
    }
   ],
   "source": [
    "#74.wap to count special char's in given string\n",
    "a='34strING$@#'\n",
    "count=0\n",
    "i=0\n",
    "while  i<len(a):\n",
    "    if  not('A'<=a[i]<='Z' or 'a'<=a[i]<='z' or '0'<=a[i]<='9'):\n",
    "        count+=1\n",
    "    i+=1\n",
    "print(count)"
   ]
  },
  {
   "cell_type": "code",
   "execution_count": 46,
   "metadata": {},
   "outputs": [
    {
     "name": "stdout",
     "output_type": "stream",
     "text": [
      "6\n"
     ]
    }
   ],
   "source": [
    "#75.wap to count uppercase char's in given string\n",
    "a='34strING$@#'\n",
    "count=0\n",
    "i=0\n",
    "while  i<len(a):\n",
    "    if 'A'<=a[i]<='Z' or 'a'<=a[i]<='z' :\n",
    "        count+=1\n",
    "    i+=1\n",
    "print(count)"
   ]
  },
  {
   "cell_type": "code",
   "execution_count": 47,
   "metadata": {},
   "outputs": [
    {
     "name": "stdout",
     "output_type": "stream",
     "text": [
      "2\n"
     ]
    }
   ],
   "source": [
    "#76.wap to count number of ascii numbers char's in given string\n",
    "a='34sstrING$@#'\n",
    "count=0\n",
    "i=0\n",
    "while  i<len(a):\n",
    "    if  '0'<=a[i]<='9':\n",
    "        count+=1\n",
    "    i+=1\n",
    "print(count)"
   ]
  },
  {
   "cell_type": "code",
   "execution_count": 60,
   "metadata": {},
   "outputs": [
    {
     "name": "stdout",
     "output_type": "stream",
     "text": [
      "2\n"
     ]
    }
   ],
   "source": [
    "#77.wap to count Total number of Words in a string\n",
    "a='  imran khan  '\n",
    "# a=' (* hkj ())'\n",
    "print(len(a.split()))"
   ]
  },
  {
   "cell_type": "code",
   "execution_count": 6,
   "metadata": {},
   "outputs": [
    {
     "name": "stdout",
     "output_type": "stream",
     "text": [
      "2\n"
     ]
    }
   ],
   "source": [
    "#77.wap to count Total number of Words in a string\n",
    "# a='   imran  khan  ##$2dfs #$@ 3243dfjkl'\n",
    "# a=' tfdeyh jffdryh f#Kit4bgfuhiy otrguroj st8irgfkhu  '\n",
    "# a='   '\n",
    "a='IMRAN KHAN'\n",
    "i=0\n",
    "count=0\n",
    "if len(a)==0:\n",
    "    pass\n",
    "elif a[0]!=' ' and a[-1]!=' ':\n",
    "    count=1\n",
    "while i<len(a): \n",
    "    if a[i-1]!=' ' and a[i]==' ':\n",
    "        count+=1\n",
    "\n",
    "    i+=1\n",
    "print(count)\n"
   ]
  },
  {
   "cell_type": "code",
   "execution_count": 60,
   "metadata": {},
   "outputs": [
    {
     "name": "stdout",
     "output_type": "stream",
     "text": [
      "1\n"
     ]
    }
   ],
   "source": [
    "#78.wap to count Total Number of spaces in a string.\n",
    "# a='imran khan ##$2dfs #$@ 3243 dfjkl'\n",
    "i=0\n",
    "count=0\n",
    "while i<len(a):\n",
    "    if a[i]==' ':\n",
    "        count+=1\n",
    "    i+=1\n",
    "print(count)"
   ]
  },
  {
   "cell_type": "code",
   "execution_count": 48,
   "metadata": {},
   "outputs": [
    {
     "name": "stdout",
     "output_type": "stream",
     "text": [
      "3\n"
     ]
    }
   ],
   "source": [
    "#79.wap to count vowels in given string\n",
    "st='imran khan'\n",
    "i=0\n",
    "count=0\n",
    "while i<len(st):\n",
    "    if st[i] in 'aeioouAEIOU':\n",
    "        count+=1\n",
    "    i+=1\n",
    "print(count)"
   ]
  },
  {
   "cell_type": "code",
   "execution_count": 50,
   "metadata": {},
   "outputs": [
    {
     "name": "stdout",
     "output_type": "stream",
     "text": [
      "6\n"
     ]
    }
   ],
   "source": [
    "#80.wap to count consonents in given string\n",
    "st='imran khan'\n",
    "i=0\n",
    "count=0\n",
    "while i<len(st):\n",
    "    if 'a'<=st[i]<='z' or 'A'<=st[i]<='Z':\n",
    "        if st[i] not in 'aeioouAEIOU' :\n",
    "            count+=1\n",
    "    i+=1\n",
    "print(count)"
   ]
  },
  {
   "cell_type": "code",
   "execution_count": 51,
   "metadata": {},
   "outputs": [
    {
     "name": "stdout",
     "output_type": "stream",
     "text": [
      "9\n"
     ]
    }
   ],
   "source": [
    "#81.wap to count vowels and consonents in given string\n",
    "st='imran khan'\n",
    "i=0\n",
    "count=0\n",
    "while i<len(st):\n",
    "    if 'a'<=st[i]<='z' or 'A'<=st[i]<='Z':\n",
    "        count+=1\n",
    "    i+=1\n",
    "print(count)"
   ]
  },
  {
   "cell_type": "code",
   "execution_count": 57,
   "metadata": {},
   "outputs": [
    {
     "name": "stdout",
     "output_type": "stream",
     "text": [
      "3\n"
     ]
    }
   ],
   "source": [
    "#82. wap to count number of new lines in a given string\n",
    "a='dfsjk\\n dsjklj\\n sdf\\ndfs'\n",
    "i=0\n",
    "count=0\n",
    "while i<len(a):\n",
    "    if a[i]=='\\n':\n",
    "        count+=1\n",
    "    i+=1\n",
    "print(count)"
   ]
  },
  {
   "cell_type": "code",
   "execution_count": null,
   "metadata": {},
   "outputs": [],
   "source": [
    "#83. wap to count number of lines in a given string\n"
   ]
  },
  {
   "cell_type": "code",
   "execution_count": 102,
   "metadata": {},
   "outputs": [
    {
     "name": "stdout",
     "output_type": "stream",
     "text": [
      "alphabets 4\n",
      "numbers 4\n",
      "special characters 7\n"
     ]
    }
   ],
   "source": [
    "#84.wap to count no of alphabets,numbers,special char's in given string\n",
    "a='sDGf @#@#$ 1234'\n",
    "i=0\n",
    "alphabet=0\n",
    "num=0\n",
    "spel=0\n",
    "while i<len(a):\n",
    "    if 'a'<=a[i]<='z' or 'A'<=a[i]<='Z':\n",
    "        alphabet+=1\n",
    "    elif '0'<=a[i]<='9':\n",
    "        num+=1\n",
    "    else:\n",
    "        spel+=1\n",
    "    i+=1\n",
    "print(f'alphabets {alphabet}')\n",
    "print(f'numbers {num}')\n",
    "print(f'special characters {spel}')\n"
   ]
  },
  {
   "cell_type": "code",
   "execution_count": 110,
   "metadata": {},
   "outputs": [
    {
     "name": "stdout",
     "output_type": "stream",
     "text": [
      "6\n"
     ]
    }
   ],
   "source": [
    "#85.wap to count Total no of words in  Doc_string\n",
    "a='''abc def\n",
    "fdjh adfj 324u\n",
    "3248u 2394j'''\n",
    "# a='fds dfs hjh ghj hkh hjhkj'\n",
    "i=0\n",
    "count=0\n",
    "s=1\n",
    "if a[0]!=' ' and a[-1]!=' ':\n",
    "    count=1\n",
    "while i<len(a): \n",
    "    if a[i]=='\\n':\n",
    "        count+=1\n",
    "    if a[i-1]!=' ' and a[i]==' ':\n",
    "        count+=1\n",
    "\n",
    "    i+=1\n",
    "print(count)\n"
   ]
  },
  {
   "cell_type": "code",
   "execution_count": 119,
   "metadata": {},
   "outputs": [
    {
     "name": "stdout",
     "output_type": "stream",
     "text": [
      "5\n"
     ]
    }
   ],
   "source": [
    "#85.wap to count Total no  of words in a forst line of Doc_string\n",
    "n='''abc def dsfs dfs gjhg\n",
    "fdjh adfj 324u\n",
    "3248u 2394j'''\n",
    "# a='''fds dfs hjh ghj hkh hjhkj'''\n",
    "x=0\n",
    "a=''\n",
    "while x<len(n):\n",
    "    a+=n[x]\n",
    "    if n[x]=='\\n':\n",
    "        break\n",
    "    x+=1\n",
    "i=0\n",
    "count=0\n",
    "s=1\n",
    "if a[0]!=' ' and a[-1]!=' ':\n",
    "    count=1\n",
    "while i<len(a): \n",
    "    if a[i-1]!=' ' and a[i]==' ':\n",
    "        count+=1\n",
    "\n",
    "    i+=1\n",
    "print(count)\n"
   ]
  },
  {
   "cell_type": "code",
   "execution_count": 3,
   "metadata": {},
   "outputs": [
    {
     "name": "stdout",
     "output_type": "stream",
     "text": [
      "15\n"
     ]
    }
   ],
   "source": [
    "#86.wap to sum of digits in a given string\n",
    "a='01dsf 45jhg 5jk'\n",
    "sum=0\n",
    "i=0\n",
    "while i<len(a):\n",
    "    if '0'<=a[i]<='9':\n",
    "        sum+=int(a[i])\n",
    "    i+=1\n",
    "print(sum) "
   ]
  },
  {
   "cell_type": "code",
   "execution_count": 125,
   "metadata": {},
   "outputs": [
    {
     "name": "stdout",
     "output_type": "stream",
     "text": [
      "k\n"
     ]
    }
   ],
   "source": [
    "#87. wap to print First Occurence of a character in a string\n",
    "a='heko wkorld'\n",
    "first=''\n",
    "i=0\n",
    "while i<len(a):\n",
    "    if a[i] in first:\n",
    "        print(a[i])\n",
    "        break\n",
    "    else:\n",
    "        first+=a[i]\n",
    "    i+=1"
   ]
  },
  {
   "cell_type": "code",
   "execution_count": 126,
   "metadata": {},
   "outputs": [
    {
     "name": "stdout",
     "output_type": "stream",
     "text": [
      "o\n"
     ]
    }
   ],
   "source": [
    "#88. wap to print last Occurence of a character in a string\n",
    "a='heko wkorld'\n",
    "first=''\n",
    "i=0\n",
    "last=''\n",
    "while i<len(a):\n",
    "    if a[i] in first:\n",
    "        last=a[i]\n",
    "    else:\n",
    "        first+=a[i]\n",
    "    i+=1\n",
    "print(last)"
   ]
  },
  {
   "cell_type": "code",
   "execution_count": null,
   "metadata": {},
   "outputs": [],
   "source": [
    "#89. wap to print first not Occurence of a character in a string\n"
   ]
  },
  {
   "cell_type": "code",
   "execution_count": null,
   "metadata": {},
   "outputs": [],
   "source": [
    "#90. wap to print last not Occurence of a character in a string\n"
   ]
  },
  {
   "cell_type": "code",
   "execution_count": 130,
   "metadata": {},
   "outputs": [
    {
     "name": "stdout",
     "output_type": "stream",
     "text": [
      "k\n",
      "helo world\n"
     ]
    }
   ],
   "source": [
    "#91. wap to remove first Occurence of a character in a string\n",
    "a='helko wkorld'\n",
    "first=''\n",
    "i=0\n",
    "while i<len(a):\n",
    "    if a[i] in first:\n",
    "        rep=a[i]\n",
    "        print(a[i])\n",
    "        break\n",
    "    else:\n",
    "        first+=a[i]\n",
    "    i+=1\n",
    "i=0\n",
    "st=''\n",
    "while i<len(a):\n",
    "    if rep!=a[i]:\n",
    "        st+=a[i]\n",
    "    i+=1\n",
    "print(st)"
   ]
  },
  {
   "cell_type": "code",
   "execution_count": 134,
   "metadata": {},
   "outputs": [
    {
     "name": "stdout",
     "output_type": "stream",
     "text": [
      "l\n",
      "heko wkord\n"
     ]
    }
   ],
   "source": [
    "#92. wap to remove last Occurence of a character in a string\n",
    "a='helko wkorld'\n",
    "first=''\n",
    "i=0\n",
    "while i<len(a):\n",
    "    if a[i] in first:\n",
    "        rep=a[i]\n",
    "        # print(a[i])\n",
    "    else:\n",
    "        first+=a[i]\n",
    "    i+=1\n",
    "print(rep)\n",
    "i=0\n",
    "st=''\n",
    "while i<len(a):\n",
    "    if rep!=a[i]:\n",
    "        st+=a[i]\n",
    "    i+=1\n",
    "print(st)"
   ]
  },
  {
   "cell_type": "code",
   "execution_count": null,
   "metadata": {},
   "outputs": [],
   "source": [
    "#93.wap to count the occurence of a specific character in string"
   ]
  },
  {
   "cell_type": "code",
   "execution_count": null,
   "metadata": {},
   "outputs": [],
   "source": [
    "#94.wap to count the max occurence of a character in string"
   ]
  },
  {
   "cell_type": "code",
   "execution_count": null,
   "metadata": {},
   "outputs": [],
   "source": [
    "#95.wap to count the min occurence of a character in string"
   ]
  },
  {
   "cell_type": "code",
   "execution_count": null,
   "metadata": {},
   "outputs": [],
   "source": [
    "#96.wap to count the repeats of a specific character in string"
   ]
  },
  {
   "cell_type": "code",
   "execution_count": 8,
   "metadata": {},
   "outputs": [
    {
     "data": {
      "text/plain": [
       "'Hello Haii World Welv3C*Ome To Py$Hon Clas'"
      ]
     },
     "execution_count": 8,
     "metadata": {},
     "output_type": "execute_result"
    }
   ],
   "source": [
    "#wap to convert given string to tittle case\n",
    "#each word starting character should be uppercase\n",
    "#after ascii num char and special char the next character should in uppercase\n",
    "#tha last character should be lowercase\n",
    "#each word starting char should be uppercase and remaining should be lowercase\n",
    "'hello haIi World WelV3c*oMe to py$hon cLAs'.title()"
   ]
  },
  {
   "cell_type": "code",
   "execution_count": 7,
   "metadata": {},
   "outputs": [
    {
     "name": "stdout",
     "output_type": "stream",
     "text": [
      "Gh45$Dsfaad#Jl38Jj Dsf Gfg687(&(*Ghyuf09)) #Sd#Ljj Ads G\n"
     ]
    }
   ],
   "source": [
    "#105.wap to convert given string to tittle case\n",
    "# n='#@aizen so#@#suke ichigo'\n",
    "# n='Hello haIi World WelV3coMe to py$hon cLAs'\n",
    "# n='$dsfAAD#jl38'\n",
    "n='gh45$dsfAAD#jl38jj dsf gfg687(&(*ghyuf09)) #sd#ljj Ads g'\n",
    "s=''\n",
    "i=0\n",
    "while i<len(n):\n",
    "    if not ('a'<=n[i]<='z' or 'A'<=n[i]<='Z' ):\n",
    "        s+=n[i]\n",
    "    elif 'a'<=n[i]<='z' and i==0:\n",
    "            s+=chr(ord(n[i])-32)\n",
    "    else:\n",
    "        if  not ('a'<=n[i-1]<='z' or 'A'<=n[i-1]<='Z') and 'a'<=n[i]<='z':\n",
    "            s+=chr(ord(n[i])-32)\n",
    "        elif 'A'<=n[i-1]<='Z' and 'A'<=n[i]<='Z' :\n",
    "            s+=chr(ord(n[i])+32)\n",
    "        elif 'a'<=n[i-1]<='z' and 'A'<=n[i]<='Z' :\n",
    "            s+=chr(ord(n[i])+32)\n",
    "        else:\n",
    "            s+=n[i]\n",
    "    i+=1\n",
    "print(s)    "
   ]
  }
 ],
 "metadata": {
  "kernelspec": {
   "display_name": "Python 3",
   "language": "python",
   "name": "python3"
  },
  "language_info": {
   "codemirror_mode": {
    "name": "ipython",
    "version": 3
   },
   "file_extension": ".py",
   "mimetype": "text/x-python",
   "name": "python",
   "nbconvert_exporter": "python",
   "pygments_lexer": "ipython3",
   "version": "3.10.7"
  },
  "orig_nbformat": 4
 },
 "nbformat": 4,
 "nbformat_minor": 2
}
