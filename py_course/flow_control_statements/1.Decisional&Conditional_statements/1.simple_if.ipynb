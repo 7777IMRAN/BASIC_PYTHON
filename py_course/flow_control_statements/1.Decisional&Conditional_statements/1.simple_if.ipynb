{
 "cells": [
  {
   "cell_type": "code",
   "execution_count": 1,
   "metadata": {},
   "outputs": [
    {
     "name": "stdout",
     "output_type": "stream",
     "text": [
      "Positive\n"
     ]
    }
   ],
   "source": [
    "#1:wap to check whether a number is positive.If Positive,print a message Positive.\n",
    "n=7777\n",
    "if n>=0:\n",
    "    print('Positive')"
   ]
  },
  {
   "cell_type": "code",
   "execution_count": 4,
   "metadata": {},
   "outputs": [
    {
     "name": "stdout",
     "output_type": "stream",
     "text": [
      "number is 0 to uyiu\n"
     ]
    }
   ],
   "source": [
    "num=8\n",
    "if 0<=num<=9:\n",
    "    if 5<=num<=7:\n",
    "        print('number is 5 to 7')\n",
    "        if 8<=num<=9:\n",
    "            print('number between 8 to 9')\n",
    "    else:\n",
    "        print('number is 0 to uyiu')\n"
   ]
  },
  {
   "cell_type": "code",
   "execution_count": 2,
   "metadata": {},
   "outputs": [
    {
     "name": "stdout",
     "output_type": "stream",
     "text": [
      "hello world\n"
     ]
    }
   ],
   "source": [
    "#2:wap to display hello world if the number is greater than 1 and lesser than 5\n",
    "n=3\n",
    "if 1<n<5:\n",
    "    print('hello world')"
   ]
  },
  {
   "cell_type": "code",
   "execution_count": 1,
   "metadata": {},
   "outputs": [
    {
     "name": "stdout",
     "output_type": "stream",
     "text": [
      "imran\n"
     ]
    }
   ],
   "source": [
    "#3:wap to check whether the given number is divisible by 3 or not if divisible then print imran\n",
    "n=39\n",
    "if(n%3==0):\n",
    "    print('imran')"
   ]
  },
  {
   "cell_type": "code",
   "execution_count": 4,
   "metadata": {},
   "outputs": [
    {
     "name": "stdout",
     "output_type": "stream",
     "text": [
      "(12+0j)\n"
     ]
    }
   ],
   "source": [
    "#4:wap to check whether given input is divisible by 2 and 6. if the condition is satisfied,convert the given number into a complex number\n",
    "n=12\n",
    "if(n%2==0 or n%6==0):\n",
    "    a=complex(n)\n",
    "    print(a)"
   ]
  },
  {
   "cell_type": "code",
   "execution_count": 5,
   "metadata": {},
   "outputs": [
    {
     "name": "stdout",
     "output_type": "stream",
     "text": [
      "['3', '0']\n"
     ]
    }
   ],
   "source": [
    "#5:wap to check whether a given input is divisible by 3 or 5.if the condition is satisfied, the number is converted to a list. i/p:30  o/p:['3','0']\n",
    "n=30\n",
    "if(n%3==0 or n%5==0):\n",
    "    n=str(n)\n",
    "    print(list(n))"
   ]
  },
  {
   "cell_type": "code",
   "execution_count": 6,
   "metadata": {},
   "outputs": [
    {
     "name": "stdout",
     "output_type": "stream",
     "text": [
      "True\n"
     ]
    }
   ],
   "source": [
    "#6:write a program to check whether a given number is multiple of 5 or not\n",
    "n=5\n",
    "if(n%5==0):\n",
    "    print(True)"
   ]
  },
  {
   "cell_type": "code",
   "execution_count": 7,
   "metadata": {},
   "outputs": [
    {
     "name": "stdout",
     "output_type": "stream",
     "text": [
      "0\n"
     ]
    }
   ],
   "source": [
    "#7:wap to check whether the given input is 0 or not if 0 print 0.\n",
    "n=0\n",
    "if n==0:\n",
    "    print(n)"
   ]
  },
  {
   "cell_type": "code",
   "execution_count": 8,
   "metadata": {},
   "outputs": [
    {
     "name": "stdout",
     "output_type": "stream",
     "text": [
      "Negative\n"
     ]
    }
   ],
   "source": [
    "#8:wap to check whether a number is negative. if negative. print a message negative\n",
    "n=-1\n",
    "if(n<0):\n",
    "    print('Negative')"
   ]
  },
  {
   "cell_type": "code",
   "execution_count": 9,
   "metadata": {},
   "outputs": [
    {
     "name": "stdout",
     "output_type": "stream",
     "text": [
      "[66]\n"
     ]
    }
   ],
   "source": [
    "#9:wap to check whether a number is even or not. if even, store the value inside the list\n",
    "n=66\n",
    "if(n%2==0):\n",
    "    b=[n]\n",
    "    print(b)"
   ]
  },
  {
   "cell_type": "code",
   "execution_count": 10,
   "metadata": {},
   "outputs": [
    {
     "name": "stdout",
     "output_type": "stream",
     "text": [
      "65\n"
     ]
    }
   ],
   "source": [
    "#10:wap to check whether a number is odd or not. if odd, store the value inside the tuple\n",
    "n=65\n",
    "if (n%2!=0):\n",
    "    b=(n)\n",
    "    print(n)"
   ]
  },
  {
   "cell_type": "code",
   "execution_count": 11,
   "metadata": {},
   "outputs": [
    {
     "name": "stdout",
     "output_type": "stream",
     "text": [
      "16\n"
     ]
    }
   ],
   "source": [
    "#11:wap to check if the given number is even or not. if it is yes, to print the power of 4 in a given number.\n",
    "n=2\n",
    "if(n%2==0):\n",
    "    print(n**4)"
   ]
  },
  {
   "cell_type": "code",
   "execution_count": 13,
   "metadata": {},
   "outputs": [
    {
     "name": "stdout",
     "output_type": "stream",
     "text": [
      "9\n"
     ]
    }
   ],
   "source": [
    "#12:wap to take the input from the user as a number and check whether it is a number or not. \n",
    "#if yes. take the number and add some value and print it\n",
    "n=int(input('enter value'))\n",
    "if type(n)==int :\n",
    "    print(n+8)"
   ]
  },
  {
   "cell_type": "code",
   "execution_count": null,
   "metadata": {},
   "outputs": [
    {
     "name": "stdout",
     "output_type": "stream",
     "text": [
      "2\n"
     ]
    }
   ],
   "source": [
    "#13:wap to display hello world if the number is greater than 1 and lesser than 5\n",
    "n=2\n",
    "if(1<n<5):\n",
    "    print(n)"
   ]
  },
  {
   "cell_type": "code",
   "execution_count": null,
   "metadata": {},
   "outputs": [
    {
     "name": "stdout",
     "output_type": "stream",
     "text": [
      "1225\n"
     ]
    }
   ],
   "source": [
    "#14:wap to check whether a given value is divisible by 5 and 7. if the value is divisible, display the square of the value\n",
    "n=35\n",
    "if n%5==0 and n%7==0:\n",
    "    print(n**2) "
   ]
  },
  {
   "cell_type": "code",
   "execution_count": null,
   "metadata": {},
   "outputs": [
    {
     "name": "stdout",
     "output_type": "stream",
     "text": [
      "1\n"
     ]
    }
   ],
   "source": [
    "#15:wap to check whether a given value's last digit is greater than 5 or not. if greater, perform the bitwise right shift operator (skipping value is 2)\n",
    "n=7\n",
    "if(n%10)>5:\n",
    "    print(n>>2)"
   ]
  },
  {
   "cell_type": "code",
   "execution_count": null,
   "metadata": {},
   "outputs": [
    {
     "name": "stdout",
     "output_type": "stream",
     "text": [
      "729\n"
     ]
    }
   ],
   "source": [
    "#16:wap to check whether a given value is divisible by 3 and less than 30. if the value is divisible,display the square of the values.\n",
    "n=27\n",
    "if n%3==0 and n<30:\n",
    "    print(n**2)"
   ]
  },
  {
   "cell_type": "code",
   "execution_count": null,
   "metadata": {},
   "outputs": [
    {
     "name": "stdout",
     "output_type": "stream",
     "text": [
      "512\n"
     ]
    }
   ],
   "source": [
    "#17:wap to check whether a given value is an even number and divisible by 4. if satisfied, display the cube of the values.\n",
    "n=8\n",
    "if n%2==0 and n%4==0: \n",
    "    print(n**3)"
   ]
  },
  {
   "cell_type": "code",
   "execution_count": null,
   "metadata": {},
   "outputs": [
    {
     "name": "stdout",
     "output_type": "stream",
     "text": [
      "[80]\n"
     ]
    }
   ],
   "source": [
    "#18:wap to check whether a given value is even or not. if even number, stores the value inside the list.\n",
    "n=80\n",
    "if n%2==0:\n",
    "    b=[n]\n",
    "    print(b)"
   ]
  },
  {
   "cell_type": "code",
   "execution_count": null,
   "metadata": {},
   "outputs": [
    {
     "name": "stdout",
     "output_type": "stream",
     "text": [
      "6\n",
      "6\n"
     ]
    }
   ],
   "source": [
    "#19:wap to check whether a given value is a negative or even number. if satisfied, display the last digit of the values.\n",
    "n=-16\n",
    "if n<0 or n%2==0 :\n",
    "    \n",
    "    print(int(str(n)[-1]))\n",
    "    print(-n%10)\n"
   ]
  },
  {
   "cell_type": "code",
   "execution_count": null,
   "metadata": {},
   "outputs": [
    {
     "name": "stdout",
     "output_type": "stream",
     "text": [
      "-64000\n"
     ]
    }
   ],
   "source": [
    "#20:wap to check whether a given value is a negative or odd number and divisible by 4. if satisfied,display the cube of the values.\n",
    "n=-40          \n",
    "if (n<0 or n%2!=0) and (n%4==0):\n",
    "    print(n**3)"
   ]
  },
  {
   "cell_type": "code",
   "execution_count": null,
   "metadata": {},
   "outputs": [
    {
     "name": "stdout",
     "output_type": "stream",
     "text": [
      "D\n"
     ]
    }
   ],
   "source": [
    "#21:wap to check whether a given ascii value is divisible by 4 and even value. if satisfied, display the ascii character.\n",
    "n=68\n",
    "if n%4==0 and n%2==0:\n",
    "    print(chr(n))\n"
   ]
  },
  {
   "cell_type": "code",
   "execution_count": null,
   "metadata": {},
   "outputs": [
    {
     "name": "stdout",
     "output_type": "stream",
     "text": [
      "P\n"
     ]
    }
   ],
   "source": [
    "'''22:wap to check whether a given value is present in between 45 to 125 \n",
    "and the number should be divisible by 4 and 5\n",
    " and even value.if satisfied,display the ascii character.'''\n",
    "n=80\n",
    "if 45<n<125 and n%4==0 and n%5==0 and n%2==0:\n",
    "    print(chr(n))\n"
   ]
  },
  {
   "cell_type": "code",
   "execution_count": null,
   "metadata": {},
   "outputs": [
    {
     "name": "stdout",
     "output_type": "stream",
     "text": [
      "400\n"
     ]
    }
   ],
   "source": [
    "#23:wap to check whether a given value is resent in between 25 to 100 and the number should be divisible by 4 and 5.if satisfied, display multiplication of given value with 5.\n",
    "n=80\n",
    "if 25<n<100 and n%4==0 and n%5==0 :\n",
    "    print(n*5)"
   ]
  },
  {
   "cell_type": "code",
   "execution_count": null,
   "metadata": {},
   "outputs": [
    {
     "name": "stdout",
     "output_type": "stream",
     "text": [
      "15.4\n"
     ]
    }
   ],
   "source": [
    "#24:wap to check whether a given number is an integer and odd number.if the condition is satisfied, the integer is divisible by 5 and display the result\n",
    "n=77\n",
    "if type(n)==int and n%2!=0:\n",
    "    print(n/5)\n"
   ]
  },
  {
   "cell_type": "code",
   "execution_count": null,
   "metadata": {},
   "outputs": [
    {
     "name": "stdout",
     "output_type": "stream",
     "text": [
      "77 <class 'str'>\n"
     ]
    }
   ],
   "source": [
    "#25:wap to check whether a given value is an integer or not. if integer, the given value is converted to string and displays the result.\n",
    "n=77\n",
    "if type(n)==int :\n",
    "    n=str(n)\n",
    "    print(n,type(n))\n"
   ]
  },
  {
   "cell_type": "code",
   "execution_count": null,
   "metadata": {},
   "outputs": [
    {
     "name": "stdout",
     "output_type": "stream",
     "text": [
      "r\n"
     ]
    }
   ],
   "source": [
    "#26:wap to check whether a given value is less then 125 and greater than 60 or not. if the condition is satisfied,take the name and extract the middle character and display it.\n",
    "n=77\n",
    "if 60<n<125:\n",
    "    name=input('enter your name:')\n",
    "    print(name[len(name)//2])"
   ]
  },
  {
   "cell_type": "code",
   "execution_count": null,
   "metadata": {},
   "outputs": [
    {
     "name": "stdout",
     "output_type": "stream",
     "text": [
      "154\n"
     ]
    }
   ],
   "source": [
    "#27:wap to check whether a given two integers are equal or not. if both are equal, to perform addition and display the result.\n",
    "a=77\n",
    "b=77\n",
    "if a==b:\n",
    "    print(a+b)"
   ]
  },
  {
   "cell_type": "code",
   "execution_count": null,
   "metadata": {},
   "outputs": [
    {
     "name": "stdout",
     "output_type": "stream",
     "text": [
      "3.0\n"
     ]
    }
   ],
   "source": [
    "#28:wap to check whether two  values are equal or not. if equal, to perform multiplication of two numbers and thant result is division by 3 and display the value.\n",
    "n=3\n",
    "a=3\n",
    "if n==a:\n",
    "    b=a*n\n",
    "    print(b/3)"
   ]
  },
  {
   "cell_type": "code",
   "execution_count": null,
   "metadata": {},
   "outputs": [
    {
     "name": "stdout",
     "output_type": "stream",
     "text": [
      "{'A': 65}\n",
      "{'A': 65}\n"
     ]
    }
   ],
   "source": [
    "#29:wap to check whether a character is in the alphabet or not. if the alphabet, store the value inside the dict(key as a character and value as an ascii value)\n",
    "n='A'\n",
    "if 'a'<=n<='z'or 'A'<=n<='Z':\n",
    "    n=((n,ord(n)),)\n",
    "    print( dict(n))\n",
    "b='A'\n",
    "d={b:ord(b)}\n",
    "print(d)\n"
   ]
  },
  {
   "cell_type": "markdown",
   "metadata": {},
   "source": [
    "30.WAP to check whether a character is in the uppercase or not. If the uppercase, \n",
    "store the value inside the dict(key as a character and value as an ascii value)."
   ]
  },
  {
   "cell_type": "code",
   "execution_count": null,
   "metadata": {},
   "outputs": [],
   "source": []
  },
  {
   "cell_type": "code",
   "execution_count": null,
   "metadata": {},
   "outputs": [
    {
     "name": "stdout",
     "output_type": "stream",
     "text": [
      "a\n",
      "{'a': 97}\n"
     ]
    }
   ],
   "source": [
    "#31:wap to check whether a character is in the uppercase or not. if the uppersase convert to lowercase and store the value inside the dict(key as a character and value as an ascii value)\n",
    "n='A'\n",
    "if 'A'<=n<='Z':\n",
    "    a=chr(ord(n)+32)\n",
    "    res={a:ord(n)+32}\n",
    "    print(a)\n",
    "    print(res)\n",
    "    "
   ]
  },
  {
   "cell_type": "code",
   "execution_count": null,
   "metadata": {},
   "outputs": [
    {
     "name": "stdout",
     "output_type": "stream",
     "text": [
      "aaaaaaa\n"
     ]
    }
   ],
   "source": [
    "#32:wap to check whether a character is in the lowercase or not. if the lowercase, to perform the replication operation on that character.\n",
    "n='a'\n",
    "if 'a'<=n<='z':\n",
    "    print(n*7)"
   ]
  },
  {
   "cell_type": "code",
   "execution_count": null,
   "metadata": {},
   "outputs": [
    {
     "name": "stdout",
     "output_type": "stream",
     "text": [
      "9\n"
     ]
    }
   ],
   "source": [
    "#33:wap to check whether a character is in the ascii number or not. if the ascii number. to convert into interger.\n",
    "n='9'\n",
    "if '0'<=n<='9':\n",
    "    print(int(n))"
   ]
  },
  {
   "cell_type": "markdown",
   "metadata": {},
   "source": [
    "34.WAP to check whether a character is in the special symbol or not. If the special \n",
    "symbol, to display a symbol with ascii value.\n"
   ]
  },
  {
   "cell_type": "code",
   "execution_count": null,
   "metadata": {},
   "outputs": [],
   "source": [
    "n='#'\n",
    "\n"
   ]
  },
  {
   "cell_type": "markdown",
   "metadata": {},
   "source": [
    "35.WAP to check whether a character is an even number or not. If the even number, \n",
    "to display an even number."
   ]
  },
  {
   "cell_type": "code",
   "execution_count": null,
   "metadata": {},
   "outputs": [
    {
     "name": "stdout",
     "output_type": "stream",
     "text": [
      "98 even number\n"
     ]
    }
   ],
   "source": [
    "n='b'\n",
    "if ord(n)%2==0:\n",
    "    print(ord(n),'even number')"
   ]
  },
  {
   "cell_type": "markdown",
   "metadata": {},
   "source": [
    "36.WAP to check whether a Given two integers a and b, if any of the integers is 10 \n",
    "or if their sum is 10, to perform the sum of the numbers and to display the square \n",
    "of the result.\n"
   ]
  },
  {
   "cell_type": "code",
   "execution_count": null,
   "metadata": {},
   "outputs": [
    {
     "name": "stdout",
     "output_type": "stream",
     "text": [
      "100\n"
     ]
    }
   ],
   "source": [
    "a=5\n",
    "b=5\n",
    "if a==10 or b==10 or a+b==10:\n",
    "    c=a+b\n",
    "    print(c**2)"
   ]
  },
  {
   "cell_type": "markdown",
   "metadata": {},
   "source": [
    "37.WAP to check whether a character is in the vowel or not. If the vowel,print the \n",
    "next character."
   ]
  },
  {
   "cell_type": "code",
   "execution_count": null,
   "metadata": {},
   "outputs": [
    {
     "name": "stdout",
     "output_type": "stream",
     "text": [
      "b\n"
     ]
    }
   ],
   "source": [
    "a='a'\n",
    "if a in ('a','e','i','o','u','A','E','I','O','U'):\n",
    "    b=chr(ord(a)+1)\n",
    "    print(b)\n",
    "\n"
   ]
  },
  {
   "cell_type": "markdown",
   "metadata": {},
   "source": [
    "38.WAP to check whether a character is in the not a vowel. If it's not a vowel,print \n",
    "the previous character."
   ]
  },
  {
   "cell_type": "code",
   "execution_count": null,
   "metadata": {},
   "outputs": [
    {
     "name": "stdout",
     "output_type": "stream",
     "text": [
      "i\n"
     ]
    }
   ],
   "source": [
    "a='j'\n",
    "if a not in ('a','e','i','o','u','A','E','I','O','U'):\n",
    "    b=chr(ord(a)-1)\n",
    "    print(b)\n",
    "\n"
   ]
  },
  {
   "cell_type": "markdown",
   "metadata": {},
   "source": [
    "39.WAP to check whether a given value is a single value data type or not. If single \n",
    "value, display the given value as a single value data type"
   ]
  },
  {
   "cell_type": "code",
   "execution_count": null,
   "metadata": {},
   "outputs": [
    {
     "name": "stdout",
     "output_type": "stream",
     "text": [
      "single value data type\n"
     ]
    }
   ],
   "source": [
    "n=44\n",
    "if type(n) not in (str,list,tuple,set,dict):\n",
    "    print('single value data type')"
   ]
  },
  {
   "cell_type": "markdown",
   "metadata": {},
   "source": [
    "40.WAP to check whether a given value is a multi-value data type or not. If multi \n",
    "value, store the given value inside the tuple and display it.\n"
   ]
  },
  {
   "cell_type": "code",
   "execution_count": null,
   "metadata": {},
   "outputs": [
    {
     "name": "stdout",
     "output_type": "stream",
     "text": [
      "('sdf', 33, 'dsf', 44)\n"
     ]
    }
   ],
   "source": [
    "a={33,'sdf',44,'dsf'}\n",
    "if type(a) in (str,list,tuple,set,dict):\n",
    "    b=tuple(a)\n",
    "    print(b)"
   ]
  },
  {
   "cell_type": "markdown",
   "metadata": {},
   "source": [
    "41.WAP to check whether a given value is an immutable data type or not. If an \n",
    "immutable data type value, store the given value inside the set and display it."
   ]
  },
  {
   "cell_type": "code",
   "execution_count": null,
   "metadata": {},
   "outputs": [
    {
     "name": "stdout",
     "output_type": "stream",
     "text": [
      "{'r', 's', 't'}\n"
     ]
    }
   ],
   "source": [
    "a='str'\n",
    "if a not in (list,set,dict):\n",
    "    b=set(a)\n",
    "    print(b)"
   ]
  },
  {
   "cell_type": "markdown",
   "metadata": {},
   "source": [
    "42.WAP to check whether the middle element of a given list is odd or not. If it is odd \n",
    "then print odd then print the number else directly print the number"
   ]
  },
  {
   "cell_type": "code",
   "execution_count": null,
   "metadata": {},
   "outputs": [
    {
     "name": "stdout",
     "output_type": "stream",
     "text": [
      "odd 99\n"
     ]
    }
   ],
   "source": [
    "a=[33,22,99,43,29]\n",
    "b=a[len(a)//2]\n",
    "if b%2!=0:\n",
    "    print(f'odd {b}')\n",
    "else:\n",
    "    print(b)"
   ]
  },
  {
   "cell_type": "markdown",
   "metadata": {},
   "source": [
    "43.WAP Return a new string with \"not\" prefixed to the front of the original string. \n",
    "Return the string unmodified if the string already has the word \"not\" at the \n",
    "beginning."
   ]
  },
  {
   "cell_type": "code",
   "execution_count": null,
   "metadata": {},
   "outputs": [
    {
     "name": "stdout",
     "output_type": "stream",
     "text": [
      "2580857812400\n",
      "notyello 2580836868400\n"
     ]
    }
   ],
   "source": [
    "a='yello'\n",
    "print(id(a))\n",
    "if a[0:3]!='not':\n",
    "    a='not'+a\n",
    "    print(a,id(a))\n",
    "else:\n",
    "    print(a)\n",
    "    print(id(a))\n"
   ]
  },
  {
   "cell_type": "markdown",
   "metadata": {},
   "source": [
    "44.WAP to check whether a given string(str) and one integer(n) value, to display a \n",
    "new string that is devoid of the character at index n. if you are given a non-empty \n",
    "string and an int n. The value of n will be a legitimate character index from the \n",
    "original string, therefore it will fall within the range of 0 to len(str)-1, inclusive."
   ]
  },
  {
   "cell_type": "code",
   "execution_count": null,
   "metadata": {},
   "outputs": [
    {
     "name": "stdout",
     "output_type": "stream",
     "text": [
      "pn\n"
     ]
    }
   ],
   "source": [
    "a='pen' #sr \n",
    "n=1\n",
    "if len(a)!=0 and type(n)==int and 0<=n<=len(a)-1:\n",
    "    print(a[:n]+a[n+1:])"
   ]
  },
  {
   "cell_type": "markdown",
   "metadata": {},
   "source": [
    "45.WAP to check whether the two variables are pointing to the same memory \n",
    "location or not if they are pointing to the same memory location then print the \n",
    "address of both the variables."
   ]
  },
  {
   "cell_type": "code",
   "execution_count": null,
   "metadata": {},
   "outputs": [
    {
     "name": "stdout",
     "output_type": "stream",
     "text": [
      "2852015186128\n",
      "2852015186128\n"
     ]
    }
   ],
   "source": [
    "a=256\n",
    "b=256\n",
    "if id(a)==id(b):\n",
    "    print(id(a))\n",
    "    print(id(b))"
   ]
  },
  {
   "cell_type": "markdown",
   "metadata": {},
   "source": [
    "46.WAP to check whether the given length of the string is even or not. If the \n",
    "condition is satisfied, display the sequence of characters from zero position to \n",
    "length of collection -2."
   ]
  },
  {
   "cell_type": "code",
   "execution_count": null,
   "metadata": {},
   "outputs": [
    {
     "name": "stdout",
     "output_type": "stream",
     "text": [
      "eve\n"
     ]
    }
   ],
   "source": [
    "a='evend'\n",
    "if len(a)%2!=0:\n",
    "    print(a[0:len(a)-2])"
   ]
  },
  {
   "cell_type": "markdown",
   "metadata": {},
   "source": [
    "47.WAP to check whether the two given strings are having the same values or not. \n",
    "If both are not the same values then swap the values of one variable to another \n",
    "variable after swapping print the two values."
   ]
  },
  {
   "cell_type": "code",
   "execution_count": null,
   "metadata": {},
   "outputs": [
    {
     "name": "stdout",
     "output_type": "stream",
     "text": [
      "sdjr sdr\n"
     ]
    }
   ],
   "source": [
    "a='sdr'\n",
    "b='sdjr'\n",
    "if a!=b:\n",
    "    temp=a\n",
    "    a=b\n",
    "    b=temp\n",
    "    print(a,b)\n",
    "    "
   ]
  },
  {
   "cell_type": "markdown",
   "metadata": {},
   "source": [
    "48.WAP to check whether a given character is a special symbol or not. If satisfied, \n",
    "store the symbol as a key and value as a ascii value of the given character inside \n",
    "the dictionary.\n"
   ]
  },
  {
   "cell_type": "code",
   "execution_count": null,
   "metadata": {},
   "outputs": [
    {
     "name": "stdout",
     "output_type": "stream",
     "text": [
      "{'#': 35}\n"
     ]
    }
   ],
   "source": [
    "# a='#'\n",
    "# if ord(a) not in range(ord('a'),ord('z')) and ord(a) not in range(ord('A'),ord('z')) and ord(a) not in range(ord('0'),ord('9')):\n",
    "#     n={a:ord(a)}\n",
    "#     print(n)\n",
    "a='#'\n",
    "if 0<=ord(a)<=47 or 58<=ord(a)<=64 or 91<=ord(a)<=96 or 123<=ord(a)<=127:\n",
    "    res={a:ord(a)}\n",
    "    print(res)"
   ]
  },
  {
   "cell_type": "markdown",
   "metadata": {},
   "source": [
    "49.WAP to check whether a given key is not present in the dictionary or not. If the \n",
    "key is not present, append the new key inside the dictionary.\n"
   ]
  },
  {
   "cell_type": "code",
   "execution_count": null,
   "metadata": {},
   "outputs": [
    {
     "name": "stdout",
     "output_type": "stream",
     "text": [
      "{3: 'sd', 2: 'kj', 1: 44}\n",
      "{3: 'sd', 2: 'kj', 1: 44}\n"
     ]
    }
   ],
   "source": [
    "a={3:'sd',2:'kj'}\n",
    "b=1\n",
    "if b not in a:\n",
    "    \n",
    "    a[b]=44\n",
    "    print(a)\n",
    "\n",
    "\n"
   ]
  },
  {
   "cell_type": "markdown",
   "metadata": {},
   "source": [
    "50.WAP whether a given string, and it displays a new string with the first and last \n",
    "characters switched."
   ]
  },
  {
   "cell_type": "code",
   "execution_count": null,
   "metadata": {},
   "outputs": [
    {
     "name": "stdout",
     "output_type": "stream",
     "text": [
      "zdsdfza\n"
     ]
    }
   ],
   "source": [
    "a='adsdfz'\n",
    "b=a[-1]+a[1:len(a)]+a[0]\n",
    "print(b)"
   ]
  },
  {
   "cell_type": "markdown",
   "metadata": {},
   "source": [
    "51.WAP to check whether the last digit should be 2 in the given number then print \n",
    "the last digit."
   ]
  },
  {
   "cell_type": "code",
   "execution_count": null,
   "metadata": {},
   "outputs": [
    {
     "name": "stdout",
     "output_type": "stream",
     "text": [
      "2\n"
     ]
    }
   ],
   "source": [
    "a=1342\n",
    "if a%10==2:\n",
    "    print(a%10)"
   ]
  },
  {
   "cell_type": "markdown",
   "metadata": {},
   "source": [
    "52.WAP to check whether a Given two integers a and b, if any of the integers is 10 \n",
    "or if their sum is 10, to perform the sum of the numbers and to display the square \n",
    "of the result."
   ]
  },
  {
   "cell_type": "code",
   "execution_count": null,
   "metadata": {},
   "outputs": [
    {
     "name": "stdout",
     "output_type": "stream",
     "text": [
      "100\n"
     ]
    }
   ],
   "source": [
    "a=5\n",
    "b=5\n",
    "if a==10 or b==10 or a+b==10:\n",
    "    c=a+b\n",
    "    print(c**2)"
   ]
  },
  {
   "cell_type": "markdown",
   "metadata": {},
   "source": [
    "53.WAP to check whether a given string(str) and one integer(n) value, to display a \n",
    "new string that is devoid of the character at index n. if you are given a non-empty \n",
    "string and an int n. The value of n will be a legitimate character index from the \n",
    "original string, therefore it will fall within the range of 0 to len(str)-1, inclusive."
   ]
  },
  {
   "cell_type": "code",
   "execution_count": null,
   "metadata": {},
   "outputs": [
    {
     "name": "stdout",
     "output_type": "stream",
     "text": [
      "pn\n"
     ]
    }
   ],
   "source": [
    "a='pen' #sr repeat-43q\n",
    "n=1\n",
    "if len(a)!=0 and type(n)==int and 0<=n<=len(a)-1:\n",
    "    print(a[:n]+a[n+1:])"
   ]
  },
  {
   "cell_type": "markdown",
   "metadata": {},
   "source": [
    "54.WAP to check whether both string collections are equal or not if it is not equal \n",
    "print the both strings along with the length of a string if both are equal ignore it."
   ]
  },
  {
   "cell_type": "code",
   "execution_count": null,
   "metadata": {},
   "outputs": [
    {
     "name": "stdout",
     "output_type": "stream",
     "text": [
      "equal 5\n",
      "not equal 9\n"
     ]
    }
   ],
   "source": [
    "a='equal'\n",
    "b='not equal'\n",
    "if a!=b:\n",
    "    print(a,len(a))\n",
    "    print(b,len(b))"
   ]
  },
  {
   "cell_type": "code",
   "execution_count": null,
   "metadata": {},
   "outputs": [],
   "source": [
    "# if-else:-"
   ]
  },
  {
   "cell_type": "code",
   "execution_count": null,
   "metadata": {},
   "outputs": [
    {
     "name": "stdout",
     "output_type": "stream",
     "text": [
      "27\n"
     ]
    }
   ],
   "source": [
    "#1wap enven or odd, if true perform square of value,are else cube of the givne value\n",
    "n=3\n",
    "if n%2==0:\n",
    "    print(n**2)\n",
    "else:\n",
    "    print(n**3)"
   ]
  },
  {
   "cell_type": "markdown",
   "metadata": {},
   "source": [
    "2.wap to check wether given value is multivalue data type or not if it is multi value , to store the value inside set or else to convert into string."
   ]
  },
  {
   "cell_type": "code",
   "execution_count": null,
   "metadata": {},
   "outputs": [
    {
     "name": "stdout",
     "output_type": "stream",
     "text": [
      "{332: 453, 2323: 44}\n"
     ]
    }
   ],
   "source": [
    "n=[332,453,2323,44]\n",
    "a=set()\n",
    "if type(n) in (str,list,tuple,set,dict):\n",
    "    a|=set(n)\n",
    "    print(a)\n",
    "else:\n",
    "  print(str(n))"
   ]
  },
  {
   "cell_type": "code",
   "execution_count": null,
   "metadata": {},
   "outputs": [
    {
     "name": "stdout",
     "output_type": "stream",
     "text": [
      "mad\n"
     ]
    }
   ],
   "source": [
    "#3.wap to check given string is polindrome or not if polindrome print zeroth position to middle of the string, else display the rever string\n",
    "n='madam' # n='level'\n",
    "if n==n[::-1]:\n",
    "    print(n[0:(len(n)//2)+1])\n",
    "else:\n",
    "    print(n[::-1])"
   ]
  },
  {
   "cell_type": "markdown",
   "metadata": {},
   "source": [
    "4.wap to check starting character and middle char both are sequence or not , if sequence extract two characters and concate into given string.\n",
    "if not sequence, display the even index position values from given string"
   ]
  },
  {
   "cell_type": "code",
   "execution_count": null,
   "metadata": {},
   "outputs": [
    {
     "name": "stdout",
     "output_type": "stream",
     "text": [
      "cn\n"
     ]
    }
   ],
   "source": [
    "n='amcan'\n",
    "a=n[0]\n",
    "if ord(n[0])==ord(n[len(n)//2])-1:\n",
    "    b=n+n[:2]\n",
    "    print(b)\n",
    "else:\n",
    "    print(n[2::2])"
   ]
  },
  {
   "cell_type": "markdown",
   "metadata": {},
   "source": [
    "5.wap to check whether the give two input numbers are divisible by 3 and 5, if divisible, print 'good morning,\n",
    "if not divisible, print( good evening)"
   ]
  },
  {
   "cell_type": "code",
   "execution_count": null,
   "metadata": {},
   "outputs": [
    {
     "name": "stdout",
     "output_type": "stream",
     "text": [
      "good morning\n"
     ]
    }
   ],
   "source": [
    "n=15\n",
    "a=30\n",
    "if n%3==0 and n%5==0 and a%3==0 and a%5==0:\n",
    "    print('good morning')\n",
    "else:\n",
    "    print('good evening')"
   ]
  },
  {
   "cell_type": "markdown",
   "metadata": {},
   "source": [
    "6.wap to check both the values are odd or not, if odd, display area of the rectagle. if not odd, display the perimeter of the rectangle"
   ]
  },
  {
   "cell_type": "code",
   "execution_count": null,
   "metadata": {},
   "outputs": [
    {
     "name": "stdout",
     "output_type": "stream",
     "text": [
      "18\n"
     ]
    }
   ],
   "source": [
    "n=5\n",
    "b=4\n",
    "if n%2!=0 and b%2!=0:\n",
    "    a=b*n\n",
    "    print(a)\n",
    "else:\n",
    "    a=2*(n+b)\n",
    "    print(a)"
   ]
  },
  {
   "cell_type": "markdown",
   "metadata": {},
   "source": [
    "7.wap to find largest of two numbers"
   ]
  },
  {
   "cell_type": "code",
   "execution_count": null,
   "metadata": {},
   "outputs": [
    {
     "name": "stdout",
     "output_type": "stream",
     "text": [
      "6\n"
     ]
    }
   ],
   "source": [
    "a=4\n",
    "b=6\n",
    "if a>b:\n",
    "    print(a)\n",
    "else :\n",
    "    print(b)"
   ]
  },
  {
   "cell_type": "markdown",
   "metadata": {},
   "source": [
    "8.wap to find largest of two numbers\n",
    "using turnary operator"
   ]
  },
  {
   "cell_type": "code",
   "execution_count": null,
   "metadata": {},
   "outputs": [
    {
     "name": "stdout",
     "output_type": "stream",
     "text": [
      "5\n"
     ]
    }
   ],
   "source": [
    "a=5\n",
    "b=3\n",
    "print([b,a][a>b])\n",
    "\n",
    "\n"
   ]
  },
  {
   "cell_type": "markdown",
   "metadata": {},
   "source": [
    "9.wap to check whether  a given value is less than 125 and in between 47 to 125 or not. if condition is true, to perform store the given value as a key and value as a character into  the dict or else to append the value in list and display it."
   ]
  },
  {
   "cell_type": "code",
   "execution_count": null,
   "metadata": {},
   "outputs": [
    {
     "name": "stdout",
     "output_type": "stream",
     "text": [
      "[128]\n"
     ]
    }
   ],
   "source": [
    "a=128\n",
    "n=list()\n",
    "if a>47 and a<125:\n",
    "    b={a:chr(a)}\n",
    "    print(b)\n",
    "else:\n",
    "    n+=[a]\n",
    "    print(n)\n",
    "b={4:5,5:9}\n",
    "b[4]"
   ]
  },
  {
   "cell_type": "markdown",
   "metadata": {},
   "source": [
    "10.wap to check whether a given character is alphabet or not, if to concate the previous,current and next character . or else to display the character with ascii value\n"
   ]
  },
  {
   "cell_type": "code",
   "execution_count": null,
   "metadata": {},
   "outputs": [
    {
     "name": "stdout",
     "output_type": "stream",
     "text": [
      "abc\n"
     ]
    }
   ],
   "source": [
    "a='b'\n",
    "if  'a'<=a<='z' or  'A'<=a<='Z':\n",
    "    b=chr(ord(a)-1)+a+chr(ord(a)+1)\n",
    "    print(b)\n",
    "else:\n",
    "    print(a,ord(a))"
   ]
  },
  {
   "cell_type": "markdown",
   "metadata": {},
   "source": [
    "11.wap to check whether a given length of the string is odd and starting should be uppercase. if all condition satisfied,to append the new string('haii') in the middle of the given string, or else to swap the starting character and ending character or the given string and to  display the remaining character.\n"
   ]
  },
  {
   "cell_type": "code",
   "execution_count": null,
   "metadata": {},
   "outputs": [
    {
     "name": "stdout",
     "output_type": "stream",
     "text": [
      "Kbchaiidefg\n"
     ]
    }
   ],
   "source": [
    "a='Kbcdefg'\n",
    "if 'A'<=a[0]<='Z' and len(a)%2!=0:\n",
    "    a=a[0:len(a)//2]+'haii'+a[(len(a)//2):]\n",
    "    print(a)\n",
    "\n",
    "else:\n",
    "    \n",
    "  a=a[-1]+a[1:len(a)]+a[0]\n",
    "  print(a)\n"
   ]
  },
  {
   "cell_type": "markdown",
   "metadata": {},
   "source": [
    "12.WAP to check whether a given value is list and first and last values should be integer if condition is satisfied ,perform first value true division by 3 and last value perform bitwise not, result store in same position in the given list or else to perform length of collection power 2  and display"
   ]
  },
  {
   "cell_type": "code",
   "execution_count": null,
   "metadata": {},
   "outputs": [
    {
     "name": "stdout",
     "output_type": "stream",
     "text": [
      "[3.0, 'adf', [44, 33], {'dfs', 454}, -56]\n"
     ]
    }
   ],
   "source": [
    "a=[9,'adf',[44,33],{'dfs',454},55]\n",
    "if type(a)==list and type(a[0])==int and type(a[-1])==int:\n",
    "    a[0]=a[0]/3\n",
    "    a[-1]=~a[-1]\n",
    "    print(a)\n",
    "else:\n",
    "    print(len(a)**2)"
   ]
  },
  {
   "cell_type": "code",
   "execution_count": null,
   "metadata": {},
   "outputs": [],
   "source": [
    "\n",
    "    "
   ]
  }
 ],
 "metadata": {
  "kernelspec": {
   "display_name": "Python 3",
   "language": "python",
   "name": "python3"
  },
  "language_info": {
   "codemirror_mode": {
    "name": "ipython",
    "version": 3
   },
   "file_extension": ".py",
   "mimetype": "text/x-python",
   "name": "python",
   "nbconvert_exporter": "python",
   "pygments_lexer": "ipython3",
   "version": "3.10.7"
  },
  "orig_nbformat": 4
 },
 "nbformat": 4,
 "nbformat_minor": 2
}
