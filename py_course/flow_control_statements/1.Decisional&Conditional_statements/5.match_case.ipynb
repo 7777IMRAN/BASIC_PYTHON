{
 "cells": [
  {
   "cell_type": "code",
   "execution_count": 4,
   "metadata": {},
   "outputs": [
    {
     "name": "stdout",
     "output_type": "stream",
     "text": [
      "defoult case\n"
     ]
    }
   ],
   "source": [
    "n=50\n",
    "match n:\n",
    "    case 10:\n",
    "        print('hai')\n",
    "    case 20:\n",
    "        print('hello')\n",
    "    case 30:\n",
    "        print('hell')\n",
    "    case _:\n",
    "        print('defoult case')"
   ]
  },
  {
   "cell_type": "code",
   "execution_count": 7,
   "metadata": {},
   "outputs": [
    {
     "name": "stdout",
     "output_type": "stream",
     "text": [
      "30\n"
     ]
    }
   ],
   "source": [
    "a='add'\n",
    "match a:\n",
    "    case 'add'|'ADD':\n",
    "        print(10+20)\n",
    "    case 'sub'|'SUB':\n",
    "        print(20-10)\n",
    "    case 'mul'|'MUL':\n",
    "        print(10*20)\n",
    "    case _:\n",
    "        print('no match case found')    \n",
    "    "
   ]
  },
  {
   "cell_type": "code",
   "execution_count": 17,
   "metadata": {},
   "outputs": [
    {
     "name": "stdout",
     "output_type": "stream",
     "text": [
      "no match case found\n"
     ]
    }
   ],
   "source": [
    "# a=[10|100]\n",
    "# a=[10]\n",
    "# a=100\n",
    "# a=[10,50]\n",
    "# a=[10,90]\n",
    "a=[100,10]\n",
    "# a=[10,60]\n",
    "match a:\n",
    "    case [10|100,50|60]:\n",
    "        print('hello')\n",
    "    case [20|200]:\n",
    "        print(20-10)\n",
    "    case _:\n",
    "        print('no match case found')    \n",
    "    "
   ]
  },
  {
   "cell_type": "code",
   "execution_count": 25,
   "metadata": {},
   "outputs": [
    {
     "name": "stdout",
     "output_type": "stream",
     "text": [
      "defoult case\n"
     ]
    }
   ],
   "source": [
    "# a='apple'\n",
    "# a={'apple':10}\n",
    "# a={'apple':20}\n",
    "# a='apple'\n",
    "match a:\n",
    "    case {'apple':10}|{'apple':20}: #{'apple':10,'apple':20}--error two same keys found\n",
    "        print('hai')\n",
    "    case _:\n",
    "        print('defoult case')"
   ]
  },
  {
   "cell_type": "code",
   "execution_count": 2,
   "metadata": {},
   "outputs": [
    {
     "name": "stdout",
     "output_type": "stream",
     "text": [
      "d [130, 22, 20, 69]\n"
     ]
    }
   ],
   "source": [
    "a=[130,22,20,69,100]\n",
    "match a:\n",
    "    case [10,20,30]:\n",
    "        print(a)\n",
    "    case [10,20,50]:\n",
    "        print(a)\n",
    "    case [10,20,*arg]:   # starts with 10,20 - remaining characters are storing in arg named variable\n",
    "        print('c',arg)\n",
    "    case [10,*arg,100]:  # starts with 10 and ends with 100\n",
    "        print('e',arg)\n",
    "    case [*arg,100]:     #(ending) with 100\n",
    "        print('d',arg)\n"
   ]
  },
  {
   "cell_type": "code",
   "execution_count": 8,
   "metadata": {},
   "outputs": [
    {
     "name": "stdout",
     "output_type": "stream",
     "text": [
      "no\n"
     ]
    }
   ],
   "source": [
    "#diff match case\n",
    "a='a'\n",
    "n=20\n",
    "match n:\n",
    "    case 10 if 'A'<=a<='Z':\n",
    "        print('yes')\n",
    "    case 20 if 'a'<=a<='z':\n",
    "        print('no')"
   ]
  },
  {
   "cell_type": "code",
   "execution_count": 5,
   "metadata": {},
   "outputs": [
    {
     "name": "stdout",
     "output_type": "stream",
     "text": [
      "True\n",
      "True\n"
     ]
    }
   ],
   "source": [
    "#wap to check given character is alphabet or not , if alphabet display true , if  not false using turnary  operater\n",
    "\n",
    "a=[False,True]['a'<=a<='z' or 'A'<=a<='Z']\n",
    "print(a)\n",
    "####\n",
    "a='a'\n",
    "print(True) if 'a'<=a<='z' or 'A'<=a<='Z' else print(False)\n",
    "##\n"
   ]
  },
  {
   "cell_type": "code",
   "execution_count": 23,
   "metadata": {},
   "outputs": [
    {
     "name": "stdout",
     "output_type": "stream",
     "text": [
      "D E\n"
     ]
    }
   ],
   "source": [
    "#wap ton check given character alphabet or not , if alphaber check uppercase or not , \n",
    "#if upper case conver to lower case value with ascii value, or else given character is lower case convert to uppercase and display given character and next character, \n",
    "#if not an alphabet display ascii value of given character with given character\n",
    "a='d'\n",
    "if 'a'<=a<='z' or 'A'<=a<='Z':\n",
    "    if 'A'<=a<='Z':\n",
    "         print(chr(ord(a)+32),ord(a)+32)\n",
    "       \n",
    "    else:\n",
    "        print(chr(ord(a)-32),chr(ord(a)-31))\n",
    "else:\n",
    "    print(ord(a),a)"
   ]
  },
  {
   "cell_type": "code",
   "execution_count": 14,
   "metadata": {},
   "outputs": [
    {
     "name": "stdout",
     "output_type": "stream",
     "text": [
      "('K', 'k')\n"
     ]
    }
   ],
   "source": [
    "#3333\n",
    "a='k'\n",
    "res=[(chr(ord(a)-32),a),(chr(ord(a)+32),ord(chr(ord(a)+32)))]['A'<=a<='Z']\n",
    "var=[(a,ord(a)),res]['a'<=a<='z' or 'A'<=a<='Z']\n",
    "print(var)\n",
    "#...\n"
   ]
  },
  {
   "cell_type": "code",
   "execution_count": 15,
   "metadata": {},
   "outputs": [
    {
     "name": "stdout",
     "output_type": "stream",
     "text": [
      "('a', 97)\n"
     ]
    }
   ],
   "source": [
    "#--------USING TURNARY OPERATOR\n",
    "a='A'\n",
    "var=[(a,ord(a)),[(chr(ord(a)-32),a),(chr(ord(a)+32),ord(chr(ord(a)+32)))]['A'<=a<='Z']]['a'<=a<='z' or 'A'<=a<='Z']\n",
    "print(var)\n",
    "\n"
   ]
  },
  {
   "cell_type": "code",
   "execution_count": 15,
   "metadata": {},
   "outputs": [
    {
     "name": "stdout",
     "output_type": "stream",
     "text": [
      "('a', 97)\n"
     ]
    }
   ],
   "source": [
    "a='A' #---using TURNARY_OPERATOR\n",
    "print([(a,ord(a)),[(chr(ord(a)-32),a),(chr(ord(a)+32),ord(chr(ord(a)+32)))]['A'<=a<='Z']]['a'<=a<='z' or 'A'<=a<='Z'])\n"
   ]
  },
  {
   "cell_type": "code",
   "execution_count": 33,
   "metadata": {},
   "outputs": [
    {
     "name": "stdout",
     "output_type": "stream",
     "text": [
      "second\n"
     ]
    }
   ],
   "source": [
    "a=89\n",
    "match a:   # match is a key word but not present in keyword list\n",
    "    case a if 90<=a<=100:\n",
    "        print('first')\n",
    "    case a if 80<=a<=90:\n",
    "        print('second')"
   ]
  }
 ],
 "metadata": {
  "kernelspec": {
   "display_name": "Python 3",
   "language": "python",
   "name": "python3"
  },
  "language_info": {
   "codemirror_mode": {
    "name": "ipython",
    "version": 3
   },
   "file_extension": ".py",
   "mimetype": "text/x-python",
   "name": "python",
   "nbconvert_exporter": "python",
   "pygments_lexer": "ipython3",
   "version": "3.10.7"
  },
  "orig_nbformat": 4
 },
 "nbformat": 4,
 "nbformat_minor": 2
}
