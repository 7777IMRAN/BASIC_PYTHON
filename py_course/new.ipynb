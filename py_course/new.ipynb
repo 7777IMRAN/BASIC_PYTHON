{
 "cells": [
  {
   "cell_type": "code",
   "execution_count": 1,
   "metadata": {},
   "outputs": [
    {
     "name": "stdout",
     "output_type": "stream",
     "text": [
      "0b1001\n",
      "ODD\n"
     ]
    }
   ],
   "source": [
    "#WAP to find the given number is even or odd\n",
    "# without using % \n",
    "number=9\n",
    "print(bin(number))\n",
    "if number&0:\n",
    "    print('EVEN')\n",
    "else:\n",
    "    print('ODD')"
   ]
  },
  {
   "cell_type": "code",
   "execution_count": 3,
   "metadata": {},
   "outputs": [
    {
     "data": {
      "text/plain": [
       "11"
      ]
     },
     "execution_count": 3,
     "metadata": {},
     "output_type": "execute_result"
    }
   ],
   "source": [
    "#wap to print nth prime number\n",
    "a=5\n",
    "def prim(num):\n",
    "    b=1\n",
    "    equ=0\n",
    "    while b:\n",
    "        # print(b)\n",
    "        n=b\n",
    "        m=1\n",
    "        count=0\n",
    "        while m<=n:\n",
    "            if n%m==0:\n",
    "                count+=1\n",
    "            m+=1\n",
    "        if count==2:\n",
    "            equ+=1\n",
    "        if equ==num:\n",
    "            break\n",
    "        b+=1\n",
    "    return b\n",
    "\n",
    "prim(a)"
   ]
  },
  {
   "cell_type": "code",
   "execution_count": 1,
   "metadata": {},
   "outputs": [
    {
     "name": "stdout",
     "output_type": "stream",
     "text": [
      "The 5th prime number is: 11\n"
     ]
    }
   ],
   "source": [
    "def is_prime(num): #chat GPT\n",
    "    if num < 2:\n",
    "        return False\n",
    "    for i in range(2, int(num**0.5) + 1):\n",
    "        if num % i == 0:\n",
    "            return False\n",
    "    return True\n",
    "\n",
    "def nth_prime(n):\n",
    "    count = 0\n",
    "    num = 2\n",
    "    while count < n:\n",
    "        if is_prime(num):\n",
    "            count += 1\n",
    "            if count == n:\n",
    "                return num\n",
    "        num += 1\n",
    "\n",
    "n = int(input(\"Enter the value of n: \"))\n",
    "print(f\"The {n}th prime number is: {nth_prime(n)}\")"
   ]
  },
  {
   "cell_type": "code",
   "execution_count": 28,
   "metadata": {},
   "outputs": [
    {
     "name": "stdout",
     "output_type": "stream",
     "text": [
      "<__main__.new object at 0x000002C28740C790>\n",
      "<__main__.new object at 0x000002C2861DFF10>\n",
      "<__main__.new object at 0x000002C28740C790>\n",
      "-----------------------\n",
      "<__main__.new object at 0x000002C28740C790>\n",
      "<__main__.new object at 0x000002C2861DFF10>\n",
      "<__main__.new object at 0x000002C2861DFF70>\n"
     ]
    }
   ],
   "source": [
    "class new:\n",
    "    __a=20\n",
    "    __b=40\n",
    "    def __init__(self):\n",
    "        self.name='name'\n",
    "print(new())\n",
    "# print('sdf')\n",
    "print(new())\n",
    "# print('jlj')\n",
    "print(new())\n",
    "print('-----------------------')\n",
    "a=new()\n",
    "b=new()\n",
    "c=new()\n",
    "print(a)\n",
    "print(b)\n",
    "print(c)"
   ]
  },
  {
   "cell_type": "code",
   "execution_count": 12,
   "metadata": {},
   "outputs": [
    {
     "name": "stdout",
     "output_type": "stream",
     "text": [
      "0\n",
      "1\n",
      "1\n",
      "2\n",
      "3\n"
     ]
    }
   ],
   "source": [
    "def fib(n=0,a=0,b=1,sum=0,i=int(input('enter number'))):\n",
    "    if n<=1:\n",
    "        print(n)\n",
    "        fib(n+1,a,b,sum)\n",
    "    elif n==i:\n",
    "        return\n",
    "    else:\n",
    "        sum=a+b\n",
    "        print(sum)\n",
    "        a,b=b,sum\n",
    "        fib(n+1,a,b,sum)\n",
    "fib()"
   ]
  },
  {
   "cell_type": "code",
   "execution_count": 16,
   "metadata": {},
   "outputs": [
    {
     "name": "stdout",
     "output_type": "stream",
     "text": [
      "89\n",
      "{0: 1, 1: 1, 2: 2, 3: 3, 4: 5, 5: 8, 6: 13, 7: 21, 8: 34, 9: 55, 10: 89}\n"
     ]
    }
   ],
   "source": [
    "def fib(num,coll):\n",
    "    if num in coll:\n",
    "        return coll[num]\n",
    "    else:\n",
    "        coll[num]=fib(num-1,d)+fib(num-2,d)\n",
    "        return coll[num]\n",
    "d={0:1,1:1}\n",
    "print(fib(10,d))\n",
    "print(d)"
   ]
  }
 ],
 "metadata": {
  "kernelspec": {
   "display_name": "Python 3",
   "language": "python",
   "name": "python3"
  },
  "language_info": {
   "codemirror_mode": {
    "name": "ipython",
    "version": 3
   },
   "file_extension": ".py",
   "mimetype": "text/x-python",
   "name": "python",
   "nbconvert_exporter": "python",
   "pygments_lexer": "ipython3",
   "version": "3.10.7"
  },
  "orig_nbformat": 4
 },
 "nbformat": 4,
 "nbformat_minor": 2
}
