{
 "cells": [
  {
   "cell_type": "code",
   "execution_count": 1,
   "metadata": {},
   "outputs": [
    {
     "name": "stdout",
     "output_type": "stream",
     "text": [
      "0b1001\n",
      "ODD\n"
     ]
    }
   ],
   "source": [
    "#WAP to find the given number is even or odd\n",
    "# without using % \n",
    "number=9\n",
    "print(bin(number))\n",
    "if number&0:\n",
    "    print('EVEN')\n",
    "else:\n",
    "    print('ODD')"
   ]
  },
  {
   "cell_type": "code",
   "execution_count": 3,
   "metadata": {},
   "outputs": [
    {
     "data": {
      "text/plain": [
       "11"
      ]
     },
     "execution_count": 3,
     "metadata": {},
     "output_type": "execute_result"
    }
   ],
   "source": [
    "#wap to print nth prime number\n",
    "a=5\n",
    "def prim(num):\n",
    "    b=1\n",
    "    equ=0\n",
    "    while b:\n",
    "        # print(b)\n",
    "        n=b\n",
    "        m=1\n",
    "        count=0\n",
    "        while m<=n:\n",
    "            if n%m==0:\n",
    "                count+=1\n",
    "            m+=1\n",
    "        if count==2:\n",
    "            equ+=1\n",
    "        if equ==num:\n",
    "            break\n",
    "        b+=1\n",
    "    return b\n",
    "\n",
    "prim(a)"
   ]
  },
  {
   "cell_type": "code",
   "execution_count": 1,
   "metadata": {},
   "outputs": [
    {
     "name": "stdout",
     "output_type": "stream",
     "text": [
      "The 5th prime number is: 11\n"
     ]
    }
   ],
   "source": [
    "def is_prime(num): #chat GPT\n",
    "    if num < 2:\n",
    "        return False\n",
    "    for i in range(2, int(num**0.5) + 1):\n",
    "        if num % i == 0:\n",
    "            return False\n",
    "    return True\n",
    "\n",
    "def nth_prime(n):\n",
    "    count = 0\n",
    "    num = 2\n",
    "    while count < n:\n",
    "        if is_prime(num):\n",
    "            count += 1\n",
    "            if count == n:\n",
    "                return num\n",
    "        num += 1\n",
    "\n",
    "n = int(input(\"Enter the value of n: \"))\n",
    "print(f\"The {n}th prime number is: {nth_prime(n)}\")"
   ]
  },
  {
   "cell_type": "code",
   "execution_count": 28,
   "metadata": {},
   "outputs": [
    {
     "name": "stdout",
     "output_type": "stream",
     "text": [
      "<__main__.new object at 0x000002C28740C790>\n",
      "<__main__.new object at 0x000002C2861DFF10>\n",
      "<__main__.new object at 0x000002C28740C790>\n",
      "-----------------------\n",
      "<__main__.new object at 0x000002C28740C790>\n",
      "<__main__.new object at 0x000002C2861DFF10>\n",
      "<__main__.new object at 0x000002C2861DFF70>\n"
     ]
    }
   ],
   "source": [
    "class new:\n",
    "    __a=20\n",
    "    __b=40\n",
    "    def __init__(self):\n",
    "        self.name='name'\n",
    "print(new())\n",
    "# print('sdf')\n",
    "print(new())\n",
    "# print('jlj')\n",
    "print(new())\n",
    "print('-----------------------')\n",
    "a=new()\n",
    "b=new()\n",
    "c=new()\n",
    "print(a)\n",
    "print(b)\n",
    "print(c)"
   ]
  },
  {
   "cell_type": "code",
   "execution_count": 12,
   "metadata": {},
   "outputs": [
    {
     "name": "stdout",
     "output_type": "stream",
     "text": [
      "0\n",
      "1\n",
      "1\n",
      "2\n",
      "3\n"
     ]
    }
   ],
   "source": [
    "def fib(n=0,a=0,b=1,sum=0,i=int(input('enter number'))):\n",
    "    if n<=1:\n",
    "        print(n)\n",
    "        fib(n+1,a,b,sum)\n",
    "    elif n==i:\n",
    "        return\n",
    "    else:\n",
    "        sum=a+b\n",
    "        print(sum)\n",
    "        a,b=b,sum\n",
    "        fib(n+1,a,b,sum)\n",
    "fib()"
   ]
  },
  {
   "cell_type": "code",
   "execution_count": 16,
   "metadata": {},
   "outputs": [
    {
     "name": "stdout",
     "output_type": "stream",
     "text": [
      "89\n",
      "{0: 1, 1: 1, 2: 2, 3: 3, 4: 5, 5: 8, 6: 13, 7: 21, 8: 34, 9: 55, 10: 89}\n"
     ]
    }
   ],
   "source": [
    "def fib(num,coll):\n",
    "    if num in coll:\n",
    "        return coll[num]\n",
    "    else:\n",
    "        coll[num]=fib(num-1,d)+fib(num-2,d)\n",
    "        return coll[num]\n",
    "d={0:1,1:1}\n",
    "print(fib(10,d))\n",
    "print(d)"
   ]
  },
  {
   "cell_type": "code",
   "execution_count": 26,
   "metadata": {},
   "outputs": [
    {
     "name": "stdout",
     "output_type": "stream",
     "text": [
      "a1+j1+a1+y1"
     ]
    }
   ],
   "source": [
    "# sr='HHOOCHH'\n",
    "sr='ajay'\n",
    "count=1\n",
    "for i in range(len(sr)):\n",
    "    if i<len(sr)-1 and sr[i]==sr[i+1]:\n",
    "        count+=1\n",
    "    else:\n",
    "        if i!=len(sr)-1:\n",
    "            print(f'{sr[i]}{count}+' , end='')\n",
    "            count=1\n",
    "        else:\n",
    "            print(f'{sr[i]}{count}' , end='')\n",
    "\n"
   ]
  },
  {
   "cell_type": "code",
   "execution_count": 36,
   "metadata": {},
   "outputs": [
    {
     "name": "stdout",
     "output_type": "stream",
     "text": [
      "11111 is polindrome\n",
      "11211 is polindrome\n",
      "11311 is polindrome\n",
      "11411 is polindrome\n",
      "11511 is polindrome\n",
      "12121 is polindrome\n",
      "12221 is polindrome\n",
      "12321 is polindrome\n",
      "12421 is polindrome\n",
      "12521 is polindrome\n",
      "13131 is polindrome\n",
      "13231 is polindrome\n",
      "13331 is polindrome\n",
      "13431 is polindrome\n",
      "13531 is polindrome\n",
      "14141 is polindrome\n",
      "14241 is polindrome\n",
      "14341 is polindrome\n",
      "14441 is polindrome\n",
      "14541 is polindrome\n",
      "15151 is polindrome\n",
      "15251 is polindrome\n",
      "15351 is polindrome\n",
      "15451 is polindrome\n",
      "15551 is polindrome\n",
      "21112 is polindrome\n",
      "21212 is polindrome\n",
      "21312 is polindrome\n",
      "21412 is polindrome\n",
      "21512 is polindrome\n",
      "22122 is polindrome\n",
      "22222 is polindrome\n",
      "22322 is polindrome\n",
      "22422 is polindrome\n",
      "22522 is polindrome\n",
      "23132 is polindrome\n",
      "23232 is polindrome\n",
      "23332 is polindrome\n",
      "23432 is polindrome\n",
      "23532 is polindrome\n",
      "24142 is polindrome\n",
      "24242 is polindrome\n",
      "24342 is polindrome\n",
      "24442 is polindrome\n",
      "24542 is polindrome\n",
      "25152 is polindrome\n",
      "25252 is polindrome\n",
      "25352 is polindrome\n",
      "25452 is polindrome\n",
      "25552 is polindrome\n",
      "31113 is polindrome\n",
      "31213 is polindrome\n",
      "31313 is polindrome\n",
      "31413 is polindrome\n",
      "31513 is polindrome\n",
      "32123 is polindrome\n",
      "32223 is polindrome\n",
      "32323 is polindrome\n",
      "32423 is polindrome\n",
      "32523 is polindrome\n",
      "33133 is polindrome\n",
      "33233 is polindrome\n",
      "33333 is polindrome\n",
      "33433 is polindrome\n",
      "33533 is polindrome\n",
      "34143 is polindrome\n",
      "34243 is polindrome\n",
      "34343 is polindrome\n",
      "34443 is polindrome\n",
      "34543 is polindrome\n",
      "35153 is polindrome\n",
      "35253 is polindrome\n",
      "35353 is polindrome\n",
      "35453 is polindrome\n",
      "35553 is polindrome\n",
      "41114 is polindrome\n",
      "41214 is polindrome\n",
      "41314 is polindrome\n",
      "41414 is polindrome\n",
      "41514 is polindrome\n",
      "42124 is polindrome\n",
      "42224 is polindrome\n",
      "42324 is polindrome\n",
      "42424 is polindrome\n",
      "42524 is polindrome\n",
      "43134 is polindrome\n",
      "43234 is polindrome\n",
      "43334 is polindrome\n",
      "43434 is polindrome\n",
      "43534 is polindrome\n",
      "44144 is polindrome\n",
      "44244 is polindrome\n",
      "44344 is polindrome\n",
      "44444 is polindrome\n",
      "44544 is polindrome\n",
      "45154 is polindrome\n",
      "45254 is polindrome\n",
      "45354 is polindrome\n",
      "45454 is polindrome\n",
      "45554 is polindrome\n",
      "51115 is polindrome\n",
      "51215 is polindrome\n",
      "51315 is polindrome\n",
      "51415 is polindrome\n",
      "51515 is polindrome\n",
      "52125 is polindrome\n",
      "52225 is polindrome\n",
      "52325 is polindrome\n",
      "52425 is polindrome\n",
      "52525 is polindrome\n",
      "53135 is polindrome\n",
      "53235 is polindrome\n",
      "53335 is polindrome\n",
      "53435 is polindrome\n",
      "53535 is polindrome\n",
      "54145 is polindrome\n",
      "54245 is polindrome\n",
      "54345 is polindrome\n",
      "54445 is polindrome\n",
      "54545 is polindrome\n",
      "55155 is polindrome\n",
      "55255 is polindrome\n",
      "55355 is polindrome\n",
      "55455 is polindrome\n",
      "55555 is polindrome\n"
     ]
    }
   ],
   "source": [
    "start=0\n",
    "end=3242415\n",
    "\n",
    "st=str(end)\n",
    "\n",
    "while start<=end:\n",
    "    n=start\n",
    "    temp=n\n",
    "    res=0\n",
    "    while n:\n",
    "        ld=n%10\n",
    "        res=(res*10)+ld\n",
    "        n=n//10\n",
    "    if res==temp:\n",
    "        c=0\n",
    "        for i in str(res):\n",
    "            if i not in st:\n",
    "                c=1\n",
    "        if c==0 and len(str(res))==5 :\n",
    "            print(f'{start} is polindrome')\n",
    "\n",
    "    \n",
    "    start+=1"
   ]
  }
 ],
 "metadata": {
  "kernelspec": {
   "display_name": "Python 3",
   "language": "python",
   "name": "python3"
  },
  "language_info": {
   "codemirror_mode": {
    "name": "ipython",
    "version": 3
   },
   "file_extension": ".py",
   "mimetype": "text/x-python",
   "name": "python",
   "nbconvert_exporter": "python",
   "pygments_lexer": "ipython3",
   "version": "3.10.7"
  },
  "orig_nbformat": 4
 },
 "nbformat": 4,
 "nbformat_minor": 2
}
