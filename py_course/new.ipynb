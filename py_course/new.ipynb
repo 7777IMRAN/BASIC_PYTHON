{
 "cells": [
  {
   "cell_type": "code",
   "execution_count": 1,
   "metadata": {},
   "outputs": [
    {
     "name": "stdout",
     "output_type": "stream",
     "text": [
      "0b1001\n",
      "ODD\n"
     ]
    }
   ],
   "source": [
    "#WAP to find the given number is even or odd\n",
    "# without using % \n",
    "number=9\n",
    "print(bin(number))\n",
    "if number&0:\n",
    "    print('EVEN')\n",
    "else:\n",
    "    print('ODD')"
   ]
  },
  {
   "cell_type": "code",
   "execution_count": 3,
   "metadata": {},
   "outputs": [
    {
     "data": {
      "text/plain": [
       "11"
      ]
     },
     "execution_count": 3,
     "metadata": {},
     "output_type": "execute_result"
    }
   ],
   "source": [
    "#wap to print nth prime number\n",
    "a=5\n",
    "def prim(num):\n",
    "    b=1\n",
    "    equ=0\n",
    "    while b:\n",
    "        # print(b)\n",
    "        n=b\n",
    "        m=1\n",
    "        count=0\n",
    "        while m<=n:\n",
    "            if n%m==0:\n",
    "                count+=1\n",
    "            m+=1\n",
    "        if count==2:\n",
    "            equ+=1\n",
    "        if equ==num:\n",
    "            break\n",
    "        b+=1\n",
    "    return b\n",
    "\n",
    "prim(a)"
   ]
  },
  {
   "cell_type": "code",
   "execution_count": 1,
   "metadata": {},
   "outputs": [
    {
     "name": "stdout",
     "output_type": "stream",
     "text": [
      "The 5th prime number is: 11\n"
     ]
    }
   ],
   "source": [
    "def is_prime(num): #chat GPT\n",
    "    if num < 2:\n",
    "        return False\n",
    "    for i in range(2, int(num**0.5) + 1):\n",
    "        if num % i == 0:\n",
    "            return False\n",
    "    return True\n",
    "\n",
    "def nth_prime(n):\n",
    "    count = 0\n",
    "    num = 2\n",
    "    while count < n:\n",
    "        if is_prime(num):\n",
    "            count += 1\n",
    "            if count == n:\n",
    "                return num\n",
    "        num += 1\n",
    "\n",
    "n = int(input(\"Enter the value of n: \"))\n",
    "print(f\"The {n}th prime number is: {nth_prime(n)}\")"
   ]
  }
 ],
 "metadata": {
  "kernelspec": {
   "display_name": "Python 3",
   "language": "python",
   "name": "python3"
  },
  "language_info": {
   "codemirror_mode": {
    "name": "ipython",
    "version": 3
   },
   "file_extension": ".py",
   "mimetype": "text/x-python",
   "name": "python",
   "nbconvert_exporter": "python",
   "pygments_lexer": "ipython3",
   "version": "3.10.7"
  },
  "orig_nbformat": 4
 },
 "nbformat": 4,
 "nbformat_minor": 2
}
