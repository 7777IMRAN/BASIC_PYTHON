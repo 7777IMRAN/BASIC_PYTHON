{
 "cells": [
  {
   "cell_type": "code",
   "execution_count": 1,
   "metadata": {},
   "outputs": [
    {
     "name": "stdout",
     "output_type": "stream",
     "text": [
      "0b1001\n",
      "ODD\n"
     ]
    }
   ],
   "source": [
    "#WAP to find the given number is even or odd\n",
    "# without using % \n",
    "number=9\n",
    "print(bin(number))\n",
    "if number&0:\n",
    "    print('EVEN')\n",
    "else:\n",
    "    print('ODD')"
   ]
  },
  {
   "cell_type": "code",
   "execution_count": 11,
   "metadata": {},
   "outputs": [
    {
     "name": "stdout",
     "output_type": "stream",
     "text": [
      "12\n"
     ]
    }
   ],
   "source": [
    "#wap to print nth prime number\n",
    "a=6\n",
    "def prime_num(num):\n",
    "    nprime=0\n",
    "    b=True\n",
    "    i=0\n",
    "    while b:\n",
    "        if i%2==0:\n",
    "            if num==nprime:\n",
    "                print(i)\n",
    "                break\n",
    "            nprime+=1\n",
    "        i+=1\n",
    "prime_num(a)"
   ]
  }
 ],
 "metadata": {
  "kernelspec": {
   "display_name": "Python 3",
   "language": "python",
   "name": "python3"
  },
  "language_info": {
   "codemirror_mode": {
    "name": "ipython",
    "version": 3
   },
   "file_extension": ".py",
   "mimetype": "text/x-python",
   "name": "python",
   "nbconvert_exporter": "python",
   "pygments_lexer": "ipython3",
   "version": "3.10.7"
  },
  "orig_nbformat": 4
 },
 "nbformat": 4,
 "nbformat_minor": 2
}
