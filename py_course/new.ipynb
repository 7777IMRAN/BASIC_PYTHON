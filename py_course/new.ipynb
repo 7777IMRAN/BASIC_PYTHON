{
 "cells": [
  {
   "cell_type": "code",
   "execution_count": 1,
   "metadata": {},
   "outputs": [
    {
     "name": "stdout",
     "output_type": "stream",
     "text": [
      "0b1001\n",
      "ODD\n"
     ]
    }
   ],
   "source": [
    "#WAP to find the given number is even or odd\n",
    "# without using % \n",
    "number=9\n",
    "print(bin(number))\n",
    "if number&0:\n",
    "    print('EVEN')\n",
    "else:\n",
    "    print('ODD')"
   ]
  },
  {
   "cell_type": "code",
   "execution_count": 3,
   "metadata": {},
   "outputs": [
    {
     "data": {
      "text/plain": [
       "11"
      ]
     },
     "execution_count": 3,
     "metadata": {},
     "output_type": "execute_result"
    }
   ],
   "source": [
    "#wap to print nth prime number\n",
    "a=5\n",
    "def prim(num):\n",
    "    b=1\n",
    "    equ=0\n",
    "    while b:\n",
    "        # print(b)\n",
    "        n=b\n",
    "        m=1\n",
    "        count=0\n",
    "        while m<=n:\n",
    "            if n%m==0:\n",
    "                count+=1\n",
    "            m+=1\n",
    "        if count==2:\n",
    "            equ+=1\n",
    "        if equ==num:\n",
    "            break\n",
    "        b+=1\n",
    "    return b\n",
    "\n",
    "prim(a)"
   ]
  },
  {
   "cell_type": "code",
   "execution_count": 1,
   "metadata": {},
   "outputs": [
    {
     "name": "stdout",
     "output_type": "stream",
     "text": [
      "The 5th prime number is: 11\n"
     ]
    }
   ],
   "source": [
    "def is_prime(num): #chat GPT\n",
    "    if num < 2:\n",
    "        return False\n",
    "    for i in range(2, int(num**0.5) + 1):\n",
    "        if num % i == 0:\n",
    "            return False\n",
    "    return True\n",
    "\n",
    "def nth_prime(n):\n",
    "    count = 0\n",
    "    num = 2\n",
    "    while count < n:\n",
    "        if is_prime(num):\n",
    "            count += 1\n",
    "            if count == n:\n",
    "                return num\n",
    "        num += 1\n",
    "\n",
    "n = int(input(\"Enter the value of n: \"))\n",
    "print(f\"The {n}th prime number is: {nth_prime(n)}\")"
   ]
  },
  {
   "cell_type": "code",
   "execution_count": 28,
   "metadata": {},
   "outputs": [
    {
     "name": "stdout",
     "output_type": "stream",
     "text": [
      "<__main__.new object at 0x000002C28740C790>\n",
      "<__main__.new object at 0x000002C2861DFF10>\n",
      "<__main__.new object at 0x000002C28740C790>\n",
      "-----------------------\n",
      "<__main__.new object at 0x000002C28740C790>\n",
      "<__main__.new object at 0x000002C2861DFF10>\n",
      "<__main__.new object at 0x000002C2861DFF70>\n"
     ]
    }
   ],
   "source": [
    "class new:\n",
    "    __a=20\n",
    "    __b=40\n",
    "    def __init__(self):\n",
    "        self.name='name'\n",
    "print(new())\n",
    "# print('sdf')\n",
    "print(new())\n",
    "# print('jlj')\n",
    "print(new())\n",
    "print('-----------------------')\n",
    "a=new()\n",
    "b=new()\n",
    "c=new()\n",
    "print(a)\n",
    "print(b)\n",
    "print(c)"
   ]
  },
  {
   "cell_type": "code",
   "execution_count": 12,
   "metadata": {},
   "outputs": [
    {
     "name": "stdout",
     "output_type": "stream",
     "text": [
      "0\n",
      "1\n",
      "1\n",
      "2\n",
      "3\n"
     ]
    }
   ],
   "source": [
    "def fib(n=0,a=0,b=1,sum=0,i=int(input('enter number'))):\n",
    "    if n<=1:\n",
    "        print(n)\n",
    "        fib(n+1,a,b,sum)\n",
    "    elif n==i:\n",
    "        return\n",
    "    else:\n",
    "        sum=a+b\n",
    "        print(sum)\n",
    "        a,b=b,sum\n",
    "        fib(n+1,a,b,sum)\n",
    "fib()"
   ]
  },
  {
   "cell_type": "code",
   "execution_count": 16,
   "metadata": {},
   "outputs": [
    {
     "name": "stdout",
     "output_type": "stream",
     "text": [
      "89\n",
      "{0: 1, 1: 1, 2: 2, 3: 3, 4: 5, 5: 8, 6: 13, 7: 21, 8: 34, 9: 55, 10: 89}\n"
     ]
    }
   ],
   "source": [
    "def fib(num,coll):\n",
    "    if num in coll:\n",
    "        return coll[num]\n",
    "    else:\n",
    "        coll[num]=fib(num-1,d)+fib(num-2,d)\n",
    "        return coll[num]\n",
    "d={0:1,1:1}\n",
    "print(fib(10,d))\n",
    "print(d)"
   ]
  },
  {
   "cell_type": "code",
   "execution_count": 26,
   "metadata": {},
   "outputs": [
    {
     "name": "stdout",
     "output_type": "stream",
     "text": [
      "a1+j1+a1+y1"
     ]
    }
   ],
   "source": [
    "# sr='HHOOCHH'\n",
    "sr='ajay'\n",
    "count=1\n",
    "for i in range(len(sr)):\n",
    "    if i<len(sr)-1 and sr[i]==sr[i+1]:\n",
    "        count+=1\n",
    "    else:\n",
    "        if i!=len(sr)-1:\n",
    "            print(f'{sr[i]}{count}+' , end='')\n",
    "            count=1\n",
    "        else:\n",
    "            print(f'{sr[i]}{count}' , end='')\n",
    "\n"
   ]
  },
  {
   "cell_type": "code",
   "execution_count": 3,
   "metadata": {},
   "outputs": [
    {
     "name": "stdout",
     "output_type": "stream",
     "text": [
      "3242415\n",
      "3\n"
     ]
    }
   ],
   "source": [
    "def max_toys_to_buy(s):\n",
    "    max_toys = 0\n",
    "\n",
    "    for i in range(len(s)):\n",
    "        for j in range(i, len(s)):\n",
    "            substring = s[i:j + 1]\n",
    "            if substring == substring[::-1]:\n",
    "                max_toys = max(max_toys, len(substring))\n",
    "\n",
    "    return max_toys\n",
    "\n",
    "# Reading input from the user\n",
    "input_string = input(\"Enter the string of integers: \")\n",
    "\n",
    "# Calculating and printing the maximum number of toys Robert has to buy for Charlie\n",
    "result = max_toys_to_buy(input_string)\n",
    "print(input_string)\n",
    "print(result)"
   ]
  },
  {
   "cell_type": "code",
   "execution_count": 4,
   "metadata": {},
   "outputs": [
    {
     "name": "stdout",
     "output_type": "stream",
     "text": [
      "3\n"
     ]
    }
   ],
   "source": [
    "def max_toys_to_buy(s):\n",
    "    max_toys = 0\n",
    "\n",
    "    for i in range(len(s)):\n",
    "        # Check for odd-length palindromes centered at i\n",
    "        left, right = i, i\n",
    "        while left >= 0 and right < len(s) and s[left] == s[right]:\n",
    "            max_toys = max(max_toys, right - left + 1)\n",
    "            left -= 1\n",
    "            right += 1\n",
    "\n",
    "        # Check for even-length palindromes centered between i and i+1\n",
    "        left, right = i, i + 1\n",
    "        while left >= 0 and right < len(s) and s[left] == s[right]:\n",
    "            max_toys = max(max_toys, right - left + 1)\n",
    "            left -= 1\n",
    "            right += 1\n",
    "\n",
    "    return max_toys\n",
    "\n",
    "# Read input from the user\n",
    "s = input().strip()\n",
    "\n",
    "# Calculate the maximum number of toys\n",
    "result = max_toys_to_buy(s)\n",
    "\n",
    "# Print the result\n",
    "print(result)"
   ]
  },
  {
   "cell_type": "markdown",
   "metadata": {},
   "source": [
    "Charlie and his father Robert visited a toy store. Charlie asked his father to buy some toys for him.\n",
    "\n",
    "Robert came up with a small activity to test his son's logical ability. He arranges toys in a specific order and asks Charlie to select any number of toys that are adjacent to each other to meet the below condition,\n",
    "\n",
    "• It should be possible to arrange selected toys in an order that follows the same pattern from left to right and right to left.\n",
    "\n",
    "For example, if the order of the toys is 7121928 (each digit\n",
    "\n",
    "indicates a toy), the maximum adjacent toys that can be selected are\n",
    "\n",
    "12192, because it is possible to arrange the selected toys as\n",
    "\n",
    "12921 or 21912 that follows the same pattern from left to\n",
    "\n",
    "right and right to left.\n",
    "\n",
    "Robert promises Charlie that if he selects any number of toys following the above condition, he will buy all of those selected toys. Charlie is so excited and wants to select the maximum number of\n",
    "\n",
    "toys.\n",
    "\n",
    "Your task is to find the maximum number of toys Robert has to buy for Charlie.\n",
    "\n",
    "Write a program that reads a string S containing integers and prints the maximum number of toys Robert has to buy for Charlie.\n",
    "The output should be a single line containing an integer that is th maximum number of toys Robert has to buy for Charlie.\n",
    "\n",
    "Explanation\n",
    "\n",
    "For example, if the given string.        S = 51224,\n",
    "\n",
    "• Charlie can select the toys 122, as it is possible to arrange them as 212 that follows the same pattern from left to righ and right to left.\n",
    "\n",
    "• Charlie can select the toys 224, as it is possible to arrange\n",
    "\n",
    "them as 242 that follows the same pattern from left to righ\n",
    "\n",
    "and right to left.\n",
    "\n",
    "• In both cases, the maximum number of toys that Robert has to buy for Charlie is 3.\n",
    "\n",
    "The output should be 3.\n",
    "\n",
    "Sample Input 1\n",
    "\n",
    "51224\n",
    "\n",
    "Sample Output 1\n",
    "\n",
    "3"
   ]
  },
  {
   "cell_type": "code",
   "execution_count": 10,
   "metadata": {},
   "outputs": [
    {
     "name": "stdout",
     "output_type": "stream",
     "text": [
      "5\n"
     ]
    }
   ],
   "source": [
    "toys='3242415'\n",
    "def bey(coll):\n",
    "    if len(coll)==0:\n",
    "        return 0\n",
    "    elif len(coll)==1:\n",
    "        return 1\n",
    "    else:\n",
    "        uni={}\n",
    "        for i in coll:\n",
    "            if i not in uni:\n",
    "                uni[i]=1\n",
    "            else:\n",
    "                uni[i]+=1\n",
    "        # print(uni)\n",
    "        count=1\n",
    "        for i in uni:\n",
    "            if uni[i]%2==0 :\n",
    "                count+=uni[i]\n",
    "            elif uni[i]>1:\n",
    "                count+=uni[i]-1\n",
    "        return count\n",
    "max_toys_to_buy=bey(toys)\n",
    "print(max_toys_to_buy)\n",
    "    \n",
    "    "
   ]
  },
  {
   "cell_type": "code",
   "execution_count": 6,
   "metadata": {},
   "outputs": [
    {
     "name": "stdout",
     "output_type": "stream",
     "text": [
      "3\n",
      "{10: 4, 20: 3, 30: 1, 50: 1}\n"
     ]
    }
   ],
   "source": [
    "arr=[10,20,20,10,10,30,50,10,20]\n",
    "d={}\n",
    "for i in arr:\n",
    "    if i not in d:\n",
    "        d[i]=1\n",
    "    else:\n",
    "        d[i]+=1\n",
    "pair=0\n",
    "for i in d:\n",
    "    if d[i]%2==0:\n",
    "        pair+=d[i]//2\n",
    "    else:\n",
    "        pair+=(d[i]-1)//2\n",
    "print(pair)\n",
    "print(d)\n"
   ]
  },
  {
   "cell_type": "code",
   "execution_count": 12,
   "metadata": {},
   "outputs": [
    {
     "name": "stdout",
     "output_type": "stream",
     "text": [
      "2 4\n"
     ]
    }
   ],
   "source": [
    "li=[3,4,21,36,10,28,35,24,42]\n",
    "li=[10,5,20,20,4,5,2,25,1]\n",
    "min,max=li[0],li[0]\n",
    "lb=0;mb=0\n",
    "for i in li:\n",
    "    if i>max:\n",
    "        mb+=1\n",
    "        max=i\n",
    "    elif i<min:\n",
    "        lb+=1\n",
    "        min=i\n",
    "print(mb,lb)"
   ]
  },
  {
   "cell_type": "code",
   "execution_count": 8,
   "metadata": {},
   "outputs": [
    {
     "data": {
      "text/plain": [
       "[1, 2, 3, 4, 6, 9, 12, 18, 36]"
      ]
     },
     "execution_count": 8,
     "metadata": {},
     "output_type": "execute_result"
    }
   ],
   "source": [
    "#find factors\n",
    "import math\n",
    "def print_factors(n):\n",
    "    factors=[]\n",
    "    for i in range(1,int(math.sqrt(n))+1):\n",
    "        if n%i==0:\n",
    "            factors.append(i)\n",
    "            if n/i!=i:\n",
    "                factors.append(int(n/i))\n",
    "    # print(factors)\n",
    "    return factors\n",
    "num=36\n",
    "sorted(print_factors(num))"
   ]
  }
 ],
 "metadata": {
  "kernelspec": {
   "display_name": "Python 3",
   "language": "python",
   "name": "python3"
  },
  "language_info": {
   "codemirror_mode": {
    "name": "ipython",
    "version": 3
   },
   "file_extension": ".py",
   "mimetype": "text/x-python",
   "name": "python",
   "nbconvert_exporter": "python",
   "pygments_lexer": "ipython3",
   "version": "3.10.7"
  },
  "orig_nbformat": 4
 },
 "nbformat": 4,
 "nbformat_minor": 2
}
