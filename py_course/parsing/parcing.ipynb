{
 "cells": [
  {
   "cell_type": "markdown",
   "metadata": {},
   "source": []
  },
  {
   "cell_type": "markdown",
   "metadata": {},
   "source": [
    "examples of parcing techniques:\n",
    "1.JSON\n",
    "2.pickle(pickling)\n",
    "3.XML\n",
    "4.YACC"
   ]
  },
  {
   "cell_type": "markdown",
   "metadata": {},
   "source": [
    "JSON parcing technique:(javascript object rotation language)\n",
    "1.json is a one intermidiate programing language in between two programing languages. this language have unique data formate(unique data types)\n",
    "2. this language is easily converted to any programing language\n",
    "3. if we want to communicate one language(application) to another language(application) definetely we have to use JSON language\n",
    "4. to perform the PARCING technique in json/python we have to we have to use two concepts\n",
    "    1.serialization\n",
    "    2.deserialization\n",
    "1.Serialization: \n",
    "    1.Its a phonomenon of converting one programing language Native data to JSON data we call it as serialization\n",
    "    2.to perform serialization we have to use two functions \n",
    "        1.dump \n",
    "        2.dumps\n",
    "\n",
    "2.Deserialization:\n",
    "    1.Its a phonomenon of converting json language to one perticular programing language Native data\n",
    "    2. to perform deserialization we have to use two functions\n",
    "        1.load\n",
    "        2.loads\n"
   ]
  },
  {
   "cell_type": "code",
   "execution_count": 5,
   "metadata": {},
   "outputs": [
    {
     "name": "stdout",
     "output_type": "stream",
     "text": [
      "{10: 50.07, True: None, 'hai': [10, 20, 40], 'abc': (20, 40, 20), 'xyz': 143, 80: {'a': 'hello'}, False: True}\n"
     ]
    }
   ],
   "source": [
    "#SERIALIZATION\n",
    "'''\n",
    "dumps():\n",
    "1.its predifined function it used to convert native data to json data and returns json data\n",
    "2. it will accept native data and it returns json data\n",
    "\n",
    "'''\n",
    "d={10:50.07,True:None,'hai':[10,20,40],'abc':(20,40,20),'xyz':143,80:{'a':'hello'},False:True}\n",
    "print(d)"
   ]
  },
  {
   "cell_type": "code",
   "execution_count": 4,
   "metadata": {},
   "outputs": [
    {
     "name": "stdout",
     "output_type": "stream",
     "text": [
      "<class 'dict'> {10: 50.07, True: None, 'hai': [10, 20, 40], 'abc': (20, 40, 20), 'xyz': 143, 80: {'a': 'hello'}, False: True}\n",
      "<class 'str'> {\"10\": 50.07, \"true\": null, \"hai\": [10, 20, 40], \"abc\": [20, 40, 20], \"xyz\": 143, \"80\": {\"a\": \"hello\"}, \"false\": true}\n"
     ]
    }
   ],
   "source": [
    "import json\n",
    "d={10:50.07,True:None,'hai':[10,20,40],'abc':(20,40,20),'xyz':143,80:{'a':'hello'},False:True}\n",
    "print(type(d),d)\n",
    "res=json.dumps(d)\n",
    "print(type(res),res)\n",
    "# Note:\n",
    "# 1.TypeError: keys must be str, int, float, bool or None, not complex,bytes,tuple,list,set,dict\n",
    "#2.TypeError:Object of type complex or bytes or set is not json serializable\n",
    "# in json all the keys should be string format"
   ]
  },
  {
   "cell_type": "code",
   "execution_count": 6,
   "metadata": {},
   "outputs": [
    {
     "name": "stdout",
     "output_type": "stream",
     "text": [
      "<class 'dict'> {10: 50.07, True: None, 'hai': [10, 20, 40], 'abc': (20, 40, 20), 'xyz': 143, 80: {'a': 'hello'}, False: True}\n",
      "<class 'str'> {\"10\": 50.07, \"true\": null, \"hai\": [10, 20, 40], \"abc\": [20, 40, 20], \"xyz\": 143, \"80\": {\"a\": \"hello\"}, \"false\": true}\n"
     ]
    }
   ],
   "source": [
    "import json\n",
    "d={10:50.07,True:None,'hai':[10,20,40],'abc':(20,40,20),'xyz':143,80:{'a':'hello'},False:True}\n",
    "print(type(d),d)\n",
    "res=json.dumps(d)\n",
    "print(type(res),res)\n",
    "\n",
    "fp=open('file1.json','w')   #open file\n",
    "fp.write(res)   #write the json data\n",
    "fp.close()"
   ]
  },
  {
   "cell_type": "code",
   "execution_count": 1,
   "metadata": {},
   "outputs": [
    {
     "name": "stdout",
     "output_type": "stream",
     "text": [
      "<class 'dict'> {10: 50.07, True: None, 'hai': [10, 20, 40], 'abc': (20, 40, 20), 'xyz': 143, 80: {'a': 'hello'}, False: True}\n",
      "None\n"
     ]
    }
   ],
   "source": [
    "#dump():\n",
    "# it will accept native data and file pointer address\n",
    "# its used to convert native data to json data and\n",
    "# it will store the json data inside the file\n",
    "# it will return None value.\n",
    "# syntax: dump(object,filepointer)\n",
    "\n",
    "import json\n",
    "d={10:50.07,True:None,'hai':[10,20,40],'abc':(20,40,20),'xyz':143,80:{'a':'hello'},False:True}\n",
    "print(type(d),d)\n",
    "\n",
    "fp=open('file2.json','w')   #open file\n",
    "res=json.dump(d,fp)\n",
    "print(res)\n",
    "fp.close()"
   ]
  },
  {
   "cell_type": "markdown",
   "metadata": {},
   "source": [
    "DESERIALIZATION\n",
    "loads():\n",
    "1. its a predifined function it is used to convert json data to native data\n",
    "2. it will accept json data and it will convert json data to native data and it return native data\n",
    "3. syntax:  loads(json data)"
   ]
  },
  {
   "cell_type": "code",
   "execution_count": 2,
   "metadata": {},
   "outputs": [
    {
     "name": "stdout",
     "output_type": "stream",
     "text": [
      "<class 'dict'> {10: 50.07, True: None, 'hai': [10, 20, 40], 'abc': (20, 40, 20), 'xyz': 143, 80: {'a': 'hello'}, False: True}\n",
      "<class 'str'> {\"10\": 50.07, \"true\": null, \"hai\": [10, 20, 40], \"abc\": [20, 40, 20], \"xyz\": 143, \"80\": {\"a\": \"hello\"}, \"false\": true}\n",
      "******************************\n",
      "<class 'str'> {\"10\": 50.07, \"true\": null, \"hai\": [10, 20, 40], \"abc\": [20, 40, 20], \"xyz\": 143, \"80\": {\"a\": \"hello\"}, \"false\": true}\n",
      "<class 'dict'> {'10': 50.07, 'true': None, 'hai': [10, 20, 40], 'abc': [20, 40, 20], 'xyz': 143, '80': {'a': 'hello'}, 'false': True}\n"
     ]
    }
   ],
   "source": [
    "import json\n",
    "d={10:50.07,True:None,'hai':[10,20,40],'abc':(20,40,20),'xyz':143,80:{'a':'hello'},False:True}\n",
    "print(type(d),d)\n",
    "res=json.dumps(d)\n",
    "print(type(res),res)\n",
    "\n",
    "print('*'*30)\n",
    "\n",
    "print(type(res),res)\n",
    "temp=json.loads(res)\n",
    "print(type(temp),temp)\n"
   ]
  },
  {
   "cell_type": "code",
   "execution_count": 6,
   "metadata": {},
   "outputs": [
    {
     "name": "stdout",
     "output_type": "stream",
     "text": [
      "{'10': 50.07, 'true': None, 'hai': [10, 20, 40], 'abc': [20, 40, 20], 'xyz': 143, '80': {'a': 'hello'}, 'false': True}\n"
     ]
    }
   ],
   "source": [
    "#extract from json file\n",
    "\n",
    "fp=open('file1.json','r')\n",
    "data=fp.read()\n",
    "res=json.loads(data)\n",
    "print(res)\n",
    "fp.close()"
   ]
  },
  {
   "cell_type": "markdown",
   "metadata": {},
   "source": [
    "load():\n",
    "1. its a predifined function it is used to convert json data to native data store the python data inside the file"
   ]
  },
  {
   "cell_type": "code",
   "execution_count": 7,
   "metadata": {},
   "outputs": [
    {
     "name": "stdout",
     "output_type": "stream",
     "text": [
      "<class 'dict'> {'10': 50.07, 'true': None, 'hai': [10, 20, 40], 'abc': [20, 40, 20], 'xyz': 143, '80': {'a': 'hello'}, 'false': True}\n"
     ]
    }
   ],
   "source": [
    "#load():\n",
    "# it will accept file pointer address\n",
    "# it will extract the json data from the file\n",
    "# it will convert json data to native data\n",
    "# it will return python data\n",
    "# syntax:   load(filepointer)\n",
    "\n",
    "import json\n",
    "fp=open('file2.json','r')\n",
    "res=json.load(fp)\n",
    "print(type(res),res)\n",
    "fp.close()"
   ]
  }
 ],
 "metadata": {
  "kernelspec": {
   "display_name": "Python 3",
   "language": "python",
   "name": "python3"
  },
  "language_info": {
   "codemirror_mode": {
    "name": "ipython",
    "version": 3
   },
   "file_extension": ".py",
   "mimetype": "text/x-python",
   "name": "python",
   "nbconvert_exporter": "python",
   "pygments_lexer": "ipython3",
   "version": "3.10.7"
  }
 },
 "nbformat": 4,
 "nbformat_minor": 2
}
