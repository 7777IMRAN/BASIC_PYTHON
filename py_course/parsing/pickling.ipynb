{
 "cells": [
  {
   "cell_type": "code",
   "execution_count": null,
   "metadata": {},
   "outputs": [],
   "source": []
  },
  {
   "cell_type": "markdown",
   "metadata": {},
   "source": [
    "1.its a phenomemon of translating the one language native data to binary data\n",
    "2. to perform parsing technique in pickling we have to use two concepts\n",
    "    1.pickling (encription)\n",
    "    2.unpickling (decription)\n",
    "\n",
    "1.pickling:\n",
    "    1.its a phenomenon of converting python native data(native objects) binary objects/data\n",
    "    2. to perform we have to use \n",
    "        1.dump()\n",
    "        2.dumps()\n",
    "2.unpickling:\n",
    "    1.its a phenomenon of converting binary data to python native data\n",
    "    2. to perform unpickling two functions\n",
    "        1.load()\n",
    "        2.loads()"
   ]
  },
  {
   "cell_type": "markdown",
   "metadata": {},
   "source": [
    "1.dumps()\n",
    "    1. it will accept python data and it will convert python data to binary data \n",
    "    2. it returns binary data\n",
    "    syntax: pickle.dumps(python data)\n",
    "2.dump()\n",
    "    1. it will accept python data and file pointer address \n",
    "    2. it will convert python data to binary data and \n",
    "    3. it will store the binary data inside the file\n",
    "    syntax: pickle.dump(pyhton data,filepointer)"
   ]
  },
  {
   "cell_type": "markdown",
   "metadata": {},
   "source": [
    "1.loads()\n",
    "    1. it will accept binary data and it will convert binary data to python data \n",
    "    2. it returns -- \n",
    "    3. syntax:  pickle.loads(filepointer)\n",
    "2.load()\n",
    "    1. it will accept file pointer address and \n",
    "    2. it will fetch binary data from file and it convert binary data to python data and it return pyhton data\n",
    "    3. syntax:  pickle.load(filepointer)"
   ]
  },
  {
   "cell_type": "code",
   "execution_count": 4,
   "metadata": {},
   "outputs": [
    {
     "name": "stdout",
     "output_type": "stream",
     "text": [
      "<class 'list'> [10, 30.49, 49]\n",
      "b'\\x80\\x04\\x95\\x12\\x00\\x00\\x00\\x00\\x00\\x00\\x00]\\x94(K\\nG@>}p\\xa3\\xd7\\n=K1e.'\n",
      "************************************************************\n",
      "<class 'bytes'> b'\\x80\\x04\\x95\\x12\\x00\\x00\\x00\\x00\\x00\\x00\\x00]\\x94(K\\nG@>}p\\xa3\\xd7\\n=K1e.'\n",
      "<class 'list'> [10, 30.49, 49]\n"
     ]
    }
   ],
   "source": [
    "import pickle\n",
    "# st='good afternoon'\n",
    "#pickling\n",
    "st=[10,30.49,49]\n",
    "print(type(st),st)\n",
    "res=pickle.dumps(st) #it will return binary data\n",
    "print(res)\n",
    "print('*'*60)\n",
    "\n",
    "#unpickling\n",
    "print(type(res),res)\n",
    "temp=pickle.loads(res)   #it will convert binary data to python data\n",
    "print(type(temp),temp)"
   ]
  },
  {
   "cell_type": "code",
   "execution_count": 5,
   "metadata": {},
   "outputs": [
    {
     "name": "stdout",
     "output_type": "stream",
     "text": [
      "<class 'list'> [10, 30.49, 49]\n",
      "************************************************************\n",
      "<class 'list'> [10, 30.49, 49]\n"
     ]
    }
   ],
   "source": [
    "import pickle\n",
    "#pickling\n",
    "# st='good afternoon'\n",
    "st=[10,30.49,49]\n",
    "print(type(st),st)\n",
    "res=pickle.dumps(st) #it will return binary data\n",
    "fp=open('file3.pkl','wb')\n",
    "fp.write(res)\n",
    "fp.close()\n",
    "\n",
    "print('*'*60)\n",
    "#unpickling\n",
    "fp=open('file3.pkl','rb')\n",
    "temp=fp.read() #fetch\n",
    "res=pickle.loads(temp)    #convert\n",
    "print(type(res),res)"
   ]
  },
  {
   "cell_type": "code",
   "execution_count": 6,
   "metadata": {},
   "outputs": [],
   "source": [
    "import pickle\n",
    "st={10:50.07,True:None,'hai':[10,20,40],'abc':(20,40,20),'xyz':143,80:{'a':'hello'},False:True}\n",
    "fp=open('file4.pkl','wb')\n",
    "pickle.dump(st,fp)  #convert and storing\n",
    "fp.close()"
   ]
  },
  {
   "cell_type": "code",
   "execution_count": 7,
   "metadata": {},
   "outputs": [
    {
     "name": "stdout",
     "output_type": "stream",
     "text": [
      "{10: 50.07, True: None, 'hai': [10, 20, 40], 'abc': (20, 40, 20), 'xyz': 143, 80: {'a': 'hello'}, False: True}\n"
     ]
    }
   ],
   "source": [
    "fp=open('file4.pkl','rb')\n",
    "res=pickle.load(fp) #fetch and convert\n",
    "print(res)\n",
    "fp.close()"
   ]
  }
 ],
 "metadata": {
  "kernelspec": {
   "display_name": "Python 3",
   "language": "python",
   "name": "python3"
  },
  "language_info": {
   "codemirror_mode": {
    "name": "ipython",
    "version": 3
   },
   "file_extension": ".py",
   "mimetype": "text/x-python",
   "name": "python",
   "nbconvert_exporter": "python",
   "pygments_lexer": "ipython3",
   "version": "3.10.7"
  }
 },
 "nbformat": 4,
 "nbformat_minor": 2
}
