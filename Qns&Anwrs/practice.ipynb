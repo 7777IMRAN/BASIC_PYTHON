{
 "cells": [
  {
   "cell_type": "code",
   "execution_count": 64,
   "metadata": {},
   "outputs": [
    {
     "name": "stdout",
     "output_type": "stream",
     "text": [
      "helloworld\n"
     ]
    }
   ],
   "source": [
    "#wap to print 'helloworld\n",
    "print('helloworld')\n"
   ]
  },
  {
   "cell_type": "code",
   "execution_count": 65,
   "metadata": {},
   "outputs": [
    {
     "name": "stdout",
     "output_type": "stream",
     "text": [
      "20 [20, 40, 50] {'str', 23} 77.77j\n",
      "<class 'int'>\n",
      "<class 'list'>\n",
      "<class 'set'>\n",
      "<class 'complex'>\n"
     ]
    }
   ],
   "source": [
    "#wap to print multi variable syntax and type of variable\n",
    "a,b,c,d=20,[20,40,50],{23,'str'},77.77j\n",
    "print(a,b,c,d)\n",
    "#type of data\n",
    "print(type(a))\n",
    "print(type(b))\n",
    "print(type(c))\n",
    "print(type(d))"
   ]
  },
  {
   "cell_type": "code",
   "execution_count": 66,
   "metadata": {},
   "outputs": [
    {
     "name": "stdout",
     "output_type": "stream",
     "text": [
      "hello\n",
      "haii\n",
      "haii hello\n",
      "[20, 40]\n",
      "[70, 80]\n",
      "m is: [70, 80] n is: [20, 40]\n"
     ]
    }
   ],
   "source": [
    "#wap to swap to values with  temp variable\n",
    "a='hello'\n",
    "print(a)\n",
    "b='haii'\n",
    "print(b)\n",
    "temp =a\n",
    "a=b\n",
    "b=temp\n",
    "print(a,b)\n",
    "# without temp variable\n",
    "m=[20,40]\n",
    "print(m)\n",
    "n=[70,80]\n",
    "print(n)\n",
    "m,n=n,m\n",
    "print('m is:',m,'n is:',n)"
   ]
  },
  {
   "cell_type": "code",
   "execution_count": 8,
   "metadata": {},
   "outputs": [
    {
     "name": "stdout",
     "output_type": "stream",
     "text": [
      "20\n",
      "['2', '0']\n",
      "20\n"
     ]
    }
   ],
   "source": [
    "#wap to convert single value to multi value datatype\n",
    "#i/p a=20 , o/p a=['2','0']\n",
    "a=20\n",
    "a=str(a)\n",
    "print(a)\n",
    "print(list(a))\n",
    "print(str(a))"
   ]
  },
  {
   "cell_type": "code",
   "execution_count": 68,
   "metadata": {},
   "outputs": [
    {
     "name": "stdout",
     "output_type": "stream",
     "text": [
      "helloworld\n",
      "[10, 30, 20, 40, 90, 900]\n",
      "(20, 44, 22, 222, 333)\n",
      "{'10': 20, 30: 'str', 'a': 33}\n"
     ]
    }
   ],
   "source": [
    "#to concate multi value datatype\n",
    "a='hello'\n",
    "a+='world'\n",
    "print(a)\n",
    "b=[10,30,20,40]\n",
    "b+=(90,900)\n",
    "print(b)\n",
    "l=(20,44,22);l=l+(222,333)\n",
    "print(l)\n",
    "x={'10':20,30:'str',}\n",
    "x|={'a':33}\n",
    "print(x)\n"
   ]
  },
  {
   "cell_type": "code",
   "execution_count": 69,
   "metadata": {},
   "outputs": [
    {
     "name": "stdout",
     "output_type": "stream",
     "text": [
      "444\n",
      "starthings\n",
      "start at middle of ings\n"
     ]
    }
   ],
   "source": [
    "#wap to find middle value of the given collection\n",
    "d=[999,333,444,222,777]\n",
    "print(d[len(d)//2])\n",
    "#wap to concate new string into middle of the existing string\n",
    "var='starthings'\n",
    "print(var)\n",
    "var=var[0:len(var)//2]+' at middle of '+var[(len(var)//2)+1:]\n",
    "print(var)"
   ]
  },
  {
   "cell_type": "code",
   "execution_count": 70,
   "metadata": {},
   "outputs": [
    {
     "name": "stdout",
     "output_type": "stream",
     "text": [
      "['a', 'b', 'c', 20, 30, 40]\n",
      "('a', 'b', 'c', 20, 30, 40, 20, 30, 40)\n"
     ]
    }
   ],
   "source": [
    "#wap to concate list and tuple values by using type_casting\n",
    "l=['a','b','c']\n",
    "t=(20,30,40)\n",
    "l=l+list(t) # or l+=t we get same address\n",
    "t=tuple(l)+t # or t+=tuple(l) we get deff address eventhough we use += operator. because tuple is immutable.\n",
    "\n",
    "\n",
    "print(l)\n",
    "print(t)"
   ]
  },
  {
   "cell_type": "code",
   "execution_count": 71,
   "metadata": {},
   "outputs": [
    {
     "name": "stdout",
     "output_type": "stream",
     "text": [
      "False\n",
      "True\n",
      "False\n",
      "True\n",
      "9\n",
      "False\n"
     ]
    }
   ],
   "source": [
    "#to check the given number is divisible by 3\n",
    "a=323;b=30\n",
    "print(a%3==0); print(b%3==0)\n",
    "#to check the given number is divisible by 2 and 6\n",
    "print(a%2==0 and a%6==0);print(b%2==0 and b%6==0)\n",
    "# to extract the last digit from the given number without typecasting\n",
    "n=1999\n",
    "print(n%10)\n",
    "# to check the last digit is divisible by 3 from the given integer number without typecasting\n",
    "s=7777\n",
    "print((s%10)%3==0)"
   ]
  },
  {
   "cell_type": "code",
   "execution_count": 72,
   "metadata": {},
   "outputs": [
    {
     "name": "stdout",
     "output_type": "stream",
     "text": [
      "4\n",
      "False\n"
     ]
    }
   ],
   "source": [
    "# wap to extract last digit from a given number using type casting\n",
    "a=23454\n",
    "print(str(a)[-1])\n",
    "\n",
    "'''wap to check the given number is divisible by 3 using type casting  '''\n",
    "n=2026\n",
    "print(int(str(n))%3==0)"
   ]
  },
  {
   "cell_type": "code",
   "execution_count": 10,
   "metadata": {},
   "outputs": [
    {
     "name": "stdout",
     "output_type": "stream",
     "text": [
      "True\n",
      "even\n",
      "odd\n",
      "True\n"
     ]
    }
   ],
   "source": [
    "#wap to check the given number is greater than 150\n",
    "a=336\n",
    "print(a>150)\n",
    "# 60: wap to check the given number is even\n",
    "print(('even','not even')[(a%2!=0)])\n",
    "#61: wap to check the given number is odd\n",
    "b=47\n",
    "print(('odd','even')[(b%2==0)])\n",
    "#59:to check the number is greater than 15 and less than 24\n",
    "e=20\n",
    "print(e>15 and e<24)\n"
   ]
  },
  {
   "cell_type": "markdown",
   "metadata": {},
   "source": [
    "range:-\n",
    "in between :- start < value and value < end\n",
    "\n",
    "between    :- start <= value and value <= end\n",
    "\n",
    "range      :- start <= value and value <= end\n",
    "\n"
   ]
  },
  {
   "cell_type": "code",
   "execution_count": 74,
   "metadata": {},
   "outputs": [
    {
     "name": "stdout",
     "output_type": "stream",
     "text": [
      "123123123123123123\n",
      "(20, 30, 20, 30, 20, 30, 20, 30, 20, 30, 20, 30)\n"
     ]
    },
    {
     "ename": "TypeError",
     "evalue": "unsupported operand type(s) for *: 'set' and 'int'",
     "output_type": "error",
     "traceback": [
      "\u001b[1;31m---------------------------------------------------------------------------\u001b[0m",
      "\u001b[1;31mTypeError\u001b[0m                                 Traceback (most recent call last)",
      "Cell \u001b[1;32mIn[74], line 5\u001b[0m\n\u001b[0;32m      3\u001b[0m \u001b[39mprint\u001b[39m(s\u001b[39m*\u001b[39m\u001b[39m6\u001b[39m)\n\u001b[0;32m      4\u001b[0m \u001b[39mprint\u001b[39m(a\u001b[39m*\u001b[39m\u001b[39m6\u001b[39m)\n\u001b[1;32m----> 5\u001b[0m \u001b[39mprint\u001b[39m(b\u001b[39m*\u001b[39;49m\u001b[39m6\u001b[39;49m)\n\u001b[0;32m      6\u001b[0m \u001b[39mprint\u001b[39m(c\u001b[39m*\u001b[39m\u001b[39m6\u001b[39m)\n\u001b[0;32m      7\u001b[0m \u001b[39m# unsuported operand * for set and dict\u001b[39;00m\n",
      "\u001b[1;31mTypeError\u001b[0m: unsupported operand type(s) for *: 'set' and 'int'"
     ]
    }
   ],
   "source": [
    "#62: to check replication of a given string with 6\n",
    "s='123';a=(20,30);b={10,20};c={10:20}\n",
    "print(s*6)\n",
    "print(a*6)\n",
    "print(b*6)\n",
    "print(c*6)\n",
    "# unsuported operand * for set and dict\n"
   ]
  },
  {
   "cell_type": "code",
   "execution_count": null,
   "metadata": {},
   "outputs": [
    {
     "name": "stdout",
     "output_type": "stream",
     "text": [
      "True\n",
      "False\n",
      "10\n",
      "even\n"
     ]
    }
   ],
   "source": [
    "# to check the given number is divisible by 3 and also should be greater than 22\n",
    "a=333;b=18\n",
    "print(a%3==0 and a>22)\n",
    "print(b%3==0 and b>22)\n",
    "# to check the length of the collection is even or not\n",
    "g='imran khan'\n",
    "print(len(g))\n",
    "print(('not even','even')[len(g)%2==0])"
   ]
  },
  {
   "cell_type": "code",
   "execution_count": null,
   "metadata": {},
   "outputs": [
    {
     "name": "stdout",
     "output_type": "stream",
     "text": [
      "True\n",
      "True\n"
     ]
    }
   ],
   "source": [
    "#to check the length of the collection is less than 55 and greater than 16\n",
    "a='abcdefghijklmnopqrsturwxyz'\n",
    "print(len(a)>16 and len(a)<55)\n",
    "# or\n",
    "print(16<len(a)<55)"
   ]
  },
  {
   "cell_type": "code",
   "execution_count": null,
   "metadata": {},
   "outputs": [
    {
     "name": "stdout",
     "output_type": "stream",
     "text": [
      "<class 'tuple'>\n",
      "True\n"
     ]
    }
   ],
   "source": [
    "# find the type of data by extracting the middle position of the collection. either 'str','list','tuple'ArithmeticError\n",
    "a=[10,('a','b'),[10,20]]\n",
    "print(type(a[len(a)//2]))\n",
    "c=type(a[len(a)//2])\n",
    "print(c in( str,list,tuple))"
   ]
  },
  {
   "cell_type": "code",
   "execution_count": 22,
   "metadata": {},
   "outputs": [
    {
     "name": "stdout",
     "output_type": "stream",
     "text": [
      "True\n",
      "False\n",
      "True\n",
      "True\n",
      "True\n"
     ]
    }
   ],
   "source": [
    "#68: to check the number is greater than 20 and less than 30 and it should be even\n",
    "a=24\n",
    "b=27\n",
    "print(a>20 and a<30 and a%2==0) #OR\n",
    "print(20<b<30 and b%2==0)\n",
    "#69: to check the number is even and it should be less than 120\n",
    "x=100\n",
    "print(x%2==0 and x<120)\n",
    "#70: to check the number is even and present in 40 to 70\n",
    "y=50\n",
    "print(y%2==0 and  (y>=40 and y<=70))\n",
    "# or \n",
    "print(y%2==0 and y in range(40,70))\n",
    "#71: to check the number is odd and it should be greater than 9\n",
    "a=77\n",
    "print(a%2!=0 and a>9)\n"
   ]
  },
  {
   "cell_type": "code",
   "execution_count": 3,
   "metadata": {},
   "outputs": [
    {
     "name": "stdout",
     "output_type": "stream",
     "text": [
      "True\n",
      "False\n"
     ]
    }
   ],
   "source": [
    "#72: to check the number is less than 122 and greater than 48 and the number should be divisible by 4\n",
    "a=120\n",
    "print(a in range(48,122) and a%4==0)\n"
   ]
  },
  {
   "cell_type": "code",
   "execution_count": 24,
   "metadata": {},
   "outputs": [
    {
     "name": "stdout",
     "output_type": "stream",
     "text": [
      "20\n"
     ]
    }
   ],
   "source": [
    "#73: to check the number is divisible by 3 or 5,display the value\n",
    "a=20\n",
    "if (a%3==0 or a%5==0):\n",
    "    print(a)\n",
    "else:\n",
    "    print('number is not divisible by 3 or 5 ')"
   ]
  },
  {
   "cell_type": "code",
   "execution_count": 5,
   "metadata": {},
   "outputs": [
    {
     "name": "stdout",
     "output_type": "stream",
     "text": [
      "True\n",
      "True\n"
     ]
    }
   ],
   "source": [
    "#74/75: to check the number is between 100 to 200 including the limit\n",
    "a=100\n",
    "print(a in range (100,200))\n",
    "print(a>=100 and a<=200)"
   ]
  },
  {
   "cell_type": "code",
   "execution_count": 7,
   "metadata": {},
   "outputs": [
    {
     "name": "stdout",
     "output_type": "stream",
     "text": [
      "True\n"
     ]
    }
   ],
   "source": [
    "#74: to check the number is between 100 to 200 \n",
    "a=104\n",
    "print(a>100 and a<200)\n"
   ]
  }
 ],
 "metadata": {
  "kernelspec": {
   "display_name": "Python 3",
   "language": "python",
   "name": "python3"
  },
  "language_info": {
   "codemirror_mode": {
    "name": "ipython",
    "version": 3
   },
   "file_extension": ".py",
   "mimetype": "text/x-python",
   "name": "python",
   "nbconvert_exporter": "python",
   "pygments_lexer": "ipython3",
   "version": "3.10.7"
  },
  "orig_nbformat": 4
 },
 "nbformat": 4,
 "nbformat_minor": 2
}
