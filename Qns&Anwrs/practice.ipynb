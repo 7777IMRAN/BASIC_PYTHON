{
 "cells": [
  {
   "cell_type": "code",
   "execution_count": 64,
   "metadata": {},
   "outputs": [
    {
     "name": "stdout",
     "output_type": "stream",
     "text": [
      "helloworld\n"
     ]
    }
   ],
   "source": [
    "#wap to print 'helloworld\n",
    "print('helloworld')\n"
   ]
  },
  {
   "cell_type": "code",
   "execution_count": 65,
   "metadata": {},
   "outputs": [
    {
     "name": "stdout",
     "output_type": "stream",
     "text": [
      "20 [20, 40, 50] {'str', 23} 77.77j\n",
      "<class 'int'>\n",
      "<class 'list'>\n",
      "<class 'set'>\n",
      "<class 'complex'>\n"
     ]
    }
   ],
   "source": [
    "#wap to print multi variable syntax and type of variable\n",
    "a,b,c,d=20,[20,40,50],{23,'str'},77.77j\n",
    "print(a,b,c,d)\n",
    "#type of data\n",
    "print(type(a))\n",
    "print(type(b))\n",
    "print(type(c))\n",
    "print(type(d))"
   ]
  },
  {
   "cell_type": "code",
   "execution_count": 1,
   "metadata": {},
   "outputs": [
    {
     "name": "stdout",
     "output_type": "stream",
     "text": [
      "<class 'set'>\n"
     ]
    }
   ],
   "source": [
    "#5.was to print type of data for given value\n",
    "a={33,99}\n",
    "print(type(a))"
   ]
  },
  {
   "cell_type": "code",
   "execution_count": 2,
   "metadata": {},
   "outputs": [
    {
     "name": "stdout",
     "output_type": "stream",
     "text": [
      "1918608399344\n"
     ]
    }
   ],
   "source": [
    "#was to print address of variable\n",
    "a=393\n",
    "print(id(a))"
   ]
  },
  {
   "cell_type": "code",
   "execution_count": 66,
   "metadata": {},
   "outputs": [
    {
     "name": "stdout",
     "output_type": "stream",
     "text": [
      "hello\n",
      "haii\n",
      "haii hello\n",
      "[20, 40]\n",
      "[70, 80]\n",
      "m is: [70, 80] n is: [20, 40]\n"
     ]
    }
   ],
   "source": [
    "#wap to swap to values with  temp variable\n",
    "a='hello'\n",
    "print(a)\n",
    "b='haii'\n",
    "print(b)\n",
    "temp =a\n",
    "a=b\n",
    "b=temp\n",
    "print(a,b)\n",
    "# without temp variable\n",
    "m=[20,40]\n",
    "print(m)\n",
    "n=[70,80]\n",
    "print(n)\n",
    "m,n=n,m\n",
    "print('m is:',m,'n is:',n)"
   ]
  },
  {
   "cell_type": "code",
   "execution_count": 8,
   "metadata": {},
   "outputs": [
    {
     "name": "stdout",
     "output_type": "stream",
     "text": [
      "fetch [39, 49]\n",
      "modify [39, 44]\n",
      "reinitialize [49, 103]\n",
      "deletion\n"
     ]
    }
   ],
   "source": [
    "#was to initialize,reinitialize the value\n",
    "a=[39,49]\n",
    "print('fetch',a)\n",
    "a[1]=44\n",
    "print('modify',a)\n",
    "a=[49,103]\n",
    "print('reinitialize',a)\n",
    "del(a)\n",
    "print('deletion')\n",
    "\n"
   ]
  },
  {
   "cell_type": "code",
   "execution_count": 8,
   "metadata": {},
   "outputs": [
    {
     "name": "stdout",
     "output_type": "stream",
     "text": [
      "20\n",
      "['2', '0']\n",
      "20\n"
     ]
    }
   ],
   "source": [
    "#wap to convert single value to multi value datatype\n",
    "#i/p a=20 , o/p a=['2','0']\n",
    "a=20\n",
    "a=str(a)\n",
    "print(a)\n",
    "print(list(a))\n",
    "print(str(a))"
   ]
  },
  {
   "cell_type": "code",
   "execution_count": 68,
   "metadata": {},
   "outputs": [
    {
     "name": "stdout",
     "output_type": "stream",
     "text": [
      "helloworld\n",
      "[10, 30, 20, 40, 90, 900]\n",
      "(20, 44, 22, 222, 333)\n",
      "{'10': 20, 30: 'str', 'a': 33}\n"
     ]
    }
   ],
   "source": [
    "#to concate two multi value datatype\n",
    "a='hello'\n",
    "a+='world'\n",
    "print(a)\n",
    "b=[10,30,20,40]\n",
    "b+=(90,900)\n",
    "print(b)\n",
    "l=(20,44,22);l=l+(222,333)\n",
    "print(l)\n",
    "x={'10':20,30:'str',}\n",
    "x|={'a':33}\n",
    "print(x)\n"
   ]
  },
  {
   "cell_type": "code",
   "execution_count": 9,
   "metadata": {},
   "outputs": [
    {
     "name": "stdout",
     "output_type": "stream",
     "text": [
      "5\n"
     ]
    }
   ],
   "source": [
    "#to check length of the collection\n",
    "d=[999,333,444,222,777]\n",
    "print(len(d))"
   ]
  },
  {
   "cell_type": "code",
   "execution_count": 69,
   "metadata": {},
   "outputs": [
    {
     "name": "stdout",
     "output_type": "stream",
     "text": [
      "444\n",
      "starthings\n",
      "start at middle of ings\n"
     ]
    }
   ],
   "source": [
    "#wap to find middle value of the given collection\n",
    "d=[999,333,444,222,777]\n",
    "print(d[len(d)//2])\n"
   ]
  },
  {
   "cell_type": "code",
   "execution_count": 10,
   "metadata": {},
   "outputs": [
    {
     "name": "stdout",
     "output_type": "stream",
     "text": [
      "starthings\n",
      "start at middle of ings\n"
     ]
    }
   ],
   "source": [
    "#wap to concate new string into middle of the existing string\n",
    "var='starthings'\n",
    "print(var)\n",
    "var=var[0:len(var)//2]+' at middle of '+var[(len(var)//2)+1:]\n",
    "print(var)"
   ]
  },
  {
   "cell_type": "code",
   "execution_count": 70,
   "metadata": {},
   "outputs": [
    {
     "name": "stdout",
     "output_type": "stream",
     "text": [
      "['a', 'b', 'c', 20, 30, 40]\n",
      "('a', 'b', 'c', 20, 30, 40, 20, 30, 40)\n"
     ]
    }
   ],
   "source": [
    "#wap to concate list and tuple values by using type_casting\n",
    "l=['a','b','c']\n",
    "t=(20,30,40)\n",
    "l=l+list(t) # or l+=t we get same address\n",
    "t=tuple(l)+t # or t+=tuple(l) we get deff address eventhough we use += operator. because tuple is immutable.\n",
    "\n",
    "\n",
    "print(l)\n",
    "print(t)"
   ]
  },
  {
   "cell_type": "code",
   "execution_count": 71,
   "metadata": {},
   "outputs": [
    {
     "name": "stdout",
     "output_type": "stream",
     "text": [
      "False\n",
      "True\n",
      "False\n",
      "True\n",
      "9\n",
      "False\n"
     ]
    }
   ],
   "source": [
    "#to check the given number is divisible by 3\n",
    "a=323;b=30\n",
    "print(a%3==0); print(b%3==0)\n",
    "#to check the given number is divisible by 2 and 6\n",
    "print(a%2==0 and a%6==0);print(b%2==0 and b%6==0)\n",
    "# to extract the last digit from the given number without typecasting\n",
    "n=1999\n",
    "print(n%10)\n",
    "# to check the last digit is divisible by 3 from the given integer number without typecasting\n",
    "s=7777\n",
    "print((s%10)%3==0)"
   ]
  },
  {
   "cell_type": "code",
   "execution_count": 11,
   "metadata": {},
   "outputs": [
    {
     "name": "stdout",
     "output_type": "stream",
     "text": [
      "4\n",
      "4\n",
      "False\n"
     ]
    }
   ],
   "source": [
    "# wap to extract last digit from a given number using type casting\n",
    "a=23454\n",
    "print(str(a)[-1])\n",
    "print(a%10)\n",
    "\n",
    "'''wap to check the given number is divisible by 3 using type casting  '''\n",
    "n=2026\n",
    "print(int(str(n))%3==0)"
   ]
  },
  {
   "cell_type": "code",
   "execution_count": 17,
   "metadata": {},
   "outputs": [
    {
     "name": "stdout",
     "output_type": "stream",
     "text": [
      "['a', 'b', 'c', 20, 93, 10]\n",
      "(20, 93, 10, 'a', 'b', 'c', 20, 93, 10)\n"
     ]
    }
   ],
   "source": [
    "#to concate list and tuple values by using typecasting\n",
    "a=['a','b','c']\n",
    "b=(20,93,10)\n",
    "a+=b\n",
    "print(a)\n",
    "b+=tuple(a)\n",
    "print(b)"
   ]
  },
  {
   "cell_type": "code",
   "execution_count": 18,
   "metadata": {},
   "outputs": [
    {
     "name": "stdout",
     "output_type": "stream",
     "text": [
      "['a', 'b', 'c', 20, 93, 10]\n"
     ]
    }
   ],
   "source": [
    "#to concate list value and tuple value without using type casting\n",
    "a=['a','b','c']\n",
    "b=(20,93,10)\n",
    "a+=b\n",
    "print(a)\n"
   ]
  },
  {
   "cell_type": "code",
   "execution_count": 20,
   "metadata": {},
   "outputs": [
    {
     "name": "stdout",
     "output_type": "stream",
     "text": [
      "True False\n"
     ]
    }
   ],
   "source": [
    "#to check the given number is less than or equals to 100\n",
    "a=77;b=498\n",
    "print(a<=100,b<=100)"
   ]
  },
  {
   "cell_type": "code",
   "execution_count": 10,
   "metadata": {},
   "outputs": [
    {
     "name": "stdout",
     "output_type": "stream",
     "text": [
      "True\n",
      "even\n",
      "odd\n",
      "True\n"
     ]
    }
   ],
   "source": [
    "#wap to check the given number is greater than 150\n",
    "a=336\n",
    "print(a>150)\n",
    "# 60: wap to check the given number is even\n",
    "print(('even','not even')[(a%2!=0)])\n",
    "#61: wap to check the given number is odd\n",
    "b=47\n",
    "print(('odd','even')[(b%2==0)])\n",
    "#59:to check the number is greater than 15 and less than 24\n",
    "e=20\n",
    "print(e>15 and e<24)\n"
   ]
  },
  {
   "cell_type": "markdown",
   "metadata": {},
   "source": [
    "range:-\n",
    "in between :- start < value and value < end\n",
    "\n",
    "between    :- start <= value and value <= end\n",
    "\n",
    "range      :- start <= value and value <= end\n",
    "\n"
   ]
  },
  {
   "cell_type": "code",
   "execution_count": 13,
   "metadata": {},
   "outputs": [
    {
     "name": "stdout",
     "output_type": "stream",
     "text": [
      "123123123123123123\n",
      "(20, 30, 20, 30, 20, 30, 20, 30, 20, 30, 20, 30)\n"
     ]
    },
    {
     "ename": "TypeError",
     "evalue": "unsupported operand type(s) for *: 'set' and 'int'",
     "output_type": "error",
     "traceback": [
      "\u001b[1;31m---------------------------------------------------------------------------\u001b[0m",
      "\u001b[1;31mTypeError\u001b[0m                                 Traceback (most recent call last)",
      "Cell \u001b[1;32mIn[13], line 5\u001b[0m\n\u001b[0;32m      3\u001b[0m \u001b[39mprint\u001b[39m(s\u001b[39m*\u001b[39m\u001b[39m6\u001b[39m)\n\u001b[0;32m      4\u001b[0m \u001b[39mprint\u001b[39m(a\u001b[39m*\u001b[39m\u001b[39m6\u001b[39m)\n\u001b[1;32m----> 5\u001b[0m \u001b[39mprint\u001b[39m(b\u001b[39m*\u001b[39;49m\u001b[39m6\u001b[39;49m)\n\u001b[0;32m      6\u001b[0m \u001b[39mprint\u001b[39m(c\u001b[39m*\u001b[39m\u001b[39m6\u001b[39m)\n\u001b[0;32m      7\u001b[0m \u001b[39m# unsuported operand * for set and dict\u001b[39;00m\n",
      "\u001b[1;31mTypeError\u001b[0m: unsupported operand type(s) for *: 'set' and 'int'"
     ]
    }
   ],
   "source": [
    "#62: to check replication of a given string with 6\n",
    "s='123';a=(20,30);b={10,20};c={10:20}\n",
    "print(s*6)\n",
    "print(a*6)\n",
    "print(b*6)\n",
    "print(c*6)\n",
    "# unsuported operand * for set and dict\n"
   ]
  },
  {
   "cell_type": "code",
   "execution_count": 97,
   "metadata": {},
   "outputs": [
    {
     "name": "stdout",
     "output_type": "stream",
     "text": [
      "True\n",
      "False\n",
      "10\n",
      "even\n"
     ]
    }
   ],
   "source": [
    "# 63:to check the given number is divisible by 3 and also should be greater than 22\n",
    "a=333;b=18\n",
    "print(a%3==0 and a>22)\n",
    "print(b%3==0 and b>22)\n",
    "#64: to check the length of the collection is even or not\n",
    "g='imran khan'\n",
    "print(len(g))\n",
    "print(('not even','even')[len(g)%2==0])"
   ]
  },
  {
   "cell_type": "code",
   "execution_count": null,
   "metadata": {},
   "outputs": [
    {
     "name": "stdout",
     "output_type": "stream",
     "text": [
      "True\n",
      "True\n"
     ]
    }
   ],
   "source": [
    "#65:to check the length of the collection is less than 55 and greater than 16\n",
    "a='abcdefghijklmnopqrsturwxyz'\n",
    "print(len(a)>16 and len(a)<55)\n",
    "# or\n",
    "print(16<len(a)<55)"
   ]
  },
  {
   "cell_type": "code",
   "execution_count": 22,
   "metadata": {},
   "outputs": [
    {
     "name": "stdout",
     "output_type": "stream",
     "text": [
      "False\n"
     ]
    }
   ],
   "source": [
    "#66:to check perform the length fo the collection is divisible by 5 and odd\n",
    "a='abcdefghijklmnopqrsturwxyz'\n",
    "print(len(a)%5 and len(a)%2!=0)"
   ]
  },
  {
   "cell_type": "code",
   "execution_count": null,
   "metadata": {},
   "outputs": [
    {
     "name": "stdout",
     "output_type": "stream",
     "text": [
      "<class 'tuple'>\n",
      "True\n"
     ]
    }
   ],
   "source": [
    "#67: find the type of data by extracting the middle position of the collection. either 'str','list','tuple'ArithmeticError\n",
    "a=[10,('a','b'),[10,20]]\n",
    "print(type(a[len(a)//2]))\n",
    "c=type(a[len(a)//2])\n",
    "print(c in( str,list,tuple))"
   ]
  },
  {
   "cell_type": "code",
   "execution_count": 22,
   "metadata": {},
   "outputs": [
    {
     "name": "stdout",
     "output_type": "stream",
     "text": [
      "True\n",
      "False\n",
      "True\n",
      "True\n",
      "True\n"
     ]
    }
   ],
   "source": [
    "#68: to check the number is greater than 20 and less than 30 and it should be even\n",
    "a=24\n",
    "b=27\n",
    "print(a>20 and a<30 and a%2==0) #OR\n",
    "print(20<b<30 and b%2==0)\n",
    "#69: to check the number is even and it should be less than 120\n",
    "x=100\n",
    "print(x%2==0 and x<120)\n",
    "#70: to check the number is even and present in 40 to 70\n",
    "y=50\n",
    "print(y%2==0 and  (y>=40 and y<=70))\n",
    "# or \n",
    "print(y%2==0 and y in range(40,70))\n",
    "#71: to check the number is odd and it should be greater than 9\n",
    "a=77\n",
    "print(a%2!=0 and a>9)\n"
   ]
  },
  {
   "cell_type": "code",
   "execution_count": 3,
   "metadata": {},
   "outputs": [
    {
     "name": "stdout",
     "output_type": "stream",
     "text": [
      "True\n",
      "False\n"
     ]
    }
   ],
   "source": [
    "#72: to check the number is less than 122 and greater than 48 and the number should be divisible by 4\n",
    "a=120\n",
    "print(a in range(48,122) and a%4==0)\n"
   ]
  },
  {
   "cell_type": "code",
   "execution_count": 24,
   "metadata": {},
   "outputs": [
    {
     "name": "stdout",
     "output_type": "stream",
     "text": [
      "20\n"
     ]
    }
   ],
   "source": [
    "#73: to check the number is divisible by 3 or 5,display the value\n",
    "a=20\n",
    "if (a%3==0 or a%5==0):\n",
    "    print(a)\n",
    "else:\n",
    "    print('number is not divisible by 3 or 5 ')"
   ]
  },
  {
   "cell_type": "code",
   "execution_count": 5,
   "metadata": {},
   "outputs": [
    {
     "name": "stdout",
     "output_type": "stream",
     "text": [
      "True\n",
      "True\n"
     ]
    }
   ],
   "source": [
    "#74: to check the number is between 100 to 200 including the limit\n",
    "a=100\n",
    "print(a in range (100,200))\n",
    "print(a>=100 and a<=200)"
   ]
  },
  {
   "cell_type": "code",
   "execution_count": 7,
   "metadata": {},
   "outputs": [
    {
     "name": "stdout",
     "output_type": "stream",
     "text": [
      "True\n"
     ]
    }
   ],
   "source": [
    "#75: to check the number is between 100 to 200 \n",
    "a=104\n",
    "print(a>100 and a<200)\n"
   ]
  },
  {
   "cell_type": "code",
   "execution_count": 8,
   "metadata": {},
   "outputs": [
    {
     "name": "stdout",
     "output_type": "stream",
     "text": [
      "True False\n",
      "False\n"
     ]
    }
   ],
   "source": [
    "'''76: write a equation to check last charecter ascii value should be divisible by 5 or not'''\n",
    "a=b'A';b=b'a'\n",
    "print(list(a)[-1]%5==0 ,list(b)[-1]%5==0)\n",
    "# or\n",
    "a='apple'\n",
    "print(ord(a[-1])%5==0)"
   ]
  },
  {
   "cell_type": "code",
   "execution_count": 2,
   "metadata": {},
   "outputs": [
    {
     "name": "stdout",
     "output_type": "stream",
     "text": [
      "False\n",
      "True\n"
     ]
    }
   ],
   "source": [
    "#77: to check the given number is b/w 60 to 130 and the number should be divisible by 3 and 4 and last digit should be greater than 9\n",
    "n=129\n",
    "print(60<=n<=130 and n%3==0 and n%4==0 and 9>n%10)\n",
    "m=120\n",
    "print(60<=m<=130 and m%3==0 and m%4==0 and 9>m%10)\n"
   ]
  },
  {
   "cell_type": "code",
   "execution_count": 5,
   "metadata": {},
   "outputs": [
    {
     "name": "stdout",
     "output_type": "stream",
     "text": [
      "True False\n"
     ]
    }
   ],
   "source": [
    "#78: to check the given number is even or less than 25\n",
    "n=24;m=49\n",
    "print(n%2==0 or n<25,m%2==0 or m<25)"
   ]
  },
  {
   "cell_type": "code",
   "execution_count": 7,
   "metadata": {},
   "outputs": [
    {
     "name": "stdout",
     "output_type": "stream",
     "text": [
      "False True\n"
     ]
    }
   ],
   "source": [
    "#79: to the number is even or greater than 25\n",
    "n=23;m=49\n",
    "print(n%2==0 or n>25,m%2==0 or m>25)\n"
   ]
  },
  {
   "cell_type": "code",
   "execution_count": 11,
   "metadata": {},
   "outputs": [
    {
     "name": "stdout",
     "output_type": "stream",
     "text": [
      "True False\n"
     ]
    }
   ],
   "source": [
    "#80: to the number is divisible by 3 or 5\n",
    "n=55;m=32\n",
    "print(n%3==0 or  n%5==0 ,m%3==0 or m%5==0)\n",
    "\n"
   ]
  },
  {
   "cell_type": "code",
   "execution_count": 12,
   "metadata": {},
   "outputs": [
    {
     "name": "stdout",
     "output_type": "stream",
     "text": [
      "True\n"
     ]
    }
   ],
   "source": [
    "#81: to check the number is not an even number\n",
    "a=21\n",
    "print(a%2!=0)"
   ]
  },
  {
   "cell_type": "code",
   "execution_count": 13,
   "metadata": {},
   "outputs": [
    {
     "name": "stdout",
     "output_type": "stream",
     "text": [
      "True\n"
     ]
    }
   ],
   "source": [
    "#82: to check the number is not an odd number\n",
    "a=22\n",
    "print(a%2==0)\n"
   ]
  },
  {
   "cell_type": "code",
   "execution_count": 14,
   "metadata": {},
   "outputs": [
    {
     "name": "stdout",
     "output_type": "stream",
     "text": [
      "True\n"
     ]
    }
   ],
   "source": [
    "#83: to check the number is not divisible by 3\n",
    "a=23\n",
    "print(a%3!=0)\n"
   ]
  },
  {
   "cell_type": "code",
   "execution_count": 15,
   "metadata": {},
   "outputs": [
    {
     "name": "stdout",
     "output_type": "stream",
     "text": [
      "True\n"
     ]
    }
   ],
   "source": [
    "#84: to check the number is not divisible by 3 and 5\n",
    "a=23\n",
    "print(a%2!=0)\n"
   ]
  },
  {
   "cell_type": "code",
   "execution_count": 16,
   "metadata": {},
   "outputs": [
    {
     "name": "stdout",
     "output_type": "stream",
     "text": [
      "True\n"
     ]
    }
   ],
   "source": [
    "#85: to check the number is not divisible by 3 or 5\n",
    "a=25\n",
    "print(a%3!=0 or a%5!=0)"
   ]
  },
  {
   "cell_type": "code",
   "execution_count": 21,
   "metadata": {},
   "outputs": [
    {
     "name": "stdout",
     "output_type": "stream",
     "text": [
      "True\n"
     ]
    }
   ],
   "source": [
    "#86: to check the given charecter ASCII value is divisible by 5\n",
    "a='i'\n",
    "print(len(a)==1 and ord(a)%5==0)"
   ]
  },
  {
   "cell_type": "code",
   "execution_count": 22,
   "metadata": {},
   "outputs": [
    {
     "name": "stdout",
     "output_type": "stream",
     "text": [
      "A\n"
     ]
    }
   ],
   "source": [
    "#87: to find the ASCII charecter in a given number\n",
    "a=65\n",
    "print(chr(a))\n"
   ]
  },
  {
   "cell_type": "code",
   "execution_count": 28,
   "metadata": {},
   "outputs": [
    {
     "name": "stdout",
     "output_type": "stream",
     "text": [
      "77\n"
     ]
    }
   ],
   "source": [
    "# 88: to find out the ASCII value in a given charecter\n",
    "a='M'\n",
    "print(len(a)==1 and ord(a))\n"
   ]
  },
  {
   "cell_type": "code",
   "execution_count": 37,
   "metadata": {},
   "outputs": [
    {
     "name": "stdout",
     "output_type": "stream",
     "text": [
      "True\n",
      "True\n",
      "True\n"
     ]
    }
   ],
   "source": [
    "#89: to check the given charecter is upper_case or not\n",
    "a='E'\n",
    "print('A'<=a<='Z') #or\n",
    "print(65<=ord(a)<=90)#or\n",
    "print(len(a)==1 and 'A'<=a<='Z')"
   ]
  },
  {
   "cell_type": "code",
   "execution_count": 42,
   "metadata": {},
   "outputs": [
    {
     "name": "stdout",
     "output_type": "stream",
     "text": [
      "False\n",
      "False\n",
      "False\n"
     ]
    }
   ],
   "source": [
    "#90: to check the given charecter is lower_case or not\n",
    "a='E'\n",
    "print('a'<=a<='z') #or\n",
    "print(97<=ord(a)<=122)#or\n",
    "print(len(a)==1 and 'a'<=a<='z')\n"
   ]
  },
  {
   "cell_type": "code",
   "execution_count": 23,
   "metadata": {},
   "outputs": [
    {
     "name": "stdout",
     "output_type": "stream",
     "text": [
      "True\n"
     ]
    }
   ],
   "source": [
    "#91: to check the charecter is alphabet or not\n",
    "a='s'\n",
    "print('a'<=a<='z' or 'A'<=a<='Z')"
   ]
  },
  {
   "cell_type": "code",
   "execution_count": 46,
   "metadata": {},
   "outputs": [
    {
     "name": "stdout",
     "output_type": "stream",
     "text": [
      "True\n"
     ]
    }
   ],
   "source": [
    "#92: to check the charecter is ASCII number (0....9)\n",
    "a='5'\n",
    "print( len(a)==1 and '0'<=a<='9')"
   ]
  },
  {
   "cell_type": "code",
   "execution_count": 47,
   "metadata": {},
   "outputs": [
    {
     "name": "stdout",
     "output_type": "stream",
     "text": [
      "True\n"
     ]
    }
   ],
   "source": [
    "#93: to check the charecter is special charecter or not\n",
    "a='$'\n",
    "print(not('a'<=a<='z' or 'A'<=a<='Z' or '0'<=a<='9'))\n"
   ]
  },
  {
   "cell_type": "code",
   "execution_count": 25,
   "metadata": {},
   "outputs": [
    {
     "name": "stdout",
     "output_type": "stream",
     "text": [
      "False True\n"
     ]
    }
   ],
   "source": [
    "#94: to check given charecter should not be upper_case\n",
    "a='D';b='a'\n",
    "print(not  ('A'<=a<='Z'), not('A'<=b<='Z'))"
   ]
  },
  {
   "cell_type": "code",
   "execution_count": 53,
   "metadata": {},
   "outputs": [
    {
     "name": "stdout",
     "output_type": "stream",
     "text": [
      "True False\n"
     ]
    }
   ],
   "source": [
    "#95: to check given charecter should not be lower_case\n",
    "a='D';b='a'\n",
    "print(not('a'<=a<='z'), not('a'<=b<='z'))"
   ]
  },
  {
   "cell_type": "code",
   "execution_count": 26,
   "metadata": {},
   "outputs": [
    {
     "name": "stdout",
     "output_type": "stream",
     "text": [
      "False True\n"
     ]
    }
   ],
   "source": [
    "#96: to check given charecter should not be a alphabet\n",
    "a='D';b='2'\n",
    "print(not('A'<=a<='Z'), not('a'<=b<='z'))"
   ]
  },
  {
   "cell_type": "code",
   "execution_count": 28,
   "metadata": {},
   "outputs": [
    {
     "name": "stdout",
     "output_type": "stream",
     "text": [
      "False\n",
      "True\n"
     ]
    }
   ],
   "source": [
    "#97: to check given charecter should not be a ASCII number\n",
    "a='3'\n",
    "print(not('0'<=a<='9'))\n",
    "b='h'\n",
    "print(0<=ord(b)<48 or 57<ord(b)<=127)"
   ]
  },
  {
   "cell_type": "code",
   "execution_count": 69,
   "metadata": {},
   "outputs": [
    {
     "name": "stdout",
     "output_type": "stream",
     "text": [
      "False\n",
      "True\n"
     ]
    }
   ],
   "source": [
    "#98: to check given charecter should not be a special charecter\n",
    "a='$';b='d'\n",
    "print('a'<=a<='z' or 'A'<=a<='Z' or '0'<=a<='9')\n",
    "print(('a'<=b<='z' or 'A'<=b<='Z' or '0'<=b<='9'))\n",
    "\n"
   ]
  },
  {
   "cell_type": "code",
   "execution_count": 14,
   "metadata": {},
   "outputs": [
    {
     "name": "stdout",
     "output_type": "stream",
     "text": [
      "True False\n",
      "True False\n"
     ]
    }
   ],
   "source": [
    "#99: to check the charecter is a vowel\n",
    "a='A';b='D'\n",
    "print(a in 'aeiouAEIOU',b in 'aeiouAEIOU')\n",
    "#OR\n",
    "print('a'==a or 'e'==a or a=='i' or a=='o' or a=='u' or a=='A' or a=='E' or a=='I' or a=='O' or a=='U' , 'a'==b or 'e'==b or b=='i' or b=='o' or b=='u' or b=='A' or b=='E' or b=='I' or b=='O' or b=='U')\n"
   ]
  },
  {
   "cell_type": "code",
   "execution_count": 2,
   "metadata": {},
   "outputs": [
    {
     "name": "stdout",
     "output_type": "stream",
     "text": [
      "False True\n",
      "False True\n"
     ]
    }
   ],
   "source": [
    "#100: to check the charecter is a consonent\n",
    "a='A';b='D'\n",
    "print(a not in 'aeiouAEIOU',b not in 'aeiouAEIOU')\n",
    "#OR\n",
    "print( a!='a' and a!='e' and a!='i' and a!='o' and a!='u' and a!='A' and a!='E' and a!='I' and a!='O' and a!='U' , b!='a' and b!='e' and b!='i' and b!='o' and b!='u' and b!='A' and b!='E' and b!='I' and b!='O' and b!='U')\n",
    "\n"
   ]
  },
  {
   "cell_type": "markdown",
   "metadata": {},
   "source": [
    ".lower() is a built-in Python method primarily used for string handling. The .lower() method takes no arguments and returns the lowercased strings from the given string by converting each uppercase character to lowercase. If there are no uppercase characters in the given string, it returns the original string.\n",
    "\n",
    ".upper(): to change the charecter lowercase to uppercase\n",
    "\n",
    ".swapcase(): uppercase to lowercase or lowercase to uppercase\n",
    "\n",
    ".isupper(): is a built-in method used for string handling. This method returns True if all characters in the string are uppercase, otherwise, returns “False”.  \n",
    "\n",
    ".islower(): is a built-in method used for string handling. This method returns True if all characters in the string are lowercase, otherwise, returns “False”. \n",
    "\n"
   ]
  },
  {
   "cell_type": "markdown",
   "metadata": {},
   "source": []
  },
  {
   "cell_type": "code",
   "execution_count": 29,
   "metadata": {},
   "outputs": [
    {
     "name": "stdout",
     "output_type": "stream",
     "text": [
      "i\n",
      "i\n",
      "i\n"
     ]
    }
   ],
   "source": [
    "#101: to conver the given character upper_case to lower_case\n",
    "a='I'\n",
    "print(chr(ord(a)+32))\n",
    "print(a.lower())\n",
    "print(a.swapcase())\n"
   ]
  },
  {
   "cell_type": "code",
   "execution_count": 10,
   "metadata": {},
   "outputs": [
    {
     "name": "stdout",
     "output_type": "stream",
     "text": [
      "a\n"
     ]
    }
   ],
   "source": [
    "#101: to conver the given character upper_case to lower_case without builtin functions\n",
    "# A-65,a-97 diff-32\n",
    "#A-65+32=97-a\n",
    "a='A'\n",
    "print(chr(ord(a)+32))\n"
   ]
  },
  {
   "cell_type": "code",
   "execution_count": 12,
   "metadata": {},
   "outputs": [
    {
     "name": "stdout",
     "output_type": "stream",
     "text": [
      "A\n",
      "A\n"
     ]
    }
   ],
   "source": [
    "#102: was to convert lowercase to uppercase in given character\n",
    "a='a'\n",
    "print(a.upper())\n",
    "#OR\n",
    "print(chr(ord(a)-32))"
   ]
  },
  {
   "cell_type": "code",
   "execution_count": 18,
   "metadata": {},
   "outputs": [
    {
     "name": "stdout",
     "output_type": "stream",
     "text": [
      "A\n"
     ]
    }
   ],
   "source": [
    "#103: to extract the previous character in the given character\n",
    "a='B'\n",
    "print(chr(ord(a)-1))\n"
   ]
  },
  {
   "cell_type": "code",
   "execution_count": 21,
   "metadata": {},
   "outputs": [
    {
     "name": "stdout",
     "output_type": "stream",
     "text": [
      "C\n"
     ]
    }
   ],
   "source": [
    "#104: to extract the next character in the given character\n",
    "a='B'\n",
    "print(chr(ord(a)+1))"
   ]
  },
  {
   "cell_type": "code",
   "execution_count": 23,
   "metadata": {},
   "outputs": [
    {
     "name": "stdout",
     "output_type": "stream",
     "text": [
      "True\n",
      "False\n"
     ]
    }
   ],
   "source": [
    "#105: to check the given character is converted to ASCII value the value is even as well as the character should be lowercase\n",
    "a='d'\n",
    "print(ord(a)%2==0 and len(a)==1 and 'a'<=a<='z')\n",
    "a='e'\n",
    "print(ord(a)%2==0 and len(a)==1 and 'a'<=a<='z')\n"
   ]
  },
  {
   "cell_type": "code",
   "execution_count": 28,
   "metadata": {},
   "outputs": [
    {
     "name": "stdout",
     "output_type": "stream",
     "text": [
      "True\n",
      "False\n"
     ]
    }
   ],
   "source": [
    "#106: to check the given character is converted to ASCII value the value is odd as well as the character should be uppercase\n",
    "a='D'\n",
    "print( len(a)==1 and ord(a)%2==0  and 'A'<=a<='Z')\n",
    "a='E'\n",
    "print(len(a)==1 and ord(a)%2==0 and  'Z'<=a<='Z')\n"
   ]
  },
  {
   "cell_type": "code",
   "execution_count": 31,
   "metadata": {},
   "outputs": [
    {
     "name": "stdout",
     "output_type": "stream",
     "text": [
      "False\n",
      "True\n"
     ]
    }
   ],
   "source": [
    "#107: to check which the given number is converted to charecter is not a special symbol or not\n",
    "a=58;b=57\n",
    "print('A'<=chr(a)<='Z' or 'a'<=chr(a)<='z' or '0'<=chr(a)<='9')\n",
    "print('A'<=chr(b)<='Z' or 'a'<=chr(b)<='z' or '0'<=chr(b)<='9')"
   ]
  },
  {
   "cell_type": "code",
   "execution_count": 34,
   "metadata": {},
   "outputs": [
    {
     "name": "stdout",
     "output_type": "stream",
     "text": [
      "True\n",
      "False\n"
     ]
    }
   ],
   "source": [
    "#108: to check the given number of the ascii character is a vowel or not\n",
    "n=65;M=66\n",
    "print(chr(n) in 'aeiouAEIOU')\n",
    "print(chr(M) in 'aeiouAEIOU')"
   ]
  },
  {
   "cell_type": "code",
   "execution_count": 36,
   "metadata": {},
   "outputs": [
    {
     "name": "stdout",
     "output_type": "stream",
     "text": [
      "True\n",
      "False\n"
     ]
    }
   ],
   "source": [
    "#109: TO check if the first and second character are sequence or not in a given string\n",
    "s='ABCD';b='ADCD'\n",
    "print(ord(s[0])==ord(s[1])-1)\n",
    "print(ord(b[0])==ord(b[1])-1)"
   ]
  },
  {
   "cell_type": "code",
   "execution_count": 42,
   "metadata": {},
   "outputs": [
    {
     "name": "stdout",
     "output_type": "stream",
     "text": [
      "True\n"
     ]
    }
   ],
   "source": [
    "#110: to check the given character ASCII value should be either greater than 50 or greater than 25 or less than 112\n",
    "a='0'\n",
    "print(ord(a)>25 or ord(a)<112)"
   ]
  },
  {
   "cell_type": "code",
   "execution_count": 46,
   "metadata": {},
   "outputs": [
    {
     "name": "stdout",
     "output_type": "stream",
     "text": [
      "11\n",
      "11\n"
     ]
    }
   ],
   "source": [
    "#111: wae to given number is increased by 1\n",
    "a=10\n",
    "a+=1\n",
    "print(a)\n",
    "b=10\n",
    "b=b+1\n",
    "print(b)"
   ]
  },
  {
   "cell_type": "code",
   "execution_count": 1,
   "metadata": {},
   "outputs": [
    {
     "name": "stdout",
     "output_type": "stream",
     "text": [
      "12\n",
      "12\n"
     ]
    }
   ],
   "source": [
    "#112: WAE to given number increase by 2\n",
    "a=10\n",
    "a+=2\n",
    "print(a)\n",
    "b=10\n",
    "b=b+2\n",
    "print(b)\n",
    "\n"
   ]
  },
  {
   "cell_type": "code",
   "execution_count": 2,
   "metadata": {},
   "outputs": [
    {
     "name": "stdout",
     "output_type": "stream",
     "text": [
      "9\n",
      "9\n"
     ]
    }
   ],
   "source": [
    "#113: wae to given number is decrease by 1\n",
    "a=10\n",
    "a+=-1\n",
    "print(a)\n",
    "b=10\n",
    "b=b-1\n",
    "print(b)\n"
   ]
  },
  {
   "cell_type": "code",
   "execution_count": 3,
   "metadata": {},
   "outputs": [
    {
     "name": "stdout",
     "output_type": "stream",
     "text": [
      "7\n",
      "7\n"
     ]
    }
   ],
   "source": [
    "#114: wae to given number is decrease by 3\n",
    "a=10\n",
    "a+=-3\n",
    "print(a)\n",
    "b=10\n",
    "b=b-3\n",
    "print(b)\n",
    "\n"
   ]
  },
  {
   "cell_type": "code",
   "execution_count": 47,
   "metadata": {},
   "outputs": [
    {
     "name": "stdout",
     "output_type": "stream",
     "text": [
      "True\n"
     ]
    }
   ],
   "source": [
    "#115: WAE to check the given integer number is present in the collection\n",
    "n=10\n",
    "b=[30,10,40,89]\n",
    "print(n in b)"
   ]
  },
  {
   "cell_type": "code",
   "execution_count": 48,
   "metadata": {},
   "outputs": [
    {
     "name": "stdout",
     "output_type": "stream",
     "text": [
      "110\n"
     ]
    }
   ],
   "source": [
    "#116: WAE to check perform the addition operation on A value and B value and final result should be updated to A\n",
    "A=50\n",
    "B=60\n",
    "A=A+B # OR A+=B\n",
    "print(A)"
   ]
  },
  {
   "cell_type": "code",
   "execution_count": 56,
   "metadata": {},
   "outputs": [
    {
     "name": "stdout",
     "output_type": "stream",
     "text": [
      "False\n",
      "True\n",
      "True\n",
      "False\n",
      "True\n"
     ]
    }
   ],
   "source": [
    "#117:WAE TO check the given value is present in the collection \n",
    "a='p';d='P'\n",
    "b='PYSPIDERS'\n",
    "print(a in b)\n",
    "print(d in b)\n",
    "t=(10,'hai')\n",
    "w=(10,'hai',(10,20),[10,'hai'])\n",
    "print(t in w)\n",
    "\n",
    "#........................\n",
    "st=10\n",
    "col={10,'hai',(10,20),(10,'hai')}\n",
    "print(st in col)\n",
    "st='a'\n",
    "col={'a':10,'b':20,'c':30}\n",
    "st in col\n",
    "st=10\n",
    "col={'a':10,'b':20,'c':30}\n",
    "st in col\n"
   ]
  },
  {
   "cell_type": "code",
   "execution_count": 4,
   "metadata": {},
   "outputs": [
    {
     "name": "stdout",
     "output_type": "stream",
     "text": [
      "True\n"
     ]
    }
   ],
   "source": [
    "#118: wae to check the given list is present in the list\n",
    "st=[10,'hai']\n",
    "c=[10,'hai',(10,20),[10,'hai']]\n",
    "print( st in c)\n"
   ]
  },
  {
   "cell_type": "code",
   "execution_count": 25,
   "metadata": {},
   "outputs": [
    {
     "name": "stdout",
     "output_type": "stream",
     "text": [
      "True\n"
     ]
    }
   ],
   "source": [
    "#119: wae to check the given dict value is present in tuple\n",
    "t=(10,20,{1,2,3,},{1:2,2:3,3:4})\n",
    "d={1:2,2:3,3:4}\n",
    "print(d in t)\n"
   ]
  },
  {
   "cell_type": "code",
   "execution_count": 57,
   "metadata": {},
   "outputs": [
    {
     "name": "stdout",
     "output_type": "stream",
     "text": [
      "<class 'int'>\n",
      "<class 'type'>\n",
      "True\n"
     ]
    }
   ],
   "source": [
    "#120: wae to check given value is integer value or not\n",
    "b=15\n",
    "print(type(b))\n",
    "print(type(int))\n",
    "print(type(b)==int)"
   ]
  },
  {
   "cell_type": "code",
   "execution_count": 14,
   "metadata": {},
   "outputs": [
    {
     "name": "stdout",
     "output_type": "stream",
     "text": [
      "<class 'str'>\n",
      "<class 'type'>\n",
      "True\n"
     ]
    }
   ],
   "source": [
    "#121: wae to check given value is string value or not\n",
    "b='15'\n",
    "print(type(b))\n",
    "print(type(str))\n",
    "print(type(b)==str)"
   ]
  },
  {
   "cell_type": "code",
   "execution_count": 59,
   "metadata": {},
   "outputs": [
    {
     "name": "stdout",
     "output_type": "stream",
     "text": [
      "True\n",
      "False\n"
     ]
    }
   ],
   "source": [
    "#122: wae to check given value is single value or not (/ int/float/complex/boolean/Non)\n",
    "c=b'1010';b='str'\n",
    "print(type(c) in [int,float,complex,bool,bytes,type(None)])\n",
    "print(type(b) in [int,float,complex,bool,bytes,type(None)])"
   ]
  },
  {
   "cell_type": "code",
   "execution_count": 61,
   "metadata": {},
   "outputs": [
    {
     "name": "stdout",
     "output_type": "stream",
     "text": [
      "True\n",
      "False\n"
     ]
    }
   ],
   "source": [
    "#123: wae to check given value should not be a single value\n",
    "c=b'1010';b='str'\n",
    "print(type(c) not in [str,list,tuple,set,dict])\n",
    "print(type(b) not in [str,list,tuple,set,dict])\n"
   ]
  },
  {
   "cell_type": "code",
   "execution_count": 15,
   "metadata": {},
   "outputs": [
    {
     "name": "stdout",
     "output_type": "stream",
     "text": [
      "False\n",
      "True\n"
     ]
    }
   ],
   "source": [
    "#124: wae to check given value is multi value or not\n",
    "c=56;b='str'\n",
    "print(type(c)  in [str,list,tuple,set,dict])\n",
    "print(type(b)  in [str,list,tuple,set,dict])\n"
   ]
  },
  {
   "cell_type": "code",
   "execution_count": 17,
   "metadata": {},
   "outputs": [
    {
     "name": "stdout",
     "output_type": "stream",
     "text": [
      "False\n",
      "True\n"
     ]
    }
   ],
   "source": [
    "#125: wae to check given value is a mutable value or not\n",
    "c=56;b=['str',5678]\n",
    "print(type(c)  in [list,set,dict])\n",
    "print(type(b)  in [list,set,dict])\n"
   ]
  },
  {
   "cell_type": "code",
   "execution_count": 18,
   "metadata": {},
   "outputs": [
    {
     "name": "stdout",
     "output_type": "stream",
     "text": [
      "True\n",
      "False\n"
     ]
    }
   ],
   "source": [
    "#126: wae to check the given value is an immutable or not\n",
    "c=56;b=['str',5678]\n",
    "print(type(c) not in [list,set,dict])\n",
    "print(type(b) not in [list,set,dict])\n"
   ]
  },
  {
   "cell_type": "code",
   "execution_count": 62,
   "metadata": {},
   "outputs": [
    {
     "name": "stdout",
     "output_type": "stream",
     "text": [
      "True\n"
     ]
    }
   ],
   "source": [
    "#127: wae to check if a given value is divisible by 6  as well as that value present in the collection or not\n",
    "n=36\n",
    "print(n%6==0 and n in [10,20,48,36,45,105])"
   ]
  },
  {
   "cell_type": "code",
   "execution_count": 65,
   "metadata": {},
   "outputs": [
    {
     "name": "stdout",
     "output_type": "stream",
     "text": [
      "3\n"
     ]
    }
   ],
   "source": [
    "#128: to check perform the bitwise and operation given values are 15 and 19\n",
    "print(15&19)"
   ]
  },
  {
   "cell_type": "code",
   "execution_count": 64,
   "metadata": {},
   "outputs": [
    {
     "name": "stdout",
     "output_type": "stream",
     "text": [
      "127\n"
     ]
    }
   ],
   "source": [
    "#129: wae to check perform the bitwise or operation  given values are (115 and 79)\n",
    "print(115|79)"
   ]
  },
  {
   "cell_type": "code",
   "execution_count": 66,
   "metadata": {},
   "outputs": [
    {
     "name": "stdout",
     "output_type": "stream",
     "text": [
      "46\n"
     ]
    }
   ],
   "source": [
    "#130: bitwise XOR  given values are (56,22)\n",
    "print(56^22)"
   ]
  },
  {
   "cell_type": "code",
   "execution_count": 68,
   "metadata": {},
   "outputs": [
    {
     "name": "stdout",
     "output_type": "stream",
     "text": [
      "-16\n"
     ]
    }
   ],
   "source": [
    "#131: bitwise NOT given values 15\n",
    "n=15\n",
    "print(~n)"
   ]
  },
  {
   "cell_type": "code",
   "execution_count": 19,
   "metadata": {},
   "outputs": [
    {
     "name": "stdout",
     "output_type": "stream",
     "text": [
      "256\n"
     ]
    }
   ],
   "source": [
    "#132: bitwise leftshift with 32 and skipping value is 3\n",
    "print(32<<3)"
   ]
  },
  {
   "cell_type": "code",
   "execution_count": 20,
   "metadata": {},
   "outputs": [
    {
     "name": "stdout",
     "output_type": "stream",
     "text": [
      "6\n"
     ]
    }
   ],
   "source": [
    "#133: bitwise rightshift with 25 and skipping value is 2\n",
    "print(25>>2)"
   ]
  },
  {
   "cell_type": "code",
   "execution_count": 21,
   "metadata": {},
   "outputs": [
    {
     "name": "stdout",
     "output_type": "stream",
     "text": [
      "1000\n"
     ]
    }
   ],
   "source": [
    "#134: to find out the output of a given condition (10+20*80 and 10**3) or ((10,20) or not([15-16]))\n",
    "print( (10+20*80 and 10**3) or ((10,20) or not([15-16])))"
   ]
  },
  {
   "cell_type": "code",
   "execution_count": 73,
   "metadata": {},
   "outputs": [
    {
     "name": "stdout",
     "output_type": "stream",
     "text": [
      "True\n",
      "True\n",
      "False\n",
      "True\n"
     ]
    }
   ],
   "source": [
    "#135: wae to check if a given key is present in a dict\n",
    "d={'a':10,'hai':'bey',(100,):(10,20)}\n",
    "k='a'\n",
    "print(k in d)\n",
    "print(k in d.keys())\n",
    "k=10\n",
    "print(k in d)\n",
    "k=('a',10)\n",
    "print(k in d.items())\n"
   ]
  },
  {
   "cell_type": "code",
   "execution_count": 76,
   "metadata": {},
   "outputs": [
    {
     "name": "stdout",
     "output_type": "stream",
     "text": [
      "False\n",
      "True\n"
     ]
    }
   ],
   "source": [
    "#136: wae to check if value is present  in the dict or not\n",
    "d={'a':10,'hai':'bey',(100,):(10,20)}\n",
    "k=10\n",
    "print(k in d)\n",
    "print(k in d.values())\n"
   ]
  },
  {
   "cell_type": "code",
   "execution_count": 24,
   "metadata": {},
   "outputs": [
    {
     "name": "stdout",
     "output_type": "stream",
     "text": [
      "True\n"
     ]
    }
   ],
   "source": [
    "#137: wae to check if key is present  in the dict or not\n",
    "a={33:'ser','f':58,44:'rrks'}\n",
    "b=33\n",
    "print(b in a.keys())"
   ]
  },
  {
   "cell_type": "code",
   "execution_count": 77,
   "metadata": {},
   "outputs": [
    {
     "name": "stdout",
     "output_type": "stream",
     "text": [
      "True\n"
     ]
    }
   ],
   "source": [
    "#138: wae to check if key and value is present  in the dict or not\n",
    "d={'a':10,'hai':'bey',(100,):(10,20)}\n",
    "k=('a',10)\n",
    "print(k in d.items())"
   ]
  },
  {
   "cell_type": "code",
   "execution_count": 81,
   "metadata": {},
   "outputs": [
    {
     "name": "stdout",
     "output_type": "stream",
     "text": [
      "False\n",
      "True\n"
     ]
    },
    {
     "name": "stderr",
     "output_type": "stream",
     "text": [
      "<>:5: SyntaxWarning: \"is\" with a literal. Did you mean \"==\"?\n",
      "<>:5: SyntaxWarning: \"is\" with a literal. Did you mean \"==\"?\n",
      "C:\\Users\\Shaik Imran\\AppData\\Local\\Temp\\ipykernel_33064\\4164406787.py:5: SyntaxWarning: \"is\" with a literal. Did you mean \"==\"?\n",
      "  print(257 is 257)\n"
     ]
    }
   ],
   "source": [
    "#139: to check  if two values  are pointing to the same address or not\n",
    "a=257\n",
    "b=257\n",
    "print(a is b)\n",
    "print(257 is 257)\n"
   ]
  },
  {
   "cell_type": "code",
   "execution_count": 82,
   "metadata": {},
   "outputs": [
    {
     "name": "stdout",
     "output_type": "stream",
     "text": [
      "True\n"
     ]
    }
   ],
   "source": [
    "#140: wae to check both the values should be integer and both the values are pointing to the same address\n",
    "a=256\n",
    "b=256\n",
    "print(type(a)==int and type(b)==int and a is b)"
   ]
  }
 ],
 "metadata": {
  "kernelspec": {
   "display_name": "Python 3",
   "language": "python",
   "name": "python3"
  },
  "language_info": {
   "codemirror_mode": {
    "name": "ipython",
    "version": 3
   },
   "file_extension": ".py",
   "mimetype": "text/x-python",
   "name": "python",
   "nbconvert_exporter": "python",
   "pygments_lexer": "ipython3",
   "version": "3.10.7"
  },
  "orig_nbformat": 4
 },
 "nbformat": 4,
 "nbformat_minor": 2
}
