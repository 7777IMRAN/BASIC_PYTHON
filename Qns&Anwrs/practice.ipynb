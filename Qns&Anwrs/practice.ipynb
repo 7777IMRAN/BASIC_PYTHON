{
 "cells": [
  {
   "cell_type": "code",
   "execution_count": 1,
   "metadata": {},
   "outputs": [
    {
     "name": "stdout",
     "output_type": "stream",
     "text": [
      "helloworld\n"
     ]
    }
   ],
   "source": [
    "#wap to print 'helloworld\n",
    "print('helloworld')\n"
   ]
  },
  {
   "cell_type": "code",
   "execution_count": 6,
   "metadata": {},
   "outputs": [
    {
     "name": "stdout",
     "output_type": "stream",
     "text": [
      "20 [20, 40, 50] {'str', 23} 77.77j\n",
      "<class 'int'>\n",
      "<class 'list'>\n",
      "<class 'set'>\n",
      "<class 'complex'>\n"
     ]
    }
   ],
   "source": [
    "#wap to print multi variable syntax and type of variable\n",
    "a,b,c,d=20,[20,40,50],{23,'str'},77.77j\n",
    "print(a,b,c,d)\n",
    "#type of data\n",
    "print(type(a))\n",
    "print(type(b))\n",
    "print(type(c))\n",
    "print(type(d))"
   ]
  },
  {
   "cell_type": "code",
   "execution_count": 4,
   "metadata": {},
   "outputs": [
    {
     "name": "stdout",
     "output_type": "stream",
     "text": [
      "hello\n",
      "haii\n",
      "haii hello\n",
      "[20, 40]\n",
      "[70, 80]\n",
      "m is: [70, 80] n is: [20, 40]\n"
     ]
    }
   ],
   "source": [
    "#wap to swap to values with  temp variable\n",
    "a='hello'\n",
    "print(a)\n",
    "b='haii'\n",
    "print(b)\n",
    "temp =a\n",
    "a=b\n",
    "b=temp\n",
    "print(a,b)\n",
    "# without temp variable\n",
    "m=[20,40]\n",
    "print(m)\n",
    "n=[70,80]\n",
    "print(n)\n",
    "m,n=n,m\n",
    "print('m is:',m,'n is:',n)"
   ]
  },
  {
   "cell_type": "code",
   "execution_count": 14,
   "metadata": {},
   "outputs": [
    {
     "name": "stdout",
     "output_type": "stream",
     "text": [
      "20\n",
      "['2', '0']\n"
     ]
    }
   ],
   "source": [
    "#wap to convert single value to multi value datatype\n",
    "#i/p a=20 , o/p a=['2','0']\n",
    "a=20\n",
    "a=str(a)\n",
    "print(a)\n",
    "print(list(a))"
   ]
  },
  {
   "cell_type": "code",
   "execution_count": 7,
   "metadata": {},
   "outputs": [
    {
     "name": "stdout",
     "output_type": "stream",
     "text": [
      "helloworld\n",
      "[10, 30, 20, 40, 90, 900]\n",
      "(20, 44, 22, 222, 333)\n",
      "{'10': 20, 30: 'str', 'a': 33}\n"
     ]
    }
   ],
   "source": [
    "#to concate multi value datatype\n",
    "a='hello'\n",
    "a+='world'\n",
    "print(a)\n",
    "b=[10,30,20,40]\n",
    "b+=(90,900)\n",
    "print(b)\n",
    "l=(20,44,22);l=l+(222,333)\n",
    "print(l)\n",
    "x={'10':20,30:'str',}\n",
    "x|={'a':33}\n",
    "print(x)\n"
   ]
  },
  {
   "cell_type": "code",
   "execution_count": 11,
   "metadata": {},
   "outputs": [
    {
     "name": "stdout",
     "output_type": "stream",
     "text": [
      "444\n",
      "starthings\n",
      "start at middle of ings\n"
     ]
    }
   ],
   "source": [
    "#wap to find middle value of the given collection\n",
    "d=[999,333,444,222,777]\n",
    "print(d[len(d)//2])\n",
    "#wap to concate new string into middle of the existing string\n",
    "var='starthings'\n",
    "print(var)\n",
    "var=var[0:len(var)//2]+' at middle of '+var[(len(var)//2)+1:]\n",
    "print(var)"
   ]
  },
  {
   "cell_type": "code",
   "execution_count": 16,
   "metadata": {},
   "outputs": [
    {
     "name": "stdout",
     "output_type": "stream",
     "text": [
      "['a', 'b', 'c', 20, 30, 40]\n",
      "('a', 'b', 'c', 20, 30, 40, 20, 30, 40)\n"
     ]
    }
   ],
   "source": [
    "#wap to concate list and tuple values by using type_casting\n",
    "l=['a','b','c']\n",
    "t=(20,30,40)\n",
    "l=l+list(t) # or l+=t we get same address\n",
    "t=tuple(l)+t\n",
    "\n",
    "\n",
    "print(l)\n",
    "print(t)"
   ]
  },
  {
   "cell_type": "code",
   "execution_count": 28,
   "metadata": {},
   "outputs": [
    {
     "name": "stdout",
     "output_type": "stream",
     "text": [
      "False\n",
      "True\n",
      "False\n",
      "True\n",
      "9\n",
      "False\n"
     ]
    }
   ],
   "source": [
    "#to check the given number is divisible by 3\n",
    "a=323;b=30\n",
    "print(a%3==0); print(b%3==0)\n",
    "#to check the given number is divisible by 2 and 6\n",
    "print(a%2==0 and a%6==0);print(b%2==0 and b%6==0)\n",
    "# to extract the last digit from the given number without typecasting\n",
    "n=1999\n",
    "print(n%10)\n",
    "# to check the last digit is divisible by 3 from the given integer number without typecasting\n",
    "s=7777\n",
    "print((s%10)%3==0)"
   ]
  },
  {
   "cell_type": "code",
   "execution_count": 33,
   "metadata": {},
   "outputs": [
    {
     "name": "stdout",
     "output_type": "stream",
     "text": [
      "4\n",
      "False\n"
     ]
    }
   ],
   "source": [
    "# wap to extract last digit from a given number using type casting\n",
    "a=23454\n",
    "print(str(a)[-1])\n",
    "\n",
    "'''wap to check the given number is divisible by 3 using type casting  '''\n",
    "n=2026\n",
    "print(int(str(n))%3==0)"
   ]
  },
  {
   "cell_type": "code",
   "execution_count": 1,
   "metadata": {},
   "outputs": [
    {
     "name": "stdout",
     "output_type": "stream",
     "text": [
      "True\n",
      "not even\n",
      "even\n"
     ]
    }
   ],
   "source": [
    "#wap to check the given number is greater than 150\n",
    "a=333\n",
    "print(a>150)\n",
    "# wap to check the given number is even\n",
    "print(('even','not even')[(a%2!=0)])\n",
    "# wap to check the given number is odd\n",
    "b=46\n",
    "print(('odd','even')[(b%2==0)])\n",
    "\n"
   ]
  },
  {
   "cell_type": "markdown",
   "metadata": {},
   "source": [
    "in between - start < value and value < end\n",
    "between    - start <= value and value <= end\n",
    "range      - start <= value and value <= end\n",
    "\n"
   ]
  },
  {
   "cell_type": "code",
   "execution_count": 1,
   "metadata": {},
   "outputs": [],
   "source": [
    "a=10"
   ]
  },
  {
   "cell_type": "code",
   "execution_count": null,
   "metadata": {},
   "outputs": [],
   "source": []
  }
 ],
 "metadata": {
  "kernelspec": {
   "display_name": "Python 3",
   "language": "python",
   "name": "python3"
  },
  "language_info": {
   "codemirror_mode": {
    "name": "ipython",
    "version": 3
   },
   "file_extension": ".py",
   "mimetype": "text/x-python",
   "name": "python",
   "nbconvert_exporter": "python",
   "pygments_lexer": "ipython3",
   "version": "3.10.7"
  },
  "orig_nbformat": 4
 },
 "nbformat": 4,
 "nbformat_minor": 2
}
