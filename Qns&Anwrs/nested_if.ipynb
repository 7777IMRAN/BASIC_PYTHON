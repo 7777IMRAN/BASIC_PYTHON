{
 "cells": [
  {
   "cell_type": "code",
   "execution_count": 14,
   "metadata": {},
   "outputs": [
    {
     "name": "stdout",
     "output_type": "stream",
     "text": [
      "15.0\n"
     ]
    }
   ],
   "source": [
    "#wap to check value + or -\n",
    "# and check even or not , if even didplay half value , if odd display sqaure of given value\n",
    "# if -ve value display absolute value\n",
    "a=30\n",
    "if a>0:\n",
    "    if a%2==0:\n",
    "        print(a/2)\n",
    "    elif a%2!=0:\n",
    "        print(a**2)\n",
    "elif a==0:\n",
    "    print('value is nutral')\n",
    "\n",
    "else:\n",
    "    print(-a)\n",
    "    print(abs(a)) #abs(): absolute function."
   ]
  },
  {
   "cell_type": "code",
   "execution_count": 37,
   "metadata": {},
   "outputs": [
    {
     "name": "stdout",
     "output_type": "stream",
     "text": [
      "A\n"
     ]
    }
   ],
   "source": [
    "#wap to check the given character is alphabet or not, if alphabet check uppercase or not , if uppercase convert to lowercase\n",
    "# if lowercase convert to upper case\n",
    "#if given caracter is ascii number, store ascii caracter and ascii value in string\n",
    "# if special character display previous given and next character\n",
    "#if not a special charecter store the value inside the set\n",
    "a='a'\n",
    "\n",
    "if type(a)==str and len(a)==1 and 'a'<=a<='z' or 'A'<=a<='Z':\n",
    "    if 'A'<=a<='Z':\n",
    "        print(chr(ord(a)+32))\n",
    "    elif 'a'<=a<='z': #or else: block\n",
    "        print(chr(ord(a)-32))\n",
    "elif type(a)==str and len(a)==1 and'0'<=a<='9':\n",
    "    n=a+str(ord(a))\n",
    "    print(n)\n",
    "else:\n",
    "    if type(a)==str and len(a)==1 and not('a'<=a<='z' or 'A'<=a<='Z' or '0'<=a<='9'):\n",
    "        n=chr(ord(a)-1)+a+chr(ord(a)+1)\n",
    "        print(n)\n",
    "    else:\n",
    "        print(set(a))\n"
   ]
  },
  {
   "cell_type": "code",
   "execution_count": 50,
   "metadata": {},
   "outputs": [
    {
     "name": "stdout",
     "output_type": "stream",
     "text": [
      "{(77,)}\n"
     ]
    }
   ],
   "source": [
    "ch={77:88} #sir\n",
    "s=''\n",
    "d=set()\n",
    "if type(ch)==str and len(ch)==1:\n",
    "    if 'A'<=ch<='Z' or 'a'<=ch<='z':\n",
    "        if 'A'<=ch<='Z':\n",
    "            a=chr(ord(ch)+32)\n",
    "            print(a)\n",
    "        else:\n",
    "            a=chr(ord(ch)-32)\n",
    "            print(a)\n",
    "    elif '0'<=ch<='9':\n",
    "        s+=ch+str(ord(ch))\n",
    "        print(s)\n",
    "    else:\n",
    "        print(chr(ord(ch)-1),ch,chr(ord(ch)+1))\n",
    "else:\n",
    "    if type(ch) in [list,tuple,set,dict]:\n",
    "        d|={tuple(ch)}\n",
    "        print(d)\n",
    "    else:\n",
    "        d|={ch}\n",
    "        print(d)"
   ]
  },
  {
   "cell_type": "code",
   "execution_count": null,
   "metadata": {},
   "outputs": [],
   "source": [
    "#wap to check given two values are same collection or not, \n",
    "#if same collection check collection are list or not ,\n",
    "# if list concate both the collection withought changing first collection address\n",
    "#if collection is dict, modify the first dict by the help of  second dict witought changinge the fist dict address\n",
    "# if both collection are not same concate both the collection\n",
    "# if both are numbers perform multiplication\n",
    "#if any of value if bool or None , convert to string\n",
    "#if both values are complex , extract only imaginary value and store in complex.\n",
    "# if both values are in bytes display the ascii value without ord()\n",
    "#"
   ]
  },
  {
   "cell_type": "code",
   "execution_count": 95,
   "metadata": {},
   "outputs": [
    {
     "name": "stdout",
     "output_type": "stream",
     "text": [
      "NoneNone\n"
     ]
    }
   ],
   "source": [
    "a=None;b=None\n",
    "if type(a)==type(b) in[str,list,tuple,set,dict]:\n",
    "    if type(a)==list:\n",
    "        a+=b\n",
    "        print(a)\n",
    "    elif type(a)==dict:\n",
    "        a|=b\n",
    "        print(a)\n",
    "    else:\n",
    "        print('both collection are same type, but not in list/dict formate')\n",
    "elif type(a)==type(b) in[int,complex,bytes]:\n",
    "    if type(a)==int:\n",
    "        print(a*b)\n",
    "    elif type(a)==bytes:\n",
    "        c=list(a)\n",
    "        r=list(b)\n",
    "        print(c)\n",
    "        print(r)\n",
    "\n",
    "    else:\n",
    "        c=complex(a.imag,b.imag)\n",
    "        print(c)\n",
    "elif type(a)in[bool,type(None)] or type(b)in[bool,type(None)]:\n",
    "    s=str(a)+str(b)\n",
    "    print(s)\n",
    "else:\n",
    "    s=str(a)+str(b)\n",
    "    print(s)\n",
    "\n",
    "\n",
    "\n",
    "\n",
    "\n"
   ]
  },
  {
   "cell_type": "code",
   "execution_count": 65,
   "metadata": {},
   "outputs": [
    {
     "name": "stdout",
     "output_type": "stream",
     "text": [
      "44,88{33: 44}\n"
     ]
    }
   ],
   "source": [
    "a='44,88';b={33:44}\n",
    "if type(a)!=type(b):\n",
    "    if type(a) not in[set,dict]:\n",
    "        b=type(a)(b)\n",
    "        a+=b\n",
    "        print(a)"
   ]
  }
 ],
 "metadata": {
  "kernelspec": {
   "display_name": "Python 3",
   "language": "python",
   "name": "python3"
  },
  "language_info": {
   "codemirror_mode": {
    "name": "ipython",
    "version": 3
   },
   "file_extension": ".py",
   "mimetype": "text/x-python",
   "name": "python",
   "nbconvert_exporter": "python",
   "pygments_lexer": "ipython3",
   "version": "3.10.7"
  },
  "orig_nbformat": 4
 },
 "nbformat": 4,
 "nbformat_minor": 2
}
