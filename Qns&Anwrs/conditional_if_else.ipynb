{
 "cells": [
  {
   "cell_type": "code",
   "execution_count": null,
   "metadata": {},
   "outputs": [],
   "source": []
  },
  {
   "cell_type": "markdown",
   "metadata": {},
   "source": [
    "1.WAP to check whether a number is positive or negative. If Positive print positive \n",
    "message or else print Negative Number.\n"
   ]
  },
  {
   "cell_type": "code",
   "execution_count": 6,
   "metadata": {},
   "outputs": [
    {
     "name": "stdout",
     "output_type": "stream",
     "text": [
      "positive number\n"
     ]
    }
   ],
   "source": [
    "a=7\n",
    "if a>0:\n",
    "    print('positive number')\n",
    "else:\n",
    "    print('negetive number')"
   ]
  },
  {
   "cell_type": "markdown",
   "metadata": {},
   "source": [
    "2.WAP to check whether a number is even or odd. If even, print message an even \n",
    "or else print message as odd.\n"
   ]
  },
  {
   "cell_type": "code",
   "execution_count": 9,
   "metadata": {},
   "outputs": [
    {
     "name": "stdout",
     "output_type": "stream",
     "text": [
      "even number\n"
     ]
    }
   ],
   "source": [
    "a=8\n",
    "if a%2==0:\n",
    "    print('even number')\n",
    "else :\n",
    "    print('odd number')"
   ]
  },
  {
   "cell_type": "markdown",
   "metadata": {},
   "source": [
    "3.Write a program to check whether a given number is greater than 10 or not. if it \n",
    "is greater than 10 print message as greater or else print that number with not a \n",
    "greater than."
   ]
  },
  {
   "cell_type": "code",
   "execution_count": 11,
   "metadata": {},
   "outputs": [
    {
     "name": "stdout",
     "output_type": "stream",
     "text": [
      "80 is greater than 10\n"
     ]
    }
   ],
   "source": [
    "a=80\n",
    "if a>10:\n",
    "    print(f'{a} is greater than 10')\n",
    "else:\n",
    "    print(f'{a} is less than 10')"
   ]
  },
  {
   "cell_type": "markdown",
   "metadata": {},
   "source": [
    "4.WAP to check whether the given two input numbers are divisible by 3 and 5. If it \n",
    "is divisible, print “Good Morning”, if it is not divisible print “Good Evening”."
   ]
  },
  {
   "cell_type": "code",
   "execution_count": 13,
   "metadata": {},
   "outputs": [
    {
     "name": "stdout",
     "output_type": "stream",
     "text": [
      "good morning\n"
     ]
    }
   ],
   "source": [
    "a=int(input('enter number'));b=int(input('enter number'))\n",
    "if a%3==0 and a%5==0 and b%3==0 and b%5==0:\n",
    "    print('good morning')\n",
    "else:\n",
    "    print('good evening')"
   ]
  },
  {
   "cell_type": "markdown",
   "metadata": {},
   "source": [
    "5.WAP to accept two integers and check whether those two values are equal or not.\n",
    "If equal, multiply to value or else to display the quotation value."
   ]
  },
  {
   "cell_type": "code",
   "execution_count": 15,
   "metadata": {},
   "outputs": [
    {
     "name": "stdout",
     "output_type": "stream",
     "text": [
      "900\n"
     ]
    }
   ],
   "source": [
    "a=30\n",
    "b=30\n",
    "if a==b:\n",
    "    print(a*b)\n",
    "else:\n",
    "    pass"
   ]
  },
  {
   "cell_type": "markdown",
   "metadata": {},
   "source": [
    "6.WAP to find the largest of two numbers.\n"
   ]
  },
  {
   "cell_type": "code",
   "execution_count": 17,
   "metadata": {},
   "outputs": [
    {
     "name": "stdout",
     "output_type": "stream",
     "text": [
      "655\n"
     ]
    }
   ],
   "source": [
    "a=655\n",
    "b=90\n",
    "if a>b:\n",
    "    print(a)\n",
    "else:\n",
    "    print(b)"
   ]
  },
  {
   "cell_type": "markdown",
   "metadata": {},
   "source": [
    "7.WAP to check whether the input number is greater than 10 or not if it is greater \n",
    "than 10 print messages as greater with number. if it is not a greater than 10 print \n",
    "that number."
   ]
  },
  {
   "cell_type": "code",
   "execution_count": 18,
   "metadata": {},
   "outputs": [
    {
     "name": "stdout",
     "output_type": "stream",
     "text": [
      "greater 45\n"
     ]
    }
   ],
   "source": [
    "a=int(input('enter number'))\n",
    "if a>10:\n",
    "    print(f'greater {a}')\n",
    "else:\n",
    "    print(a)"
   ]
  },
  {
   "cell_type": "markdown",
   "metadata": {},
   "source": [
    "8.WAP to the given number integer, if n is greater than 21,print the absolute \n",
    "difference between n and 21 otherwise print twice the absolute difference."
   ]
  },
  {
   "cell_type": "code",
   "execution_count": 21,
   "metadata": {},
   "outputs": [
    {
     "name": "stdout",
     "output_type": "stream",
     "text": [
      "-2\n"
     ]
    }
   ],
   "source": [
    "n=20\n",
    "if n>21:\n",
    "    print(n-21)\n",
    "else:\n",
    "    print((n-21)+(n-21))"
   ]
  },
  {
   "cell_type": "markdown",
   "metadata": {},
   "source": [
    "9.WAP to find the smallest of two numbers."
   ]
  },
  {
   "cell_type": "code",
   "execution_count": 22,
   "metadata": {},
   "outputs": [
    {
     "name": "stdout",
     "output_type": "stream",
     "text": [
      "30\n"
     ]
    }
   ],
   "source": [
    "a=30\n",
    "b=80\n",
    "if a<b:\n",
    "    print(a)\n",
    "else:\n",
    "    print(b)"
   ]
  },
  {
   "cell_type": "markdown",
   "metadata": {},
   "source": [
    "10.WAP to check whether the given number is even or odd. If it is even then make \n",
    "it as an add number, if it is an odd number then make it as even number."
   ]
  },
  {
   "cell_type": "code",
   "execution_count": 27,
   "metadata": {},
   "outputs": [
    {
     "name": "stdout",
     "output_type": "stream",
     "text": [
      "89\n"
     ]
    }
   ],
   "source": [
    "a=88\n",
    "if a%2==0:\n",
    "    a=a+1\n",
    "    print(a)\n",
    "else:\n",
    "    a=a+1\n",
    "    print(a)"
   ]
  },
  {
   "cell_type": "markdown",
   "metadata": {},
   "source": [
    "WAP to check whether the given number is divisible by 3 or not if yes, print the \n",
    "number or else print the cube of the numbers."
   ]
  },
  {
   "cell_type": "code",
   "execution_count": 32,
   "metadata": {},
   "outputs": [
    {
     "name": "stdout",
     "output_type": "stream",
     "text": [
      "15\n"
     ]
    }
   ],
   "source": [
    "a=15\n",
    "if a%3==0:\n",
    "    print(a)\n",
    "else:\n",
    "    print(a**3)"
   ]
  },
  {
   "cell_type": "markdown",
   "metadata": {},
   "source": [
    "WAP to check whether the given input is divisible by 3 and 5. If yes print the \n",
    "actual number or else print string of that number."
   ]
  },
  {
   "cell_type": "code",
   "execution_count": 40,
   "metadata": {},
   "outputs": [
    {
     "name": "stdout",
     "output_type": "stream",
     "text": [
      "22\n"
     ]
    }
   ],
   "source": [
    "a=22\n",
    "if a%3==0 and a%5==0:\n",
    "    print(a)\n",
    "else:\n",
    "    a=str(a)\n",
    "    print(a)\n",
    "    "
   ]
  },
  {
   "cell_type": "markdown",
   "metadata": {},
   "source": [
    "WAP to check whether the given number lies between 1 to 19, if it is true square \n",
    "that number or else false cube that number and display the number."
   ]
  },
  {
   "cell_type": "code",
   "execution_count": 47,
   "metadata": {},
   "outputs": [
    {
     "name": "stdout",
     "output_type": "stream",
     "text": [
      "9\n"
     ]
    }
   ],
   "source": [
    "a=3\n",
    "if 1<a<19:\n",
    "    print(a**2)\n",
    "else:\n",
    "    print(a**3)\n"
   ]
  },
  {
   "cell_type": "markdown",
   "metadata": {},
   "source": [
    "WAP to check whether the student has passed or failed. If the student got more \n",
    "than 40 marks, print ‘PASS’ along with those marks, if it is not printed ‘FAIL’ along \n",
    "with those marks."
   ]
  },
  {
   "cell_type": "code",
   "execution_count": 49,
   "metadata": {},
   "outputs": [
    {
     "name": "stdout",
     "output_type": "stream",
     "text": [
      "pass 45\n"
     ]
    }
   ],
   "source": [
    "student=45\n",
    "if student>40:\n",
    "    print(f'pass {student}')\n",
    "else:\n",
    "    print(f'Fail {student}')"
   ]
  },
  {
   "cell_type": "markdown",
   "metadata": {},
   "source": [
    "WAP to check whether a given value is even and in range of 47 to 58 and not in 0 \n",
    "or odd. if condition is True, to perform display the ascii character. or else to \n",
    "perform floor division with 5 and display it."
   ]
  },
  {
   "cell_type": "code",
   "execution_count": 63,
   "metadata": {},
   "outputs": [
    {
     "name": "stdout",
     "output_type": "stream",
     "text": [
      "8\n"
     ]
    }
   ],
   "source": [
    "a=56\n",
    "if a%2==0 and 47<=a<=58 :\n",
    "    print(chr(a))\n",
    "else:\n",
    "    print(a//5)\n"
   ]
  },
  {
   "cell_type": "markdown",
   "metadata": {},
   "source": [
    "WAP to check whether a given value is less than 125 and in between 47 to 125 or \n",
    "not. if condition is True, to perform store the given value as key and value as a \n",
    "character into the dict or else to append the value in list and display it.\n"
   ]
  },
  {
   "cell_type": "code",
   "execution_count": 64,
   "metadata": {},
   "outputs": [
    {
     "name": "stdout",
     "output_type": "stream",
     "text": [
      "{120: 'x'}\n"
     ]
    }
   ],
   "source": [
    "a=120\n",
    "if 47<a<125:\n",
    "    a={a:chr(a)}\n",
    "    print(a)"
   ]
  },
  {
   "cell_type": "markdown",
   "metadata": {},
   "source": [
    "17.WAP to check whether a given character is in the alphabet or not. if alphabet, \n",
    "display the alphabet with character or else display the not alphabet with \n",
    "character."
   ]
  },
  {
   "cell_type": "code",
   "execution_count": 66,
   "metadata": {},
   "outputs": [
    {
     "name": "stdout",
     "output_type": "stream",
     "text": [
      "not alphabet $\n"
     ]
    }
   ],
   "source": [
    "a='$'\n",
    "if 'a'<=a<='z' or 'A'<=a<='Z':\n",
    "    print(f'alphabet {a}')\n",
    "else:\n",
    "    print(f'not alphabet {a}')"
   ]
  },
  {
   "cell_type": "markdown",
   "metadata": {},
   "source": [
    "18.WAP to check whether a given character is uppercase or other character. if \n",
    "uppercase, display the uppercase with character or else display the other \n",
    "character with character.\n"
   ]
  },
  {
   "cell_type": "code",
   "execution_count": 69,
   "metadata": {},
   "outputs": [
    {
     "name": "stdout",
     "output_type": "stream",
     "text": [
      "uppercase F\n"
     ]
    }
   ],
   "source": [
    "a='F'\n",
    "if 'A'<=a<='Z':\n",
    "    print(f'uppercase {a}')\n",
    "else:\n",
    "    print(f'other character {a}')"
   ]
  },
  {
   "cell_type": "markdown",
   "metadata": {},
   "source": [
    "19.WAP to check whether a given character is uppercase or other character. if \n",
    "uppercase, convert to lowercase .or else display the ascii number."
   ]
  },
  {
   "cell_type": "code",
   "execution_count": 70,
   "metadata": {},
   "outputs": [
    {
     "name": "stdout",
     "output_type": "stream",
     "text": [
      "i\n"
     ]
    }
   ],
   "source": [
    "a='I'\n",
    "if 'A'<=a<='Z':\n",
    "    a=chr(ord(a)+32)\n",
    "    print(a)\n",
    "else:\n",
    "    ord(a)"
   ]
  },
  {
   "cell_type": "markdown",
   "metadata": {},
   "source": [
    "20.WAP to check whether the given character is in lowercase or uppercase. If it is \n",
    "in lowercase, convert it into uppercase, or else it is in uppercase and convert it \n",
    "into lowercase. Display the value.\n"
   ]
  },
  {
   "cell_type": "code",
   "execution_count": 73,
   "metadata": {},
   "outputs": [
    {
     "name": "stdout",
     "output_type": "stream",
     "text": [
      "I\n"
     ]
    }
   ],
   "source": [
    "a='i'\n",
    "if 'a'<=a<='z':\n",
    "    a=chr(ord(a)-32)\n",
    "    print(a)\n",
    "else: \n",
    "    a=chr(ord(a)+32)\n",
    "    print(a)\n"
   ]
  },
  {
   "cell_type": "markdown",
   "metadata": {},
   "source": [
    "21.WAP to check whether the given string of the first character is a special symbol \n",
    "or not. If a special symbol, to extract and display the middle character or else to \n",
    "reverse the string and display the half of the string.\n"
   ]
  },
  {
   "cell_type": "code",
   "execution_count": 92,
   "metadata": {},
   "outputs": [
    {
     "name": "stdout",
     "output_type": "stream",
     "text": [
      "j\n"
     ]
    }
   ],
   "source": [
    "a='#hgjkhk'\n",
    "if not('a'<=a[0]<='z' or 'A'<=a[0]<='Z' or '0'<=a[0]<='9'):\n",
    "    print(a[len(a)//2])\n",
    "else:\n",
    "    a=a[::-1]\n",
    "\n",
    "    print(a[0:len(a)//2])"
   ]
  },
  {
   "cell_type": "markdown",
   "metadata": {},
   "source": [
    "22.WAP to check whether the input character is a vowel or not. If it is vowel print \n",
    "‘VOWEL’ along with that character, if it is not just print ‘CONSONANT’."
   ]
  },
  {
   "cell_type": "code",
   "execution_count": 102,
   "metadata": {},
   "outputs": [
    {
     "name": "stdout",
     "output_type": "stream",
     "text": [
      "vowel e\n"
     ]
    }
   ],
   "source": [
    "a='e'\n",
    "if a in ('aeiouAEIOU'):\n",
    "    print(f'vowel {a}')\n",
    "else:\n",
    "    print('consonant')"
   ]
  },
  {
   "cell_type": "markdown",
   "metadata": {},
   "source": [
    "23.WAP to check whether a given character is a vowel or consonant. if vowel, to \n",
    "print the next character of a given character or else print previous characters.\n"
   ]
  },
  {
   "cell_type": "code",
   "execution_count": 106,
   "metadata": {},
   "outputs": [
    {
     "name": "stdout",
     "output_type": "stream",
     "text": [
      "j\n"
     ]
    }
   ],
   "source": [
    "a='i'\n",
    "if a in ('aeiouAEIOU'):\n",
    "    a=chr(ord(a)+1)\n",
    "    print(a)\n",
    "else:\n",
    "    print(chr(ord(a)-1))"
   ]
  },
  {
   "cell_type": "markdown",
   "metadata": {},
   "source": [
    "24.WAP to check whether a given string of first character is alphabet or not\n",
    "if the alphabet prints, reverse the string or else print the middle character."
   ]
  },
  {
   "cell_type": "code",
   "execution_count": 116,
   "metadata": {},
   "outputs": [
    {
     "name": "stdout",
     "output_type": "stream",
     "text": [
      "f\n"
     ]
    }
   ],
   "source": [
    "a='*#fdf%jl'\n",
    "if 'A'<=a<='Z' or 'a'<=a<='z':\n",
    "    print(a[::-1])\n",
    "else:\n",
    "    print(a[len(a)//2])\n"
   ]
  },
  {
   "cell_type": "markdown",
   "metadata": {},
   "source": [
    "25WAP to check whether the given input character is uppercase or lowercase. If \n",
    "the input character is upper case convert into lower case and vice versa."
   ]
  },
  {
   "cell_type": "code",
   "execution_count": 120,
   "metadata": {},
   "outputs": [
    {
     "name": "stdout",
     "output_type": "stream",
     "text": [
      "i\n"
     ]
    }
   ],
   "source": [
    "a='I'\n",
    "if 'A'<=a<='Z':\n",
    "    print(chr(ord(a)+32))\n",
    "else:\n",
    "    print(chr(ord(a)-32))"
   ]
  },
  {
   "cell_type": "markdown",
   "metadata": {},
   "source": [
    "26.WAP to check whether a given string is less than 3 characters, to print the entire \n",
    "string otherwise to print after third positions to the remaining string."
   ]
  },
  {
   "cell_type": "code",
   "execution_count": 122,
   "metadata": {},
   "outputs": [
    {
     "name": "stdout",
     "output_type": "stream",
     "text": [
      "st\n"
     ]
    }
   ],
   "source": [
    "a='st'\n",
    "if len(a)<3:\n",
    "    print(a)\n",
    "else:\n",
    "    print(a[4:])"
   ]
  },
  {
   "cell_type": "markdown",
   "metadata": {},
   "source": [
    "27.WAP to check whether a given length of the string is even or not. if even, to \n",
    "append the new string called \"bye\" or else print the first and last characters."
   ]
  },
  {
   "cell_type": "code",
   "execution_count": 126,
   "metadata": {},
   "outputs": [
    {
     "name": "stdout",
     "output_type": "stream",
     "text": [
      "byestring\n"
     ]
    }
   ],
   "source": [
    "a='string'\n",
    "if len(a)%2==0:\n",
    "    a='bye'+a\n",
    "    print(a)\n",
    "else:\n",
    "    print(a[0]+a[-1])"
   ]
  },
  {
   "cell_type": "markdown",
   "metadata": {},
   "source": [
    "28.WAP to check whether a given length of the string is odd or not. if odd, to append \n",
    "the new string(\"Haii\") from the starting of the given string, or else to avoid the \n",
    "starting character and ending character of the given\n",
    "string and to display the remaining characters.\n"
   ]
  },
  {
   "cell_type": "code",
   "execution_count": 132,
   "metadata": {},
   "outputs": [
    {
     "name": "stdout",
     "output_type": "stream",
     "text": [
      "Haiilength\n"
     ]
    }
   ],
   "source": [
    "a='length'\n",
    "if len(a)%2==0:\n",
    "    a='Haii'+a\n",
    "    print(a)\n",
    "else:\n",
    "    print(a[1:-1])"
   ]
  },
  {
   "cell_type": "markdown",
   "metadata": {},
   "source": [
    "29.WAP to check whether the last of the given string is a special character or not, if \n",
    "the special character prints reverse the string except the last character or else to \n",
    "check if the length of the string is odd or not, if odd to extract the middle \n",
    "character to the end of the string.\n"
   ]
  },
  {
   "cell_type": "code",
   "execution_count": 141,
   "metadata": {},
   "outputs": [
    {
     "name": "stdout",
     "output_type": "stream",
     "text": [
      "f\n"
     ]
    }
   ],
   "source": [
    "a='sdfdf'\n",
    "if not ('a'<=a[-1]<='z' or 'A'<=a[-1]<='Z' or '0'<=a[-1]<='9'):\n",
    "    print(a[0:-1])\n",
    "elif len(a)%2!=0:\n",
    "     print(a[len(a)//2])\n"
   ]
  },
  {
   "cell_type": "markdown",
   "metadata": {},
   "source": [
    "WAP to check whether a given year is a leap year or not. if leap year, print leap \n",
    "year or else not a leap year."
   ]
  },
  {
   "cell_type": "markdown",
   "metadata": {},
   "source": [
    "WAP to find out the greatest of two numbers and display the greatest number. if \n",
    "the greatest number, display the greatest message with value."
   ]
  },
  {
   "cell_type": "markdown",
   "metadata": {},
   "source": [
    "WAP to check whether the given value is present inside the given collection or \n",
    "not.if value is present, display the value is available or else the value is not \n",
    "present."
   ]
  },
  {
   "cell_type": "markdown",
   "metadata": {},
   "source": [
    "WAP whether a given string, if string length is more than 2, then it displays a new \n",
    "string with the first and last characters switched, otherwise the display the 3 \n",
    "copies of given string.\n"
   ]
  },
  {
   "cell_type": "markdown",
   "metadata": {},
   "source": [
    "WAP to check whether a given value is a list and first and last values should be \n",
    "integer if condition is satisfied first value is True division by 3 and perform the \n",
    "bitwise not for last value and those result values are stored in same positions in \n",
    "given list or else, to perform length of the collection power by 2 and display \n",
    "value.\n"
   ]
  },
  {
   "cell_type": "markdown",
   "metadata": {},
   "source": [
    "WAP to check whether a given value is a string or not and length of the value \n",
    "should be more than 7, if condition is satisfied to append the new string in the \n",
    "middle of the given string or else to perform the replications with 3 and display \n",
    "the result."
   ]
  },
  {
   "cell_type": "markdown",
   "metadata": {},
   "source": [
    "WAP to check if the given string of first and second character should be sequence \n",
    "or not. if the sequence prints the first, second and last two characters, or else the \n",
    "first half string is reversed and the remaining half string should be normal and \n",
    "display it. "
   ]
  },
  {
   "cell_type": "markdown",
   "metadata": {},
   "source": [
    "WAP to check whether a given value is present inside the collection or not. If \n",
    "present, print the value or else print value is not found."
   ]
  },
  {
   "cell_type": "markdown",
   "metadata": {},
   "source": [
    "WAP to check whether a given key is present in the dict or not. if key is present: \n",
    "display the value or else add key and new value inside the dict.\n"
   ]
  },
  {
   "cell_type": "markdown",
   "metadata": {},
   "source": [
    "WAP to check whether a given collection is set or not. if set, append the new \n",
    "value, or else eliminate the duplicate values in collection. final results should be \n",
    "set type.\n"
   ]
  },
  {
   "cell_type": "markdown",
   "metadata": {},
   "source": [
    "WAP to read the age of a candidate and determine whether it is eligible for \n",
    "his/her own vote or not.it eligible print age and eligible messages or else print \n",
    "not eligible.\n"
   ]
  },
  {
   "cell_type": "markdown",
   "metadata": {},
   "source": [
    "WAP to check whether a given value is even and in between 47 to 58 and not in \n",
    "0 or odd. if condition is True, to perform display the ascii character or else to \n",
    "perform floor division with 5 and display it.\n"
   ]
  },
  {
   "cell_type": "markdown",
   "metadata": {},
   "source": [
    "WAP to check whether the given string is palindrome or not if it is a palindrome \n",
    "string palindrome along with the string if it is not a palindrome print not \n",
    "palindrome\n"
   ]
  },
  {
   "cell_type": "markdown",
   "metadata": {},
   "source": [
    "WAP to check whether a given number is palindrome or not. If palindrome, \n",
    "display the given value as a palindrome or else not a palindrome."
   ]
  },
  {
   "cell_type": "markdown",
   "metadata": {},
   "source": [
    "WAP to check length of both string collections are equal or not. if both are equal \n",
    "print the concat the two strings and display, or else if any one of the collection \n",
    "not equal print both the collections with lengths"
   ]
  },
  {
   "cell_type": "markdown",
   "metadata": {},
   "source": [
    "WAP to check whether both given values point to the same memory location or \n",
    "not. if it is true print the middle item of the second collection, or else if it is false \n",
    "print the first item and last item of the first collection along with the memory \n",
    "address."
   ]
  },
  {
   "cell_type": "markdown",
   "metadata": {},
   "source": [
    "WAP to check whether a given string collection is more than ten, and the first + \n",
    "last character of the ascii values should be divisible by 5, if condition is satisfied \n",
    "print first, middle, last characters ASCII values or else print the string three \n",
    "times.\n"
   ]
  },
  {
   "cell_type": "markdown",
   "metadata": {},
   "source": [
    "WAP to check whether the middle of the item present in the list is string data type \n",
    "or not if it is string print that list or else if it is not string then print that middle \n",
    "item"
   ]
  },
  {
   "cell_type": "markdown",
   "metadata": {},
   "source": [
    "WAP to check whether the middle of the item present in the list is string data type \n",
    "or not if it is string print that list or else if it is not string then print that middle \n",
    "item"
   ]
  },
  {
   "cell_type": "markdown",
   "metadata": {},
   "source": [
    "Write a program to find out such numbers which are divisible by 7 but are not a \n",
    "multiple of 5. Both the conditional is satisfied and print actual value. if one \n",
    "condition is not satisfied actual number is multiply by 4 and print result"
   ]
  },
  {
   "cell_type": "markdown",
   "metadata": {},
   "source": [
    "WAP to check whether two values are pointing to the same memory address or \n",
    "not. If the same memory displays the address or else displays the two values \n",
    "addresses."
   ]
  },
  {
   "cell_type": "markdown",
   "metadata": {},
   "source": [
    "WAP to check whether a given input character is a special symbol or not if it is a \n",
    "special symbol then print that character three times and tell print that character \n",
    "5 times."
   ]
  },
  {
   "cell_type": "markdown",
   "metadata": {},
   "source": [
    "WAP to check length of both string collections equal or not if it is equal print the \n",
    "connection of any one of the collections if it is not equal print both the collection.\n"
   ]
  },
  {
   "cell_type": "markdown",
   "metadata": {},
   "source": [
    "WAP To check whether both input variables point to the same memory location \n",
    "or not if it is true print the last item of the second collection, if it is false print the \n",
    "first item of the first collection along with the memory address.\n"
   ]
  },
  {
   "cell_type": "markdown",
   "metadata": {},
   "source": [
    "WAP to print the string collection five times when the length of the string \n",
    "collection should be more than 3 and the middle character of the string should \n",
    "be vowel and the first character ASCII value should be even, to print the previous \n",
    "character of middle character, or else if ASCII value is odd then print the string \n",
    "three times as print that string.\n"
   ]
  },
  {
   "cell_type": "markdown",
   "metadata": {},
   "source": [
    "Ravi would like to buy a new cello or red pen. The cost of the pen should be 10. \n",
    "If the pen is available in the shop, he will buy the pen. If it is not there he will \n",
    "come out of the shop."
   ]
  },
  {
   "cell_type": "markdown",
   "metadata": {},
   "source": [
    "WAP to perform addition and subtraction operation by using list collection if the \n",
    "first and middle data items number are even performing addition operation, or \n",
    "else performing subtraction.\n"
   ]
  },
  {
   "cell_type": "markdown",
   "metadata": {},
   "source": [
    "WAP to check whether the first item of these two lists is either integer or not. \n",
    "If it is an integer, concatenate these two lists or else print the memory \n",
    "address of these two lists."
   ]
  }
 ],
 "metadata": {
  "kernelspec": {
   "display_name": "Python 3",
   "language": "python",
   "name": "python3"
  },
  "language_info": {
   "codemirror_mode": {
    "name": "ipython",
    "version": 3
   },
   "file_extension": ".py",
   "mimetype": "text/x-python",
   "name": "python",
   "nbconvert_exporter": "python",
   "pygments_lexer": "ipython3",
   "version": "3.10.7"
  },
  "orig_nbformat": 4
 },
 "nbformat": 4,
 "nbformat_minor": 2
}
