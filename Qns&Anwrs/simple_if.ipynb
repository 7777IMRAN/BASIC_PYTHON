{
 "cells": [
  {
   "cell_type": "code",
   "execution_count": 3,
   "metadata": {},
   "outputs": [
    {
     "name": "stdout",
     "output_type": "stream",
     "text": [
      "Positive\n"
     ]
    }
   ],
   "source": [
    "#1:wap to check whether a number is positive.If Positive,print a message Positive.\n",
    "n=7777\n",
    "if n>=0:\n",
    "    print('Positive')"
   ]
  },
  {
   "cell_type": "code",
   "execution_count": 5,
   "metadata": {},
   "outputs": [
    {
     "name": "stdout",
     "output_type": "stream",
     "text": [
      "hello world\n"
     ]
    }
   ],
   "source": [
    "#2:wap to display hello world if the number is greater than 1 and lesser than 5\n",
    "n=3\n",
    "if 1<n<5:\n",
    "    print('hello world')"
   ]
  },
  {
   "cell_type": "code",
   "execution_count": 6,
   "metadata": {},
   "outputs": [
    {
     "name": "stdout",
     "output_type": "stream",
     "text": [
      "fizz\n"
     ]
    }
   ],
   "source": [
    "#3:wap to check whether the given number is divisible by 3 or not if print fizz\n",
    "n=39\n",
    "if(n%3==0):\n",
    "    print('fizz')"
   ]
  },
  {
   "cell_type": "code",
   "execution_count": 11,
   "metadata": {},
   "outputs": [
    {
     "name": "stdout",
     "output_type": "stream",
     "text": [
      "(12+0j)\n"
     ]
    }
   ],
   "source": [
    "#4:wap to check whether given input is divisible by 2 and 6. if the condition is satisfied,convert the given number into a complex number\n",
    "n=12\n",
    "if(n%2==0 or n%6==0):\n",
    "    a=complex(n)\n",
    "    print(a)"
   ]
  },
  {
   "cell_type": "code",
   "execution_count": 13,
   "metadata": {},
   "outputs": [
    {
     "name": "stdout",
     "output_type": "stream",
     "text": [
      "['3', '0']\n"
     ]
    }
   ],
   "source": [
    "#5:wap to check whether a given input is divisible by 3 or 5.if the condition is satisfied, the number is converted to a list. i/p:30  o/p:['3','0']\n",
    "n=30\n",
    "if(n%3==0 or n%5==0):\n",
    "    n=str(n)\n",
    "    print(list(n))"
   ]
  },
  {
   "cell_type": "code",
   "execution_count": 16,
   "metadata": {},
   "outputs": [
    {
     "name": "stdout",
     "output_type": "stream",
     "text": [
      "True\n"
     ]
    }
   ],
   "source": [
    "#6:write a program to check whether a given number is multiple of 5 or not\n",
    "n=5\n",
    "if(n%5==0):\n",
    "    print(True)"
   ]
  },
  {
   "cell_type": "code",
   "execution_count": 17,
   "metadata": {},
   "outputs": [
    {
     "name": "stdout",
     "output_type": "stream",
     "text": [
      "0\n"
     ]
    }
   ],
   "source": [
    "#7:wap to check whether the given input is 0 or not if 0 print 0.\n",
    "n=0\n",
    "if n==0:\n",
    "    print(n)"
   ]
  },
  {
   "cell_type": "code",
   "execution_count": 20,
   "metadata": {},
   "outputs": [
    {
     "name": "stdout",
     "output_type": "stream",
     "text": [
      "Negative\n"
     ]
    }
   ],
   "source": [
    "#8:wap to check whether a number is negative. if negative. print a message negative\n",
    "n=-1\n",
    "if(n<0):\n",
    "    print('Negative')"
   ]
  },
  {
   "cell_type": "code",
   "execution_count": 28,
   "metadata": {},
   "outputs": [
    {
     "name": "stdout",
     "output_type": "stream",
     "text": [
      "[66]\n"
     ]
    }
   ],
   "source": [
    "#9:wap to check whether a number is even or not. if even, store the value inside the list\n",
    "n=66\n",
    "if(n%2==0):\n",
    "    b=[n]\n",
    "    print(b)"
   ]
  },
  {
   "cell_type": "code",
   "execution_count": 29,
   "metadata": {},
   "outputs": [
    {
     "name": "stdout",
     "output_type": "stream",
     "text": [
      "65\n"
     ]
    }
   ],
   "source": [
    "#10:wap to check whether a number is odd or not. if odd, store the value inside the tuple\n",
    "n=65\n",
    "if (n%2!=0):\n",
    "    b=(n)\n",
    "    print(n)"
   ]
  },
  {
   "cell_type": "code",
   "execution_count": 33,
   "metadata": {},
   "outputs": [
    {
     "name": "stdout",
     "output_type": "stream",
     "text": [
      "16\n"
     ]
    }
   ],
   "source": [
    "#11:wap to check if the given number is even or not. if it is yes, to print the power of 4 in a given number.\n",
    "n=2\n",
    "if(n%2==0):\n",
    "    print(n**4)"
   ]
  },
  {
   "cell_type": "code",
   "execution_count": 74,
   "metadata": {},
   "outputs": [
    {
     "name": "stdout",
     "output_type": "stream",
     "text": [
      "63\n"
     ]
    }
   ],
   "source": [
    "#12:wap to take the input from the user as a number and check whether it is a number or not. if yes. take the number and add some value and print it\n",
    "n=int(input('enter value'))\n",
    "if type(n)==int :\n",
    "    \n",
    "    print(n+8)"
   ]
  },
  {
   "cell_type": "code",
   "execution_count": 75,
   "metadata": {},
   "outputs": [
    {
     "name": "stdout",
     "output_type": "stream",
     "text": [
      "2\n"
     ]
    }
   ],
   "source": [
    "#13:wap to display hello world if the number is greater than 1 and lesser than 5\n",
    "n=2\n",
    "if(1<n<5):\n",
    "    print(n)"
   ]
  },
  {
   "cell_type": "code",
   "execution_count": 79,
   "metadata": {},
   "outputs": [
    {
     "name": "stdout",
     "output_type": "stream",
     "text": [
      "1225\n"
     ]
    }
   ],
   "source": [
    "#14:wap to check whether a given value is divisible by 5 and 7. if the value is divisible, display the square of the value\n",
    "n=35\n",
    "if n%5==0 and n%7==0:\n",
    "    print(n**2) "
   ]
  },
  {
   "cell_type": "code",
   "execution_count": 80,
   "metadata": {},
   "outputs": [
    {
     "name": "stdout",
     "output_type": "stream",
     "text": [
      "1\n"
     ]
    }
   ],
   "source": [
    "#15:wap to check whether a given value's last digit is greater than 5 or not. if greater, perform the bitwise right shift operator (skipping value is 2)\n",
    "n=7\n",
    "if(n%10)>5:\n",
    "    print(n>>2)"
   ]
  },
  {
   "cell_type": "code",
   "execution_count": 81,
   "metadata": {},
   "outputs": [
    {
     "name": "stdout",
     "output_type": "stream",
     "text": [
      "729\n"
     ]
    }
   ],
   "source": [
    "#16:wap to check whether a given value is divisible by 3 and less than 30. if the value is divisible,display the square of the values.\n",
    "n=27\n",
    "if n%3==0 and n<30:\n",
    "    print(n**2)"
   ]
  },
  {
   "cell_type": "code",
   "execution_count": 84,
   "metadata": {},
   "outputs": [
    {
     "name": "stdout",
     "output_type": "stream",
     "text": [
      "512\n"
     ]
    }
   ],
   "source": [
    "#17:wap to check whether a given value is an even number and divisible by 4. if satisfied, display the cube of the values.\n",
    "n=8\n",
    "if n%2==0 and n%4==0: \n",
    "    print(n**3)"
   ]
  },
  {
   "cell_type": "code",
   "execution_count": 86,
   "metadata": {},
   "outputs": [
    {
     "name": "stdout",
     "output_type": "stream",
     "text": [
      "[80]\n"
     ]
    }
   ],
   "source": [
    "#18:wap to check whether a given value is even or not. if even number, stores the value inside the list.\n",
    "n=80\n",
    "if n%2==0:\n",
    "    b=[n]\n",
    "    print(b)"
   ]
  },
  {
   "cell_type": "code",
   "execution_count": 33,
   "metadata": {},
   "outputs": [
    {
     "name": "stdout",
     "output_type": "stream",
     "text": [
      "6\n",
      "6\n"
     ]
    }
   ],
   "source": [
    "#19:wap to check whether a given value is a negative or even number. if satisfied, display the last digit of the values.\n",
    "n=-16\n",
    "if n<0 or n%2==0 :\n",
    "    \n",
    "    print(int(str(n)[-1]))\n",
    "    print(-n%10)\n"
   ]
  },
  {
   "cell_type": "code",
   "execution_count": 125,
   "metadata": {},
   "outputs": [
    {
     "name": "stdout",
     "output_type": "stream",
     "text": [
      "-64000\n"
     ]
    }
   ],
   "source": [
    "#20:wap to check whether a given value is a negative or odd number and divisible by 4. if satisfied,display the cube of the values.\n",
    "n=-40          \n",
    "if (n<0 or n%2!=0) and (n%4==0):\n",
    "    print(n**3)"
   ]
  },
  {
   "cell_type": "code",
   "execution_count": 139,
   "metadata": {},
   "outputs": [
    {
     "name": "stdout",
     "output_type": "stream",
     "text": [
      "D\n"
     ]
    }
   ],
   "source": [
    "#21:wap to check whether a given ascii value is divisible by 4 and even value. if satisfied, display the ascii character.\n",
    "n=68\n",
    "if n%4==0 and n%2==0:\n",
    "    print(chr(n))\n"
   ]
  },
  {
   "cell_type": "code",
   "execution_count": 142,
   "metadata": {},
   "outputs": [
    {
     "name": "stdout",
     "output_type": "stream",
     "text": [
      "P\n"
     ]
    }
   ],
   "source": [
    "'''22:wap to check whether a given value is present in between 45 to 125 \n",
    "and the number should be divisible by 4 and 5\n",
    " and even value.if satisfied,display the ascii character.'''\n",
    "n=80\n",
    "if 45<n<125 and n%4==0 and n%5==0 and n%2==0:\n",
    "    print(chr(n))\n"
   ]
  },
  {
   "cell_type": "code",
   "execution_count": 144,
   "metadata": {},
   "outputs": [
    {
     "name": "stdout",
     "output_type": "stream",
     "text": [
      "400\n"
     ]
    }
   ],
   "source": [
    "#23:wap to check whether a given value is resent in between 25 to 100 and the number should be divisible by 4 and 5.if satisfied, display multiplication of given value with 5.\n",
    "n=80\n",
    "if 25<n<100 and n%4==0 and n%5==0 :\n",
    "    print(n*5)"
   ]
  },
  {
   "cell_type": "code",
   "execution_count": 8,
   "metadata": {},
   "outputs": [
    {
     "name": "stdout",
     "output_type": "stream",
     "text": [
      "15.4\n"
     ]
    }
   ],
   "source": [
    "#24:wap to check whether a given number is an integer and odd number.if the condition is satisfied, the integer is divisible by 5 and display the result\n",
    "n=77\n",
    "if type(n)==int and n%2!=0:\n",
    "    print(n/5)\n"
   ]
  },
  {
   "cell_type": "code",
   "execution_count": 16,
   "metadata": {},
   "outputs": [
    {
     "name": "stdout",
     "output_type": "stream",
     "text": [
      "77 <class 'str'>\n"
     ]
    }
   ],
   "source": [
    "#25:wap to check whether a given value is an integer or not. if integer, the given value is converted to string and displays the result.\n",
    "n=77\n",
    "if type(n)==int :\n",
    "    n=str(n)\n",
    "    print(n,type(n))\n"
   ]
  },
  {
   "cell_type": "code",
   "execution_count": 20,
   "metadata": {},
   "outputs": [
    {
     "name": "stdout",
     "output_type": "stream",
     "text": [
      "r\n"
     ]
    }
   ],
   "source": [
    "#26:wap to check whether a given value is less then 125 and greater than 60 or not. if the condition is satisfied,take the name and extract the middle character and display it.\n",
    "n=77\n",
    "if 60<n<125:\n",
    "    name=input('enter your name:')\n",
    "    print(name[len(name)//2])"
   ]
  },
  {
   "cell_type": "code",
   "execution_count": 19,
   "metadata": {},
   "outputs": [
    {
     "name": "stdout",
     "output_type": "stream",
     "text": [
      "154\n"
     ]
    }
   ],
   "source": [
    "#27:wap to check whether a given two integers are equal or not. if both are equal, to perform addition and display the result.\n",
    "a=77\n",
    "b=77\n",
    "if a==b:\n",
    "    print(a+b)"
   ]
  },
  {
   "cell_type": "code",
   "execution_count": 22,
   "metadata": {},
   "outputs": [
    {
     "name": "stdout",
     "output_type": "stream",
     "text": [
      "3.0\n"
     ]
    }
   ],
   "source": [
    "#28:wap to check whether two  values are equal or not. if equal, to perform multiplication of two numbers and thant result is division by 3 and display the value.\n",
    "n=3\n",
    "a=3\n",
    "if n==a:\n",
    "    b=a*n\n",
    "    print(b/3)"
   ]
  },
  {
   "cell_type": "code",
   "execution_count": 31,
   "metadata": {},
   "outputs": [
    {
     "name": "stdout",
     "output_type": "stream",
     "text": [
      "{'A': 65}\n",
      "{'A': 65}\n"
     ]
    }
   ],
   "source": [
    "#29:wap to check whether a character is in the alphabet or not. if the alphabet, store the value inside the dict(key as a character and value as an ascii value)\n",
    "n='A'\n",
    "if 'a'<=n<='z'or 'A'<=n<='Z':\n",
    "    n=((n,ord(n)),)\n",
    "    print( dict(n))\n",
    "b='A'\n",
    "d={b:ord(b)}\n",
    "print(d)\n"
   ]
  },
  {
   "cell_type": "markdown",
   "metadata": {},
   "source": [
    "30.WAP to check whether a character is in the uppercase or not. If the uppercase, \n",
    "store the value inside the dict(key as a character and value as an ascii value)."
   ]
  },
  {
   "cell_type": "code",
   "execution_count": null,
   "metadata": {},
   "outputs": [],
   "source": []
  },
  {
   "cell_type": "code",
   "execution_count": 35,
   "metadata": {},
   "outputs": [
    {
     "name": "stdout",
     "output_type": "stream",
     "text": [
      "a\n",
      "{'a': 97}\n"
     ]
    }
   ],
   "source": [
    "#31:wap to check whether a character is in the uppercase or not. if the uppersase convert to lowercase and store the value inside the dict(key as a character and value as an ascii value)\n",
    "n='A'\n",
    "if 'A'<=n<='Z':\n",
    "    a=chr(ord(n)+32)\n",
    "    res={a:ord(n)+32}\n",
    "    print(a)\n",
    "    print(res)\n",
    "    "
   ]
  },
  {
   "cell_type": "code",
   "execution_count": 36,
   "metadata": {},
   "outputs": [
    {
     "name": "stdout",
     "output_type": "stream",
     "text": [
      "aaaaaaa\n"
     ]
    }
   ],
   "source": [
    "#32:wap to check whether a character is in the lowercase or not. if the lowercase, to perform the replication operation on that character.\n",
    "n='a'\n",
    "if 'a'<=n<='z':\n",
    "    print(n*7)"
   ]
  },
  {
   "cell_type": "code",
   "execution_count": 45,
   "metadata": {},
   "outputs": [
    {
     "name": "stdout",
     "output_type": "stream",
     "text": [
      "9\n"
     ]
    }
   ],
   "source": [
    "#33:wap to check whether a character is in the ascii number or not. if the ascii number. to convert into interger.\n",
    "n='9'\n",
    "if '0'<=n<='9':\n",
    "    print(int(n))"
   ]
  },
  {
   "cell_type": "markdown",
   "metadata": {},
   "source": [
    "34.WAP to check whether a character is in the special symbol or not. If the special \n",
    "symbol, to display a symbol with ascii value.\n"
   ]
  },
  {
   "cell_type": "code",
   "execution_count": null,
   "metadata": {},
   "outputs": [],
   "source": []
  },
  {
   "cell_type": "code",
   "execution_count": null,
   "metadata": {},
   "outputs": [],
   "source": []
  },
  {
   "cell_type": "code",
   "execution_count": null,
   "metadata": {},
   "outputs": [],
   "source": []
  },
  {
   "cell_type": "code",
   "execution_count": 57,
   "metadata": {},
   "outputs": [
    {
     "name": "stdout",
     "output_type": "stream",
     "text": [
      "27\n"
     ]
    }
   ],
   "source": [
    "#wap enven or odd, if true perform square of value,are else cube of the givne value\n",
    "n=3\n",
    "if n%2==0:\n",
    "    print(n**2)\n",
    "else:\n",
    "    print(n**3)"
   ]
  },
  {
   "cell_type": "markdown",
   "metadata": {},
   "source": [
    "wap to check wether given value is multivalue data type or not if it is multi value , to store the value inside set or else to convert into string."
   ]
  },
  {
   "cell_type": "code",
   "execution_count": 67,
   "metadata": {},
   "outputs": [
    {
     "name": "stdout",
     "output_type": "stream",
     "text": [
      "{332: 453, 2323: 44}\n"
     ]
    }
   ],
   "source": [
    "n=[332,453,2323,44]\n",
    "a=set()\n",
    "if type(n) in (str,list,tuple,set,dict):\n",
    "    a|=set(n)\n",
    "    print(a)\n",
    "else:\n",
    "  print(str(n))"
   ]
  },
  {
   "cell_type": "code",
   "execution_count": 75,
   "metadata": {},
   "outputs": [
    {
     "name": "stdout",
     "output_type": "stream",
     "text": [
      "mad\n"
     ]
    }
   ],
   "source": [
    "#wap to check given string is polindrome or not if polindrome print zeroth position to middle of the string, else display the rever string\n",
    "n='madam' # n='level'\n",
    "if n==n[::-1]:\n",
    "    print(n[0:(len(n)//2)+1])\n",
    "else:\n",
    "    print(n[::-1])"
   ]
  },
  {
   "cell_type": "markdown",
   "metadata": {},
   "source": [
    "wap to check starting character and middle char both are sequence or not , if sequence extract two characters and concate into given string.\n",
    "if not sequence, display the even index position values from given string"
   ]
  },
  {
   "cell_type": "code",
   "execution_count": 88,
   "metadata": {},
   "outputs": [
    {
     "name": "stdout",
     "output_type": "stream",
     "text": [
      "cn\n"
     ]
    }
   ],
   "source": [
    "n='amcan'\n",
    "a=n[0]\n",
    "if ord(n[0])==ord(n[len(n)//2])-1:\n",
    "    b=n+n[:2]\n",
    "    print(b)\n",
    "else:\n",
    "    print(n[2::2])"
   ]
  }
 ],
 "metadata": {
  "kernelspec": {
   "display_name": "Python 3",
   "language": "python",
   "name": "python3"
  },
  "language_info": {
   "codemirror_mode": {
    "name": "ipython",
    "version": 3
   },
   "file_extension": ".py",
   "mimetype": "text/x-python",
   "name": "python",
   "nbconvert_exporter": "python",
   "pygments_lexer": "ipython3",
   "version": "3.10.7"
  },
  "orig_nbformat": 4
 },
 "nbformat": 4,
 "nbformat_minor": 2
}
