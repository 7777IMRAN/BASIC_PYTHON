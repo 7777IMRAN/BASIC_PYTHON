{
 "cells": [
  {
   "cell_type": "code",
   "execution_count": 3,
   "metadata": {},
   "outputs": [
    {
     "name": "stdout",
     "output_type": "stream",
     "text": [
      "Positive\n"
     ]
    }
   ],
   "source": [
    "#1:wap to check whether a number is positive.If Positive,print a message Positive.\n",
    "n=7777\n",
    "if n>=0:\n",
    "    print('Positive')"
   ]
  },
  {
   "cell_type": "code",
   "execution_count": 5,
   "metadata": {},
   "outputs": [
    {
     "name": "stdout",
     "output_type": "stream",
     "text": [
      "hello world\n"
     ]
    }
   ],
   "source": [
    "#2:wap to display hello world if the number is greater than 1 and lesser than 5\n",
    "n=3\n",
    "if 1<n<5:\n",
    "    print('hello world')"
   ]
  },
  {
   "cell_type": "code",
   "execution_count": 6,
   "metadata": {},
   "outputs": [
    {
     "name": "stdout",
     "output_type": "stream",
     "text": [
      "fizz\n"
     ]
    }
   ],
   "source": [
    "#3:wap to check whether the given number is divisible by 3 or not if print fizz\n",
    "n=39\n",
    "if(n%3==0):\n",
    "    print('fizz')"
   ]
  },
  {
   "cell_type": "code",
   "execution_count": 11,
   "metadata": {},
   "outputs": [
    {
     "name": "stdout",
     "output_type": "stream",
     "text": [
      "(12+0j)\n"
     ]
    }
   ],
   "source": [
    "#4:wap to check whether given input is divisible by 2 and 6. if the condition is satisfied,convert the given number into a complex number\n",
    "n=12\n",
    "if(n%2==0 or n%6==0):\n",
    "    a=complex(n)\n",
    "    print(a)"
   ]
  },
  {
   "cell_type": "code",
   "execution_count": 13,
   "metadata": {},
   "outputs": [
    {
     "name": "stdout",
     "output_type": "stream",
     "text": [
      "['3', '0']\n"
     ]
    }
   ],
   "source": [
    "#5:wap to check whether a given input is divisible by 3 or 5.if the condition is satisfied, the number is converted to a list. i/p:30  o/p:['3','0']\n",
    "n=30\n",
    "if(n%3==0 or n%5==0):\n",
    "    n=str(n)\n",
    "    print(list(n))"
   ]
  },
  {
   "cell_type": "code",
   "execution_count": 16,
   "metadata": {},
   "outputs": [
    {
     "name": "stdout",
     "output_type": "stream",
     "text": [
      "True\n"
     ]
    }
   ],
   "source": [
    "#6:write a program to check whether a given number is multiple of 5 or not\n",
    "n=5\n",
    "if(n%5==0):\n",
    "    print(True)"
   ]
  },
  {
   "cell_type": "code",
   "execution_count": 17,
   "metadata": {},
   "outputs": [
    {
     "name": "stdout",
     "output_type": "stream",
     "text": [
      "0\n"
     ]
    }
   ],
   "source": [
    "#7:wap to check whether the given input is 0 or not if 0 print 0.\n",
    "n=0\n",
    "if n==0:\n",
    "    print(n)"
   ]
  },
  {
   "cell_type": "code",
   "execution_count": 20,
   "metadata": {},
   "outputs": [
    {
     "name": "stdout",
     "output_type": "stream",
     "text": [
      "Negative\n"
     ]
    }
   ],
   "source": [
    "#8:wap to check whether a number is negative. if negative. print a message negative\n",
    "n=-1\n",
    "if(n<0):\n",
    "    print('Negative')"
   ]
  },
  {
   "cell_type": "code",
   "execution_count": 28,
   "metadata": {},
   "outputs": [
    {
     "name": "stdout",
     "output_type": "stream",
     "text": [
      "[66]\n"
     ]
    }
   ],
   "source": [
    "#9:wap to check whether a number is even or not. if even, store the value inside the list\n",
    "n=66\n",
    "if(n%2==0):\n",
    "    b=[n]\n",
    "    print(b)"
   ]
  },
  {
   "cell_type": "code",
   "execution_count": 29,
   "metadata": {},
   "outputs": [
    {
     "name": "stdout",
     "output_type": "stream",
     "text": [
      "65\n"
     ]
    }
   ],
   "source": [
    "#10:wap to check whether a number is odd or not. if odd, store the value inside the tuple\n",
    "n=65\n",
    "if (n%2!=0):\n",
    "    b=(n)\n",
    "    print(n)"
   ]
  },
  {
   "cell_type": "code",
   "execution_count": 33,
   "metadata": {},
   "outputs": [
    {
     "name": "stdout",
     "output_type": "stream",
     "text": [
      "16\n"
     ]
    }
   ],
   "source": [
    "#11:wap to check if the given number is even or not. if it is yes, to print the power of 4 in a given number.\n",
    "n=2\n",
    "if(n%2==0):\n",
    "    print(n**4)"
   ]
  },
  {
   "cell_type": "code",
   "execution_count": 74,
   "metadata": {},
   "outputs": [
    {
     "name": "stdout",
     "output_type": "stream",
     "text": [
      "63\n"
     ]
    }
   ],
   "source": [
    "#12:wap to take the input from the user as a number and check whether it is a number or not. if yes. take the number and add some value and print it\n",
    "n=int(input('enter value'))\n",
    "if type(n)==int :\n",
    "    \n",
    "    print(n+8)"
   ]
  },
  {
   "cell_type": "code",
   "execution_count": 75,
   "metadata": {},
   "outputs": [
    {
     "name": "stdout",
     "output_type": "stream",
     "text": [
      "2\n"
     ]
    }
   ],
   "source": [
    "#13:wap to display hello world if the number is greater than 1 and lesser than 5\n",
    "n=2\n",
    "if(1<n<5):\n",
    "    print(n)"
   ]
  },
  {
   "cell_type": "code",
   "execution_count": 79,
   "metadata": {},
   "outputs": [
    {
     "name": "stdout",
     "output_type": "stream",
     "text": [
      "1225\n"
     ]
    }
   ],
   "source": [
    "#14:wap to check whether a given value is divisible by 5 and 7. if the value is divisible, display the square of the value\n",
    "n=35\n",
    "if n%5==0 and n%7==0:\n",
    "    print(n**2) "
   ]
  },
  {
   "cell_type": "code",
   "execution_count": 80,
   "metadata": {},
   "outputs": [
    {
     "name": "stdout",
     "output_type": "stream",
     "text": [
      "1\n"
     ]
    }
   ],
   "source": [
    "#15:wap to check whether a given value's last digit is greater than 5 or not. if greater, perform the bitwise right shift operator (skipping value is 2)\n",
    "n=7\n",
    "if(n%10)>5:\n",
    "    print(n>>2)"
   ]
  },
  {
   "cell_type": "code",
   "execution_count": 81,
   "metadata": {},
   "outputs": [
    {
     "name": "stdout",
     "output_type": "stream",
     "text": [
      "729\n"
     ]
    }
   ],
   "source": [
    "#16:wap to check whether a given value is divisible by 3 and less than 30. if the value is divisible,display the square of the values.\n",
    "n=27\n",
    "if n%3==0 and n<30:\n",
    "    print(n**2)"
   ]
  },
  {
   "cell_type": "code",
   "execution_count": 84,
   "metadata": {},
   "outputs": [
    {
     "name": "stdout",
     "output_type": "stream",
     "text": [
      "512\n"
     ]
    }
   ],
   "source": [
    "#17:wap to check whether a given value is an even number and divisible by 4. if satisfied, display the cube of the values.\n",
    "n=8\n",
    "if n%2==0 and n%4==0: \n",
    "    print(n**3)"
   ]
  },
  {
   "cell_type": "code",
   "execution_count": 86,
   "metadata": {},
   "outputs": [
    {
     "name": "stdout",
     "output_type": "stream",
     "text": [
      "[80]\n"
     ]
    }
   ],
   "source": [
    "#18:wap to check whether a given value is even or not. if even number, stores the value inside the list.\n",
    "n=80\n",
    "if n%2==0:\n",
    "    b=[n]\n",
    "    print(b)"
   ]
  },
  {
   "cell_type": "code",
   "execution_count": 120,
   "metadata": {},
   "outputs": [
    {
     "name": "stdout",
     "output_type": "stream",
     "text": [
      "9\n"
     ]
    }
   ],
   "source": [
    "#19:wap to check whether a given value is a negative or even number. if satisfied, display the last digit of the values.\n",
    "n=-59\n",
    "if n<0 or n%2==0 :\n",
    "    \n",
    "    print(int(str(n)[-1]))\n",
    "    #print(n%10)\n"
   ]
  },
  {
   "cell_type": "code",
   "execution_count": 125,
   "metadata": {},
   "outputs": [
    {
     "name": "stdout",
     "output_type": "stream",
     "text": [
      "-64000\n"
     ]
    }
   ],
   "source": [
    "#20:wap to check whether a given value is a negative or odd number and divisible by 4. if satisfied,display the cube of the values.\n",
    "n=-40          \n",
    "if (n<0 or n%2!=0) and (n%4==0):\n",
    "    print(n**3)"
   ]
  },
  {
   "cell_type": "code",
   "execution_count": 139,
   "metadata": {},
   "outputs": [
    {
     "name": "stdout",
     "output_type": "stream",
     "text": [
      "D\n"
     ]
    }
   ],
   "source": [
    "#21:wap to check whether a given ascii value is divisible by 4 and even value. if satisfied, display the ascii character.\n",
    "n=68\n",
    "if n%4==0 and n%2==0:\n",
    "    print(chr(n))\n"
   ]
  },
  {
   "cell_type": "code",
   "execution_count": 142,
   "metadata": {},
   "outputs": [
    {
     "name": "stdout",
     "output_type": "stream",
     "text": [
      "P\n"
     ]
    }
   ],
   "source": [
    "'''22:wap to check whether a given value is present in between 45 to 125 \n",
    "and the number should be divisible by 4 and 5\n",
    " and even value.if satisfied,display the ascii character.'''\n",
    "n=80\n",
    "if 45<n<125 and n%4==0 and n%5==0 and n%2==0:\n",
    "    print(chr(n))\n"
   ]
  },
  {
   "cell_type": "code",
   "execution_count": 144,
   "metadata": {},
   "outputs": [
    {
     "name": "stdout",
     "output_type": "stream",
     "text": [
      "400\n"
     ]
    }
   ],
   "source": [
    "#23:wap to check whether a given value is resent in between 25 to 100 and the number should be divisible by 4 and 5.if satisfied, display multiplication of given value with 5.\n",
    "n=80\n",
    "if 25<n<100 and n%4==0 and n%5==0 :\n",
    "    print(n*5)"
   ]
  }
 ],
 "metadata": {
  "kernelspec": {
   "display_name": "Python 3",
   "language": "python",
   "name": "python3"
  },
  "language_info": {
   "codemirror_mode": {
    "name": "ipython",
    "version": 3
   },
   "file_extension": ".py",
   "mimetype": "text/x-python",
   "name": "python",
   "nbconvert_exporter": "python",
   "pygments_lexer": "ipython3",
   "version": "3.10.7"
  },
  "orig_nbformat": 4
 },
 "nbformat": 4,
 "nbformat_minor": 2
}
