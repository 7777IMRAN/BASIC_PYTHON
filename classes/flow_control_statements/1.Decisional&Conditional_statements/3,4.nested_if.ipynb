{
 "cells": [
  {
   "cell_type": "code",
   "execution_count": 96,
   "metadata": {},
   "outputs": [
    {
     "name": "stdout",
     "output_type": "stream",
     "text": [
      "15.0\n"
     ]
    }
   ],
   "source": [
    "#wap to check value + or -\n",
    "# and check even or not , if even didplay half value , if odd display sqaure of given value\n",
    "# if -ve value display absolute value\n",
    "a=30\n",
    "if a>0:\n",
    "    if a%2==0:\n",
    "        print(a/2)\n",
    "    elif a%2!=0:\n",
    "        print(a**2)\n",
    "elif a==0:\n",
    "    print('value is nutral')\n",
    "\n",
    "else:\n",
    "    print(-a)\n",
    "    print(abs(a)) #abs(): absolute function."
   ]
  },
  {
   "cell_type": "code",
   "execution_count": 123,
   "metadata": {},
   "outputs": [
    {
     "name": "stdout",
     "output_type": "stream",
     "text": [
      "{(33, 54)}\n"
     ]
    }
   ],
   "source": [
    "#wap to check the given character is alphabet or not, if alphabet check uppercase or not , if uppercase convert to lowercase\n",
    "# if lowercase convert to upper case\n",
    "#if given caracter is ascii number, store ascii caracter and ascii value in string\n",
    "# if special character display previous given and next character\n",
    "#if not a special charecter store the value inside the set\n",
    "a=[33,54]\n",
    "if type(a)==str and len(a)==1:\n",
    "    if type(a)==str and len(a)==1 and 'a'<=a<='z' or 'A'<=a<='Z':\n",
    "         if 'A'<=a<='Z':\n",
    "          print(chr(ord(a)+32))\n",
    "         elif 'a'<=a<='z': #or else: block\n",
    "          print(chr(ord(a)-32))\n",
    "    elif type(a)==str and len(a)==1 and'0'<=a<='9':\n",
    "         n=a+str(ord(a))\n",
    "         print(n)\n",
    "    else:\n",
    "        n=chr(ord(a)-1)+a+chr(ord(a)+1)\n",
    "        print(n)\n",
    "else:\n",
    "       if type(a) in[list,set,dict]:\n",
    "          a={tuple(a)}\n",
    "          print(a)\n",
    "       else:\n",
    "          a={a}\n",
    "          print(set(tuple(a)))\n"
   ]
  },
  {
   "cell_type": "code",
   "execution_count": 119,
   "metadata": {},
   "outputs": [
    {
     "name": "stdout",
     "output_type": "stream",
     "text": [
      "{(787, 999)}\n"
     ]
    }
   ],
   "source": [
    "ch=(787,999) #sir\n",
    "s=''\n",
    "d=set()\n",
    "if type(ch)==str and len(ch)==1:\n",
    "    if 'A'<=ch<='Z' or 'a'<=ch<='z':\n",
    "        if 'A'<=ch<='Z':\n",
    "            a=chr(ord(ch)+32)\n",
    "            print(a)\n",
    "        else:\n",
    "            a=chr(ord(ch)-32)\n",
    "            print(a)\n",
    "    elif '0'<=ch<='9':\n",
    "        s+=ch+str(ord(ch))\n",
    "        print(s)\n",
    "    else:\n",
    "        print(chr(ord(ch)-1),ch,chr(ord(ch)+1))\n",
    "else:\n",
    "    if type(ch) in [list,set,dict]: #[list,tuple,set,dict]\n",
    "        d|={tuple(ch)}\n",
    "        print(d)\n",
    "    else:\n",
    "        d|={ch}\n",
    "        print(d)"
   ]
  },
  {
   "cell_type": "code",
   "execution_count": 99,
   "metadata": {},
   "outputs": [],
   "source": [
    "#wap to check given two values are same collection or not, \n",
    "#if same collection check collection are list or not ,\n",
    "# if list concate both the collection withought changing first collection address\n",
    "#if collection is dict, modify the first dict by the help of  second dict witought changinge the fist dict address\n",
    "# if both collection are not same concate both the collection\n",
    "# if both are numbers perform multiplication\n",
    "#if any of value is bool or None , convert to string\n",
    "#if both values are complex , extract only imaginary value and store in complex.\n",
    "# if both values are in bytes display the ascii value without ord()\n",
    "#or else print invalide"
   ]
  },
  {
   "cell_type": "code",
   "execution_count": 8,
   "metadata": {},
   "outputs": [
    {
     "name": "stdout",
     "output_type": "stream",
     "text": [
      "<class 'NoneType'><class 'NoneType'> <class 'str'>\n"
     ]
    }
   ],
   "source": [
    "# # a=None;b='sdssds'\n",
    "# # a = {1:2, 3:4}; b=(40, 50, 60)\n",
    "# # a=4.5;b=5.3\n",
    "# # a=b'9';b=b'84'\n",
    "# # a=b'a';b=b'b'\n",
    "# # a= type(None);b=type(None)\n",
    "# if type(a)==type(b) in[str,list,tuple,set,dict]:\n",
    "#     if type(a)==list:\n",
    "#         a+=b\n",
    "#         print(a)\n",
    "#     elif type(a)==dict:\n",
    "#         a|=b\n",
    "#         print(a)\n",
    "#     else:\n",
    "#         print('both collection are same type, but not in list/dict formate')\n",
    "# elif type(a)==type(b) in[int,float,complex,bytes]:\n",
    "#     if type(a)==int or type(a)==float:\n",
    "#         print(a*b)\n",
    "#     elif type(a)==bytes and len(a)==1 and len(b)==1:\n",
    "#         c=list(a)[0]\n",
    "#         r=list(b)[0]\n",
    "#         print(c)\n",
    "#         print(r)\n",
    "\n",
    "#     elif type(a)==complex:\n",
    "#         c=complex(a.imag,b.imag)\n",
    "#         print(c)\n",
    "#     else:\n",
    "#         print('invalid value')\n",
    "# elif type(a)in[bool,type(None)] or type(b)in[bool,type(None)]:\n",
    "#    s=str(a)\n",
    "#    w=str(b)\n",
    "#    print(s,w)\n",
    "\n",
    "   \n",
    "\n",
    "\n",
    "# else:\n",
    "#     s=str(a)+str(b)\n",
    "#     print(s, type(s))\n",
    "\n",
    "\n",
    "\n",
    "\n",
    "\n"
   ]
  },
  {
   "cell_type": "code",
   "execution_count": 59,
   "metadata": {},
   "outputs": [
    {
     "name": "stdout",
     "output_type": "stream",
     "text": [
      "44,88{33: 44}\n"
     ]
    }
   ],
   "source": [
    "a='44,88';b={33:44}\n",
    "if type(a)!=type(b):\n",
    "    if type(a) not in[set,dict]:\n",
    "        b=type(a)(b)\n",
    "        a+=b\n",
    "        print(a)"
   ]
  },
  {
   "cell_type": "markdown",
   "metadata": {},
   "source": [
    "# wap to check given two values are same collection or not, \n",
    "# if same collection check collection are list or not,\n",
    "# if list concate both the collection withought changing first collection address\n",
    "# if collection is dict, modify the first dict by the help of  second dict witought changinge the fist dict address\n",
    "# if both collection are not same concate both the collection\n",
    "# if both are numbers perform multiplication\n",
    "# if any of value is bool or None , convert to string\n",
    "# if both values are complex , extract only imaginary value and store in complex.\n",
    "# if both values are in bytes display the ascii value without ord()\n",
    "# or else print invalide value"
   ]
  },
  {
   "cell_type": "code",
   "execution_count": 21,
   "metadata": {},
   "outputs": [
    {
     "name": "stdout",
     "output_type": "stream",
     "text": [
      "True None\n"
     ]
    }
   ],
   "source": [
    "# a=[33,229,99];b=[33.22,99,33]\n",
    "# a= {33:88,22:90}; b={333:77, 66:34}\n",
    "# a=3.3;b=3.0\n",
    "# a=20;b=20\n",
    "# a=33;b=32.49\n",
    "# a=2;b=3+2j\n",
    "#a=b'a';b=b'9'\n",
    "# a=b'A';b=b'Bk'\n",
    "# a=3+2j;b=4+8j\n",
    "# a=False;b=True\n",
    "# a=False;b=None\n",
    "# a=False;b=False\n",
    "# a=None;b=None\n",
    "# a=None;b=True\n",
    "# a=None;b=False\n",
    "# a=True;b=True\n",
    "# a=True;b=False\n",
    "a=True;b=None\n",
    "# a=True;b=b'4'\n",
    "# a={33:44,22:88,'dsfs':'dsf'};b=(33,22,44)\n",
    "# a=(44,33,22);b={33:222,'sdf':99}   #------------\n",
    "# a=(32,49,20);b={'SDF',323,'adfd'}\n",
    "# a=[33,22,55];b=(21,449,4043)\n",
    "# a={33,23,44};b={33,432}\n",
    "# a='sdfd';b='jkjks'\n",
    "# a=[32,44,22,99];b='dfslj'\n",
    "# a='sdfsf';b=[323,'dfss',939]       #------------\n",
    "# a='sdfs';b={32,43,'dsf'}\n",
    "# a='dfsa';b={'dfs':'dfs',32:399}\n",
    "# a=('#',);b=b'7'                      #---\n",
    "# a=b'7';b=('#',)\n",
    "# a=(322,54);b=3\n",
    "# a=(42,433);b=32.34\n",
    "# a=(42,433);b=4+9j\n",
    "# a=(42,433);b=True\n",
    "# a=(42,433);b=None\n",
    "# a=[42,433];b=4+83j\n",
    "# a='#';b=b'a'\n",
    "# a=33;b=True\n",
    "# a={32,432,5434};b=2\n",
    "# a={32,432,5434};b=b'432'\n",
    "# a={32,432,5434};b={32:53,'dfs':42}\n",
    "# a={'dfs',32,3294};b='dfsjk'\n",
    "# a=b'1010';b=b'1100'\n",
    "if type(a)==type(b) in [str,list,tuple,set,dict]:\n",
    "    if type(a)==list:\n",
    "        a+=b\n",
    "        print(a)\n",
    "    elif type(a)==dict:\n",
    "        a|=b\n",
    "        print(a)\n",
    "    else:\n",
    "        print('both collection are same type, but not in list/dict formate-N0 OPERATION GIVEN TO PERFORM')\n",
    "elif type(a) in [int,float,complex] and type(b) in [int,float,complex]:\n",
    "    if type(a)==complex==type(b):\n",
    "        c=complex(a.imag,b.imag) # d=complex(imag=a.imag),complex(imag=b.imag)\n",
    "        print(c)\n",
    "    else:\n",
    "        print(a*b)\n",
    "elif type(a) in [bool,type(None)] or type(b) in [bool,type(None)]:\n",
    "    c=str(a)\n",
    "    d=str(b)\n",
    "    print(c,d)\n",
    "elif type(a)==bytes==type(b):    \n",
    "    if len(a)==1==len(b):\n",
    "      a=list(a)[0] #a=a[0]\n",
    "      b=list(b)[0] #b=b[0]\n",
    "      print(a,b)\n",
    "    else:\n",
    "       print('give bytes length 1')\n",
    "elif type(a) in [str,list,tuple,set,dict] and type(b) in [str,list,tuple,set,dict]:\n",
    "    if type(a)==dict:\n",
    "        a['key']=b\n",
    "        print(a) \n",
    "    elif type(a)==str :\n",
    "        a+=str(b)\n",
    "        print(a)\n",
    "    else:\n",
    "        a+=tuple(b)\n",
    "        print(a)\n",
    "elif type(a) in [int,float,complex,bytes,str,list,tuple,set,dict] and type(b) in [int,float,complex,bytes,str,list,tuple,set,dict]:\n",
    "        print('no operation is given to perform ')\n",
    "else:\n",
    "    print('invalid value')\n"
   ]
  },
  {
   "cell_type": "code",
   "execution_count": 5,
   "metadata": {},
   "outputs": [
    {
     "name": "stdout",
     "output_type": "stream",
     "text": [
      "[33, 229, 99, 33.22, 99, 33]\n"
     ]
    }
   ],
   "source": [
    "#---------\n",
    "a=[33,229,99];b=[33.22,99,33]\n",
    "# a= {33:88,22:90}; b={333:77, 66:34}\n",
    "# a=3.3;b=3.0\n",
    "# a=20;b=20\n",
    "# a=33;b=32.49\n",
    "# a=2;b=3+2j\n",
    "#a=b'a';b=b'9'\n",
    "# a=b'A';b=b'Bk'\n",
    "# a=3+2j;b=4+8j\n",
    "# a=False;b=True\n",
    "# a=False;b=None\n",
    "# a=False;b=False\n",
    "# a=None;b=None\n",
    "# a=None;b=True\n",
    "# a=None;b=False\n",
    "# a=True;b=True\n",
    "# a=True;b=False\n",
    "# a=True;b=None\n",
    "# a=True;b=b'4'\n",
    "# a={33:44,22:88,'dsfs':'dsf'};b=(33,22,44)\n",
    "# a=(44,33,22);b={33:222,'sdf':99}   #------------\n",
    "# a=(32,49,20);b={'SDF',323,'adfd'}\n",
    "# a=[33,22,55];b=(21,449,4043)\n",
    "# a={33,23,44};b={33,432}\n",
    "# a='sdfd';b='jkjks'\n",
    "# a=[32,44,22,99];b='dfslj'\n",
    "# a='sdfsf';b=[323,'dfss',939]       #------------\n",
    "# a='sdfs';b={32,43,'dsf'}\n",
    "# a='dfsa';b={'dfs':'dfs',32:399}\n",
    "# a=('#',);b=b'7'                      #---\n",
    "# a=b'7';b=('#',)\n",
    "# a=(322,54);b=3\n",
    "# a=(42,433);b=32.34\n",
    "# a=(42,433);b=4+9j\n",
    "# a=(42,433);b=True\n",
    "# a=(42,433);b=None\n",
    "# a=[42,433];b=4+83j\n",
    "# a='#';b=b'a'\n",
    "# a=33;b=True\n",
    "# a={32,432,5434};b=2\n",
    "# a={32,432,5434};b=b'432'\n",
    "# a={32,432,5434};b={32:53,'dfs':42}\n",
    "# a={'dfs',32,3294};b='dfsjk'\n",
    "# a=b'1010';b=b'1100'\n",
    "if type(a)==type(b) in[str,list,tuple,set,dict]and type(b) in[str,list,tuple,set,dict]:\n",
    "    if type(a)==list and type(b)==list:\n",
    "        a+=b\n",
    "        print(a)\n",
    "    elif type(a)==dict and type(b)==dict:\n",
    "        a|=b\n",
    "        print(a)\n",
    "    else:\n",
    "        res=list(a)+list(b)\n",
    "        print(res)\n",
    "elif type(a)!=type(b) and type(a) in [str,list,tuple,set,dict] and type(b) in [str,list,tuple,set,dict]:\n",
    "    res=list(a)+list(b)\n",
    "    print(res)\n",
    "else:\n",
    "    if type(a)==complex and type(b)==complex:\n",
    "        print(complex(imag=a.imag)),complex(imag=b.imag)\n",
    "    elif type(a)in[int,float,complex] and type(b)in[int,float,complex]:\n",
    "        res=a*b\n",
    "        print(res)\n",
    "    elif type(a)in[bool,type(None)] or type(b)in[bool,type(None)]:\n",
    "        print(str(a),str(b))\n",
    "    else:\n",
    "        print('invalid')\n"
   ]
  },
  {
   "cell_type": "code",
   "execution_count": 18,
   "metadata": {},
   "outputs": [
    {
     "name": "stdout",
     "output_type": "stream",
     "text": [
      "False 2601599250032\n",
      "2601518653552\n"
     ]
    }
   ],
   "source": [
    "#--------\n",
    "a='1as '\n",
    "b='1as '\n",
    "print(id(a)==id(b),id(a))\n",
    "print(id('1'))"
   ]
  }
 ],
 "metadata": {
  "kernelspec": {
   "display_name": "Python 3",
   "language": "python",
   "name": "python3"
  },
  "language_info": {
   "codemirror_mode": {
    "name": "ipython",
    "version": 3
   },
   "file_extension": ".py",
   "mimetype": "text/x-python",
   "name": "python",
   "nbconvert_exporter": "python",
   "pygments_lexer": "ipython3",
   "version": "3.10.7"
  },
  "orig_nbformat": 4
 },
 "nbformat": 4,
 "nbformat_minor": 2
}
